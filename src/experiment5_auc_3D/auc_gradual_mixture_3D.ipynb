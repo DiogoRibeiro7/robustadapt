{
 "cells": [
  {
   "cell_type": "code",
   "execution_count": 1,
   "id": "elementary-court",
   "metadata": {},
   "outputs": [],
   "source": [
    "%matplotlib inline\n",
    "\n",
    "import numpy as np\n",
    "from scipy.stats import multivariate_normal, norm, ks_2samp\n",
    "import pandas as pd\n",
    "\n",
    "import matplotlib.pyplot as plt\n",
    "import seaborn as sns\n",
    "\n",
    "import os\n",
    "import pickle\n",
    "\n",
    "from copy import deepcopy\n",
    "\n",
    "import time\n",
    "\n",
    "#import tqdm\n",
    "from tqdm.notebook import tqdm"
   ]
  },
  {
   "cell_type": "code",
   "execution_count": 2,
   "id": "tested-procurement",
   "metadata": {},
   "outputs": [],
   "source": [
    "from sklearn.mixture import GaussianMixture\n",
    "from sklearn.datasets import make_spd_matrix\n",
    "from sklearn.metrics import roc_curve, auc\n",
    "\n",
    "from skmultiflow.drift_detection.adwin import ADWIN\n",
    "from skmultiflow.drift_detection.ddm import DDM\n",
    "from skmultiflow.drift_detection.eddm import EDDM\n",
    "from skmultiflow.drift_detection.hddm_a import HDDM_A\n",
    "from skmultiflow.drift_detection.hddm_w import HDDM_W\n",
    "from skmultiflow.drift_detection.kswin import KSWIN\n",
    "from skmultiflow.drift_detection.page_hinkley import PageHinkley"
   ]
  },
  {
   "cell_type": "code",
   "execution_count": 3,
   "id": "regulation-cotton",
   "metadata": {},
   "outputs": [],
   "source": [
    "outdir = './output/synthetic/multivariate/gradual_mixture'\n",
    "if not os.path.exists(outdir):\n",
    "    os.makedirs(outdir)"
   ]
  },
  {
   "cell_type": "code",
   "execution_count": 4,
   "id": "warming-arabic",
   "metadata": {},
   "outputs": [],
   "source": [
    "def _getAplus(A):\n",
    "    eigval, eigvec = np.linalg.eig(A)\n",
    "    Q = np.matrix(eigvec)\n",
    "    xdiag = np.matrix(np.diag(np.maximum(eigval, 0)))\n",
    "    return Q*xdiag*Q.T\n",
    "\n",
    "def _getPs(A, W=None):\n",
    "    W05 = np.matrix(W**.5)\n",
    "    return  W05.I * _getAplus(W05 * A * W05) * W05.I\n",
    "\n",
    "def _getPu(A, W=None):\n",
    "    Aret = np.array(A.copy())\n",
    "    Aret[W > 0] = np.array(W)[W > 0]\n",
    "    return np.matrix(Aret)\n",
    "\n",
    "#def nearPD(A, nit=10):\n",
    "def nearPD(A, nit=100):\n",
    "    n = A.shape[0]\n",
    "    W = np.identity(n) \n",
    "# W is the matrix used for the norm (assumed to be Identity matrix here)\n",
    "# the algorithm should work for any diagonal W\n",
    "    deltaS = 0\n",
    "    Yk = A.copy()\n",
    "    for k in range(nit):\n",
    "        Rk = Yk - deltaS\n",
    "        Xk = _getPs(Rk, W=W)\n",
    "        deltaS = Xk - Rk\n",
    "        Yk = _getPu(Xk, W=W)\n",
    "    return Yk"
   ]
  },
  {
   "cell_type": "code",
   "execution_count": 5,
   "id": "after-morrison",
   "metadata": {},
   "outputs": [],
   "source": [
    "class Theta:\n",
    "    def __init__(self, pi, mu, sigma):\n",
    "        self.pi = pi\n",
    "        self.mu = mu\n",
    "        self.sigma = sigma"
   ]
  },
  {
   "cell_type": "code",
   "execution_count": 6,
   "id": "alternate-composite",
   "metadata": {},
   "outputs": [],
   "source": [
    "def compute_tau(X, theta, eps=1e-12):\n",
    "    #N = X.shape[0]\n",
    "    K = len(theta.pi)\n",
    "    \n",
    "    #D = X.shape[1]\n",
    "    D = X.shape[-1]    \n",
    "    N = X.shape[-2]\n",
    "    \n",
    "    dim_X = len(X.shape)\n",
    "        \n",
    "    tau = np.zeros((N, K))\n",
    "    for k in range(K):\n",
    "        if D == 1:\n",
    "            d_k = norm(theta.mu[k], np.sqrt(theta.sigma[k]))\n",
    "        else:\n",
    "            #if np.any(np.linalg.eigvals(theta.sigma[k, :, :]) <= 0.0):\n",
    "            #    theta.sigma[k, :, :] = nearPD(theta.sigma[k, :, :])\n",
    "            #d_k = multivariate_normal(theta.mu[k, :], theta.sigma[k, :, :])\n",
    "            try:\n",
    "                d_k = multivariate_normal(theta.mu[k, :], theta.sigma[k, :, :], \n",
    "                                          allow_singular=True)\n",
    "            except:\n",
    "                d_k = multivariate_normal(theta.mu[k, :], nearPD(theta.sigma[k, :, :]), \n",
    "                                          allow_singular=True)\n",
    "        \n",
    "        for i in range(N):\n",
    "            if dim_X == 3:\n",
    "                tau[i, k] = theta.pi[k] * d_k.pdf(X[k, i, :])\n",
    "            elif dim_X == 2:\n",
    "                tau[i, k] = theta.pi[k] * d_k.pdf(X[i, :])\n",
    "                \n",
    "    tau /= np.sum(tau, axis=1, keepdims=True)\n",
    "    \n",
    "    return tau"
   ]
  },
  {
   "cell_type": "code",
   "execution_count": 7,
   "id": "excessive-pearl",
   "metadata": {},
   "outputs": [],
   "source": [
    "def compute_stat(X, Z):\n",
    "    #N = X.shape[0]\n",
    "    K = Z.shape[1]\n",
    "    #D = X.shape[1]\n",
    "    \n",
    "    dim_X = len(X.shape)\n",
    "    D = X.shape[-1]    \n",
    "    N = X.shape[-2]\n",
    "    \n",
    "    #s1 = np.sum(Z, axis=0, keepdims=True)\n",
    "    s1 = np.sum(Z.T, axis=1, keepdims=True)\n",
    "    #s1 = np.mean(Z, axis=0, keepdims=True)\n",
    "    #print('s1.shape:', s1.shape)\n",
    "    s2 = X.T.dot(Z).T\n",
    "    #s2 = np.einsum('kij,ik->kj', X, Z)\n",
    "    #print('s2.shape:', s2.shape)\n",
    "    \n",
    "    if dim_X == 2:\n",
    "        s3 = np.einsum('ijk,il->ljk', np.array([np.outer(X[i, :], X[i, :]) for i in range(X.shape[0])]), Z)\n",
    "    else:\n",
    "        s3 = np.einsum('kijl,ik->kjl', np.array([[np.outer(X[k, i, :], X[k, i, :]) for i in range(X.shape[0])] for k in range(K)]), Z)\n",
    "    #print('s3.shape:', s3.shape)\n",
    "    \n",
    "    return s1, s2, s3"
   ]
  },
  {
   "cell_type": "code",
   "execution_count": 8,
   "id": "capable-newport",
   "metadata": {},
   "outputs": [],
   "source": [
    "def step_M(s, x, eps=1e-8):\n",
    "    #print('s.s1')\n",
    "    #print(s.s1)\n",
    "    #print('s.s2')\n",
    "    #print(s.s2)\n",
    "    #print('s.s3')\n",
    "    #print(s.s3)\n",
    "\n",
    "    pi = (s.s1 + eps) / (1.0 + eps * len(s.s1))\n",
    "    mu = s.s2 / (s.s1 + eps)\n",
    "    sigma = s.s3 / (s.s1 + eps).reshape(len(s.s1), 1, 1) - np.einsum('ij,ik->ijk', mu, mu)\n",
    "\n",
    "    #print('pi')\n",
    "    #print(pi)\n",
    "    #print('mu')\n",
    "    #print(mu)\n",
    "    #print('sigma')\n",
    "    #print(sigma)\n",
    "    \n",
    "    return pi, mu, sigma"
   ]
  },
  {
   "cell_type": "code",
   "execution_count": 9,
   "id": "located-thing",
   "metadata": {},
   "outputs": [],
   "source": [
    "class SuffStat:\n",
    "    def __init__(self):\n",
    "        pass"
   ]
  },
  {
   "cell_type": "code",
   "execution_count": 10,
   "id": "coastal-sauce",
   "metadata": {},
   "outputs": [],
   "source": [
    "class SuffStatGMM(SuffStat):\n",
    "    def __init__(self, K, D, seed=0):\n",
    "        super().__init__()\n",
    "        np.random.seed(seed)\n",
    "        self.s1 = np.random.dirichlet([1.0]*K).reshape(-1, 1)\n",
    "        self.s2 = np.random.random((K, D))\n",
    "        self.s3 = np.random.random((K, D, D))"
   ]
  },
  {
   "cell_type": "code",
   "execution_count": 11,
   "id": "devoted-circle",
   "metadata": {},
   "outputs": [],
   "source": [
    "def calc_falarms_benefit(scores, change_points, start=None, end=None, h=100, T=100, N_thr=100, eps=1e-2):\n",
    "    scores_max, scores_min = np.nanmax(scores), np.nanmin(scores)\n",
    "    threshold_list = np.linspace(scores_min - eps, scores_max + eps, N_thr)\n",
    "\n",
    "    falarms = []\n",
    "    benefits = []\n",
    "    \n",
    "    N = len(scores)\n",
    "    \n",
    "    for threshold in threshold_list:\n",
    "        binary_alarm = (np.array(scores) >= threshold)\n",
    "        \n",
    "        benefit = np.zeros(N)\n",
    "        for cp in change_points:\n",
    "            if cp < T:\n",
    "                # t = 0, ... , cp, cp+1, ..., cp+T-1\n",
    "                values = 1.0 - np.hstack((np.arange(cp, 0, -1), np.arange(T)))/T\n",
    "                benefit[:(cp+T)] = values\n",
    "            elif cp+T > N:\n",
    "                # t = cp-T, ..., cp, cp+1, ..., N-1\n",
    "                values = 1.0 - np.hstack((np.arange(T, 0, -1), np.arange(N-cp)))/T\n",
    "                benefit[(cp-T):] = values\n",
    "            else:\n",
    "                # t = cp-T, ..., cp, cp+1, ..., cp+T-1\n",
    "                values = 1.0 - np.hstack((np.arange(T, 0, -1), np.arange(T)))/T\n",
    "                benefit[(cp-T):(cp+T)] = values\n",
    "            \n",
    "        if start is not None:\n",
    "            if end is not None:\n",
    "                benefit = benefit[start:end]\n",
    "                binary_alarm = binary_alarm[start:end]\n",
    "            else:\n",
    "                benefit = benefit[start:]\n",
    "                binary_alarm = binary_alarm[start:]\n",
    "        elif end is not None:\n",
    "            benefit = benefit[:end]\n",
    "            binary_alarm = binary_alarm[:end]\n",
    "                \n",
    "        total_benefit = np.nansum(binary_alarm * benefit)\n",
    "        n_falarm = np.nansum(binary_alarm * (benefit == 0.0).astype(int))\n",
    "        \n",
    "        benefits.append(total_benefit/np.nansum(benefit))\n",
    "        falarms.append(n_falarm/np.nansum(benefit == 0.0))\n",
    "\n",
    "    benefits = np.array(benefits)    \n",
    "    falarms = np.array(falarms)\n",
    "    \n",
    "    return falarms, benefits"
   ]
  },
  {
   "cell_type": "code",
   "execution_count": 12,
   "id": "inner-animal",
   "metadata": {},
   "outputs": [],
   "source": [
    "def calc_auc_main(scores, cps, start, end, T, N_thr=100):\n",
    "    falarms, benefits = calc_falarms_benefit(scores, cps, start=start, end=end, T=T, N_thr=N_thr)\n",
    "    auc_ = auc(falarms, benefits)\n",
    "\n",
    "    return auc_"
   ]
  },
  {
   "cell_type": "code",
   "execution_count": 13,
   "id": "weird-premiere",
   "metadata": {},
   "outputs": [],
   "source": [
    "def generate_data(N, pi, mu, sigma):\n",
    "    \n",
    "    z_list = np.random.choice(np.arange(len(pi)), N, replace=True)\n",
    "    \n",
    "    X = np.zeros((N, sigma.shape[1]))\n",
    "    for i, z in enumerate(z_list):\n",
    "        X_i = np.random.multivariate_normal(mu[z], sigma[z])\n",
    "        X[i, :] = X_i\n",
    "    \n",
    "    return X"
   ]
  },
  {
   "cell_type": "markdown",
   "id": "respiratory-paintball",
   "metadata": {},
   "source": [
    "## experiment (gradual mean)"
   ]
  },
  {
   "cell_type": "code",
   "execution_count": 14,
   "id": "antique-fifty",
   "metadata": {},
   "outputs": [],
   "source": [
    "N = 10000\n",
    "Nsim = 1"
   ]
  },
  {
   "cell_type": "code",
   "execution_count": 15,
   "id": "former-cancellation",
   "metadata": {},
   "outputs": [],
   "source": [
    "#pi = np.array([0.2, 0.8])\n",
    "#pi = np.array([0.3, 0.7])\n",
    "pi = np.array([0.5, 0.5])\n",
    "pi1 = np.array([0.5, 0.5])\n",
    "pi2 = np.array([0.5, 0.5])\n",
    "pi0 = pi.copy()"
   ]
  },
  {
   "cell_type": "code",
   "execution_count": 16,
   "id": "associate-report",
   "metadata": {},
   "outputs": [],
   "source": [
    "mean1 = [[0.5, 0.5, 0.5], [-0.5, -0.5, -0.5]]\n",
    "mu1 = np.array(mean1)\n",
    "\n",
    "mean2 = [[1.0, 1.0, 1.0], [-1.0, -1.0, -1.0]]\n",
    "mu2 = np.array(mean2)\n",
    "\n",
    "sigma = np.array([[[1.0, 0.5, 0.1], [0.5, 1.0, 0.3], [0.1, 0.3, 1.0]], \n",
    "                  [[1.0, 0.5, 0.1], [0.5, 1.0, 0.3], [0.1, 0.3, 1.0]]])"
   ]
  },
  {
   "cell_type": "code",
   "execution_count": 17,
   "id": "fundamental-offering",
   "metadata": {},
   "outputs": [],
   "source": [
    "seed0 = 1"
   ]
  },
  {
   "cell_type": "code",
   "execution_count": 18,
   "id": "informed-invasion",
   "metadata": {},
   "outputs": [],
   "source": [
    "theta = Theta(pi, mu1, sigma)\n",
    "theta0 = Theta(pi, mu1, sigma)"
   ]
  },
  {
   "cell_type": "code",
   "execution_count": 19,
   "id": "wrapped-biodiversity",
   "metadata": {},
   "outputs": [
    {
     "data": {
      "text/plain": [
       "10000"
      ]
     },
     "execution_count": 19,
     "metadata": {},
     "output_type": "execute_result"
    }
   ],
   "source": [
    "N"
   ]
  },
  {
   "cell_type": "code",
   "execution_count": 20,
   "id": "coated-three",
   "metadata": {},
   "outputs": [],
   "source": [
    "seed = seed0\n",
    "np.random.seed(seed)\n",
    "X1 = generate_data(N, pi, mu1, sigma)\n",
    "X2 = generate_data(N, pi, mu2, sigma)\n",
    "\n",
    "X = np.vstack((X1, X2))\n",
    "\n",
    "idxes_ol = np.random.choice(np.arange(N), int(0.01*N), replace=False)\n",
    "X[idxes_ol, :] = np.random.uniform(-5, 5, (len(idxes_ol), sigma.shape[1]))"
   ]
  },
  {
   "cell_type": "code",
   "execution_count": 21,
   "id": "enabling-disabled",
   "metadata": {},
   "outputs": [
    {
     "data": {
      "text/plain": [
       "array([[-0.90538483, -1.50874713, -1.66862019],\n",
       "       [-0.36068868,  0.76711061, -0.37289064],\n",
       "       [ 0.53240732,  0.13500524,  0.67669413],\n",
       "       ...,\n",
       "       [-0.2457416 , -0.90644893, -1.22512174],\n",
       "       [ 0.16848632,  0.46913059,  0.86123217],\n",
       "       [-3.38237469, -0.55671992, -1.42371771]])"
      ]
     },
     "execution_count": 21,
     "metadata": {},
     "output_type": "execute_result"
    }
   ],
   "source": [
    "X"
   ]
  },
  {
   "cell_type": "code",
   "execution_count": 22,
   "id": "handled-vintage",
   "metadata": {},
   "outputs": [],
   "source": [
    "class SDEM(GaussianMixture):\n",
    "    def __init__(self, r, alpha, n_components=2, **kwargs):\n",
    "        super().__init__(n_components=n_components, **kwargs)\n",
    "        \n",
    "        self.r = r\n",
    "        self.alpha = alpha\n",
    "        self.t = 0\n",
    "        \n",
    "        self.pi_list = []\n",
    "        self.pi_bar_list = []\n",
    "        self.means_list = []\n",
    "        self.means_bar_list = []\n",
    "        self.covariances_list = []\n",
    "        self.covariances_bar_list = []\n",
    "        \n",
    "    def fit(self, X, y=None):\n",
    "        super().fit(X, y)\n",
    "        self.means_bar = np.copy(self.means_)\n",
    "        self.covariances_bar = np.copy(self.covariances_)\n",
    "        \n",
    "    def update(self, x):\n",
    "        \"\"\"Employ SDEM algorithm.\"\"\"\n",
    "        \n",
    "        # E-step for weights\n",
    "        gamma = (1-self.alpha*self.r[self.t]) * self.predict_proba(x.reshape(1, -1)) + self.alpha*self.r[self.t]/self.weights_.shape[0] # \\overline{\\gamma}_i^{(t)} in the paper\n",
    "        gamma = gamma.ravel()\n",
    "        self.weights_ = (1-self.r[self.t])*self.weights_ + self.r[self.t]*gamma\n",
    "        \n",
    "        x = x.ravel()\n",
    "        means, means_bar, covariances, covariances_bar = [], [], [], []\n",
    "        for i, (w, m, cov) in enumerate(zip(self.weights_, self.means_bar, self.covariances_bar)):\n",
    "            # E-step\n",
    "            m = (1-self.r[self.t])*m + self.r[self.t]*gamma[i]*x\n",
    "            cov = (1-self.r[self.t])*cov + self.r[self.t]*gamma[i]*np.outer(x,x)\n",
    "            means_bar.append(m)\n",
    "            covariances_bar.append(cov)\n",
    "\n",
    "            # M-step\n",
    "            m = m/w\n",
    "            cov = cov/w - np.outer(m, m)\n",
    "            means.append(m)\n",
    "            covariances.append(cov)\n",
    "\n",
    "        self.means_ = np.vstack(means) # \\mu_i^{(t)} in the paper\n",
    "        self.covariances_ = np.stack(covariances)\n",
    "        self.means_bar = np.stack(means_bar)\n",
    "        self.covariances_bar = np.stack(covariances_bar)\n",
    "        \n",
    "        self.pi_list.append(self.weights_)\n",
    "        self.means_list.append(self.means_)\n",
    "        self.covariances_list.append(self.covariances_)\n",
    "        self.means_bar_list.append(self.means_bar)\n",
    "        self.covariances_bar_list.append(self.covariances_bar)\n",
    "        \n",
    "        self.t += 1"
   ]
  },
  {
   "cell_type": "code",
   "execution_count": 23,
   "id": "finnish-grant",
   "metadata": {},
   "outputs": [],
   "source": [
    "def calc_scores_sdem(X, r, n_cluster, alpha=1.0, \n",
    "                     X_init=None,\n",
    "                     init_start=20, init_end=40, score_start=20, seed=0):\n",
    "    np.random.seed(seed)\n",
    "    rho_const = np.repeat([r], X.shape[0])\n",
    "    sdem = SDEM(rho_const, alpha, n_components=n_cluster)\n",
    "\n",
    "    #X_init = np.random.uniform(np.min(X[start:end, :]), np.max(X[start:end, :]), 20).reshape(-1, X.shape[1])\n",
    "    if X_init is None:\n",
    "        X_init = np.hstack([ np.random.uniform(np.min(X[init_start:init_end, j]), \n",
    "                                               np.max(X[init_start:init_end, j]), \n",
    "                                               20).reshape(-1, 1) \n",
    "                             for j in range(X.shape[1]) ])\n",
    "    #X_init = X[start:end, :]\n",
    "    \n",
    "    sdem.fit(X_init)\n",
    "    \n",
    "    for t in range(X.shape[0]):\n",
    "        sdem.update(X[t, :])\n",
    "\n",
    "    pi_est = np.array(sdem.pi_list)\n",
    "    mu_est = np.array(sdem.means_bar_list)\n",
    "    sigma_est = np.array(sdem.covariances_list)\n",
    "    \n",
    "    scores = [np.nan] * score_start\n",
    "\n",
    "    for t in tqdm(range(score_start, pi_est.shape[0])):\n",
    "        p = np.zeros(n_cluster)\n",
    "        for k in range(n_cluster):\n",
    "            if np.any(np.linalg.eigvals(sigma_est[t-1, k, :, :]) <= 0.0):\n",
    "                sigma_est[t-1, k, :, :] = nearPD(sigma_est[t-1, k, :, :])\n",
    "            if X.shape[0] == 1:\n",
    "                p_k = pi_est[t-1, k] * norm(mu_est[t-1, k, :], np.sqrt(sigma_est[t-1, k, :, :])).pdf(X[t, :])\n",
    "            else:\n",
    "                try:\n",
    "                    p_k = pi_est[t-1, k] * multivariate_normal(\n",
    "                        mean=mu_est[t-1, k, :], \n",
    "                        cov=sigma_est[t-1, k, :, :], \n",
    "                        allow_singular=True\n",
    "                    ).pdf(\n",
    "                        X[t, :].reshape(1, -1)\n",
    "                    )\n",
    "                except:\n",
    "                    p_k = pi_est[t-1, k] * multivariate_normal(\n",
    "                        mean=mu_est[t-1, k, :], \n",
    "                        cov=nearPD(sigma_est[t-1, k, :, :]),\n",
    "                        allow_singular=True\n",
    "                    ).pdf(\n",
    "                        X[t, :].reshape(1, -1)\n",
    "                    )\n",
    "\n",
    "            p[k] = p_k\n",
    "        p_tot = np.sum(p)\n",
    "        if p_tot >= 1.0/np.finfo(float).max:\n",
    "            scores.append(-np.log(p_tot))\n",
    "        else:\n",
    "            scores.append(np.log(np.finfo(float).max))\n",
    "    scores = np.array(scores)\n",
    "    \n",
    "    return scores, X_init"
   ]
  },
  {
   "cell_type": "code",
   "execution_count": 24,
   "id": "hearing-picture",
   "metadata": {},
   "outputs": [],
   "source": [
    "def calc_scores_iem(X, n_cluster, alpha=1.0, \n",
    "                    X_init=None,\n",
    "                    init_start=20, init_end=40, \n",
    "                    score_start=20,\n",
    "                    seed=0):\n",
    "    np.random.seed(seed)\n",
    "    rhos = 1.0 / np.arange(1, X.shape[0]+1)\n",
    "    sdem = SDEM(rhos, alpha, n_components=n_cluster)\n",
    "\n",
    "    #xmin = np.min(X[start:end, :])\n",
    "    #xmax = np.max(X[start:end, :])\n",
    "    \n",
    "    #X_init = np.random.uniform(xmin, xmax, 20).reshape(20, X.shape[1])\n",
    "    if X_init is None:\n",
    "        X_init = np.hstack([ np.random.uniform(np.min(X[init_start:init_end, j]), \n",
    "                                               np.max(X[init_start:init_end, j]), \n",
    "                                               20).reshape(-1, 1) \n",
    "                             for j in range(X.shape[1]) ])\n",
    "    \n",
    "    sdem.fit(X_init)\n",
    "    \n",
    "    for t in tqdm(range(X.shape[0])):\n",
    "        sdem.update(X[t, :])\n",
    "\n",
    "    pi_est = np.array(sdem.pi_list)\n",
    "    mu_est = np.array(sdem.means_list)\n",
    "    sigma_est = np.array(sdem.covariances_list)\n",
    "    \n",
    "    scores = [np.nan] * score_start\n",
    "\n",
    "    #n_cluster = pi_est.shape[1]\n",
    "    for t in range(score_start, X.shape[0]):\n",
    "        p = np.zeros(n_cluster)\n",
    "        for k in range(n_cluster):\n",
    "            if np.any(np.linalg.eigvals(sigma_est[t-1, k, :, :]) <= 0.0):\n",
    "                sigma_est[t-1, k, :, :] = nearPD(sigma_est[t-1, k, :, :])\n",
    "            if X.shape[0] == 1:\n",
    "                p_k = pi_est[t-1, k] * norm(mu_est[t-1, k, :], np.sqrt(sigma_est[t-1, k, :, :])).pdf(X[t, :])\n",
    "            else:\n",
    "                try:\n",
    "                    p_k = pi_est[t-1, k] * multivariate_normal(\n",
    "                        mean=mu_est[t-1, k, :], \n",
    "                        cov=sigma_est[t-1, k, :, :], \n",
    "                        allow_singular=True\n",
    "                    ).pdf(\n",
    "                        X[t, :].reshape(1, -1)\n",
    "                    )\n",
    "                except:\n",
    "                    p_k = pi_est[t-1, k] * multivariate_normal(\n",
    "                        mean=mu_est[t-1, k, :], \n",
    "                        cov=nearPD(sigma_est[t-1, k, :, :]), \n",
    "                        allow_singular=True\n",
    "                    ).pdf(\n",
    "                        X[t, :].reshape(1, -1)\n",
    "                    )\n",
    "            p[k] = p_k\n",
    "        p_tot = np.sum(p)\n",
    "        if p_tot >= 1.0/np.finfo(float).max:\n",
    "            scores.append(-np.log(p_tot))\n",
    "        else:\n",
    "            scores.append(np.log(np.finfo(float).max))\n",
    "    \n",
    "    scores = np.array(scores)\n",
    "    \n",
    "    return scores, X_init"
   ]
  },
  {
   "cell_type": "code",
   "execution_count": 25,
   "id": "ready-aurora",
   "metadata": {},
   "outputs": [],
   "source": [
    "def sem(X, theta0, rho, \n",
    "        #X_init, \n",
    "        init_start, init_end, \n",
    "        score_start, score_end, \n",
    "        seed):\n",
    "    np.random.seed(seed)\n",
    "    \n",
    "    #print('X.shape:', X.shape)\n",
    "    K = len(theta0.mu)\n",
    "    N = X.shape[0]\n",
    "    D = X.shape[1]\n",
    "    #print('N =', N)\n",
    "    #print('D =', D)\n",
    "    \n",
    "    theta = deepcopy(theta0)\n",
    "    pi_est = np.nan * np.ones((N, K, 1))\n",
    "    mu_est = np.nan * np.ones((N, K, D))\n",
    "    sigma_est = np.nan * np.ones((N, K, D, D))\n",
    "    \n",
    "    s = SuffStatGMM(K, D)\n",
    "    #print('after initializing s:')\n",
    "    #print('s.s1.shape:', s.s1.shape)\n",
    "    #print('s.s2.shape:', s.s2.shape)\n",
    "    #print('s.s3.shape:', s.s3.shape)\n",
    "    \n",
    "    #X_init = np.random.uniform(np.min(X[start:end, :]), np.max(X[start:end, :]), 20).reshape(-1, X.shape[1])\n",
    "    #if X_init is None:\n",
    "    #    X_init = np.hstack([ np.random.uniform(np.min(X[init_start:init_end, j]), \n",
    "    #                                           np.max(X[init_start:init_end, j]), \n",
    "    #                                           20).reshape(-1, 1) \n",
    "    #                         for j in range(X.shape[1]) ])\n",
    "    \n",
    "    # initialization\n",
    "    #tau = compute_tau(X_init, theta)\n",
    "    #s.s1[:], s.s2[:], s.s3[:] = compute_stat(X_init, tau)\n",
    "    tau = compute_tau(X[init_start:init_end, :], theta)\n",
    "    s.s1[:], s.s2[:], s.s3[:] = compute_stat(X[init_start:init_end, :], tau)\n",
    "    theta.pi[:], theta.mu[:], theta.sigma[:] = step_M(s, 1)\n",
    "    #pi_est[0, :] = theta.pi.copy()\n",
    "    #mu_est[0, :, :] = theta.mu.copy()\n",
    "    #sigma_est[0, :, :, :] = theta.sigma.copy()\n",
    "    pi_est[score_start-1, :] = theta.pi.copy()\n",
    "    mu_est[score_start-1, :, :] = theta.mu.copy()\n",
    "    sigma_est[score_start-1, :, :, :] = theta.sigma.copy()\n",
    "\n",
    "    \n",
    "    inds = np.arange(N)\n",
    "    #print('inds.shape:', inds.shape)\n",
    "    \n",
    "    #for n in tqdm.tqdm(range(start, N)):\n",
    "    #for n in tqdm.tqdm(range(score_start, score_end)):\n",
    "    for n in tqdm(range(score_start, score_end)):\n",
    "        ind_n = inds[n]\n",
    "        \n",
    "        tau_indiv_new = compute_tau(X[ind_n, :].reshape(1, -1), theta).reshape(-1, 1)\n",
    "        s2_indiv_new = np.outer(tau_indiv_new, X[ind_n, :])\n",
    "        s3_indiv_new = np.einsum('k,ij->kij', tau_indiv_new.ravel(), np.outer(X[ind_n, :], X[ind_n, :]))\n",
    "        \n",
    "        if np.any(np.isnan(tau_indiv_new)):\n",
    "            pi_est[n, :] = theta.pi.copy()\n",
    "            mu_est[n, :, :] = theta.mu.copy()\n",
    "            sigma_est[n, :, :, :] = theta.sigma.copy()\n",
    "            continue\n",
    "        \n",
    "        s.s1 += rho[n] * (tau_indiv_new - s.s1)\n",
    "        s.s2 += rho[n] * (s2_indiv_new - s.s2)\n",
    "        s.s3 += rho[n] * (s3_indiv_new - s.s3)\n",
    "        \n",
    "        # M-step\n",
    "        theta.pi[:], theta.mu[:], theta.sigma[:] = step_M(s, 1)\n",
    "        #print('===========')\n",
    "        #print('theta.pi')\n",
    "        #print(theta.pi)\n",
    "        #print('theta.mu')\n",
    "        #print(theta.mu)\n",
    "        #print('theta.sigma')\n",
    "        #print(theta.sigma)\n",
    "        pi_est[n, :] = theta.pi.copy()\n",
    "        mu_est[n, :, :] = theta.mu.copy()\n",
    "        sigma_est[n, :, :, :] = theta.sigma.copy()\n",
    "        \n",
    "    return pi_est, mu_est, sigma_est"
   ]
  },
  {
   "cell_type": "code",
   "execution_count": 26,
   "id": "viral-diamond",
   "metadata": {},
   "outputs": [],
   "source": [
    "def calc_scores_sem(X, theta0, \n",
    "                    #X_init, \n",
    "                    r, k, \n",
    "                    init_start, init_end, \n",
    "                    score_start, score_end, seed=0):\n",
    "    rho_const = np.repeat([r], X.shape[0])\n",
    "    pi_est, mu_est, sigma_est = sem(X, theta0, rho_const, \n",
    "                                    #X_init,\n",
    "                                    init_start, init_end, \n",
    "                                    score_start, score_end, seed)\n",
    "    D = X.shape[-1]\n",
    "    \n",
    "    scores = [np.nan]*score_start\n",
    "    #for t in range(score_start, pi_est.shape[0]):\n",
    "    for t in range(score_start, score_end):\n",
    "        p = np.zeros(k)\n",
    "        for i in range(k):\n",
    "            if D == 1:\n",
    "                p_i = pi_est[t-1, i] * norm(mu_est[t-1, i, :], np.sqrt(sigma_est[t-1, i, :, :])).pdf(X[t, :])\n",
    "            else:\n",
    "                #print('mu_est[t-1, i, :]')\n",
    "                #print(mu_est[t-1, i, :])\n",
    "                #print('sigma_est[t-1, i, :, :]')\n",
    "                #print(sigma_est[t-1, i, :, :])\n",
    "                #print('X[t, :]')\n",
    "                #print(X[t, :])\n",
    "                try:\n",
    "                    p_i = pi_est[t-1, i] * multivariate_normal(mu_est[t-1, i, :], sigma_est[t-1, i, :, :],\n",
    "                                                               allow_singular=True).pdf(X[t, :])\n",
    "                except:\n",
    "                    p_i = pi_est[t-1, i] * multivariate_normal(mu_est[t-1, i, :], nearPD(sigma_est[t-1, i, :, :]),\n",
    "                                                               allow_singular=True).pdf(X[t, :])\n",
    "            p[i] = p_i\n",
    "        p_tot = np.sum(p)\n",
    "        if p_tot >= 1.0/np.finfo(float).max:\n",
    "            scores.append(-np.log(p_tot))\n",
    "        else:\n",
    "            scores.append(np.log(np.finfo(float).max))\n",
    "            \n",
    "    return scores"
   ]
  },
  {
   "cell_type": "code",
   "execution_count": 27,
   "id": "compliant-nicholas",
   "metadata": {},
   "outputs": [],
   "source": [
    "def sra(X, theta0, rho, gamma, t_start=50):\n",
    "    K = len(theta0.mu)\n",
    "    N = X.shape[0]\n",
    "    D = X.shape[1]\n",
    "    \n",
    "    #theta_est = np.zeros((N+1, 3*K+1))\n",
    "    #theta_est[0, :] = np.hstack((0, theta0.pi, theta0.mu, theta0.sigma))\n",
    "    pi_est = np.zeros((N, K, 1))\n",
    "    mu_est = np.zeros((N, K, D))\n",
    "    sigma_est = np.zeros((N, K, D, D))\n",
    "    theta = deepcopy(theta0)\n",
    "    \n",
    "    s = SuffStatGMM(K, D)\n",
    "    \n",
    "    # initialization\n",
    "    tau = compute_tau(X[:10, :], theta)\n",
    "    #s.s1[:], s.s2[:] = compute_stat(X[:10, :], tau)\n",
    "    s.s1[:], s.s2[:], s.s3[:] = compute_stat(X[:10, :], tau)\n",
    "    \n",
    "    #s.s1[:] = theta0.pi\n",
    "    #s.s2[:] = theta0.mu\n",
    "    #s.s3[:] = theta0.sigma\n",
    "    \n",
    "    outliers = []\n",
    "    \n",
    "    inds = np.arange(N)\n",
    "    \n",
    "    for n in range(N):\n",
    "        ind_n = inds[n]\n",
    "        \n",
    "        tau_indiv_new = compute_tau(X[ind_n, :].reshape(1, -1), theta).reshape(-1, 1)\n",
    "        #print('tau_indiv_new:', tau_indiv_new)\n",
    "        s2_indiv_new = np.outer(tau_indiv_new, X[ind_n, :])\n",
    "        #print('s2_indiv_new:', s2_indiv_new)\n",
    "        #s3_indiv_new = np.outer(X[ind_n, :], X[ind_n, :]) * tau_indiv_new\n",
    "        s3_indiv_new = np.einsum('k,ij->kij', tau_indiv_new.ravel(), np.outer(X[ind_n, :], X[ind_n, :]))\n",
    "        #print('s3_indiv_new - s.s3:', s3_indiv_new - s.s3)\n",
    "        \n",
    "        #print(\"np.linalg.norm(s2_indiv_new - s.s2) >= gamma\", np.linalg.norm(s2_indiv_new - s.s2))\n",
    "        #if ( np.any(np.isnan(tau_indiv_new)) | (np.linalg.norm(s2_indiv_new - s.s2) >= gamma) | (np.linalg.norm(s3_indiv_new - s.s3) >= gamma) ):\n",
    "        \n",
    "        if ( np.any(np.isnan(tau_indiv_new)) ) | ( (n >= t_start) &  (np.linalg.norm(s2_indiv_new - s.s2) >= gamma) ):\n",
    "            pi_est[n, :] = theta.pi\n",
    "            mu_est[n, :, :] = theta.mu\n",
    "            sigma_est[n, :, :, :] = theta.sigma\n",
    "            \n",
    "            outliers.append(n)\n",
    "            continue\n",
    "        \n",
    "        # update the statistics\n",
    "        #print('s.s1:', s.s1)\n",
    "        s.s1 += rho[n] * (tau_indiv_new - s.s1)\n",
    "        s.s2 += rho[n] * (s2_indiv_new - s.s2)\n",
    "        s.s3 += rho[n] * (s3_indiv_new - s.s3)\n",
    "        \n",
    "        #print('n =', n, ': paramters updated.')\n",
    "        \n",
    "        # M-step\n",
    "        theta.pi[:], theta.mu[:], theta.sigma[:] = step_M(s, X[ind_n, :])\n",
    "        #theta_est[n+1, :] = np.hstack((n, theta.pi, theta.mu, theta.sigma))\n",
    "        #print('theta.pi:', theta.pi)\n",
    "        #print('theta.mu:', theta.mu)\n",
    "        #print('theta.sigma:', theta.sigma)\n",
    "        pi_est[n, :] = theta.pi.copy()\n",
    "        mu_est[n, :, :] = theta.mu.copy()\n",
    "        sigma_est[n, :, :, :] = theta.sigma.copy()\n",
    "\n",
    "    #outliers = np.array(outliers)\n",
    "    \n",
    "    return pi_est, mu_est, sigma_est, outliers\n",
    "    #return pi_est, mu_est, sigma_est"
   ]
  },
  {
   "cell_type": "code",
   "execution_count": 28,
   "id": "clear-paintball",
   "metadata": {},
   "outputs": [],
   "source": [
    "#def calc_scores_sra(X, theta0, k, gamma, d0, M, L_alpha, seed=0):\n",
    "def calc_scores_sra(X, theta0, k, gamma, ratio, M, seed=0):\n",
    "    np.random.seed(seed)\n",
    "    \n",
    "    #rho = (d0+1) * np.exp(-gamma**2/M**2) / (2.0*L_alpha*gamma)\n",
    "    rho = ratio * np.exp(-gamma**2/M**2) / (2.0*gamma)\n",
    "    rho_const = np.repeat(rho, X.shape[0])\n",
    "    pi_est, mu_est, sigma_est, outliers = sra(X, theta0, rho_const, gamma)\n",
    "    \n",
    "    anom_scores = []\n",
    "    for t in range(pi_est.shape[0]):\n",
    "        if t in outliers:\n",
    "            #anom_scores.append(np.nan)\n",
    "            anom_scores.append(anom_scores[-1])\n",
    "            continue\n",
    "        \n",
    "        p = np.zeros(k)\n",
    "        for i in range(k):\n",
    "            try:\n",
    "                p_i = pi_est[t-1, i] * multivariate_normal(mu_est[t-1, i, :], sigma_est[t-1, i, :, :],\n",
    "                                                           allow_singular=True).pdf(X[t, :])\n",
    "            except:\n",
    "                \n",
    "            #    print(nearPD(sigma_est[t-1, i, :, :]))\n",
    "                p_i = pi_est[t-1, i] * multivariate_normal(mu_est[t-1, i, :], nearPD(sigma_est[t-1, i, :, :]),\n",
    "                                                           allow_singular=True).pdf(X[t, :])\n",
    "            p[i] = p_i\n",
    "        p_tot = np.sum(p)\n",
    "        if p_tot >= 1.0/np.finfo(float).max:\n",
    "            anom_scores.append(-np.log(p_tot))\n",
    "        else:\n",
    "            anom_scores.append(np.log(np.finfo(float).max))\n",
    "                        \n",
    "    return anom_scores, pi_est, mu_est, sigma_est"
   ]
  },
  {
   "cell_type": "code",
   "execution_count": 29,
   "id": "excess-radio",
   "metadata": {},
   "outputs": [],
   "source": [
    "def calc_metrics(means, mu1, mu2, eval_start=500, eval_end=1000, burnin=1000, N=10000):\n",
    "    ev = np.sum((means[eval_start:eval_end, :] - mu1)**2, axis=1)\n",
    "    former = np.sum((means[burnin:N, :] - mu1)**2, axis=1)\n",
    "    latter = np.sum((means[N:, :] - mu2)**2, axis=1)\n",
    "    print('former')\n",
    "    print(former.shape)\n",
    "    print(former)\n",
    "    print('latter')\n",
    "    print(latter.shape)\n",
    "    print(latter)\n",
    "    overall = np.hstack((former, latter))\n",
    "    \n",
    "    #return np.mean(ev), np.mean(former), np.mean(latter), np.mean(overall)\n",
    "    return np.nanmean(ev), np.nanmean(former), np.nanmean(latter), np.nanmean(overall)"
   ]
  },
  {
   "cell_type": "code",
   "execution_count": 34,
   "id": "pressed-bahrain",
   "metadata": {},
   "outputs": [],
   "source": [
    "def calc_falarms_benefit(scores, change_points, start=None, end=None, T=100, N_thr=100, eps=1e-2):\n",
    "    scores_max, scores_min = np.nanmax(scores), np.nanmin(scores)\n",
    "    threshold_list = np.linspace(scores_min - eps, scores_max + eps, N_thr)\n",
    "\n",
    "    falarms = []\n",
    "    benefits = []\n",
    "    \n",
    "    N = len(scores)\n",
    "    \n",
    "    for threshold in threshold_list:\n",
    "        binary_alarm = (np.array(scores) >= threshold)\n",
    "        \n",
    "        benefit = np.zeros(N)\n",
    "        for cp in change_points:\n",
    "            if cp < T:\n",
    "                # t = 0, ... , cp, cp+1, ..., cp+T-1\n",
    "                values = 1.0 - np.hstack((np.arange(cp, 0, -1), np.arange(T)))/T\n",
    "                benefit[:(cp+T)] = values\n",
    "            elif cp+T > N:\n",
    "                # t = cp-T, ..., cp, cp+1, ..., N-1\n",
    "                values = 1.0 - np.hstack((np.arange(T, 0, -1), np.arange(N-cp)))/T\n",
    "                benefit[(cp-T):] = values\n",
    "            else:\n",
    "                # t = cp-T, ..., cp, cp+1, ..., cp+T-1\n",
    "                values = 1.0 - np.hstack((np.arange(T, 0, -1), np.arange(T)))/T\n",
    "                benefit[(cp-T):(cp+T)] = values\n",
    "            \n",
    "        if start is not None:\n",
    "            if end is not None:\n",
    "                benefit = benefit[start:end]\n",
    "                binary_alarm = binary_alarm[start:end]\n",
    "            else:\n",
    "                benefit = benefit[start:]\n",
    "                binary_alarm = binary_alarm[start:]\n",
    "        elif end is not None:\n",
    "            benefit = benefit[:end]\n",
    "            binary_alarm = binary_alarm[:end]\n",
    "        \n",
    "        total_benefit = np.sum(binary_alarm * benefit)\n",
    "        n_falarm = np.sum(binary_alarm * (benefit == 0.0).astype(int))\n",
    "        \n",
    "        benefits.append(total_benefit/np.sum(benefit))\n",
    "        falarms.append(n_falarm/np.sum(benefit == 0.0))\n",
    "\n",
    "    benefits = np.array(benefits)    \n",
    "    falarms = np.array(falarms)\n",
    "    \n",
    "    return falarms, benefits"
   ]
  },
  {
   "cell_type": "code",
   "execution_count": 31,
   "id": "behind-constitution",
   "metadata": {},
   "outputs": [],
   "source": [
    "def calc_auc_main(scores, cps, start, end, T, N_thr=100):\n",
    "    falarms, benefits = calc_falarms_benefit(scores, cps, start=start, end=end, T=T, N_thr=N_thr)\n",
    "    auc_ = auc(falarms, benefits)\n",
    "\n",
    "    return auc_"
   ]
  },
  {
   "cell_type": "code",
   "execution_count": null,
   "id": "split-sacramento",
   "metadata": {},
   "outputs": [],
   "source": []
  },
  {
   "cell_type": "code",
   "execution_count": null,
   "id": "compressed-collapse",
   "metadata": {},
   "outputs": [],
   "source": []
  },
  {
   "cell_type": "code",
   "execution_count": null,
   "id": "fourth-processor",
   "metadata": {},
   "outputs": [],
   "source": []
  },
  {
   "cell_type": "markdown",
   "id": "banned-emperor",
   "metadata": {},
   "source": [
    "## AUC"
   ]
  },
  {
   "cell_type": "code",
   "execution_count": 32,
   "id": "handed-russia",
   "metadata": {},
   "outputs": [],
   "source": [
    "def experiment1_comparison_auc(\n",
    "    # ADWIN\n",
    "    delta_list_adwin=[0.001, 0.002, 0.005, 0.01, 0.02, 0.05, 0.1, 0.2, 0.5], \n",
    "    # KSWIN\n",
    "    alpha_list_kswin = [0.001, 0.005, 0.01], \n",
    "    window_size_list_kswin = [20, 30], \n",
    "    stat_size_list_kswin = [10, 15], \n",
    "    # DDM\n",
    "    min_num_instances_list_ddm=[10, 20, 30, 40, 50, 100], \n",
    "    # EDDM\n",
    "    min_num_instances_list_eddm=[10, 20, 30, 40, 50, 100],\n",
    "    # Page-Hinkley\n",
    "    threshold_list_ph=[10, 20, 30, 40, 50, 60, 70, 80, 90, 100], \n",
    "    # SDEM\n",
    "    r_list_sdem=[0.0001, 0.001, 0.005, 0.01], \n",
    "    # SEM\n",
    "    r_list_sem=[0.01, 0.05, 0.1],\n",
    "    # SRA\n",
    "    gamma_list_sra=[1, 3, 5, 10, 15], \n",
    "    ratio_list_sra=[0.1, 0.5, 1.0],\n",
    "    M_list_sra=[1.0, 5.0, 10.0],\n",
    "    #gamma=3.0, \n",
    "    #ratio=0.1, \n",
    "    #M=5.0, \n",
    "    u=10, \n",
    "    N=10000,\n",
    "    alpha_ol=0.01, # ratio of outliers\n",
    "    burnin=1000,\n",
    "    pi=np.array([0.5, 0.5]),\n",
    "    mu1=np.array([[0.5, 0.5, 0.5], [-0.5, -0.5, -0.5]]),\n",
    "    mu2=np.array([[1.0, 1.0, 1.0], [-1.0, -1.0, -1.0]]),\n",
    "    sigma = np.array([[[1.0, 0.7, -0.3], [-0.3, 1.0, 0.5], [-0.3, 0.5, 1.0]], \n",
    "                      [[1.0, 0.7, -0.3], [-0.3, 1.0, 0.5], [-0.3, 0.5, 1.0]]]),\n",
    "    cps=np.array([9999]),\n",
    "    start=0, \n",
    "    end=None,\n",
    "    K=2, \n",
    "    T=100,\n",
    "    N_thr=1000,\n",
    "    n_trial=10):\n",
    "\n",
    "    #auc_adwin = []\n",
    "    #auc_kswin = []\n",
    "    #auc_ph = []\n",
    "    auc_sdem = []\n",
    "    auc_iem = []\n",
    "    auc_sem = []\n",
    "    auc_sra = []\n",
    "    \n",
    "    #time_adwin = []\n",
    "    #time_kswin = []\n",
    "    #time_ph = []\n",
    "    time_sdem = []\n",
    "    time_iem = []\n",
    "    time_sem = []\n",
    "    time_sra = []\n",
    "    \n",
    "    D = sigma.shape[1]\n",
    "    \n",
    "    for trial in tqdm(range(n_trial)):\n",
    "        # generate data\n",
    "        #np.random.seed(trial)\n",
    "        np.random.seed(trial+1)\n",
    "        X = np.zeros((2*N, D))\n",
    "        Xj_former = generate_data(N, pi, mu1, sigma)\n",
    "        X[:N, :] = Xj_former\n",
    "        #Xj_trans = np.linspace(mu1, mu2, 300).ravel() + np.random.normal(0, sigma, 300)\n",
    "        Xj_trans = np.vstack([ generate_data(1, pi, mu1 + (t-N+1)/300 * (mu2-mu1), sigma).reshape(1, -1) for t in range(N, N+300) ])\n",
    "        X[N:(N+300), :] = Xj_trans\n",
    "        Xj_latter = generate_data(N-300, pi, mu2, sigma)\n",
    "        X[N+300:, :] = Xj_latter\n",
    "        \n",
    "        \n",
    "        \"\"\"\n",
    "        print('# ADWIN')\n",
    "        time_adwin_each = []\n",
    "        for i, delta in enumerate(delta_list_adwin):\n",
    "            #print(f\"delta = {delta}\")\n",
    "            score_list_adwin = []\n",
    "            \n",
    "            time_start = time.time()\n",
    "            \n",
    "            adwin = ADWIN(delta=delta)\n",
    "            for t, x in enumerate(X.ravel()):\n",
    "                adwin.add_element(x)\n",
    "                \n",
    "                score_list_adwin.append(adwin._width)\n",
    "                \n",
    "                #if adwin.detected_change():\n",
    "                #    score = 1.0\n",
    "                #else:\n",
    "                #    score = 0.0\n",
    "                #   \n",
    "                #score_list_adwin.append(score)\n",
    "            \n",
    "            time_end = time.time()\n",
    "            time_adwin_each.append(time_end - time_start)\n",
    "            \n",
    "            score_list_adwin = np.hstack((np.nan, np.abs(np.diff(score_list_adwin))))\n",
    "            \n",
    "            #ev, former, latter, total = calc_metrics(np.vstack(score_list_adwin), mu1, mu2, eval_start, eval_end, burnin)\n",
    "            auc_ = calc_auc_main(score_list_adwin, cps, start, end, T, N_thr)\n",
    "            #auc_adwin[trial, i] = auc_\n",
    "            auc_adwin.append([trial, delta, auc_])\n",
    "        \n",
    "        time_adwin.append(time_adwin_each)\n",
    "        \n",
    "        print('# KSWIN')\n",
    "        time_kswin_each = []\n",
    "        for i, alpha in enumerate(alpha_list_kswin):\n",
    "            for j, window_size in enumerate(window_size_list_kswin):\n",
    "                for k, stat_size in enumerate(stat_size_list_kswin):\n",
    "                    score_list_kswin = []\n",
    "                    \n",
    "                    time_start = time.time()\n",
    "                    \n",
    "                    kswin = KSWIN(alpha=alpha, window_size=window_size, stat_size=stat_size)\n",
    "                    for t, x in enumerate(X.ravel()):\n",
    "                        kswin.add_element(x)\n",
    "                        \n",
    "                        #if kswin.detected_change():\n",
    "                        #    score = 1.0\n",
    "                        #else:\n",
    "                        #    score = 0.0\n",
    "                        currentLength = kswin.window.shape[0]\n",
    "                        if currentLength >= kswin.window_size:\n",
    "                            window = np.delete(kswin.window, 0)\n",
    "                            rnd_window = np.random.choice(kswin.window[:stat_size], stat_size)\n",
    "\n",
    "                            (st, p_value) = ks_2samp(rnd_window, kswin.window[-stat_size:], mode=\"exact\")\n",
    "\n",
    "                            score = 1.0 - p_value\n",
    "                        else:\n",
    "                            score = 0.0\n",
    "                        \n",
    "                        score_list_kswin.append(score)\n",
    "                    \n",
    "                    #score_list_kswin = np.hstack((np.nan, np.abs(np.diff(score_list_kswin))))\n",
    "                    \n",
    "                    time_end = time.time()\n",
    "                    time_kswin_each.append(time_end - time_start)\n",
    "                    \n",
    "                    auc_ = calc_auc_main(score_list_kswin, cps, start, end, T, N_thr)\n",
    "                    auc_kswin.append([trial, alpha, window_size, stat_size, auc_])\n",
    "        \n",
    "        time_kswin.append(time_kswin_each)\n",
    "        \n",
    "        print('# DDM')\n",
    "        time_ddm_each = []\n",
    "        for i, min_num_instances in enumerate(min_num_instances_list_ddm):\n",
    "            score_list_ddm = []\n",
    "            \n",
    "            time_start = time.time()\n",
    "            ddm = DDM(min_num_instances=min_num_instances)\n",
    "            err = 0\n",
    "            for t in range(X.shape[0]):\n",
    "                ddm.add_element(err)\n",
    "                score_t = ddm.miss_prob + ddm.miss_std - ddm.miss_prob_min - ddm.out_control_level*ddm.miss_sd_min\n",
    "                score_list_ddm.append(score_t)\n",
    "\n",
    "                if ddm.detected_change():\n",
    "                    #if t in [9999]:\n",
    "                    if t in np.hstack((idxes_ol, N-1)):\n",
    "                        err = 0\n",
    "                    else:\n",
    "                        err = 1\n",
    "                else:\n",
    "                    #if t in [9999]:\n",
    "                    if t in np.hstack((idxes_ol, N-1)):\n",
    "                        err = 1\n",
    "                    else:\n",
    "                        err = 0\n",
    "            time_end = time.time()\n",
    "            time_ddm_each.append(time_end - time_start)\n",
    "\n",
    "            #ev, former, latter, total = calc_metrics(score_list_ddm, mu1, mu2, eval_start, eval_end, burnin)\n",
    "            auc_ = calc_auc_main(score_list_ddm, cps, start, end, T, N_thr)\n",
    "            #auc_ddm[trial, i] = auc_\n",
    "            auc_ddm.append([trial, min_num_instances, auc_])\n",
    "        \n",
    "        time_ddm.append(time_ddm_each)\n",
    "        \n",
    "        print('# EDDM')\n",
    "        time_eddm_each = []\n",
    "        for i, min_num_instances in enumerate(min_num_instances_list_ddm):\n",
    "            #print(f\"min_num_instances = {min_num_instances}\")\n",
    "            score_list_eddm = []\n",
    "            \n",
    "            time_start = time.time()\n",
    "            eddm = EDDM()\n",
    "            err = 0.0\n",
    "            for t in range(X.shape[0]):\n",
    "                eddm.add_element(err)\n",
    "                score_t = eddm.m_num_errors - eddm.m_min_num_errors\n",
    "\n",
    "                score_list_eddm.append(score_t)\n",
    "                if eddm.detected_change():\n",
    "                    #print(f\"t = {t}\")\n",
    "                    #if t in [9999]:\n",
    "                    if t in np.hstack((idxes_ol, N-1)):\n",
    "                        err = 0\n",
    "                    else:\n",
    "                        err = 1\n",
    "                else:\n",
    "                    #if t in [9999]:\n",
    "                    if t in np.hstack((idxes_ol, N-1)):\n",
    "                        err = 1\n",
    "                    else:\n",
    "                        err = 0\n",
    "            time_end = time.time()\n",
    "            time_eddm_each.append(time_end - time_start)\n",
    "\n",
    "            #ev, former, latter, total = calc_metrics(score_list_eddm, mu1, mu2, eval_start, eval_end, burnin)\n",
    "            auc_ = calc_auc_main(score_list_eddm, cps, start, end, T, N_thr)\n",
    "            #auc_eddm[trial, i] = auc_\n",
    "            auc_eddm.append([trial, min_num_instances, auc_])\n",
    "\n",
    "        time_eddm.append(time_eddm_each)\n",
    "\n",
    "        print('# Page-Hinkley')\n",
    "        time_ph_each = []\n",
    "        for i, threshold in enumerate(threshold_list_ph):\n",
    "            score_list_ph = []\n",
    "            \n",
    "            time_start = time.time()\n",
    "            ph = PageHinkley()\n",
    "            for t in range(X.shape[0]):\n",
    "                ph.add_element(X[t, :])\n",
    "                score_t = ph.sum - threshold\n",
    "                score_list_ph.append(score_t)\n",
    "\n",
    "            time_end = time.time()\n",
    "            time_ph_each.append(time_end - time_start)\n",
    "            \n",
    "            #ev, former, latter, total = calc_metrics(score_list_ph, mu1, mu2, eval_start, eval_end, burnin)\n",
    "            auc_ = calc_auc_main(score_list_ph, cps, start, end, T, N_thr)\n",
    "            #auc_ph[trial, i] = auc_\n",
    "            auc_ph.append([trial, threshold, auc_])\n",
    "        \n",
    "        time_ph.append(time_ph_each)\n",
    "        \n",
    "        print('# SDEM')\n",
    "        time_sdem_each = []\n",
    "        for i, r in enumerate(r_list_sdem):\n",
    "            time_start = time.time()\n",
    "            rho_const = np.repeat([r], 2*N)\n",
    "            sdem = SDEM(rho_const, 1.0, n_components=K)\n",
    "            seed = i*len(r_list_sdem) + trial\n",
    "            scores_sdem, _ = calc_scores_sdem(X, r, n_cluster=K, alpha=1.0, seed=seed)\n",
    "            time_end = time.time()\n",
    "            \n",
    "            time_sdem_each.append(time_end - time_start)\n",
    "            \n",
    "            auc_ = calc_auc_main(scores_sdem, cps, start, end, T, N_thr)\n",
    "            auc_sdem.append([trial, r, auc_])\n",
    "\n",
    "        time_sdem.append(time_sdem_each)\n",
    "        \n",
    "        print('# IEM')\n",
    "        time_iem_each = []\n",
    "        \n",
    "        time_start = time.time()\n",
    "        iem = SDEM(1.0/np.arange(1, 2*N+1), 1.0, n_components=K)\n",
    "        scores_iem, _ = calc_scores_iem(X, n_cluster=K, seed=trial)\n",
    "        time_end = time.time()\n",
    "        \n",
    "        time_iem_each.append(time_end - time_start)\n",
    "        \n",
    "        auc_ = calc_auc_main(scores_iem, cps, start, end, T, N_thr)\n",
    "        auc_iem.append([trial, auc_])\n",
    "        \n",
    "        time_iem.append(time_iem_each)\n",
    "        \"\"\"\n",
    "        \n",
    "        print('# SEM')\n",
    "        time_sem_each = []\n",
    "        for i, r in enumerate(r_list_sem):\n",
    "            seed = i*len(r_list_sem) + trial\n",
    "            np.random.seed(seed)\n",
    "\n",
    "            time_start = time.time()\n",
    "            pi0 = np.random.dirichlet([1.0]*K).reshape(-1, 1)\n",
    "            X_init = np.array([np.hstack([ np.random.uniform(\n",
    "                                                np.min(X[20:40, j]), \n",
    "                                                np.max(X[20:40, j]), \n",
    "                                                20).reshape(-1, 1) \n",
    "                                           for j in range(X.shape[1]) ]) for _ in range(K)])\n",
    "            mu0 = np.mean(X_init, axis=1)\n",
    "            sigma0 = np.array([np.cov(X_init[kk, :, :], rowvar=False) for kk in range(K)])            \n",
    "            theta0 = Theta(pi0, mu0, sigma0)\n",
    "\n",
    "            scores_sem = calc_scores_sem(X, theta0, r, k=K, \n",
    "                                         init_start=20, init_end=40, \n",
    "                                         score_start=0, score_end=X.shape[0], seed=seed)\n",
    "            \n",
    "            time_end = time.time()\n",
    "            time_sem_each.append(time_end - time_start)\n",
    "            \n",
    "            auc_ = calc_auc_main(scores_sem, cps, start, end, T, N_thr)\n",
    "            auc_sem.append([trial, r, auc_])\n",
    "            \n",
    "        time_sem.append(time_sem_each)\n",
    "        \n",
    "        print('# SRA')\n",
    "        time_sra_each = []\n",
    "        for j, gamma in enumerate(gamma_list_sra):\n",
    "            #ratio_list = [0.01*gamma, 0.03*gamma, 0.05*gamma, 0.1*gamma]\n",
    "            #M_list = [gamma, 2*gamma, 4*gamma]\n",
    "            for l, ratio in enumerate(ratio_list_sra):\n",
    "                for m, M in enumerate(M_list_sra):\n",
    "                    seed = j*len(gamma_list_sra) + l*len(ratio_list_sra) + m * len(M_list_sra) + trial\n",
    "                    \n",
    "                    np.random.seed(seed)\n",
    "                    \n",
    "                    time_start = time.time()\n",
    "\n",
    "                    pi0 = np.random.dirichlet([1.0]*K).reshape(-1, 1)\n",
    "                    X_init = np.array([np.hstack([ np.random.uniform(\n",
    "                                                        np.min(X[20:40, j]), \n",
    "                                                        np.max(X[20:40, j]), \n",
    "                                                        20).reshape(-1, 1) \n",
    "                                                   for j in range(X.shape[1]) ]) for _ in range(K)])\n",
    "\n",
    "                    mu0 = np.mean(X_init, axis=1)\n",
    "                    sigma0 = np.array([np.cov(X_init[kk, :, :], rowvar=False) for kk in range(K)])            \n",
    "                    theta0 = Theta(pi0, mu0, sigma0)\n",
    "                    \n",
    "                    scores_sra, _, _, _ = calc_scores_sra(X, theta0, k=K, gamma=gamma, ratio=ratio, M=M, seed=seed)\n",
    "\n",
    "                    time_end = time.time()\n",
    "                    time_sra_each.append(time_end - time_start)\n",
    "                    \n",
    "                    auc_ = calc_auc_main(scores_sra, cps, start, end, T, N_thr)\n",
    "                    auc_sra.append([trial, gamma, ratio, M, auc_])\n",
    "\n",
    "        time_sra.append(time_sra_each)            \n",
    "        \n",
    "    #auc_adwin_df = pd.DataFrame(auc_adwin, columns=['trial', 'delta', 'auc'])\n",
    "    #auc_kswin_df = pd.DataFrame(auc_kswin, columns=['trial', 'alpha', 'window_size', 'stat_size', 'auc'])\n",
    "    #auc_ddm_df = pd.DataFrame(auc_ddm, columns=['trial', 'min_num_instances', 'auc'])\n",
    "    #auc_eddm_df = pd.DataFrame(auc_eddm, columns=['trial', 'min_num_instances', 'auc'])\n",
    "    #auc_ph_df = pd.DataFrame(auc_ph, columns=['trial', 'threshold', 'auc'])\n",
    "\n",
    "    auc_sdem_df = pd.DataFrame(auc_sdem, columns=['trial', 'r', 'auc'])\n",
    "    auc_iem_df = pd.DataFrame(auc_iem, columns=['trial', 'auc'])\n",
    "    auc_sem_df = pd.DataFrame(auc_sem, columns=['trial', 'r', 'auc'])    \n",
    "    auc_sra_df = pd.DataFrame(auc_sra, columns=['trial', 'gamma', 'ratio', 'M', 'auc'])\n",
    "\n",
    "    #return auc_adwin_df, auc_kswin_df, auc_ddm_df, auc_eddm_df, auc_ph_df, \\\n",
    "    #       auc_sdem_df, auc_iem_df, auc_sem_df, auc_sra_df, \\\n",
    "    #       time_adwin, time_kswin, time_ddm, time_eddm, time_ph, \\\n",
    "    #       time_sdem, time_iem, time_sem, time_sra\n",
    "    return auc_sdem_df, auc_iem_df, auc_sem_df, auc_sra_df, \\\n",
    "           time_sdem, time_iem, time_sem, time_sra"
   ]
  },
  {
   "cell_type": "code",
   "execution_count": 33,
   "id": "worthy-integer",
   "metadata": {},
   "outputs": [
    {
     "data": {
      "application/vnd.jupyter.widget-view+json": {
       "model_id": "c46b31163db740faaefcdf6766e2caac",
       "version_major": 2,
       "version_minor": 0
      },
      "text/plain": [
       "  0%|          | 0/10 [00:00<?, ?it/s]"
      ]
     },
     "metadata": {},
     "output_type": "display_data"
    },
    {
     "name": "stderr",
     "output_type": "stream",
     "text": [
      "/Users/shi-fukushima/.pyenv/versions/anaconda3-5.3.1/lib/python3.7/site-packages/ipykernel_launcher.py:7: RuntimeWarning: covariance is not positive-semidefinite.\n",
      "  import sys\n"
     ]
    },
    {
     "name": "stdout",
     "output_type": "stream",
     "text": [
      "# SEM\n"
     ]
    },
    {
     "data": {
      "application/vnd.jupyter.widget-view+json": {
       "model_id": "87e19b7bb83b4d52a0a0a5fbae4d09f8",
       "version_major": 2,
       "version_minor": 0
      },
      "text/plain": [
       "  0%|          | 0/20000 [00:00<?, ?it/s]"
      ]
     },
     "metadata": {},
     "output_type": "display_data"
    },
    {
     "name": "stderr",
     "output_type": "stream",
     "text": [
      "/Users/shi-fukushima/.pyenv/versions/anaconda3-5.3.1/lib/python3.7/site-packages/ipykernel_launcher.py:40: DeprecationWarning: `np.int` is a deprecated alias for the builtin `int`. To silence this warning, use `int` by itself. Doing this will not modify any behavior and is safe. When replacing `np.int`, you may wish to use e.g. `np.int64` or `np.int32` to specify the precision. If you wish to review your current use, check the release note link for additional information.\n",
      "Deprecated in NumPy 1.20; for more details and guidance: https://numpy.org/devdocs/release/1.20.0-notes.html#deprecations\n"
     ]
    },
    {
     "data": {
      "application/vnd.jupyter.widget-view+json": {
       "model_id": "36f423b2b690434885c583c94fe160e7",
       "version_major": 2,
       "version_minor": 0
      },
      "text/plain": [
       "  0%|          | 0/20000 [00:00<?, ?it/s]"
      ]
     },
     "metadata": {},
     "output_type": "display_data"
    },
    {
     "name": "stderr",
     "output_type": "stream",
     "text": [
      "/Users/shi-fukushima/.pyenv/versions/anaconda3-5.3.1/lib/python3.7/site-packages/scipy/stats/_multivariate.py:474: RuntimeWarning: overflow encountered in square\n",
      "  maha = np.sum(np.square(np.dot(dev, prec_U)), axis=-1)\n",
      "/Users/shi-fukushima/.pyenv/versions/anaconda3-5.3.1/lib/python3.7/site-packages/numpy/core/fromnumeric.py:87: RuntimeWarning: overflow encountered in reduce\n",
      "  return ufunc.reduce(obj, axis, dtype, out, **passkwargs)\n",
      "/Users/shi-fukushima/.pyenv/versions/anaconda3-5.3.1/lib/python3.7/site-packages/scipy/stats/_multivariate.py:110: RuntimeWarning: overflow encountered in double_scalars\n",
      "  return np.array([0 if abs(x) <= eps else 1/x for x in v], dtype=float)\n"
     ]
    },
    {
     "data": {
      "application/vnd.jupyter.widget-view+json": {
       "model_id": "aa85090a2c8a4df08c003e9f85efde0b",
       "version_major": 2,
       "version_minor": 0
      },
      "text/plain": [
       "  0%|          | 0/20000 [00:00<?, ?it/s]"
      ]
     },
     "metadata": {},
     "output_type": "display_data"
    },
    {
     "name": "stdout",
     "output_type": "stream",
     "text": [
      "# SRA\n"
     ]
    },
    {
     "name": "stderr",
     "output_type": "stream",
     "text": [
      "/Users/shi-fukushima/.pyenv/versions/anaconda3-5.3.1/lib/python3.7/site-packages/ipykernel_launcher.py:32: RuntimeWarning: invalid value encountered in true_divide\n"
     ]
    },
    {
     "name": "stdout",
     "output_type": "stream",
     "text": [
      "# SEM\n"
     ]
    },
    {
     "data": {
      "application/vnd.jupyter.widget-view+json": {
       "model_id": "d96e903c10a748f4abca2db531be6b4c",
       "version_major": 2,
       "version_minor": 0
      },
      "text/plain": [
       "  0%|          | 0/20000 [00:00<?, ?it/s]"
      ]
     },
     "metadata": {},
     "output_type": "display_data"
    },
    {
     "data": {
      "application/vnd.jupyter.widget-view+json": {
       "model_id": "09c7e161bcd04285a35da86d6d518539",
       "version_major": 2,
       "version_minor": 0
      },
      "text/plain": [
       "  0%|          | 0/20000 [00:00<?, ?it/s]"
      ]
     },
     "metadata": {},
     "output_type": "display_data"
    },
    {
     "data": {
      "application/vnd.jupyter.widget-view+json": {
       "model_id": "694857d939944238a45b8965e08e09c9",
       "version_major": 2,
       "version_minor": 0
      },
      "text/plain": [
       "  0%|          | 0/20000 [00:00<?, ?it/s]"
      ]
     },
     "metadata": {},
     "output_type": "display_data"
    },
    {
     "name": "stdout",
     "output_type": "stream",
     "text": [
      "# SRA\n",
      "# SEM\n"
     ]
    },
    {
     "data": {
      "application/vnd.jupyter.widget-view+json": {
       "model_id": "cc44aa013966466aab1aa4d3dd85412a",
       "version_major": 2,
       "version_minor": 0
      },
      "text/plain": [
       "  0%|          | 0/20000 [00:00<?, ?it/s]"
      ]
     },
     "metadata": {},
     "output_type": "display_data"
    },
    {
     "data": {
      "application/vnd.jupyter.widget-view+json": {
       "model_id": "d3c6e224c74d413881596841de275b87",
       "version_major": 2,
       "version_minor": 0
      },
      "text/plain": [
       "  0%|          | 0/20000 [00:00<?, ?it/s]"
      ]
     },
     "metadata": {},
     "output_type": "display_data"
    },
    {
     "data": {
      "application/vnd.jupyter.widget-view+json": {
       "model_id": "a86b32d0d82447af93c6c36c9b62e1cc",
       "version_major": 2,
       "version_minor": 0
      },
      "text/plain": [
       "  0%|          | 0/20000 [00:00<?, ?it/s]"
      ]
     },
     "metadata": {},
     "output_type": "display_data"
    },
    {
     "name": "stdout",
     "output_type": "stream",
     "text": [
      "# SRA\n",
      "# SEM\n"
     ]
    },
    {
     "data": {
      "application/vnd.jupyter.widget-view+json": {
       "model_id": "10df3ab9794c41e28732cc79968575a7",
       "version_major": 2,
       "version_minor": 0
      },
      "text/plain": [
       "  0%|          | 0/20000 [00:00<?, ?it/s]"
      ]
     },
     "metadata": {},
     "output_type": "display_data"
    },
    {
     "data": {
      "application/vnd.jupyter.widget-view+json": {
       "model_id": "7939f24ad81c4effb6658654a2511a77",
       "version_major": 2,
       "version_minor": 0
      },
      "text/plain": [
       "  0%|          | 0/20000 [00:00<?, ?it/s]"
      ]
     },
     "metadata": {},
     "output_type": "display_data"
    },
    {
     "data": {
      "application/vnd.jupyter.widget-view+json": {
       "model_id": "d951c8e8fe5446a497ab5cf5646a7844",
       "version_major": 2,
       "version_minor": 0
      },
      "text/plain": [
       "  0%|          | 0/20000 [00:00<?, ?it/s]"
      ]
     },
     "metadata": {},
     "output_type": "display_data"
    },
    {
     "name": "stdout",
     "output_type": "stream",
     "text": [
      "# SRA\n",
      "# SEM\n"
     ]
    },
    {
     "data": {
      "application/vnd.jupyter.widget-view+json": {
       "model_id": "012492aeccf8451ab4ef2a2e1f90baf2",
       "version_major": 2,
       "version_minor": 0
      },
      "text/plain": [
       "  0%|          | 0/20000 [00:00<?, ?it/s]"
      ]
     },
     "metadata": {},
     "output_type": "display_data"
    },
    {
     "data": {
      "application/vnd.jupyter.widget-view+json": {
       "model_id": "df15b176452f4bb09254aa918853816f",
       "version_major": 2,
       "version_minor": 0
      },
      "text/plain": [
       "  0%|          | 0/20000 [00:00<?, ?it/s]"
      ]
     },
     "metadata": {},
     "output_type": "display_data"
    },
    {
     "data": {
      "application/vnd.jupyter.widget-view+json": {
       "model_id": "78f8cd2412bf4166b77ff656eb5836ec",
       "version_major": 2,
       "version_minor": 0
      },
      "text/plain": [
       "  0%|          | 0/20000 [00:00<?, ?it/s]"
      ]
     },
     "metadata": {},
     "output_type": "display_data"
    },
    {
     "name": "stdout",
     "output_type": "stream",
     "text": [
      "# SRA\n",
      "# SEM\n"
     ]
    },
    {
     "data": {
      "application/vnd.jupyter.widget-view+json": {
       "model_id": "ad1a7ee2d6dd4060b958906d3a7b9bf3",
       "version_major": 2,
       "version_minor": 0
      },
      "text/plain": [
       "  0%|          | 0/20000 [00:00<?, ?it/s]"
      ]
     },
     "metadata": {},
     "output_type": "display_data"
    },
    {
     "data": {
      "application/vnd.jupyter.widget-view+json": {
       "model_id": "26f6b1fcaab74dc9bc337716ab02f022",
       "version_major": 2,
       "version_minor": 0
      },
      "text/plain": [
       "  0%|          | 0/20000 [00:00<?, ?it/s]"
      ]
     },
     "metadata": {},
     "output_type": "display_data"
    },
    {
     "data": {
      "application/vnd.jupyter.widget-view+json": {
       "model_id": "92e3bf96450c403498f41e2faf9d5a95",
       "version_major": 2,
       "version_minor": 0
      },
      "text/plain": [
       "  0%|          | 0/20000 [00:00<?, ?it/s]"
      ]
     },
     "metadata": {},
     "output_type": "display_data"
    },
    {
     "name": "stdout",
     "output_type": "stream",
     "text": [
      "# SRA\n",
      "# SEM\n"
     ]
    },
    {
     "data": {
      "application/vnd.jupyter.widget-view+json": {
       "model_id": "4c9cd96b7ef34e0b946994dcca66dd70",
       "version_major": 2,
       "version_minor": 0
      },
      "text/plain": [
       "  0%|          | 0/20000 [00:00<?, ?it/s]"
      ]
     },
     "metadata": {},
     "output_type": "display_data"
    },
    {
     "data": {
      "application/vnd.jupyter.widget-view+json": {
       "model_id": "494f6ead3fdf4a5bbbc812b68cddaff9",
       "version_major": 2,
       "version_minor": 0
      },
      "text/plain": [
       "  0%|          | 0/20000 [00:00<?, ?it/s]"
      ]
     },
     "metadata": {},
     "output_type": "display_data"
    },
    {
     "data": {
      "application/vnd.jupyter.widget-view+json": {
       "model_id": "2952229ce0b84f2ab2b911d30554a00e",
       "version_major": 2,
       "version_minor": 0
      },
      "text/plain": [
       "  0%|          | 0/20000 [00:00<?, ?it/s]"
      ]
     },
     "metadata": {},
     "output_type": "display_data"
    },
    {
     "name": "stdout",
     "output_type": "stream",
     "text": [
      "# SRA\n",
      "# SEM\n"
     ]
    },
    {
     "data": {
      "application/vnd.jupyter.widget-view+json": {
       "model_id": "a58f813691b648dbaa86f6c76182c62e",
       "version_major": 2,
       "version_minor": 0
      },
      "text/plain": [
       "  0%|          | 0/20000 [00:00<?, ?it/s]"
      ]
     },
     "metadata": {},
     "output_type": "display_data"
    },
    {
     "data": {
      "application/vnd.jupyter.widget-view+json": {
       "model_id": "9501beacbf794f809f0920619fda1c54",
       "version_major": 2,
       "version_minor": 0
      },
      "text/plain": [
       "  0%|          | 0/20000 [00:00<?, ?it/s]"
      ]
     },
     "metadata": {},
     "output_type": "display_data"
    },
    {
     "data": {
      "application/vnd.jupyter.widget-view+json": {
       "model_id": "828199cbcdcb430ca2bc2dfee245384f",
       "version_major": 2,
       "version_minor": 0
      },
      "text/plain": [
       "  0%|          | 0/20000 [00:00<?, ?it/s]"
      ]
     },
     "metadata": {},
     "output_type": "display_data"
    },
    {
     "name": "stdout",
     "output_type": "stream",
     "text": [
      "# SRA\n",
      "# SEM\n"
     ]
    },
    {
     "data": {
      "application/vnd.jupyter.widget-view+json": {
       "model_id": "d6e007f6289a4fd98245591816abe413",
       "version_major": 2,
       "version_minor": 0
      },
      "text/plain": [
       "  0%|          | 0/20000 [00:00<?, ?it/s]"
      ]
     },
     "metadata": {},
     "output_type": "display_data"
    },
    {
     "data": {
      "application/vnd.jupyter.widget-view+json": {
       "model_id": "0c68c4ff463e44eaac0c94bcb23179ad",
       "version_major": 2,
       "version_minor": 0
      },
      "text/plain": [
       "  0%|          | 0/20000 [00:00<?, ?it/s]"
      ]
     },
     "metadata": {},
     "output_type": "display_data"
    },
    {
     "data": {
      "application/vnd.jupyter.widget-view+json": {
       "model_id": "be88137a14f74c7fb08a8472109d9c96",
       "version_major": 2,
       "version_minor": 0
      },
      "text/plain": [
       "  0%|          | 0/20000 [00:00<?, ?it/s]"
      ]
     },
     "metadata": {},
     "output_type": "display_data"
    },
    {
     "name": "stdout",
     "output_type": "stream",
     "text": [
      "# SRA\n",
      "# SEM\n"
     ]
    },
    {
     "data": {
      "application/vnd.jupyter.widget-view+json": {
       "model_id": "24f85e8269014fd2a9c3ede5663ea188",
       "version_major": 2,
       "version_minor": 0
      },
      "text/plain": [
       "  0%|          | 0/20000 [00:00<?, ?it/s]"
      ]
     },
     "metadata": {},
     "output_type": "display_data"
    },
    {
     "data": {
      "application/vnd.jupyter.widget-view+json": {
       "model_id": "083b440818594c41958c9f3d484304a7",
       "version_major": 2,
       "version_minor": 0
      },
      "text/plain": [
       "  0%|          | 0/20000 [00:00<?, ?it/s]"
      ]
     },
     "metadata": {},
     "output_type": "display_data"
    },
    {
     "data": {
      "application/vnd.jupyter.widget-view+json": {
       "model_id": "899d8baceee742b2b61f38eb87ea5537",
       "version_major": 2,
       "version_minor": 0
      },
      "text/plain": [
       "  0%|          | 0/20000 [00:00<?, ?it/s]"
      ]
     },
     "metadata": {},
     "output_type": "display_data"
    },
    {
     "name": "stdout",
     "output_type": "stream",
     "text": [
      "# SRA\n"
     ]
    }
   ],
   "source": [
    "#auc_adwin_df, auc_kswin_df, auc_ddm_df, auc_eddm_df, auc_ph_df, auc_sdem_df, auc_iem_df, auc_sem_df, auc_sra_df, \\\n",
    "#time_adwin, time_kswin, time_ddm, time_eddm, time_ph, time_sdem, time_iem, time_sem, time_sra = experiment1_comparison_auc(u=20)\n",
    "\n",
    "auc_sdem_df, auc_iem_df, auc_sem_df, auc_sra_df, \\\n",
    "time_sdem, time_iem, time_sem, time_sra = experiment1_comparison_auc(u=20)"
   ]
  },
  {
   "cell_type": "code",
   "execution_count": 48,
   "id": "antique-difference",
   "metadata": {},
   "outputs": [
    {
     "ename": "NameError",
     "evalue": "name 'auc_kswin_df' is not defined",
     "output_type": "error",
     "traceback": [
      "\u001b[0;31m---------------------------------------------------------------------------\u001b[0m",
      "\u001b[0;31mNameError\u001b[0m                                 Traceback (most recent call last)",
      "\u001b[0;32m<ipython-input-48-ed36d455250a>\u001b[0m in \u001b[0;36m<module>\u001b[0;34m\u001b[0m\n\u001b[0;32m----> 1\u001b[0;31m \u001b[0mauc_kswin_df\u001b[0m\u001b[0;34m.\u001b[0m\u001b[0mgroupby\u001b[0m\u001b[0;34m(\u001b[0m\u001b[0;34m[\u001b[0m\u001b[0;34m'alpha'\u001b[0m\u001b[0;34m,\u001b[0m \u001b[0;34m'window_size'\u001b[0m\u001b[0;34m,\u001b[0m \u001b[0;34m'stat_size'\u001b[0m\u001b[0;34m]\u001b[0m\u001b[0;34m)\u001b[0m\u001b[0;34m[\u001b[0m\u001b[0;34m'auc'\u001b[0m\u001b[0;34m]\u001b[0m\u001b[0;34m.\u001b[0m\u001b[0magg\u001b[0m\u001b[0;34m(\u001b[0m\u001b[0;34m[\u001b[0m\u001b[0;34m'mean'\u001b[0m\u001b[0;34m,\u001b[0m \u001b[0;34m'std'\u001b[0m\u001b[0;34m]\u001b[0m\u001b[0;34m)\u001b[0m\u001b[0;34m\u001b[0m\u001b[0;34m\u001b[0m\u001b[0m\n\u001b[0m",
      "\u001b[0;31mNameError\u001b[0m: name 'auc_kswin_df' is not defined"
     ]
    }
   ],
   "source": [
    "auc_kswin_df.groupby(['alpha', 'window_size', 'stat_size'])['auc'].agg(['mean', 'std'])"
   ]
  },
  {
   "cell_type": "code",
   "execution_count": 32,
   "id": "functioning-short",
   "metadata": {},
   "outputs": [
    {
     "data": {
      "text/html": [
       "<div>\n",
       "<style scoped>\n",
       "    .dataframe tbody tr th:only-of-type {\n",
       "        vertical-align: middle;\n",
       "    }\n",
       "\n",
       "    .dataframe tbody tr th {\n",
       "        vertical-align: top;\n",
       "    }\n",
       "\n",
       "    .dataframe thead th {\n",
       "        text-align: right;\n",
       "    }\n",
       "</style>\n",
       "<table border=\"1\" class=\"dataframe\">\n",
       "  <thead>\n",
       "    <tr style=\"text-align: right;\">\n",
       "      <th></th>\n",
       "      <th>mean</th>\n",
       "      <th>std</th>\n",
       "    </tr>\n",
       "    <tr>\n",
       "      <th>threshold</th>\n",
       "      <th></th>\n",
       "      <th></th>\n",
       "    </tr>\n",
       "  </thead>\n",
       "  <tbody>\n",
       "    <tr>\n",
       "      <th>10</th>\n",
       "      <td>0.583828</td>\n",
       "      <td>0.2662</td>\n",
       "    </tr>\n",
       "    <tr>\n",
       "      <th>20</th>\n",
       "      <td>0.583828</td>\n",
       "      <td>0.2662</td>\n",
       "    </tr>\n",
       "    <tr>\n",
       "      <th>30</th>\n",
       "      <td>0.583828</td>\n",
       "      <td>0.2662</td>\n",
       "    </tr>\n",
       "    <tr>\n",
       "      <th>40</th>\n",
       "      <td>0.583828</td>\n",
       "      <td>0.2662</td>\n",
       "    </tr>\n",
       "    <tr>\n",
       "      <th>50</th>\n",
       "      <td>0.583828</td>\n",
       "      <td>0.2662</td>\n",
       "    </tr>\n",
       "    <tr>\n",
       "      <th>60</th>\n",
       "      <td>0.583828</td>\n",
       "      <td>0.2662</td>\n",
       "    </tr>\n",
       "    <tr>\n",
       "      <th>70</th>\n",
       "      <td>0.583828</td>\n",
       "      <td>0.2662</td>\n",
       "    </tr>\n",
       "    <tr>\n",
       "      <th>80</th>\n",
       "      <td>0.583828</td>\n",
       "      <td>0.2662</td>\n",
       "    </tr>\n",
       "    <tr>\n",
       "      <th>90</th>\n",
       "      <td>0.583828</td>\n",
       "      <td>0.2662</td>\n",
       "    </tr>\n",
       "    <tr>\n",
       "      <th>100</th>\n",
       "      <td>0.583828</td>\n",
       "      <td>0.2662</td>\n",
       "    </tr>\n",
       "  </tbody>\n",
       "</table>\n",
       "</div>"
      ],
      "text/plain": [
       "               mean     std\n",
       "threshold                  \n",
       "10         0.583828  0.2662\n",
       "20         0.583828  0.2662\n",
       "30         0.583828  0.2662\n",
       "40         0.583828  0.2662\n",
       "50         0.583828  0.2662\n",
       "60         0.583828  0.2662\n",
       "70         0.583828  0.2662\n",
       "80         0.583828  0.2662\n",
       "90         0.583828  0.2662\n",
       "100        0.583828  0.2662"
      ]
     },
     "execution_count": 32,
     "metadata": {},
     "output_type": "execute_result"
    }
   ],
   "source": [
    "auc_ph_df.groupby('threshold')['auc'].agg(['mean', 'std'])"
   ]
  },
  {
   "cell_type": "code",
   "execution_count": 33,
   "id": "linear-prize",
   "metadata": {},
   "outputs": [
    {
     "data": {
      "text/html": [
       "<div>\n",
       "<style scoped>\n",
       "    .dataframe tbody tr th:only-of-type {\n",
       "        vertical-align: middle;\n",
       "    }\n",
       "\n",
       "    .dataframe tbody tr th {\n",
       "        vertical-align: top;\n",
       "    }\n",
       "\n",
       "    .dataframe thead th {\n",
       "        text-align: right;\n",
       "    }\n",
       "</style>\n",
       "<table border=\"1\" class=\"dataframe\">\n",
       "  <thead>\n",
       "    <tr style=\"text-align: right;\">\n",
       "      <th></th>\n",
       "      <th>mean</th>\n",
       "      <th>std</th>\n",
       "    </tr>\n",
       "    <tr>\n",
       "      <th>r</th>\n",
       "      <th></th>\n",
       "      <th></th>\n",
       "    </tr>\n",
       "  </thead>\n",
       "  <tbody>\n",
       "    <tr>\n",
       "      <th>0.0001</th>\n",
       "      <td>0.552011</td>\n",
       "      <td>0.062567</td>\n",
       "    </tr>\n",
       "    <tr>\n",
       "      <th>0.0010</th>\n",
       "      <td>0.528562</td>\n",
       "      <td>0.109216</td>\n",
       "    </tr>\n",
       "    <tr>\n",
       "      <th>0.0050</th>\n",
       "      <td>0.575071</td>\n",
       "      <td>0.209301</td>\n",
       "    </tr>\n",
       "    <tr>\n",
       "      <th>0.0100</th>\n",
       "      <td>0.585500</td>\n",
       "      <td>0.192968</td>\n",
       "    </tr>\n",
       "  </tbody>\n",
       "</table>\n",
       "</div>"
      ],
      "text/plain": [
       "            mean       std\n",
       "r                         \n",
       "0.0001  0.552011  0.062567\n",
       "0.0010  0.528562  0.109216\n",
       "0.0050  0.575071  0.209301\n",
       "0.0100  0.585500  0.192968"
      ]
     },
     "execution_count": 33,
     "metadata": {},
     "output_type": "execute_result"
    }
   ],
   "source": [
    "auc_sdem_df.groupby('r')['auc'].agg(['mean', 'std'])"
   ]
  },
  {
   "cell_type": "code",
   "execution_count": 34,
   "id": "informative-brooks",
   "metadata": {},
   "outputs": [
    {
     "data": {
      "text/plain": [
       "mean    0.514651\n",
       "std     0.055133\n",
       "Name: auc, dtype: float64"
      ]
     },
     "execution_count": 34,
     "metadata": {},
     "output_type": "execute_result"
    }
   ],
   "source": [
    "auc_iem_df['auc'].agg(['mean', 'std'])"
   ]
  },
  {
   "cell_type": "code",
   "execution_count": 35,
   "id": "valuable-desire",
   "metadata": {},
   "outputs": [
    {
     "data": {
      "text/html": [
       "<div>\n",
       "<style scoped>\n",
       "    .dataframe tbody tr th:only-of-type {\n",
       "        vertical-align: middle;\n",
       "    }\n",
       "\n",
       "    .dataframe tbody tr th {\n",
       "        vertical-align: top;\n",
       "    }\n",
       "\n",
       "    .dataframe thead th {\n",
       "        text-align: right;\n",
       "    }\n",
       "</style>\n",
       "<table border=\"1\" class=\"dataframe\">\n",
       "  <thead>\n",
       "    <tr style=\"text-align: right;\">\n",
       "      <th></th>\n",
       "      <th>mean</th>\n",
       "      <th>std</th>\n",
       "    </tr>\n",
       "    <tr>\n",
       "      <th>r</th>\n",
       "      <th></th>\n",
       "      <th></th>\n",
       "    </tr>\n",
       "  </thead>\n",
       "  <tbody>\n",
       "    <tr>\n",
       "      <th>0.01</th>\n",
       "      <td>0.530483</td>\n",
       "      <td>0.111716</td>\n",
       "    </tr>\n",
       "    <tr>\n",
       "      <th>0.05</th>\n",
       "      <td>0.512963</td>\n",
       "      <td>0.086617</td>\n",
       "    </tr>\n",
       "    <tr>\n",
       "      <th>0.10</th>\n",
       "      <td>0.506042</td>\n",
       "      <td>0.065566</td>\n",
       "    </tr>\n",
       "  </tbody>\n",
       "</table>\n",
       "</div>"
      ],
      "text/plain": [
       "          mean       std\n",
       "r                       \n",
       "0.01  0.530483  0.111716\n",
       "0.05  0.512963  0.086617\n",
       "0.10  0.506042  0.065566"
      ]
     },
     "execution_count": 35,
     "metadata": {},
     "output_type": "execute_result"
    }
   ],
   "source": [
    "auc_sem_df.groupby('r')['auc'].agg(['mean', 'std'])"
   ]
  },
  {
   "cell_type": "code",
   "execution_count": 36,
   "id": "single-difficulty",
   "metadata": {},
   "outputs": [
    {
     "data": {
      "text/html": [
       "<div>\n",
       "<style scoped>\n",
       "    .dataframe tbody tr th:only-of-type {\n",
       "        vertical-align: middle;\n",
       "    }\n",
       "\n",
       "    .dataframe tbody tr th {\n",
       "        vertical-align: top;\n",
       "    }\n",
       "\n",
       "    .dataframe thead th {\n",
       "        text-align: right;\n",
       "    }\n",
       "</style>\n",
       "<table border=\"1\" class=\"dataframe\">\n",
       "  <thead>\n",
       "    <tr style=\"text-align: right;\">\n",
       "      <th></th>\n",
       "      <th></th>\n",
       "      <th></th>\n",
       "      <th>mean</th>\n",
       "      <th>std</th>\n",
       "    </tr>\n",
       "    <tr>\n",
       "      <th>gamma</th>\n",
       "      <th>ratio</th>\n",
       "      <th>M</th>\n",
       "      <th></th>\n",
       "      <th></th>\n",
       "    </tr>\n",
       "  </thead>\n",
       "  <tbody>\n",
       "    <tr>\n",
       "      <th rowspan=\"12\" valign=\"top\">1</th>\n",
       "      <th rowspan=\"3\" valign=\"top\">0.01</th>\n",
       "      <th>1</th>\n",
       "      <td>0.353641</td>\n",
       "      <td>0.187782</td>\n",
       "    </tr>\n",
       "    <tr>\n",
       "      <th>2</th>\n",
       "      <td>0.417654</td>\n",
       "      <td>0.031089</td>\n",
       "    </tr>\n",
       "    <tr>\n",
       "      <th>4</th>\n",
       "      <td>0.416375</td>\n",
       "      <td>0.030095</td>\n",
       "    </tr>\n",
       "    <tr>\n",
       "      <th rowspan=\"3\" valign=\"top\">0.03</th>\n",
       "      <th>1</th>\n",
       "      <td>0.416980</td>\n",
       "      <td>0.026023</td>\n",
       "    </tr>\n",
       "    <tr>\n",
       "      <th>2</th>\n",
       "      <td>0.414876</td>\n",
       "      <td>0.022867</td>\n",
       "    </tr>\n",
       "    <tr>\n",
       "      <th>4</th>\n",
       "      <td>0.409879</td>\n",
       "      <td>0.026551</td>\n",
       "    </tr>\n",
       "    <tr>\n",
       "      <th rowspan=\"3\" valign=\"top\">0.05</th>\n",
       "      <th>1</th>\n",
       "      <td>0.416261</td>\n",
       "      <td>0.020742</td>\n",
       "    </tr>\n",
       "    <tr>\n",
       "      <th>2</th>\n",
       "      <td>0.404215</td>\n",
       "      <td>0.024266</td>\n",
       "    </tr>\n",
       "    <tr>\n",
       "      <th>4</th>\n",
       "      <td>0.395803</td>\n",
       "      <td>0.021935</td>\n",
       "    </tr>\n",
       "    <tr>\n",
       "      <th rowspan=\"3\" valign=\"top\">0.10</th>\n",
       "      <th>1</th>\n",
       "      <td>0.405302</td>\n",
       "      <td>0.024153</td>\n",
       "    </tr>\n",
       "    <tr>\n",
       "      <th>2</th>\n",
       "      <td>0.371705</td>\n",
       "      <td>0.018973</td>\n",
       "    </tr>\n",
       "    <tr>\n",
       "      <th>4</th>\n",
       "      <td>0.361976</td>\n",
       "      <td>0.014618</td>\n",
       "    </tr>\n",
       "    <tr>\n",
       "      <th rowspan=\"12\" valign=\"top\">3</th>\n",
       "      <th rowspan=\"3\" valign=\"top\">0.03</th>\n",
       "      <th>3</th>\n",
       "      <td>0.458967</td>\n",
       "      <td>0.242217</td>\n",
       "    </tr>\n",
       "    <tr>\n",
       "      <th>6</th>\n",
       "      <td>0.523734</td>\n",
       "      <td>0.028048</td>\n",
       "    </tr>\n",
       "    <tr>\n",
       "      <th>12</th>\n",
       "      <td>0.519635</td>\n",
       "      <td>0.024585</td>\n",
       "    </tr>\n",
       "    <tr>\n",
       "      <th rowspan=\"3\" valign=\"top\">0.09</th>\n",
       "      <th>3</th>\n",
       "      <td>0.516534</td>\n",
       "      <td>0.020352</td>\n",
       "    </tr>\n",
       "    <tr>\n",
       "      <th>6</th>\n",
       "      <td>0.500915</td>\n",
       "      <td>0.016956</td>\n",
       "    </tr>\n",
       "    <tr>\n",
       "      <th>12</th>\n",
       "      <td>0.497605</td>\n",
       "      <td>0.017468</td>\n",
       "    </tr>\n",
       "    <tr>\n",
       "      <th rowspan=\"3\" valign=\"top\">0.15</th>\n",
       "      <th>3</th>\n",
       "      <td>0.504471</td>\n",
       "      <td>0.016820</td>\n",
       "    </tr>\n",
       "    <tr>\n",
       "      <th>6</th>\n",
       "      <td>0.493078</td>\n",
       "      <td>0.017545</td>\n",
       "    </tr>\n",
       "    <tr>\n",
       "      <th>12</th>\n",
       "      <td>0.490463</td>\n",
       "      <td>0.017227</td>\n",
       "    </tr>\n",
       "    <tr>\n",
       "      <th rowspan=\"3\" valign=\"top\">0.30</th>\n",
       "      <th>3</th>\n",
       "      <td>0.493482</td>\n",
       "      <td>0.017596</td>\n",
       "    </tr>\n",
       "    <tr>\n",
       "      <th>6</th>\n",
       "      <td>0.485793</td>\n",
       "      <td>0.018748</td>\n",
       "    </tr>\n",
       "    <tr>\n",
       "      <th>12</th>\n",
       "      <td>0.484763</td>\n",
       "      <td>0.018883</td>\n",
       "    </tr>\n",
       "    <tr>\n",
       "      <th rowspan=\"12\" valign=\"top\">5</th>\n",
       "      <th rowspan=\"3\" valign=\"top\">0.05</th>\n",
       "      <th>5</th>\n",
       "      <td>0.458431</td>\n",
       "      <td>0.239429</td>\n",
       "    </tr>\n",
       "    <tr>\n",
       "      <th>10</th>\n",
       "      <td>0.525027</td>\n",
       "      <td>0.028571</td>\n",
       "    </tr>\n",
       "    <tr>\n",
       "      <th>20</th>\n",
       "      <td>0.520364</td>\n",
       "      <td>0.023419</td>\n",
       "    </tr>\n",
       "    <tr>\n",
       "      <th rowspan=\"3\" valign=\"top\">0.15</th>\n",
       "      <th>5</th>\n",
       "      <td>0.517442</td>\n",
       "      <td>0.021095</td>\n",
       "    </tr>\n",
       "    <tr>\n",
       "      <th>10</th>\n",
       "      <td>0.504859</td>\n",
       "      <td>0.012546</td>\n",
       "    </tr>\n",
       "    <tr>\n",
       "      <th>20</th>\n",
       "      <td>0.501841</td>\n",
       "      <td>0.013082</td>\n",
       "    </tr>\n",
       "    <tr>\n",
       "      <th rowspan=\"3\" valign=\"top\">0.25</th>\n",
       "      <th>5</th>\n",
       "      <td>0.507561</td>\n",
       "      <td>0.014707</td>\n",
       "    </tr>\n",
       "    <tr>\n",
       "      <th>10</th>\n",
       "      <td>0.497789</td>\n",
       "      <td>0.013535</td>\n",
       "    </tr>\n",
       "    <tr>\n",
       "      <th>20</th>\n",
       "      <td>0.495730</td>\n",
       "      <td>0.012118</td>\n",
       "    </tr>\n",
       "    <tr>\n",
       "      <th rowspan=\"3\" valign=\"top\">0.50</th>\n",
       "      <th>5</th>\n",
       "      <td>0.498960</td>\n",
       "      <td>0.013498</td>\n",
       "    </tr>\n",
       "    <tr>\n",
       "      <th>10</th>\n",
       "      <td>0.492136</td>\n",
       "      <td>0.012554</td>\n",
       "    </tr>\n",
       "    <tr>\n",
       "      <th>20</th>\n",
       "      <td>0.489558</td>\n",
       "      <td>0.012859</td>\n",
       "    </tr>\n",
       "    <tr>\n",
       "      <th rowspan=\"12\" valign=\"top\">10</th>\n",
       "      <th rowspan=\"3\" valign=\"top\">0.10</th>\n",
       "      <th>10</th>\n",
       "      <td>0.527944</td>\n",
       "      <td>0.059301</td>\n",
       "    </tr>\n",
       "    <tr>\n",
       "      <th>20</th>\n",
       "      <td>0.514966</td>\n",
       "      <td>0.025118</td>\n",
       "    </tr>\n",
       "    <tr>\n",
       "      <th>40</th>\n",
       "      <td>0.512271</td>\n",
       "      <td>0.022458</td>\n",
       "    </tr>\n",
       "    <tr>\n",
       "      <th rowspan=\"3\" valign=\"top\">0.30</th>\n",
       "      <th>10</th>\n",
       "      <td>0.510894</td>\n",
       "      <td>0.022178</td>\n",
       "    </tr>\n",
       "    <tr>\n",
       "      <th>20</th>\n",
       "      <td>0.499956</td>\n",
       "      <td>0.029962</td>\n",
       "    </tr>\n",
       "    <tr>\n",
       "      <th>40</th>\n",
       "      <td>0.498814</td>\n",
       "      <td>0.031408</td>\n",
       "    </tr>\n",
       "    <tr>\n",
       "      <th rowspan=\"3\" valign=\"top\">0.50</th>\n",
       "      <th>10</th>\n",
       "      <td>0.503673</td>\n",
       "      <td>0.026131</td>\n",
       "    </tr>\n",
       "    <tr>\n",
       "      <th>20</th>\n",
       "      <td>0.495066</td>\n",
       "      <td>0.033188</td>\n",
       "    </tr>\n",
       "    <tr>\n",
       "      <th>40</th>\n",
       "      <td>0.493104</td>\n",
       "      <td>0.032267</td>\n",
       "    </tr>\n",
       "    <tr>\n",
       "      <th rowspan=\"3\" valign=\"top\">1.00</th>\n",
       "      <th>10</th>\n",
       "      <td>0.496128</td>\n",
       "      <td>0.032992</td>\n",
       "    </tr>\n",
       "    <tr>\n",
       "      <th>20</th>\n",
       "      <td>0.489677</td>\n",
       "      <td>0.030461</td>\n",
       "    </tr>\n",
       "    <tr>\n",
       "      <th>40</th>\n",
       "      <td>0.487503</td>\n",
       "      <td>0.030842</td>\n",
       "    </tr>\n",
       "    <tr>\n",
       "      <th rowspan=\"12\" valign=\"top\">15</th>\n",
       "      <th rowspan=\"3\" valign=\"top\">0.15</th>\n",
       "      <th>15</th>\n",
       "      <td>0.499805</td>\n",
       "      <td>0.061700</td>\n",
       "    </tr>\n",
       "    <tr>\n",
       "      <th>30</th>\n",
       "      <td>0.488615</td>\n",
       "      <td>0.036942</td>\n",
       "    </tr>\n",
       "    <tr>\n",
       "      <th>60</th>\n",
       "      <td>0.486580</td>\n",
       "      <td>0.036167</td>\n",
       "    </tr>\n",
       "    <tr>\n",
       "      <th rowspan=\"3\" valign=\"top\">0.45</th>\n",
       "      <th>15</th>\n",
       "      <td>0.484704</td>\n",
       "      <td>0.036906</td>\n",
       "    </tr>\n",
       "    <tr>\n",
       "      <th>30</th>\n",
       "      <td>0.482166</td>\n",
       "      <td>0.045675</td>\n",
       "    </tr>\n",
       "    <tr>\n",
       "      <th>60</th>\n",
       "      <td>0.482375</td>\n",
       "      <td>0.048616</td>\n",
       "    </tr>\n",
       "    <tr>\n",
       "      <th rowspan=\"3\" valign=\"top\">0.75</th>\n",
       "      <th>15</th>\n",
       "      <td>0.482926</td>\n",
       "      <td>0.041180</td>\n",
       "    </tr>\n",
       "    <tr>\n",
       "      <th>30</th>\n",
       "      <td>0.481008</td>\n",
       "      <td>0.053003</td>\n",
       "    </tr>\n",
       "    <tr>\n",
       "      <th>60</th>\n",
       "      <td>0.481592</td>\n",
       "      <td>0.055398</td>\n",
       "    </tr>\n",
       "    <tr>\n",
       "      <th rowspan=\"3\" valign=\"top\">1.50</th>\n",
       "      <th>15</th>\n",
       "      <td>0.481762</td>\n",
       "      <td>0.052739</td>\n",
       "    </tr>\n",
       "    <tr>\n",
       "      <th>30</th>\n",
       "      <td>0.484051</td>\n",
       "      <td>0.059678</td>\n",
       "    </tr>\n",
       "    <tr>\n",
       "      <th>60</th>\n",
       "      <td>0.483740</td>\n",
       "      <td>0.060078</td>\n",
       "    </tr>\n",
       "  </tbody>\n",
       "</table>\n",
       "</div>"
      ],
      "text/plain": [
       "                    mean       std\n",
       "gamma ratio M                     \n",
       "1     0.01  1   0.353641  0.187782\n",
       "            2   0.417654  0.031089\n",
       "            4   0.416375  0.030095\n",
       "      0.03  1   0.416980  0.026023\n",
       "            2   0.414876  0.022867\n",
       "            4   0.409879  0.026551\n",
       "      0.05  1   0.416261  0.020742\n",
       "            2   0.404215  0.024266\n",
       "            4   0.395803  0.021935\n",
       "      0.10  1   0.405302  0.024153\n",
       "            2   0.371705  0.018973\n",
       "            4   0.361976  0.014618\n",
       "3     0.03  3   0.458967  0.242217\n",
       "            6   0.523734  0.028048\n",
       "            12  0.519635  0.024585\n",
       "      0.09  3   0.516534  0.020352\n",
       "            6   0.500915  0.016956\n",
       "            12  0.497605  0.017468\n",
       "      0.15  3   0.504471  0.016820\n",
       "            6   0.493078  0.017545\n",
       "            12  0.490463  0.017227\n",
       "      0.30  3   0.493482  0.017596\n",
       "            6   0.485793  0.018748\n",
       "            12  0.484763  0.018883\n",
       "5     0.05  5   0.458431  0.239429\n",
       "            10  0.525027  0.028571\n",
       "            20  0.520364  0.023419\n",
       "      0.15  5   0.517442  0.021095\n",
       "            10  0.504859  0.012546\n",
       "            20  0.501841  0.013082\n",
       "      0.25  5   0.507561  0.014707\n",
       "            10  0.497789  0.013535\n",
       "            20  0.495730  0.012118\n",
       "      0.50  5   0.498960  0.013498\n",
       "            10  0.492136  0.012554\n",
       "            20  0.489558  0.012859\n",
       "10    0.10  10  0.527944  0.059301\n",
       "            20  0.514966  0.025118\n",
       "            40  0.512271  0.022458\n",
       "      0.30  10  0.510894  0.022178\n",
       "            20  0.499956  0.029962\n",
       "            40  0.498814  0.031408\n",
       "      0.50  10  0.503673  0.026131\n",
       "            20  0.495066  0.033188\n",
       "            40  0.493104  0.032267\n",
       "      1.00  10  0.496128  0.032992\n",
       "            20  0.489677  0.030461\n",
       "            40  0.487503  0.030842\n",
       "15    0.15  15  0.499805  0.061700\n",
       "            30  0.488615  0.036942\n",
       "            60  0.486580  0.036167\n",
       "      0.45  15  0.484704  0.036906\n",
       "            30  0.482166  0.045675\n",
       "            60  0.482375  0.048616\n",
       "      0.75  15  0.482926  0.041180\n",
       "            30  0.481008  0.053003\n",
       "            60  0.481592  0.055398\n",
       "      1.50  15  0.481762  0.052739\n",
       "            30  0.484051  0.059678\n",
       "            60  0.483740  0.060078"
      ]
     },
     "execution_count": 36,
     "metadata": {},
     "output_type": "execute_result"
    }
   ],
   "source": [
    "auc_sra_df.groupby(['gamma', 'ratio', 'M'])['auc'].agg(['mean', 'std'])"
   ]
  },
  {
   "cell_type": "code",
   "execution_count": null,
   "id": "reduced-percentage",
   "metadata": {},
   "outputs": [],
   "source": []
  },
  {
   "cell_type": "code",
   "execution_count": 37,
   "id": "sexual-automation",
   "metadata": {},
   "outputs": [
    {
     "data": {
      "text/plain": [
       "array([ 3.75626945,  5.85002637,  5.33880782,  4.41604328, 12.15593266,\n",
       "        5.10255432,  9.13622713,  3.90232372, 12.68455696,  3.80050707])"
      ]
     },
     "execution_count": 37,
     "metadata": {},
     "output_type": "execute_result"
    }
   ],
   "source": [
    "np.sum(time_adwin, axis=1)"
   ]
  },
  {
   "cell_type": "code",
   "execution_count": 38,
   "id": "fewer-target",
   "metadata": {},
   "outputs": [
    {
     "data": {
      "text/plain": [
       "array([1.81582403, 1.81917453, 2.10844898, 1.77755046, 2.69010592,\n",
       "       2.51263952, 4.86288095, 1.77963448, 6.84062314, 1.51330876])"
      ]
     },
     "execution_count": 38,
     "metadata": {},
     "output_type": "execute_result"
    }
   ],
   "source": [
    "np.sum(time_eddm, axis=1)"
   ]
  },
  {
   "cell_type": "code",
   "execution_count": 39,
   "id": "stopped-moore",
   "metadata": {},
   "outputs": [
    {
     "data": {
      "text/plain": [
       "array([2.03539658, 2.33470321, 2.45913887, 2.08109379, 3.41871691,\n",
       "       3.20296526, 5.50849843, 2.27376533, 8.14114666, 1.93606138])"
      ]
     },
     "execution_count": 39,
     "metadata": {},
     "output_type": "execute_result"
    }
   ],
   "source": [
    "np.sum(time_ph, axis=1)"
   ]
  },
  {
   "cell_type": "code",
   "execution_count": 40,
   "id": "broken-harmony",
   "metadata": {},
   "outputs": [
    {
     "data": {
      "text/plain": [
       "array([2597.95609951, 2703.55609941, 2709.14678454, 4812.84085178,\n",
       "       4102.0187006 , 4274.94123983, 5758.19659138, 5724.59798574,\n",
       "       7032.01478887, 2312.36344099])"
      ]
     },
     "execution_count": 40,
     "metadata": {},
     "output_type": "execute_result"
    }
   ],
   "source": [
    "np.sum(time_sra, axis=1)"
   ]
  },
  {
   "cell_type": "code",
   "execution_count": 41,
   "id": "wicked-spelling",
   "metadata": {},
   "outputs": [
    {
     "data": {
      "text/plain": [
       "array([114.91521502, 107.98819304, 113.28600597,  95.52662349,\n",
       "       193.45817566, 145.85212255, 248.7513361 , 111.37575674,\n",
       "       319.79244781,  89.49441957])"
      ]
     },
     "execution_count": 41,
     "metadata": {},
     "output_type": "execute_result"
    }
   ],
   "source": [
    "np.sum(time_sdem, axis=1)"
   ]
  },
  {
   "cell_type": "code",
   "execution_count": 42,
   "id": "global-spirit",
   "metadata": {},
   "outputs": [
    {
     "data": {
      "text/plain": [
       "array([31.12335682, 27.54194212, 28.11266112, 29.41736078, 40.12559724,\n",
       "       37.82948112, 52.30414701, 25.1305871 , 84.71986699, 22.27146673])"
      ]
     },
     "execution_count": 42,
     "metadata": {},
     "output_type": "execute_result"
    }
   ],
   "source": [
    "np.sum(time_iem, axis=1)"
   ]
  },
  {
   "cell_type": "code",
   "execution_count": 43,
   "id": "primary-conclusion",
   "metadata": {},
   "outputs": [
    {
     "data": {
      "text/plain": [
       "array([114.91521502, 107.98819304, 113.28600597,  95.52662349,\n",
       "       193.45817566, 145.85212255, 248.7513361 , 111.37575674,\n",
       "       319.79244781,  89.49441957])"
      ]
     },
     "execution_count": 43,
     "metadata": {},
     "output_type": "execute_result"
    }
   ],
   "source": [
    "np.sum(time_sdem, axis=1)"
   ]
  },
  {
   "cell_type": "code",
   "execution_count": 44,
   "id": "miniature-transfer",
   "metadata": {},
   "outputs": [],
   "source": [
    "time_by_trial_df = pd.DataFrame(\n",
    "    {\n",
    "        'SRA': np.sum(time_sra, axis=1),\n",
    "        'SDEM': np.sum(time_sdem, axis=1),\n",
    "        'iEM': np.sum(time_iem, axis=1),\n",
    "        'sEM': np.sum(time_sem, axis=1),\n",
    "        'ADWIN': np.sum(time_adwin, axis=1),\n",
    "        'DDM': np.sum(time_ddm, axis=1),\n",
    "        'EDDM': np.sum(time_eddm, axis=1),\n",
    "        'PH': np.sum(time_ph, axis=1)\n",
    "    }\n",
    ")"
   ]
  },
  {
   "cell_type": "code",
   "execution_count": 45,
   "id": "dense-internet",
   "metadata": {},
   "outputs": [],
   "source": [
    "time_by_trial_df_melted = pd.melt(time_by_trial_df)"
   ]
  },
  {
   "cell_type": "code",
   "execution_count": 46,
   "id": "moved-plymouth",
   "metadata": {},
   "outputs": [
    {
     "data": {
      "text/html": [
       "<div>\n",
       "<style scoped>\n",
       "    .dataframe tbody tr th:only-of-type {\n",
       "        vertical-align: middle;\n",
       "    }\n",
       "\n",
       "    .dataframe tbody tr th {\n",
       "        vertical-align: top;\n",
       "    }\n",
       "\n",
       "    .dataframe thead th {\n",
       "        text-align: right;\n",
       "    }\n",
       "</style>\n",
       "<table border=\"1\" class=\"dataframe\">\n",
       "  <thead>\n",
       "    <tr style=\"text-align: right;\">\n",
       "      <th></th>\n",
       "      <th>variable</th>\n",
       "      <th>value</th>\n",
       "    </tr>\n",
       "  </thead>\n",
       "  <tbody>\n",
       "    <tr>\n",
       "      <th>0</th>\n",
       "      <td>SRA</td>\n",
       "      <td>2597.956100</td>\n",
       "    </tr>\n",
       "    <tr>\n",
       "      <th>1</th>\n",
       "      <td>SRA</td>\n",
       "      <td>2703.556099</td>\n",
       "    </tr>\n",
       "    <tr>\n",
       "      <th>2</th>\n",
       "      <td>SRA</td>\n",
       "      <td>2709.146785</td>\n",
       "    </tr>\n",
       "    <tr>\n",
       "      <th>3</th>\n",
       "      <td>SRA</td>\n",
       "      <td>4812.840852</td>\n",
       "    </tr>\n",
       "    <tr>\n",
       "      <th>4</th>\n",
       "      <td>SRA</td>\n",
       "      <td>4102.018701</td>\n",
       "    </tr>\n",
       "    <tr>\n",
       "      <th>...</th>\n",
       "      <td>...</td>\n",
       "      <td>...</td>\n",
       "    </tr>\n",
       "    <tr>\n",
       "      <th>75</th>\n",
       "      <td>PH</td>\n",
       "      <td>3.202965</td>\n",
       "    </tr>\n",
       "    <tr>\n",
       "      <th>76</th>\n",
       "      <td>PH</td>\n",
       "      <td>5.508498</td>\n",
       "    </tr>\n",
       "    <tr>\n",
       "      <th>77</th>\n",
       "      <td>PH</td>\n",
       "      <td>2.273765</td>\n",
       "    </tr>\n",
       "    <tr>\n",
       "      <th>78</th>\n",
       "      <td>PH</td>\n",
       "      <td>8.141147</td>\n",
       "    </tr>\n",
       "    <tr>\n",
       "      <th>79</th>\n",
       "      <td>PH</td>\n",
       "      <td>1.936061</td>\n",
       "    </tr>\n",
       "  </tbody>\n",
       "</table>\n",
       "<p>80 rows × 2 columns</p>\n",
       "</div>"
      ],
      "text/plain": [
       "   variable        value\n",
       "0       SRA  2597.956100\n",
       "1       SRA  2703.556099\n",
       "2       SRA  2709.146785\n",
       "3       SRA  4812.840852\n",
       "4       SRA  4102.018701\n",
       "..      ...          ...\n",
       "75       PH     3.202965\n",
       "76       PH     5.508498\n",
       "77       PH     2.273765\n",
       "78       PH     8.141147\n",
       "79       PH     1.936061\n",
       "\n",
       "[80 rows x 2 columns]"
      ]
     },
     "execution_count": 46,
     "metadata": {},
     "output_type": "execute_result"
    }
   ],
   "source": [
    "time_by_trial_df_melted"
   ]
  },
  {
   "cell_type": "code",
   "execution_count": 47,
   "id": "together-symbol",
   "metadata": {},
   "outputs": [],
   "source": [
    "with open(os.path.join(outdir, 'measured_total_time_by_algorithm.pkl'), 'wb') as f:\n",
    "    pickle.dump(time_by_trial_df_melted, f)"
   ]
  },
  {
   "cell_type": "code",
   "execution_count": 48,
   "id": "leading-packet",
   "metadata": {},
   "outputs": [],
   "source": [
    "time_by_each_df = pd.concat(\n",
    "    [pd.DataFrame({'Algorithm':'SRA',\n",
    "                   'Time': np.array(time_sra).ravel()}),\n",
    "     pd.DataFrame({'Algorithm':'SDEM',\n",
    "                   'Time': np.array(time_sdem).ravel()}),\n",
    "     pd.DataFrame({'Algorithm':'iEM',\n",
    "                   'Time': np.array(time_iem).ravel()}),\n",
    "     pd.DataFrame({'Algorithm':'sEM',\n",
    "                   'Time': np.array(time_sem).ravel()}),\n",
    "     pd.DataFrame({'Algorithm':'ADWIN', \n",
    "                   'Time': np.array(time_adwin).ravel()}),\n",
    "     pd.DataFrame({'Algorithm':'DDM',\n",
    "                   'Time': np.array(time_ddm).ravel()}), \n",
    "     pd.DataFrame({'Algorithm':'EDDM',\n",
    "                   'Time': np.array(time_eddm).ravel()}),\n",
    "     pd.DataFrame({'Algorithm':'PH',\n",
    "                   'Time': np.array(time_ph).ravel()})\n",
    "    ]\n",
    ")"
   ]
  },
  {
   "cell_type": "code",
   "execution_count": 49,
   "id": "rolled-listing",
   "metadata": {},
   "outputs": [],
   "source": [
    "with open(os.path.join(outdir, 'measured_each_time_by_algorithm.pkl'), 'wb') as f:\n",
    "    pickle.dump(time_by_each_df, f)"
   ]
  },
  {
   "cell_type": "code",
   "execution_count": 50,
   "id": "instrumental-above",
   "metadata": {},
   "outputs": [
    {
     "data": {
      "image/png": "[encoded data removed]",
      "text/plain": [
       "<Figure size 576x432 with 2 Axes>"
      ]
     },
     "metadata": {
      "needs_background": "light"
     },
     "output_type": "display_data"
    }
   ],
   "source": [
    "fig, axes = plt.subplots(2, 1, sharex=True, figsize=(8, 6))\n",
    "\n",
    "sns.boxplot(x='variable', y='value', data=time_by_trial_df_melted, ax=axes[0])\n",
    "axes[0].set_xlabel('Algorithm')\n",
    "axes[0].set_ylabel('Time[s]')\n",
    "#ax.set_yscale('log')\n",
    "axes[0].grid()\n",
    "\n",
    "sns.boxplot(x='Algorithm', y='Time', data=time_by_each_df, ax=axes[1])\n",
    "axes[1].set_ylabel('Time[s]')\n",
    "#axes[1].set_yscale('log')\n",
    "axes[1].grid()\n",
    "\n",
    "plt.show()"
   ]
  },
  {
   "cell_type": "code",
   "execution_count": null,
   "id": "seeing-reserve",
   "metadata": {},
   "outputs": [],
   "source": []
  },
  {
   "cell_type": "markdown",
   "id": "breeding-august",
   "metadata": {},
   "source": [
    "## MSE"
   ]
  },
  {
   "cell_type": "code",
   "execution_count": 80,
   "id": "super-violation",
   "metadata": {},
   "outputs": [],
   "source": [
    "def experiment1_comparison_mse(\n",
    "    # SDEM\n",
    "    r_list_sdem=[0.0001, 0.001, 0.005, 0.01], \n",
    "    # SEM\n",
    "    r_list_sem=[0.01, 0.05, 0.1],\n",
    "    # SRA\n",
    "    gamma_list_sra=[1, 3, 5, 10, 15], \n",
    "    u=10, \n",
    "    N=10000,\n",
    "    alpha_ol=0.01, # ratio of outliers\n",
    "    eval_start=500,\n",
    "    eval_end=1000,\n",
    "    burnin=1000,\n",
    "    mu1=np.array([0.5]),\n",
    "    mu2=np.array([1.0]),\n",
    "    cps=np.array([9999]),\n",
    "    start=0, \n",
    "    end=None,\n",
    "    T=100,\n",
    "    N_thr=1000,\n",
    "    n_trial=10):\n",
    "\n",
    "    mse_sdem_eval, mse_sdem_former, mse_sdem_latter, mse_sdem_total = [], [], [], []\n",
    "    mse_iem_eval, mse_iem_former, mse_iem_latter, mse_iem_total = [], [], [], []\n",
    "    mse_sem_eval, mse_sem_former, mse_sem_latter, mse_sem_total = [], [], [], []\n",
    "    mse_sra_eval, mse_sra_former, mse_sra_latter, mse_sra_total = [], [], [], []\n",
    "    \n",
    "    for trial in tqdm(range(n_trial)):\n",
    "        # generate data\n",
    "        np.random.seed(trial)\n",
    "        X = np.zeros((2*N, 1))\n",
    "        Xj_former = generate_data(N, pi, mu1, sigma)\n",
    "        X[:N, 0] = Xj_former.ravel()\n",
    "        Xj_latter = generate_data(N, pi, mu2, sigma)\n",
    "        X[N:, 0] = Xj_latter.ravel()\n",
    "\n",
    "        idxes_ol = np.random.choice(np.arange(N), int(alpha_ol*N))\n",
    "        X[idxes_ol, :] = np.random.uniform(-u, u, len(idxes_ol)).reshape(-1, 1)    \n",
    "        \n",
    "        print('# SDEM')\n",
    "        for i, r in enumerate(r_list_sdem):\n",
    "            rho_const = np.repeat([r], 2*N)\n",
    "            sdem = SDEM(rho_const, 1.0, n_components=1)\n",
    "            #seed = i*len(r_list_sdem) + trial\n",
    "            sdem.fit(X[:10, :])\n",
    "            for t in range(X.shape[0]):\n",
    "                sdem.update(X[t, :])\n",
    "            \n",
    "            means_est_sdem = np.array(sdem.means_list).reshape(2*N, 1)\n",
    "            ev, former, latter, total = calc_metrics(means_est_sdem, mu1, mu2, eval_start, eval_end, burnin)\n",
    "            mse_sdem_eval.append([trial, r, ev])\n",
    "            mse_sdem_former.append([trial, r, former])\n",
    "            mse_sdem_latter.append([trial, r, latter])\n",
    "            mse_sdem_total.append([trial, r, total])\n",
    "            \n",
    "        print('# IEM')\n",
    "        iem = SDEM(1.0/np.arange(1, 2*N+1), 1.0, n_components=1)\n",
    "        iem.fit(X[:10, :])\n",
    "        for t in range(X.shape[0]):\n",
    "            iem.update(X[t, :])\n",
    "\n",
    "        means_est_iem = np.array(iem.means_list).reshape(2*N, 1)\n",
    "        ev, former, latter, total = calc_metrics(means_est_iem, mu1, mu2, eval_start, eval_end, burnin)\n",
    "        mse_iem_eval.append([trial, ev])\n",
    "        mse_iem_former.append([trial, former])\n",
    "        mse_iem_latter.append([trial, latter])\n",
    "        mse_iem_total.append([trial, total])\n",
    "        \n",
    "        print('# SEM')\n",
    "        for i, r in enumerate(r_list_sem):\n",
    "            seed = i*len(r_list_sem) + trial\n",
    "            #np.random.seed(seed)\n",
    "            \n",
    "            rho_const = np.repeat([r], 2*N)\n",
    "            #theta_est_sem = sem(X, theta0, rho_const)\n",
    "            _, mu_est_sem, _ = sem(X, theta0, rho_const, start, end, seed)\n",
    "            \n",
    "            print(mu_est_sem)\n",
    "            \n",
    "            #ev, former, latter, total = calc_metrics(theta_est_sem[:, 3:5], mu1, mu2, eval_start, eval_end, burnin)\n",
    "            ev, former, latter, total = calc_metrics(mu_est_sem, mu1, mu2, eval_start, eval_end, burnin)\n",
    "            mse_sem_eval.append([trial, r, ev])\n",
    "            mse_sem_former.append([trial, r, former])\n",
    "            mse_sem_latter.append([trial, r, latter])\n",
    "            mse_sem_total.append([trial, total])\n",
    "\n",
    "        print('# SRA')\n",
    "        for j, gamma in enumerate(gamma_list_sra):\n",
    "            ratio_list = [0.01*gamma, 0.03*gamma, 0.05*gamma, 0.1*gamma]\n",
    "            M_list = [gamma, 2*gamma, 4*gamma]\n",
    "            for l, ratio in enumerate(ratio_list):\n",
    "                for m, M in enumerate(M_list):\n",
    "                    seed = j*len(gamma_list_sra) + l*len(ratio_list) + m * len(M_list) + trial\n",
    "                    \n",
    "                    np.random.seed(seed)\n",
    "                    #theta_est_sra = sra(X, theta0, rho_const, gamma)\n",
    "                    _, mu_est_sra, _ = sra(X, theta0, rho_const, gamma)\n",
    "        \n",
    "                    #ev, former, latter, total = calc_metrics(theta_est_sra[:, 3:5], mu1, mu2, eval_start, eval_end, burnin)\n",
    "                    ev, former, latter, total = calc_metrics(mu_est_sra, mu1, mu2, eval_start, eval_end, burnin)\n",
    "                    mse_sra_eval.append([trial, gamma, ratio, M, ev])\n",
    "                    mse_sra_former.append([trial, gamma, ratio, M, former])\n",
    "                    mse_sra_latter.append([trial, gamma, ratio, M, latter])\n",
    "                    mse_sra_total.append([trial, gamma, ratio, M, total])\n",
    "                    #former = np.sum((theta_est_sra[burnin:N+1, 3:5] - mu1)**2, axis=1)\n",
    "                    #mse_sra_former.append([trial, gamma, ratio, M, former])\n",
    "        \n",
    "                    #latter = np.sum((theta_est_sra[N+1:, 3:5] - mu2)**2, axis=1)\n",
    "                    #mse_sra_latter.append([trial, gamma, ratio, M, latter])\n",
    "        \n",
    "                    #overall = np.hstack((former, latter))\n",
    "                    #mse_sra_total.append([trial, gamma, ratio, M, overall])\n",
    "\n",
    "    mse_sdem_eval_df = pd.DataFrame(mse_sdem_eval, columns=['trial', 'r', 'mse'])\n",
    "    mse_sdem_former_df = pd.DataFrame(mse_sdem_former, columns=['trial', 'r', 'mse'])\n",
    "    mse_sdem_latter_df = pd.DataFrame(mse_sdem_latter, columns=['trial', 'r', 'mse'])\n",
    "    mse_sdem_total_df = pd.DataFrame(mse_sdem_total, columns=['trial', 'r', 'mse'])\n",
    "\n",
    "    mse_iem_eval_df = pd.DataFrame(mse_iem_eval, columns=['trial', 'mse'])\n",
    "    mse_iem_former_df = pd.DataFrame(mse_iem_former, columns=['trial', 'mse'])\n",
    "    mse_iem_latter_df = pd.DataFrame(mse_iem_latter, columns=['trial', 'mse'])\n",
    "    mse_iem_total_df = pd.DataFrame(mse_iem_total, columns=['trial', 'mse'])\n",
    "\n",
    "    mse_sem_eval_df = pd.DataFrame(mse_sem_eval, columns=['trial', 'r', 'mse'])\n",
    "    mse_sem_former_df = pd.DataFrame(mse_sem_former, columns=['trial', 'r', 'mse'])\n",
    "    mse_sem_latter_df = pd.DataFrame(mse_sem_latter, columns=['trial', 'r', 'mse'])\n",
    "    mse_sem_total_df = pd.DataFrame(mse_sem_total, columns=['trial', 'r', 'mse'])\n",
    "\n",
    "    mse_sra_eval_df = pd.DataFrame(mse_sra_eval, columns=['trial', 'r', 'mse'])\n",
    "    mse_sra_former_df = pd.DataFrame(mse_sra_former, columns=['trial', 'r', 'mse'])\n",
    "    mse_sra_latter_df = pd.DataFrame(mse_sra_latter, columns=['trial', 'r', 'mse'])\n",
    "    mse_sra_total_df = pd.DataFrame(mse_sra_total, columns=['trial', 'r', 'mse'])\n",
    "\n",
    "\n",
    "    return mse_sdem_eval_df, mse_sdem_former_df, mse_sdem_latter_df, mse_sdem_total_df, \\\n",
    "           mse_iem_eval_df, mse_iem_former_df, mse_iem_latter_df, mse_iem_total_df, \\\n",
    "           mse_sem_eval_df, mse_sem_former_df, mse_sem_latter_df, mse_sem_total_df, \\\n",
    "           mse_sra_eval_df, mse_sra_former_df, mse_sra_latter_df, mse_sra_total_df"
   ]
  },
  {
   "cell_type": "code",
   "execution_count": 62,
   "id": "eastern-soundtrack",
   "metadata": {},
   "outputs": [
    {
     "name": "stderr",
     "output_type": "stream",
     "text": [
      "  0%|          | 0/10 [00:00<?, ?it/s]"
     ]
    },
    {
     "name": "stdout",
     "output_type": "stream",
     "text": [
      "# SDEM\n",
      "former\n",
      "(9000,)\n",
      "[0.00429843 0.00429874 0.00429733 ... 0.00060354 0.0006034  0.00060392]\n",
      "latter\n",
      "(10000,)\n",
      "[0.22598582 0.22594855 0.22588688 ... 0.0303161  0.03031373 0.0303088 ]\n",
      "former\n",
      "(9000,)\n",
      "[5.64024484e-04 5.67139833e-04 5.63998455e-04 ... 9.95395678e-05\n",
      " 9.94062230e-05 9.66384459e-05]\n",
      "latter\n",
      "(10000,)\n",
      "[2.59428119e-01 2.58994324e-01 2.58300349e-01 ... 4.84481686e-06\n",
      " 4.38065004e-06 4.23641119e-06]\n",
      "former\n",
      "(9000,)\n",
      "[0.00029867 0.00031123 0.00030076 ... 0.00014238 0.00014135 0.00012501]\n",
      "latter\n",
      "(10000,)\n",
      "[2.58802070e-01 2.56642460e-01 2.53209354e-01 ... 1.63961159e-05\n",
      " 1.22465008e-05 1.10140243e-05]\n",
      "former\n",
      "(9000,)\n",
      "[0.00085603 0.0008915  0.00084897 ... 0.00021433 0.00021102 0.00017117]\n",
      "latter\n",
      "(10000,)\n",
      "[2.58221071e-01 2.53921518e-01 2.47141813e-01 ... 5.23048397e-05\n",
      " 3.72216537e-05 3.26431356e-05]\n",
      "# IEM\n",
      "former\n",
      "(9000,)\n",
      "[1.83730162e-04 1.80959346e-04 1.81732140e-04 ... 1.43980999e-05\n",
      " 1.43977186e-05 1.42965056e-05]\n",
      "latter\n",
      "(10000,)\n",
      "[0.25374665 0.25370431 0.25363613 ... 0.06318152 0.06317786 0.06317237]\n",
      "# SEM\n"
     ]
    },
    {
     "name": "stderr",
     "output_type": "stream",
     "text": [
      "/Users/shi-fukushima/.pyenv/versions/anaconda3-5.3.1/lib/python3.7/site-packages/ipykernel_launcher.py:12: RuntimeWarning: invalid value encountered in true_divide\n",
      "  if sys.path[0] == '':\n",
      "  0%|          | 0/10 [00:30<?, ?it/s]"
     ]
    },
    {
     "name": "stdout",
     "output_type": "stream",
     "text": [
      "[[[1.90178147]]\n",
      "\n",
      " [[1.90108747]]\n",
      "\n",
      " [[1.90041694]]\n",
      "\n",
      " ...\n",
      "\n",
      " [[1.0072322 ]]\n",
      "\n",
      " [[1.00610095]]\n",
      "\n",
      " [[1.00571341]]]\n",
      "former\n",
      "(9000, 1)\n",
      "[[0.00092592]\n",
      " [0.00096203]\n",
      " [0.00091717]\n",
      " ...\n",
      " [0.00021433]\n",
      " [0.00021102]\n",
      " [0.00017117]]\n",
      "latter\n",
      "(10000, 1)\n",
      "[[2.58221076e-01]\n",
      " [2.53921523e-01]\n",
      " [2.47141818e-01]\n",
      " ...\n",
      " [5.23046940e-05]\n",
      " [3.72215310e-05]\n",
      " [3.26430207e-05]]\n"
     ]
    }
   ],
   "source": [
    "mse_sdem_eval_df, mse_sdem_former_df, mse_sdem_latter_df, mse_sdem_total_df, \\\n",
    "mse_iem_eval_df, mse_iem_former_df, mse_iem_latter_df, mse_iem_total_df, \\\n",
    "mse_sem_eval_df, mse_sem_former_df, mse_sem_latter_df, mse_sem_total_df, \\\n",
    "mse_sra_eval_df, mse_sra_former_df, mse_sra_latter_df, mse_sra_total_df = experiment1_comparison_mse()"
   ]
  },
  {
   "cell_type": "code",
   "execution_count": null,
   "id": "equipped-fitting",
   "metadata": {},
   "outputs": [],
   "source": []
  }
 ],
 "metadata": {
  "kernelspec": {
   "display_name": "Python 3",
   "language": "python",
   "name": "python3"
  },
  "language_info": {
   "codemirror_mode": {
    "name": "ipython",
    "version": 3
   },
   "file_extension": ".py",
   "mimetype": "text/x-python",
   "name": "python",
   "nbconvert_exporter": "python",
   "pygments_lexer": "ipython3",
   "version": "3.7.2"
  }
 },
 "nbformat": 4,
 "nbformat_minor": 5
}
