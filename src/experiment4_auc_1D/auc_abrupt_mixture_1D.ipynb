{
 "cells": [
  {
   "cell_type": "code",
   "execution_count": 1,
   "id": "informational-static",
   "metadata": {},
   "outputs": [],
   "source": [
    "%matplotlib inline\n",
    "\n",
    "import numpy as np\n",
    "from scipy.stats import multivariate_normal, norm, ks_2samp\n",
    "import pandas as pd\n",
    "\n",
    "import matplotlib.pyplot as plt\n",
    "import seaborn as sns\n",
    "\n",
    "import os\n",
    "import pickle\n",
    "\n",
    "from copy import deepcopy\n",
    "\n",
    "import time\n",
    "\n",
    "import tqdm"
   ]
  },
  {
   "cell_type": "code",
   "execution_count": 2,
   "id": "crucial-marina",
   "metadata": {},
   "outputs": [],
   "source": [
    "from sklearn.mixture import GaussianMixture\n",
    "from sklearn.datasets import make_spd_matrix\n",
    "from sklearn.metrics import roc_curve, auc\n",
    "\n",
    "from skmultiflow.drift_detection.adwin import ADWIN\n",
    "from skmultiflow.drift_detection.ddm import DDM\n",
    "from skmultiflow.drift_detection.eddm import EDDM\n",
    "from skmultiflow.drift_detection.hddm_a import HDDM_A\n",
    "from skmultiflow.drift_detection.hddm_w import HDDM_W\n",
    "from skmultiflow.drift_detection.kswin import KSWIN\n",
    "from skmultiflow.drift_detection.page_hinkley import PageHinkley"
   ]
  },
  {
   "cell_type": "code",
   "execution_count": 3,
   "id": "accepted-cooking",
   "metadata": {},
   "outputs": [],
   "source": [
    "outdir = './output/synthetic/univariate/abrupt_mixture'\n",
    "if not os.path.exists(outdir):\n",
    "    os.makedirs(outdir)"
   ]
  },
  {
   "cell_type": "code",
   "execution_count": 4,
   "id": "returning-cancer",
   "metadata": {},
   "outputs": [],
   "source": [
    "class Theta:\n",
    "    def __init__(self, pi, mu, sigma):\n",
    "        self.pi = pi\n",
    "        self.mu = mu\n",
    "        self.sigma = sigma"
   ]
  },
  {
   "cell_type": "code",
   "execution_count": 5,
   "id": "entitled-moore",
   "metadata": {},
   "outputs": [],
   "source": [
    "def compute_tau(X, theta, eps=1e-12):\n",
    "    #N = X.shape[0]\n",
    "    K = len(theta.pi)\n",
    "    \n",
    "    #D = X.shape[1]\n",
    "    D = X.shape[-1]    \n",
    "    N = X.shape[-2]\n",
    "    \n",
    "    dim_X = len(X.shape)\n",
    "        \n",
    "    tau = np.zeros((N, K))\n",
    "    for k in range(K):\n",
    "        if D == 1:\n",
    "            d_k = norm(theta.mu[k], np.sqrt(theta.sigma[k]))\n",
    "        else:\n",
    "            #if np.any(np.linalg.eigvals(theta.sigma[k, :, :]) <= 0.0):\n",
    "            #    theta.sigma[k, :, :] = nearPD(theta.sigma[k, :, :])\n",
    "            #d_k = multivariate_normal(theta.mu[k, :], theta.sigma[k, :, :])\n",
    "            try:\n",
    "                d_k = multivariate_normal(theta.mu[k, :], theta.sigma[k, :, :], \n",
    "                                          allow_singular=True)\n",
    "            except:\n",
    "                d_k = multivariate_normal(theta.mu[k, :], nearPD(theta.sigma[k, :, :]), \n",
    "                                          allow_singular=True)\n",
    "        \n",
    "        for i in range(N):\n",
    "            if dim_X == 3:\n",
    "                tau[i, k] = theta.pi[k] * d_k.pdf(X[k, i, :])\n",
    "            elif dim_X == 2:\n",
    "                tau[i, k] = theta.pi[k] * d_k.pdf(X[i, :])\n",
    "                \n",
    "    tau /= np.sum(tau, axis=1, keepdims=True)\n",
    "    \n",
    "    return tau"
   ]
  },
  {
   "cell_type": "code",
   "execution_count": 6,
   "id": "material-behalf",
   "metadata": {},
   "outputs": [],
   "source": [
    "def compute_stat(X, Z):\n",
    "    #N = X.shape[0]\n",
    "    K = Z.shape[1]\n",
    "    #D = X.shape[1]\n",
    "    \n",
    "    dim_X = len(X.shape)\n",
    "    D = X.shape[-1]    \n",
    "    N = X.shape[-2]\n",
    "    \n",
    "    #s1 = np.sum(Z, axis=0, keepdims=True)\n",
    "    s1 = np.sum(Z.T, axis=1, keepdims=True)\n",
    "    #s1 = np.mean(Z, axis=0, keepdims=True)\n",
    "    #print('s1.shape:', s1.shape)\n",
    "    if dim_X == 2:\n",
    "        s2 = X.T.dot(Z).T\n",
    "    elif dim_X == 3:\n",
    "        s2 = np.einsum('kij,ik->kj', X, Z)\n",
    "    #s2 = np.einsum('kij,ik->kj', X, Z)\n",
    "    #print('s2.shape:', s2.shape)\n",
    "    \n",
    "    if dim_X == 2:\n",
    "        #s3 = np.einsum('ijk,il->ljk', np.array([np.outer(X[i, :], X[i, :]) for i in range(X.shape[0])]), Z)\n",
    "        s3 = np.einsum('ijk,il->ljk', np.array([np.outer(X[i, :], X[i, :]) for i in range(N)]), Z)\n",
    "    else:\n",
    "        #s3 = np.einsum('kijl,ik->kjl', np.array([[np.outer(X[k, i, :], X[k, i, :]) for i in range(X.shape[0])] for k in range(K)]), Z)\n",
    "        s3 = np.einsum('kijl,ik->kjl', np.array([[np.outer(X[k, i, :], X[k, i, :]) for i in range(N)] for k in range(K)]), Z)\n",
    "    #print('s3.shape:', s3.shape)\n",
    "    \n",
    "    return s1, s2, s3"
   ]
  },
  {
   "cell_type": "code",
   "execution_count": 7,
   "id": "impossible-antique",
   "metadata": {},
   "outputs": [],
   "source": [
    "def step_M(s, x, eps=1e-8):\n",
    "    #print('s.s1')\n",
    "    #print(s.s1)\n",
    "    #print('s.s2')\n",
    "    #print(s.s2)\n",
    "    #print('s.s3')\n",
    "    #print(s.s3)\n",
    "\n",
    "    pi = (s.s1 + eps) / (1.0 + eps * len(s.s1))\n",
    "    mu = s.s2 / (s.s1 + eps)\n",
    "    sigma = s.s3 / (s.s1 + eps).reshape(len(s.s1), 1, 1) - np.einsum('ij,ik->ijk', mu, mu)\n",
    "\n",
    "    #print('pi')\n",
    "    #print(pi)\n",
    "    #print('mu')\n",
    "    #print(mu)\n",
    "    #print('sigma')\n",
    "    #print(sigma)\n",
    "    \n",
    "    return pi, mu, sigma"
   ]
  },
  {
   "cell_type": "code",
   "execution_count": 8,
   "id": "coated-railway",
   "metadata": {},
   "outputs": [],
   "source": [
    "class SuffStat:\n",
    "    def __init__(self):\n",
    "        pass\n",
    "\n",
    "class SuffStatGMM(SuffStat):\n",
    "    def __init__(self, K, D, seed=0):\n",
    "        super().__init__()\n",
    "        np.random.seed(seed)\n",
    "        self.s1 = np.random.dirichlet([1.0]*K).reshape(-1, 1)\n",
    "        self.s2 = np.random.random((K, D))\n",
    "        self.s3 = np.random.random((K, D, D))"
   ]
  },
  {
   "cell_type": "code",
   "execution_count": 9,
   "id": "sunset-aurora",
   "metadata": {},
   "outputs": [],
   "source": [
    "def generate_data(N, pi, mu, sigma):\n",
    "    \n",
    "    z_list = np.random.choice(np.arange(len(pi)), N, replace=True)\n",
    "    \n",
    "    X = np.zeros((N, 1))\n",
    "    for i, z in enumerate(z_list):\n",
    "        X_i = np.random.normal(mu[z], sigma[z])\n",
    "        X[i, :] = X_i\n",
    "    \n",
    "    return X"
   ]
  },
  {
   "cell_type": "markdown",
   "id": "sunset-entertainment",
   "metadata": {},
   "source": [
    "## experiment (abrupt mean)"
   ]
  },
  {
   "cell_type": "code",
   "execution_count": 10,
   "id": "editorial-metro",
   "metadata": {},
   "outputs": [],
   "source": [
    "N = 10000\n",
    "Nsim = 1"
   ]
  },
  {
   "cell_type": "code",
   "execution_count": 11,
   "id": "posted-hepatitis",
   "metadata": {},
   "outputs": [],
   "source": [
    "#pi = np.array([0.2, 0.8])\n",
    "#pi = np.array([0.3, 0.7])\n",
    "pi = np.array([1.0])\n",
    "pi0 = pi.copy()"
   ]
  },
  {
   "cell_type": "code",
   "execution_count": 12,
   "id": "dominican-advancement",
   "metadata": {},
   "outputs": [],
   "source": [
    "mean1 = 0.5\n",
    "mu1 = np.array([mean1])\n",
    "\n",
    "mean2 = 1.0\n",
    "mu2 = np.array([mean2])\n",
    "\n",
    "sigma = np.array([0.1])"
   ]
  },
  {
   "cell_type": "code",
   "execution_count": 13,
   "id": "positive-scheduling",
   "metadata": {},
   "outputs": [],
   "source": [
    "seed0 = 1"
   ]
  },
  {
   "cell_type": "code",
   "execution_count": 14,
   "id": "confused-trick",
   "metadata": {},
   "outputs": [],
   "source": [
    "theta = Theta(pi, mu1, sigma)\n",
    "theta0 = Theta(pi, mu1, sigma)"
   ]
  },
  {
   "cell_type": "code",
   "execution_count": 15,
   "id": "early-factory",
   "metadata": {},
   "outputs": [],
   "source": [
    "seed = seed0\n",
    "np.random.seed(seed)\n",
    "X1 = generate_data(N, pi, mu1, sigma)\n",
    "X2 = generate_data(N, pi, mu2, sigma)\n",
    "\n",
    "X = np.vstack((X1, X2))\n",
    "\n",
    "idxes_ol = np.random.choice(np.arange(N), int(0.01*N), replace=False)\n",
    "X[idxes_ol, :] = np.random.uniform(-5, 5, len(idxes_ol)).reshape(-1, 1)"
   ]
  },
  {
   "cell_type": "code",
   "execution_count": 16,
   "id": "hundred-blind",
   "metadata": {},
   "outputs": [],
   "source": [
    "class SDEM(GaussianMixture):\n",
    "    def __init__(self, r, alpha, n_components=2, **kwargs):\n",
    "        super().__init__(n_components=n_components, **kwargs)\n",
    "        \n",
    "        self.r = r\n",
    "        self.alpha = alpha\n",
    "        self.t = 0\n",
    "        \n",
    "        self.pi_list = []\n",
    "        self.pi_bar_list = []\n",
    "        self.means_list = []\n",
    "        self.means_bar_list = []\n",
    "        self.covariances_list = []\n",
    "        self.covariances_bar_list = []\n",
    "        \n",
    "    def fit(self, X, y=None):\n",
    "        super().fit(X, y)\n",
    "        self.means_bar = np.copy(self.means_)\n",
    "        self.covariances_bar = np.copy(self.covariances_)\n",
    "        \n",
    "    def update(self, x):\n",
    "        \"\"\"Employ SDEM algorithm.\"\"\"\n",
    "        \n",
    "        # E-step for weights\n",
    "        gamma = (1-self.alpha*self.r[self.t]) * self.predict_proba(x.reshape(1, -1)) + self.alpha*self.r[self.t]/self.weights_.shape[0] # \\overline{\\gamma}_i^{(t)} in the paper\n",
    "        gamma = gamma.ravel()\n",
    "        self.weights_ = (1-self.r[self.t])*self.weights_ + self.r[self.t]*gamma\n",
    "        \n",
    "        x = x.ravel()\n",
    "        means, means_bar, covariances, covariances_bar = [], [], [], []\n",
    "        for i, (w, m, cov) in enumerate(zip(self.weights_, self.means_bar, self.covariances_bar)):\n",
    "            # E-step\n",
    "            m = (1-self.r[self.t])*m + self.r[self.t]*gamma[i]*x\n",
    "            cov = (1-self.r[self.t])*cov + self.r[self.t]*gamma[i]*np.outer(x,x)\n",
    "            means_bar.append(m)\n",
    "            covariances_bar.append(cov)\n",
    "\n",
    "            # M-step\n",
    "            m = m/w\n",
    "            cov = cov/w - np.outer(m, m)\n",
    "            means.append(m)\n",
    "            covariances.append(cov)\n",
    "\n",
    "        self.means_ = np.vstack(means) # \\mu_i^{(t)} in the paper\n",
    "        self.covariances_ = np.stack(covariances)\n",
    "        self.means_bar = np.stack(means_bar)\n",
    "        self.covariances_bar = np.stack(covariances_bar)\n",
    "        \n",
    "        self.pi_list.append(self.weights_)\n",
    "        self.means_list.append(self.means_)\n",
    "        self.covariances_list.append(self.covariances_)\n",
    "        self.means_bar_list.append(self.means_bar)\n",
    "        self.covariances_bar_list.append(self.covariances_bar)\n",
    "        \n",
    "        self.t += 1"
   ]
  },
  {
   "cell_type": "code",
   "execution_count": 17,
   "id": "front-intersection",
   "metadata": {},
   "outputs": [],
   "source": [
    "#def calc_scores_sdem(X, r, n_cluster, alpha=1.0, start=20, end=40, seed=0):\n",
    "def calc_scores_sdem(X, X_init, r, n_cluster, alpha=1.0, score_start=20, seed=0):\n",
    "    np.random.seed(seed)\n",
    "    rho_const = np.repeat([r], X.shape[0])\n",
    "    sdem = SDEM(rho_const, alpha, n_components=n_cluster)\n",
    "\n",
    "    #X_init = np.random.uniform(np.min(X[start:end, :]), np.max(X[start:end, :]), 20).reshape(-1, X.shape[1])\n",
    "    \n",
    "    sdem.fit(X_init)\n",
    "\n",
    "    for t in range(X.shape[0]):\n",
    "        sdem.update(X[t, :])\n",
    "\n",
    "    pi_est = np.array(sdem.pi_list)\n",
    "    #pi_est = np.array(sdem.weights_)\n",
    "    mu_est = np.array(sdem.means_bar_list)\n",
    "    sigma_est = np.array(sdem.covariances_list)\n",
    "    \n",
    "    scores = [np.nan] * score_start\n",
    "    \n",
    "    #for t in range(start, pi_est.shape[0]):\n",
    "    for t in range(score_start, X.shape[0]):\n",
    "        p = np.zeros(n_cluster)\n",
    "        if n_cluster >= 2:\n",
    "            for k in range(n_cluster):\n",
    "                p_k = pi_est[t-1, k] * norm(mu_est[t-1, k, :], np.sqrt(sigma_est[t-1, k, :, :])).pdf(X[t, :])\n",
    "                p[k] = p_k\n",
    "        else:\n",
    "            p[0] = pi_est[t-1] * norm(mu_est[t-1, 0, :], np.sqrt(sigma_est[t-1, :, :])).pdf(X[t, :])\n",
    "        p_tot = np.sum(p)\n",
    "        if p_tot >= 1.0/np.finfo(float).max:\n",
    "            scores.append(-np.log(p_tot))\n",
    "        else:\n",
    "            scores.append(np.log(np.finfo(float).max))\n",
    "    scores = np.array(scores)\n",
    "    \n",
    "    return scores"
   ]
  },
  {
   "cell_type": "code",
   "execution_count": 18,
   "id": "pending-prize",
   "metadata": {},
   "outputs": [],
   "source": [
    "#def calc_scores_iem(X, n_cluster, alpha=1.0, start=20, end=40, seed=0):\n",
    "def calc_scores_iem(X, X_init, n_cluster, alpha=1.0, score_start=0, seed=0):\n",
    "    np.random.seed(seed)\n",
    "    rhos = 1.0 / np.arange(1, X.shape[0]+1)\n",
    "    #sdem = SDEM(rhos, alpha, n_components=k)\n",
    "    sdem = SDEM(rhos, alpha, n_components=n_cluster)\n",
    "\n",
    "    #xmin = np.min(X[start:end, :])\n",
    "    #xmax = np.max(X[start:end, :])\n",
    "    \n",
    "    #X_init = np.random.uniform(xmin, xmax, 20).reshape(20, X.shape[1])\n",
    "    sdem.fit(X_init)\n",
    "    \n",
    "    for t in range(X.shape[0]):\n",
    "        sdem.update(X[t, :])\n",
    "\n",
    "    pi_est = np.array(sdem.pi_list)\n",
    "    mu_est = np.array(sdem.means_list)\n",
    "    sigma_est = np.array(sdem.covariances_list)\n",
    "    \n",
    "    #scores = [np.nan] * start\n",
    "    scores = [np.nan] * score_start\n",
    "\n",
    "    \"\"\"\n",
    "    n_cluster = pi_est.shape[1]\n",
    "    for t in range(start, X.shape[0]):\n",
    "        p = np.zeros(n_cluster)\n",
    "        for i in range(n_cluster):\n",
    "            p_i = pi_est[t-1, i] * norm(mu_est[t-1, i, :], np.sqrt(sigma_est[t-1, i, :, :])).pdf(X[t, :])\n",
    "            p[i] = p_i\n",
    "        p_tot = np.sum(p)\n",
    "        if p_tot >= 1e-16:\n",
    "            scores.append(-np.log(p_tot))\n",
    "        else:\n",
    "            scores.append(-np.log(-1.0/np.finfo(np.float).min))\n",
    "    scores = np.array(scores)\n",
    "    \"\"\"\n",
    "    #for t in range(start, pi_est.shape[0]):\n",
    "    for t in range(score_start, X.shape[0]):\n",
    "        p = np.zeros(n_cluster)\n",
    "        if n_cluster >= 2:\n",
    "            for k in range(n_cluster):\n",
    "                p_k = pi_est[t-1, k] * norm(mu_est[t-1, k, :], np.sqrt(sigma_est[t-1, k, :, :])).pdf(X[t, :])\n",
    "                p[k] = p_k\n",
    "        else:\n",
    "            p[0] = pi_est[t-1] * norm(mu_est[t-1, 0, :], np.sqrt(sigma_est[t-1, :, :])).pdf(X[t, :])\n",
    "        p_tot = np.sum(p)\n",
    "        if p_tot >= 1.0/np.finfo(float).max:\n",
    "            scores.append(-np.log(p_tot))\n",
    "        else:\n",
    "            scores.append(np.log(np.finfo(float).max))\n",
    "    scores = np.array(scores)\n",
    "    \n",
    "    return scores"
   ]
  },
  {
   "cell_type": "code",
   "execution_count": 19,
   "id": "prompt-sunrise",
   "metadata": {},
   "outputs": [
    {
     "data": {
      "text/plain": [
       "\"\\ndef sem(X, theta0, rho, start, end, seed):\\n    np.random.seed(seed)\\n    \\n    K = len(theta0.mu)\\n    N = X.shape[0]\\n    D = X.shape[1]\\n    \\n    theta = deepcopy(theta0)\\n    pi_est = np.nan * np.ones((N, K, 1))\\n    mu_est = np.nan * np.ones((N, K, D))\\n    sigma_est = np.nan * np.ones((N, K, D, D))\\n    \\n    s = SuffStatGMM(K, D)\\n    \\n    X_init = np.random.uniform(np.min(X[start:end, :]), np.max(X[start:end, :]), 20).reshape(-1, X.shape[1])\\n    \\n    # initialization\\n    tau = compute_tau(X_init, theta)\\n    s.s1[:], s.s2[:], s.s3[:] = compute_stat(X_init, tau)\\n\\n    \\n    inds = np.arange(N)\\n    \\n    for n in range(start, N):\\n        ind_n = inds[n]\\n        \\n        tau_indiv_new = compute_tau(X[ind_n, :].reshape(1, -1), theta).reshape(-1, 1)\\n        s2_indiv_new = np.outer(tau_indiv_new, X[ind_n, :])\\n        s3_indiv_new = np.einsum('k,ij->kij', tau_indiv_new.ravel(), np.outer(X[ind_n, :], X[ind_n, :]))\\n        \\n        if np.any(np.isnan(tau_indiv_new)):\\n            pi_est[n, :] = theta.pi.copy()\\n            mu_est[n, :, :] = theta.mu.copy()\\n            sigma_est[n, :, :, :] = theta.sigma.copy()\\n            continue\\n        \\n        if K == 1:\\n            s.s1 += rho[n] * (tau_indiv_new.ravel() - s.s1)\\n            s.s2 += rho[n] * (s2_indiv_new.ravel() - s.s2)\\n            s.s3 += rho[n] * (s3_indiv_new.ravel() - s.s3)\\n        else:\\n            s.s1 += rho[n] * (tau_indiv_new - s.s1)\\n            s.s2 += rho[n] * (s2_indiv_new - s.s2)\\n            s.s3 += rho[n] * (s3_indiv_new - s.s3)\\n\\n        # M-step\\n        theta.pi[:], theta.mu[:], theta.sigma[:] = step_M(s, 1)\\n        pi_est[n, :] = theta.pi.copy()\\n        mu_est[n, :, :] = theta.mu.copy()\\n        sigma_est[n, :, :, :] = theta.sigma.copy()\\n        \\n    return pi_est, mu_est, sigma_est\\n\""
      ]
     },
     "execution_count": 19,
     "metadata": {},
     "output_type": "execute_result"
    }
   ],
   "source": [
    "\"\"\"\n",
    "def sem(X, theta0, rho, start, end, seed):\n",
    "    np.random.seed(seed)\n",
    "    \n",
    "    K = len(theta0.mu)\n",
    "    N = X.shape[0]\n",
    "    D = X.shape[1]\n",
    "    \n",
    "    theta = deepcopy(theta0)\n",
    "    pi_est = np.nan * np.ones((N, K, 1))\n",
    "    mu_est = np.nan * np.ones((N, K, D))\n",
    "    sigma_est = np.nan * np.ones((N, K, D, D))\n",
    "    \n",
    "    s = SuffStatGMM(K, D)\n",
    "    \n",
    "    X_init = np.random.uniform(np.min(X[start:end, :]), np.max(X[start:end, :]), 20).reshape(-1, X.shape[1])\n",
    "    \n",
    "    # initialization\n",
    "    tau = compute_tau(X_init, theta)\n",
    "    s.s1[:], s.s2[:], s.s3[:] = compute_stat(X_init, tau)\n",
    "\n",
    "    \n",
    "    inds = np.arange(N)\n",
    "    \n",
    "    for n in range(start, N):\n",
    "        ind_n = inds[n]\n",
    "        \n",
    "        tau_indiv_new = compute_tau(X[ind_n, :].reshape(1, -1), theta).reshape(-1, 1)\n",
    "        s2_indiv_new = np.outer(tau_indiv_new, X[ind_n, :])\n",
    "        s3_indiv_new = np.einsum('k,ij->kij', tau_indiv_new.ravel(), np.outer(X[ind_n, :], X[ind_n, :]))\n",
    "        \n",
    "        if np.any(np.isnan(tau_indiv_new)):\n",
    "            pi_est[n, :] = theta.pi.copy()\n",
    "            mu_est[n, :, :] = theta.mu.copy()\n",
    "            sigma_est[n, :, :, :] = theta.sigma.copy()\n",
    "            continue\n",
    "        \n",
    "        if K == 1:\n",
    "            s.s1 += rho[n] * (tau_indiv_new.ravel() - s.s1)\n",
    "            s.s2 += rho[n] * (s2_indiv_new.ravel() - s.s2)\n",
    "            s.s3 += rho[n] * (s3_indiv_new.ravel() - s.s3)\n",
    "        else:\n",
    "            s.s1 += rho[n] * (tau_indiv_new - s.s1)\n",
    "            s.s2 += rho[n] * (s2_indiv_new - s.s2)\n",
    "            s.s3 += rho[n] * (s3_indiv_new - s.s3)\n",
    "\n",
    "        # M-step\n",
    "        theta.pi[:], theta.mu[:], theta.sigma[:] = step_M(s, 1)\n",
    "        pi_est[n, :] = theta.pi.copy()\n",
    "        mu_est[n, :, :] = theta.mu.copy()\n",
    "        sigma_est[n, :, :, :] = theta.sigma.copy()\n",
    "        \n",
    "    return pi_est, mu_est, sigma_est\n",
    "\"\"\""
   ]
  },
  {
   "cell_type": "code",
   "execution_count": 20,
   "id": "fifty-japanese",
   "metadata": {},
   "outputs": [
    {
     "data": {
      "text/plain": [
       "\"\\ndef sem(X, theta0, rho, start, end, seed):\\n    np.random.seed(seed)\\n    \\n    K = len(theta0.mu)\\n    N = X.shape[0]\\n    D = X.shape[1]\\n    \\n    theta = deepcopy(theta0)\\n    pi_est = np.nan * np.ones((N, K, 1))\\n    mu_est = np.nan * np.ones((N, K, D))\\n    sigma_est = np.nan * np.ones((N, K, D, D))\\n    \\n    s = SuffStatGMM(K, D)\\n    \\n    #X_init = np.random.uniform(np.min(X[start:end, :]), np.max(X[start:end, :]), 20).reshape(-1, X.shape[1])\\n    #X_init = np.random.uniform(-2, 2, 20).reshape(-1, X.shape[1])\\n    #X_init = X[start:end, :].reshape(-1, X.shape[1])\\n    X_init = X[:10, :].reshape(-1, X.shape[1])\\n    \\n    # initialization\\n    tau = compute_tau(X_init, theta)\\n    s.s1[:], s.s2[:], s.s3[:] = compute_stat(X_init, tau)\\n\\n    \\n    inds = np.arange(N)\\n    \\n    for n in range(start, N):\\n        ind_n = inds[n]\\n        \\n        tau_indiv_new = compute_tau(X[ind_n, :].reshape(1, -1), theta).reshape(-1, 1)\\n        s2_indiv_new = np.outer(tau_indiv_new, X[ind_n, :])\\n        s3_indiv_new = np.einsum('k,ij->kij', tau_indiv_new.ravel(), np.outer(X[ind_n, :], X[ind_n, :]))\\n        \\n        if np.any(np.isnan(tau_indiv_new)):\\n            pi_est[n, :] = theta.pi.copy()\\n            mu_est[n, :, :] = theta.mu.copy()\\n            sigma_est[n, :, :, :] = theta.sigma.copy()\\n            continue\\n        \\n        if K == 1:\\n            s.s1 += rho[n] * (tau_indiv_new.ravel() - s.s1)\\n            s.s2 += rho[n] * (s2_indiv_new.ravel() - s.s2)\\n            s.s3 += rho[n] * (s3_indiv_new.ravel() - s.s3)\\n        else:\\n            s.s1 += rho[n] * (tau_indiv_new - s.s1)\\n            #s.s1 += rho[n] * (tau_indiv_new.ravel() - s.s1)\\n            s.s2 += rho[n] * (s2_indiv_new - s.s2)\\n            s.s3 += rho[n] * (s3_indiv_new - s.s3)\\n\\n        # M-step\\n        theta.pi[:], theta.mu[:], theta.sigma[:] = step_M(s, 1)\\n        pi_est[n, :] = theta.pi.copy()\\n        mu_est[n, :, :] = theta.mu.copy()\\n        sigma_est[n, :, :, :] = theta.sigma.copy()\\n        \\n    return pi_est, mu_est, sigma_est\\n\""
      ]
     },
     "execution_count": 20,
     "metadata": {},
     "output_type": "execute_result"
    }
   ],
   "source": [
    "\"\"\"\n",
    "def sem(X, theta0, rho, start, end, seed):\n",
    "    np.random.seed(seed)\n",
    "    \n",
    "    K = len(theta0.mu)\n",
    "    N = X.shape[0]\n",
    "    D = X.shape[1]\n",
    "    \n",
    "    theta = deepcopy(theta0)\n",
    "    pi_est = np.nan * np.ones((N, K, 1))\n",
    "    mu_est = np.nan * np.ones((N, K, D))\n",
    "    sigma_est = np.nan * np.ones((N, K, D, D))\n",
    "    \n",
    "    s = SuffStatGMM(K, D)\n",
    "    \n",
    "    #X_init = np.random.uniform(np.min(X[start:end, :]), np.max(X[start:end, :]), 20).reshape(-1, X.shape[1])\n",
    "    #X_init = np.random.uniform(-2, 2, 20).reshape(-1, X.shape[1])\n",
    "    #X_init = X[start:end, :].reshape(-1, X.shape[1])\n",
    "    X_init = X[:10, :].reshape(-1, X.shape[1])\n",
    "    \n",
    "    # initialization\n",
    "    tau = compute_tau(X_init, theta)\n",
    "    s.s1[:], s.s2[:], s.s3[:] = compute_stat(X_init, tau)\n",
    "\n",
    "    \n",
    "    inds = np.arange(N)\n",
    "    \n",
    "    for n in range(start, N):\n",
    "        ind_n = inds[n]\n",
    "        \n",
    "        tau_indiv_new = compute_tau(X[ind_n, :].reshape(1, -1), theta).reshape(-1, 1)\n",
    "        s2_indiv_new = np.outer(tau_indiv_new, X[ind_n, :])\n",
    "        s3_indiv_new = np.einsum('k,ij->kij', tau_indiv_new.ravel(), np.outer(X[ind_n, :], X[ind_n, :]))\n",
    "        \n",
    "        if np.any(np.isnan(tau_indiv_new)):\n",
    "            pi_est[n, :] = theta.pi.copy()\n",
    "            mu_est[n, :, :] = theta.mu.copy()\n",
    "            sigma_est[n, :, :, :] = theta.sigma.copy()\n",
    "            continue\n",
    "        \n",
    "        if K == 1:\n",
    "            s.s1 += rho[n] * (tau_indiv_new.ravel() - s.s1)\n",
    "            s.s2 += rho[n] * (s2_indiv_new.ravel() - s.s2)\n",
    "            s.s3 += rho[n] * (s3_indiv_new.ravel() - s.s3)\n",
    "        else:\n",
    "            s.s1 += rho[n] * (tau_indiv_new - s.s1)\n",
    "            #s.s1 += rho[n] * (tau_indiv_new.ravel() - s.s1)\n",
    "            s.s2 += rho[n] * (s2_indiv_new - s.s2)\n",
    "            s.s3 += rho[n] * (s3_indiv_new - s.s3)\n",
    "\n",
    "        # M-step\n",
    "        theta.pi[:], theta.mu[:], theta.sigma[:] = step_M(s, 1)\n",
    "        pi_est[n, :] = theta.pi.copy()\n",
    "        mu_est[n, :, :] = theta.mu.copy()\n",
    "        sigma_est[n, :, :, :] = theta.sigma.copy()\n",
    "        \n",
    "    return pi_est, mu_est, sigma_est\n",
    "\"\"\""
   ]
  },
  {
   "cell_type": "code",
   "execution_count": 21,
   "id": "honest-foster",
   "metadata": {},
   "outputs": [],
   "source": [
    "#def sem(X, theta0, rho, start, end, seed):\n",
    "def sem(X, X_init, theta0, rho, score_start, seed):\n",
    "    np.random.seed(seed)\n",
    "    \n",
    "    K = len(theta0.mu)\n",
    "    N = X.shape[0]\n",
    "    D = X.shape[1]\n",
    "    \n",
    "    theta = deepcopy(theta0)\n",
    "    pi_est = np.nan * np.ones((N, K, 1))\n",
    "    mu_est = np.nan * np.ones((N, K, D))\n",
    "    sigma_est = np.nan * np.ones((N, K, D, D))\n",
    "    \n",
    "    s = SuffStatGMM(K, D)\n",
    "    \n",
    "    #X_init = np.random.uniform(np.min(X[start:end, :]), np.max(X[start:end, :]), 20).reshape(-1, X.shape[1])\n",
    "    #X_init = np.random.uniform(-2, 2, 20).reshape(-1, X.shape[1])\n",
    "    #X_init = X[start:end, :].reshape(-1, X.shape[1])\n",
    "    #X_init = X[:10, :].reshape(-1, X.shape[1])\n",
    "    #X_init = np.random.uniform(-2, 2, 10).reshape(-1, X.shape[1])\n",
    "    \n",
    "    # initialization\n",
    "    tau = compute_tau(X_init, theta)\n",
    "    s.s1[:], s.s2[:], s.s3[:] = compute_stat(X_init, tau)\n",
    "\n",
    "    \n",
    "    inds = np.arange(N)\n",
    "    \n",
    "    #for n in range(start, N):\n",
    "    for n in range(score_start, N):\n",
    "        ind_n = inds[n]\n",
    "        \n",
    "        tau_indiv_new = compute_tau(X[ind_n, :].reshape(1, -1), theta).reshape(-1, 1)\n",
    "        s2_indiv_new = np.outer(tau_indiv_new, X[ind_n, :])\n",
    "        s3_indiv_new = np.einsum('k,ij->kij', tau_indiv_new.ravel(), np.outer(X[ind_n, :], X[ind_n, :]))\n",
    "        \n",
    "        if np.any(np.isnan(tau_indiv_new)):\n",
    "            pi_est[n, :] = theta.pi.copy()\n",
    "            mu_est[n, :, :] = theta.mu.copy()\n",
    "            sigma_est[n, :, :, :] = theta.sigma.copy()\n",
    "            continue\n",
    "        \n",
    "        if K == 1:\n",
    "            s.s1 += rho[n] * (tau_indiv_new.ravel() - s.s1)\n",
    "            s.s2 += rho[n] * (s2_indiv_new.ravel() - s.s2)\n",
    "            s.s3 += rho[n] * (s3_indiv_new.ravel() - s.s3)\n",
    "        else:\n",
    "            \"\"\"\n",
    "            print('tau_indiv_new:', tau_indiv_new.shape)\n",
    "            print('s.s1:', s.s1.shape)\n",
    "            print('s2_indiv_new:', s2_indiv_new.shape)\n",
    "            print('s.s2:', s.s2.shape)\n",
    "            print('s3_indiv_new:', s3_indiv_new.shape)\n",
    "            print('s.s3:', s.s3.shape)\n",
    "            \"\"\"\n",
    "            s.s1 += rho[n] * (tau_indiv_new - s.s1)\n",
    "            #s.s1 += rho[n] * (tau_indiv_new.ravel() - s.s1)\n",
    "            s.s2 += rho[n] * (s2_indiv_new - s.s2)\n",
    "            s.s3 += rho[n] * (s3_indiv_new - s.s3)\n",
    "\n",
    "        # M-step\n",
    "        \"\"\"\n",
    "        print(step_M(s, 1))\n",
    "        print(theta.pi.shape)\n",
    "        print(step_M(s, X[ind_n, :])[0])\n",
    "        print(theta.mu.shape)\n",
    "        print(step_M(s, X[ind_n, :])[1])\n",
    "        print(theta.sigma.shape)\n",
    "        print(step_M(s, X[ind_n, :])[2])\n",
    "        \"\"\"\n",
    "        theta.pi[:], theta.mu[:], theta.sigma[:] = step_M(s, 1)\n",
    "        pi_est[n, :] = theta.pi.copy()\n",
    "        mu_est[n, :, :] = theta.mu.copy()\n",
    "        sigma_est[n, :, :, :] = theta.sigma.copy()\n",
    "        \n",
    "    return pi_est, mu_est, sigma_est"
   ]
  },
  {
   "cell_type": "code",
   "execution_count": 22,
   "id": "emerging-damages",
   "metadata": {},
   "outputs": [],
   "source": [
    "#def calc_scores_sem(X, theta0, r, k, start=20, end=40, seed=0):\n",
    "def calc_scores_sem(X, X_init, theta0, r, k, score_start=0, seed=0):\n",
    "    rho_const = np.repeat([r], X.shape[0])\n",
    "    #pi_est, mu_est, sigma_est = sem(X, theta0, rho_const, start, end, seed)\n",
    "    pi_est, mu_est, sigma_est = sem(X, X_init, theta0, rho_const, score_start, seed)\n",
    "    \n",
    "    #plt.plot(X.ravel())\n",
    "    #plt.plot(mu_est.ravel(), linestyle='dashed')\n",
    "    #plt.show()\n",
    "    \n",
    "    #scores = [np.nan]*start\n",
    "    scores = [np.nan]*score_start\n",
    "    #for t in range(start, pi_est.shape[0]):\n",
    "    for t in range(score_start, X.shape[0]):\n",
    "        p = np.zeros(k)\n",
    "        for i in range(k):\n",
    "            p_i = pi_est[t-1, i] * norm(mu_est[t-1, i, :], np.sqrt(sigma_est[t-1, i, :, :])).pdf(X[t, :])\n",
    "            p[i] = p_i\n",
    "        p_tot = np.sum(p)\n",
    "        if p_tot >= 1.0/np.finfo(float).max:\n",
    "            scores.append(-np.log(p_tot))\n",
    "        else:\n",
    "            scores.append(np.log(np.finfo(float).max))\n",
    "            \n",
    "    return scores\n"
   ]
  },
  {
   "cell_type": "code",
   "execution_count": 23,
   "id": "pleased-calibration",
   "metadata": {},
   "outputs": [],
   "source": [
    "#def sra(X, theta0, rho, gamma, t_start=50, start=20, end=40):\n",
    "def sra(X, X_init, theta0, rho, gamma, t_start=50, score_start=0):\n",
    "    K = len(theta0.mu)\n",
    "    N = X.shape[0]\n",
    "    D = X.shape[1]\n",
    "    \n",
    "    pi_est = np.nan * np.ones((N, K, 1))\n",
    "    mu_est = np.nan * np.ones((N, K, D))\n",
    "    sigma_est = np.nan * np.ones((N, K, D, D))\n",
    "    theta = deepcopy(theta0)\n",
    "    \n",
    "    s = SuffStatGMM(K, D)\n",
    "    \n",
    "    #X_init = np.random.uniform(np.min(X[start:end, :]), np.max(X[start:end, :]), 20).reshape(20, X.shape[1])\n",
    "    #X_init = np.random.uniform(-2, 2, 20).reshape(20, X.shape[1])\n",
    "    \n",
    "    # initialization\n",
    "    tau = compute_tau(X_init, theta)\n",
    "    s.s1[:], s.s2[:], s.s3[:] = compute_stat(X_init, tau)\n",
    "\n",
    "    outliers = []\n",
    "    \n",
    "    inds = np.arange(N)\n",
    "    \n",
    "    for n in range(score_start, N):\n",
    "        ind_n = inds[n]\n",
    "        \n",
    "        tau_indiv_new = compute_tau(X[ind_n, :].reshape(1, -1), theta).reshape(-1, 1)\n",
    "        s2_indiv_new = np.outer(tau_indiv_new, X[ind_n, :])\n",
    "        s3_indiv_new = np.einsum('k,ij->kij', tau_indiv_new.ravel(), np.outer(X[ind_n, :], X[ind_n, :]))\n",
    "        \n",
    "        #if ( np.any(np.isnan(tau_indiv_new)) ) | ( (n >= t_start) &  (np.linalg.norm(s2_indiv_new - s.s2) >= gamma) ):\n",
    "        if ( np.any(np.isnan(tau_indiv_new)) ) | ( (n >= t_start) &  (np.linalg.norm(s2_indiv_new - s.s2) >= gamma) ):\n",
    "            pi_est[n, :] = theta.pi.copy()\n",
    "            mu_est[n, :, :] = theta.mu.copy()\n",
    "            sigma_est[n, :, :, :] = theta.sigma.copy()\n",
    "            \n",
    "            outliers.append(n)\n",
    "            \n",
    "            continue\n",
    "            \n",
    "        # update the statistics\n",
    "        if K == 1:\n",
    "            s.s1 += rho[n] * (tau_indiv_new.ravel() - s.s1)\n",
    "            s.s2 += rho[n] * (s2_indiv_new.ravel() - s.s2)\n",
    "            s.s3 += rho[n] * (s3_indiv_new.ravel() - s.s3)\n",
    "        else:\n",
    "            #s.s1 += rho[n] * (tau_indiv_new.ravel() - s.s1)\n",
    "            #s.s2 += rho[n] * (s2_indiv_new.ravel() - s.s2)\n",
    "            #s.s3 += rho[n] * (s3_indiv_new.ravel() - s.s3)\n",
    "            s.s1 += rho[n] * (tau_indiv_new - s.s1)\n",
    "            s.s2 += rho[n] * (s2_indiv_new - s.s2)\n",
    "            s.s3 += rho[n] * (s3_indiv_new - s.s3)\n",
    "\n",
    "        # M-step\n",
    "        theta.pi[:], theta.mu[:], theta.sigma[:] = step_M(s, X[ind_n, :])\n",
    "        pi_est[n, :] = theta.pi.copy()\n",
    "        mu_est[n, :, :] = theta.mu.copy()\n",
    "        sigma_est[n, :, :, :] = theta.sigma.copy()\n",
    "\n",
    "    return pi_est, mu_est, sigma_est, outliers"
   ]
  },
  {
   "cell_type": "code",
   "execution_count": 24,
   "id": "impaired-former",
   "metadata": {},
   "outputs": [],
   "source": [
    "#def calc_scores_sra(X, theta0, k, gamma, ratio, M, t_start=1500, start=20, seed=0):\n",
    "def calc_scores_sra(X, X_init, theta0, k, gamma, ratio, M, t_start=50, score_start=0, seed=0):    \n",
    "    np.random.seed(seed)\n",
    "    \n",
    "    rho = ratio * np.exp(-gamma**2/M**2) / (2.0*gamma)\n",
    "    rho_const = np.repeat(rho, X.shape[0])\n",
    "    #pi_est, mu_est, sigma_est, outliers = sra(X, theta0, rho_const, gamma, t_start=t_start, start=start)\n",
    "    pi_est, mu_est, sigma_est, outliers = sra(X, X_init, theta0, rho_const, gamma, t_start=t_start, score_start=score_start)\n",
    "        \n",
    "    #scores = [np.nan] * start\n",
    "    scores = [np.nan] * score_start\n",
    "    #for t in range(start, pi_est.shape[0]):\n",
    "    for t in range(score_start, X.shape[0]):\n",
    "        if t in outliers:\n",
    "            #score_t = np.nan\n",
    "            score_t = scores[-1]\n",
    "        else:\n",
    "            p = np.zeros(k)\n",
    "            for i in range(k):\n",
    "                p_i = pi_est[t-1, i] * norm(mu_est[t-1, i, :], np.sqrt(sigma_est[t-1, i, :, :])).pdf(X[t, :])\n",
    "                p[i] = p_i\n",
    "            p_tot = np.sum(p)\n",
    "            if p_tot >= 1.0/np.finfo(float).max:\n",
    "                score_t = -np.log(p_tot)\n",
    "            else:\n",
    "                score_t = np.log(np.finfo(float).max)\n",
    "        scores.append(score_t)\n",
    "    return scores"
   ]
  },
  {
   "cell_type": "code",
   "execution_count": 25,
   "id": "royal-wallpaper",
   "metadata": {},
   "outputs": [],
   "source": [
    "def calc_metrics(means, mu1, mu2, eval_start=500, eval_end=1000, burnin=1000, N=10000):\n",
    "    ev = np.sum((means[eval_start:eval_end, :] - mu1)**2, axis=1)\n",
    "    former = np.sum((means[burnin:N, :] - mu1)**2, axis=1)\n",
    "    latter = np.sum((means[N:, :] - mu2)**2, axis=1)\n",
    "    print('former')\n",
    "    print(former.shape)\n",
    "    print(former)\n",
    "    print('latter')\n",
    "    print(latter.shape)\n",
    "    print(latter)\n",
    "    overall = np.hstack((former, latter))\n",
    "    \n",
    "    #return np.mean(ev), np.mean(former), np.mean(latter), np.mean(overall)\n",
    "    return np.nanmean(ev), np.nanmean(former), np.nanmean(latter), np.nanmean(overall)"
   ]
  },
  {
   "cell_type": "code",
   "execution_count": 26,
   "id": "vital-graduate",
   "metadata": {},
   "outputs": [],
   "source": [
    "def calc_falarms_benefit(scores, change_points, start=None, end=None, T=100, N_thr=100, eps=1e-2):\n",
    "    scores_max, scores_min = np.nanmax(scores), np.nanmin(scores)\n",
    "    threshold_list = np.linspace(scores_min - eps, scores_max + eps, N_thr)\n",
    "\n",
    "    falarms = []\n",
    "    benefits = []\n",
    "    \n",
    "    N = len(scores)\n",
    "    \n",
    "    for threshold in threshold_list:\n",
    "        binary_alarm = (np.array(scores) >= threshold)\n",
    "        \n",
    "        benefit = np.zeros(N)\n",
    "        for cp in change_points:\n",
    "            if cp < T:\n",
    "                # t = 0, ... , cp, cp+1, ..., cp+T-1\n",
    "                values = 1.0 - np.hstack((np.arange(cp, 0, -1), np.arange(T)))/T\n",
    "                benefit[:(cp+T)] = values\n",
    "            elif cp+T > N:\n",
    "                # t = cp-T, ..., cp, cp+1, ..., N-1\n",
    "                values = 1.0 - np.hstack((np.arange(T, 0, -1), np.arange(N-cp)))/T\n",
    "                benefit[(cp-T):] = values\n",
    "            else:\n",
    "                # t = cp-T, ..., cp, cp+1, ..., cp+T-1\n",
    "                values = 1.0 - np.hstack((np.arange(T, 0, -1), np.arange(T)))/T\n",
    "                benefit[(cp-T):(cp+T)] = values\n",
    "            \n",
    "        if start is not None:\n",
    "            if end is not None:\n",
    "                benefit = benefit[start:end]\n",
    "                binary_alarm = binary_alarm[start:end]\n",
    "            else:\n",
    "                benefit = benefit[start:]\n",
    "                binary_alarm = binary_alarm[start:]\n",
    "        elif end is not None:\n",
    "            benefit = benefit[:end]\n",
    "            binary_alarm = binary_alarm[:end]\n",
    "        \n",
    "        total_benefit = np.sum(binary_alarm * benefit)\n",
    "        n_falarm = np.sum(binary_alarm * (benefit == 0.0).astype(int))\n",
    "        \n",
    "        benefits.append(total_benefit/np.sum(benefit))\n",
    "        falarms.append(n_falarm/np.sum(benefit == 0.0))\n",
    "\n",
    "    benefits = np.array(benefits)    \n",
    "    falarms = np.array(falarms)\n",
    "    \n",
    "    return falarms, benefits"
   ]
  },
  {
   "cell_type": "code",
   "execution_count": 27,
   "id": "touched-rwanda",
   "metadata": {},
   "outputs": [],
   "source": [
    "def calc_auc_main(scores, cps, start, end, T, N_thr=100):\n",
    "    falarms, benefits = calc_falarms_benefit(scores, cps, start=start, end=end, T=T, N_thr=N_thr)\n",
    "    auc_ = auc(falarms, benefits)\n",
    "\n",
    "    return auc_"
   ]
  },
  {
   "cell_type": "markdown",
   "id": "south-violin",
   "metadata": {},
   "source": [
    "## AUC"
   ]
  },
  {
   "cell_type": "code",
   "execution_count": 35,
   "id": "sealed-edmonton",
   "metadata": {},
   "outputs": [],
   "source": [
    "def experiment1_comparison_auc(\n",
    "    # ADWIN\n",
    "    delta_list_adwin=[0.001, 0.002, 0.005, 0.01, 0.02, 0.05, 0.1, 0.2, 0.5], \n",
    "    # KSWIN\n",
    "    alpha_list_kswin = [0.001, 0.005, 0.01], \n",
    "    window_size_list_kswin = [20, 30], \n",
    "    stat_size_list_kswin = [10, 15], \n",
    "    # DDM\n",
    "    min_num_instances_list_ddm=[10, 20, 30, 40, 50, 100], \n",
    "    # EDDM\n",
    "    min_num_instances_list_eddm=[10, 20, 30, 40, 50, 100],\n",
    "    # Page-Hinkley\n",
    "    threshold_list_ph=[10, 20, 30, 40, 50, 60, 70, 80, 90, 100], \n",
    "    # SDEM\n",
    "    r_list_sdem=[0.0001, 0.001, 0.005, 0.01], \n",
    "    # SEM\n",
    "    r_list_sem=[0.01, 0.05, 0.1],\n",
    "    # SRA\n",
    "    gamma_list_sra=[1, 3, 5, 10, 15], \n",
    "    ratio_list_sra=[0.1, 0.2, 0.3, 0.5], \n",
    "    M_list_sra=[5, 10, 15], \n",
    "    #gamma=3.0, \n",
    "    #ratio=0.1, \n",
    "    #M=5.0, \n",
    "    u=10, \n",
    "    N=10000,\n",
    "    alpha_ol=0.01, # ratio of outliers\n",
    "    burnin=1000,\n",
    "    pi=np.array([0.5, 0.5]),\n",
    "    mu1=np.array([0.5, -0.5]),\n",
    "    mu2=np.array([1.0, -1.0]),\n",
    "    sigma = np.array([0.1, 0.1]),\n",
    "    cps=np.array([9999]),\n",
    "    #start=0, \n",
    "    #end=None,\n",
    "    score_start=0, \n",
    "    score_end=None,\n",
    "    T=100,\n",
    "    K=2, \n",
    "    N_thr=1000,\n",
    "    n_trial=10):\n",
    "\n",
    "    auc_adwin = []\n",
    "    auc_kswin = []\n",
    "    auc_ddm = []\n",
    "    auc_eddm = []\n",
    "    auc_ph = []\n",
    "    auc_sdem = []\n",
    "    auc_iem = []\n",
    "    auc_sem = []\n",
    "    auc_sra = []\n",
    "    \n",
    "    time_adwin = []\n",
    "    time_kswin = []\n",
    "    time_ddm = []\n",
    "    time_eddm = []\n",
    "    time_ph = []\n",
    "    time_sdem = []\n",
    "    time_iem = []\n",
    "    time_sem = []\n",
    "    time_sra = []\n",
    "    \n",
    "    for trial in tqdm.tqdm(range(n_trial)):\n",
    "        # generate data\n",
    "        np.random.seed(trial)\n",
    "        X = np.zeros((2*N, 1))\n",
    "        Xj_former = generate_data(N, pi, mu1, sigma)\n",
    "        X[:N, 0] = Xj_former.ravel()\n",
    "        Xj_latter = generate_data(N, pi, mu2, sigma)\n",
    "        X[N:, 0] = Xj_latter.ravel()\n",
    "\n",
    "        idxes_ol = np.random.choice(np.arange(2*N), int(alpha_ol*2*N))\n",
    "        X[idxes_ol, :] = np.random.uniform(-u, u, len(idxes_ol)).reshape(-1, 1)\n",
    "        \n",
    "        print('# ADWIN')\n",
    "        time_adwin_each = []\n",
    "        for i, delta in enumerate(delta_list_adwin):\n",
    "            #print(f\"delta = {delta}\")\n",
    "            score_list_adwin = []\n",
    "            \n",
    "            time_start = time.time()\n",
    "            \n",
    "            adwin = ADWIN(delta=delta)\n",
    "            for t, x in enumerate(X.ravel()):\n",
    "                adwin.add_element(x)\n",
    "                \n",
    "                score_list_adwin.append(adwin._width)\n",
    "                \n",
    "                #if adwin.detected_change():\n",
    "                #    score = 1.0\n",
    "                #else:\n",
    "                #    score = 0.0\n",
    "                #   \n",
    "                #score_list_adwin.append(score)\n",
    "            \n",
    "            time_end = time.time()\n",
    "            time_adwin_each.append(time_end - time_start)\n",
    "            \n",
    "            score_list_adwin = np.hstack((np.nan, np.abs(np.diff(score_list_adwin))))\n",
    "            \n",
    "            #ev, former, latter, total = calc_metrics(np.vstack(score_list_adwin), mu1, mu2, eval_start, eval_end, burnin)\n",
    "            #auc_ = calc_auc_main(score_list_adwin, cps, start, end, T, N_thr)\n",
    "            auc_ = calc_auc_main(score_list_adwin, cps, score_start, score_end, T, N_thr)\n",
    "            #auc_adwin[trial, i] = auc_\n",
    "            auc_adwin.append([trial, delta, auc_])\n",
    "        \n",
    "        time_adwin.append(time_adwin_each)\n",
    "        \n",
    "        print('# KSWIN')\n",
    "        time_kswin_each = []\n",
    "        for i, alpha in enumerate(alpha_list_kswin):\n",
    "            for j, window_size in enumerate(window_size_list_kswin):\n",
    "                for k, stat_size in enumerate(stat_size_list_kswin):\n",
    "                    score_list_kswin = []\n",
    "                    \n",
    "                    time_start = time.time()\n",
    "                    \n",
    "                    kswin = KSWIN(alpha=alpha, window_size=window_size, stat_size=stat_size)\n",
    "                    for t, x in enumerate(X.ravel()):\n",
    "                        kswin.add_element(x)\n",
    "                        \n",
    "                        #if kswin.detected_change():\n",
    "                        #    score = 1.0\n",
    "                        #else:\n",
    "                        #    score = 0.0\n",
    "                        currentLength = kswin.window.shape[0]\n",
    "                        if currentLength >= kswin.window_size:\n",
    "                            window = np.delete(kswin.window, 0)\n",
    "                            rnd_window = np.random.choice(kswin.window[:stat_size], stat_size)\n",
    "\n",
    "                            (st, p_value) = ks_2samp(rnd_window, kswin.window[-stat_size:], mode=\"exact\")\n",
    "\n",
    "                            score = 1.0 - p_value\n",
    "                        else:\n",
    "                            score = 0.0\n",
    "                        \n",
    "                        score_list_kswin.append(score)\n",
    "                    \n",
    "                    #score_list_kswin = np.hstack((np.nan, np.abs(np.diff(score_list_kswin))))\n",
    "                    \n",
    "                    time_end = time.time()\n",
    "                    time_kswin_each.append(time_end - time_start)\n",
    "                    \n",
    "                    #auc_ = calc_auc_main(score_list_kswin, cps, start, end, T, N_thr)\n",
    "                    auc_ = calc_auc_main(score_list_kswin, cps, score_start, score_end, T, N_thr)\n",
    "                    auc_kswin.append([trial, alpha, window_size, stat_size, auc_])\n",
    "        \n",
    "        time_kswin.append(time_kswin_each)\n",
    "        \n",
    "        print('# DDM')\n",
    "        time_ddm_each = []\n",
    "        for i, min_num_instances in enumerate(min_num_instances_list_ddm):\n",
    "            score_list_ddm = []\n",
    "            \n",
    "            time_start = time.time()\n",
    "            ddm = DDM(min_num_instances=min_num_instances)\n",
    "            err = 0\n",
    "            for t in range(X.shape[0]):\n",
    "                ddm.add_element(err)\n",
    "                score_t = ddm.miss_prob + ddm.miss_std - ddm.miss_prob_min - ddm.out_control_level*ddm.miss_sd_min\n",
    "                score_list_ddm.append(score_t)\n",
    "\n",
    "                if ddm.detected_change():\n",
    "                    #if t in [9999]:\n",
    "                    if t in np.hstack((idxes_ol, N-1)):\n",
    "                        err = 0\n",
    "                    else:\n",
    "                        err = 1\n",
    "                else:\n",
    "                    #if t in [9999]:\n",
    "                    if t in np.hstack((idxes_ol, N-1)):\n",
    "                        err = 1\n",
    "                    else:\n",
    "                        err = 0\n",
    "            time_end = time.time()\n",
    "            time_ddm_each.append(time_end - time_start)\n",
    "\n",
    "            #ev, former, latter, total = calc_metrics(score_list_ddm, mu1, mu2, eval_start, eval_end, burnin)\n",
    "            #auc_ = calc_auc_main(score_list_ddm, cps, start, end, T, N_thr)\n",
    "            auc_ = calc_auc_main(score_list_ddm, cps, score_start, score_end, T, N_thr)\n",
    "            #auc_ddm[trial, i] = auc_\n",
    "            auc_ddm.append([trial, min_num_instances, auc_])\n",
    "        \n",
    "        time_ddm.append(time_ddm_each)\n",
    "        \n",
    "        print('# EDDM')\n",
    "        time_eddm_each = []\n",
    "        for i, min_num_instances in enumerate(min_num_instances_list_ddm):\n",
    "            #print(f\"min_num_instances = {min_num_instances}\")\n",
    "            score_list_eddm = []\n",
    "            \n",
    "            time_start = time.time()\n",
    "            eddm = EDDM()\n",
    "            err = 0.0\n",
    "            for t in range(X.shape[0]):\n",
    "                eddm.add_element(err)\n",
    "                score_t = eddm.m_num_errors - eddm.m_min_num_errors\n",
    "\n",
    "                score_list_eddm.append(score_t)\n",
    "                if eddm.detected_change():\n",
    "                    #print(f\"t = {t}\")\n",
    "                    #if t in [9999]:\n",
    "                    if t in np.hstack((idxes_ol, N-1)):\n",
    "                        err = 0\n",
    "                    else:\n",
    "                        err = 1\n",
    "                else:\n",
    "                    #if t in [9999]:\n",
    "                    if t in np.hstack((idxes_ol, N-1)):\n",
    "                        err = 1\n",
    "                    else:\n",
    "                        err = 0\n",
    "            time_end = time.time()\n",
    "            time_eddm_each.append(time_end - time_start)\n",
    "\n",
    "            #ev, former, latter, total = calc_metrics(score_list_eddm, mu1, mu2, eval_start, eval_end, burnin)\n",
    "            #auc_ = calc_auc_main(score_list_eddm, cps, start, end, T, N_thr)\n",
    "            auc_ = calc_auc_main(score_list_eddm, cps, score_start, score_end, T, N_thr)\n",
    "            #auc_eddm[trial, i] = auc_\n",
    "            auc_eddm.append([trial, min_num_instances, auc_])\n",
    "\n",
    "        time_eddm.append(time_eddm_each)\n",
    "\n",
    "        print('# Page-Hinkley')\n",
    "        time_ph_each = []\n",
    "        for i, threshold in enumerate(threshold_list_ph):\n",
    "            score_list_ph = []\n",
    "            \n",
    "            time_start = time.time()\n",
    "            ph = PageHinkley()\n",
    "            for t in range(X.shape[0]):\n",
    "                ph.add_element(X[t, :])\n",
    "                score_t = ph.sum - threshold\n",
    "                score_list_ph.append(score_t)\n",
    "\n",
    "            time_end = time.time()\n",
    "            time_ph_each.append(time_end - time_start)\n",
    "            \n",
    "            #ev, former, latter, total = calc_metrics(score_list_ph, mu1, mu2, eval_start, eval_end, burnin)\n",
    "            #auc_ = calc_auc_main(score_list_ph, cps, start, end, T, N_thr)\n",
    "            auc_ = calc_auc_main(score_list_ph, cps, score_start, score_end, T, N_thr)\n",
    "            #auc_ph[trial, i] = auc_\n",
    "            auc_ph.append([trial, threshold, auc_])\n",
    "        \n",
    "        time_ph.append(time_ph_each)\n",
    "        \n",
    "        print('# SDEM')\n",
    "        time_sdem_each = []\n",
    "        for i, r in enumerate(r_list_sdem):\n",
    "            time_start = time.time()\n",
    "            rho_const = np.repeat([r], 2*N)\n",
    "            sdem = SDEM(rho_const, 1.0, n_components=K)\n",
    "            seed = i*len(r_list_sdem) + trial\n",
    "            \n",
    "            X_init = np.random.uniform(\n",
    "                         -5, 5, \n",
    "                     20).reshape(-1, 1) \n",
    "                                           \n",
    "            #scores_sdem = calc_scores_sdem(X, r, n_cluster=K, start=0, alpha=1.0, seed=seed)\n",
    "            scores_sdem = calc_scores_sdem(X, X_init, r, n_cluster=K, score_start=score_start,  \n",
    "                                           alpha=1.0, seed=seed)\n",
    "            time_end = time.time()\n",
    "            \n",
    "            time_sdem_each.append(time_end - time_start)\n",
    "            \n",
    "            #auc_ = calc_auc_main(scores_sdem, cps, start, end, T, N_thr)\n",
    "            auc_ = calc_auc_main(scores_sdem, cps, score_start, score_end, T, N_thr)\n",
    "            auc_sdem.append([trial, r, auc_])\n",
    "\n",
    "        time_sdem.append(time_sdem_each)\n",
    "        \n",
    "        print('# IEM')\n",
    "        time_iem_each = []\n",
    "        \n",
    "        time_start = time.time()\n",
    "        iem = SDEM(1.0/np.arange(1, 2*N+1), 1.0, n_components=K)\n",
    "        X_init = np.random.uniform(\n",
    "                     -5, 5, \n",
    "                 20).reshape(-1, 1)\n",
    "        #scores_iem = calc_scores_iem(X, n_cluster=K, start=0, seed=trial)\n",
    "        scores_iem = calc_scores_iem(X, X_init, n_cluster=K, score_start=score_start, seed=trial)\n",
    "        time_end = time.time()\n",
    "        \n",
    "        time_iem_each.append(time_end - time_start)\n",
    "        \n",
    "        #auc_ = calc_auc_main(scores_iem, cps, start, end, T, N_thr)\n",
    "        auc_ = calc_auc_main(scores_iem, cps, score_start, score_end, T, N_thr)\n",
    "        auc_iem.append([trial, auc_])\n",
    "        \n",
    "        time_iem.append(time_iem_each)\n",
    "        \n",
    "        print('# SEM')\n",
    "        time_sem_each = []\n",
    "        for i, r in enumerate(r_list_sem):\n",
    "            seed = i*len(r_list_sem) + trial\n",
    "            np.random.seed(seed)\n",
    "\n",
    "            time_start = time.time()\n",
    "            #pi0 = np.array([1.0]).reshape(-1, 1)\n",
    "            #X_init = np.random.uniform(np.min(X[20:40, :]), np.max(X[20:40, :]), 20).reshape(20, X.shape[1])\n",
    "            \n",
    "            #mu0 = [np.mean(X_init)]\n",
    "            #sigma0 = np.array([[np.std(X_init)]])\n",
    "            pi0 = np.random.dirichlet([1.0]*2).reshape(-1, 1)\n",
    "            #X_init = np.random.uniform(np.min(X[20:40, :]), np.max(X[20:40, :]), 20).reshape(20, X.shape[1])\n",
    "            #X_init = np.random.uniform(-2, 2, 20).reshape(20, X.shape[1])\n",
    "            #mu0 = np.sort(np.random.uniform(np.min(X_init), np.max(X_init), 2))[::-1].reshape(-1, 1)\n",
    "            #sigma0 = np.array([[[np.std(X_init)]], [[np.std(X_init)]]])\n",
    "\n",
    "            X_init = np.array([np.hstack([ np.random.uniform(\n",
    "                                                #np.min(X[20:40, j]), \n",
    "                                                #np.max(X[20:40, j]), \n",
    "                                                -5, 5, \n",
    "                                            20).reshape(-1, 1) \n",
    "                                           for j in range(X.shape[1]) ]) for _ in range(K)])\n",
    "\n",
    "            mu0 = np.mean(X_init, axis=1)\n",
    "            sigma0 = np.array([[[np.std(X_init[kk, :, :])]] for kk in range(K)])            \n",
    "            \n",
    "            theta0 = Theta(pi0, mu0, sigma0)\n",
    "\n",
    "            #scores_sem = calc_scores_sem(X, theta0, r, k=K, seed=seed)\n",
    "            scores_sem = calc_scores_sem(X, X_init, theta0, r, k=K, score_start=score_start, seed=seed)\n",
    "            \n",
    "            time_end = time.time()\n",
    "            time_sem_each.append(time_end - time_start)\n",
    "            \n",
    "            #auc_ = calc_auc_main(scores_sem, cps, start, end, T, N_thr)\n",
    "            auc_ = calc_auc_main(scores_sem, cps, score_start, score_end, T, N_thr)\n",
    "            auc_sem.append([trial, r, auc_])\n",
    "            \n",
    "        time_sem.append(time_sem_each)\n",
    "        \n",
    "        print('# SRA')\n",
    "        time_sra_each = []\n",
    "        for j, gamma in enumerate(gamma_list_sra):\n",
    "            #ratio_list = [0.01*gamma, 0.03*gamma, 0.05*gamma, 0.1*gamma]\n",
    "            #M_list = [gamma, 2*gamma, 4*gamma]\n",
    "            for l, ratio in enumerate(ratio_list_sra):\n",
    "                for m, M in enumerate(M_list_sra):\n",
    "                    seed = j*len(gamma_list_sra) + l*len(ratio_list_sra) + m * len(M_list_sra) + trial\n",
    "                    \n",
    "                    np.random.seed(seed)\n",
    "                    \n",
    "                    time_start = time.time()\n",
    "                    #pi0 = np.array([1.0])\n",
    "                    #X_init = np.random.uniform(np.min(X[20:40, :]), np.max(X[20:40, :]), 20)\n",
    "                    #mu0 = np.array([np.mean(X_init)])\n",
    "                    #sigma0 = np.array([[np.var(X_init)]])\n",
    "                    #theta0 = Theta(pi0, mu0, sigma0)\n",
    "                    \n",
    "                    pi0 = np.random.dirichlet([1.0]*2).reshape(-1, 1)\n",
    "                    X_init = np.array([np.hstack([ np.random.uniform(\n",
    "                                                        #np.min(X[20:40, j]), \n",
    "                                                        #np.max(X[20:40, j]), \n",
    "                                                        -5, 5, \n",
    "                                                        20).reshape(-1, 1) \n",
    "                                                   for j in range(X.shape[1]) ]) for _ in range(K)])\n",
    "                    mu0 = np.mean(X_init, axis=1)\n",
    "                    sigma0 = np.array([[[np.std(X_init[kk, :, :])]] for kk in range(K)])            \n",
    "\n",
    "                    theta0 = Theta(pi0, mu0, sigma0)\n",
    "                    \n",
    "                    #scores_sra = calc_scores_sra(X, theta0, k=K, gamma=gamma, ratio=ratio, M=M, seed=seed)\n",
    "                    scores_sra = calc_scores_sra(X, X_init, theta0, k=K, gamma=gamma, ratio=ratio, M=M, \n",
    "                                                 score_start=score_start, seed=seed)\n",
    "\n",
    "                    time_end = time.time()\n",
    "                    time_sra_each.append(time_end - time_start)\n",
    "                    \n",
    "                    #auc_ = calc_auc_main(scores_sra, cps, start, end, T, N_thr)\n",
    "                    auc_ = calc_auc_main(scores_sra, cps, score_start, score_end, T, N_thr)\n",
    "                    auc_sra.append([trial, gamma, ratio, M, auc_])\n",
    "\n",
    "        time_sra.append(time_sra_each)            \n",
    "        \n",
    "    auc_adwin_df = pd.DataFrame(auc_adwin, columns=['trial', 'delta', 'auc'])\n",
    "    auc_kswin_df = pd.DataFrame(auc_kswin, columns=['trial', 'alpha', 'window_size', 'stat_size', 'auc'])\n",
    "    auc_ddm_df = pd.DataFrame(auc_ddm, columns=['trial', 'min_num_instances', 'auc'])\n",
    "    auc_eddm_df = pd.DataFrame(auc_eddm, columns=['trial', 'min_num_instances', 'auc'])\n",
    "    auc_ph_df = pd.DataFrame(auc_ph, columns=['trial', 'threshold', 'auc'])\n",
    "\n",
    "    auc_sdem_df = pd.DataFrame(auc_sdem, columns=['trial', 'r', 'auc'])\n",
    "    auc_iem_df = pd.DataFrame(auc_iem, columns=['trial', 'auc'])\n",
    "    auc_sem_df = pd.DataFrame(auc_sem, columns=['trial', 'r', 'auc'])    \n",
    "    auc_sra_df = pd.DataFrame(auc_sra, columns=['trial', 'gamma', 'ratio', 'M', 'auc'])\n",
    "\n",
    "    return auc_adwin_df, auc_kswin_df, auc_ddm_df, auc_eddm_df, auc_ph_df, \\\n",
    "           auc_sdem_df, auc_iem_df, auc_sem_df, auc_sra_df, \\\n",
    "           time_adwin, time_kswin, time_ddm, time_eddm, time_ph, \\\n",
    "           time_sdem, time_iem, time_sem, time_sra"
   ]
  },
  {
   "cell_type": "code",
   "execution_count": 36,
   "id": "ecological-attack",
   "metadata": {},
   "outputs": [
    {
     "name": "stderr",
     "output_type": "stream",
     "text": [
      "  0%|          | 0/10 [00:00<?, ?it/s]"
     ]
    },
    {
     "name": "stdout",
     "output_type": "stream",
     "text": [
      "# ADWIN\n",
      "# KSWIN\n"
     ]
    },
    {
     "name": "stderr",
     "output_type": "stream",
     "text": [
      "/Users/shi-fukushima/.pyenv/versions/anaconda3-5.3.1/lib/python3.7/site-packages/scipy/stats/stats.py:6716: RuntimeWarning: ks_2samp: Exact calculation unsuccessful. Switching to mode=asymp.\n",
      "  f\"Switching to mode={mode}.\", RuntimeWarning)\n"
     ]
    },
    {
     "name": "stdout",
     "output_type": "stream",
     "text": [
      "# DDM\n"
     ]
    },
    {
     "name": "stderr",
     "output_type": "stream",
     "text": [
      "/Users/shi-fukushima/.pyenv/versions/anaconda3-5.3.1/lib/python3.7/site-packages/numpy/core/function_base.py:151: RuntimeWarning: invalid value encountered in multiply\n",
      "  y *= step\n",
      "/Users/shi-fukushima/.pyenv/versions/anaconda3-5.3.1/lib/python3.7/site-packages/numpy/core/function_base.py:161: RuntimeWarning: invalid value encountered in add\n",
      "  y += start\n"
     ]
    },
    {
     "name": "stdout",
     "output_type": "stream",
     "text": [
      "# EDDM\n",
      "# Page-Hinkley\n"
     ]
    },
    {
     "name": "stderr",
     "output_type": "stream",
     "text": [
      "/Users/shi-fukushima/.pyenv/versions/anaconda3-5.3.1/lib/python3.7/site-packages/numpy/core/_asarray.py:171: VisibleDeprecationWarning: Creating an ndarray from ragged nested sequences (which is a list-or-tuple of lists-or-tuples-or ndarrays with different lengths or shapes) is deprecated. If you meant to do this, you must specify 'dtype=object' when creating the ndarray.\n",
      "  return array(a, dtype, copy=False, order=order, subok=True)\n",
      "/Users/shi-fukushima/.pyenv/versions/anaconda3-5.3.1/lib/python3.7/site-packages/ipykernel_launcher.py:11: VisibleDeprecationWarning: Creating an ndarray from ragged nested sequences (which is a list-or-tuple of lists-or-tuples-or ndarrays with different lengths or shapes) is deprecated. If you meant to do this, you must specify 'dtype=object' when creating the ndarray.\n",
      "  # This is added back by InteractiveShellApp.init_path()\n"
     ]
    },
    {
     "name": "stdout",
     "output_type": "stream",
     "text": [
      "# SDEM\n"
     ]
    },
    {
     "name": "stderr",
     "output_type": "stream",
     "text": [
      "/Users/shi-fukushima/.pyenv/versions/anaconda3-5.3.1/lib/python3.7/site-packages/ipykernel_launcher.py:26: RuntimeWarning: invalid value encountered in sqrt\n",
      "/Users/shi-fukushima/.pyenv/versions/anaconda3-5.3.1/lib/python3.7/site-packages/ipykernel_launcher.py:26: RuntimeWarning: invalid value encountered in sqrt\n",
      "/Users/shi-fukushima/.pyenv/versions/anaconda3-5.3.1/lib/python3.7/site-packages/ipykernel_launcher.py:26: RuntimeWarning: invalid value encountered in sqrt\n",
      "/Users/shi-fukushima/.pyenv/versions/anaconda3-5.3.1/lib/python3.7/site-packages/ipykernel_launcher.py:26: RuntimeWarning: invalid value encountered in sqrt\n"
     ]
    },
    {
     "name": "stdout",
     "output_type": "stream",
     "text": [
      "# IEM\n"
     ]
    },
    {
     "name": "stderr",
     "output_type": "stream",
     "text": [
      "/Users/shi-fukushima/.pyenv/versions/anaconda3-5.3.1/lib/python3.7/site-packages/scipy/stats/_distn_infrastructure.py:1760: RuntimeWarning: divide by zero encountered in true_divide\n",
      "  x = np.asarray((x - loc)/scale, dtype=dtyp)\n"
     ]
    },
    {
     "name": "stdout",
     "output_type": "stream",
     "text": [
      "# SEM\n"
     ]
    },
    {
     "name": "stderr",
     "output_type": "stream",
     "text": [
      "/Users/shi-fukushima/.pyenv/versions/anaconda3-5.3.1/lib/python3.7/site-packages/ipykernel_launcher.py:32: RuntimeWarning: invalid value encountered in true_divide\n"
     ]
    },
    {
     "name": "stdout",
     "output_type": "stream",
     "text": [
      "# SRA\n"
     ]
    },
    {
     "name": "stderr",
     "output_type": "stream",
     "text": [
      "/Users/shi-fukushima/.pyenv/versions/anaconda3-5.3.1/lib/python3.7/site-packages/scipy/stats/_continuous_distns.py:243: RuntimeWarning: overflow encountered in square\n",
      "  return np.exp(-x**2/2.0) / _norm_pdf_C\n",
      " 10%|█         | 1/10 [1:18:46<11:49:01, 4726.88s/it]"
     ]
    },
    {
     "name": "stdout",
     "output_type": "stream",
     "text": [
      "# ADWIN\n",
      "# KSWIN\n"
     ]
    },
    {
     "name": "stderr",
     "output_type": "stream",
     "text": [
      "/Users/shi-fukushima/.pyenv/versions/anaconda3-5.3.1/lib/python3.7/site-packages/scipy/stats/stats.py:6716: RuntimeWarning: ks_2samp: Exact calculation unsuccessful. Switching to mode=asymp.\n",
      "  f\"Switching to mode={mode}.\", RuntimeWarning)\n"
     ]
    },
    {
     "name": "stdout",
     "output_type": "stream",
     "text": [
      "# DDM\n"
     ]
    },
    {
     "name": "stderr",
     "output_type": "stream",
     "text": [
      "/Users/shi-fukushima/.pyenv/versions/anaconda3-5.3.1/lib/python3.7/site-packages/numpy/core/function_base.py:151: RuntimeWarning: invalid value encountered in multiply\n",
      "  y *= step\n",
      "/Users/shi-fukushima/.pyenv/versions/anaconda3-5.3.1/lib/python3.7/site-packages/numpy/core/function_base.py:161: RuntimeWarning: invalid value encountered in add\n",
      "  y += start\n"
     ]
    },
    {
     "name": "stdout",
     "output_type": "stream",
     "text": [
      "# EDDM\n",
      "# Page-Hinkley\n"
     ]
    },
    {
     "name": "stderr",
     "output_type": "stream",
     "text": [
      "/Users/shi-fukushima/.pyenv/versions/anaconda3-5.3.1/lib/python3.7/site-packages/numpy/core/_asarray.py:171: VisibleDeprecationWarning: Creating an ndarray from ragged nested sequences (which is a list-or-tuple of lists-or-tuples-or ndarrays with different lengths or shapes) is deprecated. If you meant to do this, you must specify 'dtype=object' when creating the ndarray.\n",
      "  return array(a, dtype, copy=False, order=order, subok=True)\n",
      "/Users/shi-fukushima/.pyenv/versions/anaconda3-5.3.1/lib/python3.7/site-packages/ipykernel_launcher.py:11: VisibleDeprecationWarning: Creating an ndarray from ragged nested sequences (which is a list-or-tuple of lists-or-tuples-or ndarrays with different lengths or shapes) is deprecated. If you meant to do this, you must specify 'dtype=object' when creating the ndarray.\n",
      "  # This is added back by InteractiveShellApp.init_path()\n"
     ]
    },
    {
     "name": "stdout",
     "output_type": "stream",
     "text": [
      "# SDEM\n"
     ]
    },
    {
     "name": "stderr",
     "output_type": "stream",
     "text": [
      "/Users/shi-fukushima/.pyenv/versions/anaconda3-5.3.1/lib/python3.7/site-packages/ipykernel_launcher.py:26: RuntimeWarning: invalid value encountered in sqrt\n",
      "/Users/shi-fukushima/.pyenv/versions/anaconda3-5.3.1/lib/python3.7/site-packages/ipykernel_launcher.py:26: RuntimeWarning: invalid value encountered in sqrt\n",
      "/Users/shi-fukushima/.pyenv/versions/anaconda3-5.3.1/lib/python3.7/site-packages/ipykernel_launcher.py:26: RuntimeWarning: invalid value encountered in sqrt\n",
      "/Users/shi-fukushima/.pyenv/versions/anaconda3-5.3.1/lib/python3.7/site-packages/ipykernel_launcher.py:26: RuntimeWarning: invalid value encountered in sqrt\n"
     ]
    },
    {
     "name": "stdout",
     "output_type": "stream",
     "text": [
      "# IEM\n"
     ]
    },
    {
     "name": "stderr",
     "output_type": "stream",
     "text": [
      "/Users/shi-fukushima/.pyenv/versions/anaconda3-5.3.1/lib/python3.7/site-packages/scipy/stats/_distn_infrastructure.py:1760: RuntimeWarning: divide by zero encountered in true_divide\n",
      "  x = np.asarray((x - loc)/scale, dtype=dtyp)\n"
     ]
    },
    {
     "name": "stdout",
     "output_type": "stream",
     "text": [
      "# SEM\n"
     ]
    },
    {
     "name": "stderr",
     "output_type": "stream",
     "text": [
      "/Users/shi-fukushima/.pyenv/versions/anaconda3-5.3.1/lib/python3.7/site-packages/ipykernel_launcher.py:32: RuntimeWarning: invalid value encountered in true_divide\n"
     ]
    },
    {
     "name": "stdout",
     "output_type": "stream",
     "text": [
      "# SRA\n"
     ]
    },
    {
     "name": "stderr",
     "output_type": "stream",
     "text": [
      "/Users/shi-fukushima/.pyenv/versions/anaconda3-5.3.1/lib/python3.7/site-packages/scipy/stats/_continuous_distns.py:243: RuntimeWarning: overflow encountered in square\n",
      "  return np.exp(-x**2/2.0) / _norm_pdf_C\n",
      " 20%|██        | 2/10 [2:29:24<9:51:54, 4439.33s/it] "
     ]
    },
    {
     "name": "stdout",
     "output_type": "stream",
     "text": [
      "# ADWIN\n",
      "# KSWIN\n"
     ]
    },
    {
     "name": "stderr",
     "output_type": "stream",
     "text": [
      "/Users/shi-fukushima/.pyenv/versions/anaconda3-5.3.1/lib/python3.7/site-packages/scipy/stats/stats.py:6716: RuntimeWarning: ks_2samp: Exact calculation unsuccessful. Switching to mode=asymp.\n",
      "  f\"Switching to mode={mode}.\", RuntimeWarning)\n"
     ]
    },
    {
     "name": "stdout",
     "output_type": "stream",
     "text": [
      "# DDM\n"
     ]
    },
    {
     "name": "stderr",
     "output_type": "stream",
     "text": [
      "/Users/shi-fukushima/.pyenv/versions/anaconda3-5.3.1/lib/python3.7/site-packages/numpy/core/function_base.py:151: RuntimeWarning: invalid value encountered in multiply\n",
      "  y *= step\n",
      "/Users/shi-fukushima/.pyenv/versions/anaconda3-5.3.1/lib/python3.7/site-packages/numpy/core/function_base.py:161: RuntimeWarning: invalid value encountered in add\n",
      "  y += start\n"
     ]
    },
    {
     "name": "stdout",
     "output_type": "stream",
     "text": [
      "# EDDM\n",
      "# Page-Hinkley\n"
     ]
    },
    {
     "name": "stderr",
     "output_type": "stream",
     "text": [
      "/Users/shi-fukushima/.pyenv/versions/anaconda3-5.3.1/lib/python3.7/site-packages/numpy/core/_asarray.py:171: VisibleDeprecationWarning: Creating an ndarray from ragged nested sequences (which is a list-or-tuple of lists-or-tuples-or ndarrays with different lengths or shapes) is deprecated. If you meant to do this, you must specify 'dtype=object' when creating the ndarray.\n",
      "  return array(a, dtype, copy=False, order=order, subok=True)\n",
      "/Users/shi-fukushima/.pyenv/versions/anaconda3-5.3.1/lib/python3.7/site-packages/ipykernel_launcher.py:11: VisibleDeprecationWarning: Creating an ndarray from ragged nested sequences (which is a list-or-tuple of lists-or-tuples-or ndarrays with different lengths or shapes) is deprecated. If you meant to do this, you must specify 'dtype=object' when creating the ndarray.\n",
      "  # This is added back by InteractiveShellApp.init_path()\n"
     ]
    },
    {
     "name": "stdout",
     "output_type": "stream",
     "text": [
      "# SDEM\n"
     ]
    },
    {
     "name": "stderr",
     "output_type": "stream",
     "text": [
      "/Users/shi-fukushima/.pyenv/versions/anaconda3-5.3.1/lib/python3.7/site-packages/ipykernel_launcher.py:26: RuntimeWarning: invalid value encountered in sqrt\n",
      "/Users/shi-fukushima/.pyenv/versions/anaconda3-5.3.1/lib/python3.7/site-packages/ipykernel_launcher.py:26: RuntimeWarning: invalid value encountered in sqrt\n",
      "/Users/shi-fukushima/.pyenv/versions/anaconda3-5.3.1/lib/python3.7/site-packages/ipykernel_launcher.py:26: RuntimeWarning: invalid value encountered in sqrt\n",
      "/Users/shi-fukushima/.pyenv/versions/anaconda3-5.3.1/lib/python3.7/site-packages/ipykernel_launcher.py:26: RuntimeWarning: invalid value encountered in sqrt\n"
     ]
    },
    {
     "name": "stdout",
     "output_type": "stream",
     "text": [
      "# IEM\n"
     ]
    },
    {
     "name": "stderr",
     "output_type": "stream",
     "text": [
      "/Users/shi-fukushima/.pyenv/versions/anaconda3-5.3.1/lib/python3.7/site-packages/scipy/stats/_distn_infrastructure.py:1760: RuntimeWarning: divide by zero encountered in true_divide\n",
      "  x = np.asarray((x - loc)/scale, dtype=dtyp)\n"
     ]
    },
    {
     "name": "stdout",
     "output_type": "stream",
     "text": [
      "# SEM\n"
     ]
    },
    {
     "name": "stderr",
     "output_type": "stream",
     "text": [
      "/Users/shi-fukushima/.pyenv/versions/anaconda3-5.3.1/lib/python3.7/site-packages/ipykernel_launcher.py:32: RuntimeWarning: invalid value encountered in true_divide\n"
     ]
    },
    {
     "name": "stdout",
     "output_type": "stream",
     "text": [
      "# SRA\n"
     ]
    },
    {
     "name": "stderr",
     "output_type": "stream",
     "text": [
      "/Users/shi-fukushima/.pyenv/versions/anaconda3-5.3.1/lib/python3.7/site-packages/scipy/stats/_continuous_distns.py:243: RuntimeWarning: overflow encountered in square\n",
      "  return np.exp(-x**2/2.0) / _norm_pdf_C\n",
      " 30%|███       | 3/10 [3:39:47<8:26:21, 4340.23s/it]"
     ]
    },
    {
     "name": "stdout",
     "output_type": "stream",
     "text": [
      "# ADWIN\n",
      "# KSWIN\n"
     ]
    },
    {
     "name": "stderr",
     "output_type": "stream",
     "text": [
      "/Users/shi-fukushima/.pyenv/versions/anaconda3-5.3.1/lib/python3.7/site-packages/scipy/stats/stats.py:6716: RuntimeWarning: ks_2samp: Exact calculation unsuccessful. Switching to mode=asymp.\n",
      "  f\"Switching to mode={mode}.\", RuntimeWarning)\n"
     ]
    },
    {
     "name": "stdout",
     "output_type": "stream",
     "text": [
      "# DDM\n"
     ]
    },
    {
     "name": "stderr",
     "output_type": "stream",
     "text": [
      "/Users/shi-fukushima/.pyenv/versions/anaconda3-5.3.1/lib/python3.7/site-packages/numpy/core/function_base.py:151: RuntimeWarning: invalid value encountered in multiply\n",
      "  y *= step\n",
      "/Users/shi-fukushima/.pyenv/versions/anaconda3-5.3.1/lib/python3.7/site-packages/numpy/core/function_base.py:161: RuntimeWarning: invalid value encountered in add\n",
      "  y += start\n"
     ]
    },
    {
     "name": "stdout",
     "output_type": "stream",
     "text": [
      "# EDDM\n",
      "# Page-Hinkley\n"
     ]
    },
    {
     "name": "stderr",
     "output_type": "stream",
     "text": [
      "/Users/shi-fukushima/.pyenv/versions/anaconda3-5.3.1/lib/python3.7/site-packages/numpy/core/_asarray.py:171: VisibleDeprecationWarning: Creating an ndarray from ragged nested sequences (which is a list-or-tuple of lists-or-tuples-or ndarrays with different lengths or shapes) is deprecated. If you meant to do this, you must specify 'dtype=object' when creating the ndarray.\n",
      "  return array(a, dtype, copy=False, order=order, subok=True)\n",
      "/Users/shi-fukushima/.pyenv/versions/anaconda3-5.3.1/lib/python3.7/site-packages/ipykernel_launcher.py:11: VisibleDeprecationWarning: Creating an ndarray from ragged nested sequences (which is a list-or-tuple of lists-or-tuples-or ndarrays with different lengths or shapes) is deprecated. If you meant to do this, you must specify 'dtype=object' when creating the ndarray.\n",
      "  # This is added back by InteractiveShellApp.init_path()\n"
     ]
    },
    {
     "name": "stdout",
     "output_type": "stream",
     "text": [
      "# SDEM\n"
     ]
    },
    {
     "name": "stderr",
     "output_type": "stream",
     "text": [
      "/Users/shi-fukushima/.pyenv/versions/anaconda3-5.3.1/lib/python3.7/site-packages/ipykernel_launcher.py:26: RuntimeWarning: invalid value encountered in sqrt\n",
      "/Users/shi-fukushima/.pyenv/versions/anaconda3-5.3.1/lib/python3.7/site-packages/ipykernel_launcher.py:26: RuntimeWarning: invalid value encountered in sqrt\n",
      "/Users/shi-fukushima/.pyenv/versions/anaconda3-5.3.1/lib/python3.7/site-packages/ipykernel_launcher.py:26: RuntimeWarning: invalid value encountered in sqrt\n",
      "/Users/shi-fukushima/.pyenv/versions/anaconda3-5.3.1/lib/python3.7/site-packages/ipykernel_launcher.py:26: RuntimeWarning: invalid value encountered in sqrt\n"
     ]
    },
    {
     "name": "stdout",
     "output_type": "stream",
     "text": [
      "# IEM\n"
     ]
    },
    {
     "name": "stderr",
     "output_type": "stream",
     "text": [
      "/Users/shi-fukushima/.pyenv/versions/anaconda3-5.3.1/lib/python3.7/site-packages/scipy/stats/_distn_infrastructure.py:1760: RuntimeWarning: divide by zero encountered in true_divide\n",
      "  x = np.asarray((x - loc)/scale, dtype=dtyp)\n"
     ]
    },
    {
     "name": "stdout",
     "output_type": "stream",
     "text": [
      "# SEM\n"
     ]
    },
    {
     "name": "stderr",
     "output_type": "stream",
     "text": [
      "/Users/shi-fukushima/.pyenv/versions/anaconda3-5.3.1/lib/python3.7/site-packages/ipykernel_launcher.py:32: RuntimeWarning: invalid value encountered in true_divide\n"
     ]
    },
    {
     "name": "stdout",
     "output_type": "stream",
     "text": [
      "# SRA\n"
     ]
    },
    {
     "name": "stderr",
     "output_type": "stream",
     "text": [
      "/Users/shi-fukushima/.pyenv/versions/anaconda3-5.3.1/lib/python3.7/site-packages/scipy/stats/_continuous_distns.py:243: RuntimeWarning: overflow encountered in square\n",
      "  return np.exp(-x**2/2.0) / _norm_pdf_C\n",
      " 40%|████      | 4/10 [4:43:46<6:54:15, 4142.55s/it]"
     ]
    },
    {
     "name": "stdout",
     "output_type": "stream",
     "text": [
      "# ADWIN\n",
      "# KSWIN\n"
     ]
    },
    {
     "name": "stderr",
     "output_type": "stream",
     "text": [
      "/Users/shi-fukushima/.pyenv/versions/anaconda3-5.3.1/lib/python3.7/site-packages/scipy/stats/stats.py:6716: RuntimeWarning: ks_2samp: Exact calculation unsuccessful. Switching to mode=asymp.\n",
      "  f\"Switching to mode={mode}.\", RuntimeWarning)\n"
     ]
    },
    {
     "name": "stdout",
     "output_type": "stream",
     "text": [
      "# DDM\n"
     ]
    },
    {
     "name": "stderr",
     "output_type": "stream",
     "text": [
      "/Users/shi-fukushima/.pyenv/versions/anaconda3-5.3.1/lib/python3.7/site-packages/numpy/core/function_base.py:151: RuntimeWarning: invalid value encountered in multiply\n",
      "  y *= step\n",
      "/Users/shi-fukushima/.pyenv/versions/anaconda3-5.3.1/lib/python3.7/site-packages/numpy/core/function_base.py:161: RuntimeWarning: invalid value encountered in add\n",
      "  y += start\n"
     ]
    },
    {
     "name": "stdout",
     "output_type": "stream",
     "text": [
      "# EDDM\n",
      "# Page-Hinkley\n"
     ]
    },
    {
     "name": "stderr",
     "output_type": "stream",
     "text": [
      "/Users/shi-fukushima/.pyenv/versions/anaconda3-5.3.1/lib/python3.7/site-packages/numpy/core/_asarray.py:171: VisibleDeprecationWarning: Creating an ndarray from ragged nested sequences (which is a list-or-tuple of lists-or-tuples-or ndarrays with different lengths or shapes) is deprecated. If you meant to do this, you must specify 'dtype=object' when creating the ndarray.\n",
      "  return array(a, dtype, copy=False, order=order, subok=True)\n",
      "/Users/shi-fukushima/.pyenv/versions/anaconda3-5.3.1/lib/python3.7/site-packages/ipykernel_launcher.py:11: VisibleDeprecationWarning: Creating an ndarray from ragged nested sequences (which is a list-or-tuple of lists-or-tuples-or ndarrays with different lengths or shapes) is deprecated. If you meant to do this, you must specify 'dtype=object' when creating the ndarray.\n",
      "  # This is added back by InteractiveShellApp.init_path()\n"
     ]
    },
    {
     "name": "stdout",
     "output_type": "stream",
     "text": [
      "# SDEM\n"
     ]
    },
    {
     "name": "stderr",
     "output_type": "stream",
     "text": [
      "/Users/shi-fukushima/.pyenv/versions/anaconda3-5.3.1/lib/python3.7/site-packages/ipykernel_launcher.py:26: RuntimeWarning: invalid value encountered in sqrt\n",
      "/Users/shi-fukushima/.pyenv/versions/anaconda3-5.3.1/lib/python3.7/site-packages/ipykernel_launcher.py:26: RuntimeWarning: invalid value encountered in sqrt\n",
      "/Users/shi-fukushima/.pyenv/versions/anaconda3-5.3.1/lib/python3.7/site-packages/ipykernel_launcher.py:26: RuntimeWarning: invalid value encountered in sqrt\n",
      "/Users/shi-fukushima/.pyenv/versions/anaconda3-5.3.1/lib/python3.7/site-packages/ipykernel_launcher.py:26: RuntimeWarning: invalid value encountered in sqrt\n"
     ]
    },
    {
     "name": "stdout",
     "output_type": "stream",
     "text": [
      "# IEM\n"
     ]
    },
    {
     "name": "stderr",
     "output_type": "stream",
     "text": [
      "/Users/shi-fukushima/.pyenv/versions/anaconda3-5.3.1/lib/python3.7/site-packages/scipy/stats/_distn_infrastructure.py:1760: RuntimeWarning: divide by zero encountered in true_divide\n",
      "  x = np.asarray((x - loc)/scale, dtype=dtyp)\n"
     ]
    },
    {
     "name": "stdout",
     "output_type": "stream",
     "text": [
      "# SEM\n"
     ]
    },
    {
     "name": "stderr",
     "output_type": "stream",
     "text": [
      "/Users/shi-fukushima/.pyenv/versions/anaconda3-5.3.1/lib/python3.7/site-packages/ipykernel_launcher.py:32: RuntimeWarning: invalid value encountered in true_divide\n"
     ]
    },
    {
     "name": "stdout",
     "output_type": "stream",
     "text": [
      "# SRA\n"
     ]
    },
    {
     "name": "stderr",
     "output_type": "stream",
     "text": [
      "/Users/shi-fukushima/.pyenv/versions/anaconda3-5.3.1/lib/python3.7/site-packages/scipy/stats/_continuous_distns.py:243: RuntimeWarning: overflow encountered in square\n",
      "  return np.exp(-x**2/2.0) / _norm_pdf_C\n",
      " 50%|█████     | 5/10 [5:47:17<5:35:14, 4022.91s/it]"
     ]
    },
    {
     "name": "stdout",
     "output_type": "stream",
     "text": [
      "# ADWIN\n",
      "# KSWIN\n"
     ]
    },
    {
     "name": "stderr",
     "output_type": "stream",
     "text": [
      "/Users/shi-fukushima/.pyenv/versions/anaconda3-5.3.1/lib/python3.7/site-packages/scipy/stats/stats.py:6716: RuntimeWarning: ks_2samp: Exact calculation unsuccessful. Switching to mode=asymp.\n",
      "  f\"Switching to mode={mode}.\", RuntimeWarning)\n"
     ]
    },
    {
     "name": "stdout",
     "output_type": "stream",
     "text": [
      "# DDM\n"
     ]
    },
    {
     "name": "stderr",
     "output_type": "stream",
     "text": [
      "/Users/shi-fukushima/.pyenv/versions/anaconda3-5.3.1/lib/python3.7/site-packages/numpy/core/function_base.py:151: RuntimeWarning: invalid value encountered in multiply\n",
      "  y *= step\n",
      "/Users/shi-fukushima/.pyenv/versions/anaconda3-5.3.1/lib/python3.7/site-packages/numpy/core/function_base.py:161: RuntimeWarning: invalid value encountered in add\n",
      "  y += start\n"
     ]
    },
    {
     "name": "stdout",
     "output_type": "stream",
     "text": [
      "# EDDM\n",
      "# Page-Hinkley\n"
     ]
    },
    {
     "name": "stderr",
     "output_type": "stream",
     "text": [
      "/Users/shi-fukushima/.pyenv/versions/anaconda3-5.3.1/lib/python3.7/site-packages/numpy/core/_asarray.py:171: VisibleDeprecationWarning: Creating an ndarray from ragged nested sequences (which is a list-or-tuple of lists-or-tuples-or ndarrays with different lengths or shapes) is deprecated. If you meant to do this, you must specify 'dtype=object' when creating the ndarray.\n",
      "  return array(a, dtype, copy=False, order=order, subok=True)\n",
      "/Users/shi-fukushima/.pyenv/versions/anaconda3-5.3.1/lib/python3.7/site-packages/ipykernel_launcher.py:11: VisibleDeprecationWarning: Creating an ndarray from ragged nested sequences (which is a list-or-tuple of lists-or-tuples-or ndarrays with different lengths or shapes) is deprecated. If you meant to do this, you must specify 'dtype=object' when creating the ndarray.\n",
      "  # This is added back by InteractiveShellApp.init_path()\n"
     ]
    },
    {
     "name": "stdout",
     "output_type": "stream",
     "text": [
      "# SDEM\n"
     ]
    },
    {
     "name": "stderr",
     "output_type": "stream",
     "text": [
      "/Users/shi-fukushima/.pyenv/versions/anaconda3-5.3.1/lib/python3.7/site-packages/ipykernel_launcher.py:26: RuntimeWarning: invalid value encountered in sqrt\n",
      "/Users/shi-fukushima/.pyenv/versions/anaconda3-5.3.1/lib/python3.7/site-packages/ipykernel_launcher.py:26: RuntimeWarning: invalid value encountered in sqrt\n",
      "/Users/shi-fukushima/.pyenv/versions/anaconda3-5.3.1/lib/python3.7/site-packages/ipykernel_launcher.py:26: RuntimeWarning: invalid value encountered in sqrt\n",
      "/Users/shi-fukushima/.pyenv/versions/anaconda3-5.3.1/lib/python3.7/site-packages/ipykernel_launcher.py:26: RuntimeWarning: invalid value encountered in sqrt\n"
     ]
    },
    {
     "name": "stdout",
     "output_type": "stream",
     "text": [
      "# IEM\n"
     ]
    },
    {
     "name": "stderr",
     "output_type": "stream",
     "text": [
      "/Users/shi-fukushima/.pyenv/versions/anaconda3-5.3.1/lib/python3.7/site-packages/scipy/stats/_distn_infrastructure.py:1760: RuntimeWarning: divide by zero encountered in true_divide\n",
      "  x = np.asarray((x - loc)/scale, dtype=dtyp)\n"
     ]
    },
    {
     "name": "stdout",
     "output_type": "stream",
     "text": [
      "# SEM\n"
     ]
    },
    {
     "name": "stderr",
     "output_type": "stream",
     "text": [
      "/Users/shi-fukushima/.pyenv/versions/anaconda3-5.3.1/lib/python3.7/site-packages/ipykernel_launcher.py:32: RuntimeWarning: invalid value encountered in true_divide\n"
     ]
    },
    {
     "name": "stdout",
     "output_type": "stream",
     "text": [
      "# SRA\n"
     ]
    },
    {
     "name": "stderr",
     "output_type": "stream",
     "text": [
      "/Users/shi-fukushima/.pyenv/versions/anaconda3-5.3.1/lib/python3.7/site-packages/scipy/stats/_continuous_distns.py:243: RuntimeWarning: overflow encountered in square\n",
      "  return np.exp(-x**2/2.0) / _norm_pdf_C\n",
      " 60%|██████    | 6/10 [6:52:58<4:26:20, 3995.06s/it]"
     ]
    },
    {
     "name": "stdout",
     "output_type": "stream",
     "text": [
      "# ADWIN\n",
      "# KSWIN\n"
     ]
    },
    {
     "name": "stderr",
     "output_type": "stream",
     "text": [
      "/Users/shi-fukushima/.pyenv/versions/anaconda3-5.3.1/lib/python3.7/site-packages/scipy/stats/stats.py:6716: RuntimeWarning: ks_2samp: Exact calculation unsuccessful. Switching to mode=asymp.\n",
      "  f\"Switching to mode={mode}.\", RuntimeWarning)\n"
     ]
    },
    {
     "name": "stdout",
     "output_type": "stream",
     "text": [
      "# DDM\n"
     ]
    },
    {
     "name": "stderr",
     "output_type": "stream",
     "text": [
      "/Users/shi-fukushima/.pyenv/versions/anaconda3-5.3.1/lib/python3.7/site-packages/numpy/core/function_base.py:151: RuntimeWarning: invalid value encountered in multiply\n",
      "  y *= step\n",
      "/Users/shi-fukushima/.pyenv/versions/anaconda3-5.3.1/lib/python3.7/site-packages/numpy/core/function_base.py:161: RuntimeWarning: invalid value encountered in add\n",
      "  y += start\n"
     ]
    },
    {
     "name": "stdout",
     "output_type": "stream",
     "text": [
      "# EDDM\n",
      "# Page-Hinkley\n"
     ]
    },
    {
     "name": "stderr",
     "output_type": "stream",
     "text": [
      "/Users/shi-fukushima/.pyenv/versions/anaconda3-5.3.1/lib/python3.7/site-packages/numpy/core/_asarray.py:171: VisibleDeprecationWarning: Creating an ndarray from ragged nested sequences (which is a list-or-tuple of lists-or-tuples-or ndarrays with different lengths or shapes) is deprecated. If you meant to do this, you must specify 'dtype=object' when creating the ndarray.\n",
      "  return array(a, dtype, copy=False, order=order, subok=True)\n",
      "/Users/shi-fukushima/.pyenv/versions/anaconda3-5.3.1/lib/python3.7/site-packages/ipykernel_launcher.py:11: VisibleDeprecationWarning: Creating an ndarray from ragged nested sequences (which is a list-or-tuple of lists-or-tuples-or ndarrays with different lengths or shapes) is deprecated. If you meant to do this, you must specify 'dtype=object' when creating the ndarray.\n",
      "  # This is added back by InteractiveShellApp.init_path()\n"
     ]
    },
    {
     "name": "stdout",
     "output_type": "stream",
     "text": [
      "# SDEM\n"
     ]
    },
    {
     "name": "stderr",
     "output_type": "stream",
     "text": [
      "/Users/shi-fukushima/.pyenv/versions/anaconda3-5.3.1/lib/python3.7/site-packages/ipykernel_launcher.py:26: RuntimeWarning: invalid value encountered in sqrt\n",
      "/Users/shi-fukushima/.pyenv/versions/anaconda3-5.3.1/lib/python3.7/site-packages/ipykernel_launcher.py:26: RuntimeWarning: invalid value encountered in sqrt\n",
      "/Users/shi-fukushima/.pyenv/versions/anaconda3-5.3.1/lib/python3.7/site-packages/ipykernel_launcher.py:26: RuntimeWarning: invalid value encountered in sqrt\n",
      "/Users/shi-fukushima/.pyenv/versions/anaconda3-5.3.1/lib/python3.7/site-packages/ipykernel_launcher.py:26: RuntimeWarning: invalid value encountered in sqrt\n"
     ]
    },
    {
     "name": "stdout",
     "output_type": "stream",
     "text": [
      "# IEM\n"
     ]
    },
    {
     "name": "stderr",
     "output_type": "stream",
     "text": [
      "/Users/shi-fukushima/.pyenv/versions/anaconda3-5.3.1/lib/python3.7/site-packages/scipy/stats/_distn_infrastructure.py:1760: RuntimeWarning: divide by zero encountered in true_divide\n",
      "  x = np.asarray((x - loc)/scale, dtype=dtyp)\n"
     ]
    },
    {
     "name": "stdout",
     "output_type": "stream",
     "text": [
      "# SEM\n"
     ]
    },
    {
     "name": "stderr",
     "output_type": "stream",
     "text": [
      "/Users/shi-fukushima/.pyenv/versions/anaconda3-5.3.1/lib/python3.7/site-packages/ipykernel_launcher.py:32: RuntimeWarning: invalid value encountered in true_divide\n"
     ]
    },
    {
     "name": "stdout",
     "output_type": "stream",
     "text": [
      "# SRA\n"
     ]
    },
    {
     "name": "stderr",
     "output_type": "stream",
     "text": [
      "/Users/shi-fukushima/.pyenv/versions/anaconda3-5.3.1/lib/python3.7/site-packages/scipy/stats/_continuous_distns.py:243: RuntimeWarning: overflow encountered in square\n",
      "  return np.exp(-x**2/2.0) / _norm_pdf_C\n",
      " 70%|███████   | 7/10 [7:59:09<3:19:21, 3987.30s/it]"
     ]
    },
    {
     "name": "stdout",
     "output_type": "stream",
     "text": [
      "# ADWIN\n",
      "# KSWIN\n"
     ]
    },
    {
     "name": "stderr",
     "output_type": "stream",
     "text": [
      "/Users/shi-fukushima/.pyenv/versions/anaconda3-5.3.1/lib/python3.7/site-packages/scipy/stats/stats.py:6716: RuntimeWarning: ks_2samp: Exact calculation unsuccessful. Switching to mode=asymp.\n",
      "  f\"Switching to mode={mode}.\", RuntimeWarning)\n"
     ]
    },
    {
     "name": "stdout",
     "output_type": "stream",
     "text": [
      "# DDM\n"
     ]
    },
    {
     "name": "stderr",
     "output_type": "stream",
     "text": [
      "/Users/shi-fukushima/.pyenv/versions/anaconda3-5.3.1/lib/python3.7/site-packages/numpy/core/function_base.py:151: RuntimeWarning: invalid value encountered in multiply\n",
      "  y *= step\n",
      "/Users/shi-fukushima/.pyenv/versions/anaconda3-5.3.1/lib/python3.7/site-packages/numpy/core/function_base.py:161: RuntimeWarning: invalid value encountered in add\n",
      "  y += start\n"
     ]
    },
    {
     "name": "stdout",
     "output_type": "stream",
     "text": [
      "# EDDM\n",
      "# Page-Hinkley\n"
     ]
    },
    {
     "name": "stderr",
     "output_type": "stream",
     "text": [
      "/Users/shi-fukushima/.pyenv/versions/anaconda3-5.3.1/lib/python3.7/site-packages/numpy/core/_asarray.py:171: VisibleDeprecationWarning: Creating an ndarray from ragged nested sequences (which is a list-or-tuple of lists-or-tuples-or ndarrays with different lengths or shapes) is deprecated. If you meant to do this, you must specify 'dtype=object' when creating the ndarray.\n",
      "  return array(a, dtype, copy=False, order=order, subok=True)\n",
      "/Users/shi-fukushima/.pyenv/versions/anaconda3-5.3.1/lib/python3.7/site-packages/ipykernel_launcher.py:11: VisibleDeprecationWarning: Creating an ndarray from ragged nested sequences (which is a list-or-tuple of lists-or-tuples-or ndarrays with different lengths or shapes) is deprecated. If you meant to do this, you must specify 'dtype=object' when creating the ndarray.\n",
      "  # This is added back by InteractiveShellApp.init_path()\n"
     ]
    },
    {
     "name": "stdout",
     "output_type": "stream",
     "text": [
      "# SDEM\n"
     ]
    },
    {
     "name": "stderr",
     "output_type": "stream",
     "text": [
      "/Users/shi-fukushima/.pyenv/versions/anaconda3-5.3.1/lib/python3.7/site-packages/ipykernel_launcher.py:26: RuntimeWarning: invalid value encountered in sqrt\n",
      "/Users/shi-fukushima/.pyenv/versions/anaconda3-5.3.1/lib/python3.7/site-packages/ipykernel_launcher.py:26: RuntimeWarning: invalid value encountered in sqrt\n",
      "/Users/shi-fukushima/.pyenv/versions/anaconda3-5.3.1/lib/python3.7/site-packages/ipykernel_launcher.py:26: RuntimeWarning: invalid value encountered in sqrt\n",
      "/Users/shi-fukushima/.pyenv/versions/anaconda3-5.3.1/lib/python3.7/site-packages/ipykernel_launcher.py:26: RuntimeWarning: invalid value encountered in sqrt\n"
     ]
    },
    {
     "name": "stdout",
     "output_type": "stream",
     "text": [
      "# IEM\n"
     ]
    },
    {
     "name": "stderr",
     "output_type": "stream",
     "text": [
      "/Users/shi-fukushima/.pyenv/versions/anaconda3-5.3.1/lib/python3.7/site-packages/scipy/stats/_distn_infrastructure.py:1760: RuntimeWarning: divide by zero encountered in true_divide\n",
      "  x = np.asarray((x - loc)/scale, dtype=dtyp)\n"
     ]
    },
    {
     "name": "stdout",
     "output_type": "stream",
     "text": [
      "# SEM\n"
     ]
    },
    {
     "name": "stderr",
     "output_type": "stream",
     "text": [
      "/Users/shi-fukushima/.pyenv/versions/anaconda3-5.3.1/lib/python3.7/site-packages/ipykernel_launcher.py:32: RuntimeWarning: invalid value encountered in true_divide\n"
     ]
    },
    {
     "name": "stdout",
     "output_type": "stream",
     "text": [
      "# SRA\n"
     ]
    },
    {
     "name": "stderr",
     "output_type": "stream",
     "text": [
      "/Users/shi-fukushima/.pyenv/versions/anaconda3-5.3.1/lib/python3.7/site-packages/scipy/stats/_continuous_distns.py:243: RuntimeWarning: overflow encountered in square\n",
      "  return np.exp(-x**2/2.0) / _norm_pdf_C\n",
      " 80%|████████  | 8/10 [9:03:44<2:11:42, 3951.41s/it]"
     ]
    },
    {
     "name": "stdout",
     "output_type": "stream",
     "text": [
      "# ADWIN\n",
      "# KSWIN\n"
     ]
    },
    {
     "name": "stderr",
     "output_type": "stream",
     "text": [
      "/Users/shi-fukushima/.pyenv/versions/anaconda3-5.3.1/lib/python3.7/site-packages/scipy/stats/stats.py:6716: RuntimeWarning: ks_2samp: Exact calculation unsuccessful. Switching to mode=asymp.\n",
      "  f\"Switching to mode={mode}.\", RuntimeWarning)\n"
     ]
    },
    {
     "name": "stdout",
     "output_type": "stream",
     "text": [
      "# DDM\n"
     ]
    },
    {
     "name": "stderr",
     "output_type": "stream",
     "text": [
      "/Users/shi-fukushima/.pyenv/versions/anaconda3-5.3.1/lib/python3.7/site-packages/numpy/core/function_base.py:151: RuntimeWarning: invalid value encountered in multiply\n",
      "  y *= step\n",
      "/Users/shi-fukushima/.pyenv/versions/anaconda3-5.3.1/lib/python3.7/site-packages/numpy/core/function_base.py:161: RuntimeWarning: invalid value encountered in add\n",
      "  y += start\n"
     ]
    },
    {
     "name": "stdout",
     "output_type": "stream",
     "text": [
      "# EDDM\n",
      "# Page-Hinkley\n"
     ]
    },
    {
     "name": "stderr",
     "output_type": "stream",
     "text": [
      "/Users/shi-fukushima/.pyenv/versions/anaconda3-5.3.1/lib/python3.7/site-packages/numpy/core/_asarray.py:171: VisibleDeprecationWarning: Creating an ndarray from ragged nested sequences (which is a list-or-tuple of lists-or-tuples-or ndarrays with different lengths or shapes) is deprecated. If you meant to do this, you must specify 'dtype=object' when creating the ndarray.\n",
      "  return array(a, dtype, copy=False, order=order, subok=True)\n",
      "/Users/shi-fukushima/.pyenv/versions/anaconda3-5.3.1/lib/python3.7/site-packages/ipykernel_launcher.py:11: VisibleDeprecationWarning: Creating an ndarray from ragged nested sequences (which is a list-or-tuple of lists-or-tuples-or ndarrays with different lengths or shapes) is deprecated. If you meant to do this, you must specify 'dtype=object' when creating the ndarray.\n",
      "  # This is added back by InteractiveShellApp.init_path()\n"
     ]
    },
    {
     "name": "stdout",
     "output_type": "stream",
     "text": [
      "# SDEM\n"
     ]
    },
    {
     "name": "stderr",
     "output_type": "stream",
     "text": [
      "/Users/shi-fukushima/.pyenv/versions/anaconda3-5.3.1/lib/python3.7/site-packages/ipykernel_launcher.py:26: RuntimeWarning: invalid value encountered in sqrt\n",
      "/Users/shi-fukushima/.pyenv/versions/anaconda3-5.3.1/lib/python3.7/site-packages/ipykernel_launcher.py:26: RuntimeWarning: invalid value encountered in sqrt\n",
      "/Users/shi-fukushima/.pyenv/versions/anaconda3-5.3.1/lib/python3.7/site-packages/ipykernel_launcher.py:26: RuntimeWarning: invalid value encountered in sqrt\n",
      "/Users/shi-fukushima/.pyenv/versions/anaconda3-5.3.1/lib/python3.7/site-packages/ipykernel_launcher.py:26: RuntimeWarning: invalid value encountered in sqrt\n"
     ]
    },
    {
     "name": "stdout",
     "output_type": "stream",
     "text": [
      "# IEM\n"
     ]
    },
    {
     "name": "stderr",
     "output_type": "stream",
     "text": [
      "/Users/shi-fukushima/.pyenv/versions/anaconda3-5.3.1/lib/python3.7/site-packages/scipy/stats/_distn_infrastructure.py:1760: RuntimeWarning: divide by zero encountered in true_divide\n",
      "  x = np.asarray((x - loc)/scale, dtype=dtyp)\n"
     ]
    },
    {
     "name": "stdout",
     "output_type": "stream",
     "text": [
      "# SEM\n"
     ]
    },
    {
     "name": "stderr",
     "output_type": "stream",
     "text": [
      "/Users/shi-fukushima/.pyenv/versions/anaconda3-5.3.1/lib/python3.7/site-packages/ipykernel_launcher.py:32: RuntimeWarning: invalid value encountered in true_divide\n"
     ]
    },
    {
     "name": "stdout",
     "output_type": "stream",
     "text": [
      "# SRA\n"
     ]
    },
    {
     "name": "stderr",
     "output_type": "stream",
     "text": [
      "/Users/shi-fukushima/.pyenv/versions/anaconda3-5.3.1/lib/python3.7/site-packages/scipy/stats/_continuous_distns.py:243: RuntimeWarning: overflow encountered in square\n",
      "  return np.exp(-x**2/2.0) / _norm_pdf_C\n",
      " 90%|█████████ | 9/10 [10:00:08<1:02:54, 3774.15s/it]"
     ]
    },
    {
     "name": "stdout",
     "output_type": "stream",
     "text": [
      "# ADWIN\n",
      "# KSWIN\n"
     ]
    },
    {
     "name": "stderr",
     "output_type": "stream",
     "text": [
      "/Users/shi-fukushima/.pyenv/versions/anaconda3-5.3.1/lib/python3.7/site-packages/scipy/stats/stats.py:6716: RuntimeWarning: ks_2samp: Exact calculation unsuccessful. Switching to mode=asymp.\n",
      "  f\"Switching to mode={mode}.\", RuntimeWarning)\n"
     ]
    },
    {
     "name": "stdout",
     "output_type": "stream",
     "text": [
      "# DDM\n"
     ]
    },
    {
     "name": "stderr",
     "output_type": "stream",
     "text": [
      "/Users/shi-fukushima/.pyenv/versions/anaconda3-5.3.1/lib/python3.7/site-packages/numpy/core/function_base.py:151: RuntimeWarning: invalid value encountered in multiply\n",
      "  y *= step\n",
      "/Users/shi-fukushima/.pyenv/versions/anaconda3-5.3.1/lib/python3.7/site-packages/numpy/core/function_base.py:161: RuntimeWarning: invalid value encountered in add\n",
      "  y += start\n"
     ]
    },
    {
     "name": "stdout",
     "output_type": "stream",
     "text": [
      "# EDDM\n",
      "# Page-Hinkley\n"
     ]
    },
    {
     "name": "stderr",
     "output_type": "stream",
     "text": [
      "/Users/shi-fukushima/.pyenv/versions/anaconda3-5.3.1/lib/python3.7/site-packages/numpy/core/_asarray.py:171: VisibleDeprecationWarning: Creating an ndarray from ragged nested sequences (which is a list-or-tuple of lists-or-tuples-or ndarrays with different lengths or shapes) is deprecated. If you meant to do this, you must specify 'dtype=object' when creating the ndarray.\n",
      "  return array(a, dtype, copy=False, order=order, subok=True)\n",
      "/Users/shi-fukushima/.pyenv/versions/anaconda3-5.3.1/lib/python3.7/site-packages/ipykernel_launcher.py:11: VisibleDeprecationWarning: Creating an ndarray from ragged nested sequences (which is a list-or-tuple of lists-or-tuples-or ndarrays with different lengths or shapes) is deprecated. If you meant to do this, you must specify 'dtype=object' when creating the ndarray.\n",
      "  # This is added back by InteractiveShellApp.init_path()\n"
     ]
    },
    {
     "name": "stdout",
     "output_type": "stream",
     "text": [
      "# SDEM\n"
     ]
    },
    {
     "name": "stderr",
     "output_type": "stream",
     "text": [
      "/Users/shi-fukushima/.pyenv/versions/anaconda3-5.3.1/lib/python3.7/site-packages/ipykernel_launcher.py:26: RuntimeWarning: invalid value encountered in sqrt\n",
      "/Users/shi-fukushima/.pyenv/versions/anaconda3-5.3.1/lib/python3.7/site-packages/ipykernel_launcher.py:26: RuntimeWarning: invalid value encountered in sqrt\n",
      "/Users/shi-fukushima/.pyenv/versions/anaconda3-5.3.1/lib/python3.7/site-packages/ipykernel_launcher.py:26: RuntimeWarning: invalid value encountered in sqrt\n",
      "/Users/shi-fukushima/.pyenv/versions/anaconda3-5.3.1/lib/python3.7/site-packages/ipykernel_launcher.py:26: RuntimeWarning: invalid value encountered in sqrt\n"
     ]
    },
    {
     "name": "stdout",
     "output_type": "stream",
     "text": [
      "# IEM\n"
     ]
    },
    {
     "name": "stderr",
     "output_type": "stream",
     "text": [
      "/Users/shi-fukushima/.pyenv/versions/anaconda3-5.3.1/lib/python3.7/site-packages/scipy/stats/_distn_infrastructure.py:1760: RuntimeWarning: divide by zero encountered in true_divide\n",
      "  x = np.asarray((x - loc)/scale, dtype=dtyp)\n"
     ]
    },
    {
     "name": "stdout",
     "output_type": "stream",
     "text": [
      "# SEM\n"
     ]
    },
    {
     "name": "stderr",
     "output_type": "stream",
     "text": [
      "/Users/shi-fukushima/.pyenv/versions/anaconda3-5.3.1/lib/python3.7/site-packages/ipykernel_launcher.py:32: RuntimeWarning: invalid value encountered in true_divide\n"
     ]
    },
    {
     "name": "stdout",
     "output_type": "stream",
     "text": [
      "# SRA\n"
     ]
    },
    {
     "name": "stderr",
     "output_type": "stream",
     "text": [
      "/Users/shi-fukushima/.pyenv/versions/anaconda3-5.3.1/lib/python3.7/site-packages/scipy/stats/_continuous_distns.py:243: RuntimeWarning: overflow encountered in square\n",
      "  return np.exp(-x**2/2.0) / _norm_pdf_C\n",
      "100%|██████████| 10/10 [10:55:29<00:00, 3932.90s/it] \n"
     ]
    }
   ],
   "source": [
    "auc_adwin_df, auc_kswin_df, auc_ddm_df, auc_eddm_df, auc_ph_df, auc_sdem_df, auc_iem_df, auc_sem_df, auc_sra_df, \\\n",
    "time_adwin, time_kswin, time_ddm, time_eddm, time_ph, time_sdem, time_iem, time_sem, time_sra = experiment1_comparison_auc(u=20)"
   ]
  },
  {
   "cell_type": "code",
   "execution_count": 37,
   "id": "finished-joint",
   "metadata": {},
   "outputs": [
    {
     "data": {
      "text/html": [
       "<div>\n",
       "<style scoped>\n",
       "    .dataframe tbody tr th:only-of-type {\n",
       "        vertical-align: middle;\n",
       "    }\n",
       "\n",
       "    .dataframe tbody tr th {\n",
       "        vertical-align: top;\n",
       "    }\n",
       "\n",
       "    .dataframe thead th {\n",
       "        text-align: right;\n",
       "    }\n",
       "</style>\n",
       "<table border=\"1\" class=\"dataframe\">\n",
       "  <thead>\n",
       "    <tr style=\"text-align: right;\">\n",
       "      <th></th>\n",
       "      <th>mean</th>\n",
       "      <th>std</th>\n",
       "    </tr>\n",
       "    <tr>\n",
       "      <th>delta</th>\n",
       "      <th></th>\n",
       "      <th></th>\n",
       "    </tr>\n",
       "  </thead>\n",
       "  <tbody>\n",
       "    <tr>\n",
       "      <th>0.001</th>\n",
       "      <td>0.499975</td>\n",
       "      <td>0.0</td>\n",
       "    </tr>\n",
       "    <tr>\n",
       "      <th>0.002</th>\n",
       "      <td>0.499975</td>\n",
       "      <td>0.0</td>\n",
       "    </tr>\n",
       "    <tr>\n",
       "      <th>0.005</th>\n",
       "      <td>0.499975</td>\n",
       "      <td>0.0</td>\n",
       "    </tr>\n",
       "    <tr>\n",
       "      <th>0.010</th>\n",
       "      <td>0.499975</td>\n",
       "      <td>0.0</td>\n",
       "    </tr>\n",
       "    <tr>\n",
       "      <th>0.020</th>\n",
       "      <td>0.499975</td>\n",
       "      <td>0.0</td>\n",
       "    </tr>\n",
       "    <tr>\n",
       "      <th>0.050</th>\n",
       "      <td>0.499975</td>\n",
       "      <td>0.0</td>\n",
       "    </tr>\n",
       "    <tr>\n",
       "      <th>0.100</th>\n",
       "      <td>0.499975</td>\n",
       "      <td>0.0</td>\n",
       "    </tr>\n",
       "    <tr>\n",
       "      <th>0.200</th>\n",
       "      <td>0.499975</td>\n",
       "      <td>0.0</td>\n",
       "    </tr>\n",
       "    <tr>\n",
       "      <th>0.500</th>\n",
       "      <td>0.499975</td>\n",
       "      <td>0.0</td>\n",
       "    </tr>\n",
       "  </tbody>\n",
       "</table>\n",
       "</div>"
      ],
      "text/plain": [
       "           mean  std\n",
       "delta               \n",
       "0.001  0.499975  0.0\n",
       "0.002  0.499975  0.0\n",
       "0.005  0.499975  0.0\n",
       "0.010  0.499975  0.0\n",
       "0.020  0.499975  0.0\n",
       "0.050  0.499975  0.0\n",
       "0.100  0.499975  0.0\n",
       "0.200  0.499975  0.0\n",
       "0.500  0.499975  0.0"
      ]
     },
     "execution_count": 37,
     "metadata": {},
     "output_type": "execute_result"
    }
   ],
   "source": [
    "auc_adwin_df.groupby('delta')['auc'].agg(['mean', 'std'])"
   ]
  },
  {
   "cell_type": "code",
   "execution_count": 38,
   "id": "united-netscape",
   "metadata": {},
   "outputs": [
    {
     "data": {
      "text/html": [
       "<div>\n",
       "<style scoped>\n",
       "    .dataframe tbody tr th:only-of-type {\n",
       "        vertical-align: middle;\n",
       "    }\n",
       "\n",
       "    .dataframe tbody tr th {\n",
       "        vertical-align: top;\n",
       "    }\n",
       "\n",
       "    .dataframe thead th {\n",
       "        text-align: right;\n",
       "    }\n",
       "</style>\n",
       "<table border=\"1\" class=\"dataframe\">\n",
       "  <thead>\n",
       "    <tr style=\"text-align: right;\">\n",
       "      <th></th>\n",
       "      <th></th>\n",
       "      <th></th>\n",
       "      <th>mean</th>\n",
       "      <th>std</th>\n",
       "    </tr>\n",
       "    <tr>\n",
       "      <th>alpha</th>\n",
       "      <th>window_size</th>\n",
       "      <th>stat_size</th>\n",
       "      <th></th>\n",
       "      <th></th>\n",
       "    </tr>\n",
       "  </thead>\n",
       "  <tbody>\n",
       "    <tr>\n",
       "      <th rowspan=\"4\" valign=\"top\">0.001</th>\n",
       "      <th rowspan=\"2\" valign=\"top\">20</th>\n",
       "      <th>10</th>\n",
       "      <td>0.514433</td>\n",
       "      <td>0.039728</td>\n",
       "    </tr>\n",
       "    <tr>\n",
       "      <th>15</th>\n",
       "      <td>0.525825</td>\n",
       "      <td>0.025701</td>\n",
       "    </tr>\n",
       "    <tr>\n",
       "      <th rowspan=\"2\" valign=\"top\">30</th>\n",
       "      <th>10</th>\n",
       "      <td>0.561276</td>\n",
       "      <td>0.039610</td>\n",
       "    </tr>\n",
       "    <tr>\n",
       "      <th>15</th>\n",
       "      <td>0.552115</td>\n",
       "      <td>0.030384</td>\n",
       "    </tr>\n",
       "    <tr>\n",
       "      <th rowspan=\"4\" valign=\"top\">0.005</th>\n",
       "      <th rowspan=\"2\" valign=\"top\">20</th>\n",
       "      <th>10</th>\n",
       "      <td>0.517397</td>\n",
       "      <td>0.064437</td>\n",
       "    </tr>\n",
       "    <tr>\n",
       "      <th>15</th>\n",
       "      <td>0.514341</td>\n",
       "      <td>0.021820</td>\n",
       "    </tr>\n",
       "    <tr>\n",
       "      <th rowspan=\"2\" valign=\"top\">30</th>\n",
       "      <th>10</th>\n",
       "      <td>0.567947</td>\n",
       "      <td>0.058694</td>\n",
       "    </tr>\n",
       "    <tr>\n",
       "      <th>15</th>\n",
       "      <td>0.530779</td>\n",
       "      <td>0.058687</td>\n",
       "    </tr>\n",
       "    <tr>\n",
       "      <th rowspan=\"4\" valign=\"top\">0.010</th>\n",
       "      <th rowspan=\"2\" valign=\"top\">20</th>\n",
       "      <th>10</th>\n",
       "      <td>0.497772</td>\n",
       "      <td>0.040288</td>\n",
       "    </tr>\n",
       "    <tr>\n",
       "      <th>15</th>\n",
       "      <td>0.499682</td>\n",
       "      <td>0.020493</td>\n",
       "    </tr>\n",
       "    <tr>\n",
       "      <th rowspan=\"2\" valign=\"top\">30</th>\n",
       "      <th>10</th>\n",
       "      <td>0.569589</td>\n",
       "      <td>0.055944</td>\n",
       "    </tr>\n",
       "    <tr>\n",
       "      <th>15</th>\n",
       "      <td>0.494023</td>\n",
       "      <td>0.067750</td>\n",
       "    </tr>\n",
       "  </tbody>\n",
       "</table>\n",
       "</div>"
      ],
      "text/plain": [
       "                                 mean       std\n",
       "alpha window_size stat_size                    \n",
       "0.001 20          10         0.514433  0.039728\n",
       "                  15         0.525825  0.025701\n",
       "      30          10         0.561276  0.039610\n",
       "                  15         0.552115  0.030384\n",
       "0.005 20          10         0.517397  0.064437\n",
       "                  15         0.514341  0.021820\n",
       "      30          10         0.567947  0.058694\n",
       "                  15         0.530779  0.058687\n",
       "0.010 20          10         0.497772  0.040288\n",
       "                  15         0.499682  0.020493\n",
       "      30          10         0.569589  0.055944\n",
       "                  15         0.494023  0.067750"
      ]
     },
     "execution_count": 38,
     "metadata": {},
     "output_type": "execute_result"
    }
   ],
   "source": [
    "auc_kswin_df.groupby(['alpha', 'window_size', 'stat_size'])['auc'].agg(['mean', 'std'])"
   ]
  },
  {
   "cell_type": "code",
   "execution_count": 39,
   "id": "compressed-hazard",
   "metadata": {},
   "outputs": [
    {
     "data": {
      "text/html": [
       "<div>\n",
       "<style scoped>\n",
       "    .dataframe tbody tr th:only-of-type {\n",
       "        vertical-align: middle;\n",
       "    }\n",
       "\n",
       "    .dataframe tbody tr th {\n",
       "        vertical-align: top;\n",
       "    }\n",
       "\n",
       "    .dataframe thead th {\n",
       "        text-align: right;\n",
       "    }\n",
       "</style>\n",
       "<table border=\"1\" class=\"dataframe\">\n",
       "  <thead>\n",
       "    <tr style=\"text-align: right;\">\n",
       "      <th></th>\n",
       "      <th>mean</th>\n",
       "      <th>std</th>\n",
       "    </tr>\n",
       "    <tr>\n",
       "      <th>min_num_instances</th>\n",
       "      <th></th>\n",
       "      <th></th>\n",
       "    </tr>\n",
       "  </thead>\n",
       "  <tbody>\n",
       "    <tr>\n",
       "      <th>10</th>\n",
       "      <td>0.0</td>\n",
       "      <td>0.0</td>\n",
       "    </tr>\n",
       "    <tr>\n",
       "      <th>20</th>\n",
       "      <td>0.0</td>\n",
       "      <td>0.0</td>\n",
       "    </tr>\n",
       "    <tr>\n",
       "      <th>30</th>\n",
       "      <td>0.0</td>\n",
       "      <td>0.0</td>\n",
       "    </tr>\n",
       "    <tr>\n",
       "      <th>40</th>\n",
       "      <td>0.0</td>\n",
       "      <td>0.0</td>\n",
       "    </tr>\n",
       "    <tr>\n",
       "      <th>50</th>\n",
       "      <td>0.0</td>\n",
       "      <td>0.0</td>\n",
       "    </tr>\n",
       "    <tr>\n",
       "      <th>100</th>\n",
       "      <td>0.0</td>\n",
       "      <td>0.0</td>\n",
       "    </tr>\n",
       "  </tbody>\n",
       "</table>\n",
       "</div>"
      ],
      "text/plain": [
       "                   mean  std\n",
       "min_num_instances           \n",
       "10                  0.0  0.0\n",
       "20                  0.0  0.0\n",
       "30                  0.0  0.0\n",
       "40                  0.0  0.0\n",
       "50                  0.0  0.0\n",
       "100                 0.0  0.0"
      ]
     },
     "execution_count": 39,
     "metadata": {},
     "output_type": "execute_result"
    }
   ],
   "source": [
    "auc_ddm_df.groupby('min_num_instances')['auc'].agg(['mean', 'std'])"
   ]
  },
  {
   "cell_type": "code",
   "execution_count": 40,
   "id": "liberal-syracuse",
   "metadata": {},
   "outputs": [
    {
     "data": {
      "text/html": [
       "<div>\n",
       "<style scoped>\n",
       "    .dataframe tbody tr th:only-of-type {\n",
       "        vertical-align: middle;\n",
       "    }\n",
       "\n",
       "    .dataframe tbody tr th {\n",
       "        vertical-align: top;\n",
       "    }\n",
       "\n",
       "    .dataframe thead th {\n",
       "        text-align: right;\n",
       "    }\n",
       "</style>\n",
       "<table border=\"1\" class=\"dataframe\">\n",
       "  <thead>\n",
       "    <tr style=\"text-align: right;\">\n",
       "      <th></th>\n",
       "      <th>mean</th>\n",
       "      <th>std</th>\n",
       "    </tr>\n",
       "    <tr>\n",
       "      <th>min_num_instances</th>\n",
       "      <th></th>\n",
       "      <th></th>\n",
       "    </tr>\n",
       "  </thead>\n",
       "  <tbody>\n",
       "    <tr>\n",
       "      <th>10</th>\n",
       "      <td>0.457119</td>\n",
       "      <td>0.274165</td>\n",
       "    </tr>\n",
       "    <tr>\n",
       "      <th>20</th>\n",
       "      <td>0.457119</td>\n",
       "      <td>0.274165</td>\n",
       "    </tr>\n",
       "    <tr>\n",
       "      <th>30</th>\n",
       "      <td>0.457119</td>\n",
       "      <td>0.274165</td>\n",
       "    </tr>\n",
       "    <tr>\n",
       "      <th>40</th>\n",
       "      <td>0.457119</td>\n",
       "      <td>0.274165</td>\n",
       "    </tr>\n",
       "    <tr>\n",
       "      <th>50</th>\n",
       "      <td>0.457119</td>\n",
       "      <td>0.274165</td>\n",
       "    </tr>\n",
       "    <tr>\n",
       "      <th>100</th>\n",
       "      <td>0.457119</td>\n",
       "      <td>0.274165</td>\n",
       "    </tr>\n",
       "  </tbody>\n",
       "</table>\n",
       "</div>"
      ],
      "text/plain": [
       "                       mean       std\n",
       "min_num_instances                    \n",
       "10                 0.457119  0.274165\n",
       "20                 0.457119  0.274165\n",
       "30                 0.457119  0.274165\n",
       "40                 0.457119  0.274165\n",
       "50                 0.457119  0.274165\n",
       "100                0.457119  0.274165"
      ]
     },
     "execution_count": 40,
     "metadata": {},
     "output_type": "execute_result"
    }
   ],
   "source": [
    "auc_eddm_df.groupby('min_num_instances')['auc'].agg(['mean', 'std'])"
   ]
  },
  {
   "cell_type": "code",
   "execution_count": 41,
   "id": "fancy-chocolate",
   "metadata": {},
   "outputs": [
    {
     "data": {
      "text/html": [
       "<div>\n",
       "<style scoped>\n",
       "    .dataframe tbody tr th:only-of-type {\n",
       "        vertical-align: middle;\n",
       "    }\n",
       "\n",
       "    .dataframe tbody tr th {\n",
       "        vertical-align: top;\n",
       "    }\n",
       "\n",
       "    .dataframe thead th {\n",
       "        text-align: right;\n",
       "    }\n",
       "</style>\n",
       "<table border=\"1\" class=\"dataframe\">\n",
       "  <thead>\n",
       "    <tr style=\"text-align: right;\">\n",
       "      <th></th>\n",
       "      <th>mean</th>\n",
       "      <th>std</th>\n",
       "    </tr>\n",
       "    <tr>\n",
       "      <th>threshold</th>\n",
       "      <th></th>\n",
       "      <th></th>\n",
       "    </tr>\n",
       "  </thead>\n",
       "  <tbody>\n",
       "    <tr>\n",
       "      <th>10</th>\n",
       "      <td>0.44565</td>\n",
       "      <td>0.200774</td>\n",
       "    </tr>\n",
       "    <tr>\n",
       "      <th>20</th>\n",
       "      <td>0.44565</td>\n",
       "      <td>0.200774</td>\n",
       "    </tr>\n",
       "    <tr>\n",
       "      <th>30</th>\n",
       "      <td>0.44565</td>\n",
       "      <td>0.200774</td>\n",
       "    </tr>\n",
       "    <tr>\n",
       "      <th>40</th>\n",
       "      <td>0.44565</td>\n",
       "      <td>0.200774</td>\n",
       "    </tr>\n",
       "    <tr>\n",
       "      <th>50</th>\n",
       "      <td>0.44565</td>\n",
       "      <td>0.200774</td>\n",
       "    </tr>\n",
       "    <tr>\n",
       "      <th>60</th>\n",
       "      <td>0.44565</td>\n",
       "      <td>0.200774</td>\n",
       "    </tr>\n",
       "    <tr>\n",
       "      <th>70</th>\n",
       "      <td>0.44565</td>\n",
       "      <td>0.200774</td>\n",
       "    </tr>\n",
       "    <tr>\n",
       "      <th>80</th>\n",
       "      <td>0.44565</td>\n",
       "      <td>0.200774</td>\n",
       "    </tr>\n",
       "    <tr>\n",
       "      <th>90</th>\n",
       "      <td>0.44565</td>\n",
       "      <td>0.200774</td>\n",
       "    </tr>\n",
       "    <tr>\n",
       "      <th>100</th>\n",
       "      <td>0.44565</td>\n",
       "      <td>0.200774</td>\n",
       "    </tr>\n",
       "  </tbody>\n",
       "</table>\n",
       "</div>"
      ],
      "text/plain": [
       "              mean       std\n",
       "threshold                   \n",
       "10         0.44565  0.200774\n",
       "20         0.44565  0.200774\n",
       "30         0.44565  0.200774\n",
       "40         0.44565  0.200774\n",
       "50         0.44565  0.200774\n",
       "60         0.44565  0.200774\n",
       "70         0.44565  0.200774\n",
       "80         0.44565  0.200774\n",
       "90         0.44565  0.200774\n",
       "100        0.44565  0.200774"
      ]
     },
     "execution_count": 41,
     "metadata": {},
     "output_type": "execute_result"
    }
   ],
   "source": [
    "auc_ph_df.groupby('threshold')['auc'].agg(['mean', 'std'])"
   ]
  },
  {
   "cell_type": "code",
   "execution_count": 42,
   "id": "employed-complex",
   "metadata": {},
   "outputs": [
    {
     "data": {
      "text/html": [
       "<div>\n",
       "<style scoped>\n",
       "    .dataframe tbody tr th:only-of-type {\n",
       "        vertical-align: middle;\n",
       "    }\n",
       "\n",
       "    .dataframe tbody tr th {\n",
       "        vertical-align: top;\n",
       "    }\n",
       "\n",
       "    .dataframe thead th {\n",
       "        text-align: right;\n",
       "    }\n",
       "</style>\n",
       "<table border=\"1\" class=\"dataframe\">\n",
       "  <thead>\n",
       "    <tr style=\"text-align: right;\">\n",
       "      <th></th>\n",
       "      <th>mean</th>\n",
       "      <th>std</th>\n",
       "    </tr>\n",
       "    <tr>\n",
       "      <th>r</th>\n",
       "      <th></th>\n",
       "      <th></th>\n",
       "    </tr>\n",
       "  </thead>\n",
       "  <tbody>\n",
       "    <tr>\n",
       "      <th>0.0001</th>\n",
       "      <td>0.500000</td>\n",
       "      <td>0.000000</td>\n",
       "    </tr>\n",
       "    <tr>\n",
       "      <th>0.0010</th>\n",
       "      <td>0.285854</td>\n",
       "      <td>0.079657</td>\n",
       "    </tr>\n",
       "    <tr>\n",
       "      <th>0.0050</th>\n",
       "      <td>0.487937</td>\n",
       "      <td>0.074425</td>\n",
       "    </tr>\n",
       "    <tr>\n",
       "      <th>0.0100</th>\n",
       "      <td>0.493778</td>\n",
       "      <td>0.061284</td>\n",
       "    </tr>\n",
       "  </tbody>\n",
       "</table>\n",
       "</div>"
      ],
      "text/plain": [
       "            mean       std\n",
       "r                         \n",
       "0.0001  0.500000  0.000000\n",
       "0.0010  0.285854  0.079657\n",
       "0.0050  0.487937  0.074425\n",
       "0.0100  0.493778  0.061284"
      ]
     },
     "execution_count": 42,
     "metadata": {},
     "output_type": "execute_result"
    }
   ],
   "source": [
    "auc_sdem_df.groupby('r')['auc'].agg(['mean', 'std'])"
   ]
  },
  {
   "cell_type": "code",
   "execution_count": 43,
   "id": "attended-tokyo",
   "metadata": {},
   "outputs": [
    {
     "data": {
      "text/plain": [
       "mean    0.568589\n",
       "std     0.012324\n",
       "Name: auc, dtype: float64"
      ]
     },
     "execution_count": 43,
     "metadata": {},
     "output_type": "execute_result"
    }
   ],
   "source": [
    "auc_iem_df['auc'].agg(['mean', 'std'])"
   ]
  },
  {
   "cell_type": "code",
   "execution_count": 44,
   "id": "infectious-perry",
   "metadata": {},
   "outputs": [
    {
     "data": {
      "text/html": [
       "<div>\n",
       "<style scoped>\n",
       "    .dataframe tbody tr th:only-of-type {\n",
       "        vertical-align: middle;\n",
       "    }\n",
       "\n",
       "    .dataframe tbody tr th {\n",
       "        vertical-align: top;\n",
       "    }\n",
       "\n",
       "    .dataframe thead th {\n",
       "        text-align: right;\n",
       "    }\n",
       "</style>\n",
       "<table border=\"1\" class=\"dataframe\">\n",
       "  <thead>\n",
       "    <tr style=\"text-align: right;\">\n",
       "      <th></th>\n",
       "      <th>mean</th>\n",
       "      <th>std</th>\n",
       "    </tr>\n",
       "    <tr>\n",
       "      <th>r</th>\n",
       "      <th></th>\n",
       "      <th></th>\n",
       "    </tr>\n",
       "  </thead>\n",
       "  <tbody>\n",
       "    <tr>\n",
       "      <th>0.01</th>\n",
       "      <td>0.583777</td>\n",
       "      <td>0.086741</td>\n",
       "    </tr>\n",
       "    <tr>\n",
       "      <th>0.05</th>\n",
       "      <td>0.583224</td>\n",
       "      <td>0.083050</td>\n",
       "    </tr>\n",
       "    <tr>\n",
       "      <th>0.10</th>\n",
       "      <td>0.528922</td>\n",
       "      <td>0.073857</td>\n",
       "    </tr>\n",
       "  </tbody>\n",
       "</table>\n",
       "</div>"
      ],
      "text/plain": [
       "          mean       std\n",
       "r                       \n",
       "0.01  0.583777  0.086741\n",
       "0.05  0.583224  0.083050\n",
       "0.10  0.528922  0.073857"
      ]
     },
     "execution_count": 44,
     "metadata": {},
     "output_type": "execute_result"
    }
   ],
   "source": [
    "auc_sem_df.groupby('r')['auc'].agg(['mean', 'std'])"
   ]
  },
  {
   "cell_type": "code",
   "execution_count": 45,
   "id": "successful-guarantee",
   "metadata": {},
   "outputs": [
    {
     "data": {
      "text/html": [
       "<div>\n",
       "<style scoped>\n",
       "    .dataframe tbody tr th:only-of-type {\n",
       "        vertical-align: middle;\n",
       "    }\n",
       "\n",
       "    .dataframe tbody tr th {\n",
       "        vertical-align: top;\n",
       "    }\n",
       "\n",
       "    .dataframe thead th {\n",
       "        text-align: right;\n",
       "    }\n",
       "</style>\n",
       "<table border=\"1\" class=\"dataframe\">\n",
       "  <thead>\n",
       "    <tr style=\"text-align: right;\">\n",
       "      <th></th>\n",
       "      <th></th>\n",
       "      <th></th>\n",
       "      <th>mean</th>\n",
       "      <th>std</th>\n",
       "    </tr>\n",
       "    <tr>\n",
       "      <th>gamma</th>\n",
       "      <th>ratio</th>\n",
       "      <th>M</th>\n",
       "      <th></th>\n",
       "      <th></th>\n",
       "    </tr>\n",
       "  </thead>\n",
       "  <tbody>\n",
       "    <tr>\n",
       "      <th rowspan=\"12\" valign=\"top\">1</th>\n",
       "      <th rowspan=\"3\" valign=\"top\">0.1</th>\n",
       "      <th>5</th>\n",
       "      <td>0.714784</td>\n",
       "      <td>0.080149</td>\n",
       "    </tr>\n",
       "    <tr>\n",
       "      <th>10</th>\n",
       "      <td>0.629021</td>\n",
       "      <td>0.170659</td>\n",
       "    </tr>\n",
       "    <tr>\n",
       "      <th>15</th>\n",
       "      <td>0.657195</td>\n",
       "      <td>0.126416</td>\n",
       "    </tr>\n",
       "    <tr>\n",
       "      <th rowspan=\"3\" valign=\"top\">0.2</th>\n",
       "      <th>5</th>\n",
       "      <td>0.662977</td>\n",
       "      <td>0.033170</td>\n",
       "    </tr>\n",
       "    <tr>\n",
       "      <th>10</th>\n",
       "      <td>0.660136</td>\n",
       "      <td>0.034689</td>\n",
       "    </tr>\n",
       "    <tr>\n",
       "      <th>15</th>\n",
       "      <td>0.660112</td>\n",
       "      <td>0.034362</td>\n",
       "    </tr>\n",
       "    <tr>\n",
       "      <th rowspan=\"3\" valign=\"top\">0.3</th>\n",
       "      <th>5</th>\n",
       "      <td>0.609437</td>\n",
       "      <td>0.029235</td>\n",
       "    </tr>\n",
       "    <tr>\n",
       "      <th>10</th>\n",
       "      <td>0.614901</td>\n",
       "      <td>0.044177</td>\n",
       "    </tr>\n",
       "    <tr>\n",
       "      <th>15</th>\n",
       "      <td>0.618363</td>\n",
       "      <td>0.043587</td>\n",
       "    </tr>\n",
       "    <tr>\n",
       "      <th rowspan=\"3\" valign=\"top\">0.5</th>\n",
       "      <th>5</th>\n",
       "      <td>0.574327</td>\n",
       "      <td>0.034951</td>\n",
       "    </tr>\n",
       "    <tr>\n",
       "      <th>10</th>\n",
       "      <td>0.568970</td>\n",
       "      <td>0.031876</td>\n",
       "    </tr>\n",
       "    <tr>\n",
       "      <th>15</th>\n",
       "      <td>0.572458</td>\n",
       "      <td>0.033053</td>\n",
       "    </tr>\n",
       "    <tr>\n",
       "      <th rowspan=\"12\" valign=\"top\">3</th>\n",
       "      <th rowspan=\"3\" valign=\"top\">0.1</th>\n",
       "      <th>5</th>\n",
       "      <td>0.512853</td>\n",
       "      <td>0.243683</td>\n",
       "    </tr>\n",
       "    <tr>\n",
       "      <th>10</th>\n",
       "      <td>0.717115</td>\n",
       "      <td>0.212256</td>\n",
       "    </tr>\n",
       "    <tr>\n",
       "      <th>15</th>\n",
       "      <td>0.495660</td>\n",
       "      <td>0.242309</td>\n",
       "    </tr>\n",
       "    <tr>\n",
       "      <th rowspan=\"3\" valign=\"top\">0.2</th>\n",
       "      <th>5</th>\n",
       "      <td>0.667465</td>\n",
       "      <td>0.154752</td>\n",
       "    </tr>\n",
       "    <tr>\n",
       "      <th>10</th>\n",
       "      <td>0.621794</td>\n",
       "      <td>0.068078</td>\n",
       "    </tr>\n",
       "    <tr>\n",
       "      <th>15</th>\n",
       "      <td>0.632806</td>\n",
       "      <td>0.018508</td>\n",
       "    </tr>\n",
       "    <tr>\n",
       "      <th rowspan=\"3\" valign=\"top\">0.3</th>\n",
       "      <th>5</th>\n",
       "      <td>0.593774</td>\n",
       "      <td>0.096203</td>\n",
       "    </tr>\n",
       "    <tr>\n",
       "      <th>10</th>\n",
       "      <td>0.615107</td>\n",
       "      <td>0.023269</td>\n",
       "    </tr>\n",
       "    <tr>\n",
       "      <th>15</th>\n",
       "      <td>0.613592</td>\n",
       "      <td>0.027804</td>\n",
       "    </tr>\n",
       "    <tr>\n",
       "      <th rowspan=\"3\" valign=\"top\">0.5</th>\n",
       "      <th>5</th>\n",
       "      <td>0.597569</td>\n",
       "      <td>0.033865</td>\n",
       "    </tr>\n",
       "    <tr>\n",
       "      <th>10</th>\n",
       "      <td>0.585021</td>\n",
       "      <td>0.021628</td>\n",
       "    </tr>\n",
       "    <tr>\n",
       "      <th>15</th>\n",
       "      <td>0.583151</td>\n",
       "      <td>0.021752</td>\n",
       "    </tr>\n",
       "    <tr>\n",
       "      <th rowspan=\"12\" valign=\"top\">5</th>\n",
       "      <th rowspan=\"3\" valign=\"top\">0.1</th>\n",
       "      <th>5</th>\n",
       "      <td>0.538167</td>\n",
       "      <td>0.057081</td>\n",
       "    </tr>\n",
       "    <tr>\n",
       "      <th>10</th>\n",
       "      <td>0.540916</td>\n",
       "      <td>0.195509</td>\n",
       "    </tr>\n",
       "    <tr>\n",
       "      <th>15</th>\n",
       "      <td>0.626364</td>\n",
       "      <td>0.174424</td>\n",
       "    </tr>\n",
       "    <tr>\n",
       "      <th rowspan=\"3\" valign=\"top\">0.2</th>\n",
       "      <th>5</th>\n",
       "      <td>0.561918</td>\n",
       "      <td>0.207304</td>\n",
       "    </tr>\n",
       "    <tr>\n",
       "      <th>10</th>\n",
       "      <td>0.580073</td>\n",
       "      <td>0.178464</td>\n",
       "    </tr>\n",
       "    <tr>\n",
       "      <th>15</th>\n",
       "      <td>0.590651</td>\n",
       "      <td>0.152597</td>\n",
       "    </tr>\n",
       "    <tr>\n",
       "      <th rowspan=\"3\" valign=\"top\">0.3</th>\n",
       "      <th>5</th>\n",
       "      <td>0.522131</td>\n",
       "      <td>0.259645</td>\n",
       "    </tr>\n",
       "    <tr>\n",
       "      <th>10</th>\n",
       "      <td>0.637545</td>\n",
       "      <td>0.040620</td>\n",
       "    </tr>\n",
       "    <tr>\n",
       "      <th>15</th>\n",
       "      <td>0.606797</td>\n",
       "      <td>0.053816</td>\n",
       "    </tr>\n",
       "    <tr>\n",
       "      <th rowspan=\"3\" valign=\"top\">0.5</th>\n",
       "      <th>5</th>\n",
       "      <td>0.560784</td>\n",
       "      <td>0.198581</td>\n",
       "    </tr>\n",
       "    <tr>\n",
       "      <th>10</th>\n",
       "      <td>0.626341</td>\n",
       "      <td>0.051751</td>\n",
       "    </tr>\n",
       "    <tr>\n",
       "      <th>15</th>\n",
       "      <td>0.602799</td>\n",
       "      <td>0.020465</td>\n",
       "    </tr>\n",
       "    <tr>\n",
       "      <th rowspan=\"12\" valign=\"top\">10</th>\n",
       "      <th rowspan=\"3\" valign=\"top\">0.1</th>\n",
       "      <th>5</th>\n",
       "      <td>0.537201</td>\n",
       "      <td>0.115447</td>\n",
       "    </tr>\n",
       "    <tr>\n",
       "      <th>10</th>\n",
       "      <td>0.607233</td>\n",
       "      <td>0.109246</td>\n",
       "    </tr>\n",
       "    <tr>\n",
       "      <th>15</th>\n",
       "      <td>0.532208</td>\n",
       "      <td>0.171050</td>\n",
       "    </tr>\n",
       "    <tr>\n",
       "      <th rowspan=\"3\" valign=\"top\">0.2</th>\n",
       "      <th>5</th>\n",
       "      <td>0.486191</td>\n",
       "      <td>0.047799</td>\n",
       "    </tr>\n",
       "    <tr>\n",
       "      <th>10</th>\n",
       "      <td>0.529918</td>\n",
       "      <td>0.213335</td>\n",
       "    </tr>\n",
       "    <tr>\n",
       "      <th>15</th>\n",
       "      <td>0.581870</td>\n",
       "      <td>0.150915</td>\n",
       "    </tr>\n",
       "    <tr>\n",
       "      <th rowspan=\"3\" valign=\"top\">0.3</th>\n",
       "      <th>5</th>\n",
       "      <td>0.554362</td>\n",
       "      <td>0.217597</td>\n",
       "    </tr>\n",
       "    <tr>\n",
       "      <th>10</th>\n",
       "      <td>0.596090</td>\n",
       "      <td>0.172563</td>\n",
       "    </tr>\n",
       "    <tr>\n",
       "      <th>15</th>\n",
       "      <td>0.602273</td>\n",
       "      <td>0.136260</td>\n",
       "    </tr>\n",
       "    <tr>\n",
       "      <th rowspan=\"3\" valign=\"top\">0.5</th>\n",
       "      <th>5</th>\n",
       "      <td>0.421413</td>\n",
       "      <td>0.146339</td>\n",
       "    </tr>\n",
       "    <tr>\n",
       "      <th>10</th>\n",
       "      <td>0.673334</td>\n",
       "      <td>0.122886</td>\n",
       "    </tr>\n",
       "    <tr>\n",
       "      <th>15</th>\n",
       "      <td>0.673985</td>\n",
       "      <td>0.079995</td>\n",
       "    </tr>\n",
       "    <tr>\n",
       "      <th rowspan=\"12\" valign=\"top\">15</th>\n",
       "      <th rowspan=\"3\" valign=\"top\">0.1</th>\n",
       "      <th>5</th>\n",
       "      <td>0.477137</td>\n",
       "      <td>0.105860</td>\n",
       "    </tr>\n",
       "    <tr>\n",
       "      <th>10</th>\n",
       "      <td>0.557936</td>\n",
       "      <td>0.152095</td>\n",
       "    </tr>\n",
       "    <tr>\n",
       "      <th>15</th>\n",
       "      <td>0.562536</td>\n",
       "      <td>0.108827</td>\n",
       "    </tr>\n",
       "    <tr>\n",
       "      <th rowspan=\"3\" valign=\"top\">0.2</th>\n",
       "      <th>5</th>\n",
       "      <td>0.512100</td>\n",
       "      <td>0.054302</td>\n",
       "    </tr>\n",
       "    <tr>\n",
       "      <th>10</th>\n",
       "      <td>0.533313</td>\n",
       "      <td>0.164150</td>\n",
       "    </tr>\n",
       "    <tr>\n",
       "      <th>15</th>\n",
       "      <td>0.632178</td>\n",
       "      <td>0.079283</td>\n",
       "    </tr>\n",
       "    <tr>\n",
       "      <th rowspan=\"3\" valign=\"top\">0.3</th>\n",
       "      <th>5</th>\n",
       "      <td>0.543706</td>\n",
       "      <td>0.175183</td>\n",
       "    </tr>\n",
       "    <tr>\n",
       "      <th>10</th>\n",
       "      <td>0.555294</td>\n",
       "      <td>0.130288</td>\n",
       "    </tr>\n",
       "    <tr>\n",
       "      <th>15</th>\n",
       "      <td>0.583943</td>\n",
       "      <td>0.018789</td>\n",
       "    </tr>\n",
       "    <tr>\n",
       "      <th rowspan=\"3\" valign=\"top\">0.5</th>\n",
       "      <th>5</th>\n",
       "      <td>0.478402</td>\n",
       "      <td>0.082709</td>\n",
       "    </tr>\n",
       "    <tr>\n",
       "      <th>10</th>\n",
       "      <td>0.621082</td>\n",
       "      <td>0.089092</td>\n",
       "    </tr>\n",
       "    <tr>\n",
       "      <th>15</th>\n",
       "      <td>0.576612</td>\n",
       "      <td>0.017396</td>\n",
       "    </tr>\n",
       "  </tbody>\n",
       "</table>\n",
       "</div>"
      ],
      "text/plain": [
       "                    mean       std\n",
       "gamma ratio M                     \n",
       "1     0.1   5   0.714784  0.080149\n",
       "            10  0.629021  0.170659\n",
       "            15  0.657195  0.126416\n",
       "      0.2   5   0.662977  0.033170\n",
       "            10  0.660136  0.034689\n",
       "            15  0.660112  0.034362\n",
       "      0.3   5   0.609437  0.029235\n",
       "            10  0.614901  0.044177\n",
       "            15  0.618363  0.043587\n",
       "      0.5   5   0.574327  0.034951\n",
       "            10  0.568970  0.031876\n",
       "            15  0.572458  0.033053\n",
       "3     0.1   5   0.512853  0.243683\n",
       "            10  0.717115  0.212256\n",
       "            15  0.495660  0.242309\n",
       "      0.2   5   0.667465  0.154752\n",
       "            10  0.621794  0.068078\n",
       "            15  0.632806  0.018508\n",
       "      0.3   5   0.593774  0.096203\n",
       "            10  0.615107  0.023269\n",
       "            15  0.613592  0.027804\n",
       "      0.5   5   0.597569  0.033865\n",
       "            10  0.585021  0.021628\n",
       "            15  0.583151  0.021752\n",
       "5     0.1   5   0.538167  0.057081\n",
       "            10  0.540916  0.195509\n",
       "            15  0.626364  0.174424\n",
       "      0.2   5   0.561918  0.207304\n",
       "            10  0.580073  0.178464\n",
       "            15  0.590651  0.152597\n",
       "      0.3   5   0.522131  0.259645\n",
       "            10  0.637545  0.040620\n",
       "            15  0.606797  0.053816\n",
       "      0.5   5   0.560784  0.198581\n",
       "            10  0.626341  0.051751\n",
       "            15  0.602799  0.020465\n",
       "10    0.1   5   0.537201  0.115447\n",
       "            10  0.607233  0.109246\n",
       "            15  0.532208  0.171050\n",
       "      0.2   5   0.486191  0.047799\n",
       "            10  0.529918  0.213335\n",
       "            15  0.581870  0.150915\n",
       "      0.3   5   0.554362  0.217597\n",
       "            10  0.596090  0.172563\n",
       "            15  0.602273  0.136260\n",
       "      0.5   5   0.421413  0.146339\n",
       "            10  0.673334  0.122886\n",
       "            15  0.673985  0.079995\n",
       "15    0.1   5   0.477137  0.105860\n",
       "            10  0.557936  0.152095\n",
       "            15  0.562536  0.108827\n",
       "      0.2   5   0.512100  0.054302\n",
       "            10  0.533313  0.164150\n",
       "            15  0.632178  0.079283\n",
       "      0.3   5   0.543706  0.175183\n",
       "            10  0.555294  0.130288\n",
       "            15  0.583943  0.018789\n",
       "      0.5   5   0.478402  0.082709\n",
       "            10  0.621082  0.089092\n",
       "            15  0.576612  0.017396"
      ]
     },
     "execution_count": 45,
     "metadata": {},
     "output_type": "execute_result"
    }
   ],
   "source": [
    "auc_sra_df.groupby(['gamma', 'ratio', 'M'])['auc'].agg(['mean', 'std'])"
   ]
  },
  {
   "cell_type": "code",
   "execution_count": 55,
   "id": "deluxe-blame",
   "metadata": {},
   "outputs": [],
   "source": [
    "with open(os.path.join(outdir, 'auc_sra.pkl'), 'wb') as f:\n",
    "    pickle.dump(auc_sra_df.groupby(['gamma', 'ratio', 'M'])['auc'].agg(['mean', 'std']), f)"
   ]
  },
  {
   "cell_type": "code",
   "execution_count": 46,
   "id": "graduate-costs",
   "metadata": {},
   "outputs": [],
   "source": [
    "time_by_trial_df = pd.DataFrame(\n",
    "    {\n",
    "        'SRA': np.sum(time_sra, axis=1),\n",
    "        'SDEM': np.sum(time_sdem, axis=1),\n",
    "        'iEM': np.sum(time_iem, axis=1),\n",
    "        'sEM': np.sum(time_sem, axis=1),\n",
    "        'ADWIN': np.sum(time_adwin, axis=1),\n",
    "        #'DDM': np.sum(time_ddm, axis=1),\n",
    "        #'EDDM': np.sum(time_eddm, axis=1),\n",
    "        'KSWIN': np.sum(time_kswin, axis=1),\n",
    "        'PH': np.sum(time_ph, axis=1)\n",
    "    }\n",
    ")"
   ]
  },
  {
   "cell_type": "code",
   "execution_count": 47,
   "id": "southwest-recorder",
   "metadata": {},
   "outputs": [],
   "source": [
    "time_by_trial_df_melted = pd.melt(time_by_trial_df)"
   ]
  },
  {
   "cell_type": "code",
   "execution_count": 48,
   "id": "cathedral-cause",
   "metadata": {},
   "outputs": [
    {
     "data": {
      "text/html": [
       "<div>\n",
       "<style scoped>\n",
       "    .dataframe tbody tr th:only-of-type {\n",
       "        vertical-align: middle;\n",
       "    }\n",
       "\n",
       "    .dataframe tbody tr th {\n",
       "        vertical-align: top;\n",
       "    }\n",
       "\n",
       "    .dataframe thead th {\n",
       "        text-align: right;\n",
       "    }\n",
       "</style>\n",
       "<table border=\"1\" class=\"dataframe\">\n",
       "  <thead>\n",
       "    <tr style=\"text-align: right;\">\n",
       "      <th></th>\n",
       "      <th>variable</th>\n",
       "      <th>value</th>\n",
       "    </tr>\n",
       "  </thead>\n",
       "  <tbody>\n",
       "    <tr>\n",
       "      <th>0</th>\n",
       "      <td>SRA</td>\n",
       "      <td>3587.210766</td>\n",
       "    </tr>\n",
       "    <tr>\n",
       "      <th>1</th>\n",
       "      <td>SRA</td>\n",
       "      <td>3523.921129</td>\n",
       "    </tr>\n",
       "    <tr>\n",
       "      <th>2</th>\n",
       "      <td>SRA</td>\n",
       "      <td>3484.389524</td>\n",
       "    </tr>\n",
       "    <tr>\n",
       "      <th>3</th>\n",
       "      <td>SRA</td>\n",
       "      <td>3134.911002</td>\n",
       "    </tr>\n",
       "    <tr>\n",
       "      <th>4</th>\n",
       "      <td>SRA</td>\n",
       "      <td>3160.618214</td>\n",
       "    </tr>\n",
       "    <tr>\n",
       "      <th>...</th>\n",
       "      <td>...</td>\n",
       "      <td>...</td>\n",
       "    </tr>\n",
       "    <tr>\n",
       "      <th>65</th>\n",
       "      <td>PH</td>\n",
       "      <td>1.747731</td>\n",
       "    </tr>\n",
       "    <tr>\n",
       "      <th>66</th>\n",
       "      <td>PH</td>\n",
       "      <td>1.857383</td>\n",
       "    </tr>\n",
       "    <tr>\n",
       "      <th>67</th>\n",
       "      <td>PH</td>\n",
       "      <td>1.878270</td>\n",
       "    </tr>\n",
       "    <tr>\n",
       "      <th>68</th>\n",
       "      <td>PH</td>\n",
       "      <td>1.575297</td>\n",
       "    </tr>\n",
       "    <tr>\n",
       "      <th>69</th>\n",
       "      <td>PH</td>\n",
       "      <td>1.541201</td>\n",
       "    </tr>\n",
       "  </tbody>\n",
       "</table>\n",
       "<p>70 rows × 2 columns</p>\n",
       "</div>"
      ],
      "text/plain": [
       "   variable        value\n",
       "0       SRA  3587.210766\n",
       "1       SRA  3523.921129\n",
       "2       SRA  3484.389524\n",
       "3       SRA  3134.911002\n",
       "4       SRA  3160.618214\n",
       "..      ...          ...\n",
       "65       PH     1.747731\n",
       "66       PH     1.857383\n",
       "67       PH     1.878270\n",
       "68       PH     1.575297\n",
       "69       PH     1.541201\n",
       "\n",
       "[70 rows x 2 columns]"
      ]
     },
     "execution_count": 48,
     "metadata": {},
     "output_type": "execute_result"
    }
   ],
   "source": [
    "time_by_trial_df_melted"
   ]
  },
  {
   "cell_type": "code",
   "execution_count": 49,
   "id": "comic-cement",
   "metadata": {},
   "outputs": [],
   "source": [
    "with open(os.path.join(outdir, 'measured_total_time_by_algorithm.pkl'), 'wb') as f:\n",
    "    pickle.dump(time_by_trial_df_melted, f)"
   ]
  },
  {
   "cell_type": "code",
   "execution_count": 51,
   "id": "addressed-treasure",
   "metadata": {},
   "outputs": [],
   "source": [
    "time_by_each_df = pd.concat(\n",
    "    [pd.DataFrame({'Algorithm':'SRA',\n",
    "                   'Time': np.array(time_sra).ravel()}),\n",
    "     pd.DataFrame({'Algorithm':'SDEM',\n",
    "                   'Time': np.array(time_sdem).ravel()}),\n",
    "     pd.DataFrame({'Algorithm':'iEM',\n",
    "                   'Time': np.array(time_iem).ravel()}),\n",
    "     pd.DataFrame({'Algorithm':'sEM',\n",
    "                   'Time': np.array(time_sem).ravel()}),\n",
    "     pd.DataFrame({'Algorithm':'ADWIN', \n",
    "                   'Time': np.array(time_adwin).ravel()}),\n",
    "     #pd.DataFrame({'Algorithm':'DDM',\n",
    "     #              'Time': np.array(time_ddm).ravel()}), \n",
    "     #pd.DataFrame({'Algorithm':'EDDM',\n",
    "     #              'Time': np.array(time_eddm).ravel()}),\n",
    "     pd.DataFrame({'Algorithm':'KSWIN',\n",
    "                   'Time': np.array(time_kswin).ravel()}),\n",
    "     pd.DataFrame({'Algorithm':'PH',\n",
    "                   'Time': np.array(time_ph).ravel()})\n",
    "    ]\n",
    ")"
   ]
  },
  {
   "cell_type": "code",
   "execution_count": 52,
   "id": "large-attitude",
   "metadata": {},
   "outputs": [],
   "source": [
    "with open(os.path.join(outdir, 'measured_each_time_by_algorithm.pkl'), 'wb') as f:\n",
    "    pickle.dump(time_by_each_df, f)"
   ]
  },
  {
   "cell_type": "code",
   "execution_count": 53,
   "id": "prime-spencer",
   "metadata": {},
   "outputs": [
    {
     "data": {
      "image/png": "[encoded data removed]",
      "text/plain": [
       "<Figure size 576x432 with 2 Axes>"
      ]
     },
     "metadata": {
      "needs_background": "light"
     },
     "output_type": "display_data"
    }
   ],
   "source": [
    "fig, axes = plt.subplots(2, 1, sharex=True, figsize=(8, 6))\n",
    "\n",
    "sns.boxplot(x='variable', y='value', data=time_by_trial_df_melted, ax=axes[0])\n",
    "axes[0].set_xlabel('Algorithm')\n",
    "axes[0].set_ylabel('Time[s]')\n",
    "#ax.set_yscale('log')\n",
    "axes[0].grid()\n",
    "\n",
    "sns.boxplot(x='Algorithm', y='Time', data=time_by_each_df, ax=axes[1])\n",
    "axes[1].set_ylabel('Time[s]')\n",
    "#axes[1].set_yscale('log')\n",
    "axes[1].grid()\n",
    "\n",
    "plt.show()"
   ]
  },
  {
   "cell_type": "code",
   "execution_count": null,
   "id": "knowing-begin",
   "metadata": {},
   "outputs": [],
   "source": []
  }
 ],
 "metadata": {
  "kernelspec": {
   "display_name": "Python 3",
   "language": "python",
   "name": "python3"
  },
  "language_info": {
   "codemirror_mode": {
    "name": "ipython",
    "version": 3
   },
   "file_extension": ".py",
   "mimetype": "text/x-python",
   "name": "python",
   "nbconvert_exporter": "python",
   "pygments_lexer": "ipython3",
   "version": "3.7.2"
  }
 },
 "nbformat": 4,
 "nbformat_minor": 5
}
