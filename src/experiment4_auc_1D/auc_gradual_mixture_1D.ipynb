{
 "cells": [
  {
   "cell_type": "code",
   "execution_count": 1,
   "id": "coordinated-abraham",
   "metadata": {},
   "outputs": [],
   "source": [
    "%matplotlib inline\n",
    "\n",
    "import numpy as np\n",
    "from scipy.stats import multivariate_normal, norm, ks_2samp\n",
    "import pandas as pd\n",
    "\n",
    "import matplotlib.pyplot as plt\n",
    "import seaborn as sns\n",
    "\n",
    "import os\n",
    "import pickle\n",
    "\n",
    "from copy import deepcopy\n",
    "\n",
    "import time\n",
    "\n",
    "import tqdm"
   ]
  },
  {
   "cell_type": "code",
   "execution_count": 2,
   "id": "alert-dependence",
   "metadata": {},
   "outputs": [],
   "source": [
    "from sklearn.mixture import GaussianMixture\n",
    "from sklearn.datasets import make_spd_matrix\n",
    "from sklearn.metrics import roc_curve, auc\n",
    "\n",
    "from skmultiflow.drift_detection.adwin import ADWIN\n",
    "from skmultiflow.drift_detection.ddm import DDM\n",
    "from skmultiflow.drift_detection.eddm import EDDM\n",
    "from skmultiflow.drift_detection.hddm_a import HDDM_A\n",
    "from skmultiflow.drift_detection.hddm_w import HDDM_W\n",
    "from skmultiflow.drift_detection.kswin import KSWIN\n",
    "from skmultiflow.drift_detection.page_hinkley import PageHinkley"
   ]
  },
  {
   "cell_type": "code",
   "execution_count": 3,
   "id": "synthetic-discharge",
   "metadata": {},
   "outputs": [],
   "source": [
    "outdir = './output/synthetic/univariate/gradual_mixture'\n",
    "if not os.path.exists(outdir):\n",
    "    os.makedirs(outdir)"
   ]
  },
  {
   "cell_type": "code",
   "execution_count": 4,
   "id": "indonesian-arbitration",
   "metadata": {},
   "outputs": [],
   "source": [
    "class Theta:\n",
    "    def __init__(self, pi, mu, sigma):\n",
    "        self.pi = pi\n",
    "        self.mu = mu\n",
    "        self.sigma = sigma"
   ]
  },
  {
   "cell_type": "code",
   "execution_count": 5,
   "id": "assumed-elevation",
   "metadata": {},
   "outputs": [],
   "source": [
    "def compute_tau(X, theta, eps=1e-12):\n",
    "    #N = X.shape[0]\n",
    "    K = len(theta.pi)\n",
    "    \n",
    "    #D = X.shape[1]\n",
    "    D = X.shape[-1]    \n",
    "    N = X.shape[-2]\n",
    "    \n",
    "    dim_X = len(X.shape)\n",
    "        \n",
    "    tau = np.zeros((N, K))\n",
    "    for k in range(K):\n",
    "        if D == 1:\n",
    "            d_k = norm(theta.mu[k], np.sqrt(theta.sigma[k]))\n",
    "        else:\n",
    "            #if np.any(np.linalg.eigvals(theta.sigma[k, :, :]) <= 0.0):\n",
    "            #    theta.sigma[k, :, :] = nearPD(theta.sigma[k, :, :])\n",
    "            #d_k = multivariate_normal(theta.mu[k, :], theta.sigma[k, :, :])\n",
    "            try:\n",
    "                d_k = multivariate_normal(theta.mu[k, :], theta.sigma[k, :, :], \n",
    "                                          allow_singular=True)\n",
    "            except:\n",
    "                d_k = multivariate_normal(theta.mu[k, :], nearPD(theta.sigma[k, :, :]), \n",
    "                                          allow_singular=True)\n",
    "        \n",
    "        for i in range(N):\n",
    "            if dim_X == 3:\n",
    "                tau[i, k] = theta.pi[k] * d_k.pdf(X[k, i, :])\n",
    "            elif dim_X == 2:\n",
    "                tau[i, k] = theta.pi[k] * d_k.pdf(X[i, :])\n",
    "                \n",
    "    tau /= np.sum(tau, axis=1, keepdims=True)\n",
    "    \n",
    "    return tau"
   ]
  },
  {
   "cell_type": "code",
   "execution_count": 6,
   "id": "forty-worcester",
   "metadata": {},
   "outputs": [],
   "source": [
    "def compute_stat(X, Z):\n",
    "    #N = X.shape[0]\n",
    "    K = Z.shape[1]\n",
    "    #D = X.shape[1]\n",
    "    \n",
    "    dim_X = len(X.shape)\n",
    "    D = X.shape[-1]    \n",
    "    N = X.shape[-2]\n",
    "    \n",
    "    #s1 = np.sum(Z, axis=0, keepdims=True)\n",
    "    s1 = np.sum(Z.T, axis=1, keepdims=True)\n",
    "    #s1 = np.mean(Z, axis=0, keepdims=True)\n",
    "    #print('s1.shape:', s1.shape)\n",
    "    if dim_X == 2:\n",
    "        s2 = X.T.dot(Z).T\n",
    "    elif dim_X == 3:\n",
    "        s2 = np.einsum('kij,ik->kj', X, Z)\n",
    "    #s2 = np.einsum('kij,ik->kj', X, Z)\n",
    "    #print('s2.shape:', s2.shape)\n",
    "    \n",
    "    if dim_X == 2:\n",
    "        #s3 = np.einsum('ijk,il->ljk', np.array([np.outer(X[i, :], X[i, :]) for i in range(X.shape[0])]), Z)\n",
    "        s3 = np.einsum('ijk,il->ljk', np.array([np.outer(X[i, :], X[i, :]) for i in range(N)]), Z)\n",
    "    else:\n",
    "        #s3 = np.einsum('kijl,ik->kjl', np.array([[np.outer(X[k, i, :], X[k, i, :]) for i in range(X.shape[0])] for k in range(K)]), Z)\n",
    "        s3 = np.einsum('kijl,ik->kjl', np.array([[np.outer(X[k, i, :], X[k, i, :]) for i in range(N)] for k in range(K)]), Z)\n",
    "    #print('s3.shape:', s3.shape)\n",
    "    \n",
    "    return s1, s2, s3"
   ]
  },
  {
   "cell_type": "code",
   "execution_count": 7,
   "id": "numerical-nigeria",
   "metadata": {},
   "outputs": [],
   "source": [
    "def step_M(s, x, eps=1e-8):\n",
    "    #print('s.s1')\n",
    "    #print(s.s1)\n",
    "    #print('s.s2')\n",
    "    #print(s.s2)\n",
    "    #print('s.s3')\n",
    "    #print(s.s3)\n",
    "\n",
    "    pi = (s.s1 + eps) / (1.0 + eps * len(s.s1))\n",
    "    mu = s.s2 / (s.s1 + eps)\n",
    "    sigma = s.s3 / (s.s1 + eps).reshape(len(s.s1), 1, 1) - np.einsum('ij,ik->ijk', mu, mu)\n",
    "\n",
    "    #print('pi')\n",
    "    #print(pi)\n",
    "    #print('mu')\n",
    "    #print(mu)\n",
    "    #print('sigma')\n",
    "    #print(sigma)\n",
    "    \n",
    "    return pi, mu, sigma"
   ]
  },
  {
   "cell_type": "code",
   "execution_count": 8,
   "id": "fuzzy-telephone",
   "metadata": {},
   "outputs": [],
   "source": [
    "class SuffStat:\n",
    "    def __init__(self):\n",
    "        pass\n",
    "\n",
    "class SuffStatGMM(SuffStat):\n",
    "    def __init__(self, K, D, seed=0):\n",
    "        super().__init__()\n",
    "        np.random.seed(seed)\n",
    "        self.s1 = np.random.dirichlet([1.0]*K).reshape(-1, 1)\n",
    "        self.s2 = np.random.random((K, D))\n",
    "        self.s3 = np.random.random((K, D, D))"
   ]
  },
  {
   "cell_type": "code",
   "execution_count": 9,
   "id": "earned-protein",
   "metadata": {},
   "outputs": [],
   "source": [
    "def generate_data(N, pi, mu, sigma):\n",
    "    \n",
    "    z_list = np.random.choice(np.arange(len(pi)), N, replace=True)\n",
    "    \n",
    "    X = np.zeros((N, 1))\n",
    "    for i, z in enumerate(z_list):\n",
    "        X_i = np.random.normal(mu[z], sigma[z])\n",
    "        X[i, :] = X_i\n",
    "    \n",
    "    return X"
   ]
  },
  {
   "cell_type": "markdown",
   "id": "basic-gambling",
   "metadata": {},
   "source": [
    "## experiment (abrupt mean)"
   ]
  },
  {
   "cell_type": "code",
   "execution_count": 10,
   "id": "indian-mandate",
   "metadata": {},
   "outputs": [],
   "source": [
    "N = 10000\n",
    "Nsim = 1"
   ]
  },
  {
   "cell_type": "code",
   "execution_count": 11,
   "id": "opposite-spread",
   "metadata": {},
   "outputs": [],
   "source": [
    "#pi = np.array([0.2, 0.8])\n",
    "#pi = np.array([0.3, 0.7])\n",
    "pi = np.array([1.0])\n",
    "pi0 = pi.copy()"
   ]
  },
  {
   "cell_type": "code",
   "execution_count": 12,
   "id": "liked-characterization",
   "metadata": {},
   "outputs": [],
   "source": [
    "mean1 = 0.5\n",
    "mu1 = np.array([mean1])\n",
    "\n",
    "mean2 = 1.0\n",
    "mu2 = np.array([mean2])\n",
    "\n",
    "sigma = np.array([0.1])"
   ]
  },
  {
   "cell_type": "code",
   "execution_count": 13,
   "id": "polar-incident",
   "metadata": {},
   "outputs": [],
   "source": [
    "seed0 = 1"
   ]
  },
  {
   "cell_type": "code",
   "execution_count": 14,
   "id": "recorded-minority",
   "metadata": {},
   "outputs": [],
   "source": [
    "theta = Theta(pi, mu1, sigma)\n",
    "theta0 = Theta(pi, mu1, sigma)"
   ]
  },
  {
   "cell_type": "code",
   "execution_count": 15,
   "id": "governing-olympus",
   "metadata": {},
   "outputs": [],
   "source": [
    "seed = seed0\n",
    "np.random.seed(seed)\n",
    "X1 = generate_data(N, pi, mu1, sigma)\n",
    "X2 = generate_data(N, pi, mu2, sigma)\n",
    "\n",
    "X = np.vstack((X1, X2))\n",
    "\n",
    "idxes_ol = np.random.choice(np.arange(N), int(0.01*N), replace=False)\n",
    "X[idxes_ol, :] = np.random.uniform(-5, 5, len(idxes_ol)).reshape(-1, 1)"
   ]
  },
  {
   "cell_type": "code",
   "execution_count": 16,
   "id": "legal-distinction",
   "metadata": {},
   "outputs": [],
   "source": [
    "class SDEM(GaussianMixture):\n",
    "    def __init__(self, r, alpha, n_components=2, **kwargs):\n",
    "        super().__init__(n_components=n_components, **kwargs)\n",
    "        \n",
    "        self.r = r\n",
    "        self.alpha = alpha\n",
    "        self.t = 0\n",
    "        \n",
    "        self.pi_list = []\n",
    "        self.pi_bar_list = []\n",
    "        self.means_list = []\n",
    "        self.means_bar_list = []\n",
    "        self.covariances_list = []\n",
    "        self.covariances_bar_list = []\n",
    "        \n",
    "    def fit(self, X, y=None):\n",
    "        super().fit(X, y)\n",
    "        self.means_bar = np.copy(self.means_)\n",
    "        self.covariances_bar = np.copy(self.covariances_)\n",
    "        \n",
    "    def update(self, x):\n",
    "        \"\"\"Employ SDEM algorithm.\"\"\"\n",
    "        \n",
    "        # E-step for weights\n",
    "        gamma = (1-self.alpha*self.r[self.t]) * self.predict_proba(x.reshape(1, -1)) + self.alpha*self.r[self.t]/self.weights_.shape[0] # \\overline{\\gamma}_i^{(t)} in the paper\n",
    "        gamma = gamma.ravel()\n",
    "        self.weights_ = (1-self.r[self.t])*self.weights_ + self.r[self.t]*gamma\n",
    "        \n",
    "        x = x.ravel()\n",
    "        means, means_bar, covariances, covariances_bar = [], [], [], []\n",
    "        for i, (w, m, cov) in enumerate(zip(self.weights_, self.means_bar, self.covariances_bar)):\n",
    "            # E-step\n",
    "            m = (1-self.r[self.t])*m + self.r[self.t]*gamma[i]*x\n",
    "            cov = (1-self.r[self.t])*cov + self.r[self.t]*gamma[i]*np.outer(x,x)\n",
    "            means_bar.append(m)\n",
    "            covariances_bar.append(cov)\n",
    "\n",
    "            # M-step\n",
    "            m = m/w\n",
    "            cov = cov/w - np.outer(m, m)\n",
    "            means.append(m)\n",
    "            covariances.append(cov)\n",
    "\n",
    "        self.means_ = np.vstack(means) # \\mu_i^{(t)} in the paper\n",
    "        self.covariances_ = np.stack(covariances)\n",
    "        self.means_bar = np.stack(means_bar)\n",
    "        self.covariances_bar = np.stack(covariances_bar)\n",
    "        \n",
    "        self.pi_list.append(self.weights_)\n",
    "        self.means_list.append(self.means_)\n",
    "        self.covariances_list.append(self.covariances_)\n",
    "        self.means_bar_list.append(self.means_bar)\n",
    "        self.covariances_bar_list.append(self.covariances_bar)\n",
    "        \n",
    "        self.t += 1"
   ]
  },
  {
   "cell_type": "code",
   "execution_count": 17,
   "id": "optional-philadelphia",
   "metadata": {},
   "outputs": [],
   "source": [
    "#def calc_scores_sdem(X, r, n_cluster, alpha=1.0, start=20, end=40, seed=0):\n",
    "def calc_scores_sdem(X, X_init, r, n_cluster, alpha=1.0, score_start=20, seed=0):\n",
    "    np.random.seed(seed)\n",
    "    rho_const = np.repeat([r], X.shape[0])\n",
    "    sdem = SDEM(rho_const, alpha, n_components=n_cluster)\n",
    "\n",
    "    #X_init = np.random.uniform(np.min(X[start:end, :]), np.max(X[start:end, :]), 20).reshape(-1, X.shape[1])\n",
    "    \n",
    "    sdem.fit(X_init)\n",
    "\n",
    "    for t in range(X.shape[0]):\n",
    "        sdem.update(X[t, :])\n",
    "\n",
    "    pi_est = np.array(sdem.pi_list)\n",
    "    #pi_est = np.array(sdem.weights_)\n",
    "    mu_est = np.array(sdem.means_bar_list)\n",
    "    sigma_est = np.array(sdem.covariances_list)\n",
    "    \n",
    "    scores = [np.nan] * score_start\n",
    "    \n",
    "    #for t in range(start, pi_est.shape[0]):\n",
    "    for t in range(score_start, X.shape[0]):\n",
    "        p = np.zeros(n_cluster)\n",
    "        if n_cluster >= 2:\n",
    "            for k in range(n_cluster):\n",
    "                p_k = pi_est[t-1, k] * norm(mu_est[t-1, k, :], np.sqrt(sigma_est[t-1, k, :, :])).pdf(X[t, :])\n",
    "                p[k] = p_k\n",
    "        else:\n",
    "            p[0] = pi_est[t-1] * norm(mu_est[t-1, 0, :], np.sqrt(sigma_est[t-1, :, :])).pdf(X[t, :])\n",
    "        p_tot = np.sum(p)\n",
    "        if p_tot >= 1.0/np.finfo(float).max:\n",
    "            scores.append(-np.log(p_tot))\n",
    "        else:\n",
    "            scores.append(np.log(np.finfo(float).max))\n",
    "    scores = np.array(scores)\n",
    "    \n",
    "    return scores"
   ]
  },
  {
   "cell_type": "code",
   "execution_count": 18,
   "id": "proper-edwards",
   "metadata": {},
   "outputs": [],
   "source": [
    "#def calc_scores_iem(X, n_cluster, alpha=1.0, start=20, end=40, seed=0):\n",
    "def calc_scores_iem(X, X_init, n_cluster, alpha=1.0, score_start=0, seed=0):\n",
    "    np.random.seed(seed)\n",
    "    rhos = 1.0 / np.arange(1, X.shape[0]+1)\n",
    "    #sdem = SDEM(rhos, alpha, n_components=k)\n",
    "    sdem = SDEM(rhos, alpha, n_components=n_cluster)\n",
    "\n",
    "    #xmin = np.min(X[start:end, :])\n",
    "    #xmax = np.max(X[start:end, :])\n",
    "    \n",
    "    #X_init = np.random.uniform(xmin, xmax, 20).reshape(20, X.shape[1])\n",
    "    sdem.fit(X_init)\n",
    "    \n",
    "    for t in range(X.shape[0]):\n",
    "        sdem.update(X[t, :])\n",
    "\n",
    "    pi_est = np.array(sdem.pi_list)\n",
    "    mu_est = np.array(sdem.means_list)\n",
    "    sigma_est = np.array(sdem.covariances_list)\n",
    "    \n",
    "    #scores = [np.nan] * start\n",
    "    scores = [np.nan] * score_start\n",
    "\n",
    "    \"\"\"\n",
    "    n_cluster = pi_est.shape[1]\n",
    "    for t in range(start, X.shape[0]):\n",
    "        p = np.zeros(n_cluster)\n",
    "        for i in range(n_cluster):\n",
    "            p_i = pi_est[t-1, i] * norm(mu_est[t-1, i, :], np.sqrt(sigma_est[t-1, i, :, :])).pdf(X[t, :])\n",
    "            p[i] = p_i\n",
    "        p_tot = np.sum(p)\n",
    "        if p_tot >= 1e-16:\n",
    "            scores.append(-np.log(p_tot))\n",
    "        else:\n",
    "            scores.append(-np.log(-1.0/np.finfo(np.float).min))\n",
    "    scores = np.array(scores)\n",
    "    \"\"\"\n",
    "    #for t in range(start, pi_est.shape[0]):\n",
    "    for t in range(score_start, X.shape[0]):\n",
    "        p = np.zeros(n_cluster)\n",
    "        if n_cluster >= 2:\n",
    "            for k in range(n_cluster):\n",
    "                p_k = pi_est[t-1, k] * norm(mu_est[t-1, k, :], np.sqrt(sigma_est[t-1, k, :, :])).pdf(X[t, :])\n",
    "                p[k] = p_k\n",
    "        else:\n",
    "            p[0] = pi_est[t-1] * norm(mu_est[t-1, 0, :], np.sqrt(sigma_est[t-1, :, :])).pdf(X[t, :])\n",
    "        p_tot = np.sum(p)\n",
    "        if p_tot >= 1.0/np.finfo(float).max:\n",
    "            scores.append(-np.log(p_tot))\n",
    "        else:\n",
    "            scores.append(np.log(np.finfo(float).max))\n",
    "    scores = np.array(scores)\n",
    "    \n",
    "    return scores"
   ]
  },
  {
   "cell_type": "code",
   "execution_count": 19,
   "id": "governmental-connection",
   "metadata": {},
   "outputs": [
    {
     "data": {
      "text/plain": [
       "\"\\ndef sem(X, theta0, rho, start, end, seed):\\n    np.random.seed(seed)\\n    \\n    K = len(theta0.mu)\\n    N = X.shape[0]\\n    D = X.shape[1]\\n    \\n    theta = deepcopy(theta0)\\n    pi_est = np.nan * np.ones((N, K, 1))\\n    mu_est = np.nan * np.ones((N, K, D))\\n    sigma_est = np.nan * np.ones((N, K, D, D))\\n    \\n    s = SuffStatGMM(K, D)\\n    \\n    X_init = np.random.uniform(np.min(X[start:end, :]), np.max(X[start:end, :]), 20).reshape(-1, X.shape[1])\\n    \\n    # initialization\\n    tau = compute_tau(X_init, theta)\\n    s.s1[:], s.s2[:], s.s3[:] = compute_stat(X_init, tau)\\n\\n    \\n    inds = np.arange(N)\\n    \\n    for n in range(start, N):\\n        ind_n = inds[n]\\n        \\n        tau_indiv_new = compute_tau(X[ind_n, :].reshape(1, -1), theta).reshape(-1, 1)\\n        s2_indiv_new = np.outer(tau_indiv_new, X[ind_n, :])\\n        s3_indiv_new = np.einsum('k,ij->kij', tau_indiv_new.ravel(), np.outer(X[ind_n, :], X[ind_n, :]))\\n        \\n        if np.any(np.isnan(tau_indiv_new)):\\n            pi_est[n, :] = theta.pi.copy()\\n            mu_est[n, :, :] = theta.mu.copy()\\n            sigma_est[n, :, :, :] = theta.sigma.copy()\\n            continue\\n        \\n        if K == 1:\\n            s.s1 += rho[n] * (tau_indiv_new.ravel() - s.s1)\\n            s.s2 += rho[n] * (s2_indiv_new.ravel() - s.s2)\\n            s.s3 += rho[n] * (s3_indiv_new.ravel() - s.s3)\\n        else:\\n            s.s1 += rho[n] * (tau_indiv_new - s.s1)\\n            s.s2 += rho[n] * (s2_indiv_new - s.s2)\\n            s.s3 += rho[n] * (s3_indiv_new - s.s3)\\n\\n        # M-step\\n        theta.pi[:], theta.mu[:], theta.sigma[:] = step_M(s, 1)\\n        pi_est[n, :] = theta.pi.copy()\\n        mu_est[n, :, :] = theta.mu.copy()\\n        sigma_est[n, :, :, :] = theta.sigma.copy()\\n        \\n    return pi_est, mu_est, sigma_est\\n\""
      ]
     },
     "execution_count": 19,
     "metadata": {},
     "output_type": "execute_result"
    }
   ],
   "source": [
    "\"\"\"\n",
    "def sem(X, theta0, rho, start, end, seed):\n",
    "    np.random.seed(seed)\n",
    "    \n",
    "    K = len(theta0.mu)\n",
    "    N = X.shape[0]\n",
    "    D = X.shape[1]\n",
    "    \n",
    "    theta = deepcopy(theta0)\n",
    "    pi_est = np.nan * np.ones((N, K, 1))\n",
    "    mu_est = np.nan * np.ones((N, K, D))\n",
    "    sigma_est = np.nan * np.ones((N, K, D, D))\n",
    "    \n",
    "    s = SuffStatGMM(K, D)\n",
    "    \n",
    "    X_init = np.random.uniform(np.min(X[start:end, :]), np.max(X[start:end, :]), 20).reshape(-1, X.shape[1])\n",
    "    \n",
    "    # initialization\n",
    "    tau = compute_tau(X_init, theta)\n",
    "    s.s1[:], s.s2[:], s.s3[:] = compute_stat(X_init, tau)\n",
    "\n",
    "    \n",
    "    inds = np.arange(N)\n",
    "    \n",
    "    for n in range(start, N):\n",
    "        ind_n = inds[n]\n",
    "        \n",
    "        tau_indiv_new = compute_tau(X[ind_n, :].reshape(1, -1), theta).reshape(-1, 1)\n",
    "        s2_indiv_new = np.outer(tau_indiv_new, X[ind_n, :])\n",
    "        s3_indiv_new = np.einsum('k,ij->kij', tau_indiv_new.ravel(), np.outer(X[ind_n, :], X[ind_n, :]))\n",
    "        \n",
    "        if np.any(np.isnan(tau_indiv_new)):\n",
    "            pi_est[n, :] = theta.pi.copy()\n",
    "            mu_est[n, :, :] = theta.mu.copy()\n",
    "            sigma_est[n, :, :, :] = theta.sigma.copy()\n",
    "            continue\n",
    "        \n",
    "        if K == 1:\n",
    "            s.s1 += rho[n] * (tau_indiv_new.ravel() - s.s1)\n",
    "            s.s2 += rho[n] * (s2_indiv_new.ravel() - s.s2)\n",
    "            s.s3 += rho[n] * (s3_indiv_new.ravel() - s.s3)\n",
    "        else:\n",
    "            s.s1 += rho[n] * (tau_indiv_new - s.s1)\n",
    "            s.s2 += rho[n] * (s2_indiv_new - s.s2)\n",
    "            s.s3 += rho[n] * (s3_indiv_new - s.s3)\n",
    "\n",
    "        # M-step\n",
    "        theta.pi[:], theta.mu[:], theta.sigma[:] = step_M(s, 1)\n",
    "        pi_est[n, :] = theta.pi.copy()\n",
    "        mu_est[n, :, :] = theta.mu.copy()\n",
    "        sigma_est[n, :, :, :] = theta.sigma.copy()\n",
    "        \n",
    "    return pi_est, mu_est, sigma_est\n",
    "\"\"\""
   ]
  },
  {
   "cell_type": "code",
   "execution_count": 20,
   "id": "concerned-collar",
   "metadata": {},
   "outputs": [],
   "source": [
    "#def sem(X, theta0, rho, start, end, seed):\n",
    "def sem(X, X_init, theta0, rho, score_start, seed):\n",
    "    np.random.seed(seed)\n",
    "    \n",
    "    K = len(theta0.mu)\n",
    "    N = X.shape[0]\n",
    "    D = X.shape[1]\n",
    "    \n",
    "    theta = deepcopy(theta0)\n",
    "    pi_est = np.nan * np.ones((N, K, 1))\n",
    "    mu_est = np.nan * np.ones((N, K, D))\n",
    "    sigma_est = np.nan * np.ones((N, K, D, D))\n",
    "    \n",
    "    s = SuffStatGMM(K, D)\n",
    "    \n",
    "    #X_init = np.random.uniform(np.min(X[start:end, :]), np.max(X[start:end, :]), 20).reshape(-1, X.shape[1])\n",
    "    #X_init = np.random.uniform(-2, 2, 20).reshape(-1, X.shape[1])\n",
    "    #X_init = X[start:end, :].reshape(-1, X.shape[1])\n",
    "    #X_init = X[:10, :].reshape(-1, X.shape[1])\n",
    "    #X_init = np.random.uniform(-2, 2, 10).reshape(-1, X.shape[1])\n",
    "    \n",
    "    # initialization\n",
    "    tau = compute_tau(X_init, theta)\n",
    "    s.s1[:], s.s2[:], s.s3[:] = compute_stat(X_init, tau)\n",
    "\n",
    "    \n",
    "    inds = np.arange(N)\n",
    "    \n",
    "    #for n in range(start, N):\n",
    "    for n in range(score_start, N):\n",
    "        ind_n = inds[n]\n",
    "        \n",
    "        tau_indiv_new = compute_tau(X[ind_n, :].reshape(1, -1), theta).reshape(-1, 1)\n",
    "        s2_indiv_new = np.outer(tau_indiv_new, X[ind_n, :])\n",
    "        s3_indiv_new = np.einsum('k,ij->kij', tau_indiv_new.ravel(), np.outer(X[ind_n, :], X[ind_n, :]))\n",
    "        \n",
    "        if np.any(np.isnan(tau_indiv_new)):\n",
    "            pi_est[n, :] = theta.pi.copy()\n",
    "            mu_est[n, :, :] = theta.mu.copy()\n",
    "            sigma_est[n, :, :, :] = theta.sigma.copy()\n",
    "            continue\n",
    "        \n",
    "        if K == 1:\n",
    "            s.s1 += rho[n] * (tau_indiv_new.ravel() - s.s1)\n",
    "            s.s2 += rho[n] * (s2_indiv_new.ravel() - s.s2)\n",
    "            s.s3 += rho[n] * (s3_indiv_new.ravel() - s.s3)\n",
    "        else:\n",
    "            \"\"\"\n",
    "            print('tau_indiv_new:', tau_indiv_new.shape)\n",
    "            print('s.s1:', s.s1.shape)\n",
    "            print('s2_indiv_new:', s2_indiv_new.shape)\n",
    "            print('s.s2:', s.s2.shape)\n",
    "            print('s3_indiv_new:', s3_indiv_new.shape)\n",
    "            print('s.s3:', s.s3.shape)\n",
    "            \"\"\"\n",
    "            s.s1 += rho[n] * (tau_indiv_new - s.s1)\n",
    "            #s.s1 += rho[n] * (tau_indiv_new.ravel() - s.s1)\n",
    "            s.s2 += rho[n] * (s2_indiv_new - s.s2)\n",
    "            s.s3 += rho[n] * (s3_indiv_new - s.s3)\n",
    "\n",
    "        # M-step\n",
    "        \"\"\"\n",
    "        print(step_M(s, 1))\n",
    "        print(theta.pi.shape)\n",
    "        print(step_M(s, X[ind_n, :])[0])\n",
    "        print(theta.mu.shape)\n",
    "        print(step_M(s, X[ind_n, :])[1])\n",
    "        print(theta.sigma.shape)\n",
    "        print(step_M(s, X[ind_n, :])[2])\n",
    "        \"\"\"\n",
    "        theta.pi[:], theta.mu[:], theta.sigma[:] = step_M(s, 1)\n",
    "        pi_est[n, :] = theta.pi.copy()\n",
    "        mu_est[n, :, :] = theta.mu.copy()\n",
    "        sigma_est[n, :, :, :] = theta.sigma.copy()\n",
    "        \n",
    "    return pi_est, mu_est, sigma_est"
   ]
  },
  {
   "cell_type": "code",
   "execution_count": 21,
   "id": "eastern-cache",
   "metadata": {},
   "outputs": [],
   "source": [
    "#def calc_scores_sem(X, theta0, r, k, start=20, end=40, seed=0):\n",
    "def calc_scores_sem(X, X_init, theta0, r, k, score_start=0, seed=0):\n",
    "    rho_const = np.repeat([r], X.shape[0])\n",
    "    #pi_est, mu_est, sigma_est = sem(X, theta0, rho_const, start, end, seed)\n",
    "    pi_est, mu_est, sigma_est = sem(X, X_init, theta0, rho_const, score_start, seed)\n",
    "    \n",
    "    #plt.plot(X.ravel())\n",
    "    #plt.plot(mu_est.ravel(), linestyle='dashed')\n",
    "    #plt.show()\n",
    "    \n",
    "    #scores = [np.nan]*start\n",
    "    scores = [np.nan]*score_start\n",
    "    #for t in range(start, pi_est.shape[0]):\n",
    "    for t in range(score_start, X.shape[0]):\n",
    "        p = np.zeros(k)\n",
    "        for i in range(k):\n",
    "            p_i = pi_est[t-1, i] * norm(mu_est[t-1, i, :], np.sqrt(sigma_est[t-1, i, :, :])).pdf(X[t, :])\n",
    "            p[i] = p_i\n",
    "        p_tot = np.sum(p)\n",
    "        if p_tot >= 1.0/np.finfo(float).max:\n",
    "            scores.append(-np.log(p_tot))\n",
    "        else:\n",
    "            scores.append(np.log(np.finfo(float).max))\n",
    "            \n",
    "    return scores\n"
   ]
  },
  {
   "cell_type": "code",
   "execution_count": 22,
   "id": "running-annotation",
   "metadata": {},
   "outputs": [],
   "source": [
    "#def sra(X, theta0, rho, gamma, t_start=50, start=20, end=40):\n",
    "def sra(X, X_init, theta0, rho, gamma, t_start=50, score_start=0):\n",
    "    K = len(theta0.mu)\n",
    "    N = X.shape[0]\n",
    "    D = X.shape[1]\n",
    "    \n",
    "    pi_est = np.nan * np.ones((N, K, 1))\n",
    "    mu_est = np.nan * np.ones((N, K, D))\n",
    "    sigma_est = np.nan * np.ones((N, K, D, D))\n",
    "    theta = deepcopy(theta0)\n",
    "    \n",
    "    s = SuffStatGMM(K, D)\n",
    "    \n",
    "    #X_init = np.random.uniform(np.min(X[start:end, :]), np.max(X[start:end, :]), 20).reshape(20, X.shape[1])\n",
    "    #X_init = np.random.uniform(-2, 2, 20).reshape(20, X.shape[1])\n",
    "    \n",
    "    # initialization\n",
    "    tau = compute_tau(X_init, theta)\n",
    "    s.s1[:], s.s2[:], s.s3[:] = compute_stat(X_init, tau)\n",
    "\n",
    "    outliers = []\n",
    "    \n",
    "    inds = np.arange(N)\n",
    "    \n",
    "    for n in range(score_start, N):\n",
    "        ind_n = inds[n]\n",
    "        \n",
    "        tau_indiv_new = compute_tau(X[ind_n, :].reshape(1, -1), theta).reshape(-1, 1)\n",
    "        s2_indiv_new = np.outer(tau_indiv_new, X[ind_n, :])\n",
    "        s3_indiv_new = np.einsum('k,ij->kij', tau_indiv_new.ravel(), np.outer(X[ind_n, :], X[ind_n, :]))\n",
    "        \n",
    "        #if ( np.any(np.isnan(tau_indiv_new)) ) | ( (n >= t_start) &  (np.linalg.norm(s2_indiv_new - s.s2) >= gamma) ):\n",
    "        if ( np.any(np.isnan(tau_indiv_new)) ) | ( (n >= t_start) &  (np.linalg.norm(s2_indiv_new - s.s2) >= gamma) ):\n",
    "            pi_est[n, :] = theta.pi.copy()\n",
    "            mu_est[n, :, :] = theta.mu.copy()\n",
    "            sigma_est[n, :, :, :] = theta.sigma.copy()\n",
    "            \n",
    "            outliers.append(n)\n",
    "            \n",
    "            continue\n",
    "            \n",
    "        # update the statistics\n",
    "        if K == 1:\n",
    "            s.s1 += rho[n] * (tau_indiv_new.ravel() - s.s1)\n",
    "            s.s2 += rho[n] * (s2_indiv_new.ravel() - s.s2)\n",
    "            s.s3 += rho[n] * (s3_indiv_new.ravel() - s.s3)\n",
    "        else:\n",
    "            #s.s1 += rho[n] * (tau_indiv_new.ravel() - s.s1)\n",
    "            #s.s2 += rho[n] * (s2_indiv_new.ravel() - s.s2)\n",
    "            #s.s3 += rho[n] * (s3_indiv_new.ravel() - s.s3)\n",
    "            s.s1 += rho[n] * (tau_indiv_new - s.s1)\n",
    "            s.s2 += rho[n] * (s2_indiv_new - s.s2)\n",
    "            s.s3 += rho[n] * (s3_indiv_new - s.s3)\n",
    "\n",
    "        # M-step\n",
    "        theta.pi[:], theta.mu[:], theta.sigma[:] = step_M(s, X[ind_n, :])\n",
    "        pi_est[n, :] = theta.pi.copy()\n",
    "        mu_est[n, :, :] = theta.mu.copy()\n",
    "        sigma_est[n, :, :, :] = theta.sigma.copy()\n",
    "\n",
    "    return pi_est, mu_est, sigma_est, outliers"
   ]
  },
  {
   "cell_type": "code",
   "execution_count": 23,
   "id": "efficient-round",
   "metadata": {},
   "outputs": [],
   "source": [
    "#def calc_scores_sra(X, theta0, k, gamma, ratio, M, t_start=1500, start=20, seed=0):\n",
    "def calc_scores_sra(X, X_init, theta0, k, gamma, ratio, M, t_start=50, score_start=0, seed=0):    \n",
    "    np.random.seed(seed)\n",
    "    \n",
    "    rho = ratio * np.exp(-gamma**2/M**2) / (2.0*gamma)\n",
    "    rho_const = np.repeat(rho, X.shape[0])\n",
    "    #pi_est, mu_est, sigma_est, outliers = sra(X, theta0, rho_const, gamma, t_start=t_start, start=start)\n",
    "    pi_est, mu_est, sigma_est, outliers = sra(X, X_init, theta0, rho_const, gamma, t_start=t_start, score_start=score_start)\n",
    "        \n",
    "    #scores = [np.nan] * start\n",
    "    scores = [np.nan] * score_start\n",
    "    #for t in range(start, pi_est.shape[0]):\n",
    "    for t in range(score_start, X.shape[0]):\n",
    "        if t in outliers:\n",
    "            #score_t = np.nan\n",
    "            score_t = scores[-1]\n",
    "        else:\n",
    "            p = np.zeros(k)\n",
    "            for i in range(k):\n",
    "                p_i = pi_est[t-1, i] * norm(mu_est[t-1, i, :], np.sqrt(sigma_est[t-1, i, :, :])).pdf(X[t, :])\n",
    "                p[i] = p_i\n",
    "            p_tot = np.sum(p)\n",
    "            if p_tot >= 1.0/np.finfo(float).max:\n",
    "                score_t = -np.log(p_tot)\n",
    "            else:\n",
    "                score_t = np.log(np.finfo(float).max)\n",
    "        scores.append(score_t)\n",
    "    return scores"
   ]
  },
  {
   "cell_type": "code",
   "execution_count": 24,
   "id": "lesser-enclosure",
   "metadata": {},
   "outputs": [],
   "source": [
    "def calc_metrics(means, mu1, mu2, eval_start=500, eval_end=1000, burnin=1000, N=10000):\n",
    "    ev = np.sum((means[eval_start:eval_end, :] - mu1)**2, axis=1)\n",
    "    former = np.sum((means[burnin:N, :] - mu1)**2, axis=1)\n",
    "    latter = np.sum((means[N:, :] - mu2)**2, axis=1)\n",
    "    print('former')\n",
    "    print(former.shape)\n",
    "    print(former)\n",
    "    print('latter')\n",
    "    print(latter.shape)\n",
    "    print(latter)\n",
    "    overall = np.hstack((former, latter))\n",
    "    \n",
    "    #return np.mean(ev), np.mean(former), np.mean(latter), np.mean(overall)\n",
    "    return np.nanmean(ev), np.nanmean(former), np.nanmean(latter), np.nanmean(overall)"
   ]
  },
  {
   "cell_type": "code",
   "execution_count": 25,
   "id": "superior-humidity",
   "metadata": {},
   "outputs": [],
   "source": [
    "def calc_falarms_benefit(scores, change_points, start=None, end=None, T=100, N_thr=100, eps=1e-2):\n",
    "    scores_max, scores_min = np.nanmax(scores), np.nanmin(scores)\n",
    "    threshold_list = np.linspace(scores_min - eps, scores_max + eps, N_thr)\n",
    "\n",
    "    falarms = []\n",
    "    benefits = []\n",
    "    \n",
    "    N = len(scores)\n",
    "    \n",
    "    for threshold in threshold_list:\n",
    "        binary_alarm = (np.array(scores) >= threshold)\n",
    "        \n",
    "        benefit = np.zeros(N)\n",
    "        for cp in change_points:\n",
    "            if cp < T:\n",
    "                # t = 0, ... , cp, cp+1, ..., cp+T-1\n",
    "                values = 1.0 - np.hstack((np.arange(cp, 0, -1), np.arange(T)))/T\n",
    "                benefit[:(cp+T)] = values\n",
    "            elif cp+T > N:\n",
    "                # t = cp-T, ..., cp, cp+1, ..., N-1\n",
    "                values = 1.0 - np.hstack((np.arange(T, 0, -1), np.arange(N-cp)))/T\n",
    "                benefit[(cp-T):] = values\n",
    "            else:\n",
    "                # t = cp-T, ..., cp, cp+1, ..., cp+T-1\n",
    "                values = 1.0 - np.hstack((np.arange(T, 0, -1), np.arange(T)))/T\n",
    "                benefit[(cp-T):(cp+T)] = values\n",
    "            \n",
    "        if start is not None:\n",
    "            if end is not None:\n",
    "                benefit = benefit[start:end]\n",
    "                binary_alarm = binary_alarm[start:end]\n",
    "            else:\n",
    "                benefit = benefit[start:]\n",
    "                binary_alarm = binary_alarm[start:]\n",
    "        elif end is not None:\n",
    "            benefit = benefit[:end]\n",
    "            binary_alarm = binary_alarm[:end]\n",
    "        \n",
    "        total_benefit = np.sum(binary_alarm * benefit)\n",
    "        n_falarm = np.sum(binary_alarm * (benefit == 0.0).astype(int))\n",
    "        \n",
    "        benefits.append(total_benefit/np.sum(benefit))\n",
    "        falarms.append(n_falarm/np.sum(benefit == 0.0))\n",
    "\n",
    "    benefits = np.array(benefits)    \n",
    "    falarms = np.array(falarms)\n",
    "    \n",
    "    return falarms, benefits"
   ]
  },
  {
   "cell_type": "code",
   "execution_count": 26,
   "id": "controlling-lincoln",
   "metadata": {},
   "outputs": [],
   "source": [
    "def calc_auc_main(scores, cps, start, end, T, N_thr=100):\n",
    "    falarms, benefits = calc_falarms_benefit(scores, cps, start=start, end=end, T=T, N_thr=N_thr)\n",
    "    auc_ = auc(falarms, benefits)\n",
    "\n",
    "    return auc_"
   ]
  },
  {
   "cell_type": "code",
   "execution_count": null,
   "id": "abroad-shoot",
   "metadata": {},
   "outputs": [],
   "source": []
  },
  {
   "cell_type": "code",
   "execution_count": 27,
   "id": "thrown-twins",
   "metadata": {},
   "outputs": [],
   "source": [
    "N = 10000\n",
    "alpha_ol = 0.01\n",
    "pi = np.array([0.5, 0.5])\n",
    "mu1 = np.array([0.5, -0.5])\n",
    "mu2 = np.array([1.0, -1.0])\n",
    "sigma = np.array([0.1, 0.1])\n",
    "cps = np.array([9999])\n",
    "\n",
    "u = 20\n",
    "\n",
    "X = np.zeros((2*N, 1))\n",
    "Xj_former = generate_data(N, pi, mu1, sigma)\n",
    "X[:N, 0] = Xj_former.ravel()\n",
    "#Xj_trans = np.linspace(mu1, mu2, 300).ravel() + np.random.normal(0, sigma, 300)\n",
    "Xj_trans = np.hstack([ generate_data(1, pi, mu1 + (t-N+1)/300 * (mu2-mu1), sigma) for t in range(N, N+300) ])\n",
    "X[N:(N+300), 0] = Xj_trans\n",
    "Xj_latter = generate_data(N-300, pi, mu2, sigma)\n",
    "X[N+300:, 0] = Xj_latter.ravel()\n",
    "\n",
    "#idxes_ol = np.random.choice(np.arange(N), int(alpha_ol*N))\n",
    "idxes_ol = np.random.choice(np.arange(2*N), int(alpha_ol*2*N))\n",
    "X[idxes_ol, :] = np.random.uniform(-u, u, len(idxes_ol)).reshape(-1, 1)    "
   ]
  },
  {
   "cell_type": "code",
   "execution_count": 28,
   "id": "understanding-holocaust",
   "metadata": {},
   "outputs": [
    {
     "name": "stderr",
     "output_type": "stream",
     "text": [
      "/Users/shi-fukushima/.pyenv/versions/anaconda3-5.3.1/lib/python3.7/site-packages/ipykernel_launcher.py:22: RuntimeWarning: invalid value encountered in sqrt\n"
     ]
    }
   ],
   "source": [
    "K = 2\n",
    "\n",
    "r = 0.03\n",
    "rho_const = np.repeat([r], 2*N)\n",
    "sdem = SDEM(rho_const, 1.0, n_components=2)\n",
    "#seed = i*len(r_list_sdem) + trial\n",
    "#sdem.fit(X[:10, :])\n",
    "sdem.fit(4*np.random.uniform((10, 1)).reshape(-1, 1) - 2)\n",
    "for t in range(X.shape[0]):\n",
    "    sdem.update(X[t, :])\n",
    "\n",
    "means_est_sdem = np.array(sdem.means_list).reshape(2*N, 2)\n",
    "\n",
    "pi_est = np.array(sdem.pi_list)\n",
    "sigma_est = np.array(sdem.covariances_list)\n",
    "\n",
    "scores_sdem = []\n",
    "for t in range(X.shape[0]):\n",
    "    p = np.zeros(K)\n",
    "    if K >= 2:\n",
    "        for k in range(K):\n",
    "            p_k = pi_est[t-1, k] * norm(means_est_sdem[t-1, k], np.sqrt(sigma_est[t-1, k, :, :])).pdf(X[t, :])\n",
    "            p[k] = p_k\n",
    "    else:\n",
    "        p[0] = pi_est[t-1] * norm(means_est_sdem[t-1, 0], np.sqrt(sigma_est[t-1, :, :])).pdf(X[t, :])\n",
    "    p_tot = np.sum(p)\n",
    "    if p_tot >= 1.0/np.finfo(float).max:\n",
    "        scores_sdem.append(-np.log(p_tot))\n",
    "    else:\n",
    "        scores_sdem.append(np.log(np.finfo(float).max))\n",
    "scores_sdem = np.array(scores_sdem)"
   ]
  },
  {
   "cell_type": "code",
   "execution_count": 29,
   "id": "vocational-surfing",
   "metadata": {},
   "outputs": [
    {
     "data": {
      "image/png": "[encoded data removed]",
      "text/plain": [
       "<Figure size 432x288 with 2 Axes>"
      ]
     },
     "metadata": {
      "needs_background": "light"
     },
     "output_type": "display_data"
    }
   ],
   "source": [
    "fig, axes = plt.subplots(2, 1, sharex=True)\n",
    "axes[0].plot(X.ravel())\n",
    "axes[0].plot(means_est_sdem[:, 0], linestyle='dashed')\n",
    "axes[0].plot(means_est_sdem[:, 1], linestyle='dashed')\n",
    "axes[0].set_ylim(-5, 5)\n",
    "axes[1].plot(scores_sdem)\n",
    "plt.show()"
   ]
  },
  {
   "cell_type": "code",
   "execution_count": 30,
   "id": "cloudy-ballot",
   "metadata": {},
   "outputs": [
    {
     "data": {
      "text/plain": [
       "0.49797028685419936"
      ]
     },
     "execution_count": 30,
     "metadata": {},
     "output_type": "execute_result"
    }
   ],
   "source": [
    "calc_auc_main(scores_sdem, np.array([9999]), 0, X.shape[0], T=100, N_thr=100)"
   ]
  },
  {
   "cell_type": "code",
   "execution_count": 31,
   "id": "individual-acting",
   "metadata": {},
   "outputs": [],
   "source": [
    "iem = SDEM(1.0/np.arange(1, 2*N+1), 1.0, n_components=2)\n",
    "#iem.fit(X[:10, :])\n",
    "iem.fit(4*np.random.uniform((10, 1)).reshape(-1, 1) - 2)\n",
    "for t in range(X.shape[0]):\n",
    "    iem.update(X[t, :])\n",
    "    \n",
    "means_est_iem = np.array(iem.means_list).reshape(2*N, 2)"
   ]
  },
  {
   "cell_type": "code",
   "execution_count": 32,
   "id": "continent-seeker",
   "metadata": {},
   "outputs": [
    {
     "data": {
      "image/png": "[encoded data removed]",
      "text/plain": [
       "<Figure size 432x288 with 1 Axes>"
      ]
     },
     "metadata": {
      "needs_background": "light"
     },
     "output_type": "display_data"
    }
   ],
   "source": [
    "plt.plot(X.ravel())\n",
    "plt.plot(means_est_iem[:, 0], linestyle='dashed')\n",
    "plt.plot(means_est_iem[:, 1], linestyle='dashed')\n",
    "plt.ylim(-5, 5)\n",
    "plt.show()"
   ]
  },
  {
   "cell_type": "code",
   "execution_count": 33,
   "id": "postal-picnic",
   "metadata": {},
   "outputs": [
    {
     "name": "stderr",
     "output_type": "stream",
     "text": [
      "/Users/shi-fukushima/.pyenv/versions/anaconda3-5.3.1/lib/python3.7/site-packages/ipykernel_launcher.py:32: RuntimeWarning: invalid value encountered in true_divide\n"
     ]
    }
   ],
   "source": [
    "K = 2\n",
    "\n",
    "pi0 = np.random.dirichlet([1.0]*2).reshape(-1, 1)\n",
    "\n",
    "X_init = np.array([np.hstack([ np.random.uniform(\n",
    "                                    #np.min(X[20:40, j]), \n",
    "                                    #np.max(X[20:40, j]),\n",
    "                                    -2, \n",
    "                                    2,\n",
    "                                    20).reshape(-1, 1) \n",
    "                               for j in range(X.shape[1]) ]) for _ in range(K)])\n",
    "\n",
    "mu0 = np.mean(X_init, axis=1)\n",
    "sigma0 = np.array([[[np.std(X_init[kk, :, :])]] for kk in range(K)])            \n",
    "\n",
    "theta0 = Theta(pi0, mu0, sigma0)\n",
    "\n",
    "r = 0.05\n",
    "rho_const = np.repeat([r], X.shape[0])\n",
    "#pi_est, mu_est, sigma_est = sem(X, theta0, rho_const, start=0, end=X.shape[0], seed=0)\n",
    "pi_est, mu_est, sigma_est = sem(X, X_init, theta0, rho_const, score_start=0, seed=0)"
   ]
  },
  {
   "cell_type": "code",
   "execution_count": 34,
   "id": "divine-blogger",
   "metadata": {},
   "outputs": [
    {
     "data": {
      "image/png": "[encoded data removed]",
      "text/plain": [
       "<Figure size 432x288 with 1 Axes>"
      ]
     },
     "metadata": {
      "needs_background": "light"
     },
     "output_type": "display_data"
    }
   ],
   "source": [
    "plt.plot(X.ravel())\n",
    "plt.plot(mu_est[:, 0, 0], linestyle='dashed')\n",
    "plt.plot(mu_est[:, 1, 0], linestyle='dashed')\n",
    "plt.ylim(-2, 2)\n",
    "plt.show()"
   ]
  },
  {
   "cell_type": "code",
   "execution_count": 35,
   "id": "furnished-latvia",
   "metadata": {},
   "outputs": [],
   "source": [
    "scores_sem = []\n",
    "#for t in range(start, pi_est.shape[0]):\n",
    "for t in range(X.shape[0]):\n",
    "    p = np.zeros(K)\n",
    "    for i in range(K):\n",
    "        p_i = pi_est[t-1, i] * norm(mu_est[t-1, i, :], np.sqrt(sigma_est[t-1, i, :, :])).pdf(X[t, :])\n",
    "        p[i] = p_i\n",
    "    p_tot = np.sum(p)\n",
    "    if p_tot >= 1.0/np.finfo(float).max:\n",
    "        scores_sem.append(-np.log(p_tot))\n",
    "    else:\n",
    "        scores_sem.append(np.log(np.finfo(float).max))"
   ]
  },
  {
   "cell_type": "code",
   "execution_count": 36,
   "id": "vulnerable-audit",
   "metadata": {},
   "outputs": [
    {
     "data": {
      "image/png": "[encoded data removed]",
      "text/plain": [
       "<Figure size 432x288 with 2 Axes>"
      ]
     },
     "metadata": {
      "needs_background": "light"
     },
     "output_type": "display_data"
    }
   ],
   "source": [
    "fig, axes = plt.subplots(2, 1, sharex=True)\n",
    "axes[0].plot(X.ravel())\n",
    "axes[0].plot(mu_est[:, 0, 0], linestyle='dashed')\n",
    "axes[0].plot(mu_est[:, 1, 0], linestyle='dashed')\n",
    "axes[0].set_ylim(-2, 2)\n",
    "axes[1].plot(scores_sem)\n",
    "#axes[1].set_ylim(0, 10)\n",
    "plt.show()"
   ]
  },
  {
   "cell_type": "code",
   "execution_count": 37,
   "id": "pressing-copying",
   "metadata": {},
   "outputs": [
    {
     "data": {
      "text/plain": [
       "0.5008751350941871"
      ]
     },
     "execution_count": 37,
     "metadata": {},
     "output_type": "execute_result"
    }
   ],
   "source": [
    "calc_auc_main(scores_sem, np.array([9999]), 0, X.shape[0], T=100, N_thr=100)"
   ]
  },
  {
   "cell_type": "code",
   "execution_count": 38,
   "id": "structural-nirvana",
   "metadata": {},
   "outputs": [
    {
     "name": "stderr",
     "output_type": "stream",
     "text": [
      "/Users/shi-fukushima/.pyenv/versions/anaconda3-5.3.1/lib/python3.7/site-packages/ipykernel_launcher.py:32: RuntimeWarning: invalid value encountered in true_divide\n"
     ]
    }
   ],
   "source": [
    "gamma = 3.0\n",
    "ratio = 0.3\n",
    "M = 10.0\n",
    "\n",
    "pi0 = np.random.dirichlet([1.0]*2).reshape(-1, 1)\n",
    "X_init = np.array([np.hstack([ np.random.uniform(\n",
    "                                    #np.min(X[20:40, j]), \n",
    "                                    #np.max(X[20:40, j]), \n",
    "                                    -5, 5, \n",
    "                                    20).reshape(-1, 1) \n",
    "                               for j in range(X.shape[1]) ]) for _ in range(K)])\n",
    "\n",
    "mu0 = np.mean(X_init, axis=1)\n",
    "sigma0 = np.array([[[np.std(X_init[kk, :, :])]] for kk in range(K)])            \n",
    "\n",
    "theta0 = Theta(pi0, mu0, sigma0)\n",
    "\n",
    "rho = ratio * np.exp(-gamma**2/M**2) / (2.0*gamma)\n",
    "rho_const = np.repeat(rho, X.shape[0])\n",
    "#pi_est, mu_est, sigma_est, outliers = sra(X, theta0, rho_const, gamma, t_start=20, start=0)\n",
    "pi_est, mu_est, sigma_est, outliers = sra(X, X_init, theta0, rho_const, gamma, t_start=50, score_start=0)"
   ]
  },
  {
   "cell_type": "code",
   "execution_count": 39,
   "id": "expanded-matthew",
   "metadata": {},
   "outputs": [
    {
     "data": {
      "text/plain": [
       "0.04569655926356141"
      ]
     },
     "execution_count": 39,
     "metadata": {},
     "output_type": "execute_result"
    }
   ],
   "source": [
    "rho"
   ]
  },
  {
   "cell_type": "code",
   "execution_count": 40,
   "id": "certified-setup",
   "metadata": {},
   "outputs": [],
   "source": [
    "scores_sra = []\n",
    "for t in range(X.shape[0]):\n",
    "    if t in outliers:\n",
    "        #score_t = np.nan\n",
    "        score_t = scores_sra[-1]\n",
    "    else:\n",
    "        p = np.zeros(K)\n",
    "        for i in range(K):\n",
    "            p_i = pi_est[t-1, i] * norm(mu_est[t-1, i, :], np.sqrt(sigma_est[t-1, i, :, :])).pdf(X[t, :])\n",
    "            p[i] = p_i\n",
    "        p_tot = np.sum(p)\n",
    "        if p_tot >= 1.0/np.finfo(float).max:\n",
    "            score_t = -np.log(p_tot)\n",
    "        else:\n",
    "            score_t = np.log(np.finfo(float).max)\n",
    "    scores_sra.append(score_t)"
   ]
  },
  {
   "cell_type": "code",
   "execution_count": 41,
   "id": "functioning-gentleman",
   "metadata": {},
   "outputs": [
    {
     "data": {
      "image/png": "[encoded data removed]",
      "text/plain": [
       "<Figure size 432x288 with 2 Axes>"
      ]
     },
     "metadata": {
      "needs_background": "light"
     },
     "output_type": "display_data"
    }
   ],
   "source": [
    "fig, axes = plt.subplots(2, 1, sharex=True)\n",
    "axes[0].plot(X.ravel())\n",
    "axes[0].plot(mu_est[:, 0, 0], linestyle='dashed')\n",
    "axes[0].plot(mu_est[:, 1, 0], linestyle='dashed')\n",
    "axes[0].set_ylim(-2, 2)\n",
    "axes[1].plot(scores_sra)\n",
    "plt.show()"
   ]
  },
  {
   "cell_type": "code",
   "execution_count": 42,
   "id": "cooked-basement",
   "metadata": {},
   "outputs": [
    {
     "data": {
      "text/plain": [
       "0.5062510378263725"
      ]
     },
     "execution_count": 42,
     "metadata": {},
     "output_type": "execute_result"
    }
   ],
   "source": [
    "calc_auc_main(scores_sra, np.array([9999]), 0, X.shape[0], T=100, N_thr=100)"
   ]
  },
  {
   "cell_type": "code",
   "execution_count": null,
   "id": "surprising-peace",
   "metadata": {},
   "outputs": [],
   "source": []
  },
  {
   "cell_type": "markdown",
   "id": "communist-jimmy",
   "metadata": {},
   "source": [
    "## AUC"
   ]
  },
  {
   "cell_type": "code",
   "execution_count": 43,
   "id": "oriental-problem",
   "metadata": {},
   "outputs": [],
   "source": [
    "def experiment1_comparison_auc(\n",
    "    # ADWIN\n",
    "    delta_list_adwin=[0.001, 0.002, 0.005, 0.01, 0.02, 0.05, 0.1, 0.2, 0.5], \n",
    "    # KSWIN\n",
    "    alpha_list_kswin = [0.001, 0.005, 0.01], \n",
    "    window_size_list_kswin = [20, 30], \n",
    "    stat_size_list_kswin = [10, 15], \n",
    "    # DDM\n",
    "    min_num_instances_list_ddm=[10, 20, 30, 40, 50, 100], \n",
    "    # EDDM\n",
    "    min_num_instances_list_eddm=[10, 20, 30, 40, 50, 100],\n",
    "    # Page-Hinkley\n",
    "    threshold_list_ph=[10, 20, 30, 40, 50, 60, 70, 80, 90, 100], \n",
    "    # SDEM\n",
    "    r_list_sdem=[0.0001, 0.001, 0.005, 0.01], \n",
    "    # SEM\n",
    "    r_list_sem=[0.01, 0.05, 0.1],\n",
    "    # SRA\n",
    "    gamma_list_sra=[1, 3, 5, 10, 15], \n",
    "    #gamma_list_sra=[0.5, 0.8, 1, 3], \n",
    "    ratio_list_sra=[0.1, 0.2, 0.3, 0.5], \n",
    "    M_list_sra=[5, 10, 15], \n",
    "    #gamma=3.0, \n",
    "    #ratio=0.1, \n",
    "    #M=5.0, \n",
    "    u=10, \n",
    "    N=10000,\n",
    "    alpha_ol=0.01, # ratio of outliers\n",
    "    burnin=1000,\n",
    "    pi=np.array([0.5, 0.5]),\n",
    "    mu1=np.array([0.5, -0.5]),\n",
    "    mu2=np.array([1.0, -1.0]),\n",
    "    sigma = np.array([0.1, 0.1]),\n",
    "    cps=np.array([9999]),\n",
    "    #start=0, \n",
    "    #end=None,\n",
    "    score_start=0,\n",
    "    score_end=None, \n",
    "    K=2, \n",
    "    T=100,\n",
    "    N_thr=1000,\n",
    "    n_trial=10):\n",
    "\n",
    "    auc_adwin = []\n",
    "    auc_kswin = []\n",
    "    auc_ddm = []\n",
    "    auc_eddm = []\n",
    "    auc_ph = []\n",
    "    auc_sdem = []\n",
    "    auc_iem = []\n",
    "    auc_sem = []\n",
    "    auc_sra = []\n",
    "    \n",
    "    time_adwin = []\n",
    "    time_kswin = []\n",
    "    time_ddm = []\n",
    "    time_eddm = []\n",
    "    time_ph = []\n",
    "    time_sdem = []\n",
    "    time_iem = []\n",
    "    time_sem = []\n",
    "    time_sra = []\n",
    "    \n",
    "    for trial in tqdm.tqdm(range(n_trial)):\n",
    "        # generate data\n",
    "        np.random.seed(trial)\n",
    "        X = np.zeros((2*N, 1))\n",
    "        Xj_former = generate_data(N, pi, mu1, sigma)\n",
    "        X[:N, 0] = Xj_former.ravel()\n",
    "        #Xj_trans = np.linspace(mu1, mu2, 300).ravel() + np.random.normal(0, sigma, 300)\n",
    "        Xj_trans = np.hstack([ generate_data(1, pi, mu1 + (t-N+1)/300 * (mu2-mu1), sigma) for t in range(N, N+300) ])\n",
    "        X[N:(N+300), 0] = Xj_trans\n",
    "        Xj_latter = generate_data(N-300, pi, mu2, sigma)\n",
    "        X[N+300:, 0] = Xj_latter.ravel()\n",
    "\n",
    "        idxes_ol = np.random.choice(np.arange(2*N), int(alpha_ol*2*N))\n",
    "        X[idxes_ol, :] = np.random.uniform(-u, u, len(idxes_ol)).reshape(-1, 1)\n",
    "        \n",
    "        print('# ADWIN')\n",
    "        time_adwin_each = []\n",
    "        for i, delta in enumerate(delta_list_adwin):\n",
    "            #print(f\"delta = {delta}\")\n",
    "            score_list_adwin = []\n",
    "            \n",
    "            time_start = time.time()\n",
    "            \n",
    "            adwin = ADWIN(delta=delta)\n",
    "            for t, x in enumerate(X.ravel()):\n",
    "                adwin.add_element(x)\n",
    "                \n",
    "                score_list_adwin.append(adwin._width)\n",
    "                \n",
    "                #if adwin.detected_change():\n",
    "                #    score = 1.0\n",
    "                #else:\n",
    "                #    score = 0.0\n",
    "                #   \n",
    "                #score_list_adwin.append(score)\n",
    "            \n",
    "            time_end = time.time()\n",
    "            time_adwin_each.append(time_end - time_start)\n",
    "            \n",
    "            score_list_adwin = np.hstack((np.nan, np.abs(np.diff(score_list_adwin))))\n",
    "            \n",
    "            #ev, former, latter, total = calc_metrics(np.vstack(score_list_adwin), mu1, mu2, eval_start, eval_end, burnin)\n",
    "            #auc_ = calc_auc_main(score_list_adwin, cps, start, end, T, N_thr)\n",
    "            auc_ = calc_auc_main(score_list_adwin, cps, score_start, score_end, T, N_thr)\n",
    "            #auc_adwin[trial, i] = auc_\n",
    "            auc_adwin.append([trial, delta, auc_])\n",
    "        \n",
    "        time_adwin.append(time_adwin_each)\n",
    "        \n",
    "        print('# KSWIN')\n",
    "        time_kswin_each = []\n",
    "        for i, alpha in enumerate(alpha_list_kswin):\n",
    "            for j, window_size in enumerate(window_size_list_kswin):\n",
    "                for k, stat_size in enumerate(stat_size_list_kswin):\n",
    "                    score_list_kswin = []\n",
    "                    \n",
    "                    time_start = time.time()\n",
    "                    \n",
    "                    kswin = KSWIN(alpha=alpha, window_size=window_size, stat_size=stat_size)\n",
    "                    for t, x in enumerate(X.ravel()):\n",
    "                        kswin.add_element(x)\n",
    "                        \n",
    "                        #if kswin.detected_change():\n",
    "                        #    score = 1.0\n",
    "                        #else:\n",
    "                        #    score = 0.0\n",
    "                        currentLength = kswin.window.shape[0]\n",
    "                        if currentLength >= kswin.window_size:\n",
    "                            window = np.delete(kswin.window, 0)\n",
    "                            rnd_window = np.random.choice(kswin.window[:stat_size], stat_size)\n",
    "\n",
    "                            (st, p_value) = ks_2samp(rnd_window, kswin.window[-stat_size:], mode=\"exact\")\n",
    "\n",
    "                            score = 1.0 - p_value\n",
    "                        else:\n",
    "                            score = 0.0\n",
    "                        \n",
    "                        score_list_kswin.append(score)\n",
    "                    \n",
    "                    #score_list_kswin = np.hstack((np.nan, np.abs(np.diff(score_list_kswin))))\n",
    "                    \n",
    "                    time_end = time.time()\n",
    "                    time_kswin_each.append(time_end - time_start)\n",
    "                    \n",
    "                    #auc_ = calc_auc_main(score_list_kswin, cps, start, end, T, N_thr)\n",
    "                    auc_ = calc_auc_main(score_list_kswin, cps, score_start, score_end, T, N_thr)\n",
    "                    auc_kswin.append([trial, alpha, window_size, stat_size, auc_])\n",
    "        \n",
    "        time_kswin.append(time_kswin_each)\n",
    "        \n",
    "        print('# DDM')\n",
    "        time_ddm_each = []\n",
    "        for i, min_num_instances in enumerate(min_num_instances_list_ddm):\n",
    "            score_list_ddm = []\n",
    "            \n",
    "            time_start = time.time()\n",
    "            ddm = DDM(min_num_instances=min_num_instances)\n",
    "            err = 0\n",
    "            for t in range(X.shape[0]):\n",
    "                ddm.add_element(err)\n",
    "                score_t = ddm.miss_prob + ddm.miss_std - ddm.miss_prob_min - ddm.out_control_level*ddm.miss_sd_min\n",
    "                score_list_ddm.append(score_t)\n",
    "\n",
    "                if ddm.detected_change():\n",
    "                    #if t in [9999]:\n",
    "                    if t in np.hstack((idxes_ol, N-1)):\n",
    "                        err = 0\n",
    "                    else:\n",
    "                        err = 1\n",
    "                else:\n",
    "                    #if t in [9999]:\n",
    "                    if t in np.hstack((idxes_ol, N-1)):\n",
    "                        err = 1\n",
    "                    else:\n",
    "                        err = 0\n",
    "            time_end = time.time()\n",
    "            time_ddm_each.append(time_end - time_start)\n",
    "\n",
    "            #ev, former, latter, total = calc_metrics(score_list_ddm, mu1, mu2, eval_start, eval_end, burnin)\n",
    "            #auc_ = calc_auc_main(score_list_ddm, cps, start, end, T, N_thr)\n",
    "            auc_ = calc_auc_main(score_list_ddm, cps, score_start, score_end, T, N_thr)\n",
    "            #auc_ddm[trial, i] = auc_\n",
    "            auc_ddm.append([trial, min_num_instances, auc_])\n",
    "        \n",
    "        time_ddm.append(time_ddm_each)\n",
    "        \n",
    "        print('# EDDM')\n",
    "        time_eddm_each = []\n",
    "        for i, min_num_instances in enumerate(min_num_instances_list_ddm):\n",
    "            #print(f\"min_num_instances = {min_num_instances}\")\n",
    "            score_list_eddm = []\n",
    "            \n",
    "            time_start = time.time()\n",
    "            eddm = EDDM()\n",
    "            err = 0.0\n",
    "            for t in range(X.shape[0]):\n",
    "                eddm.add_element(err)\n",
    "                score_t = eddm.m_num_errors - eddm.m_min_num_errors\n",
    "\n",
    "                score_list_eddm.append(score_t)\n",
    "                if eddm.detected_change():\n",
    "                    #print(f\"t = {t}\")\n",
    "                    #if t in [9999]:\n",
    "                    if t in np.hstack((idxes_ol, N-1)):\n",
    "                        err = 0\n",
    "                    else:\n",
    "                        err = 1\n",
    "                else:\n",
    "                    #if t in [9999]:\n",
    "                    if t in np.hstack((idxes_ol, N-1)):\n",
    "                        err = 1\n",
    "                    else:\n",
    "                        err = 0\n",
    "            time_end = time.time()\n",
    "            time_eddm_each.append(time_end - time_start)\n",
    "\n",
    "            #ev, former, latter, total = calc_metrics(score_list_eddm, mu1, mu2, eval_start, eval_end, burnin)\n",
    "            #auc_ = calc_auc_main(score_list_eddm, cps, start, end, T, N_thr)\n",
    "            auc_ = calc_auc_main(score_list_eddm, cps, score_start, score_end, T, N_thr)\n",
    "            #auc_eddm[trial, i] = auc_\n",
    "            auc_eddm.append([trial, min_num_instances, auc_])\n",
    "\n",
    "        time_eddm.append(time_eddm_each)\n",
    "\n",
    "        print('# Page-Hinkley')\n",
    "        time_ph_each = []\n",
    "        for i, threshold in enumerate(threshold_list_ph):\n",
    "            score_list_ph = []\n",
    "            \n",
    "            time_start = time.time()\n",
    "            ph = PageHinkley()\n",
    "            for t in range(X.shape[0]):\n",
    "                ph.add_element(X[t, :])\n",
    "                score_t = ph.sum - threshold\n",
    "                score_list_ph.append(score_t)\n",
    "\n",
    "            time_end = time.time()\n",
    "            time_ph_each.append(time_end - time_start)\n",
    "            \n",
    "            #ev, former, latter, total = calc_metrics(score_list_ph, mu1, mu2, eval_start, eval_end, burnin)\n",
    "            #auc_ = calc_auc_main(score_list_ph, cps, start, end, T, N_thr)\n",
    "            auc_ = calc_auc_main(score_list_ph, cps, score_start, score_end, T, N_thr)\n",
    "            #auc_ph[trial, i] = auc_\n",
    "            auc_ph.append([trial, threshold, auc_])\n",
    "        \n",
    "        time_ph.append(time_ph_each)\n",
    "        \n",
    "        print('# SDEM')\n",
    "        time_sdem_each = []\n",
    "        for i, r in enumerate(r_list_sdem):\n",
    "            time_start = time.time()\n",
    "            rho_const = np.repeat([r], 2*N)\n",
    "            sdem = SDEM(rho_const, 1.0, n_components=K)\n",
    "            seed = i*len(r_list_sdem) + trial\n",
    "            \n",
    "            #X_init = np.array([np.hstack([ np.random.uniform(\n",
    "            #                                    #np.min(X[20:40, j]), \n",
    "            #                                    #np.max(X[20:40, j]), \n",
    "            #                                    -5, 5, \n",
    "            #                                    20).reshape(-1, 1) \n",
    "            #                               for j in range(X.shape[1]) ]) for _ in range(K)])\n",
    "            X_init = np.random.uniform(\n",
    "                        #np.min(X[20:40, j]), \n",
    "                        #np.max(X[20:40, j]), \n",
    "                        -5, 5, \n",
    "                     20).reshape(-1, 1) \n",
    "            \n",
    "            #scores_sdem = calc_scores_sdem(X, r, n_cluster=K, start=0, alpha=1.0, seed=seed)\n",
    "            scores_sdem = calc_scores_sdem(X, X_init, r, n_cluster=K, score_start=score_start, alpha=1.0, seed=seed)\n",
    "            time_end = time.time()\n",
    "            \n",
    "            time_sdem_each.append(time_end - time_start)\n",
    "            \n",
    "            #auc_ = calc_auc_main(scores_sdem, cps, start, end, T, N_thr)\n",
    "            auc_ = calc_auc_main(scores_sdem, cps, score_start, score_end, T, N_thr)\n",
    "            auc_sdem.append([trial, r, auc_])\n",
    "\n",
    "        time_sdem.append(time_sdem_each)\n",
    "        \n",
    "        print('# IEM')\n",
    "        time_iem_each = []\n",
    "        \n",
    "        time_start = time.time()\n",
    "        iem = SDEM(1.0/np.arange(1, 2*N+1), 1.0, n_components=K)\n",
    "        #scores_iem = calc_scores_iem(X, n_cluster=K, start=0, seed=trial)\n",
    "        \n",
    "        #X_init = np.array([np.hstack([ np.random.uniform(\n",
    "        #                                    #np.min(X[20:40, j]), \n",
    "        #                                    #np.max(X[20:40, j]), \n",
    "        #                                    -5, 5, \n",
    "        #                                    20).reshape(-1, 1) \n",
    "        #                               for j in range(X.shape[1]) ]) for _ in range(K)])\n",
    "        X_init = np.random.uniform(\n",
    "                    #np.min(X[20:40, j]), \n",
    "                    #np.max(X[20:40, j]), \n",
    "                    -5, 5, \n",
    "                 20).reshape(-1, 1) \n",
    "        \n",
    "        scores_iem = calc_scores_iem(X, X_init, n_cluster=K, score_start=score_start, seed=trial)\n",
    "        time_end = time.time()\n",
    "        \n",
    "        time_iem_each.append(time_end - time_start)\n",
    "        \n",
    "        #auc_ = calc_auc_main(scores_iem, cps, start, end, T, N_thr)\n",
    "        auc_ = calc_auc_main(scores_iem, cps, score_start, score_end, T, N_thr)\n",
    "        auc_iem.append([trial, auc_])\n",
    "        \n",
    "        time_iem.append(time_iem_each)\n",
    "        \n",
    "        print('# SEM')\n",
    "        time_sem_each = []\n",
    "        for i, r in enumerate(r_list_sem):\n",
    "            seed = i*len(r_list_sem) + trial\n",
    "            np.random.seed(seed)\n",
    "\n",
    "            time_start = time.time()\n",
    "            #pi0 = np.array([1.0]).reshape(-1, 1)\n",
    "            #X_init = np.random.uniform(np.min(X[20:40, :]), np.max(X[20:40, :]), 20).reshape(20, X.shape[1])\n",
    "            \n",
    "            #mu0 = [np.mean(X_init)]\n",
    "            #sigma0 = np.array([[np.std(X_init)]])\n",
    "            pi0 = np.random.dirichlet([1.0]*2).reshape(-1, 1)\n",
    "            #X_init = np.random.uniform(np.min(X[20:40, :]), np.max(X[20:40, :]), 20).reshape(20, X.shape[1])\n",
    "            #X_init = np.random.uniform(-2, 2, 20).reshape(20, X.shape[1])\n",
    "            \n",
    "            #mu0 = np.sort(np.random.uniform(np.min(X_init), np.max(X_init), 2))[::-1].reshape(-1, 1)\n",
    "            #sigma0 = np.array([[[np.std(X_init)]], [[np.std(X_init)]]])\n",
    "\n",
    "            X_init = np.array([np.hstack([ np.random.uniform(\n",
    "                                                #np.min(X[20:40, j]), \n",
    "                                                #np.max(X[20:40, j]), \n",
    "                                                -5, 5, \n",
    "                                                20).reshape(-1, 1) \n",
    "                                           for j in range(X.shape[1]) ]) for _ in range(K)])\n",
    "\n",
    "            mu0 = np.mean(X_init, axis=1)\n",
    "            sigma0 = np.array([[[np.std(X_init[kk, :, :])]] for kk in range(K)])            \n",
    "\n",
    "            theta0 = Theta(pi0, mu0, sigma0)\n",
    "\n",
    "            #scores_sem = calc_scores_sem(X, theta0, r, k=K, seed=seed)\n",
    "            scores_sem = calc_scores_sem(X, X_init, theta0, r, k=K, score_start=score_start, seed=seed)\n",
    "            \n",
    "            time_end = time.time()\n",
    "            time_sem_each.append(time_end - time_start)\n",
    "            \n",
    "            #auc_ = calc_auc_main(scores_sem, cps, start, end, T, N_thr)\n",
    "            auc_ = calc_auc_main(scores_sem, cps, start=score_start, end=score_end, T=T, N_thr=N_thr)\n",
    "            auc_sem.append([trial, r, auc_])\n",
    "            \n",
    "        time_sem.append(time_sem_each)\n",
    "        \n",
    "        print('# SRA')\n",
    "        time_sra_each = []\n",
    "        for j, gamma in enumerate(gamma_list_sra):\n",
    "            #ratio_list = [0.01*gamma, 0.03*gamma, 0.05*gamma, 0.1*gamma]\n",
    "            #M_list = [gamma, 2*gamma, 4*gamma]\n",
    "            for l, ratio in enumerate(ratio_list_sra):\n",
    "                for m, M in enumerate(M_list_sra):\n",
    "                    seed = j*len(gamma_list_sra) + l*len(ratio_list_sra) + m * len(M_list_sra) + trial\n",
    "                    \n",
    "                    np.random.seed(seed)\n",
    "                    \n",
    "                    time_start = time.time()\n",
    "                    #pi0 = np.array([1.0])\n",
    "                    #X_init = np.random.uniform(np.min(X[20:40, :]), np.max(X[20:40, :]), 20)\n",
    "                    #mu0 = np.array([np.mean(X_init)])\n",
    "                    #sigma0 = np.array([[np.var(X_init)]])\n",
    "\n",
    "                    #theta0 = Theta(pi0, mu0, sigma0)\n",
    "\n",
    "                    pi0 = np.random.dirichlet([1.0]*2).reshape(-1, 1)\n",
    "                    X_init = np.array([np.hstack([ np.random.uniform(\n",
    "                                                        #np.min(X[20:40, j]), \n",
    "                                                        #np.max(X[20:40, j]), \n",
    "                                                        -5, 5, \n",
    "                                                        20).reshape(-1, 1) \n",
    "                                                   for j in range(X.shape[1]) ]) for _ in range(K)])\n",
    "\n",
    "                    mu0 = np.mean(X_init, axis=1)\n",
    "                    sigma0 = np.array([[[np.std(X_init[kk, :, :])]] for kk in range(K)])            \n",
    "\n",
    "                    theta0 = Theta(pi0, mu0, sigma0)\n",
    "\n",
    "                    #scores_sra = calc_scores_sra(X, theta0, k=K, gamma=gamma, ratio=ratio, M=M, seed=seed)\n",
    "                    scores_sra = calc_scores_sra(X, X_init, theta0, k=K, gamma=gamma, ratio=ratio, M=M, \n",
    "                                                 score_start=score_start, seed=seed)\n",
    "\n",
    "                    time_end = time.time()\n",
    "                    time_sra_each.append(time_end - time_start)\n",
    "                    \n",
    "                    #auc_ = calc_auc_main(scores_sra, cps, start, end, T, N_thr)\n",
    "                    auc_ = calc_auc_main(scores_sra, cps, start=score_start, end=score_end, T=T, N_thr=N_thr)\n",
    "                    auc_sra.append([trial, gamma, ratio, M, auc_])\n",
    "\n",
    "        time_sra.append(time_sra_each)            \n",
    "        \n",
    "    auc_adwin_df = pd.DataFrame(auc_adwin, columns=['trial', 'delta', 'auc'])\n",
    "    auc_kswin_df = pd.DataFrame(auc_kswin, columns=['trial', 'alpha', 'window_size', 'stat_size', 'auc'])\n",
    "    auc_ddm_df = pd.DataFrame(auc_ddm, columns=['trial', 'min_num_instances', 'auc'])\n",
    "    auc_eddm_df = pd.DataFrame(auc_eddm, columns=['trial', 'min_num_instances', 'auc'])\n",
    "    auc_ph_df = pd.DataFrame(auc_ph, columns=['trial', 'threshold', 'auc'])\n",
    "\n",
    "    auc_sdem_df = pd.DataFrame(auc_sdem, columns=['trial', 'r', 'auc'])\n",
    "    auc_iem_df = pd.DataFrame(auc_iem, columns=['trial', 'auc'])\n",
    "    auc_sem_df = pd.DataFrame(auc_sem, columns=['trial', 'r', 'auc'])    \n",
    "    auc_sra_df = pd.DataFrame(auc_sra, columns=['trial', 'gamma', 'ratio', 'M', 'auc'])\n",
    "\n",
    "    return auc_adwin_df, auc_kswin_df, auc_ddm_df, auc_eddm_df, auc_ph_df, \\\n",
    "           auc_sdem_df, auc_iem_df, auc_sem_df, auc_sra_df, \\\n",
    "           time_adwin, time_kswin, time_ddm, time_eddm, time_ph, \\\n",
    "           time_sdem, time_iem, time_sem, time_sra"
   ]
  },
  {
   "cell_type": "code",
   "execution_count": 44,
   "id": "interested-pendant",
   "metadata": {},
   "outputs": [
    {
     "name": "stderr",
     "output_type": "stream",
     "text": [
      "  0%|          | 0/10 [00:00<?, ?it/s]"
     ]
    },
    {
     "name": "stdout",
     "output_type": "stream",
     "text": [
      "# ADWIN\n",
      "# KSWIN\n"
     ]
    },
    {
     "name": "stderr",
     "output_type": "stream",
     "text": [
      "/Users/shi-fukushima/.pyenv/versions/anaconda3-5.3.1/lib/python3.7/site-packages/scipy/stats/stats.py:6716: RuntimeWarning: ks_2samp: Exact calculation unsuccessful. Switching to mode=asymp.\n",
      "  f\"Switching to mode={mode}.\", RuntimeWarning)\n"
     ]
    },
    {
     "name": "stdout",
     "output_type": "stream",
     "text": [
      "# DDM\n"
     ]
    },
    {
     "name": "stderr",
     "output_type": "stream",
     "text": [
      "/Users/shi-fukushima/.pyenv/versions/anaconda3-5.3.1/lib/python3.7/site-packages/numpy/core/function_base.py:151: RuntimeWarning: invalid value encountered in multiply\n",
      "  y *= step\n",
      "/Users/shi-fukushima/.pyenv/versions/anaconda3-5.3.1/lib/python3.7/site-packages/numpy/core/function_base.py:161: RuntimeWarning: invalid value encountered in add\n",
      "  y += start\n"
     ]
    },
    {
     "name": "stdout",
     "output_type": "stream",
     "text": [
      "# EDDM\n",
      "# Page-Hinkley\n"
     ]
    },
    {
     "name": "stderr",
     "output_type": "stream",
     "text": [
      "/Users/shi-fukushima/.pyenv/versions/anaconda3-5.3.1/lib/python3.7/site-packages/numpy/core/_asarray.py:171: VisibleDeprecationWarning: Creating an ndarray from ragged nested sequences (which is a list-or-tuple of lists-or-tuples-or ndarrays with different lengths or shapes) is deprecated. If you meant to do this, you must specify 'dtype=object' when creating the ndarray.\n",
      "  return array(a, dtype, copy=False, order=order, subok=True)\n",
      "/Users/shi-fukushima/.pyenv/versions/anaconda3-5.3.1/lib/python3.7/site-packages/ipykernel_launcher.py:11: VisibleDeprecationWarning: Creating an ndarray from ragged nested sequences (which is a list-or-tuple of lists-or-tuples-or ndarrays with different lengths or shapes) is deprecated. If you meant to do this, you must specify 'dtype=object' when creating the ndarray.\n",
      "  # This is added back by InteractiveShellApp.init_path()\n"
     ]
    },
    {
     "name": "stdout",
     "output_type": "stream",
     "text": [
      "# SDEM\n"
     ]
    },
    {
     "name": "stderr",
     "output_type": "stream",
     "text": [
      "/Users/shi-fukushima/.pyenv/versions/anaconda3-5.3.1/lib/python3.7/site-packages/ipykernel_launcher.py:26: RuntimeWarning: invalid value encountered in sqrt\n",
      "/Users/shi-fukushima/.pyenv/versions/anaconda3-5.3.1/lib/python3.7/site-packages/ipykernel_launcher.py:26: RuntimeWarning: invalid value encountered in sqrt\n",
      "/Users/shi-fukushima/.pyenv/versions/anaconda3-5.3.1/lib/python3.7/site-packages/ipykernel_launcher.py:26: RuntimeWarning: invalid value encountered in sqrt\n",
      "/Users/shi-fukushima/.pyenv/versions/anaconda3-5.3.1/lib/python3.7/site-packages/ipykernel_launcher.py:26: RuntimeWarning: invalid value encountered in sqrt\n"
     ]
    },
    {
     "name": "stdout",
     "output_type": "stream",
     "text": [
      "# IEM\n"
     ]
    },
    {
     "name": "stderr",
     "output_type": "stream",
     "text": [
      "/Users/shi-fukushima/.pyenv/versions/anaconda3-5.3.1/lib/python3.7/site-packages/scipy/stats/_distn_infrastructure.py:1760: RuntimeWarning: divide by zero encountered in true_divide\n",
      "  x = np.asarray((x - loc)/scale, dtype=dtyp)\n"
     ]
    },
    {
     "name": "stdout",
     "output_type": "stream",
     "text": [
      "# SEM\n"
     ]
    },
    {
     "name": "stderr",
     "output_type": "stream",
     "text": [
      "/Users/shi-fukushima/.pyenv/versions/anaconda3-5.3.1/lib/python3.7/site-packages/ipykernel_launcher.py:32: RuntimeWarning: invalid value encountered in true_divide\n"
     ]
    },
    {
     "name": "stdout",
     "output_type": "stream",
     "text": [
      "# SRA\n"
     ]
    },
    {
     "name": "stderr",
     "output_type": "stream",
     "text": [
      "/Users/shi-fukushima/.pyenv/versions/anaconda3-5.3.1/lib/python3.7/site-packages/scipy/stats/_continuous_distns.py:243: RuntimeWarning: overflow encountered in square\n",
      "  return np.exp(-x**2/2.0) / _norm_pdf_C\n",
      " 10%|█         | 1/10 [1:05:50<9:52:35, 3950.66s/it]"
     ]
    },
    {
     "name": "stdout",
     "output_type": "stream",
     "text": [
      "# ADWIN\n",
      "# KSWIN\n"
     ]
    },
    {
     "name": "stderr",
     "output_type": "stream",
     "text": [
      "/Users/shi-fukushima/.pyenv/versions/anaconda3-5.3.1/lib/python3.7/site-packages/scipy/stats/stats.py:6716: RuntimeWarning: ks_2samp: Exact calculation unsuccessful. Switching to mode=asymp.\n",
      "  f\"Switching to mode={mode}.\", RuntimeWarning)\n"
     ]
    },
    {
     "name": "stdout",
     "output_type": "stream",
     "text": [
      "# DDM\n"
     ]
    },
    {
     "name": "stderr",
     "output_type": "stream",
     "text": [
      "/Users/shi-fukushima/.pyenv/versions/anaconda3-5.3.1/lib/python3.7/site-packages/numpy/core/function_base.py:151: RuntimeWarning: invalid value encountered in multiply\n",
      "  y *= step\n",
      "/Users/shi-fukushima/.pyenv/versions/anaconda3-5.3.1/lib/python3.7/site-packages/numpy/core/function_base.py:161: RuntimeWarning: invalid value encountered in add\n",
      "  y += start\n"
     ]
    },
    {
     "name": "stdout",
     "output_type": "stream",
     "text": [
      "# EDDM\n",
      "# Page-Hinkley\n"
     ]
    },
    {
     "name": "stderr",
     "output_type": "stream",
     "text": [
      "/Users/shi-fukushima/.pyenv/versions/anaconda3-5.3.1/lib/python3.7/site-packages/numpy/core/_asarray.py:171: VisibleDeprecationWarning: Creating an ndarray from ragged nested sequences (which is a list-or-tuple of lists-or-tuples-or ndarrays with different lengths or shapes) is deprecated. If you meant to do this, you must specify 'dtype=object' when creating the ndarray.\n",
      "  return array(a, dtype, copy=False, order=order, subok=True)\n",
      "/Users/shi-fukushima/.pyenv/versions/anaconda3-5.3.1/lib/python3.7/site-packages/ipykernel_launcher.py:11: VisibleDeprecationWarning: Creating an ndarray from ragged nested sequences (which is a list-or-tuple of lists-or-tuples-or ndarrays with different lengths or shapes) is deprecated. If you meant to do this, you must specify 'dtype=object' when creating the ndarray.\n",
      "  # This is added back by InteractiveShellApp.init_path()\n"
     ]
    },
    {
     "name": "stdout",
     "output_type": "stream",
     "text": [
      "# SDEM\n"
     ]
    },
    {
     "name": "stderr",
     "output_type": "stream",
     "text": [
      "/Users/shi-fukushima/.pyenv/versions/anaconda3-5.3.1/lib/python3.7/site-packages/ipykernel_launcher.py:26: RuntimeWarning: invalid value encountered in sqrt\n",
      "/Users/shi-fukushima/.pyenv/versions/anaconda3-5.3.1/lib/python3.7/site-packages/ipykernel_launcher.py:26: RuntimeWarning: invalid value encountered in sqrt\n",
      "/Users/shi-fukushima/.pyenv/versions/anaconda3-5.3.1/lib/python3.7/site-packages/ipykernel_launcher.py:26: RuntimeWarning: invalid value encountered in sqrt\n",
      "/Users/shi-fukushima/.pyenv/versions/anaconda3-5.3.1/lib/python3.7/site-packages/ipykernel_launcher.py:26: RuntimeWarning: invalid value encountered in sqrt\n"
     ]
    },
    {
     "name": "stdout",
     "output_type": "stream",
     "text": [
      "# IEM\n"
     ]
    },
    {
     "name": "stderr",
     "output_type": "stream",
     "text": [
      "/Users/shi-fukushima/.pyenv/versions/anaconda3-5.3.1/lib/python3.7/site-packages/scipy/stats/_distn_infrastructure.py:1760: RuntimeWarning: divide by zero encountered in true_divide\n",
      "  x = np.asarray((x - loc)/scale, dtype=dtyp)\n"
     ]
    },
    {
     "name": "stdout",
     "output_type": "stream",
     "text": [
      "# SEM\n"
     ]
    },
    {
     "name": "stderr",
     "output_type": "stream",
     "text": [
      "/Users/shi-fukushima/.pyenv/versions/anaconda3-5.3.1/lib/python3.7/site-packages/ipykernel_launcher.py:32: RuntimeWarning: invalid value encountered in true_divide\n"
     ]
    },
    {
     "name": "stdout",
     "output_type": "stream",
     "text": [
      "# SRA\n"
     ]
    },
    {
     "name": "stderr",
     "output_type": "stream",
     "text": [
      "/Users/shi-fukushima/.pyenv/versions/anaconda3-5.3.1/lib/python3.7/site-packages/scipy/stats/_continuous_distns.py:243: RuntimeWarning: overflow encountered in square\n",
      "  return np.exp(-x**2/2.0) / _norm_pdf_C\n",
      " 20%|██        | 2/10 [2:37:42<10:49:12, 4869.01s/it]"
     ]
    },
    {
     "name": "stdout",
     "output_type": "stream",
     "text": [
      "# ADWIN\n",
      "# KSWIN\n"
     ]
    },
    {
     "name": "stderr",
     "output_type": "stream",
     "text": [
      "/Users/shi-fukushima/.pyenv/versions/anaconda3-5.3.1/lib/python3.7/site-packages/scipy/stats/stats.py:6716: RuntimeWarning: ks_2samp: Exact calculation unsuccessful. Switching to mode=asymp.\n",
      "  f\"Switching to mode={mode}.\", RuntimeWarning)\n"
     ]
    },
    {
     "name": "stdout",
     "output_type": "stream",
     "text": [
      "# DDM\n"
     ]
    },
    {
     "name": "stderr",
     "output_type": "stream",
     "text": [
      "/Users/shi-fukushima/.pyenv/versions/anaconda3-5.3.1/lib/python3.7/site-packages/numpy/core/function_base.py:151: RuntimeWarning: invalid value encountered in multiply\n",
      "  y *= step\n",
      "/Users/shi-fukushima/.pyenv/versions/anaconda3-5.3.1/lib/python3.7/site-packages/numpy/core/function_base.py:161: RuntimeWarning: invalid value encountered in add\n",
      "  y += start\n"
     ]
    },
    {
     "name": "stdout",
     "output_type": "stream",
     "text": [
      "# EDDM\n",
      "# Page-Hinkley\n"
     ]
    },
    {
     "name": "stderr",
     "output_type": "stream",
     "text": [
      "/Users/shi-fukushima/.pyenv/versions/anaconda3-5.3.1/lib/python3.7/site-packages/numpy/core/_asarray.py:171: VisibleDeprecationWarning: Creating an ndarray from ragged nested sequences (which is a list-or-tuple of lists-or-tuples-or ndarrays with different lengths or shapes) is deprecated. If you meant to do this, you must specify 'dtype=object' when creating the ndarray.\n",
      "  return array(a, dtype, copy=False, order=order, subok=True)\n",
      "/Users/shi-fukushima/.pyenv/versions/anaconda3-5.3.1/lib/python3.7/site-packages/ipykernel_launcher.py:11: VisibleDeprecationWarning: Creating an ndarray from ragged nested sequences (which is a list-or-tuple of lists-or-tuples-or ndarrays with different lengths or shapes) is deprecated. If you meant to do this, you must specify 'dtype=object' when creating the ndarray.\n",
      "  # This is added back by InteractiveShellApp.init_path()\n"
     ]
    },
    {
     "name": "stdout",
     "output_type": "stream",
     "text": [
      "# SDEM\n"
     ]
    },
    {
     "name": "stderr",
     "output_type": "stream",
     "text": [
      "/Users/shi-fukushima/.pyenv/versions/anaconda3-5.3.1/lib/python3.7/site-packages/ipykernel_launcher.py:26: RuntimeWarning: invalid value encountered in sqrt\n",
      "/Users/shi-fukushima/.pyenv/versions/anaconda3-5.3.1/lib/python3.7/site-packages/ipykernel_launcher.py:26: RuntimeWarning: invalid value encountered in sqrt\n",
      "/Users/shi-fukushima/.pyenv/versions/anaconda3-5.3.1/lib/python3.7/site-packages/ipykernel_launcher.py:26: RuntimeWarning: invalid value encountered in sqrt\n",
      "/Users/shi-fukushima/.pyenv/versions/anaconda3-5.3.1/lib/python3.7/site-packages/ipykernel_launcher.py:26: RuntimeWarning: invalid value encountered in sqrt\n"
     ]
    },
    {
     "name": "stdout",
     "output_type": "stream",
     "text": [
      "# IEM\n"
     ]
    },
    {
     "name": "stderr",
     "output_type": "stream",
     "text": [
      "/Users/shi-fukushima/.pyenv/versions/anaconda3-5.3.1/lib/python3.7/site-packages/scipy/stats/_distn_infrastructure.py:1760: RuntimeWarning: divide by zero encountered in true_divide\n",
      "  x = np.asarray((x - loc)/scale, dtype=dtyp)\n"
     ]
    },
    {
     "name": "stdout",
     "output_type": "stream",
     "text": [
      "# SEM\n"
     ]
    },
    {
     "name": "stderr",
     "output_type": "stream",
     "text": [
      "/Users/shi-fukushima/.pyenv/versions/anaconda3-5.3.1/lib/python3.7/site-packages/ipykernel_launcher.py:32: RuntimeWarning: invalid value encountered in true_divide\n"
     ]
    },
    {
     "name": "stdout",
     "output_type": "stream",
     "text": [
      "# SRA\n"
     ]
    },
    {
     "name": "stderr",
     "output_type": "stream",
     "text": [
      "/Users/shi-fukushima/.pyenv/versions/anaconda3-5.3.1/lib/python3.7/site-packages/scipy/stats/_continuous_distns.py:243: RuntimeWarning: overflow encountered in square\n",
      "  return np.exp(-x**2/2.0) / _norm_pdf_C\n",
      " 30%|███       | 3/10 [3:56:58<9:22:02, 4817.55s/it] "
     ]
    },
    {
     "name": "stdout",
     "output_type": "stream",
     "text": [
      "# ADWIN\n",
      "# KSWIN\n"
     ]
    },
    {
     "name": "stderr",
     "output_type": "stream",
     "text": [
      "/Users/shi-fukushima/.pyenv/versions/anaconda3-5.3.1/lib/python3.7/site-packages/scipy/stats/stats.py:6716: RuntimeWarning: ks_2samp: Exact calculation unsuccessful. Switching to mode=asymp.\n",
      "  f\"Switching to mode={mode}.\", RuntimeWarning)\n"
     ]
    },
    {
     "name": "stdout",
     "output_type": "stream",
     "text": [
      "# DDM\n"
     ]
    },
    {
     "name": "stderr",
     "output_type": "stream",
     "text": [
      "/Users/shi-fukushima/.pyenv/versions/anaconda3-5.3.1/lib/python3.7/site-packages/numpy/core/function_base.py:151: RuntimeWarning: invalid value encountered in multiply\n",
      "  y *= step\n",
      "/Users/shi-fukushima/.pyenv/versions/anaconda3-5.3.1/lib/python3.7/site-packages/numpy/core/function_base.py:161: RuntimeWarning: invalid value encountered in add\n",
      "  y += start\n"
     ]
    },
    {
     "name": "stdout",
     "output_type": "stream",
     "text": [
      "# EDDM\n",
      "# Page-Hinkley\n"
     ]
    },
    {
     "name": "stderr",
     "output_type": "stream",
     "text": [
      "/Users/shi-fukushima/.pyenv/versions/anaconda3-5.3.1/lib/python3.7/site-packages/numpy/core/_asarray.py:171: VisibleDeprecationWarning: Creating an ndarray from ragged nested sequences (which is a list-or-tuple of lists-or-tuples-or ndarrays with different lengths or shapes) is deprecated. If you meant to do this, you must specify 'dtype=object' when creating the ndarray.\n",
      "  return array(a, dtype, copy=False, order=order, subok=True)\n",
      "/Users/shi-fukushima/.pyenv/versions/anaconda3-5.3.1/lib/python3.7/site-packages/ipykernel_launcher.py:11: VisibleDeprecationWarning: Creating an ndarray from ragged nested sequences (which is a list-or-tuple of lists-or-tuples-or ndarrays with different lengths or shapes) is deprecated. If you meant to do this, you must specify 'dtype=object' when creating the ndarray.\n",
      "  # This is added back by InteractiveShellApp.init_path()\n"
     ]
    },
    {
     "name": "stdout",
     "output_type": "stream",
     "text": [
      "# SDEM\n"
     ]
    },
    {
     "name": "stderr",
     "output_type": "stream",
     "text": [
      "/Users/shi-fukushima/.pyenv/versions/anaconda3-5.3.1/lib/python3.7/site-packages/ipykernel_launcher.py:26: RuntimeWarning: invalid value encountered in sqrt\n",
      "/Users/shi-fukushima/.pyenv/versions/anaconda3-5.3.1/lib/python3.7/site-packages/ipykernel_launcher.py:26: RuntimeWarning: invalid value encountered in sqrt\n",
      "/Users/shi-fukushima/.pyenv/versions/anaconda3-5.3.1/lib/python3.7/site-packages/ipykernel_launcher.py:26: RuntimeWarning: invalid value encountered in sqrt\n",
      "/Users/shi-fukushima/.pyenv/versions/anaconda3-5.3.1/lib/python3.7/site-packages/ipykernel_launcher.py:26: RuntimeWarning: invalid value encountered in sqrt\n"
     ]
    },
    {
     "name": "stdout",
     "output_type": "stream",
     "text": [
      "# IEM\n"
     ]
    },
    {
     "name": "stderr",
     "output_type": "stream",
     "text": [
      "/Users/shi-fukushima/.pyenv/versions/anaconda3-5.3.1/lib/python3.7/site-packages/scipy/stats/_distn_infrastructure.py:1760: RuntimeWarning: divide by zero encountered in true_divide\n",
      "  x = np.asarray((x - loc)/scale, dtype=dtyp)\n"
     ]
    },
    {
     "name": "stdout",
     "output_type": "stream",
     "text": [
      "# SEM\n"
     ]
    },
    {
     "name": "stderr",
     "output_type": "stream",
     "text": [
      "/Users/shi-fukushima/.pyenv/versions/anaconda3-5.3.1/lib/python3.7/site-packages/ipykernel_launcher.py:32: RuntimeWarning: invalid value encountered in true_divide\n"
     ]
    },
    {
     "name": "stdout",
     "output_type": "stream",
     "text": [
      "# SRA\n"
     ]
    },
    {
     "name": "stderr",
     "output_type": "stream",
     "text": [
      "/Users/shi-fukushima/.pyenv/versions/anaconda3-5.3.1/lib/python3.7/site-packages/scipy/stats/_continuous_distns.py:243: RuntimeWarning: overflow encountered in square\n",
      "  return np.exp(-x**2/2.0) / _norm_pdf_C\n",
      " 40%|████      | 4/10 [5:00:18<7:21:35, 4415.84s/it]"
     ]
    },
    {
     "name": "stdout",
     "output_type": "stream",
     "text": [
      "# ADWIN\n",
      "# KSWIN\n"
     ]
    },
    {
     "name": "stderr",
     "output_type": "stream",
     "text": [
      "/Users/shi-fukushima/.pyenv/versions/anaconda3-5.3.1/lib/python3.7/site-packages/scipy/stats/stats.py:6716: RuntimeWarning: ks_2samp: Exact calculation unsuccessful. Switching to mode=asymp.\n",
      "  f\"Switching to mode={mode}.\", RuntimeWarning)\n"
     ]
    },
    {
     "name": "stdout",
     "output_type": "stream",
     "text": [
      "# DDM\n"
     ]
    },
    {
     "name": "stderr",
     "output_type": "stream",
     "text": [
      "/Users/shi-fukushima/.pyenv/versions/anaconda3-5.3.1/lib/python3.7/site-packages/numpy/core/function_base.py:151: RuntimeWarning: invalid value encountered in multiply\n",
      "  y *= step\n",
      "/Users/shi-fukushima/.pyenv/versions/anaconda3-5.3.1/lib/python3.7/site-packages/numpy/core/function_base.py:161: RuntimeWarning: invalid value encountered in add\n",
      "  y += start\n"
     ]
    },
    {
     "name": "stdout",
     "output_type": "stream",
     "text": [
      "# EDDM\n",
      "# Page-Hinkley\n"
     ]
    },
    {
     "name": "stderr",
     "output_type": "stream",
     "text": [
      "/Users/shi-fukushima/.pyenv/versions/anaconda3-5.3.1/lib/python3.7/site-packages/numpy/core/_asarray.py:171: VisibleDeprecationWarning: Creating an ndarray from ragged nested sequences (which is a list-or-tuple of lists-or-tuples-or ndarrays with different lengths or shapes) is deprecated. If you meant to do this, you must specify 'dtype=object' when creating the ndarray.\n",
      "  return array(a, dtype, copy=False, order=order, subok=True)\n",
      "/Users/shi-fukushima/.pyenv/versions/anaconda3-5.3.1/lib/python3.7/site-packages/ipykernel_launcher.py:11: VisibleDeprecationWarning: Creating an ndarray from ragged nested sequences (which is a list-or-tuple of lists-or-tuples-or ndarrays with different lengths or shapes) is deprecated. If you meant to do this, you must specify 'dtype=object' when creating the ndarray.\n",
      "  # This is added back by InteractiveShellApp.init_path()\n"
     ]
    },
    {
     "name": "stdout",
     "output_type": "stream",
     "text": [
      "# SDEM\n"
     ]
    },
    {
     "name": "stderr",
     "output_type": "stream",
     "text": [
      "/Users/shi-fukushima/.pyenv/versions/anaconda3-5.3.1/lib/python3.7/site-packages/ipykernel_launcher.py:26: RuntimeWarning: invalid value encountered in sqrt\n",
      "/Users/shi-fukushima/.pyenv/versions/anaconda3-5.3.1/lib/python3.7/site-packages/ipykernel_launcher.py:26: RuntimeWarning: invalid value encountered in sqrt\n",
      "/Users/shi-fukushima/.pyenv/versions/anaconda3-5.3.1/lib/python3.7/site-packages/ipykernel_launcher.py:26: RuntimeWarning: invalid value encountered in sqrt\n",
      "/Users/shi-fukushima/.pyenv/versions/anaconda3-5.3.1/lib/python3.7/site-packages/ipykernel_launcher.py:26: RuntimeWarning: invalid value encountered in sqrt\n"
     ]
    },
    {
     "name": "stdout",
     "output_type": "stream",
     "text": [
      "# IEM\n"
     ]
    },
    {
     "name": "stderr",
     "output_type": "stream",
     "text": [
      "/Users/shi-fukushima/.pyenv/versions/anaconda3-5.3.1/lib/python3.7/site-packages/scipy/stats/_distn_infrastructure.py:1760: RuntimeWarning: divide by zero encountered in true_divide\n",
      "  x = np.asarray((x - loc)/scale, dtype=dtyp)\n"
     ]
    },
    {
     "name": "stdout",
     "output_type": "stream",
     "text": [
      "# SEM\n"
     ]
    },
    {
     "name": "stderr",
     "output_type": "stream",
     "text": [
      "/Users/shi-fukushima/.pyenv/versions/anaconda3-5.3.1/lib/python3.7/site-packages/ipykernel_launcher.py:32: RuntimeWarning: invalid value encountered in true_divide\n"
     ]
    },
    {
     "name": "stdout",
     "output_type": "stream",
     "text": [
      "# SRA\n"
     ]
    },
    {
     "name": "stderr",
     "output_type": "stream",
     "text": [
      "/Users/shi-fukushima/.pyenv/versions/anaconda3-5.3.1/lib/python3.7/site-packages/scipy/stats/_continuous_distns.py:243: RuntimeWarning: overflow encountered in square\n",
      "  return np.exp(-x**2/2.0) / _norm_pdf_C\n",
      " 50%|█████     | 5/10 [6:10:14<6:01:21, 4336.32s/it]"
     ]
    },
    {
     "name": "stdout",
     "output_type": "stream",
     "text": [
      "# ADWIN\n",
      "# KSWIN\n"
     ]
    },
    {
     "name": "stderr",
     "output_type": "stream",
     "text": [
      "/Users/shi-fukushima/.pyenv/versions/anaconda3-5.3.1/lib/python3.7/site-packages/scipy/stats/stats.py:6716: RuntimeWarning: ks_2samp: Exact calculation unsuccessful. Switching to mode=asymp.\n",
      "  f\"Switching to mode={mode}.\", RuntimeWarning)\n"
     ]
    },
    {
     "name": "stdout",
     "output_type": "stream",
     "text": [
      "# DDM\n"
     ]
    },
    {
     "name": "stderr",
     "output_type": "stream",
     "text": [
      "/Users/shi-fukushima/.pyenv/versions/anaconda3-5.3.1/lib/python3.7/site-packages/numpy/core/function_base.py:151: RuntimeWarning: invalid value encountered in multiply\n",
      "  y *= step\n",
      "/Users/shi-fukushima/.pyenv/versions/anaconda3-5.3.1/lib/python3.7/site-packages/numpy/core/function_base.py:161: RuntimeWarning: invalid value encountered in add\n",
      "  y += start\n"
     ]
    },
    {
     "name": "stdout",
     "output_type": "stream",
     "text": [
      "# EDDM\n",
      "# Page-Hinkley\n"
     ]
    },
    {
     "name": "stderr",
     "output_type": "stream",
     "text": [
      "/Users/shi-fukushima/.pyenv/versions/anaconda3-5.3.1/lib/python3.7/site-packages/numpy/core/_asarray.py:171: VisibleDeprecationWarning: Creating an ndarray from ragged nested sequences (which is a list-or-tuple of lists-or-tuples-or ndarrays with different lengths or shapes) is deprecated. If you meant to do this, you must specify 'dtype=object' when creating the ndarray.\n",
      "  return array(a, dtype, copy=False, order=order, subok=True)\n",
      "/Users/shi-fukushima/.pyenv/versions/anaconda3-5.3.1/lib/python3.7/site-packages/ipykernel_launcher.py:11: VisibleDeprecationWarning: Creating an ndarray from ragged nested sequences (which is a list-or-tuple of lists-or-tuples-or ndarrays with different lengths or shapes) is deprecated. If you meant to do this, you must specify 'dtype=object' when creating the ndarray.\n",
      "  # This is added back by InteractiveShellApp.init_path()\n"
     ]
    },
    {
     "name": "stdout",
     "output_type": "stream",
     "text": [
      "# SDEM\n"
     ]
    },
    {
     "name": "stderr",
     "output_type": "stream",
     "text": [
      "/Users/shi-fukushima/.pyenv/versions/anaconda3-5.3.1/lib/python3.7/site-packages/ipykernel_launcher.py:26: RuntimeWarning: invalid value encountered in sqrt\n",
      "/Users/shi-fukushima/.pyenv/versions/anaconda3-5.3.1/lib/python3.7/site-packages/ipykernel_launcher.py:26: RuntimeWarning: invalid value encountered in sqrt\n",
      "/Users/shi-fukushima/.pyenv/versions/anaconda3-5.3.1/lib/python3.7/site-packages/ipykernel_launcher.py:26: RuntimeWarning: invalid value encountered in sqrt\n",
      "/Users/shi-fukushima/.pyenv/versions/anaconda3-5.3.1/lib/python3.7/site-packages/ipykernel_launcher.py:26: RuntimeWarning: invalid value encountered in sqrt\n"
     ]
    },
    {
     "name": "stdout",
     "output_type": "stream",
     "text": [
      "# IEM\n"
     ]
    },
    {
     "name": "stderr",
     "output_type": "stream",
     "text": [
      "/Users/shi-fukushima/.pyenv/versions/anaconda3-5.3.1/lib/python3.7/site-packages/scipy/stats/_distn_infrastructure.py:1760: RuntimeWarning: divide by zero encountered in true_divide\n",
      "  x = np.asarray((x - loc)/scale, dtype=dtyp)\n"
     ]
    },
    {
     "name": "stdout",
     "output_type": "stream",
     "text": [
      "# SEM\n"
     ]
    },
    {
     "name": "stderr",
     "output_type": "stream",
     "text": [
      "/Users/shi-fukushima/.pyenv/versions/anaconda3-5.3.1/lib/python3.7/site-packages/ipykernel_launcher.py:32: RuntimeWarning: invalid value encountered in true_divide\n"
     ]
    },
    {
     "name": "stdout",
     "output_type": "stream",
     "text": [
      "# SRA\n"
     ]
    },
    {
     "name": "stderr",
     "output_type": "stream",
     "text": [
      "/Users/shi-fukushima/.pyenv/versions/anaconda3-5.3.1/lib/python3.7/site-packages/scipy/stats/_continuous_distns.py:243: RuntimeWarning: overflow encountered in square\n",
      "  return np.exp(-x**2/2.0) / _norm_pdf_C\n",
      " 60%|██████    | 6/10 [7:09:04<4:30:49, 4062.31s/it]"
     ]
    },
    {
     "name": "stdout",
     "output_type": "stream",
     "text": [
      "# ADWIN\n",
      "# KSWIN\n"
     ]
    },
    {
     "name": "stderr",
     "output_type": "stream",
     "text": [
      "/Users/shi-fukushima/.pyenv/versions/anaconda3-5.3.1/lib/python3.7/site-packages/scipy/stats/stats.py:6716: RuntimeWarning: ks_2samp: Exact calculation unsuccessful. Switching to mode=asymp.\n",
      "  f\"Switching to mode={mode}.\", RuntimeWarning)\n"
     ]
    },
    {
     "name": "stdout",
     "output_type": "stream",
     "text": [
      "# DDM\n"
     ]
    },
    {
     "name": "stderr",
     "output_type": "stream",
     "text": [
      "/Users/shi-fukushima/.pyenv/versions/anaconda3-5.3.1/lib/python3.7/site-packages/numpy/core/function_base.py:151: RuntimeWarning: invalid value encountered in multiply\n",
      "  y *= step\n",
      "/Users/shi-fukushima/.pyenv/versions/anaconda3-5.3.1/lib/python3.7/site-packages/numpy/core/function_base.py:161: RuntimeWarning: invalid value encountered in add\n",
      "  y += start\n"
     ]
    },
    {
     "name": "stdout",
     "output_type": "stream",
     "text": [
      "# EDDM\n",
      "# Page-Hinkley\n"
     ]
    },
    {
     "name": "stderr",
     "output_type": "stream",
     "text": [
      "/Users/shi-fukushima/.pyenv/versions/anaconda3-5.3.1/lib/python3.7/site-packages/numpy/core/_asarray.py:171: VisibleDeprecationWarning: Creating an ndarray from ragged nested sequences (which is a list-or-tuple of lists-or-tuples-or ndarrays with different lengths or shapes) is deprecated. If you meant to do this, you must specify 'dtype=object' when creating the ndarray.\n",
      "  return array(a, dtype, copy=False, order=order, subok=True)\n",
      "/Users/shi-fukushima/.pyenv/versions/anaconda3-5.3.1/lib/python3.7/site-packages/ipykernel_launcher.py:11: VisibleDeprecationWarning: Creating an ndarray from ragged nested sequences (which is a list-or-tuple of lists-or-tuples-or ndarrays with different lengths or shapes) is deprecated. If you meant to do this, you must specify 'dtype=object' when creating the ndarray.\n",
      "  # This is added back by InteractiveShellApp.init_path()\n"
     ]
    },
    {
     "name": "stdout",
     "output_type": "stream",
     "text": [
      "# SDEM\n"
     ]
    },
    {
     "name": "stderr",
     "output_type": "stream",
     "text": [
      "/Users/shi-fukushima/.pyenv/versions/anaconda3-5.3.1/lib/python3.7/site-packages/ipykernel_launcher.py:26: RuntimeWarning: invalid value encountered in sqrt\n",
      "/Users/shi-fukushima/.pyenv/versions/anaconda3-5.3.1/lib/python3.7/site-packages/ipykernel_launcher.py:26: RuntimeWarning: invalid value encountered in sqrt\n",
      "/Users/shi-fukushima/.pyenv/versions/anaconda3-5.3.1/lib/python3.7/site-packages/ipykernel_launcher.py:26: RuntimeWarning: invalid value encountered in sqrt\n",
      "/Users/shi-fukushima/.pyenv/versions/anaconda3-5.3.1/lib/python3.7/site-packages/ipykernel_launcher.py:26: RuntimeWarning: invalid value encountered in sqrt\n"
     ]
    },
    {
     "name": "stdout",
     "output_type": "stream",
     "text": [
      "# IEM\n"
     ]
    },
    {
     "name": "stderr",
     "output_type": "stream",
     "text": [
      "/Users/shi-fukushima/.pyenv/versions/anaconda3-5.3.1/lib/python3.7/site-packages/scipy/stats/_distn_infrastructure.py:1760: RuntimeWarning: divide by zero encountered in true_divide\n",
      "  x = np.asarray((x - loc)/scale, dtype=dtyp)\n"
     ]
    },
    {
     "name": "stdout",
     "output_type": "stream",
     "text": [
      "# SEM\n"
     ]
    },
    {
     "name": "stderr",
     "output_type": "stream",
     "text": [
      "/Users/shi-fukushima/.pyenv/versions/anaconda3-5.3.1/lib/python3.7/site-packages/ipykernel_launcher.py:32: RuntimeWarning: invalid value encountered in true_divide\n"
     ]
    },
    {
     "name": "stdout",
     "output_type": "stream",
     "text": [
      "# SRA\n"
     ]
    },
    {
     "name": "stderr",
     "output_type": "stream",
     "text": [
      "/Users/shi-fukushima/.pyenv/versions/anaconda3-5.3.1/lib/python3.7/site-packages/scipy/stats/_continuous_distns.py:243: RuntimeWarning: overflow encountered in square\n",
      "  return np.exp(-x**2/2.0) / _norm_pdf_C\n",
      " 70%|███████   | 7/10 [8:06:14<3:12:46, 3855.50s/it]"
     ]
    },
    {
     "name": "stdout",
     "output_type": "stream",
     "text": [
      "# ADWIN\n",
      "# KSWIN\n"
     ]
    },
    {
     "name": "stderr",
     "output_type": "stream",
     "text": [
      "/Users/shi-fukushima/.pyenv/versions/anaconda3-5.3.1/lib/python3.7/site-packages/scipy/stats/stats.py:6716: RuntimeWarning: ks_2samp: Exact calculation unsuccessful. Switching to mode=asymp.\n",
      "  f\"Switching to mode={mode}.\", RuntimeWarning)\n"
     ]
    },
    {
     "name": "stdout",
     "output_type": "stream",
     "text": [
      "# DDM\n"
     ]
    },
    {
     "name": "stderr",
     "output_type": "stream",
     "text": [
      "/Users/shi-fukushima/.pyenv/versions/anaconda3-5.3.1/lib/python3.7/site-packages/numpy/core/function_base.py:151: RuntimeWarning: invalid value encountered in multiply\n",
      "  y *= step\n",
      "/Users/shi-fukushima/.pyenv/versions/anaconda3-5.3.1/lib/python3.7/site-packages/numpy/core/function_base.py:161: RuntimeWarning: invalid value encountered in add\n",
      "  y += start\n"
     ]
    },
    {
     "name": "stdout",
     "output_type": "stream",
     "text": [
      "# EDDM\n",
      "# Page-Hinkley\n"
     ]
    },
    {
     "name": "stderr",
     "output_type": "stream",
     "text": [
      "/Users/shi-fukushima/.pyenv/versions/anaconda3-5.3.1/lib/python3.7/site-packages/numpy/core/_asarray.py:171: VisibleDeprecationWarning: Creating an ndarray from ragged nested sequences (which is a list-or-tuple of lists-or-tuples-or ndarrays with different lengths or shapes) is deprecated. If you meant to do this, you must specify 'dtype=object' when creating the ndarray.\n",
      "  return array(a, dtype, copy=False, order=order, subok=True)\n",
      "/Users/shi-fukushima/.pyenv/versions/anaconda3-5.3.1/lib/python3.7/site-packages/ipykernel_launcher.py:11: VisibleDeprecationWarning: Creating an ndarray from ragged nested sequences (which is a list-or-tuple of lists-or-tuples-or ndarrays with different lengths or shapes) is deprecated. If you meant to do this, you must specify 'dtype=object' when creating the ndarray.\n",
      "  # This is added back by InteractiveShellApp.init_path()\n"
     ]
    },
    {
     "name": "stdout",
     "output_type": "stream",
     "text": [
      "# SDEM\n"
     ]
    },
    {
     "name": "stderr",
     "output_type": "stream",
     "text": [
      "/Users/shi-fukushima/.pyenv/versions/anaconda3-5.3.1/lib/python3.7/site-packages/ipykernel_launcher.py:26: RuntimeWarning: invalid value encountered in sqrt\n",
      "/Users/shi-fukushima/.pyenv/versions/anaconda3-5.3.1/lib/python3.7/site-packages/ipykernel_launcher.py:26: RuntimeWarning: invalid value encountered in sqrt\n",
      "/Users/shi-fukushima/.pyenv/versions/anaconda3-5.3.1/lib/python3.7/site-packages/ipykernel_launcher.py:26: RuntimeWarning: invalid value encountered in sqrt\n",
      "/Users/shi-fukushima/.pyenv/versions/anaconda3-5.3.1/lib/python3.7/site-packages/ipykernel_launcher.py:26: RuntimeWarning: invalid value encountered in sqrt\n"
     ]
    },
    {
     "name": "stdout",
     "output_type": "stream",
     "text": [
      "# IEM\n"
     ]
    },
    {
     "name": "stderr",
     "output_type": "stream",
     "text": [
      "/Users/shi-fukushima/.pyenv/versions/anaconda3-5.3.1/lib/python3.7/site-packages/scipy/stats/_distn_infrastructure.py:1760: RuntimeWarning: divide by zero encountered in true_divide\n",
      "  x = np.asarray((x - loc)/scale, dtype=dtyp)\n"
     ]
    },
    {
     "name": "stdout",
     "output_type": "stream",
     "text": [
      "# SEM\n"
     ]
    },
    {
     "name": "stderr",
     "output_type": "stream",
     "text": [
      "/Users/shi-fukushima/.pyenv/versions/anaconda3-5.3.1/lib/python3.7/site-packages/ipykernel_launcher.py:32: RuntimeWarning: invalid value encountered in true_divide\n"
     ]
    },
    {
     "name": "stdout",
     "output_type": "stream",
     "text": [
      "# SRA\n"
     ]
    },
    {
     "name": "stderr",
     "output_type": "stream",
     "text": [
      "/Users/shi-fukushima/.pyenv/versions/anaconda3-5.3.1/lib/python3.7/site-packages/scipy/stats/_continuous_distns.py:243: RuntimeWarning: overflow encountered in square\n",
      "  return np.exp(-x**2/2.0) / _norm_pdf_C\n",
      " 80%|████████  | 8/10 [9:06:55<2:06:14, 3787.29s/it]"
     ]
    },
    {
     "name": "stdout",
     "output_type": "stream",
     "text": [
      "# ADWIN\n",
      "# KSWIN\n"
     ]
    },
    {
     "name": "stderr",
     "output_type": "stream",
     "text": [
      "/Users/shi-fukushima/.pyenv/versions/anaconda3-5.3.1/lib/python3.7/site-packages/scipy/stats/stats.py:6716: RuntimeWarning: ks_2samp: Exact calculation unsuccessful. Switching to mode=asymp.\n",
      "  f\"Switching to mode={mode}.\", RuntimeWarning)\n"
     ]
    },
    {
     "name": "stdout",
     "output_type": "stream",
     "text": [
      "# DDM\n"
     ]
    },
    {
     "name": "stderr",
     "output_type": "stream",
     "text": [
      "/Users/shi-fukushima/.pyenv/versions/anaconda3-5.3.1/lib/python3.7/site-packages/numpy/core/function_base.py:151: RuntimeWarning: invalid value encountered in multiply\n",
      "  y *= step\n",
      "/Users/shi-fukushima/.pyenv/versions/anaconda3-5.3.1/lib/python3.7/site-packages/numpy/core/function_base.py:161: RuntimeWarning: invalid value encountered in add\n",
      "  y += start\n"
     ]
    },
    {
     "name": "stdout",
     "output_type": "stream",
     "text": [
      "# EDDM\n",
      "# Page-Hinkley\n"
     ]
    },
    {
     "name": "stderr",
     "output_type": "stream",
     "text": [
      "/Users/shi-fukushima/.pyenv/versions/anaconda3-5.3.1/lib/python3.7/site-packages/numpy/core/_asarray.py:171: VisibleDeprecationWarning: Creating an ndarray from ragged nested sequences (which is a list-or-tuple of lists-or-tuples-or ndarrays with different lengths or shapes) is deprecated. If you meant to do this, you must specify 'dtype=object' when creating the ndarray.\n",
      "  return array(a, dtype, copy=False, order=order, subok=True)\n",
      "/Users/shi-fukushima/.pyenv/versions/anaconda3-5.3.1/lib/python3.7/site-packages/ipykernel_launcher.py:11: VisibleDeprecationWarning: Creating an ndarray from ragged nested sequences (which is a list-or-tuple of lists-or-tuples-or ndarrays with different lengths or shapes) is deprecated. If you meant to do this, you must specify 'dtype=object' when creating the ndarray.\n",
      "  # This is added back by InteractiveShellApp.init_path()\n"
     ]
    },
    {
     "name": "stdout",
     "output_type": "stream",
     "text": [
      "# SDEM\n"
     ]
    },
    {
     "name": "stderr",
     "output_type": "stream",
     "text": [
      "/Users/shi-fukushima/.pyenv/versions/anaconda3-5.3.1/lib/python3.7/site-packages/ipykernel_launcher.py:26: RuntimeWarning: invalid value encountered in sqrt\n",
      "/Users/shi-fukushima/.pyenv/versions/anaconda3-5.3.1/lib/python3.7/site-packages/ipykernel_launcher.py:26: RuntimeWarning: invalid value encountered in sqrt\n",
      "/Users/shi-fukushima/.pyenv/versions/anaconda3-5.3.1/lib/python3.7/site-packages/ipykernel_launcher.py:26: RuntimeWarning: invalid value encountered in sqrt\n",
      "/Users/shi-fukushima/.pyenv/versions/anaconda3-5.3.1/lib/python3.7/site-packages/ipykernel_launcher.py:26: RuntimeWarning: invalid value encountered in sqrt\n"
     ]
    },
    {
     "name": "stdout",
     "output_type": "stream",
     "text": [
      "# IEM\n"
     ]
    },
    {
     "name": "stderr",
     "output_type": "stream",
     "text": [
      "/Users/shi-fukushima/.pyenv/versions/anaconda3-5.3.1/lib/python3.7/site-packages/scipy/stats/_distn_infrastructure.py:1760: RuntimeWarning: divide by zero encountered in true_divide\n",
      "  x = np.asarray((x - loc)/scale, dtype=dtyp)\n"
     ]
    },
    {
     "name": "stdout",
     "output_type": "stream",
     "text": [
      "# SEM\n"
     ]
    },
    {
     "name": "stderr",
     "output_type": "stream",
     "text": [
      "/Users/shi-fukushima/.pyenv/versions/anaconda3-5.3.1/lib/python3.7/site-packages/ipykernel_launcher.py:32: RuntimeWarning: invalid value encountered in true_divide\n"
     ]
    },
    {
     "name": "stdout",
     "output_type": "stream",
     "text": [
      "# SRA\n"
     ]
    },
    {
     "name": "stderr",
     "output_type": "stream",
     "text": [
      "/Users/shi-fukushima/.pyenv/versions/anaconda3-5.3.1/lib/python3.7/site-packages/scipy/stats/_continuous_distns.py:243: RuntimeWarning: overflow encountered in square\n",
      "  return np.exp(-x**2/2.0) / _norm_pdf_C\n",
      " 90%|█████████ | 9/10 [10:06:50<1:02:07, 3727.29s/it]"
     ]
    },
    {
     "name": "stdout",
     "output_type": "stream",
     "text": [
      "# ADWIN\n",
      "# KSWIN\n"
     ]
    },
    {
     "name": "stderr",
     "output_type": "stream",
     "text": [
      "/Users/shi-fukushima/.pyenv/versions/anaconda3-5.3.1/lib/python3.7/site-packages/scipy/stats/stats.py:6716: RuntimeWarning: ks_2samp: Exact calculation unsuccessful. Switching to mode=asymp.\n",
      "  f\"Switching to mode={mode}.\", RuntimeWarning)\n"
     ]
    },
    {
     "name": "stdout",
     "output_type": "stream",
     "text": [
      "# DDM\n"
     ]
    },
    {
     "name": "stderr",
     "output_type": "stream",
     "text": [
      "/Users/shi-fukushima/.pyenv/versions/anaconda3-5.3.1/lib/python3.7/site-packages/numpy/core/function_base.py:151: RuntimeWarning: invalid value encountered in multiply\n",
      "  y *= step\n",
      "/Users/shi-fukushima/.pyenv/versions/anaconda3-5.3.1/lib/python3.7/site-packages/numpy/core/function_base.py:161: RuntimeWarning: invalid value encountered in add\n",
      "  y += start\n"
     ]
    },
    {
     "name": "stdout",
     "output_type": "stream",
     "text": [
      "# EDDM\n",
      "# Page-Hinkley\n"
     ]
    },
    {
     "name": "stderr",
     "output_type": "stream",
     "text": [
      "/Users/shi-fukushima/.pyenv/versions/anaconda3-5.3.1/lib/python3.7/site-packages/numpy/core/_asarray.py:171: VisibleDeprecationWarning: Creating an ndarray from ragged nested sequences (which is a list-or-tuple of lists-or-tuples-or ndarrays with different lengths or shapes) is deprecated. If you meant to do this, you must specify 'dtype=object' when creating the ndarray.\n",
      "  return array(a, dtype, copy=False, order=order, subok=True)\n",
      "/Users/shi-fukushima/.pyenv/versions/anaconda3-5.3.1/lib/python3.7/site-packages/ipykernel_launcher.py:11: VisibleDeprecationWarning: Creating an ndarray from ragged nested sequences (which is a list-or-tuple of lists-or-tuples-or ndarrays with different lengths or shapes) is deprecated. If you meant to do this, you must specify 'dtype=object' when creating the ndarray.\n",
      "  # This is added back by InteractiveShellApp.init_path()\n"
     ]
    },
    {
     "name": "stdout",
     "output_type": "stream",
     "text": [
      "# SDEM\n"
     ]
    },
    {
     "name": "stderr",
     "output_type": "stream",
     "text": [
      "/Users/shi-fukushima/.pyenv/versions/anaconda3-5.3.1/lib/python3.7/site-packages/ipykernel_launcher.py:26: RuntimeWarning: invalid value encountered in sqrt\n",
      "/Users/shi-fukushima/.pyenv/versions/anaconda3-5.3.1/lib/python3.7/site-packages/ipykernel_launcher.py:26: RuntimeWarning: invalid value encountered in sqrt\n",
      "/Users/shi-fukushima/.pyenv/versions/anaconda3-5.3.1/lib/python3.7/site-packages/ipykernel_launcher.py:26: RuntimeWarning: invalid value encountered in sqrt\n",
      "/Users/shi-fukushima/.pyenv/versions/anaconda3-5.3.1/lib/python3.7/site-packages/ipykernel_launcher.py:26: RuntimeWarning: invalid value encountered in sqrt\n"
     ]
    },
    {
     "name": "stdout",
     "output_type": "stream",
     "text": [
      "# IEM\n"
     ]
    },
    {
     "name": "stderr",
     "output_type": "stream",
     "text": [
      "/Users/shi-fukushima/.pyenv/versions/anaconda3-5.3.1/lib/python3.7/site-packages/scipy/stats/_distn_infrastructure.py:1760: RuntimeWarning: divide by zero encountered in true_divide\n",
      "  x = np.asarray((x - loc)/scale, dtype=dtyp)\n"
     ]
    },
    {
     "name": "stdout",
     "output_type": "stream",
     "text": [
      "# SEM\n"
     ]
    },
    {
     "name": "stderr",
     "output_type": "stream",
     "text": [
      "/Users/shi-fukushima/.pyenv/versions/anaconda3-5.3.1/lib/python3.7/site-packages/ipykernel_launcher.py:32: RuntimeWarning: invalid value encountered in true_divide\n"
     ]
    },
    {
     "name": "stdout",
     "output_type": "stream",
     "text": [
      "# SRA\n"
     ]
    },
    {
     "name": "stderr",
     "output_type": "stream",
     "text": [
      "/Users/shi-fukushima/.pyenv/versions/anaconda3-5.3.1/lib/python3.7/site-packages/scipy/stats/_continuous_distns.py:243: RuntimeWarning: overflow encountered in square\n",
      "  return np.exp(-x**2/2.0) / _norm_pdf_C\n",
      "100%|██████████| 10/10 [11:04:00<00:00, 3984.03s/it] \n"
     ]
    }
   ],
   "source": [
    "auc_adwin_df, auc_kswin_df, auc_ddm_df, auc_eddm_df, auc_ph_df, auc_sdem_df, auc_iem_df, auc_sem_df, auc_sra_df, \\\n",
    "time_adwin, time_kswin, time_ddm, time_eddm, time_ph, time_sdem, time_iem, time_sem, time_sra = experiment1_comparison_auc(u=20)"
   ]
  },
  {
   "cell_type": "code",
   "execution_count": 63,
   "id": "blond-lecture",
   "metadata": {},
   "outputs": [
    {
     "data": {
      "text/html": [
       "<div>\n",
       "<style scoped>\n",
       "    .dataframe tbody tr th:only-of-type {\n",
       "        vertical-align: middle;\n",
       "    }\n",
       "\n",
       "    .dataframe tbody tr th {\n",
       "        vertical-align: top;\n",
       "    }\n",
       "\n",
       "    .dataframe thead th {\n",
       "        text-align: right;\n",
       "    }\n",
       "</style>\n",
       "<table border=\"1\" class=\"dataframe\">\n",
       "  <thead>\n",
       "    <tr style=\"text-align: right;\">\n",
       "      <th></th>\n",
       "      <th>mean</th>\n",
       "      <th>std</th>\n",
       "    </tr>\n",
       "    <tr>\n",
       "      <th>delta</th>\n",
       "      <th></th>\n",
       "      <th></th>\n",
       "    </tr>\n",
       "  </thead>\n",
       "  <tbody>\n",
       "    <tr>\n",
       "      <th>0.001</th>\n",
       "      <td>0.499975</td>\n",
       "      <td>0.0</td>\n",
       "    </tr>\n",
       "    <tr>\n",
       "      <th>0.002</th>\n",
       "      <td>0.499975</td>\n",
       "      <td>0.0</td>\n",
       "    </tr>\n",
       "    <tr>\n",
       "      <th>0.005</th>\n",
       "      <td>0.499975</td>\n",
       "      <td>0.0</td>\n",
       "    </tr>\n",
       "    <tr>\n",
       "      <th>0.010</th>\n",
       "      <td>0.499975</td>\n",
       "      <td>0.0</td>\n",
       "    </tr>\n",
       "    <tr>\n",
       "      <th>0.020</th>\n",
       "      <td>0.499975</td>\n",
       "      <td>0.0</td>\n",
       "    </tr>\n",
       "    <tr>\n",
       "      <th>0.050</th>\n",
       "      <td>0.499975</td>\n",
       "      <td>0.0</td>\n",
       "    </tr>\n",
       "    <tr>\n",
       "      <th>0.100</th>\n",
       "      <td>0.499975</td>\n",
       "      <td>0.0</td>\n",
       "    </tr>\n",
       "    <tr>\n",
       "      <th>0.200</th>\n",
       "      <td>0.499975</td>\n",
       "      <td>0.0</td>\n",
       "    </tr>\n",
       "    <tr>\n",
       "      <th>0.500</th>\n",
       "      <td>0.499975</td>\n",
       "      <td>0.0</td>\n",
       "    </tr>\n",
       "  </tbody>\n",
       "</table>\n",
       "</div>"
      ],
      "text/plain": [
       "           mean  std\n",
       "delta               \n",
       "0.001  0.499975  0.0\n",
       "0.002  0.499975  0.0\n",
       "0.005  0.499975  0.0\n",
       "0.010  0.499975  0.0\n",
       "0.020  0.499975  0.0\n",
       "0.050  0.499975  0.0\n",
       "0.100  0.499975  0.0\n",
       "0.200  0.499975  0.0\n",
       "0.500  0.499975  0.0"
      ]
     },
     "execution_count": 63,
     "metadata": {},
     "output_type": "execute_result"
    }
   ],
   "source": [
    "auc_adwin_df.groupby('delta')['auc'].agg(['mean', 'std'])"
   ]
  },
  {
   "cell_type": "code",
   "execution_count": 64,
   "id": "indie-thirty",
   "metadata": {},
   "outputs": [
    {
     "data": {
      "text/html": [
       "<div>\n",
       "<style scoped>\n",
       "    .dataframe tbody tr th:only-of-type {\n",
       "        vertical-align: middle;\n",
       "    }\n",
       "\n",
       "    .dataframe tbody tr th {\n",
       "        vertical-align: top;\n",
       "    }\n",
       "\n",
       "    .dataframe thead th {\n",
       "        text-align: right;\n",
       "    }\n",
       "</style>\n",
       "<table border=\"1\" class=\"dataframe\">\n",
       "  <thead>\n",
       "    <tr style=\"text-align: right;\">\n",
       "      <th></th>\n",
       "      <th></th>\n",
       "      <th></th>\n",
       "      <th>mean</th>\n",
       "      <th>std</th>\n",
       "    </tr>\n",
       "    <tr>\n",
       "      <th>alpha</th>\n",
       "      <th>window_size</th>\n",
       "      <th>stat_size</th>\n",
       "      <th></th>\n",
       "      <th></th>\n",
       "    </tr>\n",
       "  </thead>\n",
       "  <tbody>\n",
       "    <tr>\n",
       "      <th rowspan=\"4\" valign=\"top\">0.001</th>\n",
       "      <th rowspan=\"2\" valign=\"top\">20</th>\n",
       "      <th>10</th>\n",
       "      <td>0.507846</td>\n",
       "      <td>0.040131</td>\n",
       "    </tr>\n",
       "    <tr>\n",
       "      <th>15</th>\n",
       "      <td>0.487624</td>\n",
       "      <td>0.022155</td>\n",
       "    </tr>\n",
       "    <tr>\n",
       "      <th rowspan=\"2\" valign=\"top\">30</th>\n",
       "      <th>10</th>\n",
       "      <td>0.513775</td>\n",
       "      <td>0.028649</td>\n",
       "    </tr>\n",
       "    <tr>\n",
       "      <th>15</th>\n",
       "      <td>0.526172</td>\n",
       "      <td>0.037861</td>\n",
       "    </tr>\n",
       "    <tr>\n",
       "      <th rowspan=\"4\" valign=\"top\">0.005</th>\n",
       "      <th rowspan=\"2\" valign=\"top\">20</th>\n",
       "      <th>10</th>\n",
       "      <td>0.515525</td>\n",
       "      <td>0.052288</td>\n",
       "    </tr>\n",
       "    <tr>\n",
       "      <th>15</th>\n",
       "      <td>0.504846</td>\n",
       "      <td>0.031676</td>\n",
       "    </tr>\n",
       "    <tr>\n",
       "      <th rowspan=\"2\" valign=\"top\">30</th>\n",
       "      <th>10</th>\n",
       "      <td>0.518486</td>\n",
       "      <td>0.060986</td>\n",
       "    </tr>\n",
       "    <tr>\n",
       "      <th>15</th>\n",
       "      <td>0.533035</td>\n",
       "      <td>0.066959</td>\n",
       "    </tr>\n",
       "    <tr>\n",
       "      <th rowspan=\"4\" valign=\"top\">0.010</th>\n",
       "      <th rowspan=\"2\" valign=\"top\">20</th>\n",
       "      <th>10</th>\n",
       "      <td>0.514407</td>\n",
       "      <td>0.041556</td>\n",
       "    </tr>\n",
       "    <tr>\n",
       "      <th>15</th>\n",
       "      <td>0.495774</td>\n",
       "      <td>0.025076</td>\n",
       "    </tr>\n",
       "    <tr>\n",
       "      <th rowspan=\"2\" valign=\"top\">30</th>\n",
       "      <th>10</th>\n",
       "      <td>0.517765</td>\n",
       "      <td>0.054163</td>\n",
       "    </tr>\n",
       "    <tr>\n",
       "      <th>15</th>\n",
       "      <td>0.519089</td>\n",
       "      <td>0.099244</td>\n",
       "    </tr>\n",
       "  </tbody>\n",
       "</table>\n",
       "</div>"
      ],
      "text/plain": [
       "                                 mean       std\n",
       "alpha window_size stat_size                    \n",
       "0.001 20          10         0.507846  0.040131\n",
       "                  15         0.487624  0.022155\n",
       "      30          10         0.513775  0.028649\n",
       "                  15         0.526172  0.037861\n",
       "0.005 20          10         0.515525  0.052288\n",
       "                  15         0.504846  0.031676\n",
       "      30          10         0.518486  0.060986\n",
       "                  15         0.533035  0.066959\n",
       "0.010 20          10         0.514407  0.041556\n",
       "                  15         0.495774  0.025076\n",
       "      30          10         0.517765  0.054163\n",
       "                  15         0.519089  0.099244"
      ]
     },
     "execution_count": 64,
     "metadata": {},
     "output_type": "execute_result"
    }
   ],
   "source": [
    "auc_kswin_df.groupby(['alpha', 'window_size', 'stat_size'])['auc'].agg(['mean', 'std'])"
   ]
  },
  {
   "cell_type": "code",
   "execution_count": 65,
   "id": "heard-bullet",
   "metadata": {},
   "outputs": [
    {
     "data": {
      "text/html": [
       "<div>\n",
       "<style scoped>\n",
       "    .dataframe tbody tr th:only-of-type {\n",
       "        vertical-align: middle;\n",
       "    }\n",
       "\n",
       "    .dataframe tbody tr th {\n",
       "        vertical-align: top;\n",
       "    }\n",
       "\n",
       "    .dataframe thead th {\n",
       "        text-align: right;\n",
       "    }\n",
       "</style>\n",
       "<table border=\"1\" class=\"dataframe\">\n",
       "  <thead>\n",
       "    <tr style=\"text-align: right;\">\n",
       "      <th></th>\n",
       "      <th>mean</th>\n",
       "      <th>std</th>\n",
       "    </tr>\n",
       "    <tr>\n",
       "      <th>min_num_instances</th>\n",
       "      <th></th>\n",
       "      <th></th>\n",
       "    </tr>\n",
       "  </thead>\n",
       "  <tbody>\n",
       "    <tr>\n",
       "      <th>10</th>\n",
       "      <td>0.0</td>\n",
       "      <td>0.0</td>\n",
       "    </tr>\n",
       "    <tr>\n",
       "      <th>20</th>\n",
       "      <td>0.0</td>\n",
       "      <td>0.0</td>\n",
       "    </tr>\n",
       "    <tr>\n",
       "      <th>30</th>\n",
       "      <td>0.0</td>\n",
       "      <td>0.0</td>\n",
       "    </tr>\n",
       "    <tr>\n",
       "      <th>40</th>\n",
       "      <td>0.0</td>\n",
       "      <td>0.0</td>\n",
       "    </tr>\n",
       "    <tr>\n",
       "      <th>50</th>\n",
       "      <td>0.0</td>\n",
       "      <td>0.0</td>\n",
       "    </tr>\n",
       "    <tr>\n",
       "      <th>100</th>\n",
       "      <td>0.0</td>\n",
       "      <td>0.0</td>\n",
       "    </tr>\n",
       "  </tbody>\n",
       "</table>\n",
       "</div>"
      ],
      "text/plain": [
       "                   mean  std\n",
       "min_num_instances           \n",
       "10                  0.0  0.0\n",
       "20                  0.0  0.0\n",
       "30                  0.0  0.0\n",
       "40                  0.0  0.0\n",
       "50                  0.0  0.0\n",
       "100                 0.0  0.0"
      ]
     },
     "execution_count": 65,
     "metadata": {},
     "output_type": "execute_result"
    }
   ],
   "source": [
    "auc_ddm_df.groupby('min_num_instances')['auc'].agg(['mean', 'std'])"
   ]
  },
  {
   "cell_type": "code",
   "execution_count": 66,
   "id": "adjustable-doctor",
   "metadata": {},
   "outputs": [
    {
     "data": {
      "text/html": [
       "<div>\n",
       "<style scoped>\n",
       "    .dataframe tbody tr th:only-of-type {\n",
       "        vertical-align: middle;\n",
       "    }\n",
       "\n",
       "    .dataframe tbody tr th {\n",
       "        vertical-align: top;\n",
       "    }\n",
       "\n",
       "    .dataframe thead th {\n",
       "        text-align: right;\n",
       "    }\n",
       "</style>\n",
       "<table border=\"1\" class=\"dataframe\">\n",
       "  <thead>\n",
       "    <tr style=\"text-align: right;\">\n",
       "      <th></th>\n",
       "      <th>mean</th>\n",
       "      <th>std</th>\n",
       "    </tr>\n",
       "    <tr>\n",
       "      <th>min_num_instances</th>\n",
       "      <th></th>\n",
       "      <th></th>\n",
       "    </tr>\n",
       "  </thead>\n",
       "  <tbody>\n",
       "    <tr>\n",
       "      <th>10</th>\n",
       "      <td>0.429794</td>\n",
       "      <td>0.254113</td>\n",
       "    </tr>\n",
       "    <tr>\n",
       "      <th>20</th>\n",
       "      <td>0.429794</td>\n",
       "      <td>0.254113</td>\n",
       "    </tr>\n",
       "    <tr>\n",
       "      <th>30</th>\n",
       "      <td>0.429794</td>\n",
       "      <td>0.254113</td>\n",
       "    </tr>\n",
       "    <tr>\n",
       "      <th>40</th>\n",
       "      <td>0.429794</td>\n",
       "      <td>0.254113</td>\n",
       "    </tr>\n",
       "    <tr>\n",
       "      <th>50</th>\n",
       "      <td>0.429794</td>\n",
       "      <td>0.254113</td>\n",
       "    </tr>\n",
       "    <tr>\n",
       "      <th>100</th>\n",
       "      <td>0.429794</td>\n",
       "      <td>0.254113</td>\n",
       "    </tr>\n",
       "  </tbody>\n",
       "</table>\n",
       "</div>"
      ],
      "text/plain": [
       "                       mean       std\n",
       "min_num_instances                    \n",
       "10                 0.429794  0.254113\n",
       "20                 0.429794  0.254113\n",
       "30                 0.429794  0.254113\n",
       "40                 0.429794  0.254113\n",
       "50                 0.429794  0.254113\n",
       "100                0.429794  0.254113"
      ]
     },
     "execution_count": 66,
     "metadata": {},
     "output_type": "execute_result"
    }
   ],
   "source": [
    "auc_eddm_df.groupby('min_num_instances')['auc'].agg(['mean', 'std'])"
   ]
  },
  {
   "cell_type": "code",
   "execution_count": 67,
   "id": "radio-residence",
   "metadata": {},
   "outputs": [
    {
     "data": {
      "text/html": [
       "<div>\n",
       "<style scoped>\n",
       "    .dataframe tbody tr th:only-of-type {\n",
       "        vertical-align: middle;\n",
       "    }\n",
       "\n",
       "    .dataframe tbody tr th {\n",
       "        vertical-align: top;\n",
       "    }\n",
       "\n",
       "    .dataframe thead th {\n",
       "        text-align: right;\n",
       "    }\n",
       "</style>\n",
       "<table border=\"1\" class=\"dataframe\">\n",
       "  <thead>\n",
       "    <tr style=\"text-align: right;\">\n",
       "      <th></th>\n",
       "      <th>mean</th>\n",
       "      <th>std</th>\n",
       "    </tr>\n",
       "    <tr>\n",
       "      <th>threshold</th>\n",
       "      <th></th>\n",
       "      <th></th>\n",
       "    </tr>\n",
       "  </thead>\n",
       "  <tbody>\n",
       "    <tr>\n",
       "      <th>10</th>\n",
       "      <td>0.415965</td>\n",
       "      <td>0.174231</td>\n",
       "    </tr>\n",
       "    <tr>\n",
       "      <th>20</th>\n",
       "      <td>0.415965</td>\n",
       "      <td>0.174231</td>\n",
       "    </tr>\n",
       "    <tr>\n",
       "      <th>30</th>\n",
       "      <td>0.415965</td>\n",
       "      <td>0.174231</td>\n",
       "    </tr>\n",
       "    <tr>\n",
       "      <th>40</th>\n",
       "      <td>0.415965</td>\n",
       "      <td>0.174231</td>\n",
       "    </tr>\n",
       "    <tr>\n",
       "      <th>50</th>\n",
       "      <td>0.415965</td>\n",
       "      <td>0.174231</td>\n",
       "    </tr>\n",
       "    <tr>\n",
       "      <th>60</th>\n",
       "      <td>0.415965</td>\n",
       "      <td>0.174231</td>\n",
       "    </tr>\n",
       "    <tr>\n",
       "      <th>70</th>\n",
       "      <td>0.415965</td>\n",
       "      <td>0.174231</td>\n",
       "    </tr>\n",
       "    <tr>\n",
       "      <th>80</th>\n",
       "      <td>0.415965</td>\n",
       "      <td>0.174231</td>\n",
       "    </tr>\n",
       "    <tr>\n",
       "      <th>90</th>\n",
       "      <td>0.415965</td>\n",
       "      <td>0.174231</td>\n",
       "    </tr>\n",
       "    <tr>\n",
       "      <th>100</th>\n",
       "      <td>0.415965</td>\n",
       "      <td>0.174231</td>\n",
       "    </tr>\n",
       "  </tbody>\n",
       "</table>\n",
       "</div>"
      ],
      "text/plain": [
       "               mean       std\n",
       "threshold                    \n",
       "10         0.415965  0.174231\n",
       "20         0.415965  0.174231\n",
       "30         0.415965  0.174231\n",
       "40         0.415965  0.174231\n",
       "50         0.415965  0.174231\n",
       "60         0.415965  0.174231\n",
       "70         0.415965  0.174231\n",
       "80         0.415965  0.174231\n",
       "90         0.415965  0.174231\n",
       "100        0.415965  0.174231"
      ]
     },
     "execution_count": 67,
     "metadata": {},
     "output_type": "execute_result"
    }
   ],
   "source": [
    "auc_ph_df.groupby('threshold')['auc'].agg(['mean', 'std'])"
   ]
  },
  {
   "cell_type": "code",
   "execution_count": 68,
   "id": "lovely-screen",
   "metadata": {},
   "outputs": [
    {
     "data": {
      "text/html": [
       "<div>\n",
       "<style scoped>\n",
       "    .dataframe tbody tr th:only-of-type {\n",
       "        vertical-align: middle;\n",
       "    }\n",
       "\n",
       "    .dataframe tbody tr th {\n",
       "        vertical-align: top;\n",
       "    }\n",
       "\n",
       "    .dataframe thead th {\n",
       "        text-align: right;\n",
       "    }\n",
       "</style>\n",
       "<table border=\"1\" class=\"dataframe\">\n",
       "  <thead>\n",
       "    <tr style=\"text-align: right;\">\n",
       "      <th></th>\n",
       "      <th>mean</th>\n",
       "      <th>std</th>\n",
       "    </tr>\n",
       "    <tr>\n",
       "      <th>r</th>\n",
       "      <th></th>\n",
       "      <th></th>\n",
       "    </tr>\n",
       "  </thead>\n",
       "  <tbody>\n",
       "    <tr>\n",
       "      <th>0.0001</th>\n",
       "      <td>0.523552</td>\n",
       "      <td>0.074477</td>\n",
       "    </tr>\n",
       "    <tr>\n",
       "      <th>0.0010</th>\n",
       "      <td>0.233799</td>\n",
       "      <td>0.083443</td>\n",
       "    </tr>\n",
       "    <tr>\n",
       "      <th>0.0050</th>\n",
       "      <td>0.274701</td>\n",
       "      <td>0.120762</td>\n",
       "    </tr>\n",
       "    <tr>\n",
       "      <th>0.0100</th>\n",
       "      <td>0.300460</td>\n",
       "      <td>0.075728</td>\n",
       "    </tr>\n",
       "  </tbody>\n",
       "</table>\n",
       "</div>"
      ],
      "text/plain": [
       "            mean       std\n",
       "r                         \n",
       "0.0001  0.523552  0.074477\n",
       "0.0010  0.233799  0.083443\n",
       "0.0050  0.274701  0.120762\n",
       "0.0100  0.300460  0.075728"
      ]
     },
     "execution_count": 68,
     "metadata": {},
     "output_type": "execute_result"
    }
   ],
   "source": [
    "auc_sdem_df.groupby('r')['auc'].agg(['mean', 'std'])"
   ]
  },
  {
   "cell_type": "code",
   "execution_count": 69,
   "id": "marine-morning",
   "metadata": {},
   "outputs": [
    {
     "data": {
      "text/plain": [
       "mean    0.320262\n",
       "std     0.024638\n",
       "Name: auc, dtype: float64"
      ]
     },
     "execution_count": 69,
     "metadata": {},
     "output_type": "execute_result"
    }
   ],
   "source": [
    "auc_iem_df['auc'].agg(['mean', 'std'])"
   ]
  },
  {
   "cell_type": "code",
   "execution_count": 70,
   "id": "aggregate-ocean",
   "metadata": {},
   "outputs": [
    {
     "data": {
      "text/html": [
       "<div>\n",
       "<style scoped>\n",
       "    .dataframe tbody tr th:only-of-type {\n",
       "        vertical-align: middle;\n",
       "    }\n",
       "\n",
       "    .dataframe tbody tr th {\n",
       "        vertical-align: top;\n",
       "    }\n",
       "\n",
       "    .dataframe thead th {\n",
       "        text-align: right;\n",
       "    }\n",
       "</style>\n",
       "<table border=\"1\" class=\"dataframe\">\n",
       "  <thead>\n",
       "    <tr style=\"text-align: right;\">\n",
       "      <th></th>\n",
       "      <th>mean</th>\n",
       "      <th>std</th>\n",
       "    </tr>\n",
       "    <tr>\n",
       "      <th>r</th>\n",
       "      <th></th>\n",
       "      <th></th>\n",
       "    </tr>\n",
       "  </thead>\n",
       "  <tbody>\n",
       "    <tr>\n",
       "      <th>0.01</th>\n",
       "      <td>0.289628</td>\n",
       "      <td>0.018867</td>\n",
       "    </tr>\n",
       "    <tr>\n",
       "      <th>0.05</th>\n",
       "      <td>0.472426</td>\n",
       "      <td>0.124117</td>\n",
       "    </tr>\n",
       "    <tr>\n",
       "      <th>0.10</th>\n",
       "      <td>0.480976</td>\n",
       "      <td>0.087173</td>\n",
       "    </tr>\n",
       "  </tbody>\n",
       "</table>\n",
       "</div>"
      ],
      "text/plain": [
       "          mean       std\n",
       "r                       \n",
       "0.01  0.289628  0.018867\n",
       "0.05  0.472426  0.124117\n",
       "0.10  0.480976  0.087173"
      ]
     },
     "execution_count": 70,
     "metadata": {},
     "output_type": "execute_result"
    }
   ],
   "source": [
    "auc_sem_df.groupby('r')['auc'].agg(['mean', 'std'])"
   ]
  },
  {
   "cell_type": "code",
   "execution_count": 71,
   "id": "appointed-pasta",
   "metadata": {},
   "outputs": [
    {
     "data": {
      "text/html": [
       "<div>\n",
       "<style scoped>\n",
       "    .dataframe tbody tr th:only-of-type {\n",
       "        vertical-align: middle;\n",
       "    }\n",
       "\n",
       "    .dataframe tbody tr th {\n",
       "        vertical-align: top;\n",
       "    }\n",
       "\n",
       "    .dataframe thead th {\n",
       "        text-align: right;\n",
       "    }\n",
       "</style>\n",
       "<table border=\"1\" class=\"dataframe\">\n",
       "  <thead>\n",
       "    <tr style=\"text-align: right;\">\n",
       "      <th></th>\n",
       "      <th></th>\n",
       "      <th></th>\n",
       "      <th>mean</th>\n",
       "      <th>std</th>\n",
       "    </tr>\n",
       "    <tr>\n",
       "      <th>gamma</th>\n",
       "      <th>ratio</th>\n",
       "      <th>M</th>\n",
       "      <th></th>\n",
       "      <th></th>\n",
       "    </tr>\n",
       "  </thead>\n",
       "  <tbody>\n",
       "    <tr>\n",
       "      <th rowspan=\"12\" valign=\"top\">1</th>\n",
       "      <th rowspan=\"3\" valign=\"top\">0.1</th>\n",
       "      <th>5</th>\n",
       "      <td>0.615839</td>\n",
       "      <td>0.045502</td>\n",
       "    </tr>\n",
       "    <tr>\n",
       "      <th>10</th>\n",
       "      <td>0.622924</td>\n",
       "      <td>0.066559</td>\n",
       "    </tr>\n",
       "    <tr>\n",
       "      <th>15</th>\n",
       "      <td>0.638902</td>\n",
       "      <td>0.103641</td>\n",
       "    </tr>\n",
       "    <tr>\n",
       "      <th rowspan=\"3\" valign=\"top\">0.2</th>\n",
       "      <th>5</th>\n",
       "      <td>0.632644</td>\n",
       "      <td>0.043025</td>\n",
       "    </tr>\n",
       "    <tr>\n",
       "      <th>10</th>\n",
       "      <td>0.642818</td>\n",
       "      <td>0.016895</td>\n",
       "    </tr>\n",
       "    <tr>\n",
       "      <th>15</th>\n",
       "      <td>0.642339</td>\n",
       "      <td>0.017103</td>\n",
       "    </tr>\n",
       "    <tr>\n",
       "      <th rowspan=\"3\" valign=\"top\">0.3</th>\n",
       "      <th>5</th>\n",
       "      <td>0.644205</td>\n",
       "      <td>0.033579</td>\n",
       "    </tr>\n",
       "    <tr>\n",
       "      <th>10</th>\n",
       "      <td>0.664886</td>\n",
       "      <td>0.060265</td>\n",
       "    </tr>\n",
       "    <tr>\n",
       "      <th>15</th>\n",
       "      <td>0.665268</td>\n",
       "      <td>0.061494</td>\n",
       "    </tr>\n",
       "    <tr>\n",
       "      <th rowspan=\"3\" valign=\"top\">0.5</th>\n",
       "      <th>5</th>\n",
       "      <td>0.702181</td>\n",
       "      <td>0.022913</td>\n",
       "    </tr>\n",
       "    <tr>\n",
       "      <th>10</th>\n",
       "      <td>0.688632</td>\n",
       "      <td>0.029140</td>\n",
       "    </tr>\n",
       "    <tr>\n",
       "      <th>15</th>\n",
       "      <td>0.697083</td>\n",
       "      <td>0.025114</td>\n",
       "    </tr>\n",
       "    <tr>\n",
       "      <th rowspan=\"12\" valign=\"top\">3</th>\n",
       "      <th rowspan=\"3\" valign=\"top\">0.1</th>\n",
       "      <th>5</th>\n",
       "      <td>0.422006</td>\n",
       "      <td>0.216569</td>\n",
       "    </tr>\n",
       "    <tr>\n",
       "      <th>10</th>\n",
       "      <td>0.517519</td>\n",
       "      <td>0.233566</td>\n",
       "    </tr>\n",
       "    <tr>\n",
       "      <th>15</th>\n",
       "      <td>0.462503</td>\n",
       "      <td>0.239841</td>\n",
       "    </tr>\n",
       "    <tr>\n",
       "      <th rowspan=\"3\" valign=\"top\">0.2</th>\n",
       "      <th>5</th>\n",
       "      <td>0.560910</td>\n",
       "      <td>0.229146</td>\n",
       "    </tr>\n",
       "    <tr>\n",
       "      <th>10</th>\n",
       "      <td>0.491077</td>\n",
       "      <td>0.119262</td>\n",
       "    </tr>\n",
       "    <tr>\n",
       "      <th>15</th>\n",
       "      <td>0.487480</td>\n",
       "      <td>0.072953</td>\n",
       "    </tr>\n",
       "    <tr>\n",
       "      <th rowspan=\"3\" valign=\"top\">0.3</th>\n",
       "      <th>5</th>\n",
       "      <td>0.474642</td>\n",
       "      <td>0.066156</td>\n",
       "    </tr>\n",
       "    <tr>\n",
       "      <th>10</th>\n",
       "      <td>0.491473</td>\n",
       "      <td>0.053703</td>\n",
       "    </tr>\n",
       "    <tr>\n",
       "      <th>15</th>\n",
       "      <td>0.485704</td>\n",
       "      <td>0.052913</td>\n",
       "    </tr>\n",
       "    <tr>\n",
       "      <th rowspan=\"3\" valign=\"top\">0.5</th>\n",
       "      <th>5</th>\n",
       "      <td>0.496766</td>\n",
       "      <td>0.052996</td>\n",
       "    </tr>\n",
       "    <tr>\n",
       "      <th>10</th>\n",
       "      <td>0.502789</td>\n",
       "      <td>0.050776</td>\n",
       "    </tr>\n",
       "    <tr>\n",
       "      <th>15</th>\n",
       "      <td>0.500309</td>\n",
       "      <td>0.051740</td>\n",
       "    </tr>\n",
       "    <tr>\n",
       "      <th rowspan=\"12\" valign=\"top\">5</th>\n",
       "      <th rowspan=\"3\" valign=\"top\">0.1</th>\n",
       "      <th>5</th>\n",
       "      <td>0.488535</td>\n",
       "      <td>0.221238</td>\n",
       "    </tr>\n",
       "    <tr>\n",
       "      <th>10</th>\n",
       "      <td>0.426440</td>\n",
       "      <td>0.225439</td>\n",
       "    </tr>\n",
       "    <tr>\n",
       "      <th>15</th>\n",
       "      <td>0.518781</td>\n",
       "      <td>0.190732</td>\n",
       "    </tr>\n",
       "    <tr>\n",
       "      <th rowspan=\"3\" valign=\"top\">0.2</th>\n",
       "      <th>5</th>\n",
       "      <td>0.418335</td>\n",
       "      <td>0.232188</td>\n",
       "    </tr>\n",
       "    <tr>\n",
       "      <th>10</th>\n",
       "      <td>0.492077</td>\n",
       "      <td>0.288537</td>\n",
       "    </tr>\n",
       "    <tr>\n",
       "      <th>15</th>\n",
       "      <td>0.343078</td>\n",
       "      <td>0.106394</td>\n",
       "    </tr>\n",
       "    <tr>\n",
       "      <th rowspan=\"3\" valign=\"top\">0.3</th>\n",
       "      <th>5</th>\n",
       "      <td>0.417663</td>\n",
       "      <td>0.226497</td>\n",
       "    </tr>\n",
       "    <tr>\n",
       "      <th>10</th>\n",
       "      <td>0.420681</td>\n",
       "      <td>0.087080</td>\n",
       "    </tr>\n",
       "    <tr>\n",
       "      <th>15</th>\n",
       "      <td>0.438313</td>\n",
       "      <td>0.094569</td>\n",
       "    </tr>\n",
       "    <tr>\n",
       "      <th rowspan=\"3\" valign=\"top\">0.5</th>\n",
       "      <th>5</th>\n",
       "      <td>0.527600</td>\n",
       "      <td>0.165821</td>\n",
       "    </tr>\n",
       "    <tr>\n",
       "      <th>10</th>\n",
       "      <td>0.505164</td>\n",
       "      <td>0.098862</td>\n",
       "    </tr>\n",
       "    <tr>\n",
       "      <th>15</th>\n",
       "      <td>0.480166</td>\n",
       "      <td>0.071801</td>\n",
       "    </tr>\n",
       "    <tr>\n",
       "      <th rowspan=\"12\" valign=\"top\">10</th>\n",
       "      <th rowspan=\"3\" valign=\"top\">0.1</th>\n",
       "      <th>5</th>\n",
       "      <td>0.551049</td>\n",
       "      <td>0.143282</td>\n",
       "    </tr>\n",
       "    <tr>\n",
       "      <th>10</th>\n",
       "      <td>0.333541</td>\n",
       "      <td>0.137166</td>\n",
       "    </tr>\n",
       "    <tr>\n",
       "      <th>15</th>\n",
       "      <td>0.398611</td>\n",
       "      <td>0.215487</td>\n",
       "    </tr>\n",
       "    <tr>\n",
       "      <th rowspan=\"3\" valign=\"top\">0.2</th>\n",
       "      <th>5</th>\n",
       "      <td>0.522313</td>\n",
       "      <td>0.138810</td>\n",
       "    </tr>\n",
       "    <tr>\n",
       "      <th>10</th>\n",
       "      <td>0.290246</td>\n",
       "      <td>0.088325</td>\n",
       "    </tr>\n",
       "    <tr>\n",
       "      <th>15</th>\n",
       "      <td>0.408934</td>\n",
       "      <td>0.190293</td>\n",
       "    </tr>\n",
       "    <tr>\n",
       "      <th rowspan=\"3\" valign=\"top\">0.3</th>\n",
       "      <th>5</th>\n",
       "      <td>0.412100</td>\n",
       "      <td>0.136260</td>\n",
       "    </tr>\n",
       "    <tr>\n",
       "      <th>10</th>\n",
       "      <td>0.373924</td>\n",
       "      <td>0.162802</td>\n",
       "    </tr>\n",
       "    <tr>\n",
       "      <th>15</th>\n",
       "      <td>0.401711</td>\n",
       "      <td>0.179172</td>\n",
       "    </tr>\n",
       "    <tr>\n",
       "      <th rowspan=\"3\" valign=\"top\">0.5</th>\n",
       "      <th>5</th>\n",
       "      <td>0.431897</td>\n",
       "      <td>0.081109</td>\n",
       "    </tr>\n",
       "    <tr>\n",
       "      <th>10</th>\n",
       "      <td>0.451157</td>\n",
       "      <td>0.192699</td>\n",
       "    </tr>\n",
       "    <tr>\n",
       "      <th>15</th>\n",
       "      <td>0.512440</td>\n",
       "      <td>0.153188</td>\n",
       "    </tr>\n",
       "    <tr>\n",
       "      <th rowspan=\"12\" valign=\"top\">15</th>\n",
       "      <th rowspan=\"3\" valign=\"top\">0.1</th>\n",
       "      <th>5</th>\n",
       "      <td>0.401690</td>\n",
       "      <td>0.137702</td>\n",
       "    </tr>\n",
       "    <tr>\n",
       "      <th>10</th>\n",
       "      <td>0.557110</td>\n",
       "      <td>0.149358</td>\n",
       "    </tr>\n",
       "    <tr>\n",
       "      <th>15</th>\n",
       "      <td>0.277564</td>\n",
       "      <td>0.023626</td>\n",
       "    </tr>\n",
       "    <tr>\n",
       "      <th rowspan=\"3\" valign=\"top\">0.2</th>\n",
       "      <th>5</th>\n",
       "      <td>0.470313</td>\n",
       "      <td>0.146234</td>\n",
       "    </tr>\n",
       "    <tr>\n",
       "      <th>10</th>\n",
       "      <td>0.389063</td>\n",
       "      <td>0.167432</td>\n",
       "    </tr>\n",
       "    <tr>\n",
       "      <th>15</th>\n",
       "      <td>0.379348</td>\n",
       "      <td>0.206993</td>\n",
       "    </tr>\n",
       "    <tr>\n",
       "      <th rowspan=\"3\" valign=\"top\">0.3</th>\n",
       "      <th>5</th>\n",
       "      <td>0.456699</td>\n",
       "      <td>0.262696</td>\n",
       "    </tr>\n",
       "    <tr>\n",
       "      <th>10</th>\n",
       "      <td>0.345670</td>\n",
       "      <td>0.136526</td>\n",
       "    </tr>\n",
       "    <tr>\n",
       "      <th>15</th>\n",
       "      <td>0.283457</td>\n",
       "      <td>0.016756</td>\n",
       "    </tr>\n",
       "    <tr>\n",
       "      <th rowspan=\"3\" valign=\"top\">0.5</th>\n",
       "      <th>5</th>\n",
       "      <td>0.422046</td>\n",
       "      <td>0.087339</td>\n",
       "    </tr>\n",
       "    <tr>\n",
       "      <th>10</th>\n",
       "      <td>0.329903</td>\n",
       "      <td>0.192499</td>\n",
       "    </tr>\n",
       "    <tr>\n",
       "      <th>15</th>\n",
       "      <td>0.317645</td>\n",
       "      <td>0.106520</td>\n",
       "    </tr>\n",
       "  </tbody>\n",
       "</table>\n",
       "</div>"
      ],
      "text/plain": [
       "                    mean       std\n",
       "gamma ratio M                     \n",
       "1     0.1   5   0.615839  0.045502\n",
       "            10  0.622924  0.066559\n",
       "            15  0.638902  0.103641\n",
       "      0.2   5   0.632644  0.043025\n",
       "            10  0.642818  0.016895\n",
       "            15  0.642339  0.017103\n",
       "      0.3   5   0.644205  0.033579\n",
       "            10  0.664886  0.060265\n",
       "            15  0.665268  0.061494\n",
       "      0.5   5   0.702181  0.022913\n",
       "            10  0.688632  0.029140\n",
       "            15  0.697083  0.025114\n",
       "3     0.1   5   0.422006  0.216569\n",
       "            10  0.517519  0.233566\n",
       "            15  0.462503  0.239841\n",
       "      0.2   5   0.560910  0.229146\n",
       "            10  0.491077  0.119262\n",
       "            15  0.487480  0.072953\n",
       "      0.3   5   0.474642  0.066156\n",
       "            10  0.491473  0.053703\n",
       "            15  0.485704  0.052913\n",
       "      0.5   5   0.496766  0.052996\n",
       "            10  0.502789  0.050776\n",
       "            15  0.500309  0.051740\n",
       "5     0.1   5   0.488535  0.221238\n",
       "            10  0.426440  0.225439\n",
       "            15  0.518781  0.190732\n",
       "      0.2   5   0.418335  0.232188\n",
       "            10  0.492077  0.288537\n",
       "            15  0.343078  0.106394\n",
       "      0.3   5   0.417663  0.226497\n",
       "            10  0.420681  0.087080\n",
       "            15  0.438313  0.094569\n",
       "      0.5   5   0.527600  0.165821\n",
       "            10  0.505164  0.098862\n",
       "            15  0.480166  0.071801\n",
       "10    0.1   5   0.551049  0.143282\n",
       "            10  0.333541  0.137166\n",
       "            15  0.398611  0.215487\n",
       "      0.2   5   0.522313  0.138810\n",
       "            10  0.290246  0.088325\n",
       "            15  0.408934  0.190293\n",
       "      0.3   5   0.412100  0.136260\n",
       "            10  0.373924  0.162802\n",
       "            15  0.401711  0.179172\n",
       "      0.5   5   0.431897  0.081109\n",
       "            10  0.451157  0.192699\n",
       "            15  0.512440  0.153188\n",
       "15    0.1   5   0.401690  0.137702\n",
       "            10  0.557110  0.149358\n",
       "            15  0.277564  0.023626\n",
       "      0.2   5   0.470313  0.146234\n",
       "            10  0.389063  0.167432\n",
       "            15  0.379348  0.206993\n",
       "      0.3   5   0.456699  0.262696\n",
       "            10  0.345670  0.136526\n",
       "            15  0.283457  0.016756\n",
       "      0.5   5   0.422046  0.087339\n",
       "            10  0.329903  0.192499\n",
       "            15  0.317645  0.106520"
      ]
     },
     "execution_count": 71,
     "metadata": {},
     "output_type": "execute_result"
    }
   ],
   "source": [
    "auc_sra_df.groupby(['gamma', 'ratio', 'M'])['auc'].agg(['mean', 'std'])"
   ]
  },
  {
   "cell_type": "code",
   "execution_count": 72,
   "id": "assisted-melissa",
   "metadata": {},
   "outputs": [],
   "source": [
    "auc_sra_df.groupby(['gamma', 'ratio', 'M'])['auc'].agg(['mean', 'std']).to_latex('auc_sra_1D_mixture.tex', \n",
    "                                                                                 float_format='%.4f')"
   ]
  },
  {
   "cell_type": "code",
   "execution_count": 73,
   "id": "engaged-occasion",
   "metadata": {},
   "outputs": [],
   "source": [
    "with open(os.path.join(outdir, 'auc_sra.pkl'), 'wb') as f:\n",
    "    pickle.dump(auc_sra_df.groupby(['gamma', 'ratio', 'M'])['auc'].agg(['mean', 'std']), f)"
   ]
  },
  {
   "cell_type": "code",
   "execution_count": 74,
   "id": "stupid-colors",
   "metadata": {},
   "outputs": [],
   "source": [
    "time_by_trial_df = pd.DataFrame(\n",
    "    {\n",
    "        'SRA': np.sum(time_sra, axis=1),\n",
    "        'SDEM': np.sum(time_sdem, axis=1),\n",
    "        'iEM': np.sum(time_iem, axis=1),\n",
    "        'sEM': np.sum(time_sem, axis=1),\n",
    "        'ADWIN': np.sum(time_adwin, axis=1),\n",
    "        #'DDM': np.sum(time_ddm, axis=1),\n",
    "        #'EDDM': np.sum(time_eddm, axis=1),\n",
    "        'KSWIN': np.sum(time_kswin, axis=1),\n",
    "        'PH': np.sum(time_ph, axis=1)\n",
    "    }\n",
    ")"
   ]
  },
  {
   "cell_type": "code",
   "execution_count": 75,
   "id": "sunrise-selling",
   "metadata": {},
   "outputs": [],
   "source": [
    "time_by_trial_df_melted = pd.melt(time_by_trial_df)"
   ]
  },
  {
   "cell_type": "code",
   "execution_count": 76,
   "id": "metallic-michigan",
   "metadata": {},
   "outputs": [
    {
     "data": {
      "text/html": [
       "<div>\n",
       "<style scoped>\n",
       "    .dataframe tbody tr th:only-of-type {\n",
       "        vertical-align: middle;\n",
       "    }\n",
       "\n",
       "    .dataframe tbody tr th {\n",
       "        vertical-align: top;\n",
       "    }\n",
       "\n",
       "    .dataframe thead th {\n",
       "        text-align: right;\n",
       "    }\n",
       "</style>\n",
       "<table border=\"1\" class=\"dataframe\">\n",
       "  <thead>\n",
       "    <tr style=\"text-align: right;\">\n",
       "      <th></th>\n",
       "      <th>variable</th>\n",
       "      <th>value</th>\n",
       "    </tr>\n",
       "  </thead>\n",
       "  <tbody>\n",
       "    <tr>\n",
       "      <th>0</th>\n",
       "      <td>SRA</td>\n",
       "      <td>3204.068191</td>\n",
       "    </tr>\n",
       "    <tr>\n",
       "      <th>1</th>\n",
       "      <td>SRA</td>\n",
       "      <td>4778.252378</td>\n",
       "    </tr>\n",
       "    <tr>\n",
       "      <th>2</th>\n",
       "      <td>SRA</td>\n",
       "      <td>3833.549995</td>\n",
       "    </tr>\n",
       "    <tr>\n",
       "      <th>3</th>\n",
       "      <td>SRA</td>\n",
       "      <td>3104.265841</td>\n",
       "    </tr>\n",
       "    <tr>\n",
       "      <th>4</th>\n",
       "      <td>SRA</td>\n",
       "      <td>3480.912832</td>\n",
       "    </tr>\n",
       "    <tr>\n",
       "      <th>...</th>\n",
       "      <td>...</td>\n",
       "      <td>...</td>\n",
       "    </tr>\n",
       "    <tr>\n",
       "      <th>65</th>\n",
       "      <td>PH</td>\n",
       "      <td>1.617486</td>\n",
       "    </tr>\n",
       "    <tr>\n",
       "      <th>66</th>\n",
       "      <td>PH</td>\n",
       "      <td>1.458146</td>\n",
       "    </tr>\n",
       "    <tr>\n",
       "      <th>67</th>\n",
       "      <td>PH</td>\n",
       "      <td>1.641063</td>\n",
       "    </tr>\n",
       "    <tr>\n",
       "      <th>68</th>\n",
       "      <td>PH</td>\n",
       "      <td>1.563328</td>\n",
       "    </tr>\n",
       "    <tr>\n",
       "      <th>69</th>\n",
       "      <td>PH</td>\n",
       "      <td>1.486137</td>\n",
       "    </tr>\n",
       "  </tbody>\n",
       "</table>\n",
       "<p>70 rows × 2 columns</p>\n",
       "</div>"
      ],
      "text/plain": [
       "   variable        value\n",
       "0       SRA  3204.068191\n",
       "1       SRA  4778.252378\n",
       "2       SRA  3833.549995\n",
       "3       SRA  3104.265841\n",
       "4       SRA  3480.912832\n",
       "..      ...          ...\n",
       "65       PH     1.617486\n",
       "66       PH     1.458146\n",
       "67       PH     1.641063\n",
       "68       PH     1.563328\n",
       "69       PH     1.486137\n",
       "\n",
       "[70 rows x 2 columns]"
      ]
     },
     "execution_count": 76,
     "metadata": {},
     "output_type": "execute_result"
    }
   ],
   "source": [
    "time_by_trial_df_melted"
   ]
  },
  {
   "cell_type": "code",
   "execution_count": 77,
   "id": "secure-brief",
   "metadata": {},
   "outputs": [],
   "source": [
    "with open(os.path.join(outdir, 'measured_total_time_by_algorithm.pkl'), 'wb') as f:\n",
    "    pickle.dump(time_by_trial_df_melted, f)"
   ]
  },
  {
   "cell_type": "code",
   "execution_count": 78,
   "id": "fallen-science",
   "metadata": {},
   "outputs": [],
   "source": [
    "time_by_each_df = pd.concat(\n",
    "    [pd.DataFrame({'Algorithm':'SRA',\n",
    "                   'Time': np.array(time_sra).ravel()}),\n",
    "     pd.DataFrame({'Algorithm':'SDEM',\n",
    "                   'Time': np.array(time_sdem).ravel()}),\n",
    "     pd.DataFrame({'Algorithm':'iEM',\n",
    "                   'Time': np.array(time_iem).ravel()}),\n",
    "     pd.DataFrame({'Algorithm':'sEM',\n",
    "                   'Time': np.array(time_sem).ravel()}),\n",
    "     pd.DataFrame({'Algorithm':'ADWIN', \n",
    "                   'Time': np.array(time_adwin).ravel()}),\n",
    "     #pd.DataFrame({'Algorithm':'DDM',\n",
    "     #              'Time': np.array(time_ddm).ravel()}), \n",
    "     #pd.DataFrame({'Algorithm':'EDDM',\n",
    "     #              'Time': np.array(time_eddm).ravel()}),\n",
    "     pd.DataFrame({'Algorithm':'KSWIN',\n",
    "                   'Time': np.array(time_kswin).ravel()}),\n",
    "     pd.DataFrame({'Algorithm':'PH',\n",
    "                   'Time': np.array(time_ph).ravel()})\n",
    "    ]\n",
    ")"
   ]
  },
  {
   "cell_type": "code",
   "execution_count": 79,
   "id": "agricultural-speaking",
   "metadata": {},
   "outputs": [],
   "source": [
    "with open(os.path.join(outdir, 'measured_each_time_by_algorithm.pkl'), 'wb') as f:\n",
    "    pickle.dump(time_by_each_df, f)"
   ]
  },
  {
   "cell_type": "code",
   "execution_count": 80,
   "id": "single-stanley",
   "metadata": {},
   "outputs": [
    {
     "data": {
      "image/png": "[encoded data removed]",
      "text/plain": [
       "<Figure size 576x432 with 2 Axes>"
      ]
     },
     "metadata": {
      "needs_background": "light"
     },
     "output_type": "display_data"
    }
   ],
   "source": [
    "fig, axes = plt.subplots(2, 1, sharex=True, figsize=(8, 6))\n",
    "\n",
    "sns.boxplot(x='variable', y='value', data=time_by_trial_df_melted, ax=axes[0])\n",
    "axes[0].set_xlabel('Algorithm')\n",
    "axes[0].set_ylabel('Time[s]')\n",
    "#ax.set_yscale('log')\n",
    "axes[0].grid()\n",
    "\n",
    "sns.boxplot(x='Algorithm', y='Time', data=time_by_each_df, ax=axes[1])\n",
    "axes[1].set_ylabel('Time[s]')\n",
    "#axes[1].set_yscale('log')\n",
    "axes[1].grid()\n",
    "\n",
    "plt.show()"
   ]
  },
  {
   "cell_type": "code",
   "execution_count": null,
   "id": "fourth-compiler",
   "metadata": {},
   "outputs": [],
   "source": []
  },
  {
   "cell_type": "code",
   "execution_count": null,
   "id": "naval-vector",
   "metadata": {},
   "outputs": [],
   "source": []
  }
 ],
 "metadata": {
  "kernelspec": {
   "display_name": "Python 3",
   "language": "python",
   "name": "python3"
  },
  "language_info": {
   "codemirror_mode": {
    "name": "ipython",
    "version": 3
   },
   "file_extension": ".py",
   "mimetype": "text/x-python",
   "name": "python",
   "nbconvert_exporter": "python",
   "pygments_lexer": "ipython3",
   "version": "3.7.2"
  }
 },
 "nbformat": 4,
 "nbformat_minor": 5
}
