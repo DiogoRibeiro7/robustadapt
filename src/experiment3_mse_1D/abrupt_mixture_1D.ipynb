{
 "cells": [
  {
   "cell_type": "code",
   "execution_count": 1,
   "id": "innovative-terminal",
   "metadata": {},
   "outputs": [],
   "source": [
    "%matplotlib inline\n",
    "\n",
    "import numpy as np\n",
    "from scipy.stats import multivariate_normal, norm\n",
    "import pandas as pd\n",
    "\n",
    "import matplotlib.pyplot as plt\n",
    "import seaborn as sns\n",
    "\n",
    "import os\n",
    "import pickle\n",
    "\n",
    "from copy import deepcopy\n",
    "\n",
    "import time\n",
    "\n",
    "import tqdm"
   ]
  },
  {
   "cell_type": "code",
   "execution_count": 2,
   "id": "contemporary-relation",
   "metadata": {},
   "outputs": [],
   "source": [
    "from sklearn.mixture import GaussianMixture\n",
    "from sklearn.datasets import make_spd_matrix\n",
    "from sklearn.metrics import roc_curve, auc"
   ]
  },
  {
   "cell_type": "code",
   "execution_count": 3,
   "id": "adverse-empire",
   "metadata": {},
   "outputs": [],
   "source": [
    "#outdir = '../../output/experiment'\n",
    "outdir = './output/synthetic/univariate/abrupt_mixture'\n",
    "if not os.path.exists(outdir):\n",
    "    os.makedirs(outdir)"
   ]
  },
  {
   "cell_type": "code",
   "execution_count": 4,
   "id": "mental-jersey",
   "metadata": {},
   "outputs": [],
   "source": [
    "class Theta:\n",
    "    def __init__(self, pi, mu, sigma):\n",
    "        self.pi = pi\n",
    "        self.mu = mu\n",
    "        self.sigma = sigma"
   ]
  },
  {
   "cell_type": "code",
   "execution_count": 5,
   "id": "amber-soviet",
   "metadata": {},
   "outputs": [],
   "source": [
    "def compute_tau(X, theta, eps=1e-8):\n",
    "    N = X.shape[0]\n",
    "    K = len(theta.pi)\n",
    "    #print('N =', N, ' K =', K)\n",
    "\n",
    "    tau = np.zeros((N, K))\n",
    "    for k in range(K):\n",
    "        d_k = norm(theta.mu[k], theta.sigma[k])\n",
    "        for i in range(N):\n",
    "            tau[i, k] = theta.pi[k] * d_k.pdf(X[i])\n",
    "    \n",
    "    #tau /= np.sum(tau, axis=1, keepdims=True)\n",
    "    tau /= (np.sum(tau, axis=1, keepdims=True) + eps)\n",
    "    \n",
    "    tau[np.all(np.isnan(tau), axis=1), :] = np.ones(tau.shape[1])/tau.shape[1]\n",
    "    \n",
    "    return tau"
   ]
  },
  {
   "cell_type": "code",
   "execution_count": 6,
   "id": "quiet-dubai",
   "metadata": {},
   "outputs": [
    {
     "data": {
      "text/plain": [
       "\"\\ndef compute_tau(X, theta, eps=1e-8):\\n    N = X.shape[0]\\n    K = len(theta.pi)\\n    #print('N =', N, ' K =', K)\\n\\n    tau = np.zeros((N, K))\\n    for k in range(K):\\n        d_k = norm(theta.mu[k], theta.sigma[k])\\n        for i in range(N):\\n            tau[i, k] = theta.pi[k] * d_k.pdf(X[i])\\n    \\n    #tau /= np.sum(tau, axis=1, keepdims=True)\\n    tau /= (np.sum(tau, axis=1, keepdims=True) + eps)\\n    \\n    tau[np.all(np.isnan(tau), axis=1), :] = np.ones(tau.shape[1])/tau.shape[1]\\n    \\n    return tau\\n\""
      ]
     },
     "execution_count": 6,
     "metadata": {},
     "output_type": "execute_result"
    }
   ],
   "source": [
    "\"\"\"\n",
    "def compute_tau(X, theta, eps=1e-8):\n",
    "    N = X.shape[0]\n",
    "    K = len(theta.pi)\n",
    "    #print('N =', N, ' K =', K)\n",
    "\n",
    "    tau = np.zeros((N, K))\n",
    "    for k in range(K):\n",
    "        d_k = norm(theta.mu[k], theta.sigma[k])\n",
    "        for i in range(N):\n",
    "            tau[i, k] = theta.pi[k] * d_k.pdf(X[i])\n",
    "    \n",
    "    #tau /= np.sum(tau, axis=1, keepdims=True)\n",
    "    tau /= (np.sum(tau, axis=1, keepdims=True) + eps)\n",
    "    \n",
    "    tau[np.all(np.isnan(tau), axis=1), :] = np.ones(tau.shape[1])/tau.shape[1]\n",
    "    \n",
    "    return tau\n",
    "\"\"\""
   ]
  },
  {
   "cell_type": "code",
   "execution_count": 7,
   "id": "recognized-injection",
   "metadata": {},
   "outputs": [],
   "source": [
    "def compute_stat(X, Z):\n",
    "    K = Z.shape[1]\n",
    "    D = X.shape[1]\n",
    "    \n",
    "    print(f'K = {K}, D = {D}')\n",
    "\n",
    "    #s1 = np.sum(Z, axis=0)\n",
    "    s1 = np.sum(Z, axis=0, keepdims=True).reshape(-1, 1)\n",
    "    #s2 = X.T.dot(Z).ravel()\n",
    "    s2 = X.T.dot(Z).T\n",
    "    #s3 = (X**2).T.dot(Z).ravel()\n",
    "    s3 = (X**2).T.dot(Z).T.reshape(K, D, D)\n",
    "    \n",
    "    return s1, s2, s3"
   ]
  },
  {
   "cell_type": "code",
   "execution_count": 8,
   "id": "stylish-pregnancy",
   "metadata": {},
   "outputs": [
    {
     "data": {
      "text/plain": [
       "\"\\ndef compute_stat(X, Z):\\n    N = X.shape[0]\\n    K = Z.shape[1]\\n    D = X.shape[1]\\n\\n    s1 = np.sum(Z, axis=0, keepdims=True)\\n    s2 = X.T.dot(Z).T\\n    s3 = np.einsum('ijk,il->ljk' , np.array([np.outer(X[i, :], X[i, :])  for i in range(X.shape[0])]), Z)\\n    \\n    return s1, s2, s3\\n\""
      ]
     },
     "execution_count": 8,
     "metadata": {},
     "output_type": "execute_result"
    }
   ],
   "source": [
    "\"\"\"\n",
    "def compute_stat(X, Z):\n",
    "    N = X.shape[0]\n",
    "    K = Z.shape[1]\n",
    "    D = X.shape[1]\n",
    "\n",
    "    s1 = np.sum(Z, axis=0, keepdims=True)\n",
    "    s2 = X.T.dot(Z).T\n",
    "    s3 = np.einsum('ijk,il->ljk' , np.array([np.outer(X[i, :], X[i, :])  for i in range(X.shape[0])]), Z)\n",
    "    \n",
    "    return s1, s2, s3\n",
    "\"\"\""
   ]
  },
  {
   "cell_type": "code",
   "execution_count": 9,
   "id": "intelligent-lesbian",
   "metadata": {},
   "outputs": [],
   "source": [
    "def step_M(s, x, eps=1e-8):\n",
    "    pi = (s.s1 + eps) / (1.0 + eps * len(s.s1))\n",
    "    #mu = s.s2 / (s.s1 + eps)\n",
    "    mu = s.s2 / (s.s1.reshape(-1, 1) + eps)\n",
    "    \"\"\"\n",
    "    print('step_M')\n",
    "    print('s.s3:', s.s3.shape)\n",
    "    print('s.s1.reshape((len(s.s1), ) + (1, 1)):', s.s1.reshape((len(s.s1), ) + (1, 1)).shape)\n",
    "    print('np.sqrt(s.s1.reshape((len(s.s1), ) + (1, 1)) + eps) - mu**2:', \n",
    "          (np.sqrt(s.s1.reshape((len(s.s1), ) + (1, 1)) + eps) - mu.reshape((len(s.s1), ) + (1, 1))**2).shape)\n",
    "    \"\"\"\n",
    "    #sigma = np.sqrt(s.s3 / (s.s1.reshape((len(s.s1), ) + (1, 1)) + eps) - mu**2)\n",
    "    sigma = np.sqrt(s.s3 / (s.s1.reshape((len(s.s1), ) + (1, 1)) + eps) - mu.reshape((len(s.s1), ) + (1, 1))**2)\n",
    "    \n",
    "    return pi, mu, sigma"
   ]
  },
  {
   "cell_type": "code",
   "execution_count": 10,
   "id": "deluxe-scholar",
   "metadata": {},
   "outputs": [
    {
     "data": {
      "text/plain": [
       "\"\\ndef step_M(s, x, eps=1e-8):\\n    pi = (s.s1 + eps) / (1.0 + eps * len(s.s1))\\n    mu = s.s2 / (s.s1 + eps)\\n    sigma = s.s3 / (s.s1 + eps).reshape(len(s.s1), 1, 1) - np.einsum('ij,ik->ijk', mu, mu)\\n\\n    return pi, mu, sigma\\n\""
      ]
     },
     "execution_count": 10,
     "metadata": {},
     "output_type": "execute_result"
    }
   ],
   "source": [
    "\"\"\"\n",
    "def step_M(s, x, eps=1e-8):\n",
    "    pi = (s.s1 + eps) / (1.0 + eps * len(s.s1))\n",
    "    mu = s.s2 / (s.s1 + eps)\n",
    "    sigma = s.s3 / (s.s1 + eps).reshape(len(s.s1), 1, 1) - np.einsum('ij,ik->ijk', mu, mu)\n",
    "\n",
    "    return pi, mu, sigma\n",
    "\"\"\""
   ]
  },
  {
   "cell_type": "code",
   "execution_count": 11,
   "id": "coated-favor",
   "metadata": {},
   "outputs": [
    {
     "data": {
      "text/plain": [
       "'\\nclass SuffStat:\\n    def __init__(self):\\n        pass\\n\\nclass SuffStatGMM(SuffStat):\\n    def __init__(self, K, D, seed=0):\\n        super().__init__()\\n        np.random.seed(seed)\\n        self.s1 = np.random.random(K)\\n        #self.s2 = np.random.random(K)\\n        self.s2 = np.random.random((K, D))\\n        #self.s3 = np.random.random(K)\\n        self.s3 = np.random.random((K, D, D))\\n        #self.s3 = np.array([make_spd_matrix(D) for _ in range(K)])\\n'"
      ]
     },
     "execution_count": 11,
     "metadata": {},
     "output_type": "execute_result"
    }
   ],
   "source": [
    "\"\"\"\n",
    "class SuffStat:\n",
    "    def __init__(self):\n",
    "        pass\n",
    "\n",
    "class SuffStatGMM(SuffStat):\n",
    "    def __init__(self, K, D, seed=0):\n",
    "        super().__init__()\n",
    "        np.random.seed(seed)\n",
    "        self.s1 = np.random.random(K)\n",
    "        #self.s2 = np.random.random(K)\n",
    "        self.s2 = np.random.random((K, D))\n",
    "        #self.s3 = np.random.random(K)\n",
    "        self.s3 = np.random.random((K, D, D))\n",
    "        #self.s3 = np.array([make_spd_matrix(D) for _ in range(K)])\n",
    "\"\"\""
   ]
  },
  {
   "cell_type": "code",
   "execution_count": 12,
   "id": "caring-filter",
   "metadata": {},
   "outputs": [],
   "source": [
    "class SuffStat:\n",
    "    def __init__(self):\n",
    "        pass\n",
    "\n",
    "class SuffStatGMM(SuffStat):\n",
    "    def __init__(self, K, D, seed=0):\n",
    "        super().__init__()\n",
    "        np.random.seed(seed)\n",
    "        self.s1 = np.random.dirichlet([1.0]*K).reshape(-1, 1)\n",
    "        self.s2 = np.random.random((K, D))\n",
    "        self.s3 = np.random.random((K, D, D))"
   ]
  },
  {
   "cell_type": "code",
   "execution_count": 13,
   "id": "smoking-proof",
   "metadata": {},
   "outputs": [],
   "source": [
    "def generate_data(N, pi, mu, sigma):\n",
    "    \n",
    "    z_list = np.random.choice(np.arange(len(pi)), N, replace=True)\n",
    "    \n",
    "    X = np.zeros((N, 1))\n",
    "    for i, z in enumerate(z_list):\n",
    "        X_i = np.random.normal(mu[z], sigma[z])\n",
    "        X[i, :] = X_i\n",
    "    \n",
    "    return X"
   ]
  },
  {
   "cell_type": "code",
   "execution_count": 14,
   "id": "favorite-sequence",
   "metadata": {},
   "outputs": [],
   "source": [
    "class SDEM(GaussianMixture):\n",
    "    def __init__(self, r, alpha, n_components=2, **kwargs):\n",
    "        super().__init__(n_components=n_components, **kwargs)\n",
    "        \n",
    "        self.r = r\n",
    "        self.alpha = alpha\n",
    "        self.t = 0\n",
    "        \n",
    "        self.pi_list = []\n",
    "        self.pi_bar_list = []\n",
    "        self.means_list = []\n",
    "        self.means_bar_list = []\n",
    "        self.covariances_list = []\n",
    "        self.covariances_bar_list = []\n",
    "        \n",
    "    def fit(self, X, y=None):\n",
    "        super().fit(X, y)\n",
    "        self.means_bar = np.copy(self.means_)\n",
    "        self.covariances_bar = np.copy(self.covariances_)\n",
    "        \n",
    "    def update(self, x):\n",
    "        \"\"\"Employ SDEM algorithm.\"\"\"\n",
    "        \n",
    "        # E-step for weights\n",
    "        gamma = (1-self.alpha*self.r[self.t]) * self.predict_proba(x.reshape(1, -1)) + self.alpha*self.r[self.t]/self.weights_.shape[0] # \\overline{\\gamma}_i^{(t)} in the paper\n",
    "        gamma = gamma.ravel()\n",
    "        self.weights_ = (1-self.r[self.t])*self.weights_ + self.r[self.t]*gamma\n",
    "        \n",
    "        x = x.ravel()\n",
    "        means, means_bar, covariances, covariances_bar = [], [], [], []\n",
    "        for i, (w, m, cov) in enumerate(zip(self.weights_, self.means_bar, self.covariances_bar)):\n",
    "            # E-step\n",
    "            m = (1-self.r[self.t])*m + self.r[self.t]*gamma[i]*x\n",
    "            cov = (1-self.r[self.t])*cov + self.r[self.t]*gamma[i]*np.outer(x,x)\n",
    "            means_bar.append(m)\n",
    "            covariances_bar.append(cov)\n",
    "\n",
    "            # M-step\n",
    "            m = m/w\n",
    "            cov = cov/w - np.outer(m, m)\n",
    "            means.append(m)\n",
    "            covariances.append(cov)\n",
    "\n",
    "        self.means_ = np.vstack(means) # \\mu_i^{(t)} in the paper\n",
    "        self.covariances_ = np.stack(covariances)\n",
    "        self.means_bar = np.stack(means_bar)\n",
    "        self.covariances_bar = np.stack(covariances_bar)\n",
    "        \n",
    "        self.pi_list.append(self.weights_)\n",
    "        self.means_list.append(self.means_)\n",
    "        self.covariances_list.append(self.covariances_)\n",
    "        self.means_bar_list.append(self.means_bar)\n",
    "        self.covariances_bar_list.append(self.covariances_bar)\n",
    "        \n",
    "        self.t += 1"
   ]
  },
  {
   "cell_type": "code",
   "execution_count": 15,
   "id": "indian-affect",
   "metadata": {},
   "outputs": [],
   "source": [
    "def calc_scores_sdem(X, r, n_cluster, alpha=1.0, start=20, end=40, seed=0):\n",
    "    np.random.seed(seed)\n",
    "    rho_const = np.repeat([r], X.shape[0])\n",
    "    sdem = SDEM(rho_const, alpha, n_components=n_cluster)\n",
    "\n",
    "    X_init = np.random.uniform(np.min(X[start:end, :]), np.max(X[start:end, :]), 20).reshape(-1, X.shape[1])\n",
    "    \n",
    "    sdem.fit(X_init)\n",
    "\n",
    "    for t in range(X.shape[0]):\n",
    "        sdem.update(X[t, :])\n",
    "\n",
    "    pi_est = np.array(sdem.pi_list)\n",
    "    #pi_est = np.array(sdem.weights_)\n",
    "    mu_est = np.array(sdem.means_bar_list)\n",
    "    sigma_est = np.array(sdem.covariances_list)\n",
    "    \n",
    "    scores = [np.nan] * start\n",
    "    \n",
    "    #for t in range(start, pi_est.shape[0]):\n",
    "    for t in range(start, X.shape[0]):\n",
    "        p = np.zeros(n_cluster)\n",
    "        if n_cluster >= 2:\n",
    "            for k in range(n_cluster):\n",
    "                p_k = pi_est[t-1, k] * norm(mu_est[t-1, k, :], np.sqrt(sigma_est[t-1, k, :, :])).pdf(X[t, :])\n",
    "                p[k] = p_k\n",
    "        else:\n",
    "            p[0] = pi_est[t-1] * norm(mu_est[t-1, 0, :], np.sqrt(sigma_est[t-1, :, :])).pdf(X[t, :])\n",
    "        p_tot = np.sum(p)\n",
    "        if p_tot >= 1e-16:\n",
    "            scores.append(-np.log(p_tot))\n",
    "        else:\n",
    "            scores.append(-np.log(1e-30))\n",
    "    scores = np.array(scores)\n",
    "    \n",
    "    return scores"
   ]
  },
  {
   "cell_type": "code",
   "execution_count": 16,
   "id": "suspected-improvement",
   "metadata": {},
   "outputs": [],
   "source": [
    "def calc_scores_iem(X, n_cluster, alpha=1.0, start=20, end=40, seed=0):\n",
    "    np.random.seed(seed)\n",
    "    rhos = 1.0 / np.arange(1, X.shape[0]+1)\n",
    "    #sdem = SDEM(rhos, alpha, n_components=k)\n",
    "    sdem = SDEM(rhos, alpha, n_components=n_cluster)\n",
    "\n",
    "    xmin = np.min(X[start:end, :])\n",
    "    xmax = np.max(X[start:end, :])\n",
    "    \n",
    "    X_init = np.random.uniform(xmin, xmax, 20).reshape(20, X.shape[1])\n",
    "    sdem.fit(X_init)\n",
    "    \n",
    "    for t in range(X.shape[0]):\n",
    "        sdem.update(X[t, :])\n",
    "\n",
    "    pi_est = np.array(sdem.pi_list)\n",
    "    mu_est = np.array(sdem.means_list)\n",
    "    sigma_est = np.array(sdem.covariances_list)\n",
    "    \n",
    "    scores = [np.nan] * start\n",
    "\n",
    "    \"\"\"\n",
    "    n_cluster = pi_est.shape[1]\n",
    "    for t in range(start, X.shape[0]):\n",
    "        p = np.zeros(n_cluster)\n",
    "        for i in range(n_cluster):\n",
    "            p_i = pi_est[t-1, i] * norm(mu_est[t-1, i, :], np.sqrt(sigma_est[t-1, i, :, :])).pdf(X[t, :])\n",
    "            p[i] = p_i\n",
    "        p_tot = np.sum(p)\n",
    "        if p_tot >= 1e-16:\n",
    "            scores.append(-np.log(p_tot))\n",
    "        else:\n",
    "            scores.append(-np.log(-1.0/np.finfo(np.float).min))\n",
    "    scores = np.array(scores)\n",
    "    \"\"\"\n",
    "    #for t in range(start, pi_est.shape[0]):\n",
    "    for t in range(start, X.shape[0]):\n",
    "        p = np.zeros(n_cluster)\n",
    "        if n_cluster >= 2:\n",
    "            for k in range(n_cluster):\n",
    "                p_k = pi_est[t-1, k] * norm(mu_est[t-1, k, :], np.sqrt(sigma_est[t-1, k, :, :])).pdf(X[t, :])\n",
    "                p[k] = p_k\n",
    "        else:\n",
    "            p[0] = pi_est[t-1] * norm(mu_est[t-1, 0, :], np.sqrt(sigma_est[t-1, :, :])).pdf(X[t, :])\n",
    "        p_tot = np.sum(p)\n",
    "        if p_tot >= 1e-16:\n",
    "            scores.append(-np.log(p_tot))\n",
    "        else:\n",
    "            scores.append(-np.log(1e-30))\n",
    "    scores = np.array(scores)\n",
    "    \n",
    "    return scores"
   ]
  },
  {
   "cell_type": "code",
   "execution_count": 108,
   "id": "colored-vault",
   "metadata": {},
   "outputs": [],
   "source": [
    "def sem(X, theta0, rho, start, end, seed):\n",
    "    np.random.seed(seed)\n",
    "    \n",
    "    K = len(theta0.mu)\n",
    "    N = X.shape[0]\n",
    "    D = X.shape[1]\n",
    "    \n",
    "    theta = deepcopy(theta0)\n",
    "    pi_est = np.nan * np.ones((N, K, 1))\n",
    "    mu_est = np.nan * np.ones((N, K, D))\n",
    "    sigma_est = np.nan * np.ones((N, K, D, D))\n",
    "    \n",
    "    s = SuffStatGMM(K, D)\n",
    "    \n",
    "    #X_init = np.random.uniform(np.min(X[start:end, :]), np.max(X[start:end, :]), 20).reshape(-1, X.shape[1])\n",
    "    #X_init = np.random.uniform(-2, 2, 20).reshape(-1, X.shape[1])\n",
    "    #X_init = X[start:end, :].reshape(-1, X.shape[1])\n",
    "    X_init = X[:10, :].reshape(-1, X.shape[1])\n",
    "    \n",
    "    # initialization\n",
    "    tau = compute_tau(X_init, theta)\n",
    "    s.s1[:], s.s2[:], s.s3[:] = compute_stat(X_init, tau)\n",
    "\n",
    "    \n",
    "    inds = np.arange(N)\n",
    "    \n",
    "    for n in range(start, N):\n",
    "        ind_n = inds[n]\n",
    "        \n",
    "        tau_indiv_new = compute_tau(X[ind_n, :].reshape(1, -1), theta).reshape(-1, 1)\n",
    "        s2_indiv_new = np.outer(tau_indiv_new, X[ind_n, :])\n",
    "        s3_indiv_new = np.einsum('k,ij->kij', tau_indiv_new.ravel(), np.outer(X[ind_n, :], X[ind_n, :]))\n",
    "        \n",
    "        if np.any(np.isnan(tau_indiv_new)):\n",
    "            pi_est[n, :] = theta.pi.copy()\n",
    "            mu_est[n, :, :] = theta.mu.copy()\n",
    "            sigma_est[n, :, :, :] = theta.sigma.copy()\n",
    "            continue\n",
    "        \n",
    "        if K == 1:\n",
    "            s.s1 += rho[n] * (tau_indiv_new.ravel() - s.s1)\n",
    "            s.s2 += rho[n] * (s2_indiv_new.ravel() - s.s2)\n",
    "            s.s3 += rho[n] * (s3_indiv_new.ravel() - s.s3)\n",
    "        else:\n",
    "            \"\"\"\n",
    "            print('tau_indiv_new:', tau_indiv_new.shape)\n",
    "            print('s.s1:', s.s1.shape)\n",
    "            print('s2_indiv_new:', s2_indiv_new.shape)\n",
    "            print('s.s2:', s.s2.shape)\n",
    "            print('s3_indiv_new:', s3_indiv_new.shape)\n",
    "            print('s.s3:', s.s3.shape)\n",
    "            \"\"\"\n",
    "            s.s1 += rho[n] * (tau_indiv_new - s.s1)\n",
    "            #s.s1 += rho[n] * (tau_indiv_new.ravel() - s.s1)\n",
    "            s.s2 += rho[n] * (s2_indiv_new - s.s2)\n",
    "            s.s3 += rho[n] * (s3_indiv_new - s.s3)\n",
    "\n",
    "        # M-step\n",
    "        \"\"\"\n",
    "        print(step_M(s, 1))\n",
    "        print(theta.pi.shape)\n",
    "        print(step_M(s, X[ind_n, :])[0])\n",
    "        print(theta.mu.shape)\n",
    "        print(step_M(s, X[ind_n, :])[1])\n",
    "        print(theta.sigma.shape)\n",
    "        print(step_M(s, X[ind_n, :])[2])\n",
    "        \"\"\"\n",
    "        theta.pi[:], theta.mu[:], theta.sigma[:] = step_M(s, 1)\n",
    "        pi_est[n, :] = theta.pi.copy()\n",
    "        mu_est[n, :, :] = theta.mu.copy()\n",
    "        sigma_est[n, :, :, :] = theta.sigma.copy()\n",
    "        \n",
    "    return pi_est, mu_est, sigma_est"
   ]
  },
  {
   "cell_type": "code",
   "execution_count": 93,
   "id": "cooked-secretariat",
   "metadata": {},
   "outputs": [],
   "source": [
    "def calc_scores_sem(X, theta0, r, k, start=20, end=40, seed=0):\n",
    "    rho_const = np.repeat([r], X.shape[0])\n",
    "    pi_est, mu_est, sigma_est = sem(X, theta0, rho_const, start, end, seed)\n",
    "    \n",
    "    #plt.plot(X.ravel())\n",
    "    #plt.plot(mu_est.ravel(), linestyle='dashed')\n",
    "    #plt.show()\n",
    "    \n",
    "    scores = [np.nan]*start\n",
    "    for t in range(start, pi_est.shape[0]):\n",
    "        p = np.zeros(k)\n",
    "        for i in range(k):\n",
    "            p_i = pi_est[t-1, i] * norm(mu_est[t-1, i, :], np.sqrt(sigma_est[t-1, i, :, :])).pdf(X[t, :])\n",
    "            p[i] = p_i\n",
    "        p_tot = np.sum(p)\n",
    "        if p_tot >= 1e-16:\n",
    "            scores.append(-np.log(p_tot))\n",
    "        else:\n",
    "            scores.append(-np.log(1e-30))\n",
    "            \n",
    "    return scores\n"
   ]
  },
  {
   "cell_type": "code",
   "execution_count": 109,
   "id": "figured-venezuela",
   "metadata": {},
   "outputs": [],
   "source": [
    "def sra(X, theta0, rho, gamma, t_start=50, start=20, end=40):\n",
    "    K = len(theta0.mu)\n",
    "    N = X.shape[0]\n",
    "    D = X.shape[1]\n",
    "    \n",
    "    pi_est = np.nan * np.ones((N, K, 1))\n",
    "    mu_est = np.nan * np.ones((N, K, D))\n",
    "    sigma_est = np.nan * np.ones((N, K, D, D))\n",
    "    theta = deepcopy(theta0)\n",
    "    \n",
    "    s = SuffStatGMM(K, D)\n",
    "    \n",
    "    #X_init = np.random.uniform(np.min(X[start:end, :]), np.max(X[start:end, :]), 20).reshape(20, X.shape[1])\n",
    "    #X_init = np.random.uniform(-2, 2, 20).reshape(20, X.shape[1])\n",
    "    #X_init = X[start:end, :].reshape(-1, X.shape[1])\n",
    "    X_init = X[:10, :].reshape(-1, X.shape[1])\n",
    "    \n",
    "    # initialization\n",
    "    tau = compute_tau(X_init, theta)\n",
    "    s.s1[:], s.s2[:], s.s3[:] = compute_stat(X_init, tau)\n",
    "\n",
    "    outliers = []\n",
    "    \n",
    "    inds = np.arange(N)\n",
    "    \n",
    "    for n in range(start, N):\n",
    "        ind_n = inds[n]\n",
    "        \n",
    "        tau_indiv_new = compute_tau(X[ind_n, :].reshape(1, -1), theta).reshape(-1, 1)\n",
    "        #tau_indiv_new = compute_tau(X[ind_n, :].reshape(1, -1), theta)\n",
    "        s2_indiv_new = np.outer(tau_indiv_new, X[ind_n, :])\n",
    "        s3_indiv_new = np.einsum('k,ij->kij', tau_indiv_new.ravel(), np.outer(X[ind_n, :], X[ind_n, :]))\n",
    "        \"\"\"\n",
    "        print('s3_indiv_new:', s3_indiv_new.shape)\n",
    "        \"\"\"\n",
    "        \n",
    "        if ( np.any(np.isnan(tau_indiv_new)) ) | ( (n >= t_start) &  (np.linalg.norm(s2_indiv_new - s.s2) >= gamma) ):\n",
    "            pi_est[n, :] = theta.pi.copy()\n",
    "            mu_est[n, :, :] = theta.mu.copy()\n",
    "            sigma_est[n, :, :, :] = theta.sigma.copy()\n",
    "            \n",
    "            outliers.append(n)\n",
    "            \n",
    "            continue\n",
    "            \n",
    "        # update the statistics\n",
    "        if K == 1:\n",
    "            s.s1 += rho[n] * (tau_indiv_new.ravel() - s.s1)\n",
    "            s.s2 += rho[n] * (s2_indiv_new.ravel() - s.s2)\n",
    "            s.s3 += rho[n] * (s3_indiv_new.ravel() - s.s3)\n",
    "        else:\n",
    "            \"\"\"\n",
    "            print('tau_indiv_new:', tau_indiv_new.shape)\n",
    "            print('s.s1:', s.s1.shape)\n",
    "            print('s2_indiv_new:', s2_indiv_new.shape)\n",
    "            print('s.s2:', s.s2.shape)\n",
    "            print('s3_indiv_new:', s3_indiv_new.shape)\n",
    "            print('s.s3:', s.s3.shape)\n",
    "            \"\"\"\n",
    "            s.s1 += rho[n] * (tau_indiv_new - s.s1)\n",
    "            s.s2 += rho[n] * (s2_indiv_new - s.s2)\n",
    "            s.s3 += rho[n] * (s3_indiv_new - s.s3)\n",
    "\n",
    "        # M-step\n",
    "        \"\"\"\n",
    "        print(theta.pi.shape)\n",
    "        print(step_M(s, X[ind_n, :])[0])\n",
    "        print(theta.mu.shape)\n",
    "        print(step_M(s, X[ind_n, :])[1])\n",
    "        print(theta.sigma.shape)\n",
    "        print(step_M(s, X[ind_n, :])[2])\n",
    "        \"\"\"\n",
    "        theta.pi[:], theta.mu[:], theta.sigma[:] = step_M(s, X[ind_n, :])\n",
    "        pi_est[n, :] = theta.pi.copy()\n",
    "        mu_est[n, :, :] = theta.mu.copy()\n",
    "        sigma_est[n, :, :, :] = theta.sigma.copy()\n",
    "\n",
    "    return pi_est, mu_est, sigma_est, outliers"
   ]
  },
  {
   "cell_type": "code",
   "execution_count": 110,
   "id": "figured-preliminary",
   "metadata": {},
   "outputs": [],
   "source": [
    "def calc_scores_sra(X, theta0, k, gamma, ratio, M, t_start=1500, start=20, seed=0):\n",
    "    np.random.seed(seed)\n",
    "    \n",
    "    rho = ratio * np.exp(-gamma**2/M**2) / (2.0*gamma)\n",
    "    rho_const = np.repeat(rho, X.shape[0])\n",
    "    pi_est, mu_est, sigma_est, outliers = sra(X, theta0, rho_const, gamma, t_start=t_start, start=start)\n",
    "        \n",
    "    scores = [np.nan] * start\n",
    "    for t in range(start, pi_est.shape[0]):\n",
    "        if t in outliers:\n",
    "            score_t = np.nan\n",
    "        else:\n",
    "            p = np.zeros(k)\n",
    "            for i in range(k):\n",
    "                p_i = pi_est[t-1, i] * norm(mu_est[t-1, i, :], np.sqrt(sigma_est[t-1, i, :, :])).pdf(X[t, :])\n",
    "                p[i] = p_i\n",
    "            p_tot = np.sum(p)\n",
    "            if p_tot >= 1e-16:\n",
    "                score_t = -np.log(p_tot)\n",
    "            else:\n",
    "                score_t = -np.log(1e-30)\n",
    "        scores.append(score_t)\n",
    "    return scores"
   ]
  },
  {
   "cell_type": "code",
   "execution_count": 21,
   "id": "concrete-contribution",
   "metadata": {},
   "outputs": [],
   "source": [
    "def calc_metrics(means, mu1, mu2, eval_start=500, eval_end=1000, burnin=1000, N=10000):\n",
    "    ev = np.sum((means[eval_start:eval_end, :] - mu1)**2, axis=1)\n",
    "    former = np.sum((means[burnin:N, :] - mu1)**2, axis=1)\n",
    "    latter = np.sum((means[N:, :] - mu2)**2, axis=1)\n",
    "    overall = np.hstack((former, latter))\n",
    "    \n",
    "    #return np.mean(ev), np.mean(former), np.mean(latter), np.mean(overall)\n",
    "    return np.nanmean(ev), np.nanmean(former), np.nanmean(latter), np.nanmean(overall)"
   ]
  },
  {
   "cell_type": "code",
   "execution_count": 22,
   "id": "universal-egyptian",
   "metadata": {},
   "outputs": [],
   "source": [
    "def calc_falarms_benefit(scores, change_points, start=None, end=None, T=100, N_thr=100, eps=1e-2):\n",
    "    scores_max, scores_min = np.nanmax(scores), np.nanmin(scores)\n",
    "    threshold_list = np.linspace(scores_min - eps, scores_max + eps, N_thr)\n",
    "\n",
    "    falarms = []\n",
    "    benefits = []\n",
    "    \n",
    "    N = len(scores)\n",
    "    \n",
    "    for threshold in threshold_list:\n",
    "        binary_alarm = (np.array(scores) >= threshold)\n",
    "        \n",
    "        benefit = np.zeros(N)\n",
    "        for cp in change_points:\n",
    "            if cp < T:\n",
    "                # t = 0, ... , cp, cp+1, ..., cp+T-1\n",
    "                values = 1.0 - np.hstack((np.arange(cp, 0, -1), np.arange(T)))/T\n",
    "                benefit[:(cp+T)] = values\n",
    "            elif cp+T > N:\n",
    "                # t = cp-T, ..., cp, cp+1, ..., N-1\n",
    "                values = 1.0 - np.hstack((np.arange(T, 0, -1), np.arange(N-cp)))/T\n",
    "                benefit[(cp-T):] = values\n",
    "            else:\n",
    "                # t = cp-T, ..., cp, cp+1, ..., cp+T-1\n",
    "                values = 1.0 - np.hstack((np.arange(T, 0, -1), np.arange(T)))/T\n",
    "                benefit[(cp-T):(cp+T)] = values\n",
    "            \n",
    "        if start is not None:\n",
    "            if end is not None:\n",
    "                benefit = benefit[start:end]\n",
    "                binary_alarm = binary_alarm[start:end]\n",
    "            else:\n",
    "                benefit = benefit[start:]\n",
    "                binary_alarm = binary_alarm[start:]\n",
    "        elif end is not None:\n",
    "            benefit = benefit[:end]\n",
    "            binary_alarm = binary_alarm[:end]\n",
    "        \n",
    "        total_benefit = np.sum(binary_alarm * benefit)\n",
    "        n_falarm = np.sum(binary_alarm * (benefit == 0.0).astype(np.int))\n",
    "        \n",
    "        benefits.append(total_benefit/np.sum(benefit))\n",
    "        falarms.append(n_falarm/np.sum(benefit == 0.0))\n",
    "\n",
    "    benefits = np.array(benefits)    \n",
    "    falarms = np.array(falarms)\n",
    "    \n",
    "    return falarms, benefits"
   ]
  },
  {
   "cell_type": "code",
   "execution_count": 23,
   "id": "editorial-devil",
   "metadata": {},
   "outputs": [],
   "source": [
    "def calc_auc_main(scores, cps, start, end, T, N_thr=100):\n",
    "    falarms, benefits = calc_falarms_benefit(scores, cps, start=start, end=end, T=T, N_thr=N_thr)\n",
    "    auc_ = auc(falarms, benefits)\n",
    "\n",
    "    return auc_"
   ]
  },
  {
   "cell_type": "markdown",
   "id": "improving-removal",
   "metadata": {},
   "source": [
    "## MSE"
   ]
  },
  {
   "cell_type": "code",
   "execution_count": 24,
   "id": "unique-communications",
   "metadata": {},
   "outputs": [],
   "source": [
    "def experiment1_comparison_mse(\n",
    "    # SDEM\n",
    "    r_list_sdem=[0.0001, 0.001, 0.005, 0.01], \n",
    "    # SEM\n",
    "    r_list_sem=[0.01, 0.05, 0.1],\n",
    "    # SRA\n",
    "    gamma_list_sra=[1, 3, 5, 10, 15], \n",
    "    u=10, \n",
    "    N=10000,\n",
    "    alpha_ol=0.01, # ratio of outliers\n",
    "    eval_start=500,\n",
    "    eval_end=1000,\n",
    "    burnin=1000, \n",
    "    pi=np.array([0.5, 0.5]),\n",
    "    mu1=np.array([0.5, -0.5]),\n",
    "    mu2=np.array([1.0, -1.0]),\n",
    "    sigma = np.array([0.1, 0.1]),\n",
    "    cps=np.array([9999]),\n",
    "    start=0, \n",
    "    end=None,\n",
    "    T=100,\n",
    "    N_thr=1000,\n",
    "    n_trial=10):\n",
    "\n",
    "    mse_sdem_eval, mse_sdem_former, mse_sdem_latter, mse_sdem_total = [], [], [], []\n",
    "    mse_iem_eval, mse_iem_former, mse_iem_latter, mse_iem_total = [], [], [], []\n",
    "    mse_sem_eval, mse_sem_former, mse_sem_latter, mse_sem_total = [], [], [], []\n",
    "    mse_sra_eval, mse_sra_former, mse_sra_latter, mse_sra_total = [], [], [], []\n",
    "    \n",
    "    for trial in tqdm.tqdm(range(n_trial)):\n",
    "        # generate data\n",
    "        np.random.seed(trial)\n",
    "        X = np.zeros((2*N, 1))\n",
    "        Xj_former = generate_data(N, pi, mu1, sigma)\n",
    "        X[:N, 0] = Xj_former.ravel()\n",
    "        Xj_latter = generate_data(N, pi, mu2, sigma)\n",
    "        X[N:, 0] = Xj_latter.ravel()\n",
    "\n",
    "        #idxes_ol = np.random.choice(np.arange(N), int(alpha_ol*N))\n",
    "        idxes_ol = np.random.choice(np.arange(2*N), int(alpha_ol*2*N))\n",
    "        X[idxes_ol, :] = np.random.uniform(-u, u, len(idxes_ol)).reshape(-1, 1)    \n",
    "        \n",
    "        print('# SDEM')\n",
    "        for i, r in enumerate(r_list_sdem):\n",
    "            rho_const = np.repeat([r], 2*N)\n",
    "            sdem = SDEM(rho_const, 1.0, n_components=2)\n",
    "            #seed = i*len(r_list_sdem) + trial\n",
    "            sdem.fit(X[:10, :])\n",
    "            for t in range(X.shape[0]):\n",
    "                sdem.update(X[t, :])\n",
    "            \n",
    "            means_est_sdem = np.array(sdem.means_list).reshape(2*N, 2)\n",
    "            ev, former, latter, total = calc_metrics(means_est_sdem, mu1, mu2, eval_start, eval_end, burnin)\n",
    "            mse_sdem_eval.append([trial, r, ev])\n",
    "            mse_sdem_former.append([trial, r, former])\n",
    "            mse_sdem_latter.append([trial, r, latter])\n",
    "            mse_sdem_total.append([trial, r, total])\n",
    "            \n",
    "        print('# IEM')\n",
    "        iem = SDEM(1.0/np.arange(1, 2*N+1), 1.0, n_components=2)\n",
    "        iem.fit(X[:10, :])\n",
    "        for t in range(X.shape[0]):\n",
    "            iem.update(X[t, :])\n",
    "\n",
    "        means_est_iem = np.array(iem.means_list).reshape(2*N, 2)\n",
    "        ev, former, latter, total = calc_metrics(means_est_iem, mu1, mu2, eval_start, eval_end, burnin)\n",
    "        mse_iem_eval.append([trial, ev])\n",
    "        mse_iem_former.append([trial, former])\n",
    "        mse_iem_latter.append([trial, latter])\n",
    "        mse_iem_total.append([trial, total])\n",
    "        \n",
    "        print('# SEM')\n",
    "        for i, r in enumerate(r_list_sem):\n",
    "            seed = i*len(r_list_sem) + trial\n",
    "            #np.random.seed(seed)\n",
    "            \n",
    "            rho_const = np.repeat([r], 2*N)\n",
    "            \n",
    "            pi0 = np.array([1.0]).reshape(-1, 1)\n",
    "            X_init = np.random.uniform(np.min(X[20:40, :]), np.max(X[20:40, :]), 20).reshape(20, X.shape[1])\n",
    "            \n",
    "            mu0 = [np.mean(X_init)]\n",
    "            sigma0 = np.array([[np.std(X_init)]])\n",
    "            theta0 = Theta(pi0, mu0, sigma0)\n",
    "\n",
    "            _, means_est_sem, _ = sem(X, theta0, rho_const, start, end, seed)\n",
    "            \n",
    "            #ev, former, latter, total = calc_metrics(theta_est_sem[:, 3:5], mu1, mu2, eval_start, eval_end, burnin)\n",
    "            ev, former, latter, total = calc_metrics(means_est_sem.reshape(\n",
    "                                                        means_est_sem.shape[0], \n",
    "                                                        means_est_sem.shape[1]\n",
    "                                                     ), \n",
    "                                                     mu1, mu2, eval_start, eval_end, burnin)\n",
    "            mse_sem_eval.append([trial, r, ev])\n",
    "            mse_sem_former.append([trial, r, former])\n",
    "            mse_sem_latter.append([trial, r, latter])\n",
    "            mse_sem_total.append([trial, r, total])\n",
    "\n",
    "        print('# SRA')\n",
    "        for j, gamma in enumerate(gamma_list_sra):\n",
    "            ratio_list = [0.01*gamma, 0.03*gamma, 0.05*gamma, 0.1*gamma]\n",
    "            M_list = [gamma, 2*gamma, 4*gamma]\n",
    "            for l, ratio in enumerate(ratio_list):\n",
    "                for m, M in enumerate(M_list):\n",
    "                    seed = j*len(gamma_list_sra) + l*len(ratio_list) + m * len(M_list) + trial\n",
    "                    \n",
    "                    np.random.seed(seed)\n",
    "                    rho = ratio/(2.0*gamma) * np.exp(-gamma**2/M**2)\n",
    "                    rho_const = np.repeat([rho], 2*N)\n",
    "                    #theta_est_sra = sra(X, theta0, rho_const, gamma)\n",
    "                    _, means_est_sra, _, _ = sra(X, theta0, rho_const, gamma)\n",
    "        \n",
    "                    #ev, former, latter, total = calc_metrics(theta_est_sra[:, 3:5], mu1, mu2, eval_start, eval_end, burnin)\n",
    "                    ev, former, latter, total = calc_metrics(\n",
    "                                                    means_est_sra.reshape(\n",
    "                                                        means_est_sra.shape[0], means_est_sra.shape[1]\n",
    "                                                    ), \n",
    "                                                    mu1, mu2, eval_start, eval_end, burnin)\n",
    "                    mse_sra_eval.append([trial, gamma, ratio, M, ev])\n",
    "                    mse_sra_former.append([trial, gamma, ratio, M, former])\n",
    "                    mse_sra_latter.append([trial, gamma, ratio, M, latter])\n",
    "                    mse_sra_total.append([trial, gamma, ratio, M, total])\n",
    "                    #former = np.sum((theta_est_sra[burnin:N+1, 3:5] - mu1)**2, axis=1)\n",
    "                    #mse_sra_former.append([trial, gamma, ratio, M, former])\n",
    "        \n",
    "                    #latter = np.sum((theta_est_sra[N+1:, 3:5] - mu2)**2, axis=1)\n",
    "                    #mse_sra_latter.append([trial, gamma, ratio, M, latter])\n",
    "        \n",
    "                    #overall = np.hstack((former, latter))\n",
    "                    #mse_sra_total.append([trial, gamma, ratio, M, overall])\n",
    "\n",
    "    mse_sdem_eval_df = pd.DataFrame(mse_sdem_eval, columns=['trial', 'r', 'mse'])\n",
    "    mse_sdem_former_df = pd.DataFrame(mse_sdem_former, columns=['trial', 'r', 'mse'])\n",
    "    mse_sdem_latter_df = pd.DataFrame(mse_sdem_latter, columns=['trial', 'r', 'mse'])\n",
    "    mse_sdem_total_df = pd.DataFrame(mse_sdem_total, columns=['trial', 'r', 'mse'])\n",
    "\n",
    "    mse_iem_eval_df = pd.DataFrame(mse_iem_eval, columns=['trial', 'mse'])\n",
    "    mse_iem_former_df = pd.DataFrame(mse_iem_former, columns=['trial', 'mse'])\n",
    "    mse_iem_latter_df = pd.DataFrame(mse_iem_latter, columns=['trial', 'mse'])\n",
    "    mse_iem_total_df = pd.DataFrame(mse_iem_total, columns=['trial', 'mse'])\n",
    "\n",
    "    mse_sem_eval_df = pd.DataFrame(mse_sem_eval, columns=['trial', 'r', 'mse'])\n",
    "    mse_sem_former_df = pd.DataFrame(mse_sem_former, columns=['trial', 'r', 'mse'])\n",
    "    mse_sem_latter_df = pd.DataFrame(mse_sem_latter, columns=['trial', 'r', 'mse'])\n",
    "    mse_sem_total_df = pd.DataFrame(mse_sem_total, columns=['trial', 'r', 'mse'])\n",
    "\n",
    "    mse_sra_eval_df = pd.DataFrame(mse_sra_eval, columns=['trial', 'gamma', 'ratio', 'M',  'mse'])\n",
    "    mse_sra_former_df = pd.DataFrame(mse_sra_former, columns=['trial', 'gamma', 'ratio', 'M',  'mse'])\n",
    "    mse_sra_latter_df = pd.DataFrame(mse_sra_latter, columns=['trial', 'gamma', 'ratio', 'M',  'mse'])\n",
    "    mse_sra_total_df = pd.DataFrame(mse_sra_total, columns=['trial', 'gamma', 'ratio', 'M',  'mse'])\n",
    "\n",
    "\n",
    "    return mse_sdem_eval_df, mse_sdem_former_df, mse_sdem_latter_df, mse_sdem_total_df, \\\n",
    "           mse_iem_eval_df, mse_iem_former_df, mse_iem_latter_df, mse_iem_total_df, \\\n",
    "           mse_sem_eval_df, mse_sem_former_df, mse_sem_latter_df, mse_sem_total_df, \\\n",
    "           mse_sra_eval_df, mse_sra_former_df, mse_sra_latter_df, mse_sra_total_df"
   ]
  },
  {
   "cell_type": "code",
   "execution_count": 25,
   "id": "empty-amsterdam",
   "metadata": {},
   "outputs": [
    {
     "name": "stdout",
     "output_type": "stream",
     "text": [
      "# SDEM\n"
     ]
    }
   ],
   "source": [
    "N = 10000\n",
    "alpha_ol = 0.01\n",
    "pi = np.array([0.5, 0.5])\n",
    "mu1 = np.array([0.5, -0.5])\n",
    "mu2 = np.array([1.0, -1.0])\n",
    "sigma = np.array([0.1, 0.1])\n",
    "cps = np.array([9999])\n",
    "\n",
    "u = 20\n",
    "r = 0.005\n",
    "\n",
    "X = np.zeros((2*N, 1))\n",
    "Xj_former = generate_data(N, pi, mu1, sigma)\n",
    "X[:N, 0] = Xj_former.ravel()\n",
    "Xj_latter = generate_data(N, pi, mu2, sigma)\n",
    "X[N:, 0] = Xj_latter.ravel()\n",
    "\n",
    "#idxes_ol = np.random.choice(np.arange(N), int(alpha_ol*N))\n",
    "idxes_ol = np.random.choice(np.arange(2*N), int(alpha_ol*2*N))\n",
    "X[idxes_ol, :] = np.random.uniform(-u, u, len(idxes_ol)).reshape(-1, 1)    \n",
    "\n",
    "#idxes_ol = np.random.choice(np.arange(N), int(alpha_ol*N))\n",
    "idxes_ol = np.random.choice(np.arange(2*N), int(alpha_ol*2*N))\n",
    "X[idxes_ol, :] = np.random.uniform(-u, u, len(idxes_ol)).reshape(-1, 1)    \n",
    "\n",
    "rho_const = np.repeat([r], 2*N)\n",
    "sdem = SDEM(rho_const, 1.0, n_components=2)\n",
    "#seed = i*len(r_list_sdem) + trial\n",
    "sdem.fit(X[:10, :])\n",
    "for t in range(X.shape[0]):\n",
    "    sdem.update(X[t, :])\n",
    "\n",
    "means_est_sdem = np.array(sdem.means_list).reshape(2*N, 2)"
   ]
  },
  {
   "cell_type": "code",
   "execution_count": 26,
   "id": "current-finance",
   "metadata": {},
   "outputs": [
    {
     "data": {
      "image/png": "[encoded data removed]",
      "text/plain": [
       "<Figure size 432x288 with 1 Axes>"
      ]
     },
     "metadata": {
      "needs_background": "light"
     },
     "output_type": "display_data"
    }
   ],
   "source": [
    "plt.plot(np.arange(1, 2*N+1), X.ravel())\n",
    "plt.plot(np.arange(1, 2*N+1), means_est_sdem[:, 0], linestyle='dashed')\n",
    "plt.plot(np.arange(1, 2*N+1), means_est_sdem[:, 1], linestyle='dashed')\n",
    "plt.ylim(-2, 2)\n",
    "plt.show()"
   ]
  },
  {
   "cell_type": "code",
   "execution_count": 27,
   "id": "funny-detector",
   "metadata": {},
   "outputs": [
    {
     "data": {
      "text/plain": [
       "(0.21473979713338565,\n",
       " 0.011268386368725757,\n",
       " 0.02787210721627138,\n",
       " 0.028520093117014)"
      ]
     },
     "execution_count": 27,
     "metadata": {},
     "output_type": "execute_result"
    }
   ],
   "source": [
    "np.mean((means_est_sdem[:500, 0] - 0.5)**2 + (means_est_sdem[:500, 1] + 0.5)**2), \\\n",
    "np.mean((means_est_sdem[500:1000, 0] - 0.5)**2 + (means_est_sdem[500:1000, 1] + 0.5)**2), \\\n",
    "np.mean((means_est_sdem[1000:N, 0] - 0.5)**2 + (means_est_sdem[1000:N, 1] + 0.5)**2), \\\n",
    "np.mean((means_est_sdem[N:, 0] - 1.0)**2 + (means_est_sdem[N:, 1] + 1.0)**2)"
   ]
  },
  {
   "cell_type": "code",
   "execution_count": 28,
   "id": "otherwise-announcement",
   "metadata": {},
   "outputs": [],
   "source": [
    "iem = SDEM(1.0/np.arange(1, 2*N+1), 1.0, n_components=2)\n",
    "iem.fit(X[:10, :])\n",
    "for t in range(X.shape[0]):\n",
    "    iem.update(X[t, :])\n",
    "\n",
    "means_est_iem = np.array(iem.means_list).reshape(2*N, 2)"
   ]
  },
  {
   "cell_type": "code",
   "execution_count": 29,
   "id": "vocational-sociology",
   "metadata": {},
   "outputs": [
    {
     "data": {
      "image/png": "[encoded data removed]",
      "text/plain": [
       "<Figure size 432x288 with 1 Axes>"
      ]
     },
     "metadata": {
      "needs_background": "light"
     },
     "output_type": "display_data"
    }
   ],
   "source": [
    "plt.plot(np.arange(1, 2*N+1), X.ravel())\n",
    "plt.plot(np.arange(1, 2*N+1), means_est_iem[:, 0], linestyle='dashed')\n",
    "plt.plot(np.arange(1, 2*N+1), means_est_iem[:, 1], linestyle='dashed')\n",
    "plt.ylim(-2, 2)\n",
    "plt.show()"
   ]
  },
  {
   "cell_type": "code",
   "execution_count": 30,
   "id": "pending-briefs",
   "metadata": {},
   "outputs": [
    {
     "data": {
      "text/plain": [
       "(0.2117468248020325,\n",
       " 0.06586639790850693,\n",
       " 0.0028682550798291673,\n",
       " 0.3019493226933155)"
      ]
     },
     "execution_count": 30,
     "metadata": {},
     "output_type": "execute_result"
    }
   ],
   "source": [
    "np.mean((means_est_iem[:500, 0] - 0.5)**2 + (means_est_iem[:500, 1] + 0.5)**2), \\\n",
    "np.mean((means_est_iem[500:1000, 0] - 0.5)**2 + (means_est_iem[500:1000, 1] + 0.5)**2), \\\n",
    "np.mean((means_est_iem[1000:N, 0] - 0.5)**2 + (means_est_iem[1000:N, 1] + 0.5)**2), \\\n",
    "np.mean((means_est_iem[N:, 0] - 1.0)**2 + (means_est_iem[N:, 1] + 1.0)**2)"
   ]
  },
  {
   "cell_type": "code",
   "execution_count": 111,
   "id": "operating-settlement",
   "metadata": {},
   "outputs": [
    {
     "name": "stdout",
     "output_type": "stream",
     "text": [
      "K = 2, D = 1\n"
     ]
    }
   ],
   "source": [
    "r = 0.01\n",
    "start = 20\n",
    "end = X.shape[0]\n",
    "\n",
    "seed = 2\n",
    "\n",
    "rho_const = np.repeat([r], 2*N)\n",
    "\n",
    "pi0 = np.array([0.5, 0.5]).reshape(-1, 1)\n",
    "#pi0 = np.array([0.5, 0.5])\n",
    "#X_init = np.random.uniform(np.min(X[20:40, :]), np.max(X[20:40, :]), 20).reshape(20, X.shape[1])\n",
    "X_init = np.random.uniform(-2, 2, 20).reshape(20, X.shape[1])\n",
    "\n",
    "#mu0 = [np.mean(X_init)]\n",
    "mu0 = np.random.uniform(np.min(X_init), np.max(X_init), 2).reshape(-1, 1)\n",
    "sigma0 = np.array([[[np.std(X_init)]], [[np.std(X_init)]]])\n",
    "theta0 = Theta(pi0, mu0, sigma0)\n",
    "\n",
    "_, means_est_sem, _ = sem(X, theta0, rho_const, start, end, seed)"
   ]
  },
  {
   "cell_type": "code",
   "execution_count": 112,
   "id": "determined-tenant",
   "metadata": {},
   "outputs": [
    {
     "data": {
      "image/png": "[encoded data removed]",
      "text/plain": [
       "<Figure size 432x288 with 1 Axes>"
      ]
     },
     "metadata": {
      "needs_background": "light"
     },
     "output_type": "display_data"
    }
   ],
   "source": [
    "plt.plot(np.arange(1, 2*N+1), X.ravel())\n",
    "plt.plot(np.arange(1, 2*N+1), means_est_sem[:, 0], linestyle='dashed')\n",
    "plt.plot(np.arange(1, 2*N+1), means_est_sem[:, 1], linestyle='dashed')\n",
    "plt.ylim(-2, 2)\n",
    "plt.show()"
   ]
  },
  {
   "cell_type": "code",
   "execution_count": 113,
   "id": "signed-spank",
   "metadata": {},
   "outputs": [
    {
     "data": {
      "text/plain": [
       "(1.2405412448848627, 1.8477811276638678, 2.0018450965280294, 7.954680385575249)"
      ]
     },
     "execution_count": 113,
     "metadata": {},
     "output_type": "execute_result"
    }
   ],
   "source": [
    "np.mean((means_est_sem[20:500, 0] - 0.5)**2 + (means_est_sem[20:500, 1] + 0.5)**2), \\\n",
    "np.mean((means_est_sem[500:1000, 0] - 0.5)**2 + (means_est_sem[500:1000, 1] + 0.5)**2), \\\n",
    "np.mean((means_est_sem[1000:N, 0] - 0.5)**2 + (means_est_sem[1000:N, 1] + 0.5)**2), \\\n",
    "np.mean((means_est_sem[N:, 0] - 1.0)**2 + (means_est_sem[N:, 1] + 1.0)**2)"
   ]
  },
  {
   "cell_type": "code",
   "execution_count": 114,
   "id": "horizontal-assessment",
   "metadata": {},
   "outputs": [
    {
     "data": {
      "text/plain": [
       "array([[-1.36956728],\n",
       "       [ 1.70235614]])"
      ]
     },
     "execution_count": 114,
     "metadata": {},
     "output_type": "execute_result"
    }
   ],
   "source": [
    "theta0.mu"
   ]
  },
  {
   "cell_type": "code",
   "execution_count": null,
   "id": "featured-contract",
   "metadata": {},
   "outputs": [],
   "source": []
  },
  {
   "cell_type": "code",
   "execution_count": 115,
   "id": "related-sunset",
   "metadata": {},
   "outputs": [
    {
     "name": "stdout",
     "output_type": "stream",
     "text": [
      "K = 2, D = 1\n"
     ]
    }
   ],
   "source": [
    "#gamma = 3.0\n",
    "#ratio = 0.3\n",
    "#M = 10.0\n",
    "gamma = 3.0\n",
    "ratio = 0.3\n",
    "M = 10.0\n",
    "\n",
    "seed = 0\n",
    "\n",
    "np.random.seed(seed)\n",
    "rho = ratio/(2.0*gamma) * np.exp(-gamma**2/M**2)\n",
    "rho_const = np.repeat([rho], 2*N)\n",
    "\n",
    "#theta_est_sra = sra(X, theta0, rho_const, gamma)\n",
    "_, means_est_sra, _, _ = sra(X, theta0, rho_const, gamma)"
   ]
  },
  {
   "cell_type": "code",
   "execution_count": 116,
   "id": "alternate-seating",
   "metadata": {},
   "outputs": [
    {
     "data": {
      "image/png": "[encoded data removed]",
      "text/plain": [
       "<Figure size 432x288 with 1 Axes>"
      ]
     },
     "metadata": {
      "needs_background": "light"
     },
     "output_type": "display_data"
    }
   ],
   "source": [
    "plt.plot(np.arange(1, 2*N+1), X.ravel())\n",
    "plt.plot(np.arange(1, 2*N+1), means_est_sra[:, 0, :], linestyle='dashed')\n",
    "plt.plot(np.arange(1, 2*N+1), means_est_sra[:, 1, :], linestyle='dashed')\n",
    "plt.ylim(-2, 2)\n",
    "plt.show()"
   ]
  },
  {
   "cell_type": "code",
   "execution_count": 117,
   "id": "absent-baghdad",
   "metadata": {},
   "outputs": [
    {
     "data": {
      "text/plain": [
       "(1.835352379364982, 1.9927298437385519, 2.0019343157268885, 7.987573233165228)"
      ]
     },
     "execution_count": 117,
     "metadata": {},
     "output_type": "execute_result"
    }
   ],
   "source": [
    "np.mean((means_est_sra[20:500, 0] - 0.5)**2 + (means_est_sra[20:500, 1] + 0.5)**2), \\\n",
    "np.mean((means_est_sra[500:1000, 0] - 0.5)**2 + (means_est_sra[500:1000, 1] + 0.5)**2), \\\n",
    "np.mean((means_est_sra[1000:N, 0] - 0.5)**2 + (means_est_sra[1000:N, 1] + 0.5)**2), \\\n",
    "np.mean((means_est_sra[N:, 0] - 1.0)**2 + (means_est_sra[N:, 1] + 1.0)**2)"
   ]
  },
  {
   "cell_type": "code",
   "execution_count": null,
   "id": "chronic-vector",
   "metadata": {},
   "outputs": [],
   "source": []
  },
  {
   "cell_type": "code",
   "execution_count": 41,
   "id": "absent-explosion",
   "metadata": {},
   "outputs": [
    {
     "name": "stderr",
     "output_type": "stream",
     "text": [
      "  0%|          | 0/10 [00:00<?, ?it/s]"
     ]
    },
    {
     "name": "stdout",
     "output_type": "stream",
     "text": [
      "# SDEM\n",
      "# IEM\n",
      "# SEM\n"
     ]
    },
    {
     "name": "stderr",
     "output_type": "stream",
     "text": [
      "/Users/shi-fukushima/.pyenv/versions/anaconda3-5.3.1/lib/python3.7/site-packages/ipykernel_launcher.py:12: RuntimeWarning: invalid value encountered in true_divide\n",
      "  if sys.path[0] == '':\n"
     ]
    },
    {
     "name": "stdout",
     "output_type": "stream",
     "text": [
      "# SRA\n"
     ]
    },
    {
     "name": "stderr",
     "output_type": "stream",
     "text": [
      " 10%|█         | 1/10 [20:00<3:00:00, 1200.02s/it]"
     ]
    },
    {
     "name": "stdout",
     "output_type": "stream",
     "text": [
      "# SDEM\n",
      "# IEM\n",
      "# SEM\n"
     ]
    },
    {
     "name": "stderr",
     "output_type": "stream",
     "text": [
      "/Users/shi-fukushima/.pyenv/versions/anaconda3-5.3.1/lib/python3.7/site-packages/ipykernel_launcher.py:12: RuntimeWarning: invalid value encountered in true_divide\n",
      "  if sys.path[0] == '':\n"
     ]
    },
    {
     "name": "stdout",
     "output_type": "stream",
     "text": [
      "# SRA\n"
     ]
    },
    {
     "name": "stderr",
     "output_type": "stream",
     "text": [
      " 20%|██        | 2/10 [39:45<2:38:52, 1191.59s/it]"
     ]
    },
    {
     "name": "stdout",
     "output_type": "stream",
     "text": [
      "# SDEM\n",
      "# IEM\n",
      "# SEM\n"
     ]
    },
    {
     "name": "stderr",
     "output_type": "stream",
     "text": [
      "/Users/shi-fukushima/.pyenv/versions/anaconda3-5.3.1/lib/python3.7/site-packages/ipykernel_launcher.py:12: RuntimeWarning: invalid value encountered in true_divide\n",
      "  if sys.path[0] == '':\n"
     ]
    },
    {
     "name": "stdout",
     "output_type": "stream",
     "text": [
      "# SRA\n"
     ]
    },
    {
     "name": "stderr",
     "output_type": "stream",
     "text": [
      " 30%|███       | 3/10 [58:54<2:16:45, 1172.24s/it]"
     ]
    },
    {
     "name": "stdout",
     "output_type": "stream",
     "text": [
      "# SDEM\n",
      "# IEM\n",
      "# SEM\n"
     ]
    },
    {
     "name": "stderr",
     "output_type": "stream",
     "text": [
      "/Users/shi-fukushima/.pyenv/versions/anaconda3-5.3.1/lib/python3.7/site-packages/ipykernel_launcher.py:12: RuntimeWarning: invalid value encountered in true_divide\n",
      "  if sys.path[0] == '':\n"
     ]
    },
    {
     "name": "stdout",
     "output_type": "stream",
     "text": [
      "# SRA\n"
     ]
    },
    {
     "name": "stderr",
     "output_type": "stream",
     "text": [
      " 40%|████      | 4/10 [1:21:01<2:03:18, 1233.10s/it]"
     ]
    },
    {
     "name": "stdout",
     "output_type": "stream",
     "text": [
      "# SDEM\n",
      "# IEM\n",
      "# SEM\n"
     ]
    },
    {
     "name": "stderr",
     "output_type": "stream",
     "text": [
      "/Users/shi-fukushima/.pyenv/versions/anaconda3-5.3.1/lib/python3.7/site-packages/ipykernel_launcher.py:12: RuntimeWarning: invalid value encountered in true_divide\n",
      "  if sys.path[0] == '':\n"
     ]
    },
    {
     "name": "stdout",
     "output_type": "stream",
     "text": [
      "# SRA\n"
     ]
    },
    {
     "name": "stderr",
     "output_type": "stream",
     "text": [
      " 50%|█████     | 5/10 [1:43:06<1:45:32, 1266.43s/it]"
     ]
    },
    {
     "name": "stdout",
     "output_type": "stream",
     "text": [
      "# SDEM\n",
      "# IEM\n",
      "# SEM\n"
     ]
    },
    {
     "name": "stderr",
     "output_type": "stream",
     "text": [
      "/Users/shi-fukushima/.pyenv/versions/anaconda3-5.3.1/lib/python3.7/site-packages/ipykernel_launcher.py:12: RuntimeWarning: invalid value encountered in true_divide\n",
      "  if sys.path[0] == '':\n"
     ]
    },
    {
     "name": "stdout",
     "output_type": "stream",
     "text": [
      "# SRA\n"
     ]
    },
    {
     "name": "stderr",
     "output_type": "stream",
     "text": [
      " 60%|██████    | 6/10 [2:05:28<1:26:07, 1291.86s/it]"
     ]
    },
    {
     "name": "stdout",
     "output_type": "stream",
     "text": [
      "# SDEM\n",
      "# IEM\n",
      "# SEM\n"
     ]
    },
    {
     "name": "stderr",
     "output_type": "stream",
     "text": [
      "/Users/shi-fukushima/.pyenv/versions/anaconda3-5.3.1/lib/python3.7/site-packages/ipykernel_launcher.py:12: RuntimeWarning: invalid value encountered in true_divide\n",
      "  if sys.path[0] == '':\n"
     ]
    },
    {
     "name": "stdout",
     "output_type": "stream",
     "text": [
      "# SRA\n"
     ]
    },
    {
     "name": "stderr",
     "output_type": "stream",
     "text": [
      " 70%|███████   | 7/10 [2:28:13<1:05:47, 1315.95s/it]"
     ]
    },
    {
     "name": "stdout",
     "output_type": "stream",
     "text": [
      "# SDEM\n",
      "# IEM\n",
      "# SEM\n"
     ]
    },
    {
     "name": "stderr",
     "output_type": "stream",
     "text": [
      "/Users/shi-fukushima/.pyenv/versions/anaconda3-5.3.1/lib/python3.7/site-packages/ipykernel_launcher.py:12: RuntimeWarning: invalid value encountered in true_divide\n",
      "  if sys.path[0] == '':\n"
     ]
    },
    {
     "name": "stdout",
     "output_type": "stream",
     "text": [
      "# SRA\n"
     ]
    },
    {
     "name": "stderr",
     "output_type": "stream",
     "text": [
      " 80%|████████  | 8/10 [2:49:56<43:43, 1311.84s/it]  "
     ]
    },
    {
     "name": "stdout",
     "output_type": "stream",
     "text": [
      "# SDEM\n",
      "# IEM\n",
      "# SEM\n"
     ]
    },
    {
     "name": "stderr",
     "output_type": "stream",
     "text": [
      "/Users/shi-fukushima/.pyenv/versions/anaconda3-5.3.1/lib/python3.7/site-packages/ipykernel_launcher.py:12: RuntimeWarning: invalid value encountered in true_divide\n",
      "  if sys.path[0] == '':\n"
     ]
    },
    {
     "name": "stdout",
     "output_type": "stream",
     "text": [
      "# SRA\n"
     ]
    },
    {
     "name": "stderr",
     "output_type": "stream",
     "text": [
      " 90%|█████████ | 9/10 [3:12:06<21:57, 1317.58s/it]"
     ]
    },
    {
     "name": "stdout",
     "output_type": "stream",
     "text": [
      "# SDEM\n",
      "# IEM\n",
      "# SEM\n"
     ]
    },
    {
     "name": "stderr",
     "output_type": "stream",
     "text": [
      "/Users/shi-fukushima/.pyenv/versions/anaconda3-5.3.1/lib/python3.7/site-packages/ipykernel_launcher.py:12: RuntimeWarning: invalid value encountered in true_divide\n",
      "  if sys.path[0] == '':\n"
     ]
    },
    {
     "name": "stdout",
     "output_type": "stream",
     "text": [
      "# SRA\n"
     ]
    },
    {
     "name": "stderr",
     "output_type": "stream",
     "text": [
      "100%|██████████| 10/10 [3:31:43<00:00, 1270.36s/it]\n"
     ]
    }
   ],
   "source": [
    "mse_sdem_eval_df, mse_sdem_former_df, mse_sdem_latter_df, mse_sdem_total_df, \\\n",
    "mse_iem_eval_df, mse_iem_former_df, mse_iem_latter_df, mse_iem_total_df, \\\n",
    "mse_sem_eval_df, mse_sem_former_df, mse_sem_latter_df, mse_sem_total_df, \\\n",
    "mse_sra_eval_df, mse_sra_former_df, mse_sra_latter_df, mse_sra_total_df = experiment1_comparison_mse(u=20)"
   ]
  },
  {
   "cell_type": "code",
   "execution_count": null,
   "id": "agreed-singer",
   "metadata": {},
   "outputs": [],
   "source": []
  },
  {
   "cell_type": "code",
   "execution_count": 22,
   "id": "recreational-circus",
   "metadata": {},
   "outputs": [
    {
     "data": {
      "text/html": [
       "<div>\n",
       "<style scoped>\n",
       "    .dataframe tbody tr th:only-of-type {\n",
       "        vertical-align: middle;\n",
       "    }\n",
       "\n",
       "    .dataframe tbody tr th {\n",
       "        vertical-align: top;\n",
       "    }\n",
       "\n",
       "    .dataframe thead th {\n",
       "        text-align: right;\n",
       "    }\n",
       "</style>\n",
       "<table border=\"1\" class=\"dataframe\">\n",
       "  <thead>\n",
       "    <tr style=\"text-align: right;\">\n",
       "      <th></th>\n",
       "      <th>mean</th>\n",
       "      <th>std</th>\n",
       "    </tr>\n",
       "    <tr>\n",
       "      <th>r</th>\n",
       "      <th></th>\n",
       "      <th></th>\n",
       "    </tr>\n",
       "  </thead>\n",
       "  <tbody>\n",
       "    <tr>\n",
       "      <th>0.0001</th>\n",
       "      <td>0.543586</td>\n",
       "      <td>0.063872</td>\n",
       "    </tr>\n",
       "    <tr>\n",
       "      <th>0.0010</th>\n",
       "      <td>0.512158</td>\n",
       "      <td>0.020267</td>\n",
       "    </tr>\n",
       "    <tr>\n",
       "      <th>0.0050</th>\n",
       "      <td>0.506038</td>\n",
       "      <td>0.002850</td>\n",
       "    </tr>\n",
       "    <tr>\n",
       "      <th>0.0100</th>\n",
       "      <td>0.513160</td>\n",
       "      <td>0.006211</td>\n",
       "    </tr>\n",
       "  </tbody>\n",
       "</table>\n",
       "</div>"
      ],
      "text/plain": [
       "            mean       std\n",
       "r                         \n",
       "0.0001  0.543586  0.063872\n",
       "0.0010  0.512158  0.020267\n",
       "0.0050  0.506038  0.002850\n",
       "0.0100  0.513160  0.006211"
      ]
     },
     "execution_count": 22,
     "metadata": {},
     "output_type": "execute_result"
    }
   ],
   "source": [
    "mse_sdem_eval_df.groupby('r')['mse'].agg(['mean', 'std'])"
   ]
  },
  {
   "cell_type": "code",
   "execution_count": 23,
   "id": "biological-making",
   "metadata": {},
   "outputs": [
    {
     "data": {
      "text/html": [
       "<div>\n",
       "<style scoped>\n",
       "    .dataframe tbody tr th:only-of-type {\n",
       "        vertical-align: middle;\n",
       "    }\n",
       "\n",
       "    .dataframe tbody tr th {\n",
       "        vertical-align: top;\n",
       "    }\n",
       "\n",
       "    .dataframe thead th {\n",
       "        text-align: right;\n",
       "    }\n",
       "</style>\n",
       "<table border=\"1\" class=\"dataframe\">\n",
       "  <thead>\n",
       "    <tr style=\"text-align: right;\">\n",
       "      <th></th>\n",
       "      <th>trial</th>\n",
       "      <th>r</th>\n",
       "      <th>mse</th>\n",
       "    </tr>\n",
       "  </thead>\n",
       "  <tbody>\n",
       "    <tr>\n",
       "      <th>0</th>\n",
       "      <td>0</td>\n",
       "      <td>0.0001</td>\n",
       "      <td>0.594879</td>\n",
       "    </tr>\n",
       "    <tr>\n",
       "      <th>1</th>\n",
       "      <td>0</td>\n",
       "      <td>0.0010</td>\n",
       "      <td>0.505026</td>\n",
       "    </tr>\n",
       "    <tr>\n",
       "      <th>2</th>\n",
       "      <td>0</td>\n",
       "      <td>0.0050</td>\n",
       "      <td>0.508280</td>\n",
       "    </tr>\n",
       "    <tr>\n",
       "      <th>3</th>\n",
       "      <td>0</td>\n",
       "      <td>0.0100</td>\n",
       "      <td>0.516614</td>\n",
       "    </tr>\n",
       "    <tr>\n",
       "      <th>4</th>\n",
       "      <td>1</td>\n",
       "      <td>0.0001</td>\n",
       "      <td>0.523619</td>\n",
       "    </tr>\n",
       "    <tr>\n",
       "      <th>5</th>\n",
       "      <td>1</td>\n",
       "      <td>0.0010</td>\n",
       "      <td>0.501827</td>\n",
       "    </tr>\n",
       "    <tr>\n",
       "      <th>6</th>\n",
       "      <td>1</td>\n",
       "      <td>0.0050</td>\n",
       "      <td>0.506203</td>\n",
       "    </tr>\n",
       "    <tr>\n",
       "      <th>7</th>\n",
       "      <td>1</td>\n",
       "      <td>0.0100</td>\n",
       "      <td>0.513043</td>\n",
       "    </tr>\n",
       "    <tr>\n",
       "      <th>8</th>\n",
       "      <td>2</td>\n",
       "      <td>0.0001</td>\n",
       "      <td>0.502310</td>\n",
       "    </tr>\n",
       "    <tr>\n",
       "      <th>9</th>\n",
       "      <td>2</td>\n",
       "      <td>0.0010</td>\n",
       "      <td>0.501206</td>\n",
       "    </tr>\n",
       "    <tr>\n",
       "      <th>10</th>\n",
       "      <td>2</td>\n",
       "      <td>0.0050</td>\n",
       "      <td>0.507087</td>\n",
       "    </tr>\n",
       "    <tr>\n",
       "      <th>11</th>\n",
       "      <td>2</td>\n",
       "      <td>0.0100</td>\n",
       "      <td>0.514268</td>\n",
       "    </tr>\n",
       "    <tr>\n",
       "      <th>12</th>\n",
       "      <td>3</td>\n",
       "      <td>0.0001</td>\n",
       "      <td>0.504083</td>\n",
       "    </tr>\n",
       "    <tr>\n",
       "      <th>13</th>\n",
       "      <td>3</td>\n",
       "      <td>0.0010</td>\n",
       "      <td>0.501313</td>\n",
       "    </tr>\n",
       "    <tr>\n",
       "      <th>14</th>\n",
       "      <td>3</td>\n",
       "      <td>0.0050</td>\n",
       "      <td>0.506380</td>\n",
       "    </tr>\n",
       "    <tr>\n",
       "      <th>15</th>\n",
       "      <td>3</td>\n",
       "      <td>0.0100</td>\n",
       "      <td>0.512872</td>\n",
       "    </tr>\n",
       "    <tr>\n",
       "      <th>16</th>\n",
       "      <td>4</td>\n",
       "      <td>0.0001</td>\n",
       "      <td>0.500160</td>\n",
       "    </tr>\n",
       "    <tr>\n",
       "      <th>17</th>\n",
       "      <td>4</td>\n",
       "      <td>0.0010</td>\n",
       "      <td>0.500598</td>\n",
       "    </tr>\n",
       "    <tr>\n",
       "      <th>18</th>\n",
       "      <td>4</td>\n",
       "      <td>0.0050</td>\n",
       "      <td>0.506570</td>\n",
       "    </tr>\n",
       "    <tr>\n",
       "      <th>19</th>\n",
       "      <td>4</td>\n",
       "      <td>0.0100</td>\n",
       "      <td>0.514782</td>\n",
       "    </tr>\n",
       "    <tr>\n",
       "      <th>20</th>\n",
       "      <td>5</td>\n",
       "      <td>0.0001</td>\n",
       "      <td>0.502539</td>\n",
       "    </tr>\n",
       "    <tr>\n",
       "      <th>21</th>\n",
       "      <td>5</td>\n",
       "      <td>0.0010</td>\n",
       "      <td>0.500606</td>\n",
       "    </tr>\n",
       "    <tr>\n",
       "      <th>22</th>\n",
       "      <td>5</td>\n",
       "      <td>0.0050</td>\n",
       "      <td>0.505550</td>\n",
       "    </tr>\n",
       "    <tr>\n",
       "      <th>23</th>\n",
       "      <td>5</td>\n",
       "      <td>0.0100</td>\n",
       "      <td>0.513194</td>\n",
       "    </tr>\n",
       "    <tr>\n",
       "      <th>24</th>\n",
       "      <td>6</td>\n",
       "      <td>0.0001</td>\n",
       "      <td>0.503805</td>\n",
       "    </tr>\n",
       "    <tr>\n",
       "      <th>25</th>\n",
       "      <td>6</td>\n",
       "      <td>0.0010</td>\n",
       "      <td>0.501000</td>\n",
       "    </tr>\n",
       "    <tr>\n",
       "      <th>26</th>\n",
       "      <td>6</td>\n",
       "      <td>0.0050</td>\n",
       "      <td>0.507138</td>\n",
       "    </tr>\n",
       "    <tr>\n",
       "      <th>27</th>\n",
       "      <td>6</td>\n",
       "      <td>0.0100</td>\n",
       "      <td>0.515778</td>\n",
       "    </tr>\n",
       "    <tr>\n",
       "      <th>28</th>\n",
       "      <td>7</td>\n",
       "      <td>0.0001</td>\n",
       "      <td>0.540427</td>\n",
       "    </tr>\n",
       "    <tr>\n",
       "      <th>29</th>\n",
       "      <td>7</td>\n",
       "      <td>0.0010</td>\n",
       "      <td>0.501878</td>\n",
       "    </tr>\n",
       "    <tr>\n",
       "      <th>30</th>\n",
       "      <td>7</td>\n",
       "      <td>0.0050</td>\n",
       "      <td>0.506548</td>\n",
       "    </tr>\n",
       "    <tr>\n",
       "      <th>31</th>\n",
       "      <td>7</td>\n",
       "      <td>0.0100</td>\n",
       "      <td>0.512827</td>\n",
       "    </tr>\n",
       "    <tr>\n",
       "      <th>32</th>\n",
       "      <td>8</td>\n",
       "      <td>0.0001</td>\n",
       "      <td>0.509837</td>\n",
       "    </tr>\n",
       "    <tr>\n",
       "      <th>33</th>\n",
       "      <td>8</td>\n",
       "      <td>0.0010</td>\n",
       "      <td>0.501396</td>\n",
       "    </tr>\n",
       "    <tr>\n",
       "      <th>34</th>\n",
       "      <td>8</td>\n",
       "      <td>0.0050</td>\n",
       "      <td>0.508173</td>\n",
       "    </tr>\n",
       "    <tr>\n",
       "      <th>35</th>\n",
       "      <td>8</td>\n",
       "      <td>0.0100</td>\n",
       "      <td>0.516589</td>\n",
       "    </tr>\n",
       "    <tr>\n",
       "      <th>36</th>\n",
       "      <td>9</td>\n",
       "      <td>0.0001</td>\n",
       "      <td>0.514659</td>\n",
       "    </tr>\n",
       "    <tr>\n",
       "      <th>37</th>\n",
       "      <td>9</td>\n",
       "      <td>0.0010</td>\n",
       "      <td>0.501565</td>\n",
       "    </tr>\n",
       "    <tr>\n",
       "      <th>38</th>\n",
       "      <td>9</td>\n",
       "      <td>0.0050</td>\n",
       "      <td>0.509898</td>\n",
       "    </tr>\n",
       "    <tr>\n",
       "      <th>39</th>\n",
       "      <td>9</td>\n",
       "      <td>0.0100</td>\n",
       "      <td>0.518841</td>\n",
       "    </tr>\n",
       "  </tbody>\n",
       "</table>\n",
       "</div>"
      ],
      "text/plain": [
       "    trial       r       mse\n",
       "0       0  0.0001  0.594879\n",
       "1       0  0.0010  0.505026\n",
       "2       0  0.0050  0.508280\n",
       "3       0  0.0100  0.516614\n",
       "4       1  0.0001  0.523619\n",
       "5       1  0.0010  0.501827\n",
       "6       1  0.0050  0.506203\n",
       "7       1  0.0100  0.513043\n",
       "8       2  0.0001  0.502310\n",
       "9       2  0.0010  0.501206\n",
       "10      2  0.0050  0.507087\n",
       "11      2  0.0100  0.514268\n",
       "12      3  0.0001  0.504083\n",
       "13      3  0.0010  0.501313\n",
       "14      3  0.0050  0.506380\n",
       "15      3  0.0100  0.512872\n",
       "16      4  0.0001  0.500160\n",
       "17      4  0.0010  0.500598\n",
       "18      4  0.0050  0.506570\n",
       "19      4  0.0100  0.514782\n",
       "20      5  0.0001  0.502539\n",
       "21      5  0.0010  0.500606\n",
       "22      5  0.0050  0.505550\n",
       "23      5  0.0100  0.513194\n",
       "24      6  0.0001  0.503805\n",
       "25      6  0.0010  0.501000\n",
       "26      6  0.0050  0.507138\n",
       "27      6  0.0100  0.515778\n",
       "28      7  0.0001  0.540427\n",
       "29      7  0.0010  0.501878\n",
       "30      7  0.0050  0.506548\n",
       "31      7  0.0100  0.512827\n",
       "32      8  0.0001  0.509837\n",
       "33      8  0.0010  0.501396\n",
       "34      8  0.0050  0.508173\n",
       "35      8  0.0100  0.516589\n",
       "36      9  0.0001  0.514659\n",
       "37      9  0.0010  0.501565\n",
       "38      9  0.0050  0.509898\n",
       "39      9  0.0100  0.518841"
      ]
     },
     "execution_count": 23,
     "metadata": {},
     "output_type": "execute_result"
    }
   ],
   "source": [
    "mse_sdem_former_df"
   ]
  },
  {
   "cell_type": "code",
   "execution_count": 24,
   "id": "exempt-belfast",
   "metadata": {},
   "outputs": [
    {
     "data": {
      "text/html": [
       "<div>\n",
       "<style scoped>\n",
       "    .dataframe tbody tr th:only-of-type {\n",
       "        vertical-align: middle;\n",
       "    }\n",
       "\n",
       "    .dataframe tbody tr th {\n",
       "        vertical-align: top;\n",
       "    }\n",
       "\n",
       "    .dataframe thead th {\n",
       "        text-align: right;\n",
       "    }\n",
       "</style>\n",
       "<table border=\"1\" class=\"dataframe\">\n",
       "  <thead>\n",
       "    <tr style=\"text-align: right;\">\n",
       "      <th></th>\n",
       "      <th>mean</th>\n",
       "      <th>std</th>\n",
       "    </tr>\n",
       "    <tr>\n",
       "      <th>r</th>\n",
       "      <th></th>\n",
       "      <th></th>\n",
       "    </tr>\n",
       "  </thead>\n",
       "  <tbody>\n",
       "    <tr>\n",
       "      <th>0.0001</th>\n",
       "      <td>0.519632</td>\n",
       "      <td>0.029240</td>\n",
       "    </tr>\n",
       "    <tr>\n",
       "      <th>0.0010</th>\n",
       "      <td>0.501641</td>\n",
       "      <td>0.001268</td>\n",
       "    </tr>\n",
       "    <tr>\n",
       "      <th>0.0050</th>\n",
       "      <td>0.507183</td>\n",
       "      <td>0.001274</td>\n",
       "    </tr>\n",
       "    <tr>\n",
       "      <th>0.0100</th>\n",
       "      <td>0.514881</td>\n",
       "      <td>0.002035</td>\n",
       "    </tr>\n",
       "  </tbody>\n",
       "</table>\n",
       "</div>"
      ],
      "text/plain": [
       "            mean       std\n",
       "r                         \n",
       "0.0001  0.519632  0.029240\n",
       "0.0010  0.501641  0.001268\n",
       "0.0050  0.507183  0.001274\n",
       "0.0100  0.514881  0.002035"
      ]
     },
     "execution_count": 24,
     "metadata": {},
     "output_type": "execute_result"
    }
   ],
   "source": [
    "mse_sdem_former_df.groupby('r')['mse'].agg(['mean', 'std'])"
   ]
  },
  {
   "cell_type": "code",
   "execution_count": 25,
   "id": "persistent-prevention",
   "metadata": {},
   "outputs": [
    {
     "data": {
      "text/html": [
       "<div>\n",
       "<style scoped>\n",
       "    .dataframe tbody tr th:only-of-type {\n",
       "        vertical-align: middle;\n",
       "    }\n",
       "\n",
       "    .dataframe tbody tr th {\n",
       "        vertical-align: top;\n",
       "    }\n",
       "\n",
       "    .dataframe thead th {\n",
       "        text-align: right;\n",
       "    }\n",
       "</style>\n",
       "<table border=\"1\" class=\"dataframe\">\n",
       "  <thead>\n",
       "    <tr style=\"text-align: right;\">\n",
       "      <th></th>\n",
       "      <th>mean</th>\n",
       "      <th>std</th>\n",
       "    </tr>\n",
       "    <tr>\n",
       "      <th>r</th>\n",
       "      <th></th>\n",
       "      <th></th>\n",
       "    </tr>\n",
       "  </thead>\n",
       "  <tbody>\n",
       "    <tr>\n",
       "      <th>0.0001</th>\n",
       "      <td>2.003603</td>\n",
       "      <td>0.005151</td>\n",
       "    </tr>\n",
       "    <tr>\n",
       "      <th>0.0010</th>\n",
       "      <td>2.002727</td>\n",
       "      <td>0.000623</td>\n",
       "    </tr>\n",
       "    <tr>\n",
       "      <th>0.0050</th>\n",
       "      <td>2.012804</td>\n",
       "      <td>0.002570</td>\n",
       "    </tr>\n",
       "    <tr>\n",
       "      <th>0.0100</th>\n",
       "      <td>2.024977</td>\n",
       "      <td>0.003736</td>\n",
       "    </tr>\n",
       "  </tbody>\n",
       "</table>\n",
       "</div>"
      ],
      "text/plain": [
       "            mean       std\n",
       "r                         \n",
       "0.0001  2.003603  0.005151\n",
       "0.0010  2.002727  0.000623\n",
       "0.0050  2.012804  0.002570\n",
       "0.0100  2.024977  0.003736"
      ]
     },
     "execution_count": 25,
     "metadata": {},
     "output_type": "execute_result"
    }
   ],
   "source": [
    "mse_sdem_latter_df.groupby('r')['mse'].agg(['mean', 'std'])"
   ]
  },
  {
   "cell_type": "code",
   "execution_count": 26,
   "id": "empty-colonial",
   "metadata": {},
   "outputs": [
    {
     "data": {
      "text/html": [
       "<div>\n",
       "<style scoped>\n",
       "    .dataframe tbody tr th:only-of-type {\n",
       "        vertical-align: middle;\n",
       "    }\n",
       "\n",
       "    .dataframe tbody tr th {\n",
       "        vertical-align: top;\n",
       "    }\n",
       "\n",
       "    .dataframe thead th {\n",
       "        text-align: right;\n",
       "    }\n",
       "</style>\n",
       "<table border=\"1\" class=\"dataframe\">\n",
       "  <thead>\n",
       "    <tr style=\"text-align: right;\">\n",
       "      <th></th>\n",
       "      <th>mean</th>\n",
       "      <th>std</th>\n",
       "    </tr>\n",
       "    <tr>\n",
       "      <th>r</th>\n",
       "      <th></th>\n",
       "      <th></th>\n",
       "    </tr>\n",
       "  </thead>\n",
       "  <tbody>\n",
       "    <tr>\n",
       "      <th>0.0001</th>\n",
       "      <td>1.300669</td>\n",
       "      <td>0.016550</td>\n",
       "    </tr>\n",
       "    <tr>\n",
       "      <th>0.0010</th>\n",
       "      <td>1.291686</td>\n",
       "      <td>0.000712</td>\n",
       "    </tr>\n",
       "    <tr>\n",
       "      <th>0.0050</th>\n",
       "      <td>1.299615</td>\n",
       "      <td>0.001690</td>\n",
       "    </tr>\n",
       "    <tr>\n",
       "      <th>0.0100</th>\n",
       "      <td>1.309668</td>\n",
       "      <td>0.002422</td>\n",
       "    </tr>\n",
       "  </tbody>\n",
       "</table>\n",
       "</div>"
      ],
      "text/plain": [
       "            mean       std\n",
       "r                         \n",
       "0.0001  1.300669  0.016550\n",
       "0.0010  1.291686  0.000712\n",
       "0.0050  1.299615  0.001690\n",
       "0.0100  1.309668  0.002422"
      ]
     },
     "execution_count": 26,
     "metadata": {},
     "output_type": "execute_result"
    }
   ],
   "source": [
    "mse_sdem_total_df.groupby('r')['mse'].agg(['mean', 'std'])"
   ]
  },
  {
   "cell_type": "code",
   "execution_count": null,
   "id": "sound-batman",
   "metadata": {},
   "outputs": [],
   "source": []
  },
  {
   "cell_type": "code",
   "execution_count": 27,
   "id": "changed-travel",
   "metadata": {},
   "outputs": [
    {
     "data": {
      "text/plain": [
       "mean    0.502609\n",
       "std     0.002225\n",
       "Name: mse, dtype: float64"
      ]
     },
     "execution_count": 27,
     "metadata": {},
     "output_type": "execute_result"
    }
   ],
   "source": [
    "mse_iem_eval_df['mse'].agg(['mean', 'std'])"
   ]
  },
  {
   "cell_type": "code",
   "execution_count": 28,
   "id": "burning-racing",
   "metadata": {},
   "outputs": [
    {
     "data": {
      "text/plain": [
       "mean    0.500468\n",
       "std     0.000431\n",
       "Name: mse, dtype: float64"
      ]
     },
     "execution_count": 28,
     "metadata": {},
     "output_type": "execute_result"
    }
   ],
   "source": [
    "mse_iem_former_df['mse'].agg(['mean', 'std'])"
   ]
  },
  {
   "cell_type": "code",
   "execution_count": 29,
   "id": "daily-amount",
   "metadata": {},
   "outputs": [
    {
     "data": {
      "text/plain": [
       "mean    2.000169\n",
       "std     0.000204\n",
       "Name: mse, dtype: float64"
      ]
     },
     "execution_count": 29,
     "metadata": {},
     "output_type": "execute_result"
    }
   ],
   "source": [
    "mse_iem_latter_df['mse'].agg(['mean', 'std'])"
   ]
  },
  {
   "cell_type": "code",
   "execution_count": 30,
   "id": "patient-commissioner",
   "metadata": {},
   "outputs": [
    {
     "data": {
      "text/plain": [
       "mean    1.289784\n",
       "std     0.000267\n",
       "Name: mse, dtype: float64"
      ]
     },
     "execution_count": 30,
     "metadata": {},
     "output_type": "execute_result"
    }
   ],
   "source": [
    "mse_iem_total_df['mse'].agg(['mean', 'std'])"
   ]
  },
  {
   "cell_type": "code",
   "execution_count": null,
   "id": "green-african",
   "metadata": {},
   "outputs": [],
   "source": []
  },
  {
   "cell_type": "code",
   "execution_count": 31,
   "id": "collectible-heating",
   "metadata": {},
   "outputs": [
    {
     "data": {
      "text/html": [
       "<div>\n",
       "<style scoped>\n",
       "    .dataframe tbody tr th:only-of-type {\n",
       "        vertical-align: middle;\n",
       "    }\n",
       "\n",
       "    .dataframe tbody tr th {\n",
       "        vertical-align: top;\n",
       "    }\n",
       "\n",
       "    .dataframe thead th {\n",
       "        text-align: right;\n",
       "    }\n",
       "</style>\n",
       "<table border=\"1\" class=\"dataframe\">\n",
       "  <thead>\n",
       "    <tr style=\"text-align: right;\">\n",
       "      <th></th>\n",
       "      <th>mean</th>\n",
       "      <th>std</th>\n",
       "    </tr>\n",
       "    <tr>\n",
       "      <th>r</th>\n",
       "      <th></th>\n",
       "      <th></th>\n",
       "    </tr>\n",
       "  </thead>\n",
       "  <tbody>\n",
       "    <tr>\n",
       "      <th>0.01</th>\n",
       "      <td>0.556789</td>\n",
       "      <td>0.017247</td>\n",
       "    </tr>\n",
       "    <tr>\n",
       "      <th>0.05</th>\n",
       "      <td>0.571162</td>\n",
       "      <td>0.020360</td>\n",
       "    </tr>\n",
       "    <tr>\n",
       "      <th>0.10</th>\n",
       "      <td>0.647956</td>\n",
       "      <td>0.039053</td>\n",
       "    </tr>\n",
       "  </tbody>\n",
       "</table>\n",
       "</div>"
      ],
      "text/plain": [
       "          mean       std\n",
       "r                       \n",
       "0.01  0.556789  0.017247\n",
       "0.05  0.571162  0.020360\n",
       "0.10  0.647956  0.039053"
      ]
     },
     "execution_count": 31,
     "metadata": {},
     "output_type": "execute_result"
    }
   ],
   "source": [
    "mse_sem_eval_df.groupby('r')['mse'].agg(['mean', 'std'])"
   ]
  },
  {
   "cell_type": "code",
   "execution_count": 32,
   "id": "integrated-bookmark",
   "metadata": {},
   "outputs": [
    {
     "data": {
      "text/html": [
       "<div>\n",
       "<style scoped>\n",
       "    .dataframe tbody tr th:only-of-type {\n",
       "        vertical-align: middle;\n",
       "    }\n",
       "\n",
       "    .dataframe tbody tr th {\n",
       "        vertical-align: top;\n",
       "    }\n",
       "\n",
       "    .dataframe thead th {\n",
       "        text-align: right;\n",
       "    }\n",
       "</style>\n",
       "<table border=\"1\" class=\"dataframe\">\n",
       "  <thead>\n",
       "    <tr style=\"text-align: right;\">\n",
       "      <th></th>\n",
       "      <th>mean</th>\n",
       "      <th>std</th>\n",
       "    </tr>\n",
       "    <tr>\n",
       "      <th>r</th>\n",
       "      <th></th>\n",
       "      <th></th>\n",
       "    </tr>\n",
       "  </thead>\n",
       "  <tbody>\n",
       "    <tr>\n",
       "      <th>0.01</th>\n",
       "      <td>0.514875</td>\n",
       "      <td>0.002031</td>\n",
       "    </tr>\n",
       "    <tr>\n",
       "      <th>0.05</th>\n",
       "      <td>0.579654</td>\n",
       "      <td>0.006668</td>\n",
       "    </tr>\n",
       "    <tr>\n",
       "      <th>0.10</th>\n",
       "      <td>0.667569</td>\n",
       "      <td>0.015274</td>\n",
       "    </tr>\n",
       "  </tbody>\n",
       "</table>\n",
       "</div>"
      ],
      "text/plain": [
       "          mean       std\n",
       "r                       \n",
       "0.01  0.514875  0.002031\n",
       "0.05  0.579654  0.006668\n",
       "0.10  0.667569  0.015274"
      ]
     },
     "execution_count": 32,
     "metadata": {},
     "output_type": "execute_result"
    }
   ],
   "source": [
    "mse_sem_former_df.groupby('r')['mse'].agg(['mean', 'std'])"
   ]
  },
  {
   "cell_type": "code",
   "execution_count": 33,
   "id": "cardiac-welcome",
   "metadata": {},
   "outputs": [
    {
     "data": {
      "text/html": [
       "<div>\n",
       "<style scoped>\n",
       "    .dataframe tbody tr th:only-of-type {\n",
       "        vertical-align: middle;\n",
       "    }\n",
       "\n",
       "    .dataframe tbody tr th {\n",
       "        vertical-align: top;\n",
       "    }\n",
       "\n",
       "    .dataframe thead th {\n",
       "        text-align: right;\n",
       "    }\n",
       "</style>\n",
       "<table border=\"1\" class=\"dataframe\">\n",
       "  <thead>\n",
       "    <tr style=\"text-align: right;\">\n",
       "      <th></th>\n",
       "      <th>mean</th>\n",
       "      <th>std</th>\n",
       "    </tr>\n",
       "    <tr>\n",
       "      <th>r</th>\n",
       "      <th></th>\n",
       "      <th></th>\n",
       "    </tr>\n",
       "  </thead>\n",
       "  <tbody>\n",
       "    <tr>\n",
       "      <th>0.01</th>\n",
       "      <td>2.024977</td>\n",
       "      <td>0.003736</td>\n",
       "    </tr>\n",
       "    <tr>\n",
       "      <th>0.05</th>\n",
       "      <td>2.122123</td>\n",
       "      <td>0.008148</td>\n",
       "    </tr>\n",
       "    <tr>\n",
       "      <th>0.10</th>\n",
       "      <td>2.246181</td>\n",
       "      <td>0.013319</td>\n",
       "    </tr>\n",
       "  </tbody>\n",
       "</table>\n",
       "</div>"
      ],
      "text/plain": [
       "          mean       std\n",
       "r                       \n",
       "0.01  2.024977  0.003736\n",
       "0.05  2.122123  0.008148\n",
       "0.10  2.246181  0.013319"
      ]
     },
     "execution_count": 33,
     "metadata": {},
     "output_type": "execute_result"
    }
   ],
   "source": [
    "mse_sem_latter_df.groupby('r')['mse'].agg(['mean', 'std'])"
   ]
  },
  {
   "cell_type": "code",
   "execution_count": 34,
   "id": "stock-harvest",
   "metadata": {},
   "outputs": [
    {
     "data": {
      "text/html": [
       "<div>\n",
       "<style scoped>\n",
       "    .dataframe tbody tr th:only-of-type {\n",
       "        vertical-align: middle;\n",
       "    }\n",
       "\n",
       "    .dataframe tbody tr th {\n",
       "        vertical-align: top;\n",
       "    }\n",
       "\n",
       "    .dataframe thead th {\n",
       "        text-align: right;\n",
       "    }\n",
       "</style>\n",
       "<table border=\"1\" class=\"dataframe\">\n",
       "  <thead>\n",
       "    <tr style=\"text-align: right;\">\n",
       "      <th></th>\n",
       "      <th>mean</th>\n",
       "      <th>std</th>\n",
       "    </tr>\n",
       "    <tr>\n",
       "      <th>r</th>\n",
       "      <th></th>\n",
       "      <th></th>\n",
       "    </tr>\n",
       "  </thead>\n",
       "  <tbody>\n",
       "    <tr>\n",
       "      <th>0.01</th>\n",
       "      <td>1.309666</td>\n",
       "      <td>0.002420</td>\n",
       "    </tr>\n",
       "    <tr>\n",
       "      <th>0.05</th>\n",
       "      <td>1.391480</td>\n",
       "      <td>0.003828</td>\n",
       "    </tr>\n",
       "    <tr>\n",
       "      <th>0.10</th>\n",
       "      <td>1.498417</td>\n",
       "      <td>0.005933</td>\n",
       "    </tr>\n",
       "  </tbody>\n",
       "</table>\n",
       "</div>"
      ],
      "text/plain": [
       "          mean       std\n",
       "r                       \n",
       "0.01  1.309666  0.002420\n",
       "0.05  1.391480  0.003828\n",
       "0.10  1.498417  0.005933"
      ]
     },
     "execution_count": 34,
     "metadata": {},
     "output_type": "execute_result"
    }
   ],
   "source": [
    "mse_sem_total_df.groupby('r')['mse'].agg(['mean', 'std'])"
   ]
  },
  {
   "cell_type": "code",
   "execution_count": null,
   "id": "amended-onion",
   "metadata": {},
   "outputs": [],
   "source": []
  }
 ],
 "metadata": {
  "kernelspec": {
   "display_name": "Python 3",
   "language": "python",
   "name": "python3"
  },
  "language_info": {
   "codemirror_mode": {
    "name": "ipython",
    "version": 3
   },
   "file_extension": ".py",
   "mimetype": "text/x-python",
   "name": "python",
   "nbconvert_exporter": "python",
   "pygments_lexer": "ipython3",
   "version": "3.7.2"
  }
 },
 "nbformat": 4,
 "nbformat_minor": 5
}
