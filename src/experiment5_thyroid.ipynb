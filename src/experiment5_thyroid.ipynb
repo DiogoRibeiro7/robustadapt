{
 "cells": [
  {
   "cell_type": "code",
   "execution_count": 1,
   "metadata": {},
   "outputs": [],
   "source": [
    "%matplotlib inline\n",
    "import numpy as np\n",
    "from scipy.stats import multivariate_normal, norm\n",
    "import pandas as pd\n",
    "\n",
    "import matplotlib.pyplot as plt\n",
    "import seaborn as sns\n",
    "\n",
    "from copy import deepcopy\n",
    "\n",
    "import h5py\n",
    "\n",
    "import tqdm\n",
    "\n",
    "from sklearn.mixture import GaussianMixture\n",
    "from sklearn.datasets import make_spd_matrix\n",
    "from sklearn.metrics import roc_curve, auc"
   ]
  },
  {
   "cell_type": "code",
   "execution_count": 2,
   "metadata": {},
   "outputs": [],
   "source": [
    "class Theta:\n",
    "    def __init__(self, pi, mu, sigma):\n",
    "        self.pi = pi\n",
    "        self.mu = mu\n",
    "        self.sigma = sigma"
   ]
  },
  {
   "cell_type": "code",
   "execution_count": 3,
   "metadata": {},
   "outputs": [],
   "source": [
    "from sklearn.mixture import GaussianMixture\n",
    "import numpy as np\n",
    "\n",
    "\n",
    "class SDEM(GaussianMixture):\n",
    "    def __init__(self, r, alpha, n_components=2, **kwargs):\n",
    "        super().__init__(n_components=n_components, **kwargs)\n",
    "        \n",
    "        self.r = r\n",
    "        self.alpha = alpha\n",
    "        self.t = 0\n",
    "        \n",
    "        self.pi_list = []\n",
    "        self.pi_bar_list = []\n",
    "        self.means_list = []\n",
    "        self.means_bar_list = []\n",
    "        self.covariances_list = []\n",
    "        self.covariances_bar_list = []\n",
    "        \n",
    "    def fit(self, X, y=None):\n",
    "        super().fit(X, y)\n",
    "        self.means_bar = np.copy(self.means_)\n",
    "        self.covariances_bar = np.copy(self.covariances_)\n",
    "        \n",
    "    def update(self, x):\n",
    "        \"\"\"Employ SDEM algorithm.\"\"\"\n",
    "        \n",
    "        # E-step for weights\n",
    "        gamma = (1-self.alpha*self.r[self.t]) * self.predict_proba(x.reshape(1, -1)) + self.alpha*self.r[self.t]/self.weights_.shape[0]\n",
    "        gamma = gamma.ravel()\n",
    "        self.weights_ = (1-self.r[self.t])*self.weights_ + self.r[self.t]*gamma\n",
    "        \n",
    "        x = x.ravel()\n",
    "        means, means_bar, covariances, covariances_bar = [], [], [], []\n",
    "        for i, (w, m, cov) in enumerate(zip(self.weights_, self.means_bar, self.covariances_bar)):\n",
    "            # E-step for mean and covariance\n",
    "            m = (1-self.r[self.t])*m + self.r[self.t]*gamma[i]*x\n",
    "            cov = (1-self.r[self.t])*cov + self.r[self.t]*gamma[i]*np.outer(x,x)\n",
    "            means_bar.append(m)\n",
    "            covariances_bar.append(cov)\n",
    "\n",
    "            # M-step for mean and covariance\n",
    "            m = m/w\n",
    "            cov = cov/w - np.outer(m, m)\n",
    "            means.append(m)\n",
    "            covariances.append(cov)\n",
    "\n",
    "        self.means_ = np.vstack(means) # \\mu_i^{(t)} in the paper\n",
    "        self.covariances_ = np.stack(covariances)\n",
    "        self.means_bar = np.stack(means_bar)\n",
    "        self.covariances_bar = np.stack(covariances_bar)\n",
    "        \n",
    "        self.pi_list.append(self.weights_)\n",
    "        self.means_list.append(self.means_)\n",
    "        self.covariances_list.append(self.covariances_)\n",
    "        self.means_bar_list.append(self.means_bar)\n",
    "        self.covariances_bar_list.append(self.covariances_bar)\n",
    "        \n",
    "        self.t += 1"
   ]
  },
  {
   "cell_type": "code",
   "execution_count": 4,
   "metadata": {},
   "outputs": [],
   "source": [
    "def compute_tau(X, theta):\n",
    "    N = X.shape[0]\n",
    "    K = len(theta.pi)\n",
    "\n",
    "    tau = np.zeros((N, K))\n",
    "    for k in range(K):\n",
    "        d_k = multivariate_normal(theta.mu[k], theta.sigma[k], allow_singular=True)\n",
    "        for i in range(N):\n",
    "            tau[i, k] = theta.pi[k] * d_k.pdf(X[i])\n",
    "    tau /= np.sum(tau, axis=1, keepdims=True)\n",
    "    \n",
    "    return tau"
   ]
  },
  {
   "cell_type": "code",
   "execution_count": 5,
   "metadata": {},
   "outputs": [],
   "source": [
    "def compute_stat(X, Z):\n",
    "    K = Z.shape[0]\n",
    "    D = X.shape[1]\n",
    "\n",
    "    s1 = np.sum(Z, axis=0).reshape(-1, 1)\n",
    "    s2 = X.T.dot(Z).T\n",
    "    s3 = np.einsum('ijk,il->ljk' , np.array([np.outer(X[i, :], X[i, :]) for i in range(X.shape[0])]), Z)\n",
    "    \n",
    "    return s1, s2, s3"
   ]
  },
  {
   "cell_type": "code",
   "execution_count": 6,
   "metadata": {},
   "outputs": [],
   "source": [
    "def step_M(s, x, eps=1e-8):\n",
    "    pi = (s.s1 + eps) / (1.0 + eps * len(s.s1))\n",
    "    mu = s.s2 / (s.s1 + eps)\n",
    "    sigma = s.s3 / (s.s1 + eps).reshape(len(s.s1), 1, 1) - np.einsum('ij,ik->ijk', mu, mu)\n",
    "    \n",
    "    return pi, mu, sigma"
   ]
  },
  {
   "cell_type": "code",
   "execution_count": 7,
   "metadata": {},
   "outputs": [],
   "source": [
    "class SuffStat:\n",
    "    def __init__(self):\n",
    "        pass"
   ]
  },
  {
   "cell_type": "code",
   "execution_count": 8,
   "metadata": {},
   "outputs": [],
   "source": [
    "class SuffStatGMM(SuffStat):\n",
    "    def __init__(self, K, D, seed=0):\n",
    "        super().__init__()\n",
    "        np.random.seed(seed)\n",
    "        self.s1 = np.random.dirichlet([1.0]*K).reshape(-1, 1)\n",
    "        self.s2 = np.random.random((K, D))\n",
    "        self.s3 = np.random.random((K, D, D))"
   ]
  },
  {
   "cell_type": "code",
   "execution_count": 9,
   "metadata": {},
   "outputs": [],
   "source": [
    "def sem(X, theta0, rho):\n",
    "    K = len(theta0.mu)\n",
    "    N = X.shape[0]\n",
    "    D = X.shape[1]\n",
    "    \n",
    "    theta = deepcopy(theta0)\n",
    "    pi_est = np.zeros((N, K, 1))\n",
    "    mu_est = np.zeros((N, K, D))\n",
    "    sigma_est = np.zeros((N, K, D, D))\n",
    "    \n",
    "    s = SuffStatGMM(K, D)\n",
    "    \n",
    "    # initialization\n",
    "    tau = compute_tau(X[:10, :], theta)\n",
    "    s.s1[:], s.s2[:], s.s3[:] = compute_stat(X[:10, :], tau)\n",
    "    \n",
    "    inds = np.arange(N)\n",
    "    \n",
    "    for n in tqdm.tqdm(range(N)):\n",
    "        ind_n = inds[n]\n",
    "        \n",
    "        tau_indiv_new = compute_tau(X[ind_n, :].reshape(1, -1), theta).reshape(-1, 1)\n",
    "        s2_indiv_new = np.outer(tau_indiv_new, X[ind_n, :])\n",
    "        s3_indiv_new = np.einsum('k,ij->kij', tau_indiv_new.ravel(), np.outer(X[ind_n, :], X[ind_n, :]))\n",
    "        \n",
    "        if np.any(np.isnan(tau_indiv_new)):\n",
    "            pi_est[n, :] = theta.pi.copy()\n",
    "            mu_est[n, :, :] = theta.mu.copy()\n",
    "            sigma_est[n, :, :, :] = theta.sigma.copy()\n",
    "            continue\n",
    "        \n",
    "        # update the statistics\n",
    "        s.s1 += rho[n] * (tau_indiv_new - s.s1)\n",
    "        s.s2 += rho[n] * (s2_indiv_new - s.s2)\n",
    "        s.s3 += rho[n] * (s3_indiv_new - s.s3)\n",
    "        \n",
    "        # M-step\n",
    "        theta.pi[:], theta.mu[:], theta.sigma[:] = step_M(s, 1)\n",
    "        pi_est[n, :] = theta.pi.copy()\n",
    "        mu_est[n, :, :] = theta.mu.copy()\n",
    "        sigma_est[n, :, :, :] = theta.sigma.copy()\n",
    "        \n",
    "    return pi_est, mu_est, sigma_est"
   ]
  },
  {
   "cell_type": "code",
   "execution_count": 10,
   "metadata": {},
   "outputs": [],
   "source": [
    "def sra(X, theta0, rho, gamma, t_start=50):\n",
    "    K = len(theta0.mu)\n",
    "    N = X.shape[0]\n",
    "    D = X.shape[1]\n",
    "    \n",
    "    pi_est = np.zeros((N, K, 1))\n",
    "    mu_est = np.zeros((N, K, D))\n",
    "    sigma_est = np.zeros((N, K, D, D))\n",
    "    theta = deepcopy(theta0)\n",
    "    \n",
    "    s = SuffStatGMM(K, D)\n",
    "    \n",
    "    # initialization\n",
    "    tau = compute_tau(X[:10, :], theta)\n",
    "    s.s1[:], s.s2[:], s.s3[:] = compute_stat(X[:10, :], tau)\n",
    "    \n",
    "    inds = np.arange(N)\n",
    "    \n",
    "    for n in tqdm.tqdm(range(N)):\n",
    "        ind_n = inds[n]\n",
    "        \n",
    "        tau_indiv_new = compute_tau(X[ind_n, :].reshape(1, -1), theta).reshape(-1, 1)\n",
    "        s2_indiv_new = np.outer(tau_indiv_new, X[ind_n, :])\n",
    "        s3_indiv_new = np.einsum('k,ij->kij', tau_indiv_new.ravel(), np.outer(X[ind_n, :], X[ind_n, :]))\n",
    "        \n",
    "        if ( np.any(np.isnan(tau_indiv_new)) ) | ( (n >= t_start) &  (np.linalg.norm(s2_indiv_new - s.s2) >= gamma) ):\n",
    "            pi_est[n, :] = theta.pi\n",
    "            mu_est[n, :, :] = theta.mu\n",
    "            sigma_est[n, :, :, :] = theta.sigma\n",
    "            continue\n",
    "            \n",
    "        # update the statistics\n",
    "        s.s1 += rho[n] * (tau_indiv_new - s.s1)\n",
    "        s.s2 += rho[n] * (s2_indiv_new - s.s2)\n",
    "        s.s3 += rho[n] * (s3_indiv_new - s.s3)\n",
    "        \n",
    "        # M-step\n",
    "        theta.pi[:], theta.mu[:], theta.sigma[:] = step_M(s, X[ind_n, :])\n",
    "        pi_est[n, :] = theta.pi.copy()\n",
    "        mu_est[n, :, :] = theta.mu.copy()\n",
    "        sigma_est[n, :, :, :] = theta.sigma.copy()\n",
    "\n",
    "    return pi_est, mu_est, sigma_est"
   ]
  },
  {
   "cell_type": "code",
   "execution_count": 11,
   "metadata": {},
   "outputs": [],
   "source": [
    "def generate_data(N, pi, mu, sigma):\n",
    "    D = len(pi)\n",
    "    \n",
    "    z_list = np.random.choice(np.arange(D), N, replace=True)\n",
    "    \n",
    "    X = np.zeros((N, D))\n",
    "    for i, z in enumerate(z_list):\n",
    "        X_i = np.random.multivariate_normal(mu[z, :], sigma[z, :, :])\n",
    "        X[i, :] = X_i\n",
    "    \n",
    "    return X"
   ]
  },
  {
   "cell_type": "markdown",
   "metadata": {},
   "source": [
    "## thyroid dataset"
   ]
  },
  {
   "cell_type": "code",
   "execution_count": 12,
   "metadata": {},
   "outputs": [],
   "source": [
    "from scipy.io import loadmat"
   ]
  },
  {
   "cell_type": "code",
   "execution_count": 13,
   "metadata": {},
   "outputs": [],
   "source": [
    "data = loadmat('data/thyroid.mat')\n",
    "X = data['X']\n",
    "y = data['y']"
   ]
  },
  {
   "cell_type": "code",
   "execution_count": 14,
   "metadata": {},
   "outputs": [
    {
     "data": {
      "text/plain": [
       "((3772, 6), (3772, 1))"
      ]
     },
     "execution_count": 14,
     "metadata": {},
     "output_type": "execute_result"
    }
   ],
   "source": [
    "X.shape, y.shape"
   ]
  },
  {
   "cell_type": "code",
   "execution_count": 15,
   "metadata": {},
   "outputs": [
    {
     "data": {
      "image/png": "[encoded data removed]",
      "text/plain": [
       "<Figure size 864x432 with 6 Axes>"
      ]
     },
     "metadata": {
      "needs_background": "light"
     },
     "output_type": "display_data"
    }
   ],
   "source": [
    "fig, axes = plt.subplots(6, 1, sharex=True, figsize=(12, 6))\n",
    "axes[0].plot(X[:, 0])\n",
    "axes[1].plot(X[:, 1])\n",
    "axes[2].plot(X[:, 2])\n",
    "axes[3].plot(X[:, 3])\n",
    "axes[4].plot(X[:, 4])\n",
    "axes[5].plot(X[:, 5])\n",
    "for i in range(len(y)):\n",
    "    if y[i] == 1:\n",
    "        axes[0].axvline(i, linestyle='dashed', color='red')\n",
    "        axes[1].axvline(i, linestyle='dashed', color='red')\n",
    "        axes[2].axvline(i, linestyle='dashed', color='red')\n",
    "        axes[3].axvline(i, linestyle='dashed', color='red')\n",
    "        axes[4].axvline(i, linestyle='dashed', color='red')\n",
    "        axes[5].axvline(i, linestyle='dashed', color='red')\n",
    "plt.show()"
   ]
  },
  {
   "cell_type": "markdown",
   "metadata": {},
   "source": [
    "## SDEM"
   ]
  },
  {
   "cell_type": "code",
   "execution_count": 16,
   "metadata": {},
   "outputs": [],
   "source": [
    "def calc_scores_sdem(X, r, k, alpha=1.0, seed=0):\n",
    "    np.random.seed(seed)\n",
    "    rho_const = np.repeat([r], X.shape[0])\n",
    "    sdem = SDEM(rho_const, alpha, n_components=k)\n",
    "\n",
    "    sdem.fit(X[:10, :])\n",
    "\n",
    "    for t in tqdm.tqdm(range(X.shape[0])):\n",
    "        sdem.update(X[t, :])\n",
    "\n",
    "    pi_est = np.array(sdem.pi_list)\n",
    "    mu_est = np.array(sdem.means_list)\n",
    "    sigma_est = np.array(sdem.covariances_list)\n",
    "    \n",
    "    anom_scores = [np.nan] * 1000\n",
    "\n",
    "    n_cluster = pi_est.shape[1]\n",
    "    for t in range(1000, pi_est.shape[0]):\n",
    "        p = np.zeros(n_cluster)\n",
    "        for i in range(n_cluster):\n",
    "            p_i = pi_est[t-1, i] * multivariate_normal(mu_est[t-1, i, :], sigma_est[t-1, i, :, :]).pdf(X[t, :])\n",
    "            p[i] = p_i\n",
    "        p_tot = np.sum(p)\n",
    "        if p_tot >= 1e-16:\n",
    "            anom_scores.append(-np.log(p_tot))\n",
    "        else:\n",
    "            anom_scores.append(-np.log(-1.0/np.finfo(np.float).min))\n",
    "    anom_scores = np.array(anom_scores)\n",
    "    \n",
    "    return anom_scores"
   ]
  },
  {
   "cell_type": "code",
   "execution_count": 17,
   "metadata": {},
   "outputs": [
    {
     "name": "stderr",
     "output_type": "stream",
     "text": [
      "100%|██████████| 3772/3772 [00:00<00:00, 3933.42it/s]\n",
      "100%|██████████| 3772/3772 [00:01<00:00, 3293.86it/s]\n",
      "100%|██████████| 3772/3772 [00:01<00:00, 2785.42it/s]\n"
     ]
    },
    {
     "ename": "ValueError",
     "evalue": "the input matrix must be positive semidefinite",
     "output_type": "error",
     "traceback": [
      "\u001b[0;31m---------------------------------------------------------------------------\u001b[0m",
      "\u001b[0;31mValueError\u001b[0m                                Traceback (most recent call last)",
      "\u001b[0;32m<ipython-input-17-1f695ad00ff7>\u001b[0m in \u001b[0;36m<module>\u001b[0;34m\u001b[0m\n\u001b[1;32m      8\u001b[0m     \u001b[0;32mfor\u001b[0m \u001b[0mj\u001b[0m\u001b[0;34m,\u001b[0m \u001b[0mk\u001b[0m \u001b[0;32min\u001b[0m \u001b[0menumerate\u001b[0m\u001b[0;34m(\u001b[0m\u001b[0mk_list\u001b[0m\u001b[0;34m)\u001b[0m\u001b[0;34m:\u001b[0m\u001b[0;34m\u001b[0m\u001b[0;34m\u001b[0m\u001b[0m\n\u001b[1;32m      9\u001b[0m         \u001b[0mseed\u001b[0m \u001b[0;34m=\u001b[0m \u001b[0mi\u001b[0m\u001b[0;34m*\u001b[0m\u001b[0mlen\u001b[0m\u001b[0;34m(\u001b[0m\u001b[0mr_list\u001b[0m\u001b[0;34m)\u001b[0m \u001b[0;34m+\u001b[0m \u001b[0mj\u001b[0m\u001b[0;34m\u001b[0m\u001b[0;34m\u001b[0m\u001b[0m\n\u001b[0;32m---> 10\u001b[0;31m         \u001b[0manom_scores\u001b[0m \u001b[0;34m=\u001b[0m \u001b[0mcalc_scores_sdem\u001b[0m\u001b[0;34m(\u001b[0m\u001b[0mX\u001b[0m\u001b[0;34m,\u001b[0m \u001b[0mr\u001b[0m\u001b[0;34m,\u001b[0m \u001b[0mk\u001b[0m\u001b[0;34m,\u001b[0m \u001b[0malpha\u001b[0m\u001b[0;34m=\u001b[0m\u001b[0;36m1.0\u001b[0m\u001b[0;34m,\u001b[0m \u001b[0mseed\u001b[0m\u001b[0;34m=\u001b[0m\u001b[0mseed\u001b[0m\u001b[0;34m)\u001b[0m\u001b[0;34m\u001b[0m\u001b[0;34m\u001b[0m\u001b[0m\n\u001b[0m\u001b[1;32m     11\u001b[0m \u001b[0;34m\u001b[0m\u001b[0m\n\u001b[1;32m     12\u001b[0m         \u001b[0mfpr_tr\u001b[0m\u001b[0;34m,\u001b[0m \u001b[0mtpr_tr\u001b[0m\u001b[0;34m,\u001b[0m \u001b[0mthresholds_tr\u001b[0m \u001b[0;34m=\u001b[0m \u001b[0mroc_curve\u001b[0m\u001b[0;34m(\u001b[0m\u001b[0my\u001b[0m\u001b[0;34m[\u001b[0m\u001b[0;36m1000\u001b[0m\u001b[0;34m:\u001b[0m\u001b[0;36m2000\u001b[0m\u001b[0;34m]\u001b[0m\u001b[0;34m,\u001b[0m \u001b[0manom_scores\u001b[0m\u001b[0;34m[\u001b[0m\u001b[0;36m1000\u001b[0m\u001b[0;34m:\u001b[0m\u001b[0;36m2000\u001b[0m\u001b[0;34m]\u001b[0m\u001b[0;34m,\u001b[0m \u001b[0mpos_label\u001b[0m\u001b[0;34m=\u001b[0m\u001b[0;36m1\u001b[0m\u001b[0;34m)\u001b[0m\u001b[0;34m\u001b[0m\u001b[0;34m\u001b[0m\u001b[0m\n",
      "\u001b[0;32m<ipython-input-16-bbd3e74b887f>\u001b[0m in \u001b[0;36mcalc_scores_sdem\u001b[0;34m(X, r, k, alpha, seed)\u001b[0m\n\u001b[1;32m     19\u001b[0m         \u001b[0mp\u001b[0m \u001b[0;34m=\u001b[0m \u001b[0mnp\u001b[0m\u001b[0;34m.\u001b[0m\u001b[0mzeros\u001b[0m\u001b[0;34m(\u001b[0m\u001b[0mn_cluster\u001b[0m\u001b[0;34m)\u001b[0m\u001b[0;34m\u001b[0m\u001b[0;34m\u001b[0m\u001b[0m\n\u001b[1;32m     20\u001b[0m         \u001b[0;32mfor\u001b[0m \u001b[0mi\u001b[0m \u001b[0;32min\u001b[0m \u001b[0mrange\u001b[0m\u001b[0;34m(\u001b[0m\u001b[0mn_cluster\u001b[0m\u001b[0;34m)\u001b[0m\u001b[0;34m:\u001b[0m\u001b[0;34m\u001b[0m\u001b[0;34m\u001b[0m\u001b[0m\n\u001b[0;32m---> 21\u001b[0;31m             \u001b[0mp_i\u001b[0m \u001b[0;34m=\u001b[0m \u001b[0mpi_est\u001b[0m\u001b[0;34m[\u001b[0m\u001b[0mt\u001b[0m\u001b[0;34m-\u001b[0m\u001b[0;36m1\u001b[0m\u001b[0;34m,\u001b[0m \u001b[0mi\u001b[0m\u001b[0;34m]\u001b[0m \u001b[0;34m*\u001b[0m \u001b[0mmultivariate_normal\u001b[0m\u001b[0;34m(\u001b[0m\u001b[0mmu_est\u001b[0m\u001b[0;34m[\u001b[0m\u001b[0mt\u001b[0m\u001b[0;34m-\u001b[0m\u001b[0;36m1\u001b[0m\u001b[0;34m,\u001b[0m \u001b[0mi\u001b[0m\u001b[0;34m,\u001b[0m \u001b[0;34m:\u001b[0m\u001b[0;34m]\u001b[0m\u001b[0;34m,\u001b[0m \u001b[0msigma_est\u001b[0m\u001b[0;34m[\u001b[0m\u001b[0mt\u001b[0m\u001b[0;34m-\u001b[0m\u001b[0;36m1\u001b[0m\u001b[0;34m,\u001b[0m \u001b[0mi\u001b[0m\u001b[0;34m,\u001b[0m \u001b[0;34m:\u001b[0m\u001b[0;34m,\u001b[0m \u001b[0;34m:\u001b[0m\u001b[0;34m]\u001b[0m\u001b[0;34m)\u001b[0m\u001b[0;34m.\u001b[0m\u001b[0mpdf\u001b[0m\u001b[0;34m(\u001b[0m\u001b[0mX\u001b[0m\u001b[0;34m[\u001b[0m\u001b[0mt\u001b[0m\u001b[0;34m,\u001b[0m \u001b[0;34m:\u001b[0m\u001b[0;34m]\u001b[0m\u001b[0;34m)\u001b[0m\u001b[0;34m\u001b[0m\u001b[0;34m\u001b[0m\u001b[0m\n\u001b[0m\u001b[1;32m     22\u001b[0m             \u001b[0mp\u001b[0m\u001b[0;34m[\u001b[0m\u001b[0mi\u001b[0m\u001b[0;34m]\u001b[0m \u001b[0;34m=\u001b[0m \u001b[0mp_i\u001b[0m\u001b[0;34m\u001b[0m\u001b[0;34m\u001b[0m\u001b[0m\n\u001b[1;32m     23\u001b[0m         \u001b[0mp_tot\u001b[0m \u001b[0;34m=\u001b[0m \u001b[0mnp\u001b[0m\u001b[0;34m.\u001b[0m\u001b[0msum\u001b[0m\u001b[0;34m(\u001b[0m\u001b[0mp\u001b[0m\u001b[0;34m)\u001b[0m\u001b[0;34m\u001b[0m\u001b[0;34m\u001b[0m\u001b[0m\n",
      "\u001b[0;32m~/.pyenv/versions/anaconda3-5.3.1/lib/python3.7/site-packages/scipy/stats/_multivariate.py\u001b[0m in \u001b[0;36m__call__\u001b[0;34m(self, mean, cov, allow_singular, seed)\u001b[0m\n\u001b[1;32m    365\u001b[0m         return multivariate_normal_frozen(mean, cov,\n\u001b[1;32m    366\u001b[0m                                           \u001b[0mallow_singular\u001b[0m\u001b[0;34m=\u001b[0m\u001b[0mallow_singular\u001b[0m\u001b[0;34m,\u001b[0m\u001b[0;34m\u001b[0m\u001b[0;34m\u001b[0m\u001b[0m\n\u001b[0;32m--> 367\u001b[0;31m                                           seed=seed)\n\u001b[0m\u001b[1;32m    368\u001b[0m \u001b[0;34m\u001b[0m\u001b[0m\n\u001b[1;32m    369\u001b[0m     \u001b[0;32mdef\u001b[0m \u001b[0m_process_parameters\u001b[0m\u001b[0;34m(\u001b[0m\u001b[0mself\u001b[0m\u001b[0;34m,\u001b[0m \u001b[0mdim\u001b[0m\u001b[0;34m,\u001b[0m \u001b[0mmean\u001b[0m\u001b[0;34m,\u001b[0m \u001b[0mcov\u001b[0m\u001b[0;34m)\u001b[0m\u001b[0;34m:\u001b[0m\u001b[0;34m\u001b[0m\u001b[0;34m\u001b[0m\u001b[0m\n",
      "\u001b[0;32m~/.pyenv/versions/anaconda3-5.3.1/lib/python3.7/site-packages/scipy/stats/_multivariate.py\u001b[0m in \u001b[0;36m__init__\u001b[0;34m(self, mean, cov, allow_singular, seed, maxpts, abseps, releps)\u001b[0m\n\u001b[1;32m    741\u001b[0m         self.dim, self.mean, self.cov = self._dist._process_parameters(\n\u001b[1;32m    742\u001b[0m                                                             None, mean, cov)\n\u001b[0;32m--> 743\u001b[0;31m         \u001b[0mself\u001b[0m\u001b[0;34m.\u001b[0m\u001b[0mcov_info\u001b[0m \u001b[0;34m=\u001b[0m \u001b[0m_PSD\u001b[0m\u001b[0;34m(\u001b[0m\u001b[0mself\u001b[0m\u001b[0;34m.\u001b[0m\u001b[0mcov\u001b[0m\u001b[0;34m,\u001b[0m \u001b[0mallow_singular\u001b[0m\u001b[0;34m=\u001b[0m\u001b[0mallow_singular\u001b[0m\u001b[0;34m)\u001b[0m\u001b[0;34m\u001b[0m\u001b[0;34m\u001b[0m\u001b[0m\n\u001b[0m\u001b[1;32m    744\u001b[0m         \u001b[0;32mif\u001b[0m \u001b[0;32mnot\u001b[0m \u001b[0mmaxpts\u001b[0m\u001b[0;34m:\u001b[0m\u001b[0;34m\u001b[0m\u001b[0;34m\u001b[0m\u001b[0m\n\u001b[1;32m    745\u001b[0m             \u001b[0mmaxpts\u001b[0m \u001b[0;34m=\u001b[0m \u001b[0;36m1000000\u001b[0m \u001b[0;34m*\u001b[0m \u001b[0mself\u001b[0m\u001b[0;34m.\u001b[0m\u001b[0mdim\u001b[0m\u001b[0;34m\u001b[0m\u001b[0;34m\u001b[0m\u001b[0m\n",
      "\u001b[0;32m~/.pyenv/versions/anaconda3-5.3.1/lib/python3.7/site-packages/scipy/stats/_multivariate.py\u001b[0m in \u001b[0;36m__init__\u001b[0;34m(self, M, cond, rcond, lower, check_finite, allow_singular)\u001b[0m\n\u001b[1;32m    160\u001b[0m         \u001b[0meps\u001b[0m \u001b[0;34m=\u001b[0m \u001b[0m_eigvalsh_to_eps\u001b[0m\u001b[0;34m(\u001b[0m\u001b[0ms\u001b[0m\u001b[0;34m,\u001b[0m \u001b[0mcond\u001b[0m\u001b[0;34m,\u001b[0m \u001b[0mrcond\u001b[0m\u001b[0;34m)\u001b[0m\u001b[0;34m\u001b[0m\u001b[0;34m\u001b[0m\u001b[0m\n\u001b[1;32m    161\u001b[0m         \u001b[0;32mif\u001b[0m \u001b[0mnp\u001b[0m\u001b[0;34m.\u001b[0m\u001b[0mmin\u001b[0m\u001b[0;34m(\u001b[0m\u001b[0ms\u001b[0m\u001b[0;34m)\u001b[0m \u001b[0;34m<\u001b[0m \u001b[0;34m-\u001b[0m\u001b[0meps\u001b[0m\u001b[0;34m:\u001b[0m\u001b[0;34m\u001b[0m\u001b[0;34m\u001b[0m\u001b[0m\n\u001b[0;32m--> 162\u001b[0;31m             \u001b[0;32mraise\u001b[0m \u001b[0mValueError\u001b[0m\u001b[0;34m(\u001b[0m\u001b[0;34m'the input matrix must be positive semidefinite'\u001b[0m\u001b[0;34m)\u001b[0m\u001b[0;34m\u001b[0m\u001b[0;34m\u001b[0m\u001b[0m\n\u001b[0m\u001b[1;32m    163\u001b[0m         \u001b[0md\u001b[0m \u001b[0;34m=\u001b[0m \u001b[0ms\u001b[0m\u001b[0;34m[\u001b[0m\u001b[0ms\u001b[0m \u001b[0;34m>\u001b[0m \u001b[0meps\u001b[0m\u001b[0;34m]\u001b[0m\u001b[0;34m\u001b[0m\u001b[0;34m\u001b[0m\u001b[0m\n\u001b[1;32m    164\u001b[0m         \u001b[0;32mif\u001b[0m \u001b[0mlen\u001b[0m\u001b[0;34m(\u001b[0m\u001b[0md\u001b[0m\u001b[0;34m)\u001b[0m \u001b[0;34m<\u001b[0m \u001b[0mlen\u001b[0m\u001b[0;34m(\u001b[0m\u001b[0ms\u001b[0m\u001b[0;34m)\u001b[0m \u001b[0;32mand\u001b[0m \u001b[0;32mnot\u001b[0m \u001b[0mallow_singular\u001b[0m\u001b[0;34m:\u001b[0m\u001b[0;34m\u001b[0m\u001b[0;34m\u001b[0m\u001b[0m\n",
      "\u001b[0;31mValueError\u001b[0m: the input matrix must be positive semidefinite"
     ]
    }
   ],
   "source": [
    "r_list = [0.01, 0.03, 0.05, 0.1]\n",
    "k_list = [1, 2, 3]\n",
    "\n",
    "auc_tr_sdem = np.zeros((len(r_list), len(k_list)))\n",
    "auc_te_sdem = np.zeros((len(r_list), len(k_list)))\n",
    "\n",
    "for i, r in enumerate(r_list):\n",
    "    for j, k in enumerate(k_list):\n",
    "        seed = i*len(r_list) + j\n",
    "        anom_scores = calc_scores_sdem(X, r, k, alpha=1.0, seed=seed)\n",
    "        \n",
    "        fpr_tr, tpr_tr, thresholds_tr = roc_curve(y[1000:2000], anom_scores[1000:2000], pos_label=1)\n",
    "        auc_tr_sdem[i, j] = auc(fpr_tr, tpr_tr)\n",
    "        \n",
    "        fpr_te, tpr_te, thresholds_te = roc_curve(y[2000:], anom_scores[2000:], pos_label=1)\n",
    "        auc_te_sdem[i, j] = auc(fpr_te, tpr_te)"
   ]
  },
  {
   "cell_type": "code",
   "execution_count": null,
   "metadata": {},
   "outputs": [],
   "source": [
    "np.unravel_index(np.argmax(auc_tr_sdem), auc_tr_sdem.shape)"
   ]
  },
  {
   "cell_type": "code",
   "execution_count": 19,
   "metadata": {},
   "outputs": [
    {
     "data": {
      "text/plain": [
       "0.9669377463688341"
      ]
     },
     "execution_count": 19,
     "metadata": {},
     "output_type": "execute_result"
    }
   ],
   "source": [
    "auc_tr_sdem[0, 1]"
   ]
  },
  {
   "cell_type": "code",
   "execution_count": 20,
   "metadata": {},
   "outputs": [
    {
     "data": {
      "text/plain": [
       "0.9468070465180292"
      ]
     },
     "execution_count": 20,
     "metadata": {},
     "output_type": "execute_result"
    }
   ],
   "source": [
    "auc_te_sdem[0, 1]"
   ]
  },
  {
   "cell_type": "markdown",
   "metadata": {},
   "source": [
    "## IEM"
   ]
  },
  {
   "cell_type": "code",
   "execution_count": 18,
   "metadata": {},
   "outputs": [],
   "source": [
    "def calc_scores_iem(X, k, alpha=1.0, seed=0):\n",
    "    np.random.seed(seed)\n",
    "    rhos = 1.0 / np.arange(1, X.shape[0]+1)\n",
    "    sdem = SDEM(rhos, alpha, n_components=k)\n",
    "\n",
    "    sdem.fit(X[:10, :])\n",
    "    #sdem.weights_ = np.repeat([1/k], k)\n",
    "    #sdem.means_ = np.hstack([ \n",
    "    #                    np.random.uniform(np.min(X[:2000, col]), np.max(X[:2000, col]), k).reshape(-1, 1)\n",
    "    #                    for col in range(X.shape[1])\n",
    "    #                ])\n",
    "    #sdem.covariances_ = np.stack([np.diag((X[:2000, :].max(axis=0) - X[:2000, :].min(axis=0))/10) for _ in k_list])\n",
    "\n",
    "    for t in tqdm.tqdm(range(X.shape[0])):\n",
    "        sdem.update(X[t, :])\n",
    "\n",
    "    pi_est = np.array(sdem.pi_list)\n",
    "    mu_est = np.array(sdem.means_list)\n",
    "    sigma_est = np.array(sdem.covariances_list)\n",
    "    \n",
    "    anom_scores = [np.nan] * 1000\n",
    "\n",
    "    n_cluster = pi_est.shape[1]\n",
    "    for t in range(1000, pi_est.shape[0]):\n",
    "        p = np.zeros(n_cluster)\n",
    "        for i in range(n_cluster):\n",
    "            p_i = pi_est[t-1, i] * multivariate_normal(mu_est[t-1, i, :], sigma_est[t-1, i, :, :]).pdf(X[t, :])\n",
    "            p[i] = p_i\n",
    "        p_tot = np.sum(p)\n",
    "        if p_tot >= 1e-16:\n",
    "            anom_scores.append(-np.log(p_tot))\n",
    "        else:\n",
    "            anom_scores.append(-np.log(-1.0/np.finfo(np.float).min))\n",
    "    anom_scores = np.array(anom_scores)\n",
    "    \n",
    "    return anom_scores"
   ]
  },
  {
   "cell_type": "code",
   "execution_count": 19,
   "metadata": {},
   "outputs": [
    {
     "name": "stderr",
     "output_type": "stream",
     "text": [
      "100%|██████████| 3772/3772 [00:00<00:00, 4065.03it/s]\n",
      "100%|██████████| 3772/3772 [00:01<00:00, 3330.01it/s]\n",
      "100%|██████████| 3772/3772 [00:01<00:00, 2728.81it/s]\n"
     ]
    }
   ],
   "source": [
    "k_list = [1, 2, 3]\n",
    "\n",
    "auc_tr_iem = np.zeros(len(k_list))\n",
    "auc_te_iem = np.zeros(len(k_list))\n",
    "\n",
    "for i, k in enumerate(k_list):\n",
    "    seed = i\n",
    "    anom_scores = calc_scores_iem(X, k, alpha=1.0, seed=seed)\n",
    "\n",
    "    fpr_tr, tpr_tr, thresholds_tr = roc_curve(y[1000:2000], anom_scores[1000:2000], pos_label=1)\n",
    "    auc_tr_iem[i] = auc(fpr_tr, tpr_tr)\n",
    "\n",
    "    fpr_te, tpr_te, thresholds_te = roc_curve(y[2000:], anom_scores[2000:], pos_label=1)\n",
    "    auc_te_iem[i] = auc(fpr_te, tpr_te)"
   ]
  },
  {
   "cell_type": "code",
   "execution_count": 20,
   "metadata": {},
   "outputs": [
    {
     "data": {
      "text/plain": [
       "0.963493021769239"
      ]
     },
     "execution_count": 20,
     "metadata": {},
     "output_type": "execute_result"
    }
   ],
   "source": [
    "auc_tr_iem[np.argmax(auc_tr_iem)]"
   ]
  },
  {
   "cell_type": "code",
   "execution_count": 21,
   "metadata": {},
   "outputs": [
    {
     "data": {
      "text/plain": [
       "0.9350605560143133"
      ]
     },
     "execution_count": 21,
     "metadata": {},
     "output_type": "execute_result"
    }
   ],
   "source": [
    "auc_te_iem[np.argmax(auc_tr_iem)]"
   ]
  },
  {
   "cell_type": "markdown",
   "metadata": {},
   "source": [
    "## sEM"
   ]
  },
  {
   "cell_type": "code",
   "execution_count": 22,
   "metadata": {},
   "outputs": [],
   "source": [
    "def calc_scores_sem(X, theta0, r, k, seed=0):\n",
    "    np.random.seed(seed)\n",
    "    \n",
    "    rho_const = np.repeat([r], X.shape[0])\n",
    "    pi_est, mu_est, sigma_est = sem(X, theta0, rho_const)\n",
    "    \n",
    "    anom_scores = [np.nan]\n",
    "    for t in range(1, pi_est.shape[0]):\n",
    "        p = np.zeros(k)\n",
    "        for i in range(k):\n",
    "            p_i = pi_est[t-1, i] * multivariate_normal(mu_est[t-1, i, :], sigma_est[t-1, i, :, :], allow_singular=True).pdf(X[t, :])\n",
    "            p[i] = p_i\n",
    "        p_tot = np.sum(p)\n",
    "        if p_tot >= 1e-16:\n",
    "            anom_scores.append(-np.log(p_tot))\n",
    "        else:\n",
    "            anom_scores.append(-np.log(-1.0/np.finfo(np.float).min))\n",
    "                        \n",
    "    return anom_scores"
   ]
  },
  {
   "cell_type": "code",
   "execution_count": 23,
   "metadata": {},
   "outputs": [
    {
     "name": "stderr",
     "output_type": "stream",
     "text": [
      "  0%|          | 0/3772 [00:00<?, ?it/s]/Users/shi-fukushima/.pyenv/versions/anaconda3-5.3.1/lib/python3.7/site-packages/ipykernel_launcher.py:10: RuntimeWarning: invalid value encountered in true_divide\n",
      "  # Remove the CWD from sys.path while we load stuff.\n",
      " 14%|█▎        | 515/3772 [00:00<00:01, 2636.56it/s]"
     ]
    },
    {
     "name": "stdout",
     "output_type": "stream",
     "text": [
      "r = 0.0001 , k = 1\n"
     ]
    },
    {
     "name": "stderr",
     "output_type": "stream",
     "text": [
      "100%|██████████| 3772/3772 [00:01<00:00, 2970.49it/s]\n",
      "  5%|▌         | 192/3772 [00:00<00:01, 1915.40it/s]"
     ]
    },
    {
     "name": "stdout",
     "output_type": "stream",
     "text": [
      "r = 0.0001 , k = 2\n"
     ]
    },
    {
     "name": "stderr",
     "output_type": "stream",
     "text": [
      "100%|██████████| 3772/3772 [00:01<00:00, 1926.78it/s]\n",
      "  3%|▎         | 127/3772 [00:00<00:02, 1269.34it/s]"
     ]
    },
    {
     "name": "stdout",
     "output_type": "stream",
     "text": [
      "r = 0.0001 , k = 3\n"
     ]
    },
    {
     "name": "stderr",
     "output_type": "stream",
     "text": [
      "100%|██████████| 3772/3772 [00:03<00:00, 1195.64it/s]\n",
      " 16%|█▌        | 596/3772 [00:00<00:01, 2994.10it/s]"
     ]
    },
    {
     "name": "stdout",
     "output_type": "stream",
     "text": [
      "r = 0.001 , k = 1\n"
     ]
    },
    {
     "name": "stderr",
     "output_type": "stream",
     "text": [
      "100%|██████████| 3772/3772 [00:01<00:00, 2913.51it/s]\n",
      "  5%|▍         | 185/3772 [00:00<00:01, 1843.73it/s]"
     ]
    },
    {
     "name": "stdout",
     "output_type": "stream",
     "text": [
      "r = 0.001 , k = 2\n"
     ]
    },
    {
     "name": "stderr",
     "output_type": "stream",
     "text": [
      "100%|██████████| 3772/3772 [00:02<00:00, 1736.61it/s]\n",
      "  3%|▎         | 127/3772 [00:00<00:02, 1266.61it/s]"
     ]
    },
    {
     "name": "stdout",
     "output_type": "stream",
     "text": [
      "r = 0.001 , k = 3\n"
     ]
    },
    {
     "name": "stderr",
     "output_type": "stream",
     "text": [
      "100%|██████████| 3772/3772 [00:03<00:00, 1220.80it/s]\n",
      " 16%|█▌        | 593/3772 [00:00<00:01, 2943.52it/s]"
     ]
    },
    {
     "name": "stdout",
     "output_type": "stream",
     "text": [
      "r = 0.01 , k = 1\n"
     ]
    },
    {
     "name": "stderr",
     "output_type": "stream",
     "text": [
      "100%|██████████| 3772/3772 [00:01<00:00, 2795.53it/s]\n",
      " 10%|▉         | 366/3772 [00:00<00:01, 1816.98it/s]"
     ]
    },
    {
     "name": "stdout",
     "output_type": "stream",
     "text": [
      "r = 0.01 , k = 2\n"
     ]
    },
    {
     "name": "stderr",
     "output_type": "stream",
     "text": [
      "100%|██████████| 3772/3772 [00:02<00:00, 1771.31it/s]\n",
      "  3%|▎         | 131/3772 [00:00<00:02, 1303.26it/s]"
     ]
    },
    {
     "name": "stdout",
     "output_type": "stream",
     "text": [
      "r = 0.01 , k = 3\n"
     ]
    },
    {
     "name": "stderr",
     "output_type": "stream",
     "text": [
      "100%|██████████| 3772/3772 [00:02<00:00, 1276.17it/s]\n"
     ]
    }
   ],
   "source": [
    "k_list = [1, 2, 3]\n",
    "r_list = [0.0001, 0.001, 0.01]\n",
    "\n",
    "auc_tr_sem = np.zeros((len(r_list), len(k_list)))\n",
    "auc_te_sem = np.zeros((len(r_list), len(k_list)))\n",
    "\n",
    "for i, r in enumerate(r_list):\n",
    "    for j, k in enumerate(k_list):\n",
    "        print('r =', r, ', k =', k)\n",
    "        seed = i*len(k_list) + j\n",
    "        np.random.seed(seed)\n",
    "        \n",
    "        pi0 = np.array([1/k] * k).reshape(-1, 1)\n",
    "        mu0 = np.hstack([ \n",
    "                  np.random.uniform(np.min(X[:2000, col]), np.max(X[:2000, col]), k).reshape(-1, 1)\n",
    "                  for col in range(X.shape[1])\n",
    "              ])\n",
    "        sigma0 = np.stack([np.diag( (X[:2000, :].max(axis=0) - X[:2000, :].min(axis=0)) /10) for _ in range(k)])\n",
    "        theta0 = Theta(pi0, mu0, sigma0)\n",
    "            \n",
    "        anom_scores = calc_scores_sem(X, theta0, r, k, seed=seed)\n",
    "\n",
    "        fpr_tr, tpr_tr, thresholds_tr = roc_curve(y[1000:2000], anom_scores[1000:2000], pos_label=1)\n",
    "        auc_tr_sem[i, j] = auc(fpr_tr, tpr_tr)\n",
    "\n",
    "        fpr_te, tpr_te, thresholds_te = roc_curve(y[2000:], anom_scores[2000:], pos_label=1)\n",
    "        auc_te_sem[i, j] = auc(fpr_te, tpr_te)"
   ]
  },
  {
   "cell_type": "code",
   "execution_count": 24,
   "metadata": {},
   "outputs": [
    {
     "data": {
      "text/plain": [
       "(1, 0)"
      ]
     },
     "execution_count": 24,
     "metadata": {},
     "output_type": "execute_result"
    }
   ],
   "source": [
    "np.unravel_index(np.argmax(auc_tr_sem), auc_tr_sem.shape)"
   ]
  },
  {
   "cell_type": "code",
   "execution_count": 25,
   "metadata": {},
   "outputs": [
    {
     "data": {
      "text/plain": [
       "0.979349408714798"
      ]
     },
     "execution_count": 25,
     "metadata": {},
     "output_type": "execute_result"
    }
   ],
   "source": [
    "auc_tr_sem[1, 0]"
   ]
  },
  {
   "cell_type": "code",
   "execution_count": 26,
   "metadata": {},
   "outputs": [
    {
     "data": {
      "text/plain": [
       "0.968421414808698"
      ]
     },
     "execution_count": 26,
     "metadata": {},
     "output_type": "execute_result"
    }
   ],
   "source": [
    "auc_te_sem[1, 0]"
   ]
  },
  {
   "cell_type": "markdown",
   "metadata": {},
   "source": [
    "## SRA"
   ]
  },
  {
   "cell_type": "code",
   "execution_count": 27,
   "metadata": {},
   "outputs": [],
   "source": [
    "def calc_scores_sra(X, theta0, k, gamma, ratio, M, seed=0):\n",
    "    np.random.seed(seed)\n",
    "    \n",
    "    rho = ratio * np.exp(-gamma**2/M**2) / (2.0*gamma)\n",
    "    rho_const = np.repeat(rho, X.shape[0])\n",
    "    pi_est, mu_est, sigma_est = sra(X, theta0, rho_const, gamma)\n",
    "    \n",
    "    anom_scores = []\n",
    "    for t in range(pi_est.shape[0]):\n",
    "        p = np.zeros(k)\n",
    "        for i in range(k):\n",
    "            p_i = pi_est[t-1, i] * multivariate_normal(mu_est[t-1, i, :], sigma_est[t-1, i, :, :], allow_singular=True).pdf(X[t, :])\n",
    "            p[i] = p_i\n",
    "        p_tot = np.sum(p)\n",
    "        if p_tot >= 1e-16:\n",
    "            anom_scores.append(-np.log(p_tot))\n",
    "        else:\n",
    "            anom_scores.append(-np.log(-1.0/np.finfo(np.float).min))\n",
    "                        \n",
    "    return anom_scores"
   ]
  },
  {
   "cell_type": "code",
   "execution_count": 28,
   "metadata": {},
   "outputs": [],
   "source": [
    "n_trial = 5\n",
    "k_list = [1, 2, 3]\n",
    "gamma_list = [5, 10, 15]\n",
    "ratio_list = [0.1, 0.5, 1.0]\n",
    "M_list = [1.0, 5.0, 10.0]"
   ]
  },
  {
   "cell_type": "code",
   "execution_count": 29,
   "metadata": {},
   "outputs": [
    {
     "name": "stderr",
     "output_type": "stream",
     "text": [
      "  0%|          | 0/3772 [00:00<?, ?it/s]/Users/shi-fukushima/.pyenv/versions/anaconda3-5.3.1/lib/python3.7/site-packages/ipykernel_launcher.py:10: RuntimeWarning: invalid value encountered in true_divide\n",
      "  # Remove the CWD from sys.path while we load stuff.\n",
      "100%|██████████| 3772/3772 [00:01<00:00, 3208.07it/s]\n",
      "  9%|▉         | 347/3772 [00:00<00:00, 3463.77it/s]"
     ]
    },
    {
     "name": "stdout",
     "output_type": "stream",
     "text": [
      "gamma= 5 , ratio= 0.1 , M= 1.0 : 0.9405243600330306\n"
     ]
    },
    {
     "name": "stderr",
     "output_type": "stream",
     "text": [
      "100%|██████████| 3772/3772 [00:01<00:00, 3466.83it/s]\n",
      " 16%|█▌        | 591/3772 [00:00<00:01, 2981.60it/s]"
     ]
    },
    {
     "name": "stdout",
     "output_type": "stream",
     "text": [
      "gamma= 5 , ratio= 0.1 , M= 5.0 : 0.9499311863473713\n"
     ]
    },
    {
     "name": "stderr",
     "output_type": "stream",
     "text": [
      "100%|██████████| 3772/3772 [00:01<00:00, 2821.27it/s]\n",
      " 17%|█▋        | 653/3772 [00:00<00:00, 3237.69it/s]"
     ]
    },
    {
     "name": "stdout",
     "output_type": "stream",
     "text": [
      "gamma= 5 , ratio= 0.1 , M= 10.0 : 0.9318676025323425\n"
     ]
    },
    {
     "name": "stderr",
     "output_type": "stream",
     "text": [
      "100%|██████████| 3772/3772 [00:01<00:00, 3239.25it/s]\n",
      " 15%|█▌        | 570/3772 [00:00<00:01, 2851.77it/s]"
     ]
    },
    {
     "name": "stdout",
     "output_type": "stream",
     "text": [
      "gamma= 5 , ratio= 0.5 , M= 1.0 : 0.9405243600330306\n"
     ]
    },
    {
     "name": "stderr",
     "output_type": "stream",
     "text": [
      "100%|██████████| 3772/3772 [00:01<00:00, 2713.31it/s]\n",
      " 15%|█▍        | 554/3772 [00:00<00:01, 2751.57it/s]"
     ]
    },
    {
     "name": "stdout",
     "output_type": "stream",
     "text": [
      "gamma= 5 , ratio= 0.5 , M= 5.0 : 0.9361134048995321\n"
     ]
    },
    {
     "name": "stderr",
     "output_type": "stream",
     "text": [
      "100%|██████████| 3772/3772 [00:01<00:00, 2764.81it/s]\n",
      " 16%|█▌        | 585/3772 [00:00<00:01, 2944.56it/s]"
     ]
    },
    {
     "name": "stdout",
     "output_type": "stream",
     "text": [
      "gamma= 5 , ratio= 0.5 , M= 10.0 : 0.9454720616570327\n"
     ]
    },
    {
     "name": "stderr",
     "output_type": "stream",
     "text": [
      "100%|██████████| 3772/3772 [00:01<00:00, 3013.84it/s]\n",
      "  7%|▋         | 261/3772 [00:00<00:01, 2609.22it/s]"
     ]
    },
    {
     "name": "stdout",
     "output_type": "stream",
     "text": [
      "gamma= 5 , ratio= 1.0 , M= 1.0 : 0.9405243600330306\n"
     ]
    },
    {
     "name": "stderr",
     "output_type": "stream",
     "text": [
      "100%|██████████| 3772/3772 [00:01<00:00, 2741.98it/s]\n",
      " 16%|█▌        | 586/3772 [00:00<00:01, 2933.87it/s]"
     ]
    },
    {
     "name": "stdout",
     "output_type": "stream",
     "text": [
      "gamma= 5 , ratio= 1.0 , M= 5.0 : 0.9453757225433526\n"
     ]
    },
    {
     "name": "stderr",
     "output_type": "stream",
     "text": [
      "100%|██████████| 3772/3772 [00:01<00:00, 2884.16it/s]\n",
      "  8%|▊         | 295/3772 [00:00<00:01, 2944.64it/s]"
     ]
    },
    {
     "name": "stdout",
     "output_type": "stream",
     "text": [
      "gamma= 5 , ratio= 1.0 , M= 10.0 : 0.9725708780622075\n"
     ]
    },
    {
     "name": "stderr",
     "output_type": "stream",
     "text": [
      "100%|██████████| 3772/3772 [00:01<00:00, 2905.53it/s]\n",
      "  8%|▊         | 290/3772 [00:00<00:01, 2893.69it/s]"
     ]
    },
    {
     "name": "stdout",
     "output_type": "stream",
     "text": [
      "gamma= 10 , ratio= 0.1 , M= 1.0 : 0.9405243600330306\n"
     ]
    },
    {
     "name": "stderr",
     "output_type": "stream",
     "text": [
      "100%|██████████| 3772/3772 [00:01<00:00, 2872.43it/s]\n",
      "  8%|▊         | 295/3772 [00:00<00:01, 2943.12it/s]"
     ]
    },
    {
     "name": "stdout",
     "output_type": "stream",
     "text": [
      "gamma= 10 , ratio= 0.1 , M= 5.0 : 0.9589388934764657\n"
     ]
    },
    {
     "name": "stderr",
     "output_type": "stream",
     "text": [
      "100%|██████████| 3772/3772 [00:01<00:00, 2881.86it/s]\n",
      "  8%|▊         | 296/3772 [00:00<00:01, 2951.53it/s]"
     ]
    },
    {
     "name": "stdout",
     "output_type": "stream",
     "text": [
      "gamma= 10 , ratio= 0.1 , M= 10.0 : 0.9287985136251032\n"
     ]
    },
    {
     "name": "stderr",
     "output_type": "stream",
     "text": [
      "100%|██████████| 3772/3772 [00:01<00:00, 2903.82it/s]\n",
      " 16%|█▌        | 592/3772 [00:00<00:01, 2937.28it/s]"
     ]
    },
    {
     "name": "stdout",
     "output_type": "stream",
     "text": [
      "gamma= 10 , ratio= 0.5 , M= 1.0 : 0.9405243600330306\n"
     ]
    },
    {
     "name": "stderr",
     "output_type": "stream",
     "text": [
      "100%|██████████| 3772/3772 [00:01<00:00, 2932.82it/s]\n",
      " 15%|█▍        | 561/3772 [00:00<00:01, 2842.56it/s]"
     ]
    },
    {
     "name": "stdout",
     "output_type": "stream",
     "text": [
      "gamma= 10 , ratio= 0.5 , M= 5.0 : 0.9825901458849435\n"
     ]
    },
    {
     "name": "stderr",
     "output_type": "stream",
     "text": [
      "100%|██████████| 3772/3772 [00:01<00:00, 2697.82it/s]\n",
      " 14%|█▎        | 517/3772 [00:00<00:01, 2603.13it/s]"
     ]
    },
    {
     "name": "stdout",
     "output_type": "stream",
     "text": [
      "gamma= 10 , ratio= 0.5 , M= 10.0 : 0.9322254335260116\n"
     ]
    },
    {
     "name": "stderr",
     "output_type": "stream",
     "text": [
      "100%|██████████| 3772/3772 [00:01<00:00, 2633.98it/s]\n",
      " 16%|█▌        | 586/3772 [00:00<00:01, 2928.96it/s]"
     ]
    },
    {
     "name": "stdout",
     "output_type": "stream",
     "text": [
      "gamma= 10 , ratio= 1.0 , M= 1.0 : 0.9405243600330306\n"
     ]
    },
    {
     "name": "stderr",
     "output_type": "stream",
     "text": [
      "100%|██████████| 3772/3772 [00:01<00:00, 2869.41it/s]\n",
      "  8%|▊         | 294/3772 [00:00<00:01, 2931.16it/s]"
     ]
    },
    {
     "name": "stdout",
     "output_type": "stream",
     "text": [
      "gamma= 10 , ratio= 1.0 , M= 5.0 : 0.9701348747591523\n"
     ]
    },
    {
     "name": "stderr",
     "output_type": "stream",
     "text": [
      "100%|██████████| 3772/3772 [00:01<00:00, 2650.98it/s]\n",
      " 14%|█▍        | 541/3772 [00:00<00:01, 2708.85it/s]"
     ]
    },
    {
     "name": "stdout",
     "output_type": "stream",
     "text": [
      "gamma= 10 , ratio= 1.0 , M= 10.0 : 0.9361134048995321\n"
     ]
    },
    {
     "name": "stderr",
     "output_type": "stream",
     "text": [
      "100%|██████████| 3772/3772 [00:01<00:00, 2739.15it/s]\n",
      " 15%|█▌        | 567/3772 [00:00<00:01, 2822.22it/s]"
     ]
    },
    {
     "name": "stdout",
     "output_type": "stream",
     "text": [
      "gamma= 15 , ratio= 0.1 , M= 1.0 : 0.9405243600330306\n"
     ]
    },
    {
     "name": "stderr",
     "output_type": "stream",
     "text": [
      "100%|██████████| 3772/3772 [00:01<00:00, 2826.75it/s]\n",
      " 15%|█▌        | 579/3772 [00:00<00:01, 2913.47it/s]"
     ]
    },
    {
     "name": "stdout",
     "output_type": "stream",
     "text": [
      "gamma= 15 , ratio= 0.1 , M= 5.0 : 0.9408064960088082\n"
     ]
    },
    {
     "name": "stderr",
     "output_type": "stream",
     "text": [
      "100%|██████████| 3772/3772 [00:01<00:00, 2979.37it/s]\n",
      " 16%|█▌        | 597/3772 [00:00<00:01, 2995.98it/s]"
     ]
    },
    {
     "name": "stdout",
     "output_type": "stream",
     "text": [
      "gamma= 15 , ratio= 0.1 , M= 10.0 : 0.9826451968070465\n"
     ]
    },
    {
     "name": "stderr",
     "output_type": "stream",
     "text": [
      "100%|██████████| 3772/3772 [00:01<00:00, 2985.00it/s]\n",
      " 15%|█▍        | 561/3772 [00:00<00:01, 2802.72it/s]"
     ]
    },
    {
     "name": "stdout",
     "output_type": "stream",
     "text": [
      "gamma= 15 , ratio= 0.5 , M= 1.0 : 0.9405243600330306\n"
     ]
    },
    {
     "name": "stderr",
     "output_type": "stream",
     "text": [
      "100%|██████████| 3772/3772 [00:01<00:00, 2860.26it/s]\n",
      "  7%|▋         | 282/3772 [00:00<00:01, 2813.87it/s]"
     ]
    },
    {
     "name": "stdout",
     "output_type": "stream",
     "text": [
      "gamma= 15 , ratio= 0.5 , M= 5.0 : 0.9413845306908891\n"
     ]
    },
    {
     "name": "stderr",
     "output_type": "stream",
     "text": [
      "100%|██████████| 3772/3772 [00:01<00:00, 2727.99it/s]\n",
      "  8%|▊         | 289/3772 [00:00<00:01, 2879.87it/s]"
     ]
    },
    {
     "name": "stdout",
     "output_type": "stream",
     "text": [
      "gamma= 15 , ratio= 0.5 , M= 10.0 : 0.9292526837324526\n"
     ]
    },
    {
     "name": "stderr",
     "output_type": "stream",
     "text": [
      "100%|██████████| 3772/3772 [00:01<00:00, 2794.98it/s]\n",
      " 16%|█▌        | 591/3772 [00:00<00:01, 2946.73it/s]"
     ]
    },
    {
     "name": "stdout",
     "output_type": "stream",
     "text": [
      "gamma= 15 , ratio= 1.0 , M= 1.0 : 0.9405243600330306\n"
     ]
    },
    {
     "name": "stderr",
     "output_type": "stream",
     "text": [
      "100%|██████████| 3772/3772 [00:01<00:00, 2891.48it/s]\n",
      " 16%|█▌        | 586/3772 [00:00<00:01, 2904.65it/s]"
     ]
    },
    {
     "name": "stdout",
     "output_type": "stream",
     "text": [
      "gamma= 15 , ratio= 1.0 , M= 5.0 : 0.9419763281034957\n"
     ]
    },
    {
     "name": "stderr",
     "output_type": "stream",
     "text": [
      "100%|██████████| 3772/3772 [00:01<00:00, 2991.91it/s]\n",
      " 10%|█         | 389/3772 [00:00<00:01, 1937.05it/s]"
     ]
    },
    {
     "name": "stdout",
     "output_type": "stream",
     "text": [
      "gamma= 15 , ratio= 1.0 , M= 10.0 : 0.9292664464629782\n"
     ]
    },
    {
     "name": "stderr",
     "output_type": "stream",
     "text": [
      "100%|██████████| 3772/3772 [00:01<00:00, 1925.74it/s]\n",
      "  5%|▍         | 188/3772 [00:00<00:01, 1877.43it/s]"
     ]
    },
    {
     "name": "stdout",
     "output_type": "stream",
     "text": [
      "gamma= 5 , ratio= 0.1 , M= 1.0 : 0.9404624277456648\n"
     ]
    },
    {
     "name": "stderr",
     "output_type": "stream",
     "text": [
      "100%|██████████| 3772/3772 [00:02<00:00, 1832.07it/s]\n",
      "  9%|▉         | 352/3772 [00:00<00:01, 1752.76it/s]"
     ]
    },
    {
     "name": "stdout",
     "output_type": "stream",
     "text": [
      "gamma= 5 , ratio= 0.1 , M= 5.0 : 0.9399669694467382\n"
     ]
    },
    {
     "name": "stderr",
     "output_type": "stream",
     "text": [
      "100%|██████████| 3772/3772 [00:02<00:00, 1682.00it/s]\n",
      " 10%|█         | 394/3772 [00:00<00:01, 1959.69it/s]"
     ]
    },
    {
     "name": "stdout",
     "output_type": "stream",
     "text": [
      "gamma= 5 , ratio= 0.1 , M= 10.0 : 0.9452656206991468\n"
     ]
    },
    {
     "name": "stderr",
     "output_type": "stream",
     "text": [
      "100%|██████████| 3772/3772 [00:01<00:00, 1939.15it/s]\n",
      "  5%|▍         | 175/3772 [00:00<00:02, 1743.41it/s]"
     ]
    },
    {
     "name": "stdout",
     "output_type": "stream",
     "text": [
      "gamma= 5 , ratio= 0.5 , M= 1.0 : 0.9404624277456648\n"
     ]
    },
    {
     "name": "stderr",
     "output_type": "stream",
     "text": [
      "100%|██████████| 3772/3772 [00:02<00:00, 1740.29it/s]\n",
      " 10%|▉         | 362/3772 [00:00<00:01, 1813.26it/s]"
     ]
    },
    {
     "name": "stdout",
     "output_type": "stream",
     "text": [
      "gamma= 5 , ratio= 0.5 , M= 5.0 : 0.942485549132948\n"
     ]
    },
    {
     "name": "stderr",
     "output_type": "stream",
     "text": [
      "100%|██████████| 3772/3772 [00:02<00:00, 1757.59it/s]\n",
      "  5%|▌         | 190/3772 [00:00<00:01, 1899.71it/s]"
     ]
    },
    {
     "name": "stdout",
     "output_type": "stream",
     "text": [
      "gamma= 5 , ratio= 0.5 , M= 10.0 : 0.9354734379300852\n"
     ]
    },
    {
     "name": "stderr",
     "output_type": "stream",
     "text": [
      "100%|██████████| 3772/3772 [00:01<00:00, 1903.73it/s]\n",
      "  4%|▍         | 159/3772 [00:00<00:02, 1585.39it/s]"
     ]
    },
    {
     "name": "stdout",
     "output_type": "stream",
     "text": [
      "gamma= 5 , ratio= 1.0 , M= 1.0 : 0.9404624277456648\n"
     ]
    },
    {
     "name": "stderr",
     "output_type": "stream",
     "text": [
      "100%|██████████| 3772/3772 [00:02<00:00, 1751.14it/s]\n",
      "  9%|▉         | 351/3772 [00:00<00:01, 1752.19it/s]"
     ]
    },
    {
     "name": "stdout",
     "output_type": "stream",
     "text": [
      "gamma= 5 , ratio= 1.0 , M= 5.0 : 0.9341590971648775\n"
     ]
    },
    {
     "name": "stderr",
     "output_type": "stream",
     "text": [
      "100%|██████████| 3772/3772 [00:02<00:00, 1721.99it/s]\n",
      "  5%|▍         | 182/3772 [00:00<00:01, 1813.88it/s]"
     ]
    },
    {
     "name": "stdout",
     "output_type": "stream",
     "text": [
      "gamma= 5 , ratio= 1.0 , M= 10.0 : 0.9725708780622075\n"
     ]
    },
    {
     "name": "stderr",
     "output_type": "stream",
     "text": [
      "100%|██████████| 3772/3772 [00:02<00:00, 1738.75it/s]\n",
      "  5%|▍         | 188/3772 [00:00<00:01, 1874.79it/s]"
     ]
    },
    {
     "name": "stdout",
     "output_type": "stream",
     "text": [
      "gamma= 10 , ratio= 0.1 , M= 1.0 : 0.9404624277456648\n"
     ]
    },
    {
     "name": "stderr",
     "output_type": "stream",
     "text": [
      "100%|██████████| 3772/3772 [00:02<00:00, 1789.48it/s]\n",
      "  4%|▍         | 156/3772 [00:00<00:02, 1552.45it/s]"
     ]
    },
    {
     "name": "stdout",
     "output_type": "stream",
     "text": [
      "gamma= 10 , ratio= 0.1 , M= 5.0 : 0.9769474263693917\n"
     ]
    },
    {
     "name": "stderr",
     "output_type": "stream",
     "text": [
      "100%|██████████| 3772/3772 [00:02<00:00, 1721.39it/s]\n",
      "  5%|▍         | 177/3772 [00:00<00:02, 1769.03it/s]"
     ]
    },
    {
     "name": "stdout",
     "output_type": "stream",
     "text": [
      "gamma= 10 , ratio= 0.1 , M= 10.0 : 0.931055601431324\n"
     ]
    },
    {
     "name": "stderr",
     "output_type": "stream",
     "text": [
      "100%|██████████| 3772/3772 [00:02<00:00, 1725.95it/s]\n",
      "  9%|▉         | 357/3772 [00:00<00:01, 1787.34it/s]"
     ]
    },
    {
     "name": "stdout",
     "output_type": "stream",
     "text": [
      "gamma= 10 , ratio= 0.5 , M= 1.0 : 0.9404624277456648\n"
     ]
    },
    {
     "name": "stderr",
     "output_type": "stream",
     "text": [
      "100%|██████████| 3772/3772 [00:02<00:00, 1740.51it/s]\n",
      "  4%|▍         | 167/3772 [00:00<00:02, 1667.18it/s]"
     ]
    },
    {
     "name": "stdout",
     "output_type": "stream",
     "text": [
      "gamma= 10 , ratio= 0.5 , M= 5.0 : 0.9659922928709056\n"
     ]
    },
    {
     "name": "stderr",
     "output_type": "stream",
     "text": [
      "100%|██████████| 3772/3772 [00:02<00:00, 1659.07it/s]\n",
      "  4%|▍         | 165/3772 [00:00<00:02, 1641.29it/s]"
     ]
    },
    {
     "name": "stdout",
     "output_type": "stream",
     "text": [
      "gamma= 10 , ratio= 0.5 , M= 10.0 : 0.9460088081475364\n"
     ]
    },
    {
     "name": "stderr",
     "output_type": "stream",
     "text": [
      "100%|██████████| 3772/3772 [00:02<00:00, 1603.10it/s]\n",
      "  4%|▍         | 167/3772 [00:00<00:02, 1667.00it/s]"
     ]
    },
    {
     "name": "stdout",
     "output_type": "stream",
     "text": [
      "gamma= 10 , ratio= 1.0 , M= 1.0 : 0.9404624277456648\n"
     ]
    },
    {
     "name": "stderr",
     "output_type": "stream",
     "text": [
      "100%|██████████| 3772/3772 [00:02<00:00, 1627.67it/s]\n",
      "  5%|▍         | 174/3772 [00:00<00:02, 1732.93it/s]"
     ]
    },
    {
     "name": "stdout",
     "output_type": "stream",
     "text": [
      "gamma= 10 , ratio= 1.0 , M= 5.0 : 0.9460432149738508\n"
     ]
    },
    {
     "name": "stderr",
     "output_type": "stream",
     "text": [
      "100%|██████████| 3772/3772 [00:02<00:00, 1636.65it/s]\n",
      "  4%|▍         | 169/3772 [00:00<00:02, 1689.66it/s]"
     ]
    },
    {
     "name": "stdout",
     "output_type": "stream",
     "text": [
      "gamma= 10 , ratio= 1.0 , M= 10.0 : 0.942485549132948\n"
     ]
    },
    {
     "name": "stderr",
     "output_type": "stream",
     "text": [
      "100%|██████████| 3772/3772 [00:02<00:00, 1655.38it/s]\n",
      "  5%|▍         | 181/3772 [00:00<00:01, 1808.54it/s]"
     ]
    },
    {
     "name": "stdout",
     "output_type": "stream",
     "text": [
      "gamma= 15 , ratio= 0.1 , M= 1.0 : 0.9404624277456648\n"
     ]
    },
    {
     "name": "stderr",
     "output_type": "stream",
     "text": [
      "100%|██████████| 3772/3772 [00:02<00:00, 1792.51it/s]\n",
      "  5%|▍         | 188/3772 [00:00<00:01, 1875.14it/s]"
     ]
    },
    {
     "name": "stdout",
     "output_type": "stream",
     "text": [
      "gamma= 15 , ratio= 0.1 , M= 5.0 : 0.9404624277456648\n"
     ]
    },
    {
     "name": "stderr",
     "output_type": "stream",
     "text": [
      "100%|██████████| 3772/3772 [00:02<00:00, 1773.28it/s]\n",
      "  9%|▉         | 341/3772 [00:00<00:02, 1701.62it/s]"
     ]
    },
    {
     "name": "stdout",
     "output_type": "stream",
     "text": [
      "gamma= 15 , ratio= 0.1 , M= 10.0 : 0.9677470410129371\n"
     ]
    },
    {
     "name": "stderr",
     "output_type": "stream",
     "text": [
      "100%|██████████| 3772/3772 [00:02<00:00, 1655.46it/s]\n",
      "  5%|▍         | 179/3772 [00:00<00:02, 1784.31it/s]"
     ]
    },
    {
     "name": "stdout",
     "output_type": "stream",
     "text": [
      "gamma= 15 , ratio= 0.5 , M= 1.0 : 0.9404624277456648\n"
     ]
    },
    {
     "name": "stderr",
     "output_type": "stream",
     "text": [
      "100%|██████████| 3772/3772 [00:02<00:00, 1774.27it/s]\n",
      " 10%|▉         | 368/3772 [00:00<00:01, 1819.00it/s]"
     ]
    },
    {
     "name": "stdout",
     "output_type": "stream",
     "text": [
      "gamma= 15 , ratio= 0.5 , M= 5.0 : 0.9410404624277456\n"
     ]
    },
    {
     "name": "stderr",
     "output_type": "stream",
     "text": [
      "100%|██████████| 3772/3772 [00:02<00:00, 1779.34it/s]\n",
      "  5%|▍         | 182/3772 [00:00<00:01, 1811.58it/s]"
     ]
    },
    {
     "name": "stdout",
     "output_type": "stream",
     "text": [
      "gamma= 15 , ratio= 0.5 , M= 10.0 : 0.9304362785576659\n"
     ]
    },
    {
     "name": "stderr",
     "output_type": "stream",
     "text": [
      "100%|██████████| 3772/3772 [00:02<00:00, 1761.48it/s]\n",
      "  5%|▍         | 181/3772 [00:00<00:01, 1809.00it/s]"
     ]
    },
    {
     "name": "stdout",
     "output_type": "stream",
     "text": [
      "gamma= 15 , ratio= 1.0 , M= 1.0 : 0.9404624277456648\n"
     ]
    },
    {
     "name": "stderr",
     "output_type": "stream",
     "text": [
      "100%|██████████| 3772/3772 [00:02<00:00, 1761.90it/s]\n",
      "  5%|▍         | 171/3772 [00:00<00:02, 1707.04it/s]"
     ]
    },
    {
     "name": "stdout",
     "output_type": "stream",
     "text": [
      "gamma= 15 , ratio= 1.0 , M= 5.0 : 0.9399325626204239\n"
     ]
    },
    {
     "name": "stderr",
     "output_type": "stream",
     "text": [
      "100%|██████████| 3772/3772 [00:02<00:00, 1710.71it/s]\n",
      "  3%|▎         | 128/3772 [00:00<00:02, 1270.81it/s]"
     ]
    },
    {
     "name": "stdout",
     "output_type": "stream",
     "text": [
      "gamma= 15 , ratio= 1.0 , M= 10.0 : 0.9396091384530691\n"
     ]
    },
    {
     "name": "stderr",
     "output_type": "stream",
     "text": [
      "100%|██████████| 3772/3772 [00:02<00:00, 1300.39it/s]\n",
      "  3%|▎         | 125/3772 [00:00<00:02, 1246.19it/s]"
     ]
    },
    {
     "name": "stdout",
     "output_type": "stream",
     "text": [
      "gamma= 5 , ratio= 0.1 , M= 1.0 : 0.9431323974676576\n"
     ]
    },
    {
     "name": "stderr",
     "output_type": "stream",
     "text": [
      "100%|██████████| 3772/3772 [00:03<00:00, 1213.29it/s]\n",
      "  3%|▎         | 114/3772 [00:00<00:03, 1131.44it/s]"
     ]
    },
    {
     "name": "stdout",
     "output_type": "stream",
     "text": [
      "gamma= 5 , ratio= 0.1 , M= 5.0 : 0.9427470410129369\n"
     ]
    },
    {
     "name": "stderr",
     "output_type": "stream",
     "text": [
      "100%|██████████| 3772/3772 [00:03<00:00, 1161.14it/s]\n",
      "  4%|▎         | 138/3772 [00:00<00:02, 1374.31it/s]"
     ]
    },
    {
     "name": "stdout",
     "output_type": "stream",
     "text": [
      "gamma= 5 , ratio= 0.1 , M= 10.0 : 0.9437517203413157\n"
     ]
    },
    {
     "name": "stderr",
     "output_type": "stream",
     "text": [
      "100%|██████████| 3772/3772 [00:02<00:00, 1347.49it/s]\n",
      "  3%|▎         | 129/3772 [00:00<00:02, 1289.84it/s]"
     ]
    },
    {
     "name": "stdout",
     "output_type": "stream",
     "text": [
      "gamma= 5 , ratio= 0.5 , M= 1.0 : 0.9431323974676576\n"
     ]
    },
    {
     "name": "stderr",
     "output_type": "stream",
     "text": [
      "100%|██████████| 3772/3772 [00:02<00:00, 1273.90it/s]\n",
      "  6%|▋         | 236/3772 [00:00<00:03, 1172.26it/s]"
     ]
    },
    {
     "name": "stdout",
     "output_type": "stream",
     "text": [
      "gamma= 5 , ratio= 0.5 , M= 5.0 : 0.9423892100192678\n"
     ]
    },
    {
     "name": "stderr",
     "output_type": "stream",
     "text": [
      "100%|██████████| 3772/3772 [00:03<00:00, 1184.65it/s]\n",
      "  3%|▎         | 131/3772 [00:00<00:02, 1301.85it/s]"
     ]
    },
    {
     "name": "stdout",
     "output_type": "stream",
     "text": [
      "gamma= 5 , ratio= 0.5 , M= 10.0 : 0.9454720616570327\n"
     ]
    },
    {
     "name": "stderr",
     "output_type": "stream",
     "text": [
      "100%|██████████| 3772/3772 [00:03<00:00, 1245.44it/s]\n",
      "  6%|▌         | 235/3772 [00:00<00:03, 1177.99it/s]"
     ]
    },
    {
     "name": "stdout",
     "output_type": "stream",
     "text": [
      "gamma= 5 , ratio= 1.0 , M= 1.0 : 0.9431323974676576\n"
     ]
    },
    {
     "name": "stderr",
     "output_type": "stream",
     "text": [
      "100%|██████████| 3772/3772 [00:03<00:00, 1220.37it/s]\n",
      "  4%|▎         | 134/3772 [00:00<00:02, 1334.01it/s]"
     ]
    },
    {
     "name": "stdout",
     "output_type": "stream",
     "text": [
      "gamma= 5 , ratio= 1.0 , M= 5.0 : 0.9453757225433526\n"
     ]
    },
    {
     "name": "stderr",
     "output_type": "stream",
     "text": [
      "100%|██████████| 3772/3772 [00:03<00:00, 1248.06it/s]\n",
      "  3%|▎         | 125/3772 [00:00<00:02, 1249.14it/s]"
     ]
    },
    {
     "name": "stdout",
     "output_type": "stream",
     "text": [
      "gamma= 5 , ratio= 1.0 , M= 10.0 : 0.9725708780622075\n"
     ]
    },
    {
     "name": "stderr",
     "output_type": "stream",
     "text": [
      "100%|██████████| 3772/3772 [00:03<00:00, 1187.33it/s]\n",
      "  7%|▋         | 249/3772 [00:00<00:02, 1251.64it/s]"
     ]
    },
    {
     "name": "stdout",
     "output_type": "stream",
     "text": [
      "gamma= 10 , ratio= 0.1 , M= 1.0 : 0.9431323974676575\n"
     ]
    },
    {
     "name": "stderr",
     "output_type": "stream",
     "text": [
      "100%|██████████| 3772/3772 [00:02<00:00, 1260.32it/s]\n",
      "  3%|▎         | 131/3772 [00:00<00:02, 1308.17it/s]"
     ]
    },
    {
     "name": "stdout",
     "output_type": "stream",
     "text": [
      "gamma= 10 , ratio= 0.1 , M= 5.0 : 0.9810624827965868\n"
     ]
    },
    {
     "name": "stderr",
     "output_type": "stream",
     "text": [
      "100%|██████████| 3772/3772 [00:03<00:00, 1233.08it/s]\n",
      "  4%|▎         | 134/3772 [00:00<00:02, 1336.14it/s]"
     ]
    },
    {
     "name": "stdout",
     "output_type": "stream",
     "text": [
      "gamma= 10 , ratio= 0.1 , M= 10.0 : 0.9369804569226534\n"
     ]
    },
    {
     "name": "stderr",
     "output_type": "stream",
     "text": [
      "100%|██████████| 3772/3772 [00:02<00:00, 1272.24it/s]\n",
      "  7%|▋         | 256/3772 [00:00<00:02, 1277.39it/s]"
     ]
    },
    {
     "name": "stdout",
     "output_type": "stream",
     "text": [
      "gamma= 10 , ratio= 0.5 , M= 1.0 : 0.9431323974676575\n"
     ]
    },
    {
     "name": "stderr",
     "output_type": "stream",
     "text": [
      "100%|██████████| 3772/3772 [00:02<00:00, 1257.40it/s]\n",
      "  3%|▎         | 127/3772 [00:00<00:02, 1268.96it/s]"
     ]
    },
    {
     "name": "stdout",
     "output_type": "stream",
     "text": [
      "gamma= 10 , ratio= 0.5 , M= 5.0 : 0.9720203688411782\n"
     ]
    },
    {
     "name": "stderr",
     "output_type": "stream",
     "text": [
      "100%|██████████| 3772/3772 [00:03<00:00, 1248.42it/s]\n",
      "  3%|▎         | 118/3772 [00:00<00:03, 1178.53it/s]"
     ]
    },
    {
     "name": "stdout",
     "output_type": "stream",
     "text": [
      "gamma= 10 , ratio= 0.5 , M= 10.0 : 0.943999449490779\n"
     ]
    },
    {
     "name": "stderr",
     "output_type": "stream",
     "text": [
      "100%|██████████| 3772/3772 [00:03<00:00, 1152.44it/s]\n",
      "  4%|▎         | 137/3772 [00:00<00:02, 1361.48it/s]"
     ]
    },
    {
     "name": "stdout",
     "output_type": "stream",
     "text": [
      "gamma= 10 , ratio= 1.0 , M= 1.0 : 0.9431323974676575\n"
     ]
    },
    {
     "name": "stderr",
     "output_type": "stream",
     "text": [
      "100%|██████████| 3772/3772 [00:02<00:00, 1299.81it/s]\n",
      "  3%|▎         | 124/3772 [00:00<00:02, 1237.18it/s]"
     ]
    },
    {
     "name": "stdout",
     "output_type": "stream",
     "text": [
      "gamma= 10 , ratio= 1.0 , M= 5.0 : 0.935390861546931\n"
     ]
    },
    {
     "name": "stderr",
     "output_type": "stream",
     "text": [
      "100%|██████████| 3772/3772 [00:03<00:00, 1170.02it/s]\n",
      "  3%|▎         | 131/3772 [00:00<00:02, 1307.01it/s]"
     ]
    },
    {
     "name": "stdout",
     "output_type": "stream",
     "text": [
      "gamma= 10 , ratio= 1.0 , M= 10.0 : 0.9423892100192678\n"
     ]
    },
    {
     "name": "stderr",
     "output_type": "stream",
     "text": [
      "100%|██████████| 3772/3772 [00:03<00:00, 1224.05it/s]\n",
      "  3%|▎         | 107/3772 [00:00<00:03, 1067.14it/s]"
     ]
    },
    {
     "name": "stdout",
     "output_type": "stream",
     "text": [
      "gamma= 15 , ratio= 0.1 , M= 1.0 : 0.9431323974676575\n"
     ]
    },
    {
     "name": "stderr",
     "output_type": "stream",
     "text": [
      "100%|██████████| 3772/3772 [00:03<00:00, 1229.53it/s]\n",
      "  7%|▋         | 256/3772 [00:00<00:02, 1284.85it/s]"
     ]
    },
    {
     "name": "stdout",
     "output_type": "stream",
     "text": [
      "gamma= 15 , ratio= 0.1 , M= 5.0 : 0.9434282961739608\n"
     ]
    },
    {
     "name": "stderr",
     "output_type": "stream",
     "text": [
      "100%|██████████| 3772/3772 [00:03<00:00, 1134.31it/s]\n",
      "  3%|▎         | 112/3772 [00:00<00:03, 1115.04it/s]"
     ]
    },
    {
     "name": "stdout",
     "output_type": "stream",
     "text": [
      "gamma= 15 , ratio= 0.1 , M= 10.0 : 0.975419763281035\n"
     ]
    },
    {
     "name": "stderr",
     "output_type": "stream",
     "text": [
      "100%|██████████| 3772/3772 [00:03<00:00, 1149.99it/s]\n",
      "  3%|▎         | 130/3772 [00:00<00:02, 1298.91it/s]"
     ]
    },
    {
     "name": "stdout",
     "output_type": "stream",
     "text": [
      "gamma= 15 , ratio= 0.5 , M= 1.0 : 0.9431323974676575\n"
     ]
    },
    {
     "name": "stderr",
     "output_type": "stream",
     "text": [
      "100%|██████████| 3772/3772 [00:02<00:00, 1270.00it/s]\n",
      "  3%|▎         | 129/3772 [00:00<00:02, 1286.22it/s]"
     ]
    },
    {
     "name": "stdout",
     "output_type": "stream",
     "text": [
      "gamma= 15 , ratio= 0.5 , M= 5.0 : 0.9448940269749518\n"
     ]
    },
    {
     "name": "stderr",
     "output_type": "stream",
     "text": [
      "100%|██████████| 3772/3772 [00:02<00:00, 1273.35it/s]\n",
      "  4%|▎         | 133/3772 [00:00<00:02, 1320.62it/s]"
     ]
    },
    {
     "name": "stdout",
     "output_type": "stream",
     "text": [
      "gamma= 15 , ratio= 0.5 , M= 10.0 : 0.9366088631984586\n"
     ]
    },
    {
     "name": "stderr",
     "output_type": "stream",
     "text": [
      "100%|██████████| 3772/3772 [00:03<00:00, 1230.18it/s]\n",
      "  3%|▎         | 107/3772 [00:00<00:03, 1064.66it/s]"
     ]
    },
    {
     "name": "stdout",
     "output_type": "stream",
     "text": [
      "gamma= 15 , ratio= 1.0 , M= 1.0 : 0.9431323974676575\n"
     ]
    },
    {
     "name": "stderr",
     "output_type": "stream",
     "text": [
      "100%|██████████| 3772/3772 [00:03<00:00, 1157.14it/s]\n",
      "  6%|▌         | 235/3772 [00:00<00:02, 1188.07it/s]"
     ]
    },
    {
     "name": "stdout",
     "output_type": "stream",
     "text": [
      "gamma= 15 , ratio= 1.0 , M= 5.0 : 0.9464010459675201\n"
     ]
    },
    {
     "name": "stderr",
     "output_type": "stream",
     "text": [
      "100%|██████████| 3772/3772 [00:03<00:00, 1241.87it/s]\n",
      " 17%|█▋        | 646/3772 [00:00<00:00, 3233.12it/s]"
     ]
    },
    {
     "name": "stdout",
     "output_type": "stream",
     "text": [
      "gamma= 15 , ratio= 1.0 , M= 10.0 : 0.9424167354803192\n"
     ]
    },
    {
     "name": "stderr",
     "output_type": "stream",
     "text": [
      "100%|██████████| 3772/3772 [00:01<00:00, 3274.71it/s]\n",
      "  9%|▊         | 322/3772 [00:00<00:01, 3212.55it/s]"
     ]
    },
    {
     "name": "stdout",
     "output_type": "stream",
     "text": [
      "gamma= 5 , ratio= 0.1 , M= 1.0 : 0.9405243600330306\n"
     ]
    },
    {
     "name": "stderr",
     "output_type": "stream",
     "text": [
      "100%|██████████| 3772/3772 [00:01<00:00, 3269.59it/s]\n",
      "  7%|▋         | 276/3772 [00:00<00:01, 2752.27it/s]"
     ]
    },
    {
     "name": "stdout",
     "output_type": "stream",
     "text": [
      "gamma= 5 , ratio= 0.1 , M= 5.0 : 0.9499311863473713\n"
     ]
    },
    {
     "name": "stderr",
     "output_type": "stream",
     "text": [
      "100%|██████████| 3772/3772 [00:01<00:00, 2627.85it/s]\n",
      " 16%|█▌        | 605/3772 [00:00<00:01, 3001.94it/s]"
     ]
    },
    {
     "name": "stdout",
     "output_type": "stream",
     "text": [
      "gamma= 5 , ratio= 0.1 , M= 10.0 : 0.9318676025323425\n"
     ]
    },
    {
     "name": "stderr",
     "output_type": "stream",
     "text": [
      "100%|██████████| 3772/3772 [00:01<00:00, 2843.15it/s]\n",
      " 15%|█▍        | 563/3772 [00:00<00:01, 2808.02it/s]"
     ]
    },
    {
     "name": "stdout",
     "output_type": "stream",
     "text": [
      "gamma= 5 , ratio= 0.5 , M= 1.0 : 0.9405243600330306\n"
     ]
    },
    {
     "name": "stderr",
     "output_type": "stream",
     "text": [
      "100%|██████████| 3772/3772 [00:01<00:00, 2774.17it/s]\n",
      " 15%|█▌        | 582/3772 [00:00<00:01, 2912.39it/s]"
     ]
    },
    {
     "name": "stdout",
     "output_type": "stream",
     "text": [
      "gamma= 5 , ratio= 0.5 , M= 5.0 : 0.9361134048995321\n"
     ]
    },
    {
     "name": "stderr",
     "output_type": "stream",
     "text": [
      "100%|██████████| 3772/3772 [00:01<00:00, 2848.05it/s]\n",
      "  9%|▉         | 333/3772 [00:00<00:01, 3325.14it/s]"
     ]
    },
    {
     "name": "stdout",
     "output_type": "stream",
     "text": [
      "gamma= 5 , ratio= 0.5 , M= 10.0 : 0.9454720616570327\n"
     ]
    },
    {
     "name": "stderr",
     "output_type": "stream",
     "text": [
      "100%|██████████| 3772/3772 [00:01<00:00, 3288.07it/s]\n",
      " 15%|█▌        | 583/3772 [00:00<00:01, 2914.09it/s]"
     ]
    },
    {
     "name": "stdout",
     "output_type": "stream",
     "text": [
      "gamma= 5 , ratio= 1.0 , M= 1.0 : 0.9405243600330306\n"
     ]
    },
    {
     "name": "stderr",
     "output_type": "stream",
     "text": [
      "100%|██████████| 3772/3772 [00:01<00:00, 2768.66it/s]\n",
      "  7%|▋         | 277/3772 [00:00<00:01, 2765.96it/s]"
     ]
    },
    {
     "name": "stdout",
     "output_type": "stream",
     "text": [
      "gamma= 5 , ratio= 1.0 , M= 5.0 : 0.9453757225433526\n"
     ]
    },
    {
     "name": "stderr",
     "output_type": "stream",
     "text": [
      "100%|██████████| 3772/3772 [00:01<00:00, 2482.14it/s]\n",
      "  7%|▋         | 255/3772 [00:00<00:01, 2540.29it/s]"
     ]
    },
    {
     "name": "stdout",
     "output_type": "stream",
     "text": [
      "gamma= 5 , ratio= 1.0 , M= 10.0 : 0.9725708780622075\n"
     ]
    },
    {
     "name": "stderr",
     "output_type": "stream",
     "text": [
      "100%|██████████| 3772/3772 [00:01<00:00, 2614.70it/s]\n",
      "  7%|▋         | 280/3772 [00:00<00:01, 2791.72it/s]"
     ]
    },
    {
     "name": "stdout",
     "output_type": "stream",
     "text": [
      "gamma= 10 , ratio= 0.1 , M= 1.0 : 0.9405243600330306\n"
     ]
    },
    {
     "name": "stderr",
     "output_type": "stream",
     "text": [
      "100%|██████████| 3772/3772 [00:01<00:00, 2774.07it/s]\n",
      " 14%|█▍        | 535/3772 [00:00<00:01, 2686.67it/s]"
     ]
    },
    {
     "name": "stdout",
     "output_type": "stream",
     "text": [
      "gamma= 10 , ratio= 0.1 , M= 5.0 : 0.9589388934764657\n"
     ]
    },
    {
     "name": "stderr",
     "output_type": "stream",
     "text": [
      "100%|██████████| 3772/3772 [00:01<00:00, 2604.35it/s]\n",
      "  7%|▋         | 257/3772 [00:00<00:01, 2563.01it/s]"
     ]
    },
    {
     "name": "stdout",
     "output_type": "stream",
     "text": [
      "gamma= 10 , ratio= 0.1 , M= 10.0 : 0.9287985136251032\n"
     ]
    },
    {
     "name": "stderr",
     "output_type": "stream",
     "text": [
      "100%|██████████| 3772/3772 [00:01<00:00, 2491.51it/s]\n",
      "  7%|▋         | 264/3772 [00:00<00:01, 2630.92it/s]"
     ]
    },
    {
     "name": "stdout",
     "output_type": "stream",
     "text": [
      "gamma= 10 , ratio= 0.5 , M= 1.0 : 0.9405243600330306\n"
     ]
    },
    {
     "name": "stderr",
     "output_type": "stream",
     "text": [
      "100%|██████████| 3772/3772 [00:01<00:00, 2495.71it/s]\n",
      " 13%|█▎        | 491/3772 [00:00<00:01, 2471.34it/s]"
     ]
    },
    {
     "name": "stdout",
     "output_type": "stream",
     "text": [
      "gamma= 10 , ratio= 0.5 , M= 5.0 : 0.9825901458849435\n"
     ]
    },
    {
     "name": "stderr",
     "output_type": "stream",
     "text": [
      "100%|██████████| 3772/3772 [00:01<00:00, 2248.05it/s]\n",
      " 13%|█▎        | 482/3772 [00:00<00:01, 2434.54it/s]"
     ]
    },
    {
     "name": "stdout",
     "output_type": "stream",
     "text": [
      "gamma= 10 , ratio= 0.5 , M= 10.0 : 0.9322254335260116\n"
     ]
    },
    {
     "name": "stderr",
     "output_type": "stream",
     "text": [
      "100%|██████████| 3772/3772 [00:01<00:00, 2568.43it/s]\n",
      "  6%|▋         | 240/3772 [00:00<00:01, 2394.66it/s]"
     ]
    },
    {
     "name": "stdout",
     "output_type": "stream",
     "text": [
      "gamma= 10 , ratio= 1.0 , M= 1.0 : 0.9405243600330306\n"
     ]
    },
    {
     "name": "stderr",
     "output_type": "stream",
     "text": [
      "100%|██████████| 3772/3772 [00:01<00:00, 2574.88it/s]\n",
      " 14%|█▍        | 534/3772 [00:00<00:01, 2684.87it/s]"
     ]
    },
    {
     "name": "stdout",
     "output_type": "stream",
     "text": [
      "gamma= 10 , ratio= 1.0 , M= 5.0 : 0.9701348747591523\n"
     ]
    },
    {
     "name": "stderr",
     "output_type": "stream",
     "text": [
      "100%|██████████| 3772/3772 [00:01<00:00, 2636.30it/s]\n",
      "  7%|▋         | 265/3772 [00:00<00:01, 2641.09it/s]"
     ]
    },
    {
     "name": "stdout",
     "output_type": "stream",
     "text": [
      "gamma= 10 , ratio= 1.0 , M= 10.0 : 0.9361134048995321\n"
     ]
    },
    {
     "name": "stderr",
     "output_type": "stream",
     "text": [
      "100%|██████████| 3772/3772 [00:01<00:00, 2579.54it/s]\n",
      "  7%|▋         | 260/3772 [00:00<00:01, 2592.82it/s]"
     ]
    },
    {
     "name": "stdout",
     "output_type": "stream",
     "text": [
      "gamma= 15 , ratio= 0.1 , M= 1.0 : 0.9405243600330306\n"
     ]
    },
    {
     "name": "stderr",
     "output_type": "stream",
     "text": [
      "100%|██████████| 3772/3772 [00:01<00:00, 2619.65it/s]\n",
      " 14%|█▍        | 533/3772 [00:00<00:01, 2650.92it/s]"
     ]
    },
    {
     "name": "stdout",
     "output_type": "stream",
     "text": [
      "gamma= 15 , ratio= 0.1 , M= 5.0 : 0.9408064960088082\n"
     ]
    },
    {
     "name": "stderr",
     "output_type": "stream",
     "text": [
      "100%|██████████| 3772/3772 [00:01<00:00, 2601.31it/s]\n",
      " 12%|█▏        | 435/3772 [00:00<00:01, 2247.60it/s]"
     ]
    },
    {
     "name": "stdout",
     "output_type": "stream",
     "text": [
      "gamma= 15 , ratio= 0.1 , M= 10.0 : 0.9826451968070465\n"
     ]
    },
    {
     "name": "stderr",
     "output_type": "stream",
     "text": [
      "100%|██████████| 3772/3772 [00:01<00:00, 2158.34it/s]\n",
      "  6%|▌         | 228/3772 [00:00<00:01, 2271.43it/s]"
     ]
    },
    {
     "name": "stdout",
     "output_type": "stream",
     "text": [
      "gamma= 15 , ratio= 0.5 , M= 1.0 : 0.9405243600330306\n"
     ]
    },
    {
     "name": "stderr",
     "output_type": "stream",
     "text": [
      "100%|██████████| 3772/3772 [00:01<00:00, 2318.03it/s]\n",
      "  5%|▌         | 206/3772 [00:00<00:01, 2057.78it/s]"
     ]
    },
    {
     "name": "stdout",
     "output_type": "stream",
     "text": [
      "gamma= 15 , ratio= 0.5 , M= 5.0 : 0.9413845306908891\n"
     ]
    },
    {
     "name": "stderr",
     "output_type": "stream",
     "text": [
      "100%|██████████| 3772/3772 [00:01<00:00, 2287.10it/s]\n",
      " 14%|█▍        | 528/3772 [00:00<00:01, 2628.62it/s]"
     ]
    },
    {
     "name": "stdout",
     "output_type": "stream",
     "text": [
      "gamma= 15 , ratio= 0.5 , M= 10.0 : 0.9292526837324526\n"
     ]
    },
    {
     "name": "stderr",
     "output_type": "stream",
     "text": [
      "100%|██████████| 3772/3772 [00:01<00:00, 2551.07it/s]\n",
      "  6%|▌         | 225/3772 [00:00<00:01, 2247.97it/s]"
     ]
    },
    {
     "name": "stdout",
     "output_type": "stream",
     "text": [
      "gamma= 15 , ratio= 1.0 , M= 1.0 : 0.9405243600330306\n"
     ]
    },
    {
     "name": "stderr",
     "output_type": "stream",
     "text": [
      "100%|██████████| 3772/3772 [00:01<00:00, 2306.01it/s]\n",
      " 12%|█▏        | 468/3772 [00:00<00:01, 2410.47it/s]"
     ]
    },
    {
     "name": "stdout",
     "output_type": "stream",
     "text": [
      "gamma= 15 , ratio= 1.0 , M= 5.0 : 0.9419763281034957\n"
     ]
    },
    {
     "name": "stderr",
     "output_type": "stream",
     "text": [
      "100%|██████████| 3772/3772 [00:01<00:00, 2522.02it/s]\n",
      "  4%|▍         | 169/3772 [00:00<00:02, 1687.57it/s]"
     ]
    },
    {
     "name": "stdout",
     "output_type": "stream",
     "text": [
      "gamma= 15 , ratio= 1.0 , M= 10.0 : 0.9292664464629782\n"
     ]
    },
    {
     "name": "stderr",
     "output_type": "stream",
     "text": [
      "100%|██████████| 3772/3772 [00:02<00:00, 1643.15it/s]\n",
      "  4%|▍         | 158/3772 [00:00<00:02, 1572.66it/s]"
     ]
    },
    {
     "name": "stdout",
     "output_type": "stream",
     "text": [
      "gamma= 5 , ratio= 0.1 , M= 1.0 : 0.9404624277456648\n"
     ]
    },
    {
     "name": "stderr",
     "output_type": "stream",
     "text": [
      "100%|██████████| 3772/3772 [00:02<00:00, 1512.81it/s]\n",
      "  8%|▊         | 315/3772 [00:00<00:02, 1572.91it/s]"
     ]
    },
    {
     "name": "stdout",
     "output_type": "stream",
     "text": [
      "gamma= 5 , ratio= 0.1 , M= 5.0 : 0.9399669694467382\n"
     ]
    },
    {
     "name": "stderr",
     "output_type": "stream",
     "text": [
      "100%|██████████| 3772/3772 [00:02<00:00, 1496.86it/s]\n",
      "  9%|▊         | 321/3772 [00:00<00:02, 1578.82it/s]"
     ]
    },
    {
     "name": "stdout",
     "output_type": "stream",
     "text": [
      "gamma= 5 , ratio= 0.1 , M= 10.0 : 0.9452656206991468\n"
     ]
    },
    {
     "name": "stderr",
     "output_type": "stream",
     "text": [
      "100%|██████████| 3772/3772 [00:02<00:00, 1644.29it/s]\n",
      "  9%|▊         | 324/3772 [00:00<00:02, 1643.21it/s]"
     ]
    },
    {
     "name": "stdout",
     "output_type": "stream",
     "text": [
      "gamma= 5 , ratio= 0.5 , M= 1.0 : 0.9404624277456648\n"
     ]
    },
    {
     "name": "stderr",
     "output_type": "stream",
     "text": [
      "100%|██████████| 3772/3772 [00:02<00:00, 1502.97it/s]\n",
      "  4%|▍         | 157/3772 [00:00<00:02, 1561.52it/s]"
     ]
    },
    {
     "name": "stdout",
     "output_type": "stream",
     "text": [
      "gamma= 5 , ratio= 0.5 , M= 5.0 : 0.942485549132948\n"
     ]
    },
    {
     "name": "stderr",
     "output_type": "stream",
     "text": [
      "100%|██████████| 3772/3772 [00:02<00:00, 1501.44it/s]\n",
      "  4%|▍         | 152/3772 [00:00<00:02, 1516.50it/s]"
     ]
    },
    {
     "name": "stdout",
     "output_type": "stream",
     "text": [
      "gamma= 5 , ratio= 0.5 , M= 10.0 : 0.9354734379300852\n"
     ]
    },
    {
     "name": "stderr",
     "output_type": "stream",
     "text": [
      "100%|██████████| 3772/3772 [00:02<00:00, 1621.32it/s]\n",
      "  8%|▊         | 307/3772 [00:00<00:02, 1535.42it/s]"
     ]
    },
    {
     "name": "stdout",
     "output_type": "stream",
     "text": [
      "gamma= 5 , ratio= 1.0 , M= 1.0 : 0.9404624277456648\n"
     ]
    },
    {
     "name": "stderr",
     "output_type": "stream",
     "text": [
      "100%|██████████| 3772/3772 [00:02<00:00, 1505.81it/s]\n",
      "  4%|▍         | 153/3772 [00:00<00:02, 1526.81it/s]"
     ]
    },
    {
     "name": "stdout",
     "output_type": "stream",
     "text": [
      "gamma= 5 , ratio= 1.0 , M= 5.0 : 0.9341590971648775\n"
     ]
    },
    {
     "name": "stderr",
     "output_type": "stream",
     "text": [
      "100%|██████████| 3772/3772 [00:02<00:00, 1415.01it/s]\n",
      "  3%|▎         | 128/3772 [00:00<00:02, 1272.91it/s]"
     ]
    },
    {
     "name": "stdout",
     "output_type": "stream",
     "text": [
      "gamma= 5 , ratio= 1.0 , M= 10.0 : 0.9725708780622075\n"
     ]
    },
    {
     "name": "stderr",
     "output_type": "stream",
     "text": [
      "100%|██████████| 3772/3772 [00:02<00:00, 1330.44it/s]\n",
      "  4%|▎         | 137/3772 [00:00<00:02, 1368.33it/s]"
     ]
    },
    {
     "name": "stdout",
     "output_type": "stream",
     "text": [
      "gamma= 10 , ratio= 0.1 , M= 1.0 : 0.9404624277456648\n"
     ]
    },
    {
     "name": "stderr",
     "output_type": "stream",
     "text": [
      "100%|██████████| 3772/3772 [00:02<00:00, 1358.66it/s]\n",
      "  7%|▋         | 280/3772 [00:00<00:02, 1419.03it/s]"
     ]
    },
    {
     "name": "stdout",
     "output_type": "stream",
     "text": [
      "gamma= 10 , ratio= 0.1 , M= 5.0 : 0.9769474263693917\n"
     ]
    },
    {
     "name": "stderr",
     "output_type": "stream",
     "text": [
      "100%|██████████| 3772/3772 [00:02<00:00, 1369.74it/s]\n",
      "  3%|▎         | 129/3772 [00:00<00:02, 1287.12it/s]"
     ]
    },
    {
     "name": "stdout",
     "output_type": "stream",
     "text": [
      "gamma= 10 , ratio= 0.1 , M= 10.0 : 0.931055601431324\n"
     ]
    },
    {
     "name": "stderr",
     "output_type": "stream",
     "text": [
      "100%|██████████| 3772/3772 [00:02<00:00, 1377.79it/s]\n",
      "  8%|▊         | 295/3772 [00:00<00:02, 1490.36it/s]"
     ]
    },
    {
     "name": "stdout",
     "output_type": "stream",
     "text": [
      "gamma= 10 , ratio= 0.5 , M= 1.0 : 0.9404624277456648\n"
     ]
    },
    {
     "name": "stderr",
     "output_type": "stream",
     "text": [
      "100%|██████████| 3772/3772 [00:02<00:00, 1418.17it/s]\n",
      "  4%|▍         | 152/3772 [00:00<00:02, 1513.20it/s]"
     ]
    },
    {
     "name": "stdout",
     "output_type": "stream",
     "text": [
      "gamma= 10 , ratio= 0.5 , M= 5.0 : 0.9659922928709056\n"
     ]
    },
    {
     "name": "stderr",
     "output_type": "stream",
     "text": [
      "100%|██████████| 3772/3772 [00:02<00:00, 1452.71it/s]\n",
      "  8%|▊         | 300/3772 [00:00<00:02, 1501.81it/s]"
     ]
    },
    {
     "name": "stdout",
     "output_type": "stream",
     "text": [
      "gamma= 10 , ratio= 0.5 , M= 10.0 : 0.9460088081475364\n"
     ]
    },
    {
     "name": "stderr",
     "output_type": "stream",
     "text": [
      "100%|██████████| 3772/3772 [00:02<00:00, 1432.67it/s]\n",
      "  4%|▍         | 148/3772 [00:00<00:02, 1479.16it/s]"
     ]
    },
    {
     "name": "stdout",
     "output_type": "stream",
     "text": [
      "gamma= 10 , ratio= 1.0 , M= 1.0 : 0.9404624277456648\n"
     ]
    },
    {
     "name": "stderr",
     "output_type": "stream",
     "text": [
      "100%|██████████| 3772/3772 [00:02<00:00, 1468.74it/s]\n",
      "  4%|▍         | 153/3772 [00:00<00:02, 1521.85it/s]"
     ]
    },
    {
     "name": "stdout",
     "output_type": "stream",
     "text": [
      "gamma= 10 , ratio= 1.0 , M= 5.0 : 0.9460432149738508\n"
     ]
    },
    {
     "name": "stderr",
     "output_type": "stream",
     "text": [
      "100%|██████████| 3772/3772 [00:02<00:00, 1478.52it/s]\n",
      "  7%|▋         | 280/3772 [00:00<00:02, 1380.66it/s]"
     ]
    },
    {
     "name": "stdout",
     "output_type": "stream",
     "text": [
      "gamma= 10 , ratio= 1.0 , M= 10.0 : 0.942485549132948\n"
     ]
    },
    {
     "name": "stderr",
     "output_type": "stream",
     "text": [
      "100%|██████████| 3772/3772 [00:02<00:00, 1472.87it/s]\n",
      "  8%|▊         | 283/3772 [00:00<00:02, 1413.43it/s]"
     ]
    },
    {
     "name": "stdout",
     "output_type": "stream",
     "text": [
      "gamma= 15 , ratio= 0.1 , M= 1.0 : 0.9404624277456648\n"
     ]
    },
    {
     "name": "stderr",
     "output_type": "stream",
     "text": [
      "100%|██████████| 3772/3772 [00:02<00:00, 1487.52it/s]\n",
      "  8%|▊         | 303/3772 [00:00<00:02, 1497.24it/s]"
     ]
    },
    {
     "name": "stdout",
     "output_type": "stream",
     "text": [
      "gamma= 15 , ratio= 0.1 , M= 5.0 : 0.9404624277456648\n"
     ]
    },
    {
     "name": "stderr",
     "output_type": "stream",
     "text": [
      "100%|██████████| 3772/3772 [00:02<00:00, 1445.78it/s]\n",
      "  4%|▍         | 148/3772 [00:00<00:02, 1477.65it/s]"
     ]
    },
    {
     "name": "stdout",
     "output_type": "stream",
     "text": [
      "gamma= 15 , ratio= 0.1 , M= 10.0 : 0.9677470410129371\n"
     ]
    },
    {
     "name": "stderr",
     "output_type": "stream",
     "text": [
      "100%|██████████| 3772/3772 [00:02<00:00, 1403.24it/s]\n",
      "  8%|▊         | 297/3772 [00:00<00:02, 1506.25it/s]"
     ]
    },
    {
     "name": "stdout",
     "output_type": "stream",
     "text": [
      "gamma= 15 , ratio= 0.5 , M= 1.0 : 0.9404624277456648\n"
     ]
    },
    {
     "name": "stderr",
     "output_type": "stream",
     "text": [
      "100%|██████████| 3772/3772 [00:02<00:00, 1456.82it/s]\n",
      "  8%|▊         | 318/3772 [00:00<00:02, 1583.75it/s]"
     ]
    },
    {
     "name": "stdout",
     "output_type": "stream",
     "text": [
      "gamma= 15 , ratio= 0.5 , M= 5.0 : 0.9410404624277456\n"
     ]
    },
    {
     "name": "stderr",
     "output_type": "stream",
     "text": [
      "100%|██████████| 3772/3772 [00:02<00:00, 1545.17it/s]\n",
      "  4%|▍         | 152/3772 [00:00<00:02, 1508.69it/s]"
     ]
    },
    {
     "name": "stdout",
     "output_type": "stream",
     "text": [
      "gamma= 15 , ratio= 0.5 , M= 10.0 : 0.9304362785576659\n"
     ]
    },
    {
     "name": "stderr",
     "output_type": "stream",
     "text": [
      "100%|██████████| 3772/3772 [00:02<00:00, 1459.56it/s]\n",
      "  4%|▍         | 154/3772 [00:00<00:02, 1538.28it/s]"
     ]
    },
    {
     "name": "stdout",
     "output_type": "stream",
     "text": [
      "gamma= 15 , ratio= 1.0 , M= 1.0 : 0.9404624277456648\n"
     ]
    },
    {
     "name": "stderr",
     "output_type": "stream",
     "text": [
      "100%|██████████| 3772/3772 [00:02<00:00, 1434.36it/s]\n",
      "  4%|▍         | 144/3772 [00:00<00:02, 1439.17it/s]"
     ]
    },
    {
     "name": "stdout",
     "output_type": "stream",
     "text": [
      "gamma= 15 , ratio= 1.0 , M= 5.0 : 0.9399325626204239\n"
     ]
    },
    {
     "name": "stderr",
     "output_type": "stream",
     "text": [
      "100%|██████████| 3772/3772 [00:02<00:00, 1379.25it/s]\n",
      "  3%|▎         | 101/3772 [00:00<00:03, 1003.30it/s]"
     ]
    },
    {
     "name": "stdout",
     "output_type": "stream",
     "text": [
      "gamma= 15 , ratio= 1.0 , M= 10.0 : 0.9396091384530691\n"
     ]
    },
    {
     "name": "stderr",
     "output_type": "stream",
     "text": [
      "100%|██████████| 3772/3772 [00:03<00:00, 1064.39it/s]\n",
      "  6%|▌         | 220/3772 [00:00<00:03, 1103.08it/s]"
     ]
    },
    {
     "name": "stdout",
     "output_type": "stream",
     "text": [
      "gamma= 5 , ratio= 0.1 , M= 1.0 : 0.9431323974676576\n"
     ]
    },
    {
     "name": "stderr",
     "output_type": "stream",
     "text": [
      "100%|██████████| 3772/3772 [00:03<00:00, 1046.64it/s]\n",
      "  3%|▎         | 111/3772 [00:00<00:03, 1102.92it/s]"
     ]
    },
    {
     "name": "stdout",
     "output_type": "stream",
     "text": [
      "gamma= 5 , ratio= 0.1 , M= 5.0 : 0.9427470410129369\n"
     ]
    },
    {
     "name": "stderr",
     "output_type": "stream",
     "text": [
      "100%|██████████| 3772/3772 [00:03<00:00, 1025.44it/s]\n",
      "  3%|▎         | 101/3772 [00:00<00:03, 1005.31it/s]"
     ]
    },
    {
     "name": "stdout",
     "output_type": "stream",
     "text": [
      "gamma= 5 , ratio= 0.1 , M= 10.0 : 0.9437517203413157\n"
     ]
    },
    {
     "name": "stderr",
     "output_type": "stream",
     "text": [
      "100%|██████████| 3772/3772 [00:03<00:00, 1061.43it/s]\n",
      "  3%|▎         | 105/3772 [00:00<00:03, 1040.19it/s]"
     ]
    },
    {
     "name": "stdout",
     "output_type": "stream",
     "text": [
      "gamma= 5 , ratio= 0.5 , M= 1.0 : 0.9431323974676576\n"
     ]
    },
    {
     "name": "stderr",
     "output_type": "stream",
     "text": [
      "100%|██████████| 3772/3772 [00:03<00:00, 1007.71it/s]\n",
      "  3%|▎         | 107/3772 [00:00<00:03, 1068.47it/s]"
     ]
    },
    {
     "name": "stdout",
     "output_type": "stream",
     "text": [
      "gamma= 5 , ratio= 0.5 , M= 5.0 : 0.9423892100192678\n"
     ]
    },
    {
     "name": "stderr",
     "output_type": "stream",
     "text": [
      "100%|██████████| 3772/3772 [00:03<00:00, 1018.76it/s]\n",
      "  3%|▎         | 106/3772 [00:00<00:03, 1047.88it/s]"
     ]
    },
    {
     "name": "stdout",
     "output_type": "stream",
     "text": [
      "gamma= 5 , ratio= 0.5 , M= 10.0 : 0.9454720616570327\n"
     ]
    },
    {
     "name": "stderr",
     "output_type": "stream",
     "text": [
      "100%|██████████| 3772/3772 [00:03<00:00, 989.64it/s] \n",
      "  3%|▎         | 106/3772 [00:00<00:03, 1054.36it/s]"
     ]
    },
    {
     "name": "stdout",
     "output_type": "stream",
     "text": [
      "gamma= 5 , ratio= 1.0 , M= 1.0 : 0.9431323974676576\n"
     ]
    },
    {
     "name": "stderr",
     "output_type": "stream",
     "text": [
      "100%|██████████| 3772/3772 [00:03<00:00, 989.19it/s] \n",
      "  3%|▎         | 102/3772 [00:00<00:03, 1019.24it/s]"
     ]
    },
    {
     "name": "stdout",
     "output_type": "stream",
     "text": [
      "gamma= 5 , ratio= 1.0 , M= 5.0 : 0.9453757225433526\n"
     ]
    },
    {
     "name": "stderr",
     "output_type": "stream",
     "text": [
      "100%|██████████| 3772/3772 [00:03<00:00, 1018.75it/s]\n",
      "  3%|▎         | 100/3772 [00:00<00:03, 995.16it/s]"
     ]
    },
    {
     "name": "stdout",
     "output_type": "stream",
     "text": [
      "gamma= 5 , ratio= 1.0 , M= 10.0 : 0.9725708780622075\n"
     ]
    },
    {
     "name": "stderr",
     "output_type": "stream",
     "text": [
      "100%|██████████| 3772/3772 [00:03<00:00, 1037.56it/s]\n",
      "  3%|▎         | 114/3772 [00:00<00:03, 1130.36it/s]"
     ]
    },
    {
     "name": "stdout",
     "output_type": "stream",
     "text": [
      "gamma= 10 , ratio= 0.1 , M= 1.0 : 0.9431323974676575\n"
     ]
    },
    {
     "name": "stderr",
     "output_type": "stream",
     "text": [
      "100%|██████████| 3772/3772 [00:03<00:00, 1074.50it/s]\n",
      "  3%|▎         | 115/3772 [00:00<00:03, 1147.67it/s]"
     ]
    },
    {
     "name": "stdout",
     "output_type": "stream",
     "text": [
      "gamma= 10 , ratio= 0.1 , M= 5.0 : 0.9810624827965868\n"
     ]
    },
    {
     "name": "stderr",
     "output_type": "stream",
     "text": [
      "100%|██████████| 3772/3772 [00:03<00:00, 1084.68it/s]\n",
      "  3%|▎         | 110/3772 [00:00<00:03, 1098.50it/s]"
     ]
    },
    {
     "name": "stdout",
     "output_type": "stream",
     "text": [
      "gamma= 10 , ratio= 0.1 , M= 10.0 : 0.9369804569226534\n"
     ]
    },
    {
     "name": "stderr",
     "output_type": "stream",
     "text": [
      "100%|██████████| 3772/3772 [00:03<00:00, 1067.36it/s]\n",
      "  3%|▎         | 113/3772 [00:00<00:03, 1121.72it/s]"
     ]
    },
    {
     "name": "stdout",
     "output_type": "stream",
     "text": [
      "gamma= 10 , ratio= 0.5 , M= 1.0 : 0.9431323974676575\n"
     ]
    },
    {
     "name": "stderr",
     "output_type": "stream",
     "text": [
      "100%|██████████| 3772/3772 [00:03<00:00, 1060.43it/s]\n",
      "  3%|▎         | 104/3772 [00:00<00:03, 1036.57it/s]"
     ]
    },
    {
     "name": "stdout",
     "output_type": "stream",
     "text": [
      "gamma= 10 , ratio= 0.5 , M= 5.0 : 0.9720203688411782\n"
     ]
    },
    {
     "name": "stderr",
     "output_type": "stream",
     "text": [
      "100%|██████████| 3772/3772 [00:03<00:00, 1065.16it/s]\n",
      "  3%|▎         | 107/3772 [00:00<00:03, 1062.08it/s]"
     ]
    },
    {
     "name": "stdout",
     "output_type": "stream",
     "text": [
      "gamma= 10 , ratio= 0.5 , M= 10.0 : 0.943999449490779\n"
     ]
    },
    {
     "name": "stderr",
     "output_type": "stream",
     "text": [
      "100%|██████████| 3772/3772 [00:03<00:00, 1007.01it/s]\n",
      "  3%|▎         | 106/3772 [00:00<00:03, 1055.01it/s]"
     ]
    },
    {
     "name": "stdout",
     "output_type": "stream",
     "text": [
      "gamma= 10 , ratio= 1.0 , M= 1.0 : 0.9431323974676575\n"
     ]
    },
    {
     "name": "stderr",
     "output_type": "stream",
     "text": [
      "100%|██████████| 3772/3772 [00:03<00:00, 1010.55it/s]\n",
      "  3%|▎         | 105/3772 [00:00<00:03, 1044.22it/s]"
     ]
    },
    {
     "name": "stdout",
     "output_type": "stream",
     "text": [
      "gamma= 10 , ratio= 1.0 , M= 5.0 : 0.935390861546931\n"
     ]
    },
    {
     "name": "stderr",
     "output_type": "stream",
     "text": [
      "100%|██████████| 3772/3772 [00:03<00:00, 1022.38it/s]\n",
      "  3%|▎         | 113/3772 [00:00<00:03, 1121.53it/s]"
     ]
    },
    {
     "name": "stdout",
     "output_type": "stream",
     "text": [
      "gamma= 10 , ratio= 1.0 , M= 10.0 : 0.9423892100192678\n"
     ]
    },
    {
     "name": "stderr",
     "output_type": "stream",
     "text": [
      "100%|██████████| 3772/3772 [00:03<00:00, 1070.33it/s]\n",
      "  3%|▎         | 107/3772 [00:00<00:03, 1063.65it/s]"
     ]
    },
    {
     "name": "stdout",
     "output_type": "stream",
     "text": [
      "gamma= 15 , ratio= 0.1 , M= 1.0 : 0.9431323974676575\n"
     ]
    },
    {
     "name": "stderr",
     "output_type": "stream",
     "text": [
      "100%|██████████| 3772/3772 [00:03<00:00, 1022.38it/s]\n",
      "  3%|▎         | 105/3772 [00:00<00:03, 1046.10it/s]"
     ]
    },
    {
     "name": "stdout",
     "output_type": "stream",
     "text": [
      "gamma= 15 , ratio= 0.1 , M= 5.0 : 0.9434282961739608\n"
     ]
    },
    {
     "name": "stderr",
     "output_type": "stream",
     "text": [
      "100%|██████████| 3772/3772 [00:03<00:00, 1059.52it/s]\n",
      "  3%|▎         | 113/3772 [00:00<00:03, 1119.74it/s]"
     ]
    },
    {
     "name": "stdout",
     "output_type": "stream",
     "text": [
      "gamma= 15 , ratio= 0.1 , M= 10.0 : 0.975419763281035\n"
     ]
    },
    {
     "name": "stderr",
     "output_type": "stream",
     "text": [
      "100%|██████████| 3772/3772 [00:03<00:00, 1102.65it/s]\n",
      "  3%|▎         | 111/3772 [00:00<00:03, 1102.84it/s]"
     ]
    },
    {
     "name": "stdout",
     "output_type": "stream",
     "text": [
      "gamma= 15 , ratio= 0.5 , M= 1.0 : 0.9431323974676575\n"
     ]
    },
    {
     "name": "stderr",
     "output_type": "stream",
     "text": [
      "100%|██████████| 3772/3772 [00:03<00:00, 1067.92it/s]\n",
      "  3%|▎         | 108/3772 [00:00<00:03, 1075.99it/s]"
     ]
    },
    {
     "name": "stdout",
     "output_type": "stream",
     "text": [
      "gamma= 15 , ratio= 0.5 , M= 5.0 : 0.9448940269749518\n"
     ]
    },
    {
     "name": "stderr",
     "output_type": "stream",
     "text": [
      "100%|██████████| 3772/3772 [00:03<00:00, 1054.23it/s]\n",
      "  3%|▎         | 108/3772 [00:00<00:03, 1072.71it/s]"
     ]
    },
    {
     "name": "stdout",
     "output_type": "stream",
     "text": [
      "gamma= 15 , ratio= 0.5 , M= 10.0 : 0.9366088631984586\n"
     ]
    },
    {
     "name": "stderr",
     "output_type": "stream",
     "text": [
      "100%|██████████| 3772/3772 [00:03<00:00, 1010.94it/s]\n",
      "  6%|▌         | 222/3772 [00:00<00:03, 1120.20it/s]"
     ]
    },
    {
     "name": "stdout",
     "output_type": "stream",
     "text": [
      "gamma= 15 , ratio= 1.0 , M= 1.0 : 0.9431323974676575\n"
     ]
    },
    {
     "name": "stderr",
     "output_type": "stream",
     "text": [
      "100%|██████████| 3772/3772 [00:03<00:00, 1107.61it/s]\n",
      "  3%|▎         | 109/3772 [00:00<00:03, 1087.76it/s]"
     ]
    },
    {
     "name": "stdout",
     "output_type": "stream",
     "text": [
      "gamma= 15 , ratio= 1.0 , M= 5.0 : 0.9464010459675201\n"
     ]
    },
    {
     "name": "stderr",
     "output_type": "stream",
     "text": [
      "100%|██████████| 3772/3772 [00:03<00:00, 1088.01it/s]\n",
      "  8%|▊         | 294/3772 [00:00<00:01, 2934.34it/s]"
     ]
    },
    {
     "name": "stdout",
     "output_type": "stream",
     "text": [
      "gamma= 15 , ratio= 1.0 , M= 10.0 : 0.9424167354803192\n"
     ]
    },
    {
     "name": "stderr",
     "output_type": "stream",
     "text": [
      "100%|██████████| 3772/3772 [00:01<00:00, 2923.28it/s]\n",
      "  8%|▊         | 285/3772 [00:00<00:01, 2847.61it/s]"
     ]
    },
    {
     "name": "stdout",
     "output_type": "stream",
     "text": [
      "gamma= 5 , ratio= 0.1 , M= 1.0 : 0.9405243600330306\n"
     ]
    },
    {
     "name": "stderr",
     "output_type": "stream",
     "text": [
      "100%|██████████| 3772/3772 [00:01<00:00, 2774.00it/s]\n",
      "  6%|▋         | 244/3772 [00:00<00:01, 2433.51it/s]"
     ]
    },
    {
     "name": "stdout",
     "output_type": "stream",
     "text": [
      "gamma= 5 , ratio= 0.1 , M= 5.0 : 0.9499311863473713\n"
     ]
    },
    {
     "name": "stderr",
     "output_type": "stream",
     "text": [
      "100%|██████████| 3772/3772 [00:01<00:00, 2249.14it/s]\n",
      "  7%|▋         | 278/3772 [00:00<00:01, 2771.27it/s]"
     ]
    },
    {
     "name": "stdout",
     "output_type": "stream",
     "text": [
      "gamma= 5 , ratio= 0.1 , M= 10.0 : 0.9318676025323425\n"
     ]
    },
    {
     "name": "stderr",
     "output_type": "stream",
     "text": [
      "100%|██████████| 3772/3772 [00:01<00:00, 2783.01it/s]\n",
      " 13%|█▎        | 487/3772 [00:00<00:01, 2401.69it/s]"
     ]
    },
    {
     "name": "stdout",
     "output_type": "stream",
     "text": [
      "gamma= 5 , ratio= 0.5 , M= 1.0 : 0.9405243600330306\n"
     ]
    },
    {
     "name": "stderr",
     "output_type": "stream",
     "text": [
      "100%|██████████| 3772/3772 [00:01<00:00, 2380.50it/s]\n",
      "  6%|▋         | 242/3772 [00:00<00:01, 2415.53it/s]"
     ]
    },
    {
     "name": "stdout",
     "output_type": "stream",
     "text": [
      "gamma= 5 , ratio= 0.5 , M= 5.0 : 0.9361134048995321\n"
     ]
    },
    {
     "name": "stderr",
     "output_type": "stream",
     "text": [
      "100%|██████████| 3772/3772 [00:01<00:00, 2237.19it/s]\n",
      " 14%|█▍        | 527/3772 [00:00<00:01, 2677.67it/s]"
     ]
    },
    {
     "name": "stdout",
     "output_type": "stream",
     "text": [
      "gamma= 5 , ratio= 0.5 , M= 10.0 : 0.9454720616570327\n"
     ]
    },
    {
     "name": "stderr",
     "output_type": "stream",
     "text": [
      "100%|██████████| 3772/3772 [00:01<00:00, 2680.71it/s]\n",
      "  6%|▌         | 232/3772 [00:00<00:01, 2317.99it/s]"
     ]
    },
    {
     "name": "stdout",
     "output_type": "stream",
     "text": [
      "gamma= 5 , ratio= 1.0 , M= 1.0 : 0.9405243600330306\n"
     ]
    },
    {
     "name": "stderr",
     "output_type": "stream",
     "text": [
      "100%|██████████| 3772/3772 [00:01<00:00, 2096.74it/s]\n",
      "  6%|▌         | 219/3772 [00:00<00:01, 2181.58it/s]"
     ]
    },
    {
     "name": "stdout",
     "output_type": "stream",
     "text": [
      "gamma= 5 , ratio= 1.0 , M= 5.0 : 0.9453757225433526\n"
     ]
    },
    {
     "name": "stderr",
     "output_type": "stream",
     "text": [
      "100%|██████████| 3772/3772 [00:01<00:00, 2331.93it/s]\n",
      " 13%|█▎        | 483/3772 [00:00<00:01, 2409.97it/s]"
     ]
    },
    {
     "name": "stdout",
     "output_type": "stream",
     "text": [
      "gamma= 5 , ratio= 1.0 , M= 10.0 : 0.9725708780622075\n"
     ]
    },
    {
     "name": "stderr",
     "output_type": "stream",
     "text": [
      "100%|██████████| 3772/3772 [00:01<00:00, 2363.58it/s]\n",
      " 13%|█▎        | 482/3772 [00:00<00:01, 2407.11it/s]"
     ]
    },
    {
     "name": "stdout",
     "output_type": "stream",
     "text": [
      "gamma= 10 , ratio= 0.1 , M= 1.0 : 0.9405243600330306\n"
     ]
    },
    {
     "name": "stderr",
     "output_type": "stream",
     "text": [
      "100%|██████████| 3772/3772 [00:01<00:00, 2371.09it/s]\n",
      " 12%|█▏        | 462/3772 [00:00<00:01, 2331.58it/s]"
     ]
    },
    {
     "name": "stdout",
     "output_type": "stream",
     "text": [
      "gamma= 10 , ratio= 0.1 , M= 5.0 : 0.9589388934764657\n"
     ]
    },
    {
     "name": "stderr",
     "output_type": "stream",
     "text": [
      "100%|██████████| 3772/3772 [00:01<00:00, 2310.97it/s]\n",
      "  6%|▋         | 238/3772 [00:00<00:01, 2372.10it/s]"
     ]
    },
    {
     "name": "stdout",
     "output_type": "stream",
     "text": [
      "gamma= 10 , ratio= 0.1 , M= 10.0 : 0.9287985136251032\n"
     ]
    },
    {
     "name": "stderr",
     "output_type": "stream",
     "text": [
      "100%|██████████| 3772/3772 [00:01<00:00, 2342.62it/s]\n",
      " 13%|█▎        | 490/3772 [00:00<00:01, 2448.64it/s]"
     ]
    },
    {
     "name": "stdout",
     "output_type": "stream",
     "text": [
      "gamma= 10 , ratio= 0.5 , M= 1.0 : 0.9405243600330306\n"
     ]
    },
    {
     "name": "stderr",
     "output_type": "stream",
     "text": [
      "100%|██████████| 3772/3772 [00:01<00:00, 2343.66it/s]\n",
      " 13%|█▎        | 486/3772 [00:00<00:01, 2442.79it/s]"
     ]
    },
    {
     "name": "stdout",
     "output_type": "stream",
     "text": [
      "gamma= 10 , ratio= 0.5 , M= 5.0 : 0.9825901458849435\n"
     ]
    },
    {
     "name": "stderr",
     "output_type": "stream",
     "text": [
      "100%|██████████| 3772/3772 [00:01<00:00, 2243.98it/s]\n",
      " 13%|█▎        | 482/3772 [00:00<00:01, 2423.96it/s]"
     ]
    },
    {
     "name": "stdout",
     "output_type": "stream",
     "text": [
      "gamma= 10 , ratio= 0.5 , M= 10.0 : 0.9322254335260116\n"
     ]
    },
    {
     "name": "stderr",
     "output_type": "stream",
     "text": [
      "100%|██████████| 3772/3772 [00:01<00:00, 2323.07it/s]\n",
      " 13%|█▎        | 477/3772 [00:00<00:01, 2384.37it/s]"
     ]
    },
    {
     "name": "stdout",
     "output_type": "stream",
     "text": [
      "gamma= 10 , ratio= 1.0 , M= 1.0 : 0.9405243600330306\n"
     ]
    },
    {
     "name": "stderr",
     "output_type": "stream",
     "text": [
      "100%|██████████| 3772/3772 [00:01<00:00, 2240.51it/s]\n",
      "  6%|▌         | 217/3772 [00:00<00:01, 2164.56it/s]"
     ]
    },
    {
     "name": "stdout",
     "output_type": "stream",
     "text": [
      "gamma= 10 , ratio= 1.0 , M= 5.0 : 0.9701348747591523\n"
     ]
    },
    {
     "name": "stderr",
     "output_type": "stream",
     "text": [
      "100%|██████████| 3772/3772 [00:01<00:00, 2246.04it/s]\n",
      "  6%|▋         | 242/3772 [00:00<00:01, 2409.64it/s]"
     ]
    },
    {
     "name": "stdout",
     "output_type": "stream",
     "text": [
      "gamma= 10 , ratio= 1.0 , M= 10.0 : 0.9361134048995321\n"
     ]
    },
    {
     "name": "stderr",
     "output_type": "stream",
     "text": [
      "100%|██████████| 3772/3772 [00:01<00:00, 2278.74it/s]\n",
      "  6%|▌         | 213/3772 [00:00<00:01, 2126.19it/s]"
     ]
    },
    {
     "name": "stdout",
     "output_type": "stream",
     "text": [
      "gamma= 15 , ratio= 0.1 , M= 1.0 : 0.9405243600330306\n"
     ]
    },
    {
     "name": "stderr",
     "output_type": "stream",
     "text": [
      "100%|██████████| 3772/3772 [00:01<00:00, 2154.20it/s]\n",
      "  6%|▌         | 227/3772 [00:00<00:01, 2263.32it/s]"
     ]
    },
    {
     "name": "stdout",
     "output_type": "stream",
     "text": [
      "gamma= 15 , ratio= 0.1 , M= 5.0 : 0.9408064960088082\n"
     ]
    },
    {
     "name": "stderr",
     "output_type": "stream",
     "text": [
      "100%|██████████| 3772/3772 [00:01<00:00, 2359.43it/s]\n",
      " 12%|█▏        | 451/3772 [00:00<00:01, 2270.80it/s]"
     ]
    },
    {
     "name": "stdout",
     "output_type": "stream",
     "text": [
      "gamma= 15 , ratio= 0.1 , M= 10.0 : 0.9826451968070465\n"
     ]
    },
    {
     "name": "stderr",
     "output_type": "stream",
     "text": [
      "100%|██████████| 3772/3772 [00:01<00:00, 2192.27it/s]\n",
      "  6%|▌         | 226/3772 [00:00<00:01, 2252.59it/s]"
     ]
    },
    {
     "name": "stdout",
     "output_type": "stream",
     "text": [
      "gamma= 15 , ratio= 0.5 , M= 1.0 : 0.9405243600330306\n"
     ]
    },
    {
     "name": "stderr",
     "output_type": "stream",
     "text": [
      "100%|██████████| 3772/3772 [00:01<00:00, 2154.50it/s]\n",
      "  6%|▌         | 228/3772 [00:00<00:01, 2271.48it/s]"
     ]
    },
    {
     "name": "stdout",
     "output_type": "stream",
     "text": [
      "gamma= 15 , ratio= 0.5 , M= 5.0 : 0.9413845306908891\n"
     ]
    },
    {
     "name": "stderr",
     "output_type": "stream",
     "text": [
      "100%|██████████| 3772/3772 [00:01<00:00, 2331.02it/s]\n",
      "  6%|▌         | 228/3772 [00:00<00:01, 2273.95it/s]"
     ]
    },
    {
     "name": "stdout",
     "output_type": "stream",
     "text": [
      "gamma= 15 , ratio= 0.5 , M= 10.0 : 0.9292526837324526\n"
     ]
    },
    {
     "name": "stderr",
     "output_type": "stream",
     "text": [
      "100%|██████████| 3772/3772 [00:01<00:00, 2435.80it/s]\n",
      "  6%|▋         | 243/3772 [00:00<00:01, 2422.92it/s]"
     ]
    },
    {
     "name": "stdout",
     "output_type": "stream",
     "text": [
      "gamma= 15 , ratio= 1.0 , M= 1.0 : 0.9405243600330306\n"
     ]
    },
    {
     "name": "stderr",
     "output_type": "stream",
     "text": [
      "100%|██████████| 3772/3772 [00:01<00:00, 2400.10it/s]\n",
      "  6%|▌         | 230/3772 [00:00<00:01, 2292.27it/s]"
     ]
    },
    {
     "name": "stdout",
     "output_type": "stream",
     "text": [
      "gamma= 15 , ratio= 1.0 , M= 5.0 : 0.9419763281034957\n"
     ]
    },
    {
     "name": "stderr",
     "output_type": "stream",
     "text": [
      "100%|██████████| 3772/3772 [00:01<00:00, 2355.99it/s]\n",
      "  4%|▍         | 163/3772 [00:00<00:02, 1626.54it/s]"
     ]
    },
    {
     "name": "stdout",
     "output_type": "stream",
     "text": [
      "gamma= 15 , ratio= 1.0 , M= 10.0 : 0.9292664464629782\n"
     ]
    },
    {
     "name": "stderr",
     "output_type": "stream",
     "text": [
      "100%|██████████| 3772/3772 [00:02<00:00, 1630.19it/s]\n",
      "  4%|▍         | 147/3772 [00:00<00:02, 1465.71it/s]"
     ]
    },
    {
     "name": "stdout",
     "output_type": "stream",
     "text": [
      "gamma= 5 , ratio= 0.1 , M= 1.0 : 0.9404624277456648\n"
     ]
    },
    {
     "name": "stderr",
     "output_type": "stream",
     "text": [
      "100%|██████████| 3772/3772 [00:02<00:00, 1329.31it/s]\n",
      "  4%|▍         | 142/3772 [00:00<00:02, 1413.36it/s]"
     ]
    },
    {
     "name": "stdout",
     "output_type": "stream",
     "text": [
      "gamma= 5 , ratio= 0.1 , M= 5.0 : 0.9399669694467382\n"
     ]
    },
    {
     "name": "stderr",
     "output_type": "stream",
     "text": [
      "100%|██████████| 3772/3772 [00:02<00:00, 1420.55it/s]\n",
      "  4%|▍         | 145/3772 [00:00<00:02, 1439.24it/s]"
     ]
    },
    {
     "name": "stdout",
     "output_type": "stream",
     "text": [
      "gamma= 5 , ratio= 0.1 , M= 10.0 : 0.9452656206991468\n"
     ]
    },
    {
     "name": "stderr",
     "output_type": "stream",
     "text": [
      "100%|██████████| 3772/3772 [00:02<00:00, 1473.82it/s]\n",
      "  4%|▎         | 138/3772 [00:00<00:02, 1369.28it/s]"
     ]
    },
    {
     "name": "stdout",
     "output_type": "stream",
     "text": [
      "gamma= 5 , ratio= 0.5 , M= 1.0 : 0.9404624277456648\n"
     ]
    },
    {
     "name": "stderr",
     "output_type": "stream",
     "text": [
      "100%|██████████| 3772/3772 [00:02<00:00, 1318.19it/s]\n",
      "  3%|▎         | 128/3772 [00:00<00:02, 1270.94it/s]"
     ]
    },
    {
     "name": "stdout",
     "output_type": "stream",
     "text": [
      "gamma= 5 , ratio= 0.5 , M= 5.0 : 0.942485549132948\n"
     ]
    },
    {
     "name": "stderr",
     "output_type": "stream",
     "text": [
      "100%|██████████| 3772/3772 [00:03<00:00, 1220.69it/s]\n",
      "  7%|▋         | 260/3772 [00:00<00:02, 1277.85it/s]"
     ]
    },
    {
     "name": "stdout",
     "output_type": "stream",
     "text": [
      "gamma= 5 , ratio= 0.5 , M= 10.0 : 0.9354734379300852\n"
     ]
    },
    {
     "name": "stderr",
     "output_type": "stream",
     "text": [
      "100%|██████████| 3772/3772 [00:02<00:00, 1329.42it/s]\n",
      "  3%|▎         | 129/3772 [00:00<00:02, 1285.57it/s]"
     ]
    },
    {
     "name": "stdout",
     "output_type": "stream",
     "text": [
      "gamma= 5 , ratio= 1.0 , M= 1.0 : 0.9404624277456648\n"
     ]
    },
    {
     "name": "stderr",
     "output_type": "stream",
     "text": [
      "100%|██████████| 3772/3772 [00:03<00:00, 1234.95it/s]\n",
      "  3%|▎         | 127/3772 [00:00<00:02, 1262.36it/s]"
     ]
    },
    {
     "name": "stdout",
     "output_type": "stream",
     "text": [
      "gamma= 5 , ratio= 1.0 , M= 5.0 : 0.9341590971648775\n"
     ]
    },
    {
     "name": "stderr",
     "output_type": "stream",
     "text": [
      "100%|██████████| 3772/3772 [00:03<00:00, 1223.28it/s]\n",
      "  3%|▎         | 124/3772 [00:00<00:02, 1236.86it/s]"
     ]
    },
    {
     "name": "stdout",
     "output_type": "stream",
     "text": [
      "gamma= 5 , ratio= 1.0 , M= 10.0 : 0.9725708780622075\n"
     ]
    },
    {
     "name": "stderr",
     "output_type": "stream",
     "text": [
      "100%|██████████| 3772/3772 [00:02<00:00, 1260.81it/s]\n",
      "  3%|▎         | 126/3772 [00:00<00:02, 1254.81it/s]"
     ]
    },
    {
     "name": "stdout",
     "output_type": "stream",
     "text": [
      "gamma= 10 , ratio= 0.1 , M= 1.0 : 0.9404624277456648\n"
     ]
    },
    {
     "name": "stderr",
     "output_type": "stream",
     "text": [
      "100%|██████████| 3772/3772 [00:02<00:00, 1280.54it/s]\n",
      "  4%|▎         | 139/3772 [00:00<00:02, 1381.03it/s]"
     ]
    },
    {
     "name": "stdout",
     "output_type": "stream",
     "text": [
      "gamma= 10 , ratio= 0.1 , M= 5.0 : 0.9769474263693917\n"
     ]
    },
    {
     "name": "stderr",
     "output_type": "stream",
     "text": [
      "100%|██████████| 3772/3772 [00:02<00:00, 1336.16it/s]\n",
      "  4%|▎         | 134/3772 [00:00<00:02, 1335.34it/s]"
     ]
    },
    {
     "name": "stdout",
     "output_type": "stream",
     "text": [
      "gamma= 10 , ratio= 0.1 , M= 10.0 : 0.931055601431324\n"
     ]
    },
    {
     "name": "stderr",
     "output_type": "stream",
     "text": [
      "100%|██████████| 3772/3772 [00:02<00:00, 1362.88it/s]\n",
      "  8%|▊         | 286/3772 [00:00<00:02, 1435.94it/s]"
     ]
    },
    {
     "name": "stdout",
     "output_type": "stream",
     "text": [
      "gamma= 10 , ratio= 0.5 , M= 1.0 : 0.9404624277456648\n"
     ]
    },
    {
     "name": "stderr",
     "output_type": "stream",
     "text": [
      "100%|██████████| 3772/3772 [00:02<00:00, 1383.76it/s]\n",
      "  3%|▎         | 129/3772 [00:00<00:02, 1286.42it/s]"
     ]
    },
    {
     "name": "stdout",
     "output_type": "stream",
     "text": [
      "gamma= 10 , ratio= 0.5 , M= 5.0 : 0.9659922928709056\n"
     ]
    },
    {
     "name": "stderr",
     "output_type": "stream",
     "text": [
      "100%|██████████| 3772/3772 [00:02<00:00, 1413.98it/s]\n",
      "  4%|▍         | 154/3772 [00:00<00:02, 1536.18it/s]"
     ]
    },
    {
     "name": "stdout",
     "output_type": "stream",
     "text": [
      "gamma= 10 , ratio= 0.5 , M= 10.0 : 0.9460088081475364\n"
     ]
    },
    {
     "name": "stderr",
     "output_type": "stream",
     "text": [
      "100%|██████████| 3772/3772 [00:02<00:00, 1435.44it/s]\n",
      "  4%|▍         | 151/3772 [00:00<00:02, 1502.46it/s]"
     ]
    },
    {
     "name": "stdout",
     "output_type": "stream",
     "text": [
      "gamma= 10 , ratio= 1.0 , M= 1.0 : 0.9404624277456648\n"
     ]
    },
    {
     "name": "stderr",
     "output_type": "stream",
     "text": [
      "100%|██████████| 3772/3772 [00:02<00:00, 1447.90it/s]\n",
      "  4%|▍         | 155/3772 [00:00<00:02, 1548.02it/s]"
     ]
    },
    {
     "name": "stdout",
     "output_type": "stream",
     "text": [
      "gamma= 10 , ratio= 1.0 , M= 5.0 : 0.9460432149738508\n"
     ]
    },
    {
     "name": "stderr",
     "output_type": "stream",
     "text": [
      "100%|██████████| 3772/3772 [00:02<00:00, 1456.65it/s]\n",
      "  4%|▍         | 152/3772 [00:00<00:02, 1512.24it/s]"
     ]
    },
    {
     "name": "stdout",
     "output_type": "stream",
     "text": [
      "gamma= 10 , ratio= 1.0 , M= 10.0 : 0.942485549132948\n"
     ]
    },
    {
     "name": "stderr",
     "output_type": "stream",
     "text": [
      "100%|██████████| 3772/3772 [00:02<00:00, 1434.29it/s]\n",
      "  4%|▎         | 140/3772 [00:00<00:02, 1396.19it/s]"
     ]
    },
    {
     "name": "stdout",
     "output_type": "stream",
     "text": [
      "gamma= 15 , ratio= 0.1 , M= 1.0 : 0.9404624277456648\n"
     ]
    },
    {
     "name": "stderr",
     "output_type": "stream",
     "text": [
      "100%|██████████| 3772/3772 [00:02<00:00, 1392.66it/s]\n",
      "  8%|▊         | 295/3772 [00:00<00:02, 1486.18it/s]"
     ]
    },
    {
     "name": "stdout",
     "output_type": "stream",
     "text": [
      "gamma= 15 , ratio= 0.1 , M= 5.0 : 0.9404624277456648\n"
     ]
    },
    {
     "name": "stderr",
     "output_type": "stream",
     "text": [
      "100%|██████████| 3772/3772 [00:02<00:00, 1396.51it/s]\n",
      "  8%|▊         | 310/3772 [00:00<00:02, 1542.54it/s]"
     ]
    },
    {
     "name": "stdout",
     "output_type": "stream",
     "text": [
      "gamma= 15 , ratio= 0.1 , M= 10.0 : 0.9677470410129371\n"
     ]
    },
    {
     "name": "stderr",
     "output_type": "stream",
     "text": [
      "100%|██████████| 3772/3772 [00:02<00:00, 1495.06it/s]\n",
      "  4%|▍         | 146/3772 [00:00<00:02, 1454.85it/s]"
     ]
    },
    {
     "name": "stdout",
     "output_type": "stream",
     "text": [
      "gamma= 15 , ratio= 0.5 , M= 1.0 : 0.9404624277456648\n"
     ]
    },
    {
     "name": "stderr",
     "output_type": "stream",
     "text": [
      "100%|██████████| 3772/3772 [00:02<00:00, 1467.07it/s]\n",
      "  4%|▍         | 148/3772 [00:00<00:02, 1474.82it/s]"
     ]
    },
    {
     "name": "stdout",
     "output_type": "stream",
     "text": [
      "gamma= 15 , ratio= 0.5 , M= 5.0 : 0.9410404624277456\n"
     ]
    },
    {
     "name": "stderr",
     "output_type": "stream",
     "text": [
      "100%|██████████| 3772/3772 [00:02<00:00, 1419.73it/s]\n",
      "  4%|▎         | 141/3772 [00:00<00:02, 1401.79it/s]"
     ]
    },
    {
     "name": "stdout",
     "output_type": "stream",
     "text": [
      "gamma= 15 , ratio= 0.5 , M= 10.0 : 0.9304362785576659\n"
     ]
    },
    {
     "name": "stderr",
     "output_type": "stream",
     "text": [
      "100%|██████████| 3772/3772 [00:02<00:00, 1441.36it/s]\n",
      "  8%|▊         | 292/3772 [00:00<00:02, 1464.37it/s]"
     ]
    },
    {
     "name": "stdout",
     "output_type": "stream",
     "text": [
      "gamma= 15 , ratio= 1.0 , M= 1.0 : 0.9404624277456648\n"
     ]
    },
    {
     "name": "stderr",
     "output_type": "stream",
     "text": [
      "100%|██████████| 3772/3772 [00:02<00:00, 1432.24it/s]\n",
      "  4%|▎         | 140/3772 [00:00<00:02, 1393.15it/s]"
     ]
    },
    {
     "name": "stdout",
     "output_type": "stream",
     "text": [
      "gamma= 15 , ratio= 1.0 , M= 5.0 : 0.9399325626204239\n"
     ]
    },
    {
     "name": "stderr",
     "output_type": "stream",
     "text": [
      "100%|██████████| 3772/3772 [00:02<00:00, 1354.81it/s]\n",
      "  3%|▎         | 110/3772 [00:00<00:03, 1092.62it/s]"
     ]
    },
    {
     "name": "stdout",
     "output_type": "stream",
     "text": [
      "gamma= 15 , ratio= 1.0 , M= 10.0 : 0.9396091384530691\n"
     ]
    },
    {
     "name": "stderr",
     "output_type": "stream",
     "text": [
      "100%|██████████| 3772/3772 [00:03<00:00, 1036.14it/s]\n",
      "  3%|▎         | 99/3772 [00:00<00:03, 987.40it/s]"
     ]
    },
    {
     "name": "stdout",
     "output_type": "stream",
     "text": [
      "gamma= 5 , ratio= 0.1 , M= 1.0 : 0.9431323974676576\n"
     ]
    },
    {
     "name": "stderr",
     "output_type": "stream",
     "text": [
      "100%|██████████| 3772/3772 [00:03<00:00, 1000.40it/s]\n",
      "  3%|▎         | 107/3772 [00:00<00:03, 1066.27it/s]"
     ]
    },
    {
     "name": "stdout",
     "output_type": "stream",
     "text": [
      "gamma= 5 , ratio= 0.1 , M= 5.0 : 0.9427470410129369\n"
     ]
    },
    {
     "name": "stderr",
     "output_type": "stream",
     "text": [
      "100%|██████████| 3772/3772 [00:03<00:00, 1020.49it/s]\n",
      "  2%|▏         | 92/3772 [00:00<00:04, 914.87it/s]"
     ]
    },
    {
     "name": "stdout",
     "output_type": "stream",
     "text": [
      "gamma= 5 , ratio= 0.1 , M= 10.0 : 0.9437517203413157\n"
     ]
    },
    {
     "name": "stderr",
     "output_type": "stream",
     "text": [
      "100%|██████████| 3772/3772 [00:03<00:00, 1070.17it/s]\n",
      "  3%|▎         | 106/3772 [00:00<00:03, 1054.43it/s]"
     ]
    },
    {
     "name": "stdout",
     "output_type": "stream",
     "text": [
      "gamma= 5 , ratio= 0.5 , M= 1.0 : 0.9431323974676576\n"
     ]
    },
    {
     "name": "stderr",
     "output_type": "stream",
     "text": [
      "100%|██████████| 3772/3772 [00:03<00:00, 1066.36it/s]\n",
      "  5%|▌         | 205/3772 [00:00<00:03, 1021.49it/s]"
     ]
    },
    {
     "name": "stdout",
     "output_type": "stream",
     "text": [
      "gamma= 5 , ratio= 0.5 , M= 5.0 : 0.9423892100192678\n"
     ]
    },
    {
     "name": "stderr",
     "output_type": "stream",
     "text": [
      "100%|██████████| 3772/3772 [00:03<00:00, 1006.54it/s]\n",
      "  3%|▎         | 110/3772 [00:00<00:03, 1099.10it/s]"
     ]
    },
    {
     "name": "stdout",
     "output_type": "stream",
     "text": [
      "gamma= 5 , ratio= 0.5 , M= 10.0 : 0.9454720616570327\n"
     ]
    },
    {
     "name": "stderr",
     "output_type": "stream",
     "text": [
      "100%|██████████| 3772/3772 [00:03<00:00, 1081.20it/s]\n",
      "  3%|▎         | 110/3772 [00:00<00:03, 1091.45it/s]"
     ]
    },
    {
     "name": "stdout",
     "output_type": "stream",
     "text": [
      "gamma= 5 , ratio= 1.0 , M= 1.0 : 0.9431323974676576\n"
     ]
    },
    {
     "name": "stderr",
     "output_type": "stream",
     "text": [
      "100%|██████████| 3772/3772 [00:03<00:00, 1065.80it/s]\n",
      "  3%|▎         | 106/3772 [00:00<00:03, 1056.59it/s]"
     ]
    },
    {
     "name": "stdout",
     "output_type": "stream",
     "text": [
      "gamma= 5 , ratio= 1.0 , M= 5.0 : 0.9453757225433526\n"
     ]
    },
    {
     "name": "stderr",
     "output_type": "stream",
     "text": [
      "100%|██████████| 3772/3772 [00:03<00:00, 1018.30it/s]\n",
      "  3%|▎         | 106/3772 [00:00<00:03, 1058.02it/s]"
     ]
    },
    {
     "name": "stdout",
     "output_type": "stream",
     "text": [
      "gamma= 5 , ratio= 1.0 , M= 10.0 : 0.9725708780622075\n"
     ]
    },
    {
     "name": "stderr",
     "output_type": "stream",
     "text": [
      "100%|██████████| 3772/3772 [00:03<00:00, 981.99it/s] \n",
      "  3%|▎         | 108/3772 [00:00<00:03, 1071.82it/s]"
     ]
    },
    {
     "name": "stdout",
     "output_type": "stream",
     "text": [
      "gamma= 10 , ratio= 0.1 , M= 1.0 : 0.9431323974676575\n"
     ]
    },
    {
     "name": "stderr",
     "output_type": "stream",
     "text": [
      "100%|██████████| 3772/3772 [00:03<00:00, 1033.08it/s]\n",
      "  3%|▎         | 98/3772 [00:00<00:03, 977.55it/s]"
     ]
    },
    {
     "name": "stdout",
     "output_type": "stream",
     "text": [
      "gamma= 10 , ratio= 0.1 , M= 5.0 : 0.9810624827965868\n"
     ]
    },
    {
     "name": "stderr",
     "output_type": "stream",
     "text": [
      "100%|██████████| 3772/3772 [00:03<00:00, 983.62it/s] \n",
      "  3%|▎         | 104/3772 [00:00<00:03, 1038.22it/s]"
     ]
    },
    {
     "name": "stdout",
     "output_type": "stream",
     "text": [
      "gamma= 10 , ratio= 0.1 , M= 10.0 : 0.9369804569226534\n"
     ]
    },
    {
     "name": "stderr",
     "output_type": "stream",
     "text": [
      "100%|██████████| 3772/3772 [00:03<00:00, 977.60it/s] \n",
      "  3%|▎         | 105/3772 [00:00<00:03, 1043.58it/s]"
     ]
    },
    {
     "name": "stdout",
     "output_type": "stream",
     "text": [
      "gamma= 10 , ratio= 0.5 , M= 1.0 : 0.9431323974676575\n"
     ]
    },
    {
     "name": "stderr",
     "output_type": "stream",
     "text": [
      "100%|██████████| 3772/3772 [00:03<00:00, 991.65it/s] \n",
      "  3%|▎         | 110/3772 [00:00<00:03, 1095.38it/s]"
     ]
    },
    {
     "name": "stdout",
     "output_type": "stream",
     "text": [
      "gamma= 10 , ratio= 0.5 , M= 5.0 : 0.9720203688411782\n"
     ]
    },
    {
     "name": "stderr",
     "output_type": "stream",
     "text": [
      "100%|██████████| 3772/3772 [00:03<00:00, 971.43it/s] \n",
      "  3%|▎         | 102/3772 [00:00<00:03, 1014.66it/s]"
     ]
    },
    {
     "name": "stdout",
     "output_type": "stream",
     "text": [
      "gamma= 10 , ratio= 0.5 , M= 10.0 : 0.943999449490779\n"
     ]
    },
    {
     "name": "stderr",
     "output_type": "stream",
     "text": [
      "100%|██████████| 3772/3772 [00:03<00:00, 967.68it/s] \n",
      "  3%|▎         | 97/3772 [00:00<00:03, 960.74it/s]"
     ]
    },
    {
     "name": "stdout",
     "output_type": "stream",
     "text": [
      "gamma= 10 , ratio= 1.0 , M= 1.0 : 0.9431323974676575\n"
     ]
    },
    {
     "name": "stderr",
     "output_type": "stream",
     "text": [
      "100%|██████████| 3772/3772 [00:03<00:00, 949.26it/s]\n",
      "  2%|▏         | 93/3772 [00:00<00:03, 921.99it/s]"
     ]
    },
    {
     "name": "stdout",
     "output_type": "stream",
     "text": [
      "gamma= 10 , ratio= 1.0 , M= 5.0 : 0.935390861546931\n"
     ]
    },
    {
     "name": "stderr",
     "output_type": "stream",
     "text": [
      "100%|██████████| 3772/3772 [00:03<00:00, 976.41it/s] \n",
      "  3%|▎         | 103/3772 [00:00<00:03, 1022.09it/s]"
     ]
    },
    {
     "name": "stdout",
     "output_type": "stream",
     "text": [
      "gamma= 10 , ratio= 1.0 , M= 10.0 : 0.9423892100192678\n"
     ]
    },
    {
     "name": "stderr",
     "output_type": "stream",
     "text": [
      "100%|██████████| 3772/3772 [00:03<00:00, 1000.78it/s]\n",
      "  3%|▎         | 102/3772 [00:00<00:03, 1016.26it/s]"
     ]
    },
    {
     "name": "stdout",
     "output_type": "stream",
     "text": [
      "gamma= 15 , ratio= 0.1 , M= 1.0 : 0.9431323974676575\n"
     ]
    },
    {
     "name": "stderr",
     "output_type": "stream",
     "text": [
      "100%|██████████| 3772/3772 [00:03<00:00, 995.12it/s] \n",
      "  3%|▎         | 99/3772 [00:00<00:03, 984.03it/s]"
     ]
    },
    {
     "name": "stdout",
     "output_type": "stream",
     "text": [
      "gamma= 15 , ratio= 0.1 , M= 5.0 : 0.9434282961739608\n"
     ]
    },
    {
     "name": "stderr",
     "output_type": "stream",
     "text": [
      "100%|██████████| 3772/3772 [00:03<00:00, 991.55it/s] \n",
      "  3%|▎         | 104/3772 [00:00<00:03, 1034.37it/s]"
     ]
    },
    {
     "name": "stdout",
     "output_type": "stream",
     "text": [
      "gamma= 15 , ratio= 0.1 , M= 10.0 : 0.975419763281035\n"
     ]
    },
    {
     "name": "stderr",
     "output_type": "stream",
     "text": [
      "100%|██████████| 3772/3772 [00:03<00:00, 1031.24it/s]\n",
      "  3%|▎         | 108/3772 [00:00<00:03, 1074.79it/s]"
     ]
    },
    {
     "name": "stdout",
     "output_type": "stream",
     "text": [
      "gamma= 15 , ratio= 0.5 , M= 1.0 : 0.9431323974676575\n"
     ]
    },
    {
     "name": "stderr",
     "output_type": "stream",
     "text": [
      "100%|██████████| 3772/3772 [00:03<00:00, 986.73it/s] \n",
      "  3%|▎         | 105/3772 [00:00<00:03, 1046.22it/s]"
     ]
    },
    {
     "name": "stdout",
     "output_type": "stream",
     "text": [
      "gamma= 15 , ratio= 0.5 , M= 5.0 : 0.9448940269749518\n"
     ]
    },
    {
     "name": "stderr",
     "output_type": "stream",
     "text": [
      "100%|██████████| 3772/3772 [00:03<00:00, 1006.44it/s]\n",
      "  3%|▎         | 102/3772 [00:00<00:03, 1014.40it/s]"
     ]
    },
    {
     "name": "stdout",
     "output_type": "stream",
     "text": [
      "gamma= 15 , ratio= 0.5 , M= 10.0 : 0.9366088631984586\n"
     ]
    },
    {
     "name": "stderr",
     "output_type": "stream",
     "text": [
      "100%|██████████| 3772/3772 [00:03<00:00, 973.65it/s] \n",
      "  3%|▎         | 99/3772 [00:00<00:03, 987.58it/s]"
     ]
    },
    {
     "name": "stdout",
     "output_type": "stream",
     "text": [
      "gamma= 15 , ratio= 1.0 , M= 1.0 : 0.9431323974676575\n"
     ]
    },
    {
     "name": "stderr",
     "output_type": "stream",
     "text": [
      "100%|██████████| 3772/3772 [00:03<00:00, 960.54it/s]\n",
      "  6%|▌         | 209/3772 [00:00<00:03, 1042.40it/s]"
     ]
    },
    {
     "name": "stdout",
     "output_type": "stream",
     "text": [
      "gamma= 15 , ratio= 1.0 , M= 5.0 : 0.9464010459675201\n"
     ]
    },
    {
     "name": "stderr",
     "output_type": "stream",
     "text": [
      "100%|██████████| 3772/3772 [00:03<00:00, 1046.86it/s]\n",
      "  7%|▋         | 278/3772 [00:00<00:01, 2775.40it/s]"
     ]
    },
    {
     "name": "stdout",
     "output_type": "stream",
     "text": [
      "gamma= 15 , ratio= 1.0 , M= 10.0 : 0.9424167354803192\n"
     ]
    },
    {
     "name": "stderr",
     "output_type": "stream",
     "text": [
      "100%|██████████| 3772/3772 [00:01<00:00, 2745.24it/s]\n",
      "  7%|▋         | 268/3772 [00:00<00:01, 2668.90it/s]"
     ]
    },
    {
     "name": "stdout",
     "output_type": "stream",
     "text": [
      "gamma= 5 , ratio= 0.1 , M= 1.0 : 0.9405243600330306\n"
     ]
    },
    {
     "name": "stderr",
     "output_type": "stream",
     "text": [
      "100%|██████████| 3772/3772 [00:01<00:00, 2476.87it/s]\n",
      "  6%|▋         | 236/3772 [00:00<00:01, 2355.53it/s]"
     ]
    },
    {
     "name": "stdout",
     "output_type": "stream",
     "text": [
      "gamma= 5 , ratio= 0.1 , M= 5.0 : 0.9499311863473713\n"
     ]
    },
    {
     "name": "stderr",
     "output_type": "stream",
     "text": [
      "100%|██████████| 3772/3772 [00:01<00:00, 2107.39it/s]\n",
      "  6%|▋         | 241/3772 [00:00<00:01, 2402.44it/s]"
     ]
    },
    {
     "name": "stdout",
     "output_type": "stream",
     "text": [
      "gamma= 5 , ratio= 0.1 , M= 10.0 : 0.9318676025323425\n"
     ]
    },
    {
     "name": "stderr",
     "output_type": "stream",
     "text": [
      "100%|██████████| 3772/3772 [00:01<00:00, 2298.84it/s]\n",
      " 12%|█▏        | 436/3772 [00:00<00:01, 2159.59it/s]"
     ]
    },
    {
     "name": "stdout",
     "output_type": "stream",
     "text": [
      "gamma= 5 , ratio= 0.5 , M= 1.0 : 0.9405243600330306\n"
     ]
    },
    {
     "name": "stderr",
     "output_type": "stream",
     "text": [
      "100%|██████████| 3772/3772 [00:01<00:00, 1964.36it/s]\n",
      " 10%|▉         | 369/3772 [00:00<00:01, 1868.35it/s]"
     ]
    },
    {
     "name": "stdout",
     "output_type": "stream",
     "text": [
      "gamma= 5 , ratio= 0.5 , M= 5.0 : 0.9361134048995321\n"
     ]
    },
    {
     "name": "stderr",
     "output_type": "stream",
     "text": [
      "100%|██████████| 3772/3772 [00:02<00:00, 1778.34it/s]\n",
      "  6%|▌         | 230/3772 [00:00<00:01, 2297.31it/s]"
     ]
    },
    {
     "name": "stdout",
     "output_type": "stream",
     "text": [
      "gamma= 5 , ratio= 0.5 , M= 10.0 : 0.9454720616570327\n"
     ]
    },
    {
     "name": "stderr",
     "output_type": "stream",
     "text": [
      "100%|██████████| 3772/3772 [00:01<00:00, 2226.87it/s]\n",
      "  6%|▌         | 222/3772 [00:00<00:01, 2217.52it/s]"
     ]
    },
    {
     "name": "stdout",
     "output_type": "stream",
     "text": [
      "gamma= 5 , ratio= 1.0 , M= 1.0 : 0.9405243600330306\n"
     ]
    },
    {
     "name": "stderr",
     "output_type": "stream",
     "text": [
      "100%|██████████| 3772/3772 [00:01<00:00, 2144.54it/s]\n",
      "  6%|▌         | 212/3772 [00:00<00:01, 2111.13it/s]"
     ]
    },
    {
     "name": "stdout",
     "output_type": "stream",
     "text": [
      "gamma= 5 , ratio= 1.0 , M= 5.0 : 0.9453757225433526\n"
     ]
    },
    {
     "name": "stderr",
     "output_type": "stream",
     "text": [
      "100%|██████████| 3772/3772 [00:01<00:00, 2054.71it/s]\n",
      " 12%|█▏        | 434/3772 [00:00<00:01, 2144.46it/s]"
     ]
    },
    {
     "name": "stdout",
     "output_type": "stream",
     "text": [
      "gamma= 5 , ratio= 1.0 , M= 10.0 : 0.9725708780622075\n"
     ]
    },
    {
     "name": "stderr",
     "output_type": "stream",
     "text": [
      "100%|██████████| 3772/3772 [00:01<00:00, 1949.07it/s]\n",
      "  5%|▍         | 178/3772 [00:00<00:02, 1767.77it/s]"
     ]
    },
    {
     "name": "stdout",
     "output_type": "stream",
     "text": [
      "gamma= 10 , ratio= 0.1 , M= 1.0 : 0.9405243600330306\n"
     ]
    },
    {
     "name": "stderr",
     "output_type": "stream",
     "text": [
      "100%|██████████| 3772/3772 [00:01<00:00, 2091.81it/s]\n",
      " 11%|█         | 424/3772 [00:00<00:01, 2132.26it/s]"
     ]
    },
    {
     "name": "stdout",
     "output_type": "stream",
     "text": [
      "gamma= 10 , ratio= 0.1 , M= 5.0 : 0.9589388934764657\n"
     ]
    },
    {
     "name": "stderr",
     "output_type": "stream",
     "text": [
      "100%|██████████| 3772/3772 [00:01<00:00, 1979.99it/s]\n",
      " 12%|█▏        | 435/3772 [00:00<00:01, 2167.61it/s]"
     ]
    },
    {
     "name": "stdout",
     "output_type": "stream",
     "text": [
      "gamma= 10 , ratio= 0.1 , M= 10.0 : 0.9287985136251032\n"
     ]
    },
    {
     "name": "stderr",
     "output_type": "stream",
     "text": [
      "100%|██████████| 3772/3772 [00:01<00:00, 1975.04it/s]\n",
      "  5%|▌         | 206/3772 [00:00<00:01, 2059.15it/s]"
     ]
    },
    {
     "name": "stdout",
     "output_type": "stream",
     "text": [
      "gamma= 10 , ratio= 0.5 , M= 1.0 : 0.9405243600330306\n"
     ]
    },
    {
     "name": "stderr",
     "output_type": "stream",
     "text": [
      "100%|██████████| 3772/3772 [00:01<00:00, 2189.69it/s]\n",
      "  6%|▌         | 227/3772 [00:00<00:01, 2261.83it/s]"
     ]
    },
    {
     "name": "stdout",
     "output_type": "stream",
     "text": [
      "gamma= 10 , ratio= 0.5 , M= 5.0 : 0.9825901458849435\n"
     ]
    },
    {
     "name": "stderr",
     "output_type": "stream",
     "text": [
      "100%|██████████| 3772/3772 [00:01<00:00, 2152.09it/s]\n",
      "  6%|▌         | 224/3772 [00:00<00:01, 2236.66it/s]"
     ]
    },
    {
     "name": "stdout",
     "output_type": "stream",
     "text": [
      "gamma= 10 , ratio= 0.5 , M= 10.0 : 0.9322254335260116\n"
     ]
    },
    {
     "name": "stderr",
     "output_type": "stream",
     "text": [
      "100%|██████████| 3772/3772 [00:01<00:00, 2251.49it/s]\n",
      " 13%|█▎        | 493/3772 [00:00<00:01, 2466.11it/s]"
     ]
    },
    {
     "name": "stdout",
     "output_type": "stream",
     "text": [
      "gamma= 10 , ratio= 1.0 , M= 1.0 : 0.9405243600330306\n"
     ]
    },
    {
     "name": "stderr",
     "output_type": "stream",
     "text": [
      "100%|██████████| 3772/3772 [00:01<00:00, 2366.57it/s]\n",
      " 11%|█▏        | 430/3772 [00:00<00:01, 2158.09it/s]"
     ]
    },
    {
     "name": "stdout",
     "output_type": "stream",
     "text": [
      "gamma= 10 , ratio= 1.0 , M= 5.0 : 0.9701348747591523\n"
     ]
    },
    {
     "name": "stderr",
     "output_type": "stream",
     "text": [
      "100%|██████████| 3772/3772 [00:01<00:00, 2283.75it/s]\n",
      "  6%|▋         | 237/3772 [00:00<00:01, 2356.83it/s]"
     ]
    },
    {
     "name": "stdout",
     "output_type": "stream",
     "text": [
      "gamma= 10 , ratio= 1.0 , M= 10.0 : 0.9361134048995321\n"
     ]
    },
    {
     "name": "stderr",
     "output_type": "stream",
     "text": [
      "100%|██████████| 3772/3772 [00:01<00:00, 2282.28it/s]\n",
      "  6%|▌         | 230/3772 [00:00<00:01, 2297.38it/s]"
     ]
    },
    {
     "name": "stdout",
     "output_type": "stream",
     "text": [
      "gamma= 15 , ratio= 0.1 , M= 1.0 : 0.9405243600330306\n"
     ]
    },
    {
     "name": "stderr",
     "output_type": "stream",
     "text": [
      "100%|██████████| 3772/3772 [00:01<00:00, 2308.75it/s]\n",
      "  6%|▋         | 242/3772 [00:00<00:01, 2416.97it/s]"
     ]
    },
    {
     "name": "stdout",
     "output_type": "stream",
     "text": [
      "gamma= 15 , ratio= 0.1 , M= 5.0 : 0.9408064960088082\n"
     ]
    },
    {
     "name": "stderr",
     "output_type": "stream",
     "text": [
      "100%|██████████| 3772/3772 [00:01<00:00, 2241.36it/s]\n",
      "  6%|▌         | 217/3772 [00:00<00:01, 2162.70it/s]"
     ]
    },
    {
     "name": "stdout",
     "output_type": "stream",
     "text": [
      "gamma= 15 , ratio= 0.1 , M= 10.0 : 0.9826451968070465\n"
     ]
    },
    {
     "name": "stderr",
     "output_type": "stream",
     "text": [
      "100%|██████████| 3772/3772 [00:01<00:00, 2173.19it/s]\n",
      "  6%|▌         | 211/3772 [00:00<00:01, 2103.00it/s]"
     ]
    },
    {
     "name": "stdout",
     "output_type": "stream",
     "text": [
      "gamma= 15 , ratio= 0.5 , M= 1.0 : 0.9405243600330306\n"
     ]
    },
    {
     "name": "stderr",
     "output_type": "stream",
     "text": [
      "100%|██████████| 3772/3772 [00:01<00:00, 2205.75it/s]\n",
      "  6%|▌         | 229/3772 [00:00<00:01, 2289.42it/s]"
     ]
    },
    {
     "name": "stdout",
     "output_type": "stream",
     "text": [
      "gamma= 15 , ratio= 0.5 , M= 5.0 : 0.9413845306908891\n"
     ]
    },
    {
     "name": "stderr",
     "output_type": "stream",
     "text": [
      "100%|██████████| 3772/3772 [00:01<00:00, 2216.85it/s]\n",
      " 12%|█▏        | 445/3772 [00:00<00:01, 2209.93it/s]"
     ]
    },
    {
     "name": "stdout",
     "output_type": "stream",
     "text": [
      "gamma= 15 , ratio= 0.5 , M= 10.0 : 0.9292526837324526\n"
     ]
    },
    {
     "name": "stderr",
     "output_type": "stream",
     "text": [
      "100%|██████████| 3772/3772 [00:01<00:00, 2279.36it/s]\n",
      "  6%|▌         | 233/3772 [00:00<00:01, 2321.04it/s]"
     ]
    },
    {
     "name": "stdout",
     "output_type": "stream",
     "text": [
      "gamma= 15 , ratio= 1.0 , M= 1.0 : 0.9405243600330306\n"
     ]
    },
    {
     "name": "stderr",
     "output_type": "stream",
     "text": [
      "100%|██████████| 3772/3772 [00:01<00:00, 2237.53it/s]\n",
      " 13%|█▎        | 494/3772 [00:00<00:01, 2475.45it/s]"
     ]
    },
    {
     "name": "stdout",
     "output_type": "stream",
     "text": [
      "gamma= 15 , ratio= 1.0 , M= 5.0 : 0.9419763281034957\n"
     ]
    },
    {
     "name": "stderr",
     "output_type": "stream",
     "text": [
      "100%|██████████| 3772/3772 [00:01<00:00, 2346.49it/s]\n",
      "  9%|▉         | 332/3772 [00:00<00:02, 1651.81it/s]"
     ]
    },
    {
     "name": "stdout",
     "output_type": "stream",
     "text": [
      "gamma= 15 , ratio= 1.0 , M= 10.0 : 0.9292664464629782\n"
     ]
    },
    {
     "name": "stderr",
     "output_type": "stream",
     "text": [
      "100%|██████████| 3772/3772 [00:02<00:00, 1638.56it/s]\n",
      "  4%|▍         | 160/3772 [00:00<00:02, 1597.81it/s]"
     ]
    },
    {
     "name": "stdout",
     "output_type": "stream",
     "text": [
      "gamma= 5 , ratio= 0.1 , M= 1.0 : 0.9404624277456648\n"
     ]
    },
    {
     "name": "stderr",
     "output_type": "stream",
     "text": [
      "100%|██████████| 3772/3772 [00:02<00:00, 1523.26it/s]\n",
      "  4%|▍         | 156/3772 [00:00<00:02, 1550.60it/s]"
     ]
    },
    {
     "name": "stdout",
     "output_type": "stream",
     "text": [
      "gamma= 5 , ratio= 0.1 , M= 5.0 : 0.9399669694467382\n"
     ]
    },
    {
     "name": "stderr",
     "output_type": "stream",
     "text": [
      "100%|██████████| 3772/3772 [00:02<00:00, 1537.89it/s]\n",
      "  5%|▍         | 170/3772 [00:00<00:02, 1695.79it/s]"
     ]
    },
    {
     "name": "stdout",
     "output_type": "stream",
     "text": [
      "gamma= 5 , ratio= 0.1 , M= 10.0 : 0.9452656206991468\n"
     ]
    },
    {
     "name": "stderr",
     "output_type": "stream",
     "text": [
      "100%|██████████| 3772/3772 [00:02<00:00, 1727.88it/s]\n",
      "  4%|▎         | 138/3772 [00:00<00:02, 1374.09it/s]"
     ]
    },
    {
     "name": "stdout",
     "output_type": "stream",
     "text": [
      "gamma= 5 , ratio= 0.5 , M= 1.0 : 0.9404624277456648\n"
     ]
    },
    {
     "name": "stderr",
     "output_type": "stream",
     "text": [
      "100%|██████████| 3772/3772 [00:02<00:00, 1516.19it/s]\n",
      "  4%|▍         | 146/3772 [00:00<00:02, 1452.42it/s]"
     ]
    },
    {
     "name": "stdout",
     "output_type": "stream",
     "text": [
      "gamma= 5 , ratio= 0.5 , M= 5.0 : 0.942485549132948\n"
     ]
    },
    {
     "name": "stderr",
     "output_type": "stream",
     "text": [
      "100%|██████████| 3772/3772 [00:02<00:00, 1535.93it/s]\n",
      "  4%|▍         | 155/3772 [00:00<00:02, 1549.02it/s]"
     ]
    },
    {
     "name": "stdout",
     "output_type": "stream",
     "text": [
      "gamma= 5 , ratio= 0.5 , M= 10.0 : 0.9354734379300852\n"
     ]
    },
    {
     "name": "stderr",
     "output_type": "stream",
     "text": [
      "100%|██████████| 3772/3772 [00:02<00:00, 1570.95it/s]\n",
      "  8%|▊         | 300/3772 [00:00<00:02, 1495.93it/s]"
     ]
    },
    {
     "name": "stdout",
     "output_type": "stream",
     "text": [
      "gamma= 5 , ratio= 1.0 , M= 1.0 : 0.9404624277456648\n"
     ]
    },
    {
     "name": "stderr",
     "output_type": "stream",
     "text": [
      "100%|██████████| 3772/3772 [00:02<00:00, 1458.23it/s]\n",
      "  4%|▍         | 154/3772 [00:00<00:02, 1535.38it/s]"
     ]
    },
    {
     "name": "stdout",
     "output_type": "stream",
     "text": [
      "gamma= 5 , ratio= 1.0 , M= 5.0 : 0.9341590971648775\n"
     ]
    },
    {
     "name": "stderr",
     "output_type": "stream",
     "text": [
      "100%|██████████| 3772/3772 [00:02<00:00, 1469.10it/s]\n",
      "  4%|▍         | 156/3772 [00:00<00:02, 1550.89it/s]"
     ]
    },
    {
     "name": "stdout",
     "output_type": "stream",
     "text": [
      "gamma= 5 , ratio= 1.0 , M= 10.0 : 0.9725708780622075\n"
     ]
    },
    {
     "name": "stderr",
     "output_type": "stream",
     "text": [
      "100%|██████████| 3772/3772 [00:02<00:00, 1404.99it/s]\n",
      "  4%|▍         | 144/3772 [00:00<00:02, 1437.24it/s]"
     ]
    },
    {
     "name": "stdout",
     "output_type": "stream",
     "text": [
      "gamma= 10 , ratio= 0.1 , M= 1.0 : 0.9404624277456648\n"
     ]
    },
    {
     "name": "stderr",
     "output_type": "stream",
     "text": [
      "100%|██████████| 3772/3772 [00:02<00:00, 1413.96it/s]\n",
      "  3%|▎         | 126/3772 [00:00<00:02, 1257.84it/s]"
     ]
    },
    {
     "name": "stdout",
     "output_type": "stream",
     "text": [
      "gamma= 10 , ratio= 0.1 , M= 5.0 : 0.9769474263693917\n"
     ]
    },
    {
     "name": "stderr",
     "output_type": "stream",
     "text": [
      "100%|██████████| 3772/3772 [00:02<00:00, 1407.17it/s]\n",
      "  4%|▍         | 144/3772 [00:00<00:02, 1434.42it/s]"
     ]
    },
    {
     "name": "stdout",
     "output_type": "stream",
     "text": [
      "gamma= 10 , ratio= 0.1 , M= 10.0 : 0.931055601431324\n"
     ]
    },
    {
     "name": "stderr",
     "output_type": "stream",
     "text": [
      "100%|██████████| 3772/3772 [00:02<00:00, 1329.83it/s]\n",
      "  4%|▍         | 144/3772 [00:00<00:02, 1432.68it/s]"
     ]
    },
    {
     "name": "stdout",
     "output_type": "stream",
     "text": [
      "gamma= 10 , ratio= 0.5 , M= 1.0 : 0.9404624277456648\n"
     ]
    },
    {
     "name": "stderr",
     "output_type": "stream",
     "text": [
      "100%|██████████| 3772/3772 [00:02<00:00, 1384.14it/s]\n",
      "  4%|▍         | 142/3772 [00:00<00:02, 1418.53it/s]"
     ]
    },
    {
     "name": "stdout",
     "output_type": "stream",
     "text": [
      "gamma= 10 , ratio= 0.5 , M= 5.0 : 0.9659922928709056\n"
     ]
    },
    {
     "name": "stderr",
     "output_type": "stream",
     "text": [
      "100%|██████████| 3772/3772 [00:02<00:00, 1341.05it/s]\n",
      "  4%|▎         | 140/3772 [00:00<00:02, 1398.88it/s]"
     ]
    },
    {
     "name": "stdout",
     "output_type": "stream",
     "text": [
      "gamma= 10 , ratio= 0.5 , M= 10.0 : 0.9460088081475364\n"
     ]
    },
    {
     "name": "stderr",
     "output_type": "stream",
     "text": [
      "100%|██████████| 3772/3772 [00:02<00:00, 1385.17it/s]\n",
      "  3%|▎         | 127/3772 [00:00<00:02, 1267.17it/s]"
     ]
    },
    {
     "name": "stdout",
     "output_type": "stream",
     "text": [
      "gamma= 10 , ratio= 1.0 , M= 1.0 : 0.9404624277456648\n"
     ]
    },
    {
     "name": "stderr",
     "output_type": "stream",
     "text": [
      "100%|██████████| 3772/3772 [00:03<00:00, 1245.07it/s]\n",
      "  3%|▎         | 112/3772 [00:00<00:03, 1115.87it/s]"
     ]
    },
    {
     "name": "stdout",
     "output_type": "stream",
     "text": [
      "gamma= 10 , ratio= 1.0 , M= 5.0 : 0.9460432149738508\n"
     ]
    },
    {
     "name": "stderr",
     "output_type": "stream",
     "text": [
      "100%|██████████| 3772/3772 [00:03<00:00, 1146.40it/s]\n",
      "  3%|▎         | 96/3772 [00:00<00:03, 952.98it/s]"
     ]
    },
    {
     "name": "stdout",
     "output_type": "stream",
     "text": [
      "gamma= 10 , ratio= 1.0 , M= 10.0 : 0.942485549132948\n"
     ]
    },
    {
     "name": "stderr",
     "output_type": "stream",
     "text": [
      "100%|██████████| 3772/3772 [00:03<00:00, 1015.78it/s]\n",
      "  3%|▎         | 115/3772 [00:00<00:03, 1142.75it/s]"
     ]
    },
    {
     "name": "stdout",
     "output_type": "stream",
     "text": [
      "gamma= 15 , ratio= 0.1 , M= 1.0 : 0.9404624277456648\n"
     ]
    },
    {
     "name": "stderr",
     "output_type": "stream",
     "text": [
      "100%|██████████| 3772/3772 [00:03<00:00, 1245.42it/s]\n",
      "  4%|▎         | 133/3772 [00:00<00:02, 1323.99it/s]"
     ]
    },
    {
     "name": "stdout",
     "output_type": "stream",
     "text": [
      "gamma= 15 , ratio= 0.1 , M= 5.0 : 0.9404624277456648\n"
     ]
    },
    {
     "name": "stderr",
     "output_type": "stream",
     "text": [
      "100%|██████████| 3772/3772 [00:02<00:00, 1267.27it/s]\n",
      "  4%|▎         | 140/3772 [00:00<00:02, 1397.79it/s]"
     ]
    },
    {
     "name": "stdout",
     "output_type": "stream",
     "text": [
      "gamma= 15 , ratio= 0.1 , M= 10.0 : 0.9677470410129371\n"
     ]
    },
    {
     "name": "stderr",
     "output_type": "stream",
     "text": [
      "100%|██████████| 3772/3772 [00:02<00:00, 1382.71it/s]\n",
      "  4%|▍         | 149/3772 [00:00<00:02, 1488.02it/s]"
     ]
    },
    {
     "name": "stdout",
     "output_type": "stream",
     "text": [
      "gamma= 15 , ratio= 0.5 , M= 1.0 : 0.9404624277456648\n"
     ]
    },
    {
     "name": "stderr",
     "output_type": "stream",
     "text": [
      "100%|██████████| 3772/3772 [00:02<00:00, 1429.87it/s]\n",
      "  8%|▊         | 294/3772 [00:00<00:02, 1462.81it/s]"
     ]
    },
    {
     "name": "stdout",
     "output_type": "stream",
     "text": [
      "gamma= 15 , ratio= 0.5 , M= 5.0 : 0.9410404624277456\n"
     ]
    },
    {
     "name": "stderr",
     "output_type": "stream",
     "text": [
      "100%|██████████| 3772/3772 [00:02<00:00, 1428.29it/s]\n",
      "  8%|▊         | 294/3772 [00:00<00:02, 1468.99it/s]"
     ]
    },
    {
     "name": "stdout",
     "output_type": "stream",
     "text": [
      "gamma= 15 , ratio= 0.5 , M= 10.0 : 0.9304362785576659\n"
     ]
    },
    {
     "name": "stderr",
     "output_type": "stream",
     "text": [
      "100%|██████████| 3772/3772 [00:02<00:00, 1431.67it/s]\n",
      "  7%|▋         | 263/3772 [00:00<00:02, 1316.52it/s]"
     ]
    },
    {
     "name": "stdout",
     "output_type": "stream",
     "text": [
      "gamma= 15 , ratio= 1.0 , M= 1.0 : 0.9404624277456648\n"
     ]
    },
    {
     "name": "stderr",
     "output_type": "stream",
     "text": [
      "100%|██████████| 3772/3772 [00:02<00:00, 1367.88it/s]\n",
      "  8%|▊         | 287/3772 [00:00<00:02, 1443.94it/s]"
     ]
    },
    {
     "name": "stdout",
     "output_type": "stream",
     "text": [
      "gamma= 15 , ratio= 1.0 , M= 5.0 : 0.9399325626204239\n"
     ]
    },
    {
     "name": "stderr",
     "output_type": "stream",
     "text": [
      "100%|██████████| 3772/3772 [00:02<00:00, 1406.26it/s]\n",
      "  3%|▎         | 108/3772 [00:00<00:03, 1077.77it/s]"
     ]
    },
    {
     "name": "stdout",
     "output_type": "stream",
     "text": [
      "gamma= 15 , ratio= 1.0 , M= 10.0 : 0.9396091384530691\n"
     ]
    },
    {
     "name": "stderr",
     "output_type": "stream",
     "text": [
      "100%|██████████| 3772/3772 [00:03<00:00, 1112.38it/s]\n",
      "  2%|▏         | 89/3772 [00:00<00:04, 889.24it/s]"
     ]
    },
    {
     "name": "stdout",
     "output_type": "stream",
     "text": [
      "gamma= 5 , ratio= 0.1 , M= 1.0 : 0.9431323974676576\n"
     ]
    },
    {
     "name": "stderr",
     "output_type": "stream",
     "text": [
      "100%|██████████| 3772/3772 [00:03<00:00, 960.38it/s] \n",
      "  3%|▎         | 111/3772 [00:00<00:03, 1104.53it/s]"
     ]
    },
    {
     "name": "stdout",
     "output_type": "stream",
     "text": [
      "gamma= 5 , ratio= 0.1 , M= 5.0 : 0.9427470410129369\n"
     ]
    },
    {
     "name": "stderr",
     "output_type": "stream",
     "text": [
      "100%|██████████| 3772/3772 [00:03<00:00, 1011.53it/s]\n",
      "  3%|▎         | 113/3772 [00:00<00:03, 1127.32it/s]"
     ]
    },
    {
     "name": "stdout",
     "output_type": "stream",
     "text": [
      "gamma= 5 , ratio= 0.1 , M= 10.0 : 0.9437517203413157\n"
     ]
    },
    {
     "name": "stderr",
     "output_type": "stream",
     "text": [
      "100%|██████████| 3772/3772 [00:03<00:00, 1112.39it/s]\n",
      "  3%|▎         | 108/3772 [00:00<00:03, 1077.93it/s]"
     ]
    },
    {
     "name": "stdout",
     "output_type": "stream",
     "text": [
      "gamma= 5 , ratio= 0.5 , M= 1.0 : 0.9431323974676576\n"
     ]
    },
    {
     "name": "stderr",
     "output_type": "stream",
     "text": [
      "100%|██████████| 3772/3772 [00:03<00:00, 1000.69it/s]\n",
      "  3%|▎         | 106/3772 [00:00<00:03, 1056.90it/s]"
     ]
    },
    {
     "name": "stdout",
     "output_type": "stream",
     "text": [
      "gamma= 5 , ratio= 0.5 , M= 5.0 : 0.9423892100192678\n"
     ]
    },
    {
     "name": "stderr",
     "output_type": "stream",
     "text": [
      "100%|██████████| 3772/3772 [00:03<00:00, 1020.26it/s]\n",
      "  2%|▏         | 90/3772 [00:00<00:04, 898.13it/s]"
     ]
    },
    {
     "name": "stdout",
     "output_type": "stream",
     "text": [
      "gamma= 5 , ratio= 0.5 , M= 10.0 : 0.9454720616570327\n"
     ]
    },
    {
     "name": "stderr",
     "output_type": "stream",
     "text": [
      "100%|██████████| 3772/3772 [00:04<00:00, 870.66it/s] \n",
      "  3%|▎         | 97/3772 [00:00<00:03, 966.29it/s]"
     ]
    },
    {
     "name": "stdout",
     "output_type": "stream",
     "text": [
      "gamma= 5 , ratio= 1.0 , M= 1.0 : 0.9431323974676576\n"
     ]
    },
    {
     "name": "stderr",
     "output_type": "stream",
     "text": [
      "100%|██████████| 3772/3772 [00:04<00:00, 826.38it/s]\n",
      "  2%|▏         | 91/3772 [00:00<00:04, 905.45it/s]"
     ]
    },
    {
     "name": "stdout",
     "output_type": "stream",
     "text": [
      "gamma= 5 , ratio= 1.0 , M= 5.0 : 0.9453757225433526\n"
     ]
    },
    {
     "name": "stderr",
     "output_type": "stream",
     "text": [
      "100%|██████████| 3772/3772 [00:04<00:00, 920.21it/s]\n",
      "  2%|▏         | 91/3772 [00:00<00:04, 903.57it/s]"
     ]
    },
    {
     "name": "stdout",
     "output_type": "stream",
     "text": [
      "gamma= 5 , ratio= 1.0 , M= 10.0 : 0.9725708780622075\n"
     ]
    },
    {
     "name": "stderr",
     "output_type": "stream",
     "text": [
      "100%|██████████| 3772/3772 [00:04<00:00, 871.04it/s]\n",
      "  3%|▎         | 101/3772 [00:00<00:03, 1006.40it/s]"
     ]
    },
    {
     "name": "stdout",
     "output_type": "stream",
     "text": [
      "gamma= 10 , ratio= 0.1 , M= 1.0 : 0.9431323974676575\n"
     ]
    },
    {
     "name": "stderr",
     "output_type": "stream",
     "text": [
      "100%|██████████| 3772/3772 [00:03<00:00, 966.65it/s] \n",
      "  3%|▎         | 103/3772 [00:00<00:03, 1020.85it/s]"
     ]
    },
    {
     "name": "stdout",
     "output_type": "stream",
     "text": [
      "gamma= 10 , ratio= 0.1 , M= 5.0 : 0.9810624827965868\n"
     ]
    },
    {
     "name": "stderr",
     "output_type": "stream",
     "text": [
      "100%|██████████| 3772/3772 [00:03<00:00, 1010.45it/s]\n",
      "  3%|▎         | 109/3772 [00:00<00:03, 1082.16it/s]"
     ]
    },
    {
     "name": "stdout",
     "output_type": "stream",
     "text": [
      "gamma= 10 , ratio= 0.1 , M= 10.0 : 0.9369804569226534\n"
     ]
    },
    {
     "name": "stderr",
     "output_type": "stream",
     "text": [
      "100%|██████████| 3772/3772 [00:03<00:00, 1039.37it/s]\n",
      "  6%|▌         | 215/3772 [00:00<00:03, 1067.71it/s]"
     ]
    },
    {
     "name": "stdout",
     "output_type": "stream",
     "text": [
      "gamma= 10 , ratio= 0.5 , M= 1.0 : 0.9431323974676575\n"
     ]
    },
    {
     "name": "stderr",
     "output_type": "stream",
     "text": [
      "100%|██████████| 3772/3772 [00:03<00:00, 1075.29it/s]\n",
      "  3%|▎         | 113/3772 [00:00<00:03, 1129.83it/s]"
     ]
    },
    {
     "name": "stdout",
     "output_type": "stream",
     "text": [
      "gamma= 10 , ratio= 0.5 , M= 5.0 : 0.9720203688411782\n"
     ]
    },
    {
     "name": "stderr",
     "output_type": "stream",
     "text": [
      "100%|██████████| 3772/3772 [00:03<00:00, 1085.01it/s]\n",
      "  3%|▎         | 118/3772 [00:00<00:03, 1174.12it/s]"
     ]
    },
    {
     "name": "stdout",
     "output_type": "stream",
     "text": [
      "gamma= 10 , ratio= 0.5 , M= 10.0 : 0.943999449490779\n"
     ]
    },
    {
     "name": "stderr",
     "output_type": "stream",
     "text": [
      "100%|██████████| 3772/3772 [00:03<00:00, 1092.15it/s]\n",
      "  3%|▎         | 116/3772 [00:00<00:03, 1159.78it/s]"
     ]
    },
    {
     "name": "stdout",
     "output_type": "stream",
     "text": [
      "gamma= 10 , ratio= 1.0 , M= 1.0 : 0.9431323974676575\n"
     ]
    },
    {
     "name": "stderr",
     "output_type": "stream",
     "text": [
      "100%|██████████| 3772/3772 [00:03<00:00, 1068.40it/s]\n",
      "  3%|▎         | 104/3772 [00:00<00:03, 1038.90it/s]"
     ]
    },
    {
     "name": "stdout",
     "output_type": "stream",
     "text": [
      "gamma= 10 , ratio= 1.0 , M= 5.0 : 0.935390861546931\n"
     ]
    },
    {
     "name": "stderr",
     "output_type": "stream",
     "text": [
      "100%|██████████| 3772/3772 [00:03<00:00, 1023.83it/s]\n",
      "  3%|▎         | 112/3772 [00:00<00:03, 1119.30it/s]"
     ]
    },
    {
     "name": "stdout",
     "output_type": "stream",
     "text": [
      "gamma= 10 , ratio= 1.0 , M= 10.0 : 0.9423892100192678\n"
     ]
    },
    {
     "name": "stderr",
     "output_type": "stream",
     "text": [
      "100%|██████████| 3772/3772 [00:03<00:00, 1009.37it/s]\n",
      "  3%|▎         | 106/3772 [00:00<00:03, 1053.94it/s]"
     ]
    },
    {
     "name": "stdout",
     "output_type": "stream",
     "text": [
      "gamma= 15 , ratio= 0.1 , M= 1.0 : 0.9431323974676575\n"
     ]
    },
    {
     "name": "stderr",
     "output_type": "stream",
     "text": [
      "100%|██████████| 3772/3772 [00:03<00:00, 1025.77it/s]\n",
      "  3%|▎         | 115/3772 [00:00<00:03, 1145.78it/s]"
     ]
    },
    {
     "name": "stdout",
     "output_type": "stream",
     "text": [
      "gamma= 15 , ratio= 0.1 , M= 5.0 : 0.9434282961739608\n"
     ]
    },
    {
     "name": "stderr",
     "output_type": "stream",
     "text": [
      "100%|██████████| 3772/3772 [00:03<00:00, 971.11it/s] \n",
      "  3%|▎         | 106/3772 [00:00<00:03, 1055.30it/s]"
     ]
    },
    {
     "name": "stdout",
     "output_type": "stream",
     "text": [
      "gamma= 15 , ratio= 0.1 , M= 10.0 : 0.975419763281035\n"
     ]
    },
    {
     "name": "stderr",
     "output_type": "stream",
     "text": [
      "100%|██████████| 3772/3772 [00:03<00:00, 1057.71it/s]\n",
      "  3%|▎         | 103/3772 [00:00<00:03, 1028.92it/s]"
     ]
    },
    {
     "name": "stdout",
     "output_type": "stream",
     "text": [
      "gamma= 15 , ratio= 0.5 , M= 1.0 : 0.9431323974676575\n"
     ]
    },
    {
     "name": "stderr",
     "output_type": "stream",
     "text": [
      "100%|██████████| 3772/3772 [00:03<00:00, 1027.99it/s]\n",
      "  3%|▎         | 103/3772 [00:00<00:03, 1029.27it/s]"
     ]
    },
    {
     "name": "stdout",
     "output_type": "stream",
     "text": [
      "gamma= 15 , ratio= 0.5 , M= 5.0 : 0.9448940269749518\n"
     ]
    },
    {
     "name": "stderr",
     "output_type": "stream",
     "text": [
      "100%|██████████| 3772/3772 [00:03<00:00, 1028.55it/s]\n",
      "  3%|▎         | 108/3772 [00:00<00:03, 1079.12it/s]"
     ]
    },
    {
     "name": "stdout",
     "output_type": "stream",
     "text": [
      "gamma= 15 , ratio= 0.5 , M= 10.0 : 0.9366088631984586\n"
     ]
    },
    {
     "name": "stderr",
     "output_type": "stream",
     "text": [
      "100%|██████████| 3772/3772 [00:03<00:00, 1085.09it/s]\n",
      "  3%|▎         | 102/3772 [00:00<00:03, 1017.06it/s]"
     ]
    },
    {
     "name": "stdout",
     "output_type": "stream",
     "text": [
      "gamma= 15 , ratio= 1.0 , M= 1.0 : 0.9431323974676575\n"
     ]
    },
    {
     "name": "stderr",
     "output_type": "stream",
     "text": [
      "100%|██████████| 3772/3772 [00:03<00:00, 1050.73it/s]\n",
      "  3%|▎         | 111/3772 [00:00<00:03, 1102.97it/s]"
     ]
    },
    {
     "name": "stdout",
     "output_type": "stream",
     "text": [
      "gamma= 15 , ratio= 1.0 , M= 5.0 : 0.9464010459675201\n"
     ]
    },
    {
     "name": "stderr",
     "output_type": "stream",
     "text": [
      "100%|██████████| 3772/3772 [00:03<00:00, 1099.32it/s]\n",
      "  8%|▊         | 286/3772 [00:00<00:01, 2855.63it/s]"
     ]
    },
    {
     "name": "stdout",
     "output_type": "stream",
     "text": [
      "gamma= 15 , ratio= 1.0 , M= 10.0 : 0.9424167354803192\n"
     ]
    },
    {
     "name": "stderr",
     "output_type": "stream",
     "text": [
      "100%|██████████| 3772/3772 [00:01<00:00, 2749.78it/s]\n",
      "  7%|▋         | 267/3772 [00:00<00:01, 2665.10it/s]"
     ]
    },
    {
     "name": "stdout",
     "output_type": "stream",
     "text": [
      "gamma= 5 , ratio= 0.1 , M= 1.0 : 0.9405243600330306\n"
     ]
    },
    {
     "name": "stderr",
     "output_type": "stream",
     "text": [
      "100%|██████████| 3772/3772 [00:01<00:00, 2683.42it/s]\n",
      " 14%|█▎        | 513/3772 [00:00<00:01, 2567.31it/s]"
     ]
    },
    {
     "name": "stdout",
     "output_type": "stream",
     "text": [
      "gamma= 5 , ratio= 0.1 , M= 5.0 : 0.9499311863473713\n"
     ]
    },
    {
     "name": "stderr",
     "output_type": "stream",
     "text": [
      "100%|██████████| 3772/3772 [00:01<00:00, 2467.08it/s]\n",
      " 15%|█▌        | 577/3772 [00:00<00:01, 2867.39it/s]"
     ]
    },
    {
     "name": "stdout",
     "output_type": "stream",
     "text": [
      "gamma= 5 , ratio= 0.1 , M= 10.0 : 0.9318676025323425\n"
     ]
    },
    {
     "name": "stderr",
     "output_type": "stream",
     "text": [
      "100%|██████████| 3772/3772 [00:01<00:00, 2899.02it/s]\n",
      "  7%|▋         | 251/3772 [00:00<00:01, 2509.92it/s]"
     ]
    },
    {
     "name": "stdout",
     "output_type": "stream",
     "text": [
      "gamma= 5 , ratio= 0.5 , M= 1.0 : 0.9405243600330306\n"
     ]
    },
    {
     "name": "stderr",
     "output_type": "stream",
     "text": [
      "100%|██████████| 3772/3772 [00:01<00:00, 2496.35it/s]\n",
      "  7%|▋         | 247/3772 [00:00<00:01, 2466.99it/s]"
     ]
    },
    {
     "name": "stdout",
     "output_type": "stream",
     "text": [
      "gamma= 5 , ratio= 0.5 , M= 5.0 : 0.9361134048995321\n"
     ]
    },
    {
     "name": "stderr",
     "output_type": "stream",
     "text": [
      "100%|██████████| 3772/3772 [00:01<00:00, 2464.69it/s]\n",
      "  8%|▊         | 290/3772 [00:00<00:01, 2893.55it/s]"
     ]
    },
    {
     "name": "stdout",
     "output_type": "stream",
     "text": [
      "gamma= 5 , ratio= 0.5 , M= 10.0 : 0.9454720616570327\n"
     ]
    },
    {
     "name": "stderr",
     "output_type": "stream",
     "text": [
      "100%|██████████| 3772/3772 [00:01<00:00, 2718.03it/s]\n",
      " 12%|█▏        | 451/3772 [00:00<00:01, 2244.12it/s]"
     ]
    },
    {
     "name": "stdout",
     "output_type": "stream",
     "text": [
      "gamma= 5 , ratio= 1.0 , M= 1.0 : 0.9405243600330306\n"
     ]
    },
    {
     "name": "stderr",
     "output_type": "stream",
     "text": [
      "100%|██████████| 3772/3772 [00:01<00:00, 2259.15it/s]\n",
      "  6%|▌         | 232/3772 [00:00<00:01, 2313.48it/s]"
     ]
    },
    {
     "name": "stdout",
     "output_type": "stream",
     "text": [
      "gamma= 5 , ratio= 1.0 , M= 5.0 : 0.9453757225433526\n"
     ]
    },
    {
     "name": "stderr",
     "output_type": "stream",
     "text": [
      "100%|██████████| 3772/3772 [00:01<00:00, 2307.33it/s]\n",
      " 12%|█▏        | 462/3772 [00:00<00:01, 2293.39it/s]"
     ]
    },
    {
     "name": "stdout",
     "output_type": "stream",
     "text": [
      "gamma= 5 , ratio= 1.0 , M= 10.0 : 0.9725708780622075\n"
     ]
    },
    {
     "name": "stderr",
     "output_type": "stream",
     "text": [
      "100%|██████████| 3772/3772 [00:01<00:00, 2240.45it/s]\n",
      "  6%|▋         | 239/3772 [00:00<00:01, 2382.33it/s]"
     ]
    },
    {
     "name": "stdout",
     "output_type": "stream",
     "text": [
      "gamma= 10 , ratio= 0.1 , M= 1.0 : 0.9405243600330306\n"
     ]
    },
    {
     "name": "stderr",
     "output_type": "stream",
     "text": [
      "100%|██████████| 3772/3772 [00:01<00:00, 2302.92it/s]\n",
      " 12%|█▏        | 451/3772 [00:00<00:01, 2240.89it/s]"
     ]
    },
    {
     "name": "stdout",
     "output_type": "stream",
     "text": [
      "gamma= 10 , ratio= 0.1 , M= 5.0 : 0.9589388934764657\n"
     ]
    },
    {
     "name": "stderr",
     "output_type": "stream",
     "text": [
      "100%|██████████| 3772/3772 [00:01<00:00, 2308.27it/s]\n",
      "  6%|▌         | 228/3772 [00:00<00:01, 2272.38it/s]"
     ]
    },
    {
     "name": "stdout",
     "output_type": "stream",
     "text": [
      "gamma= 10 , ratio= 0.1 , M= 10.0 : 0.9287985136251032\n"
     ]
    },
    {
     "name": "stderr",
     "output_type": "stream",
     "text": [
      "100%|██████████| 3772/3772 [00:01<00:00, 2420.14it/s]\n",
      "  6%|▋         | 241/3772 [00:00<00:01, 2404.45it/s]"
     ]
    },
    {
     "name": "stdout",
     "output_type": "stream",
     "text": [
      "gamma= 10 , ratio= 0.5 , M= 1.0 : 0.9405243600330306\n"
     ]
    },
    {
     "name": "stderr",
     "output_type": "stream",
     "text": [
      "100%|██████████| 3772/3772 [00:01<00:00, 2436.95it/s]\n",
      "  6%|▌         | 235/3772 [00:00<00:01, 2344.63it/s]"
     ]
    },
    {
     "name": "stdout",
     "output_type": "stream",
     "text": [
      "gamma= 10 , ratio= 0.5 , M= 5.0 : 0.9825901458849435\n"
     ]
    },
    {
     "name": "stderr",
     "output_type": "stream",
     "text": [
      "100%|██████████| 3772/3772 [00:01<00:00, 2384.85it/s]\n",
      " 13%|█▎        | 501/3772 [00:00<00:01, 2513.32it/s]"
     ]
    },
    {
     "name": "stdout",
     "output_type": "stream",
     "text": [
      "gamma= 10 , ratio= 0.5 , M= 10.0 : 0.9322254335260116\n"
     ]
    },
    {
     "name": "stderr",
     "output_type": "stream",
     "text": [
      "100%|██████████| 3772/3772 [00:01<00:00, 2466.80it/s]\n",
      "  7%|▋         | 258/3772 [00:00<00:01, 2576.83it/s]"
     ]
    },
    {
     "name": "stdout",
     "output_type": "stream",
     "text": [
      "gamma= 10 , ratio= 1.0 , M= 1.0 : 0.9405243600330306\n"
     ]
    },
    {
     "name": "stderr",
     "output_type": "stream",
     "text": [
      "100%|██████████| 3772/3772 [00:01<00:00, 2474.40it/s]\n",
      "  6%|▌         | 234/3772 [00:00<00:01, 2338.95it/s]"
     ]
    },
    {
     "name": "stdout",
     "output_type": "stream",
     "text": [
      "gamma= 10 , ratio= 1.0 , M= 5.0 : 0.9701348747591523\n"
     ]
    },
    {
     "name": "stderr",
     "output_type": "stream",
     "text": [
      "100%|██████████| 3772/3772 [00:01<00:00, 2446.93it/s]\n",
      "  7%|▋         | 251/3772 [00:00<00:01, 2503.67it/s]"
     ]
    },
    {
     "name": "stdout",
     "output_type": "stream",
     "text": [
      "gamma= 10 , ratio= 1.0 , M= 10.0 : 0.9361134048995321\n"
     ]
    },
    {
     "name": "stderr",
     "output_type": "stream",
     "text": [
      "100%|██████████| 3772/3772 [00:01<00:00, 2416.02it/s]\n",
      "  6%|▌         | 233/3772 [00:00<00:01, 2321.85it/s]"
     ]
    },
    {
     "name": "stdout",
     "output_type": "stream",
     "text": [
      "gamma= 15 , ratio= 0.1 , M= 1.0 : 0.9405243600330306\n"
     ]
    },
    {
     "name": "stderr",
     "output_type": "stream",
     "text": [
      "100%|██████████| 3772/3772 [00:01<00:00, 2263.31it/s]\n",
      "  6%|▋         | 245/3772 [00:00<00:01, 2443.26it/s]"
     ]
    },
    {
     "name": "stdout",
     "output_type": "stream",
     "text": [
      "gamma= 15 , ratio= 0.1 , M= 5.0 : 0.9408064960088082\n"
     ]
    },
    {
     "name": "stderr",
     "output_type": "stream",
     "text": [
      "100%|██████████| 3772/3772 [00:01<00:00, 2400.99it/s]\n",
      "  6%|▋         | 238/3772 [00:00<00:01, 2370.59it/s]"
     ]
    },
    {
     "name": "stdout",
     "output_type": "stream",
     "text": [
      "gamma= 15 , ratio= 0.1 , M= 10.0 : 0.9826451968070465\n"
     ]
    },
    {
     "name": "stderr",
     "output_type": "stream",
     "text": [
      "100%|██████████| 3772/3772 [00:01<00:00, 2355.30it/s]\n",
      " 13%|█▎        | 481/3772 [00:00<00:01, 2380.77it/s]"
     ]
    },
    {
     "name": "stdout",
     "output_type": "stream",
     "text": [
      "gamma= 15 , ratio= 0.5 , M= 1.0 : 0.9405243600330306\n"
     ]
    },
    {
     "name": "stderr",
     "output_type": "stream",
     "text": [
      "100%|██████████| 3772/3772 [00:01<00:00, 2416.57it/s]\n",
      "  7%|▋         | 254/3772 [00:00<00:01, 2530.18it/s]"
     ]
    },
    {
     "name": "stdout",
     "output_type": "stream",
     "text": [
      "gamma= 15 , ratio= 0.5 , M= 5.0 : 0.9413845306908891\n"
     ]
    },
    {
     "name": "stderr",
     "output_type": "stream",
     "text": [
      "100%|██████████| 3772/3772 [00:01<00:00, 2511.70it/s]\n",
      "  6%|▋         | 240/3772 [00:00<00:01, 2389.04it/s]"
     ]
    },
    {
     "name": "stdout",
     "output_type": "stream",
     "text": [
      "gamma= 15 , ratio= 0.5 , M= 10.0 : 0.9292526837324526\n"
     ]
    },
    {
     "name": "stderr",
     "output_type": "stream",
     "text": [
      "100%|██████████| 3772/3772 [00:01<00:00, 2418.20it/s]\n",
      " 13%|█▎        | 499/3772 [00:00<00:01, 2530.49it/s]"
     ]
    },
    {
     "name": "stdout",
     "output_type": "stream",
     "text": [
      "gamma= 15 , ratio= 1.0 , M= 1.0 : 0.9405243600330306\n"
     ]
    },
    {
     "name": "stderr",
     "output_type": "stream",
     "text": [
      "100%|██████████| 3772/3772 [00:01<00:00, 2508.14it/s]\n",
      "  7%|▋         | 249/3772 [00:00<00:01, 2482.92it/s]"
     ]
    },
    {
     "name": "stdout",
     "output_type": "stream",
     "text": [
      "gamma= 15 , ratio= 1.0 , M= 5.0 : 0.9419763281034957\n"
     ]
    },
    {
     "name": "stderr",
     "output_type": "stream",
     "text": [
      "100%|██████████| 3772/3772 [00:01<00:00, 2459.64it/s]\n",
      "  4%|▍         | 169/3772 [00:00<00:02, 1680.81it/s]"
     ]
    },
    {
     "name": "stdout",
     "output_type": "stream",
     "text": [
      "gamma= 15 , ratio= 1.0 , M= 10.0 : 0.9292664464629782\n"
     ]
    },
    {
     "name": "stderr",
     "output_type": "stream",
     "text": [
      "100%|██████████| 3772/3772 [00:02<00:00, 1700.41it/s]\n",
      "  3%|▎         | 132/3772 [00:00<00:02, 1317.77it/s]"
     ]
    },
    {
     "name": "stdout",
     "output_type": "stream",
     "text": [
      "gamma= 5 , ratio= 0.1 , M= 1.0 : 0.9404624277456648\n"
     ]
    },
    {
     "name": "stderr",
     "output_type": "stream",
     "text": [
      "100%|██████████| 3772/3772 [00:02<00:00, 1412.31it/s]\n",
      "  4%|▎         | 138/3772 [00:00<00:02, 1377.23it/s]"
     ]
    },
    {
     "name": "stdout",
     "output_type": "stream",
     "text": [
      "gamma= 5 , ratio= 0.1 , M= 5.0 : 0.9399669694467382\n"
     ]
    },
    {
     "name": "stderr",
     "output_type": "stream",
     "text": [
      "100%|██████████| 3772/3772 [00:02<00:00, 1345.31it/s]\n",
      "  4%|▍         | 149/3772 [00:00<00:02, 1482.54it/s]"
     ]
    },
    {
     "name": "stdout",
     "output_type": "stream",
     "text": [
      "gamma= 5 , ratio= 0.1 , M= 10.0 : 0.9452656206991468\n"
     ]
    },
    {
     "name": "stderr",
     "output_type": "stream",
     "text": [
      "100%|██████████| 3772/3772 [00:02<00:00, 1529.75it/s]\n",
      "  4%|▎         | 134/3772 [00:00<00:02, 1338.17it/s]"
     ]
    },
    {
     "name": "stdout",
     "output_type": "stream",
     "text": [
      "gamma= 5 , ratio= 0.5 , M= 1.0 : 0.9404624277456648\n"
     ]
    },
    {
     "name": "stderr",
     "output_type": "stream",
     "text": [
      "100%|██████████| 3772/3772 [00:02<00:00, 1463.35it/s]\n",
      "  8%|▊         | 302/3772 [00:00<00:02, 1518.57it/s]"
     ]
    },
    {
     "name": "stdout",
     "output_type": "stream",
     "text": [
      "gamma= 5 , ratio= 0.5 , M= 5.0 : 0.942485549132948\n"
     ]
    },
    {
     "name": "stderr",
     "output_type": "stream",
     "text": [
      "100%|██████████| 3772/3772 [00:02<00:00, 1443.85it/s]\n",
      "  9%|▊         | 326/3772 [00:00<00:02, 1612.85it/s]"
     ]
    },
    {
     "name": "stdout",
     "output_type": "stream",
     "text": [
      "gamma= 5 , ratio= 0.5 , M= 10.0 : 0.9354734379300852\n"
     ]
    },
    {
     "name": "stderr",
     "output_type": "stream",
     "text": [
      "100%|██████████| 3772/3772 [00:02<00:00, 1613.92it/s]\n",
      "  8%|▊         | 305/3772 [00:00<00:02, 1525.18it/s]"
     ]
    },
    {
     "name": "stdout",
     "output_type": "stream",
     "text": [
      "gamma= 5 , ratio= 1.0 , M= 1.0 : 0.9404624277456648\n"
     ]
    },
    {
     "name": "stderr",
     "output_type": "stream",
     "text": [
      "100%|██████████| 3772/3772 [00:02<00:00, 1359.91it/s]\n",
      "  7%|▋         | 246/3772 [00:00<00:02, 1230.25it/s]"
     ]
    },
    {
     "name": "stdout",
     "output_type": "stream",
     "text": [
      "gamma= 5 , ratio= 1.0 , M= 5.0 : 0.9341590971648775\n"
     ]
    },
    {
     "name": "stderr",
     "output_type": "stream",
     "text": [
      "100%|██████████| 3772/3772 [00:03<00:00, 1179.20it/s]\n",
      "  3%|▎         | 124/3772 [00:00<00:02, 1234.21it/s]"
     ]
    },
    {
     "name": "stdout",
     "output_type": "stream",
     "text": [
      "gamma= 5 , ratio= 1.0 , M= 10.0 : 0.9725708780622075\n"
     ]
    },
    {
     "name": "stderr",
     "output_type": "stream",
     "text": [
      "100%|██████████| 3772/3772 [00:03<00:00, 1181.99it/s]\n",
      "  3%|▎         | 123/3772 [00:00<00:02, 1225.80it/s]"
     ]
    },
    {
     "name": "stdout",
     "output_type": "stream",
     "text": [
      "gamma= 10 , ratio= 0.1 , M= 1.0 : 0.9404624277456648\n"
     ]
    },
    {
     "name": "stderr",
     "output_type": "stream",
     "text": [
      "100%|██████████| 3772/3772 [00:03<00:00, 1178.29it/s]\n",
      "  4%|▎         | 139/3772 [00:00<00:02, 1386.31it/s]"
     ]
    },
    {
     "name": "stdout",
     "output_type": "stream",
     "text": [
      "gamma= 10 , ratio= 0.1 , M= 5.0 : 0.9769474263693917\n"
     ]
    },
    {
     "name": "stderr",
     "output_type": "stream",
     "text": [
      "100%|██████████| 3772/3772 [00:02<00:00, 1285.44it/s]\n",
      "  7%|▋         | 281/3772 [00:00<00:02, 1403.89it/s]"
     ]
    },
    {
     "name": "stdout",
     "output_type": "stream",
     "text": [
      "gamma= 10 , ratio= 0.1 , M= 10.0 : 0.931055601431324\n"
     ]
    },
    {
     "name": "stderr",
     "output_type": "stream",
     "text": [
      "100%|██████████| 3772/3772 [00:02<00:00, 1337.54it/s]\n",
      "  4%|▎         | 138/3772 [00:00<00:02, 1374.89it/s]"
     ]
    },
    {
     "name": "stdout",
     "output_type": "stream",
     "text": [
      "gamma= 10 , ratio= 0.5 , M= 1.0 : 0.9404624277456648\n"
     ]
    },
    {
     "name": "stderr",
     "output_type": "stream",
     "text": [
      "100%|██████████| 3772/3772 [00:02<00:00, 1360.27it/s]\n",
      "  4%|▎         | 141/3772 [00:00<00:02, 1402.34it/s]"
     ]
    },
    {
     "name": "stdout",
     "output_type": "stream",
     "text": [
      "gamma= 10 , ratio= 0.5 , M= 5.0 : 0.9659922928709056\n"
     ]
    },
    {
     "name": "stderr",
     "output_type": "stream",
     "text": [
      "100%|██████████| 3772/3772 [00:02<00:00, 1406.26it/s]\n",
      "  8%|▊         | 293/3772 [00:00<00:02, 1461.96it/s]"
     ]
    },
    {
     "name": "stdout",
     "output_type": "stream",
     "text": [
      "gamma= 10 , ratio= 0.5 , M= 10.0 : 0.9460088081475364\n"
     ]
    },
    {
     "name": "stderr",
     "output_type": "stream",
     "text": [
      "100%|██████████| 3772/3772 [00:02<00:00, 1424.77it/s]\n",
      "  7%|▋         | 273/3772 [00:00<00:02, 1350.42it/s]"
     ]
    },
    {
     "name": "stdout",
     "output_type": "stream",
     "text": [
      "gamma= 10 , ratio= 1.0 , M= 1.0 : 0.9404624277456648\n"
     ]
    },
    {
     "name": "stderr",
     "output_type": "stream",
     "text": [
      "100%|██████████| 3772/3772 [00:02<00:00, 1398.94it/s]\n",
      "  3%|▎         | 128/3772 [00:00<00:02, 1276.88it/s]"
     ]
    },
    {
     "name": "stdout",
     "output_type": "stream",
     "text": [
      "gamma= 10 , ratio= 1.0 , M= 5.0 : 0.9460432149738508\n"
     ]
    },
    {
     "name": "stderr",
     "output_type": "stream",
     "text": [
      "100%|██████████| 3772/3772 [00:02<00:00, 1338.73it/s]\n",
      "  4%|▎         | 134/3772 [00:00<00:02, 1335.13it/s]"
     ]
    },
    {
     "name": "stdout",
     "output_type": "stream",
     "text": [
      "gamma= 10 , ratio= 1.0 , M= 10.0 : 0.942485549132948\n"
     ]
    },
    {
     "name": "stderr",
     "output_type": "stream",
     "text": [
      "100%|██████████| 3772/3772 [00:02<00:00, 1352.11it/s]\n",
      "  3%|▎         | 100/3772 [00:00<00:03, 991.96it/s]"
     ]
    },
    {
     "name": "stdout",
     "output_type": "stream",
     "text": [
      "gamma= 15 , ratio= 0.1 , M= 1.0 : 0.9404624277456648\n"
     ]
    },
    {
     "name": "stderr",
     "output_type": "stream",
     "text": [
      "100%|██████████| 3772/3772 [00:02<00:00, 1280.35it/s]\n",
      "  7%|▋         | 278/3772 [00:00<00:02, 1379.94it/s]"
     ]
    },
    {
     "name": "stdout",
     "output_type": "stream",
     "text": [
      "gamma= 15 , ratio= 0.1 , M= 5.0 : 0.9404624277456648\n"
     ]
    },
    {
     "name": "stderr",
     "output_type": "stream",
     "text": [
      "100%|██████████| 3772/3772 [00:02<00:00, 1369.32it/s]\n",
      "  4%|▍         | 155/3772 [00:00<00:02, 1543.28it/s]"
     ]
    },
    {
     "name": "stdout",
     "output_type": "stream",
     "text": [
      "gamma= 15 , ratio= 0.1 , M= 10.0 : 0.9677470410129371\n"
     ]
    },
    {
     "name": "stderr",
     "output_type": "stream",
     "text": [
      "100%|██████████| 3772/3772 [00:02<00:00, 1459.87it/s]\n",
      "  8%|▊         | 309/3772 [00:00<00:02, 1541.28it/s]"
     ]
    },
    {
     "name": "stdout",
     "output_type": "stream",
     "text": [
      "gamma= 15 , ratio= 0.5 , M= 1.0 : 0.9404624277456648\n"
     ]
    },
    {
     "name": "stderr",
     "output_type": "stream",
     "text": [
      "100%|██████████| 3772/3772 [00:02<00:00, 1477.41it/s]\n",
      "  4%|▍         | 156/3772 [00:00<00:02, 1559.14it/s]"
     ]
    },
    {
     "name": "stdout",
     "output_type": "stream",
     "text": [
      "gamma= 15 , ratio= 0.5 , M= 5.0 : 0.9410404624277456\n"
     ]
    },
    {
     "name": "stderr",
     "output_type": "stream",
     "text": [
      "100%|██████████| 3772/3772 [00:02<00:00, 1532.88it/s]\n",
      "  4%|▍         | 160/3772 [00:00<00:02, 1592.06it/s]"
     ]
    },
    {
     "name": "stdout",
     "output_type": "stream",
     "text": [
      "gamma= 15 , ratio= 0.5 , M= 10.0 : 0.9304362785576659\n"
     ]
    },
    {
     "name": "stderr",
     "output_type": "stream",
     "text": [
      "100%|██████████| 3772/3772 [00:02<00:00, 1553.31it/s]\n",
      "  8%|▊         | 313/3772 [00:00<00:02, 1558.60it/s]"
     ]
    },
    {
     "name": "stdout",
     "output_type": "stream",
     "text": [
      "gamma= 15 , ratio= 1.0 , M= 1.0 : 0.9404624277456648\n"
     ]
    },
    {
     "name": "stderr",
     "output_type": "stream",
     "text": [
      "100%|██████████| 3772/3772 [00:02<00:00, 1538.04it/s]\n",
      "  8%|▊         | 308/3772 [00:00<00:02, 1543.01it/s]"
     ]
    },
    {
     "name": "stdout",
     "output_type": "stream",
     "text": [
      "gamma= 15 , ratio= 1.0 , M= 5.0 : 0.9399325626204239\n"
     ]
    },
    {
     "name": "stderr",
     "output_type": "stream",
     "text": [
      "100%|██████████| 3772/3772 [00:02<00:00, 1483.60it/s]\n",
      "  3%|▎         | 112/3772 [00:00<00:03, 1110.47it/s]"
     ]
    },
    {
     "name": "stdout",
     "output_type": "stream",
     "text": [
      "gamma= 15 , ratio= 1.0 , M= 10.0 : 0.9396091384530691\n"
     ]
    },
    {
     "name": "stderr",
     "output_type": "stream",
     "text": [
      "100%|██████████| 3772/3772 [00:03<00:00, 1114.13it/s]\n",
      "  3%|▎         | 95/3772 [00:00<00:03, 942.18it/s]"
     ]
    },
    {
     "name": "stdout",
     "output_type": "stream",
     "text": [
      "gamma= 5 , ratio= 0.1 , M= 1.0 : 0.9431323974676576\n"
     ]
    },
    {
     "name": "stderr",
     "output_type": "stream",
     "text": [
      "100%|██████████| 3772/3772 [00:03<00:00, 1026.58it/s]\n",
      "  3%|▎         | 114/3772 [00:00<00:03, 1131.30it/s]"
     ]
    },
    {
     "name": "stdout",
     "output_type": "stream",
     "text": [
      "gamma= 5 , ratio= 0.1 , M= 5.0 : 0.9427470410129369\n"
     ]
    },
    {
     "name": "stderr",
     "output_type": "stream",
     "text": [
      "100%|██████████| 3772/3772 [00:03<00:00, 1107.24it/s]\n",
      "  3%|▎         | 120/3772 [00:00<00:03, 1197.10it/s]"
     ]
    },
    {
     "name": "stdout",
     "output_type": "stream",
     "text": [
      "gamma= 5 , ratio= 0.1 , M= 10.0 : 0.9437517203413157\n"
     ]
    },
    {
     "name": "stderr",
     "output_type": "stream",
     "text": [
      "100%|██████████| 3772/3772 [00:03<00:00, 1152.28it/s]\n",
      "  3%|▎         | 111/3772 [00:00<00:03, 1106.81it/s]"
     ]
    },
    {
     "name": "stdout",
     "output_type": "stream",
     "text": [
      "gamma= 5 , ratio= 0.5 , M= 1.0 : 0.9431323974676576\n"
     ]
    },
    {
     "name": "stderr",
     "output_type": "stream",
     "text": [
      "100%|██████████| 3772/3772 [00:03<00:00, 1055.29it/s]\n",
      "  3%|▎         | 105/3772 [00:00<00:03, 1043.44it/s]"
     ]
    },
    {
     "name": "stdout",
     "output_type": "stream",
     "text": [
      "gamma= 5 , ratio= 0.5 , M= 5.0 : 0.9423892100192678\n"
     ]
    },
    {
     "name": "stderr",
     "output_type": "stream",
     "text": [
      "100%|██████████| 3772/3772 [00:03<00:00, 1048.14it/s]\n",
      "  3%|▎         | 105/3772 [00:00<00:03, 1047.32it/s]"
     ]
    },
    {
     "name": "stdout",
     "output_type": "stream",
     "text": [
      "gamma= 5 , ratio= 0.5 , M= 10.0 : 0.9454720616570327\n"
     ]
    },
    {
     "name": "stderr",
     "output_type": "stream",
     "text": [
      "100%|██████████| 3772/3772 [00:03<00:00, 1114.81it/s]\n",
      "  6%|▌         | 225/3772 [00:00<00:03, 1126.92it/s]"
     ]
    },
    {
     "name": "stdout",
     "output_type": "stream",
     "text": [
      "gamma= 5 , ratio= 1.0 , M= 1.0 : 0.9431323974676576\n"
     ]
    },
    {
     "name": "stderr",
     "output_type": "stream",
     "text": [
      "100%|██████████| 3772/3772 [00:03<00:00, 1064.95it/s]\n",
      "  3%|▎         | 110/3772 [00:00<00:03, 1093.69it/s]"
     ]
    },
    {
     "name": "stdout",
     "output_type": "stream",
     "text": [
      "gamma= 5 , ratio= 1.0 , M= 5.0 : 0.9453757225433526\n"
     ]
    },
    {
     "name": "stderr",
     "output_type": "stream",
     "text": [
      "100%|██████████| 3772/3772 [00:03<00:00, 1081.93it/s]\n",
      "  3%|▎         | 108/3772 [00:00<00:03, 1076.41it/s]"
     ]
    },
    {
     "name": "stdout",
     "output_type": "stream",
     "text": [
      "gamma= 5 , ratio= 1.0 , M= 10.0 : 0.9725708780622075\n"
     ]
    },
    {
     "name": "stderr",
     "output_type": "stream",
     "text": [
      "100%|██████████| 3772/3772 [00:03<00:00, 1127.49it/s]\n",
      "  3%|▎         | 112/3772 [00:00<00:03, 1115.78it/s]"
     ]
    },
    {
     "name": "stdout",
     "output_type": "stream",
     "text": [
      "gamma= 10 , ratio= 0.1 , M= 1.0 : 0.9431323974676575\n"
     ]
    },
    {
     "name": "stderr",
     "output_type": "stream",
     "text": [
      "100%|██████████| 3772/3772 [00:03<00:00, 1122.10it/s]\n",
      "  3%|▎         | 114/3772 [00:00<00:03, 1130.57it/s]"
     ]
    },
    {
     "name": "stdout",
     "output_type": "stream",
     "text": [
      "gamma= 10 , ratio= 0.1 , M= 5.0 : 0.9810624827965868\n"
     ]
    },
    {
     "name": "stderr",
     "output_type": "stream",
     "text": [
      "100%|██████████| 3772/3772 [00:03<00:00, 1078.53it/s]\n",
      "  3%|▎         | 111/3772 [00:00<00:03, 1104.94it/s]"
     ]
    },
    {
     "name": "stdout",
     "output_type": "stream",
     "text": [
      "gamma= 10 , ratio= 0.1 , M= 10.0 : 0.9369804569226534\n"
     ]
    },
    {
     "name": "stderr",
     "output_type": "stream",
     "text": [
      "100%|██████████| 3772/3772 [00:03<00:00, 1079.73it/s]\n",
      "  3%|▎         | 107/3772 [00:00<00:03, 1068.60it/s]"
     ]
    },
    {
     "name": "stdout",
     "output_type": "stream",
     "text": [
      "gamma= 10 , ratio= 0.5 , M= 1.0 : 0.9431323974676575\n"
     ]
    },
    {
     "name": "stderr",
     "output_type": "stream",
     "text": [
      "100%|██████████| 3772/3772 [00:03<00:00, 1108.92it/s]\n",
      "  3%|▎         | 114/3772 [00:00<00:03, 1139.76it/s]"
     ]
    },
    {
     "name": "stdout",
     "output_type": "stream",
     "text": [
      "gamma= 10 , ratio= 0.5 , M= 5.0 : 0.9720203688411782\n"
     ]
    },
    {
     "name": "stderr",
     "output_type": "stream",
     "text": [
      "100%|██████████| 3772/3772 [00:03<00:00, 1112.93it/s]\n",
      "  2%|▏         | 91/3772 [00:00<00:04, 902.51it/s]"
     ]
    },
    {
     "name": "stdout",
     "output_type": "stream",
     "text": [
      "gamma= 10 , ratio= 0.5 , M= 10.0 : 0.943999449490779\n"
     ]
    },
    {
     "name": "stderr",
     "output_type": "stream",
     "text": [
      "100%|██████████| 3772/3772 [00:03<00:00, 1041.37it/s]\n",
      "  3%|▎         | 114/3772 [00:00<00:03, 1136.24it/s]"
     ]
    },
    {
     "name": "stdout",
     "output_type": "stream",
     "text": [
      "gamma= 10 , ratio= 1.0 , M= 1.0 : 0.9431323974676575\n"
     ]
    },
    {
     "name": "stderr",
     "output_type": "stream",
     "text": [
      "100%|██████████| 3772/3772 [00:03<00:00, 1129.85it/s]\n",
      "  3%|▎         | 119/3772 [00:00<00:03, 1180.94it/s]"
     ]
    },
    {
     "name": "stdout",
     "output_type": "stream",
     "text": [
      "gamma= 10 , ratio= 1.0 , M= 5.0 : 0.935390861546931\n"
     ]
    },
    {
     "name": "stderr",
     "output_type": "stream",
     "text": [
      "100%|██████████| 3772/3772 [00:03<00:00, 1136.56it/s]\n",
      "  3%|▎         | 113/3772 [00:00<00:03, 1127.90it/s]"
     ]
    },
    {
     "name": "stdout",
     "output_type": "stream",
     "text": [
      "gamma= 10 , ratio= 1.0 , M= 10.0 : 0.9423892100192678\n"
     ]
    },
    {
     "name": "stderr",
     "output_type": "stream",
     "text": [
      "100%|██████████| 3772/3772 [00:03<00:00, 1125.18it/s]\n",
      "  5%|▌         | 204/3772 [00:00<00:03, 1008.97it/s]"
     ]
    },
    {
     "name": "stdout",
     "output_type": "stream",
     "text": [
      "gamma= 15 , ratio= 0.1 , M= 1.0 : 0.9431323974676575\n"
     ]
    },
    {
     "name": "stderr",
     "output_type": "stream",
     "text": [
      "100%|██████████| 3772/3772 [00:03<00:00, 996.01it/s] \n",
      "  3%|▎         | 107/3772 [00:00<00:03, 1061.74it/s]"
     ]
    },
    {
     "name": "stdout",
     "output_type": "stream",
     "text": [
      "gamma= 15 , ratio= 0.1 , M= 5.0 : 0.9434282961739608\n"
     ]
    },
    {
     "name": "stderr",
     "output_type": "stream",
     "text": [
      "100%|██████████| 3772/3772 [00:04<00:00, 938.30it/s] \n",
      "  5%|▌         | 205/3772 [00:00<00:03, 1032.85it/s]"
     ]
    },
    {
     "name": "stdout",
     "output_type": "stream",
     "text": [
      "gamma= 15 , ratio= 0.1 , M= 10.0 : 0.975419763281035\n"
     ]
    },
    {
     "name": "stderr",
     "output_type": "stream",
     "text": [
      "100%|██████████| 3772/3772 [00:03<00:00, 986.61it/s] \n",
      "  2%|▏         | 86/3772 [00:00<00:04, 854.91it/s]"
     ]
    },
    {
     "name": "stdout",
     "output_type": "stream",
     "text": [
      "gamma= 15 , ratio= 0.5 , M= 1.0 : 0.9431323974676575\n"
     ]
    },
    {
     "name": "stderr",
     "output_type": "stream",
     "text": [
      "100%|██████████| 3772/3772 [00:04<00:00, 908.21it/s]\n",
      "  2%|▏         | 88/3772 [00:00<00:04, 878.02it/s]"
     ]
    },
    {
     "name": "stdout",
     "output_type": "stream",
     "text": [
      "gamma= 15 , ratio= 0.5 , M= 5.0 : 0.9448940269749518\n"
     ]
    },
    {
     "name": "stderr",
     "output_type": "stream",
     "text": [
      "100%|██████████| 3772/3772 [00:04<00:00, 828.88it/s]\n",
      "  2%|▏         | 85/3772 [00:00<00:04, 847.04it/s]"
     ]
    },
    {
     "name": "stdout",
     "output_type": "stream",
     "text": [
      "gamma= 15 , ratio= 0.5 , M= 10.0 : 0.9366088631984586\n"
     ]
    },
    {
     "name": "stderr",
     "output_type": "stream",
     "text": [
      "100%|██████████| 3772/3772 [00:04<00:00, 828.14it/s]\n",
      "  5%|▌         | 199/3772 [00:00<00:03, 981.02it/s]"
     ]
    },
    {
     "name": "stdout",
     "output_type": "stream",
     "text": [
      "gamma= 15 , ratio= 1.0 , M= 1.0 : 0.9431323974676575\n"
     ]
    },
    {
     "name": "stderr",
     "output_type": "stream",
     "text": [
      "100%|██████████| 3772/3772 [00:04<00:00, 877.67it/s]\n",
      "  3%|▎         | 96/3772 [00:00<00:03, 952.20it/s]"
     ]
    },
    {
     "name": "stdout",
     "output_type": "stream",
     "text": [
      "gamma= 15 , ratio= 1.0 , M= 5.0 : 0.9464010459675201\n"
     ]
    },
    {
     "name": "stderr",
     "output_type": "stream",
     "text": [
      "100%|██████████| 3772/3772 [00:04<00:00, 855.90it/s]\n"
     ]
    },
    {
     "name": "stdout",
     "output_type": "stream",
     "text": [
      "gamma= 15 , ratio= 1.0 , M= 10.0 : 0.9424167354803192\n"
     ]
    }
   ],
   "source": [
    "auc_sra_tot = np.zeros((n_trial, len(k_list), len(gamma_list), len(ratio_list), len(M_list)))\n",
    "auc_sra_tr = np.zeros((n_trial, len(k_list), len(gamma_list), len(ratio_list), len(M_list)))\n",
    "auc_sra_te = np.zeros((n_trial, len(k_list), len(gamma_list), len(ratio_list), len(M_list)))\n",
    "\n",
    "for n in range(n_trial):\n",
    "    for i, k in enumerate(k_list):\n",
    "        pi0 = np.array([1/k] * k).reshape(-1, 1)\n",
    "        mu0 = np.hstack([ \n",
    "                  np.random.uniform(np.min(X[:2000, col]), np.max(X[:2000, col]), k).reshape(-1, 1)\n",
    "                  for col in range(X.shape[1])\n",
    "              ])\n",
    "        sigma0 = np.stack([np.diag((X[:2000, :].max(axis=0) - X[:2000, :].min(axis=0))/10) for _ in range(k)])\n",
    "        theta0 = Theta(pi0, mu0, sigma0)\n",
    "        for j, gamma in enumerate(gamma_list):\n",
    "            for l, ratio in enumerate(ratio_list):\n",
    "                for m, M in enumerate(M_list):\n",
    "                    scores = calc_scores_sra(X, theta0, k, gamma, ratio, M)\n",
    "                    fpr, tpr, thresholds = roc_curve(y, scores, pos_label=1)\n",
    "                    auc_sra_tot[n, i, j, l, m] = auc(fpr, tpr)\n",
    "                    \n",
    "                    fpr_tr, tpr_tr, thresholds_tr = roc_curve(y[1000:2000], scores[1000:2000], pos_label=1)\n",
    "                    auc_sra_tr[n, i, j, l, m] = auc(fpr_tr, tpr_tr)\n",
    "                    \n",
    "                    fpr_te, tpr_te, thresholds_te = roc_curve(y[2000:], scores[2000:], pos_label=1)\n",
    "                    auc_sra_te[n, i, j, l, m] = auc(fpr_te, tpr_te)\n",
    "                    print('gamma=', gamma, ', ratio=', ratio, ', M=', M, ':', auc_sra_te[n, i, j, l, m])\n"
   ]
  },
  {
   "cell_type": "code",
   "execution_count": 30,
   "metadata": {},
   "outputs": [
    {
     "data": {
      "text/plain": [
       "(2, 1, 1, 1)"
      ]
     },
     "execution_count": 30,
     "metadata": {},
     "output_type": "execute_result"
    }
   ],
   "source": [
    "np.unravel_index(np.argmax(np.mean(auc_sra_tr, axis=0)), np.mean(auc_sra_tr, axis=0).shape)"
   ]
  },
  {
   "cell_type": "code",
   "execution_count": 33,
   "metadata": {},
   "outputs": [
    {
     "data": {
      "text/plain": [
       "0.9810007457651195"
      ]
     },
     "execution_count": 33,
     "metadata": {},
     "output_type": "execute_result"
    }
   ],
   "source": [
    "np.mean(auc_sra_tr, axis=0)[2, 1, 1, 1]"
   ]
  },
  {
   "cell_type": "code",
   "execution_count": 34,
   "metadata": {},
   "outputs": [
    {
     "data": {
      "text/plain": [
       "0.9720203688411783"
      ]
     },
     "execution_count": 34,
     "metadata": {},
     "output_type": "execute_result"
    }
   ],
   "source": [
    "np.mean(auc_sra_te, axis=0)[2, 1, 1, 1]"
   ]
  },
  {
   "cell_type": "code",
   "execution_count": null,
   "metadata": {},
   "outputs": [],
   "source": []
  }
 ],
 "metadata": {
  "kernelspec": {
   "display_name": "Python 3",
   "language": "python",
   "name": "python3"
  },
  "language_info": {
   "codemirror_mode": {
    "name": "ipython",
    "version": 3
   },
   "file_extension": ".py",
   "mimetype": "text/x-python",
   "name": "python",
   "nbconvert_exporter": "python",
   "pygments_lexer": "ipython3",
   "version": "3.7.2"
  }
 },
 "nbformat": 4,
 "nbformat_minor": 4
}
