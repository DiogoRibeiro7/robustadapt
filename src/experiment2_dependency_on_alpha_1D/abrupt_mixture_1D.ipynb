{
 "cells": [
  {
   "cell_type": "code",
   "execution_count": 13,
   "id": "attached-savage",
   "metadata": {},
   "outputs": [],
   "source": [
    "%matplotlib inline\n",
    "import numpy as np\n",
    "from scipy.stats import multivariate_normal, norm\n",
    "import pandas as pd\n",
    "\n",
    "import matplotlib.pyplot as plt\n",
    "import seaborn as sns\n",
    "from matplotlib import rc\n",
    "rc('text', usetex=True)\n",
    "\n",
    "import os\n",
    "import pickle\n",
    "\n",
    "from copy import deepcopy\n",
    "\n",
    "import tqdm\n",
    "\n",
    "from sklearn.datasets import make_spd_matrix"
   ]
  },
  {
   "cell_type": "code",
   "execution_count": 2,
   "id": "elder-convergence",
   "metadata": {},
   "outputs": [],
   "source": [
    "outdir = './output/synthetic/univariate/abrupt_mixture/'\n",
    "if not os.path.exists(outdir):\n",
    "    os.makedirs(outdir)"
   ]
  },
  {
   "cell_type": "code",
   "execution_count": 3,
   "id": "realistic-parcel",
   "metadata": {},
   "outputs": [],
   "source": [
    "class Theta:\n",
    "    def __init__(self, pi, mu, sigma):\n",
    "        self.pi = pi\n",
    "        self.mu = mu\n",
    "        self.sigma = sigma"
   ]
  },
  {
   "cell_type": "code",
   "execution_count": 4,
   "id": "mobile-amplifier",
   "metadata": {},
   "outputs": [],
   "source": [
    "def compute_tau(X, theta):\n",
    "    N = X.shape[0]\n",
    "    K = len(theta.pi)\n",
    "\n",
    "    tau = np.zeros((N, K))\n",
    "    for k in range(K):\n",
    "        d_k = norm(theta.mu[k], theta.sigma[k])\n",
    "        for i in range(N):\n",
    "            tau[i, k] = theta.pi[k] * d_k.pdf(X[i])\n",
    "    \n",
    "    tau /= np.sum(tau, axis=1, keepdims=True)\n",
    "    \n",
    "    return tau"
   ]
  },
  {
   "cell_type": "code",
   "execution_count": 5,
   "id": "funny-standard",
   "metadata": {},
   "outputs": [],
   "source": [
    "def compute_stat(X, Z):\n",
    "    K = Z.shape[0]\n",
    "    D = X.shape[1]\n",
    "\n",
    "    s1 = np.sum(Z, axis=0)\n",
    "    s2 = X.T.dot(Z).ravel()\n",
    "    s3 = (X**2).T.dot(Z).ravel()\n",
    "    \n",
    "    return s1, s2, s3"
   ]
  },
  {
   "cell_type": "code",
   "execution_count": 6,
   "id": "sonic-hepatitis",
   "metadata": {},
   "outputs": [],
   "source": [
    "def step_M(s, x, eps=1e-8):\n",
    "    pi = (s.s1 + eps) / (1.0 + eps * len(s.s1))\n",
    "    mu = s.s2 / (s.s1 + eps)\n",
    "    sigma = np.sqrt(s.s3 / (s.s1 + eps) - mu**2)\n",
    "    return pi, mu, sigma"
   ]
  },
  {
   "cell_type": "code",
   "execution_count": 7,
   "id": "developing-italic",
   "metadata": {},
   "outputs": [],
   "source": [
    "class SuffStat:\n",
    "    def __init__(self):\n",
    "        pass"
   ]
  },
  {
   "cell_type": "code",
   "execution_count": 8,
   "id": "improving-reasoning",
   "metadata": {},
   "outputs": [],
   "source": [
    "class SuffStatGMM(SuffStat):\n",
    "    def __init__(self, K, D, seed=0):\n",
    "        super().__init__()\n",
    "        np.random.seed(seed)\n",
    "        self.s1 = np.random.random(K)\n",
    "        self.s2 = np.random.random(K)\n",
    "        self.s3 = np.random.random(K)"
   ]
  },
  {
   "cell_type": "code",
   "execution_count": 9,
   "id": "adequate-hypothesis",
   "metadata": {},
   "outputs": [],
   "source": [
    "def sra(X, theta0, rho, gamma):\n",
    "    K = len(theta0.mu)\n",
    "    N = X.shape[0]\n",
    "    \n",
    "    theta_est = np.zeros((N, 3*K+1))\n",
    "    theta = deepcopy(theta0)\n",
    "    \n",
    "    s = SuffStatGMM(len(theta0.pi), 1)\n",
    "    \n",
    "    # initialization\n",
    "    tau = compute_tau(X[:10, :], theta)\n",
    "    s.s1[:], s.s2[:], s.s3[:] = compute_stat(X[:10, :], tau)\n",
    "    \n",
    "    inds = np.arange(N)\n",
    "    \n",
    "    for n in range(N):\n",
    "        ind_n = inds[n]\n",
    "        \n",
    "        tau_indiv_new = compute_tau(X[ind_n, :], theta).ravel()\n",
    "        s2_indiv_new = X[ind_n, :] * tau_indiv_new\n",
    "        s3_indiv_new = X[ind_n, :]**2 * tau_indiv_new\n",
    "\n",
    "        if ( np.any(np.isnan(tau_indiv_new)) | (np.linalg.norm(s2_indiv_new - s.s2) >= gamma) ):\n",
    "            theta_est[n, :] = np.hstack((n, theta.pi, theta.mu, theta.sigma))\n",
    "            continue\n",
    "            \n",
    "        # update the statistics\n",
    "        s.s1 += rho[n] * (tau_indiv_new - s.s1)\n",
    "        s.s2 += rho[n] * (s2_indiv_new - s.s2)\n",
    "        s.s3 += rho[n] * (s3_indiv_new - s.s3)\n",
    "                \n",
    "        # M-step\n",
    "        theta.pi[:], theta.mu[:], theta.sigma[:] = step_M(s, X[ind_n, :])\n",
    "        theta_est[n, :] = np.hstack((n, theta.pi, theta.mu, theta.sigma))\n",
    "\n",
    "    return theta_est"
   ]
  },
  {
   "cell_type": "code",
   "execution_count": 10,
   "id": "appointed-vampire",
   "metadata": {},
   "outputs": [],
   "source": [
    "def generate_data(N, pi, mu, sigma):\n",
    "    \n",
    "    z_list = np.random.choice(np.arange(len(pi)), N, replace=True)\n",
    "    \n",
    "    X = np.zeros((N, 1))\n",
    "    for i, z in enumerate(z_list):\n",
    "        X_i = np.random.normal(mu[z], sigma[z])\n",
    "        X[i, :] = X_i\n",
    "    \n",
    "    return X"
   ]
  },
  {
   "cell_type": "code",
   "execution_count": 11,
   "id": "shared-seventh",
   "metadata": {},
   "outputs": [],
   "source": [
    "pi = np.array([0.2, 0.8])\n",
    "pi0 = pi.copy()\n",
    "\n",
    "sigma = np.array([0.1, 0.1])\n",
    "sigma0 = np.array([0.2, 0.2])\n",
    "\n",
    "mu0 = [0.1, -0.1]\n",
    "\n",
    "theta0 = Theta(pi0, mu0, sigma0)\n",
    "\n",
    "seed0 = 1\n",
    "seed = seed0"
   ]
  },
  {
   "cell_type": "code",
   "execution_count": 12,
   "id": "derived-slovak",
   "metadata": {},
   "outputs": [
    {
     "name": "stderr",
     "output_type": "stream",
     "text": [
      "  0%|          | 0/10 [00:00<?, ?it/s]/Users/shi-fukushima/.pyenv/versions/anaconda3-5.3.1/lib/python3.7/site-packages/ipykernel_launcher.py:11: RuntimeWarning: invalid value encountered in true_divide\n",
      "  # This is added back by InteractiveShellApp.init_path()\n"
     ]
    },
    {
     "name": "stdout",
     "output_type": "stream",
     "text": [
      "0.0021014678704488984 0.0024049441945100955 0.001977626655594734 0.0021800402266599055\n",
      "0.0037351928475942266 0.007617017596990774 0.1474191127166607 0.08119706765997493\n"
     ]
    },
    {
     "name": "stderr",
     "output_type": "stream",
     "text": [
      " 10%|█         | 1/10 [01:43<15:33, 103.72s/it]"
     ]
    },
    {
     "name": "stdout",
     "output_type": "stream",
     "text": [
      "0.015944313751274013 0.014559992578456556 0.0073454431443337655 0.0107628612973393\n",
      "0.0027828433603861945 0.0018379621222346211 0.0021207383218861 0.0019867917009985573\n",
      "0.006326138154849464 0.0060009474489323795 0.004369323892663926 0.005142198208791088\n"
     ]
    },
    {
     "name": "stderr",
     "output_type": "stream",
     "text": [
      " 20%|██        | 2/10 [03:28<13:52, 104.11s/it]"
     ]
    },
    {
     "name": "stdout",
     "output_type": "stream",
     "text": [
      "0.012195422031230236 0.012033868348255504 0.015955423537026572 0.014097844763398173\n",
      "0.0014123332761470627 0.001671735690172463 0.0020298678961288025 0.001860226324886326\n",
      "0.0029853958819001593 0.007123537298849829 0.0044354254519208165 0.0057087415899398225\n"
     ]
    },
    {
     "name": "stderr",
     "output_type": "stream",
     "text": [
      " 30%|███       | 3/10 [05:11<12:07, 103.91s/it]"
     ]
    },
    {
     "name": "stdout",
     "output_type": "stream",
     "text": [
      "0.0128441895129767 0.011654651564770798 0.007877752291665378 0.009666809842083736\n",
      "0.0020706076811293894 0.00208497607553327 0.021873114904892677 0.01249978598572243\n",
      "0.002322682069984328 0.007467447861879079 0.046088828913180606 0.02779449052045883\n"
     ]
    },
    {
     "name": "stderr",
     "output_type": "stream",
     "text": [
      " 40%|████      | 4/10 [06:57<10:26, 104.45s/it]"
     ]
    },
    {
     "name": "stdout",
     "output_type": "stream",
     "text": [
      "0.007866869406835892 0.013058438260500075 0.03441129472013395 0.024296783765570533\n",
      "0.002330023609156684 0.0017571541488169275 0.026632256380925725 0.014849313218347877\n",
      "0.003517924375631876 0.00446327498382807 0.029041382816959897 0.01739912121179219\n"
     ]
    },
    {
     "name": "stderr",
     "output_type": "stream",
     "text": [
      " 50%|█████     | 5/10 [08:46<08:50, 106.18s/it]"
     ]
    },
    {
     "name": "stdout",
     "output_type": "stream",
     "text": [
      "0.014768283992623381 0.011727761848507068 0.717299408337969 0.38308126000085546\n",
      "0.0020292456352065465 0.0027479503640732597 0.0021517168362636552 0.0024341432441734676\n",
      "0.0038861648976974265 0.008605015157426897 0.0044275691888244284 0.006406359384478228\n"
     ]
    },
    {
     "name": "stderr",
     "output_type": "stream",
     "text": [
      " 60%|██████    | 6/10 [10:32<07:04, 106.15s/it]"
     ]
    },
    {
     "name": "stdout",
     "output_type": "stream",
     "text": [
      "0.01371200859256011 0.017774243104683493 0.007183124406605695 0.012199970105695178\n",
      "0.001135221319158567 0.0022398797097421246 0.0024200034643247405 0.0023346816858382377\n",
      "0.0021734610840270716 0.00867252819320332 0.21647742380021265 0.11804352588110298\n"
     ]
    },
    {
     "name": "stderr",
     "output_type": "stream",
     "text": [
      " 70%|███████   | 7/10 [12:18<05:18, 106.24s/it]"
     ]
    },
    {
     "name": "stdout",
     "output_type": "stream",
     "text": [
      "0.008154894862514042 0.015945454960452812 0.013103052035710962 0.014449453421114996\n",
      "0.001589899391728482 0.001944687929468963 0.0022371398609707656 0.0020986099986804382\n",
      "0.003768008628888501 0.004227680710075858 0.004992971734886595 0.004630465459976246\n"
     ]
    },
    {
     "name": "stderr",
     "output_type": "stream",
     "text": [
      " 80%|████████  | 8/10 [14:02<03:31, 105.57s/it]"
     ]
    },
    {
     "name": "stdout",
     "output_type": "stream",
     "text": [
      "0.011143417228330761 0.012397823463835183 0.25025461728976306 0.1375856096880077\n",
      "nan nan nan nan\n",
      "nan nan nan nan\n"
     ]
    },
    {
     "name": "stderr",
     "output_type": "stream",
     "text": [
      " 90%|█████████ | 9/10 [15:32<01:40, 100.65s/it]"
     ]
    },
    {
     "name": "stdout",
     "output_type": "stream",
     "text": [
      "nan nan nan nan\n",
      "0.002306593082290716 0.002096051863714809 0.002213868933919168 0.002158060848032893\n",
      "0.002426232092928858 0.008961644709108306 0.0047389187784530155 0.0067391573771844685\n"
     ]
    },
    {
     "name": "stderr",
     "output_type": "stream",
     "text": [
      "100%|██████████| 10/10 [17:01<00:00, 102.15s/it]"
     ]
    },
    {
     "name": "stdout",
     "output_type": "stream",
     "text": [
      "0.010913768698788878 0.014197858345640597 0.008192886074239042 0.011037346623850303\n"
     ]
    },
    {
     "name": "stderr",
     "output_type": "stream",
     "text": [
      "\n"
     ]
    }
   ],
   "source": [
    "gamma = 3.0\n",
    "rho = 0.0116\n",
    "ratio = 0.1\n",
    "alpha_orig = 0.01\n",
    "M = 5\n",
    "alpha_list = [0.01, 0.05, 0.1]\n",
    "u = 20\n",
    "n_trial = 10\n",
    "N = 10000\n",
    "\n",
    "pi = np.array([0.5, 0.5])\n",
    "mu1 = np.array([0.5, -0.5])\n",
    "mu2 = np.array([1.0, -1.0])\n",
    "sigma = np.array([0.1, 0.1])\n",
    "\n",
    "mse_eval_alpha =  np.zeros((n_trial, len(alpha_list)))\n",
    "mse_former_alpha = np.zeros((n_trial, len(alpha_list)))\n",
    "mse_latter_alpha = np.zeros((n_trial, len(alpha_list)))\n",
    "mse_overall_alpha =  np.zeros((n_trial, len(alpha_list)))\n",
    "\n",
    "for trial in tqdm.tqdm(range(n_trial)):\n",
    "    np.random.seed(trial)\n",
    "    X = np.zeros((2*N, 1))\n",
    "    Xj_former = generate_data(N, pi, mu1, sigma)\n",
    "    X[:N, 0] = Xj_former.ravel()\n",
    "    Xj_latter = generate_data(N, pi, mu2, sigma)\n",
    "    X[N:, 0] = Xj_latter.ravel()\n",
    "    \n",
    "    for j, alpha in enumerate(alpha_list):\n",
    "        idxes_ol = np.random.choice(np.arange(2*N), int(alpha*2*N), replace=False)\n",
    "        X[idxes_ol, :] = np.random.uniform(-u, u, len(idxes_ol)).reshape(-1, 1)\n",
    "\n",
    "        rho = ratio * (1-alpha_orig)/(1-alpha) *np.exp(-gamma**2/M**2)\n",
    "        rho_const = np.repeat([rho], X.shape[0])\n",
    "        theta_est_sra = sra(X, theta0, rho_const, gamma)\n",
    "\n",
    "        mse_eval = np.sum((theta_est_sra[500:1000, 3:5] - mu1)**2, axis=1)\n",
    "        mse_eval_alpha[trial, j] = np.mean(mse_eval)\n",
    "        \n",
    "        mse_former = np.sum((theta_est_sra[1000:10000, 3:5] - mu1)**2, axis=1)\n",
    "        mse_former_alpha[trial, j] = np.mean(mse_former)\n",
    "        \n",
    "        mse_latter = np.sum((theta_est_sra[10000:, 3:5] - mu2)**2, axis=1)\n",
    "        mse_latter_alpha[trial, j] = np.mean(mse_latter)\n",
    "\n",
    "        mse_overall = np.hstack((mse_former, mse_latter))\n",
    "        mse_overall_alpha[trial, j] = np.mean(mse_overall)\n",
    "\n",
    "        print(np.mean(mse_eval), np.mean(mse_former), np.mean(mse_latter), np.mean(mse_overall))"
   ]
  },
  {
   "cell_type": "code",
   "execution_count": 14,
   "id": "international-thinking",
   "metadata": {},
   "outputs": [],
   "source": [
    "with open(os.path.join(outdir, 'mse_eval.pkl'), 'wb') as f:\n",
    "    pickle.dump(mse_eval_alpha, f)\n",
    "    \n",
    "with open(os.path.join(outdir, 'mse_former.pkl'), 'wb') as f:\n",
    "    pickle.dump(mse_former_alpha, f)\n",
    "    \n",
    "with open(os.path.join(outdir, 'mse_latter.pkl'), 'wb') as f:\n",
    "    pickle.dump(mse_latter_alpha, f)\n",
    "    \n",
    "with open(os.path.join(outdir, 'mse_overall.pkl'), 'wb') as f:\n",
    "    pickle.dump(mse_overall_alpha, f)"
   ]
  },
  {
   "cell_type": "code",
   "execution_count": null,
   "id": "voluntary-sweet",
   "metadata": {},
   "outputs": [],
   "source": []
  }
 ],
 "metadata": {
  "kernelspec": {
   "display_name": "Python 3",
   "language": "python",
   "name": "python3"
  },
  "language_info": {
   "codemirror_mode": {
    "name": "ipython",
    "version": 3
   },
   "file_extension": ".py",
   "mimetype": "text/x-python",
   "name": "python",
   "nbconvert_exporter": "python",
   "pygments_lexer": "ipython3",
   "version": "3.7.2"
  }
 },
 "nbformat": 4,
 "nbformat_minor": 5
}
