{
 "cells": [
  {
   "cell_type": "code",
   "execution_count": 1,
   "id": "prepared-outreach",
   "metadata": {},
   "outputs": [],
   "source": [
    "%matplotlib inline\n",
    "import numpy as np\n",
    "from scipy.stats import multivariate_normal, norm\n",
    "import pandas as pd\n",
    "\n",
    "import matplotlib.pyplot as plt\n",
    "import seaborn as sns\n",
    "from matplotlib import rc\n",
    "rc('text', usetex=True)\n",
    "\n",
    "import os\n",
    "import pickle\n",
    "\n",
    "from copy import deepcopy\n",
    "\n",
    "import tqdm\n",
    "\n",
    "from sklearn.datasets import make_spd_matrix"
   ]
  },
  {
   "cell_type": "code",
   "execution_count": 2,
   "id": "pleasant-thanks",
   "metadata": {},
   "outputs": [],
   "source": [
    "outdir = './output/synthetic/univariate/gradual_mixture/'\n",
    "if not os.path.exists(outdir):\n",
    "    os.makedirs(outdir)"
   ]
  },
  {
   "cell_type": "code",
   "execution_count": 3,
   "id": "internal-trout",
   "metadata": {},
   "outputs": [],
   "source": [
    "class Theta:\n",
    "    def __init__(self, pi, mu, sigma):\n",
    "        self.pi = pi\n",
    "        self.mu = mu\n",
    "        self.sigma = sigma"
   ]
  },
  {
   "cell_type": "code",
   "execution_count": 4,
   "id": "senior-forth",
   "metadata": {},
   "outputs": [],
   "source": [
    "def compute_tau(X, theta):\n",
    "    N = X.shape[0]\n",
    "    K = len(theta.pi)\n",
    "\n",
    "    tau = np.zeros((N, K))\n",
    "    for k in range(K):\n",
    "        d_k = norm(theta.mu[k], theta.sigma[k])\n",
    "        for i in range(N):\n",
    "            tau[i, k] = theta.pi[k] * d_k.pdf(X[i])\n",
    "    \n",
    "    tau /= np.sum(tau, axis=1, keepdims=True)\n",
    "    \n",
    "    return tau"
   ]
  },
  {
   "cell_type": "code",
   "execution_count": 5,
   "id": "suitable-moses",
   "metadata": {},
   "outputs": [],
   "source": [
    "def compute_stat(X, Z):\n",
    "    K = Z.shape[0]\n",
    "    D = X.shape[1]\n",
    "\n",
    "    s1 = np.sum(Z, axis=0)\n",
    "    s2 = X.T.dot(Z).ravel()\n",
    "    s3 = (X**2).T.dot(Z).ravel()\n",
    "    \n",
    "    return s1, s2, s3"
   ]
  },
  {
   "cell_type": "code",
   "execution_count": 6,
   "id": "guilty-envelope",
   "metadata": {},
   "outputs": [],
   "source": [
    "def step_M(s, x, eps=1e-8):\n",
    "    pi = (s.s1 + eps) / (1.0 + eps * len(s.s1))\n",
    "    mu = s.s2 / (s.s1 + eps)\n",
    "    sigma = np.sqrt(s.s3 / (s.s1 + eps) - mu**2)\n",
    "    return pi, mu, sigma"
   ]
  },
  {
   "cell_type": "code",
   "execution_count": 7,
   "id": "pharmaceutical-combine",
   "metadata": {},
   "outputs": [],
   "source": [
    "class SuffStat:\n",
    "    def __init__(self):\n",
    "        pass"
   ]
  },
  {
   "cell_type": "code",
   "execution_count": 8,
   "id": "smooth-ecuador",
   "metadata": {},
   "outputs": [],
   "source": [
    "class SuffStatGMM(SuffStat):\n",
    "    def __init__(self, K, D, seed=0):\n",
    "        super().__init__()\n",
    "        np.random.seed(seed)\n",
    "        self.s1 = np.random.random(K)\n",
    "        self.s2 = np.random.random(K)\n",
    "        self.s3 = np.random.random(K)"
   ]
  },
  {
   "cell_type": "code",
   "execution_count": 26,
   "id": "delayed-salvation",
   "metadata": {},
   "outputs": [],
   "source": [
    "def sra(X, X_init, theta0, rho, gamma):\n",
    "    K = len(theta0.mu)\n",
    "    N = X.shape[0]\n",
    "    \n",
    "    theta_est = np.zeros((N, 3*K+1))\n",
    "    theta = deepcopy(theta0)\n",
    "    \n",
    "    s = SuffStatGMM(len(theta0.pi), 1)\n",
    "    \n",
    "    # initialization\n",
    "    #tau = compute_tau(X[:10, :], theta)\n",
    "    #tau = compute_tau(X[:5, :], theta)\n",
    "    #s.s1[:], s.s2[:], s.s3[:] = compute_stat(X[:5, :], tau)\n",
    "    tau = compute_tau(X_init, theta)\n",
    "    s.s1[:], s.s2[:], s.s3[:] = compute_stat(X_init, tau)\n",
    "    \n",
    "    inds = np.arange(N)\n",
    "    \n",
    "    for n in range(N):\n",
    "        ind_n = inds[n]\n",
    "        \n",
    "        tau_indiv_new = compute_tau(X[ind_n, :], theta).ravel()\n",
    "        s2_indiv_new = X[ind_n, :] * tau_indiv_new\n",
    "        s3_indiv_new = X[ind_n, :]**2 * tau_indiv_new\n",
    "\n",
    "        if ( np.any(np.isnan(tau_indiv_new)) | (np.linalg.norm(s2_indiv_new - s.s2) >= gamma) ):\n",
    "            theta_est[n, :] = np.hstack((n, theta.pi, theta.mu, theta.sigma))\n",
    "            continue\n",
    "            \n",
    "        # update the statistics\n",
    "        s.s1 += rho[n] * (tau_indiv_new - s.s1)\n",
    "        s.s2 += rho[n] * (s2_indiv_new - s.s2)\n",
    "        s.s3 += rho[n] * (s3_indiv_new - s.s3)\n",
    "                \n",
    "        # M-step\n",
    "        theta.pi[:], theta.mu[:], theta.sigma[:] = step_M(s, X[ind_n, :])\n",
    "        theta_est[n, :] = np.hstack((n, theta.pi, theta.mu, theta.sigma))\n",
    "\n",
    "    return theta_est"
   ]
  },
  {
   "cell_type": "code",
   "execution_count": 10,
   "id": "structural-happening",
   "metadata": {},
   "outputs": [],
   "source": [
    "def generate_data(N, pi, mu, sigma):\n",
    "    \n",
    "    z_list = np.random.choice(np.arange(len(pi)), N, replace=True)\n",
    "    \n",
    "    X = np.zeros((N, 1))\n",
    "    for i, z in enumerate(z_list):\n",
    "        X_i = np.random.normal(mu[z], sigma[z])\n",
    "        X[i, :] = X_i\n",
    "    \n",
    "    return X"
   ]
  },
  {
   "cell_type": "code",
   "execution_count": 11,
   "id": "eligible-bidder",
   "metadata": {},
   "outputs": [],
   "source": [
    "pi = np.array([0.2, 0.8])\n",
    "pi0 = pi.copy()\n",
    "\n",
    "sigma = np.array([0.1, 0.1])\n",
    "sigma0 = np.array([0.2, 0.2])\n",
    "\n",
    "mu0 = [0.1, -0.1]\n",
    "\n",
    "theta0 = Theta(pi0, mu0, sigma0)\n",
    "\n",
    "seed0 = 1\n",
    "seed = seed0"
   ]
  },
  {
   "cell_type": "code",
   "execution_count": 12,
   "id": "thick-virus",
   "metadata": {},
   "outputs": [
    {
     "data": {
      "text/plain": [
       "array([0.2, 0.8])"
      ]
     },
     "execution_count": 12,
     "metadata": {},
     "output_type": "execute_result"
    }
   ],
   "source": [
    "pi"
   ]
  },
  {
   "cell_type": "code",
   "execution_count": 13,
   "id": "exact-clock",
   "metadata": {},
   "outputs": [
    {
     "data": {
      "text/plain": [
       "array([0.1, 0.1])"
      ]
     },
     "execution_count": 13,
     "metadata": {},
     "output_type": "execute_result"
    }
   ],
   "source": [
    "sigma"
   ]
  },
  {
   "cell_type": "code",
   "execution_count": 18,
   "id": "moral-celebration",
   "metadata": {},
   "outputs": [],
   "source": [
    "mu1 = np.array([0.5, -0.5])\n",
    "mu2 = np.array([1.0, -1.0])"
   ]
  },
  {
   "cell_type": "code",
   "execution_count": 28,
   "id": "complimentary-property",
   "metadata": {},
   "outputs": [
    {
     "name": "stderr",
     "output_type": "stream",
     "text": [
      "/Users/shi-fukushima/.pyenv/versions/anaconda3-5.3.1/lib/python3.7/site-packages/ipykernel_launcher.py:11: RuntimeWarning: invalid value encountered in true_divide\n",
      "  # This is added back by InteractiveShellApp.init_path()\n"
     ]
    }
   ],
   "source": [
    "gamma = 3\n",
    "ratio = 0.1\n",
    "M = 5\n",
    "rho_orig = ratio/(2.0*gamma) * np.exp(-gamma**2/M**2)\n",
    "alpha = 0.05\n",
    "alpha_orig = 0.01\n",
    "rho = rho_orig * (1 - alpha_orig)/(1 - alpha)\n",
    "\n",
    "u = 20\n",
    "N = 10000\n",
    "D = 1\n",
    "\n",
    "rho_const = np.repeat(rho, 2*N)\n",
    "\n",
    "np.random.seed(0)\n",
    "X = np.zeros((2*N, D))\n",
    "Xj_former = generate_data(N, pi, mu1, sigma)\n",
    "X[:N, :] = Xj_former\n",
    "#Xj_trans = np.linspace(mu1, mu2, 300).ravel() + np.random.normal(0, sigma, 300)\n",
    "Xj_trans = np.vstack([ generate_data(1, pi, mu1 + (t-N+1)/300 * (mu2-mu1), sigma).reshape(1, -1) for t in range(N, N+300) ])\n",
    "X[N:(N+300), :] = Xj_trans\n",
    "Xj_latter = generate_data(N-300, pi, mu2, sigma)\n",
    "X[N+300:, :] = Xj_latter\n",
    "\n",
    "alpha = 0.05\n",
    "idxes_ol = np.random.choice(np.arange(2*N), int(alpha*2*N), replace=False)\n",
    "X[idxes_ol, :] = np.random.uniform(-u, u, len(idxes_ol)).reshape(-1, 1)\n",
    "\n",
    "X_init = np.random.uniform(-2, 2, (10, 1))\n",
    "\n",
    "theta_est_sra = sra(X, X_init, theta0, rho_const, gamma)"
   ]
  },
  {
   "cell_type": "code",
   "execution_count": 29,
   "id": "southern-mathematics",
   "metadata": {},
   "outputs": [
    {
     "data": {
      "text/plain": [
       "0.012117536189654748"
      ]
     },
     "execution_count": 29,
     "metadata": {},
     "output_type": "execute_result"
    }
   ],
   "source": [
    "rho"
   ]
  },
  {
   "cell_type": "code",
   "execution_count": 30,
   "id": "improving-device",
   "metadata": {},
   "outputs": [
    {
     "data": {
      "image/png": "[encoded data removed]",
      "text/plain": [
       "<Figure size 864x432 with 1 Axes>"
      ]
     },
     "metadata": {
      "needs_background": "light"
     },
     "output_type": "display_data"
    }
   ],
   "source": [
    "plt.figure(figsize=(12, 6))\n",
    "plt.plot(X.ravel())\n",
    "plt.plot(theta_est_sra[:, 3], linestyle='dashed')\n",
    "plt.plot(theta_est_sra[:, 4], linestyle='dashed')\n",
    "plt.ylim(-2, 2)\n",
    "plt.show()"
   ]
  },
  {
   "cell_type": "code",
   "execution_count": null,
   "id": "simplified-moore",
   "metadata": {},
   "outputs": [],
   "source": []
  },
  {
   "cell_type": "code",
   "execution_count": 32,
   "id": "unique-spouse",
   "metadata": {},
   "outputs": [
    {
     "name": "stderr",
     "output_type": "stream",
     "text": [
      "  0%|          | 0/10 [00:00<?, ?it/s]/Users/shi-fukushima/.pyenv/versions/anaconda3-5.3.1/lib/python3.7/site-packages/ipykernel_launcher.py:11: RuntimeWarning: invalid value encountered in true_divide\n",
      "  # This is added back by InteractiveShellApp.init_path()\n"
     ]
    },
    {
     "name": "stdout",
     "output_type": "stream",
     "text": [
      "0.0013241667398113295 0.0016080466840137809 0.007267268884994965 0.004586584684530194\n",
      "0.0028651443933561814 0.007416312008718397 0.009928151772581294 0.008738332937067292\n"
     ]
    },
    {
     "name": "stderr",
     "output_type": "stream",
     "text": [
      " 10%|█         | 1/10 [01:34<14:11, 94.56s/it]"
     ]
    },
    {
     "name": "stdout",
     "output_type": "stream",
     "text": [
      "0.01446890704014918 0.01378753286181607 0.012027231502142913 0.012861058461988095\n",
      "0.0027828433603862097 0.0018379621222346211 0.007343142081242462 0.004735425258554538\n",
      "0.006326138154849483 0.0060009474489323795 0.010326409393582073 0.008277506367169061\n"
     ]
    },
    {
     "name": "stderr",
     "output_type": "stream",
     "text": [
      " 20%|██        | 2/10 [03:11<12:49, 96.15s/it]"
     ]
    },
    {
     "name": "stdout",
     "output_type": "stream",
     "text": [
      "0.012195422031200493 0.012033868348255504 0.014022024703114068 0.01308026642976001\n",
      "0.0014123332761470646 0.001671735690172463 0.007118532359661137 0.0045384707793770275\n",
      "0.002985395881900162 0.007123537298849829 0.00995134038016397 0.008611854710067798\n"
     ]
    },
    {
     "name": "stderr",
     "output_type": "stream",
     "text": [
      " 30%|███       | 3/10 [04:45<11:06, 95.20s/it]"
     ]
    },
    {
     "name": "stdout",
     "output_type": "stream",
     "text": [
      "0.012844189613210375 0.011654651564770798 0.013632625301286418 0.012695690373463228\n",
      "0.0020038947444200026 0.002493351039398371 0.006882028402510992 0.004803181230510276\n",
      "0.002315256971408198 0.009939276152610782 0.009255937173833736 0.0095796240585176\n"
     ]
    },
    {
     "name": "stderr",
     "output_type": "stream",
     "text": [
      " 40%|████      | 4/10 [06:24<09:40, 96.67s/it]"
     ]
    },
    {
     "name": "stdout",
     "output_type": "stream",
     "text": [
      "0.007231441286200992 0.015419107560790764 0.011357209371716553 0.013281266408646443\n",
      "0.0014893544576428822 0.0017717115225996077 0.007067284950835889 0.004558855432197651\n",
      "0.0023518068016947866 0.005289125921896573 0.009748030208259787 0.007635917651561423\n"
     ]
    },
    {
     "name": "stderr",
     "output_type": "stream",
     "text": [
      " 50%|█████     | 5/10 [07:54<07:51, 94.28s/it]"
     ]
    },
    {
     "name": "stdout",
     "output_type": "stream",
     "text": [
      "0.013031323269575247 0.010312815531638916 0.014926652769159858 0.012741150919807834\n",
      "0.003710602570453452 0.0019249021480546489 0.007453534429301216 0.004834708611868631\n",
      "0.0035129064626046548 0.007301909028035575 0.010400436818786973 0.008932713128431047\n"
     ]
    },
    {
     "name": "stderr",
     "output_type": "stream",
     "text": [
      " 60%|██████    | 6/10 [09:37<06:28, 97.01s/it]"
     ]
    },
    {
     "name": "stdout",
     "output_type": "stream",
     "text": [
      "0.012036056802808752 0.015035859080019434 0.012922476285170629 0.013923552345888485\n",
      "0.0011352213191585662 0.0022398797097421246 0.007600638925415641 0.005061331928517658\n",
      "0.00217346108402707 0.00867252819320332 0.010224843823339533 0.009489536419590801\n"
     ]
    },
    {
     "name": "stderr",
     "output_type": "stream",
     "text": [
      " 70%|███████   | 7/10 [11:27<05:04, 101.49s/it]"
     ]
    },
    {
     "name": "stdout",
     "output_type": "stream",
     "text": [
      "0.008154894862384129 0.015945454960452812 0.012135788997682861 0.01394036761162652\n",
      "0.0015898993917284833 0.0027976686999404195 0.007305974443579015 0.005170461196592311\n",
      "0.003768008628888507 0.005297654227878535 0.009748191344354935 0.007640042183918745\n"
     ]
    },
    {
     "name": "stderr",
     "output_type": "stream",
     "text": [
      " 80%|████████  | 8/10 [13:09<03:22, 101.40s/it]"
     ]
    },
    {
     "name": "stdout",
     "output_type": "stream",
     "text": [
      "0.011143417228330902 0.013166673821345128 0.014567878775094082 0.013904150112791943\n",
      "0.001618635545401705 0.0018843647748043757 0.007923305309311738 0.005062754529808251\n",
      "0.004452718369355427 0.0062383595012837 0.010319747973959306 0.008386458697428757\n"
     ]
    },
    {
     "name": "stderr",
     "output_type": "stream",
     "text": [
      " 90%|█████████ | 9/10 [14:53<01:42, 102.28s/it]"
     ]
    },
    {
     "name": "stdout",
     "output_type": "stream",
     "text": [
      "0.013325045911047441 0.010951231170012418 0.012716637454679778 0.011880392372468924\n",
      "0.0026801108980848464 0.0030341950991465785 0.007878873139053886 0.005584025646466215\n",
      "0.0023229662032261283 0.010570521566555061 0.010104736917787144 0.01032537175141405\n"
     ]
    },
    {
     "name": "stderr",
     "output_type": "stream",
     "text": [
      "100%|██████████| 10/10 [16:32<00:00, 99.26s/it] "
     ]
    },
    {
     "name": "stdout",
     "output_type": "stream",
     "text": [
      "0.010962800242200518 0.015982571025973554 0.012291132691429604 0.014039708744634633\n"
     ]
    },
    {
     "name": "stderr",
     "output_type": "stream",
     "text": [
      "\n"
     ]
    }
   ],
   "source": [
    "gamma = 3.0\n",
    "rho = 0.0116\n",
    "ratio = 0.1\n",
    "alpha_orig = 0.01\n",
    "M = 5\n",
    "alpha_list = [0.01, 0.05, 0.1]\n",
    "u = 20\n",
    "n_trial = 10\n",
    "N = 10000\n",
    "\n",
    "pi = np.array([0.5, 0.5])\n",
    "mu1 = np.array([0.5, -0.5])\n",
    "mu2 = np.array([1.0, -1.0])\n",
    "sigma = np.array([0.1, 0.1])\n",
    "\n",
    "mse_eval_alpha =  np.zeros((n_trial, len(alpha_list)))\n",
    "mse_former_alpha = np.zeros((n_trial, len(alpha_list)))\n",
    "mse_latter_alpha = np.zeros((n_trial, len(alpha_list)))\n",
    "mse_overall_alpha =  np.zeros((n_trial, len(alpha_list)))\n",
    "\n",
    "D = 1\n",
    "\n",
    "for trial in tqdm.tqdm(range(n_trial)):\n",
    "    np.random.seed(trial)\n",
    "    X = np.zeros((2*N, D))\n",
    "    Xj_former = generate_data(N, pi, mu1, sigma)\n",
    "    X[:N, :] = Xj_former\n",
    "    #Xj_trans = np.linspace(mu1, mu2, 300).ravel() + np.random.normal(0, sigma, 300)\n",
    "    Xj_trans = np.vstack([ generate_data(1, pi, mu1 + (t-N+1)/300 * (mu2-mu1), sigma).reshape(1, -1) for t in range(N, N+300) ])\n",
    "    X[N:(N+300), :] = Xj_trans\n",
    "    Xj_latter = generate_data(N-300, pi, mu2, sigma)\n",
    "    X[N+300:, :] = Xj_latter\n",
    "    \n",
    "    for j, alpha in enumerate(alpha_list):\n",
    "        idxes_ol = np.random.choice(np.arange(2*N), int(alpha*2*N), replace=False)\n",
    "        X[idxes_ol, :] = np.random.uniform(-u, u, len(idxes_ol)).reshape(-1, 1)\n",
    "        \n",
    "        X_init = np.random.uniform(-0.5, 0.5, (10, 1))\n",
    "\n",
    "        rho = ratio * (1-alpha_orig)/(1-alpha) *np.exp(-gamma**2/M**2)\n",
    "        rho_const = np.repeat([rho], X.shape[0])\n",
    "        theta_est_sra = sra(X, X_init, theta0, rho_const, gamma)\n",
    "\n",
    "        mse_eval = np.sum((theta_est_sra[500:1000, 3:5] - mu1)**2, axis=1)\n",
    "        mse_eval_alpha[trial, j] = np.mean(mse_eval)\n",
    "        \n",
    "        mse_former = np.sum((theta_est_sra[1000:10000, 3:5] - mu1)**2, axis=1)\n",
    "        mse_former_alpha[trial, j] = np.mean(mse_former)\n",
    "        \n",
    "        mse_latter = np.sum((theta_est_sra[10000:, 3:5] - mu2)**2, axis=1)\n",
    "        mse_latter_alpha[trial, j] = np.mean(mse_latter)\n",
    "\n",
    "        mse_overall = np.hstack((mse_former, mse_latter))\n",
    "        mse_overall_alpha[trial, j] = np.mean(mse_overall)\n",
    "\n",
    "        print(np.mean(mse_eval), np.mean(mse_former), np.mean(mse_latter), np.mean(mse_overall))"
   ]
  },
  {
   "cell_type": "code",
   "execution_count": 33,
   "id": "robust-friendly",
   "metadata": {},
   "outputs": [],
   "source": [
    "with open(os.path.join(outdir, 'mse_eval.pkl'), 'wb') as f:\n",
    "    pickle.dump(mse_eval_alpha, f)\n",
    "    \n",
    "with open(os.path.join(outdir, 'mse_former.pkl'), 'wb') as f:\n",
    "    pickle.dump(mse_former_alpha, f)\n",
    "    \n",
    "with open(os.path.join(outdir, 'mse_latter.pkl'), 'wb') as f:\n",
    "    pickle.dump(mse_latter_alpha, f)\n",
    "    \n",
    "with open(os.path.join(outdir, 'mse_overall.pkl'), 'wb') as f:\n",
    "    pickle.dump(mse_overall_alpha, f)"
   ]
  },
  {
   "cell_type": "code",
   "execution_count": null,
   "id": "realistic-combine",
   "metadata": {},
   "outputs": [],
   "source": []
  }
 ],
 "metadata": {
  "kernelspec": {
   "display_name": "Python 3",
   "language": "python",
   "name": "python3"
  },
  "language_info": {
   "codemirror_mode": {
    "name": "ipython",
    "version": 3
   },
   "file_extension": ".py",
   "mimetype": "text/x-python",
   "name": "python",
   "nbconvert_exporter": "python",
   "pygments_lexer": "ipython3",
   "version": "3.7.2"
  }
 },
 "nbformat": 4,
 "nbformat_minor": 5
}
