{
 "cells": [
  {
   "cell_type": "code",
   "execution_count": 6,
   "id": "bigger-syria",
   "metadata": {},
   "outputs": [],
   "source": [
    "%matplotlib inline\n",
    "import numpy as np\n",
    "from scipy.stats import multivariate_normal, norm\n",
    "import pandas as pd\n",
    "\n",
    "import matplotlib.pyplot as plt\n",
    "import matplotlib.ticker\n",
    "from matplotlib import rc\n",
    "rc('text', usetex=True)\n",
    "\n",
    "import seaborn as sns\n",
    "\n",
    "import os\n",
    "\n",
    "from copy import deepcopy\n",
    "\n",
    "import tqdm\n",
    "\n",
    "import pickle\n",
    "\n",
    "\n",
    "from sklearn.mixture import GaussianMixture\n",
    "from sklearn.datasets import make_spd_matrix\n",
    "\n",
    "pd.options.display.max_rows = 1000"
   ]
  },
  {
   "cell_type": "code",
   "execution_count": 7,
   "id": "promotional-patrick",
   "metadata": {},
   "outputs": [],
   "source": [
    "outdir = './output/synthetic/univariate/abrupt_mixture'\n",
    "if not os.path.exists(outdir):\n",
    "    os.makedirs(outdir)"
   ]
  },
  {
   "cell_type": "code",
   "execution_count": 8,
   "id": "finnish-adrian",
   "metadata": {},
   "outputs": [],
   "source": [
    "class Theta:\n",
    "    def __init__(self, pi, mu, sigma):\n",
    "        self.pi = pi\n",
    "        self.mu = mu\n",
    "        self.sigma = sigma"
   ]
  },
  {
   "cell_type": "code",
   "execution_count": 9,
   "id": "juvenile-ensemble",
   "metadata": {},
   "outputs": [],
   "source": [
    "class SDEM(GaussianMixture):\n",
    "    def __init__(self, r, alpha, n_components=2, **kwargs):\n",
    "        super().__init__(n_components=n_components, **kwargs)\n",
    "        \n",
    "        self.r = r\n",
    "        self.alpha = alpha\n",
    "        self.t = 0\n",
    "        \n",
    "        self.means_list = []\n",
    "        self.means_bar_list = []\n",
    "        self.covariances_list = []\n",
    "        self.covariances_bar_list = []\n",
    "        \n",
    "    def fit(self, X, y=None):\n",
    "        super().fit(X, y)\n",
    "        self.means_bar = np.copy(self.means_)\n",
    "        self.covariances_bar = np.copy(self.covariances_)\n",
    "        \n",
    "    def update(self, x):\n",
    "        \"\"\"Employ SDEM algorithm.\"\"\"\n",
    "        \n",
    "        # E-step for weights\n",
    "        gamma = (1-self.alpha*self.r[t]) * self.predict_proba(x.reshape(1, -1)) + self.alpha*self.r[t]/self.weights_.shape[0]\n",
    "        gamma = gamma.ravel()\n",
    "        self.weights_ = (1-self.r[t])*self.weights_ + self.r[t]*gamma\n",
    "        \n",
    "        x = x.ravel()\n",
    "        means, means_bar, covariances, covariances_bar = [], [], [], []\n",
    "        for i, (w, m, cov) in enumerate(zip(self.weights_, self.means_bar, self.covariances_bar)):\n",
    "            \n",
    "            # E-step for mean and covariance\n",
    "            m = (1-self.r[t])*m + self.r[t]*gamma[i]*x\n",
    "            cov = (1-self.r[t])*cov + self.r[t]*gamma[i]*np.outer(x,x)\n",
    "            means_bar.append(m)\n",
    "            covariances_bar.append(cov)\n",
    "\n",
    "            # M-step for mean and covariance\n",
    "            m = m/w\n",
    "            cov = cov/w - np.outer(m, m)\n",
    "            means.append(m)\n",
    "            covariances.append(cov)\n",
    "\n",
    "        \n",
    "        self.means_ = np.vstack(means)\n",
    "        self.covariances_ = np.vstack(covariances)\n",
    "        self.means_bar = np.vstack(means_bar)\n",
    "        self.covariances_bar = np.vstack(covariances_bar)\n",
    "\n",
    "        self.means_list.append(self.means_)\n",
    "        self.covariances_list.append(self.covariances_)\n",
    "        self.means_bar_list.append(self.means_bar)\n",
    "        self.covariances_bar_list.append(self.covariances_bar)\n",
    "        \n",
    "        self.t += 1"
   ]
  },
  {
   "cell_type": "code",
   "execution_count": 10,
   "id": "detailed-tennessee",
   "metadata": {},
   "outputs": [],
   "source": [
    "def compute_tau(X, theta):\n",
    "    N = X.shape[0]\n",
    "    K = len(theta.pi)\n",
    "\n",
    "    tau = np.zeros((N, K))\n",
    "    for k in range(K):\n",
    "        d_k = norm(theta.mu[k], theta.sigma[k])\n",
    "        for i in range(N):\n",
    "            tau[i, k] = theta.pi[k] * d_k.pdf(X[i])\n",
    "    \n",
    "    tau /= np.sum(tau, axis=1, keepdims=True)\n",
    "    \n",
    "    return tau"
   ]
  },
  {
   "cell_type": "code",
   "execution_count": 11,
   "id": "toxic-executive",
   "metadata": {},
   "outputs": [],
   "source": [
    "def compute_stat(X, Z):\n",
    "    K = Z.shape[0]\n",
    "    D = X.shape[1]\n",
    "\n",
    "    s1 = np.sum(Z, axis=0)\n",
    "    s2 = X.T.dot(Z).ravel()\n",
    "    s3 = (X**2).T.dot(Z).ravel()\n",
    "    \n",
    "    return s1, s2, s3"
   ]
  },
  {
   "cell_type": "code",
   "execution_count": 12,
   "id": "higher-civilian",
   "metadata": {},
   "outputs": [],
   "source": [
    "def step_M(s, x, eps=1e-8):\n",
    "    pi = (s.s1 + eps) / (1.0 + eps * len(s.s1))\n",
    "    mu = s.s2 / (s.s1 + eps)\n",
    "    sigma = np.sqrt(s.s3 / (s.s1 + eps) - mu**2)\n",
    "    return pi, mu, sigma"
   ]
  },
  {
   "cell_type": "code",
   "execution_count": 13,
   "id": "emotional-concept",
   "metadata": {},
   "outputs": [],
   "source": [
    "class SuffStat:\n",
    "    def __init__(self):\n",
    "        pass"
   ]
  },
  {
   "cell_type": "code",
   "execution_count": 14,
   "id": "instant-father",
   "metadata": {},
   "outputs": [],
   "source": [
    "class SuffStatGMM(SuffStat):\n",
    "    def __init__(self, K, D, seed=0):\n",
    "        super().__init__()\n",
    "        np.random.seed(seed)\n",
    "        self.s1 = np.random.random(K)\n",
    "        self.s2 = np.random.random(K)\n",
    "        self.s3 = np.random.random(K)"
   ]
  },
  {
   "cell_type": "code",
   "execution_count": 15,
   "id": "recorded-basket",
   "metadata": {},
   "outputs": [],
   "source": [
    "def sra(X, theta0, rho, gamma, start=50):\n",
    "    K = len(theta0.mu)\n",
    "    N = X.shape[0]\n",
    "    \n",
    "    theta_est = np.zeros((N, 3*K+1))\n",
    "    theta = deepcopy(theta0)\n",
    "    \n",
    "    s = SuffStatGMM(len(theta0.pi), 1)\n",
    "    \n",
    "    # initialization\n",
    "    tau = compute_tau(X[:10, :], theta)\n",
    "    s.s1[:], s.s2[:], s.s3[:] = compute_stat(X[:10, :], tau)\n",
    "    \n",
    "    inds = np.arange(N)\n",
    "    \n",
    "    for n in range(N):\n",
    "        ind_n = inds[n]\n",
    "        \n",
    "        tau_indiv_new = compute_tau(X[ind_n, :], theta).ravel()\n",
    "        s2_indiv_new = X[ind_n, :] * tau_indiv_new\n",
    "        s3_indiv_new = X[ind_n, :]**2 * tau_indiv_new\n",
    "\n",
    "        if ( np.any(np.isnan(tau_indiv_new))  | ((np.linalg.norm(s2_indiv_new - s.s2) >= gamma) & (n >= start)) ):\n",
    "            theta_est[n, :] = np.hstack((n, theta.pi, theta.mu, theta.sigma))\n",
    "            continue\n",
    "            \n",
    "        # update the statistics\n",
    "        s.s1 += rho[n] * (tau_indiv_new - s.s1)\n",
    "        s.s2 += rho[n] * (s2_indiv_new - s.s2)\n",
    "        s.s3 += rho[n] * (s3_indiv_new - s.s3)\n",
    "                \n",
    "        # M-step\n",
    "        theta.pi[:], theta.mu[:], theta.sigma[:] = step_M(s, X[ind_n, :])\n",
    "        theta_est[n, :] = np.hstack((n, theta.pi, theta.mu, theta.sigma))\n",
    "\n",
    "    return theta_est"
   ]
  },
  {
   "cell_type": "code",
   "execution_count": 16,
   "id": "elder-franklin",
   "metadata": {},
   "outputs": [],
   "source": [
    "def generate_data(N, pi, mu, sigma):\n",
    "    \n",
    "    z_list = np.random.choice(np.arange(len(pi)), N, replace=True)\n",
    "    \n",
    "    X = np.zeros((N, 1))\n",
    "    for i, z in enumerate(z_list):\n",
    "        X_i = np.random.normal(mu[z], sigma[z])\n",
    "        X[i, :] = X_i\n",
    "    \n",
    "    return X"
   ]
  },
  {
   "cell_type": "code",
   "execution_count": 17,
   "id": "found-cargo",
   "metadata": {},
   "outputs": [],
   "source": [
    "def generate_data_abrupt_single(N, \n",
    "                                pi=np.array([1.0]), \n",
    "                                mu1=np.array([0.5]), \n",
    "                                mu2=np.array([1.0]), \n",
    "                                sigma=np.array([1.0]), \n",
    "                                alpha=0.01):\n",
    "    X = np.zeros((2*N, 1))\n",
    "    Xj_former = generate_data(N, pi, mu1, sigma)\n",
    "    X[:N, 0] = Xj_former.ravel()\n",
    "    Xj_latter = generate_data(N, pi, mu2, sigma)\n",
    "    X[N:, 0] = Xj_latter.ravel()\n",
    "\n",
    "    idxes_ol = np.random.choice(np.arange(2*N), int(alpha*2*N), replace=False)\n",
    "    X[idxes_ol, :] = np.random.uniform(-5, 5, len(idxes_ol)).reshape(-1, 1)    \n",
    "    \n",
    "    return X"
   ]
  },
  {
   "cell_type": "code",
   "execution_count": 18,
   "id": "demonstrated-profession",
   "metadata": {},
   "outputs": [],
   "source": [
    "def generate_data_abrupt_mixture(N, \n",
    "                                 pi=np.array([0.5, 0.5]),\n",
    "                                 mu1=np.array([0.5, -0.5]),\n",
    "                                 mu2=np.array([1.0, -1.0]),\n",
    "                                 sigma=np.array([0.1, 0.1]),\n",
    "                                 alpha=0.01):\n",
    "    X = np.zeros((2*N, 1))\n",
    "    Xj_former = generate_data(N, pi, mu1, sigma)\n",
    "    X[:N, 0] = Xj_former.ravel()\n",
    "    Xj_latter = generate_data(N, pi, mu2, sigma)\n",
    "    X[N:, 0] = Xj_latter.ravel()\n",
    "\n",
    "    idxes_ol = np.random.choice(np.arange(2*N), int(alpha*2*N), replace=False)\n",
    "    X[idxes_ol, :] = np.random.uniform(-5, 5, len(idxes_ol)).reshape(-1, 1)    \n",
    "\n",
    "    return X"
   ]
  },
  {
   "cell_type": "code",
   "execution_count": 19,
   "id": "dynamic-framework",
   "metadata": {},
   "outputs": [],
   "source": [
    "def generate_data_gradual_single(N, \n",
    "                                 pi=np.array([1.0]), \n",
    "                                 mu1=np.array([0.5]), \n",
    "                                 mu2=np.array([1.0]), \n",
    "                                 sigma=np.array([1.0]), \n",
    "                                 alpha=0.01):\n",
    "    X = np.zeros((2*N, 1))\n",
    "    Xj_former = generate_data(N, pi, mu1, sigma)\n",
    "    X[:N, 0] = Xj_former.ravel()\n",
    "    Xj_trans = np.linspace(mu1, mu2, 300).ravel() + np.random.normal(0, sigma, 300)\n",
    "    X[N:(N+300), 0] = Xj_trans\n",
    "    Xj_latter = generate_data(N-300, pi, mu2, sigma)\n",
    "    X[N+300:, 0] = Xj_latter.ravel()\n",
    "\n",
    "    idxes_ol = np.random.choice(np.arange(2*N), int(alpha*2*N), replace=False)\n",
    "    X[idxes_ol, :] = np.random.uniform(-5, 5, len(idxes_ol)).reshape(-1, 1)    \n",
    "    \n",
    "    return X"
   ]
  },
  {
   "cell_type": "code",
   "execution_count": 20,
   "id": "legitimate-omega",
   "metadata": {},
   "outputs": [],
   "source": [
    "def generate_data_gradual_mixture(N, \n",
    "                                  pi=np.array([0.5, 0.5]),\n",
    "                                  mu1=np.array([0.5, -0.5]),\n",
    "                                  mu2=np.array([1.0, -1.0]),\n",
    "                                  sigma = np.array([0.1, 0.1]),\n",
    "                                  alpha=0.01):\n",
    "    X = np.zeros((2*N, 1))\n",
    "    Xj_former = generate_data(N, pi, mu1, sigma)\n",
    "    X[:N, 0] = Xj_former.ravel()\n",
    "    Xj_trans = np.linspace(mu1, mu2, 300).ravel() + np.random.normal(0, sigma, 300)\n",
    "    X[N:(N+300), 0] = Xj_trans\n",
    "    Xj_latter = generate_data(N-300, pi, mu2, sigma)\n",
    "    X[N+300:, 0] = Xj_latter.ravel()\n",
    "\n",
    "    idxes_ol = np.random.choice(np.arange(2*N), int(alpha*2*N), replace=False)\n",
    "    X[idxes_ol, :] = np.random.uniform(-5, 5, len(idxes_ol)).reshape(-1, 1)    \n",
    "\n",
    "    return X"
   ]
  },
  {
   "cell_type": "code",
   "execution_count": null,
   "id": "systematic-aquatic",
   "metadata": {},
   "outputs": [],
   "source": []
  },
  {
   "cell_type": "code",
   "execution_count": 21,
   "id": "absolute-debate",
   "metadata": {},
   "outputs": [],
   "source": [
    "N = 10000"
   ]
  },
  {
   "cell_type": "code",
   "execution_count": 22,
   "id": "interior-preview",
   "metadata": {},
   "outputs": [],
   "source": [
    "Nsim = 1"
   ]
  },
  {
   "cell_type": "code",
   "execution_count": 23,
   "id": "impressed-minneapolis",
   "metadata": {},
   "outputs": [],
   "source": [
    "pi = np.array([0.2, 0.8])\n",
    "pi0 = pi.copy()"
   ]
  },
  {
   "cell_type": "code",
   "execution_count": 24,
   "id": "cooked-airline",
   "metadata": {},
   "outputs": [],
   "source": [
    "mean1 = 0.5\n",
    "mu1 = np.array([mean1, -mean1])\n",
    "\n",
    "mean2 = 1.0\n",
    "mu2 = np.array([mean2, -mean2])"
   ]
  },
  {
   "cell_type": "code",
   "execution_count": 25,
   "id": "remarkable-pennsylvania",
   "metadata": {},
   "outputs": [],
   "source": [
    "sigma = np.array([0.1, 0.1])\n",
    "sigma0 = np.array([0.2, 0.2])"
   ]
  },
  {
   "cell_type": "code",
   "execution_count": 26,
   "id": "christian-offering",
   "metadata": {},
   "outputs": [],
   "source": [
    "seed0 = 1"
   ]
  },
  {
   "cell_type": "code",
   "execution_count": 27,
   "id": "caring-hughes",
   "metadata": {},
   "outputs": [],
   "source": [
    "mu0 = [0.1, -0.1]"
   ]
  },
  {
   "cell_type": "code",
   "execution_count": 28,
   "id": "suitable-survey",
   "metadata": {},
   "outputs": [],
   "source": [
    "theta = Theta(pi, mu1, sigma)\n",
    "theta0 = Theta(pi0, mu0, sigma0)"
   ]
  },
  {
   "cell_type": "code",
   "execution_count": 29,
   "id": "freelance-brand",
   "metadata": {},
   "outputs": [],
   "source": [
    "seed = seed0\n",
    "np.random.seed(seed)\n",
    "X = np.zeros((2*N, 1))\n",
    "Xj_former = generate_data(N, pi, mu1, sigma)\n",
    "X[:N, 0] = Xj_former.ravel()\n",
    "Xj_latter = generate_data(N, pi, mu2, sigma)\n",
    "X[N:, 0] = Xj_latter.ravel()\n",
    "\n",
    "idxes_ol = np.random.choice(np.arange(N), int(0.01*N))\n",
    "X[idxes_ol, :] = np.random.uniform(-5, 5, len(idxes_ol)).reshape(-1, 1)"
   ]
  },
  {
   "cell_type": "markdown",
   "id": "simplified-humanity",
   "metadata": {},
   "source": [
    "# choosing optimal rho"
   ]
  },
  {
   "cell_type": "code",
   "execution_count": 30,
   "id": "dental-instruction",
   "metadata": {},
   "outputs": [],
   "source": [
    "ratio_list = [0.05, 0.1, 0.5]\n",
    "M_list = [1.0, 5.0, 10.0]\n",
    "n_trial = 10\n",
    "u = 20\n",
    "alpha = 0.01"
   ]
  },
  {
   "cell_type": "code",
   "execution_count": null,
   "id": "experimental-robert",
   "metadata": {},
   "outputs": [
    {
     "name": "stderr",
     "output_type": "stream",
     "text": [
      "  0%|          | 0/10 [00:00<?, ?it/s]/Users/shi-fukushima/.pyenv/versions/anaconda3-5.3.1/lib/python3.7/site-packages/ipykernel_launcher.py:11: RuntimeWarning: invalid value encountered in true_divide\n",
      "  # This is added back by InteractiveShellApp.init_path()\n"
     ]
    },
    {
     "name": "stdout",
     "output_type": "stream",
     "text": [
      "gamma: 1\n",
      "\tratio: 0.05\n",
      "\t\tM: 1.0\n",
      "\t\t\trho: 0.009196986029286059\n",
      "\t\t\t\tmse: 0.027907578678442513 0.7245561410260891 0.39456471675615123\n",
      "\t\tM: 5.0\n",
      "\t\t\trho: 0.02401973597880808\n",
      "\t\t\t\tmse: 0.00043271915195634077 0.001575684855864951 0.0010342800487503463\n",
      "\t\tM: 10.0\n",
      "\t\t\trho: 0.024751245843729203\n",
      "\t\t\t\tmse: 0.0004462005925503985 0.0015587095850996358 0.0010317316412605236\n",
      "\tratio: 0.1\n",
      "\t\tM: 1.0\n",
      "\t\t\trho: 0.018393972058572117\n",
      "\t\t\t\tmse: 0.0022440253488947306 0.0017832242183856459 0.0020014984381004756\n",
      "\t\tM: 5.0\n",
      "\t\t\trho: 0.04803947195761616\n",
      "\t\t\t\tmse: 0.0008908513343960751 0.9206440817257647 0.48497149890880076\n",
      "\t\tM: 10.0\n",
      "\t\t\trho: 0.049502491687458405\n",
      "\t\t\t\tmse: 0.0009203454778150664 0.9227599580438512 0.4860990889336237\n",
      "\tratio: 0.5\n",
      "\t\tM: 1.0\n",
      "\t\t\trho: 0.09196986029286058\n",
      "\t\t\t\tmse: 0.0018273787677678345 0.9554608714798613 0.5037397433530802\n",
      "\t\tM: 5.0\n",
      "\t\t\trho: 0.2401973597880808\n"
     ]
    },
    {
     "name": "stderr",
     "output_type": "stream",
     "text": [
      "/Users/shi-fukushima/.pyenv/versions/anaconda3-5.3.1/lib/python3.7/site-packages/scipy/stats/_continuous_distns.py:243: RuntimeWarning: overflow encountered in square\n",
      "  return np.exp(-x**2/2.0) / _norm_pdf_C\n"
     ]
    },
    {
     "name": "stdout",
     "output_type": "stream",
     "text": [
      "\t\t\t\tmse: 0.26603789766628516 4.9824601939844815 2.7483654220442837\n",
      "\t\tM: 10.0\n",
      "\t\t\trho: 0.24751245843729203\n",
      "\t\t\t\tmse: 0.28361769054884756 4.970908758589165 2.750612989517436\n",
      "gamma: 3\n",
      "\tratio: 0.05\n",
      "\t\tM: 1.0\n",
      "\t\t\trho: 1.028415034055663e-06\n",
      "\t\t\t\tmse: 0.038395640910420754 0.7759550142911856 0.42658478479503387\n",
      "\t\tM: 5.0\n",
      "\t\t\trho: 0.005813969383925258\n",
      "\t\t\t\tmse: 0.00015203757138437465 0.0044937146372529425 0.0024371307639467787\n",
      "\t\tM: 10.0\n",
      "\t\t\trho: 0.007616093210593569\n",
      "\t\t\t\tmse: 0.00022143909787111833 0.003518122910415823 0.0019565358413156995\n",
      "\tratio: 0.1\n",
      "\t\tM: 1.0\n",
      "\t\t\trho: 2.056830068111326e-06\n"
     ]
    }
   ],
   "source": [
    "results_optrho = []\n",
    "for trial in tqdm.tqdm(range(n_trial)):\n",
    "    np.random.seed(trial)\n",
    "    X = np.zeros((2*N, 1))\n",
    "    Xj_former = generate_data(N, pi, mu1, sigma)\n",
    "    X[:N, 0] = Xj_former.ravel()\n",
    "    Xj_latter = generate_data(N, pi, mu2, sigma)\n",
    "    X[N:, 0] = Xj_latter.ravel()\n",
    "    \n",
    "    idxes_ol = np.random.choice(np.arange(2*N), int(alpha*2*N), replace=False)\n",
    "    X[idxes_ol, :] = np.random.uniform(-u, u, len(idxes_ol)).reshape(-1, 1)\n",
    "\n",
    "    for gamma in [1, 3, 5, 10, 15]:\n",
    "        print('gamma:', gamma)\n",
    "        for ratio in ratio_list:\n",
    "            print('\\tratio:', ratio)\n",
    "            for M in M_list:\n",
    "                print('\\t\\tM:', M)\n",
    "                rho = ratio * np.exp(-gamma**2/M**2) / (2.0*gamma)\n",
    "                print('\\t\\t\\trho:', rho)\n",
    "                rho_const = np.repeat(rho, X.shape[0])\n",
    "                theta_est_sra = sra(X, theta0, rho_const, gamma)\n",
    "                mse_pc = np.mean(np.sum((theta_est_sra[500:1000, 3:5] - mu1)**2, axis=1))\n",
    "                mse_former = np.sum((theta_est_sra[1000:10000, 3:5] - mu1)**2, axis=1)\n",
    "                mse_latter = np.sum((theta_est_sra[10000:, 3:5] - mu2)**2, axis=1)\n",
    "                mse_overall = np.hstack((mse_former, mse_latter))\n",
    "                print('\\t\\t\\t\\tmse:', np.mean(mse_former), np.mean(mse_latter), np.mean(mse_overall))\n",
    "                results_optrho.append([gamma, ratio, M, rho, mse_pc, np.mean(mse_former), np.mean(mse_latter), np.mean(mse_overall)])"
   ]
  },
  {
   "cell_type": "code",
   "execution_count": null,
   "id": "scientific-dylan",
   "metadata": {},
   "outputs": [],
   "source": [
    "results_optrho_df = pd.DataFrame(results_optrho, columns=['gamma', 'ratio', 'M', 'rho', 'pc', 'former', 'latter', 'overall'])"
   ]
  },
  {
   "cell_type": "code",
   "execution_count": null,
   "id": "changing-amendment",
   "metadata": {},
   "outputs": [],
   "source": [
    "results_optrho_df"
   ]
  },
  {
   "cell_type": "code",
   "execution_count": null,
   "id": "eligible-academy",
   "metadata": {},
   "outputs": [],
   "source": [
    "results_optrho_df.groupby(['gamma', 'ratio', 'M', 'rho'])['pc'].agg([np.mean, np.std])"
   ]
  },
  {
   "cell_type": "code",
   "execution_count": null,
   "id": "elementary-weekend",
   "metadata": {},
   "outputs": [],
   "source": [
    "with open(os.path.join(outdir, 'results_optrho_df.pkl'), 'wb') as f:\n",
    "    pickle.dump(results_optrho_df, f)"
   ]
  },
  {
   "cell_type": "code",
   "execution_count": null,
   "id": "timely-hearts",
   "metadata": {},
   "outputs": [],
   "source": [
    "results_best = results_optrho_df.loc[\n",
    "    ((results_optrho_df['gamma'] == 1) & (results_optrho_df['ratio'] == 0.05) & (results_optrho_df['M'] == 5.0) ) | \n",
    "    ((results_optrho_df['gamma'] == 3) & (results_optrho_df['ratio'] == 0.1) & (results_optrho_df['M'] == 5.0) ) |\n",
    "    ((results_optrho_df['gamma'] == 5) & (results_optrho_df['ratio'] == 0.5) & (results_optrho_df['M'] == 5.0) ) | \n",
    "    ((results_optrho_df['gamma'] == 10) & (results_optrho_df['ratio'] == 0.5) & (results_optrho_df['M'] == 10.0) ) |\n",
    "    ((results_optrho_df['gamma'] == 15) & (results_optrho_df['ratio'] == 0.5) & (results_optrho_df['M'] == 10.0) ) \n",
    "]"
   ]
  },
  {
   "cell_type": "code",
   "execution_count": null,
   "id": "skilled-emergency",
   "metadata": {},
   "outputs": [],
   "source": [
    "fig, axes = plt.subplots(5, 1, sharex=True, figsize=(6, 7), dpi=200)\n",
    "\n",
    "sns.pointplot(data=results_best, x='gamma', y='rho', ax=axes[0])\n",
    "sns.pointplot(data=results_best, x='gamma', y='pc', ax=axes[1])\n",
    "sns.pointplot(data=results_best, x='gamma', y='former', ax=axes[2])\n",
    "sns.pointplot(data=results_best, x='gamma', y='latter', ax=axes[3])\n",
    "sns.pointplot(data=results_best, x='gamma', y='overall', ax=axes[4])\n",
    "\n",
    "axes[0].set_title('(a)', fontsize=12)\n",
    "axes[0].set_xlabel(r'$\\gamma$', fontsize=12)\n",
    "axes[0].set_ylabel(r'$\\rho$', fontsize=12)\n",
    "axes[0].grid()\n",
    "\n",
    "axes[1].set_title('(b)', fontsize=12)\n",
    "axes[1].set_yscale('log')\n",
    "axes[1].set_xlabel(r'$\\gamma$', fontsize=12)\n",
    "axes[1].set_ylabel(r'$S_{\\mathrm{eval}}$', fontsize=12)\n",
    "axes[1].grid()\n",
    "\n",
    "axes[2].set_title('(c)', fontsize=12)\n",
    "axes[2].set_yscale('log')\n",
    "axes[2].set_xlabel(r'$\\gamma$', fontsize=12)\n",
    "axes[2].set_ylabel(r'$S_{\\mathrm{bc}}$', fontsize=12)\n",
    "axes[2].grid()\n",
    "\n",
    "axes[3].set_title('(d)', fontsize=12)\n",
    "axes[3].set_yscale('log')\n",
    "axes[3].set_xlabel(r'$\\gamma$', fontsize=12)\n",
    "axes[3].set_ylabel(r'$S_{\\mathrm{ac}}$', fontsize=12)\n",
    "axes[3].grid()\n",
    "\n",
    "axes[4].set_title('(e)', fontsize=12)\n",
    "axes[4].set_yscale('log')\n",
    "axes[4].set_xlabel(r'$\\gamma$', fontsize=12)\n",
    "axes[4].set_ylabel(r'$S_{\\mathrm{tot}}$', fontsize=12)\n",
    "\n",
    "\n",
    "plt.rc('font', family='serif')\n",
    "axes[4].set_xticklabels([1, 3, 5, 10, 15])\n",
    "\n",
    "axes[4].grid()\n",
    "\n",
    "\n",
    "plt.close(2)\n",
    "plt.close(3)\n",
    "plt.close(4)\n",
    "plt.close(5)\n",
    "plt.close(6)\n",
    "\n",
    "plt.tight_layout()\n",
    "plt.savefig(os.path.join(outdir, 'gamma_rho_tradeoff.pdf'), dpi=200, bbox_inches='tight')\n",
    "plt.savefig(os.path.join(outdir, 'gamma_rho_tradeoff.eps'), dpi=200, bbox_inches='tight')\n",
    "plt.savefig(os.path.join(outdir, 'gamma_rho_tradeoff.png'), dpi=200, bbox_inches='tight')"
   ]
  },
  {
   "cell_type": "code",
   "execution_count": null,
   "id": "southwest-light",
   "metadata": {},
   "outputs": [],
   "source": []
  }
 ],
 "metadata": {
  "kernelspec": {
   "display_name": "RobustnessAdaptivity",
   "language": "python",
   "name": "robustnessadaptivity"
  },
  "language_info": {
   "codemirror_mode": {
    "name": "ipython",
    "version": 3
   },
   "file_extension": ".py",
   "mimetype": "text/x-python",
   "name": "python",
   "nbconvert_exporter": "python",
   "pygments_lexer": "ipython3",
   "version": "3.7.2"
  }
 },
 "nbformat": 4,
 "nbformat_minor": 5
}
