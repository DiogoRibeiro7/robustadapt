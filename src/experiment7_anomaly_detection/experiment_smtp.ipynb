{
 "cells": [
  {
   "cell_type": "code",
   "execution_count": 75,
   "metadata": {},
   "outputs": [],
   "source": [
    "%matplotlib inline\n",
    "import numpy as np\n",
    "from scipy.stats import multivariate_normal, norm\n",
    "import pandas as pd\n",
    "\n",
    "import matplotlib.pyplot as plt\n",
    "from matplotlib import rc\n",
    "rc('text', usetex=True)\n",
    "\n",
    "import seaborn as sns\n",
    "\n",
    "from scipy.stats import multivariate_normal, norm, ks_2samp\n",
    "\n",
    "from copy import deepcopy\n",
    "\n",
    "import h5py\n",
    "\n",
    "import tqdm\n",
    "\n",
    "import os"
   ]
  },
  {
   "cell_type": "code",
   "execution_count": 59,
   "metadata": {},
   "outputs": [],
   "source": [
    "from sklearn.mixture import GaussianMixture\n",
    "from sklearn.datasets import make_spd_matrix\n",
    "from sklearn.metrics import roc_curve, auc\n",
    "\n",
    "from skmultiflow.drift_detection.adwin import ADWIN\n",
    "from skmultiflow.drift_detection.ddm import DDM\n",
    "from skmultiflow.drift_detection.eddm import EDDM\n",
    "from skmultiflow.drift_detection.hddm_a import HDDM_A\n",
    "from skmultiflow.drift_detection.hddm_w import HDDM_W\n",
    "from skmultiflow.drift_detection.kswin import KSWIN\n",
    "from skmultiflow.drift_detection.page_hinkley import PageHinkley"
   ]
  },
  {
   "cell_type": "code",
   "execution_count": 2,
   "metadata": {},
   "outputs": [],
   "source": [
    "class Theta:\n",
    "    def __init__(self, pi, mu, sigma):\n",
    "        self.pi = pi\n",
    "        self.mu = mu\n",
    "        self.sigma = sigma"
   ]
  },
  {
   "cell_type": "code",
   "execution_count": 3,
   "metadata": {},
   "outputs": [],
   "source": [
    "from sklearn.mixture import GaussianMixture\n",
    "import numpy as np\n",
    "\n",
    "\n",
    "class SDEM(GaussianMixture):\n",
    "    def __init__(self, r, alpha, n_components=2, **kwargs):\n",
    "        super().__init__(n_components=n_components, **kwargs)\n",
    "        \n",
    "        self.r = r\n",
    "        self.alpha = alpha\n",
    "        self.t = 0\n",
    "        \n",
    "        self.pi_list = []\n",
    "        self.pi_bar_list = []\n",
    "        self.means_list = []\n",
    "        self.means_bar_list = []\n",
    "        self.covariances_list = []\n",
    "        self.covariances_bar_list = []\n",
    "        \n",
    "    def fit(self, X, y=None):\n",
    "        super().fit(X, y)\n",
    "        self.means_bar = np.copy(self.means_) # \\overline{\\mu}_i^{(t)} in the paper\n",
    "        self.covariances_bar = np.copy(self.covariances_) # \\overline{\\Lambda}_i^{(t)} in the paper\n",
    "        \n",
    "    def update(self, x):\n",
    "        \"\"\"Employ SDEM algorithm.\"\"\"\n",
    "        \n",
    "        # E-step for weights\n",
    "        gamma = (1-self.alpha*self.r[self.t]) * self.predict_proba(x.reshape(1, -1)) + self.alpha*self.r[self.t]/self.weights_.shape[0] # \\overline{\\gamma}_i^{(t)} in the paper\n",
    "        #gamma = gamma.flatten()\n",
    "        gamma = gamma.ravel()\n",
    "        #self.weights_ = (1-self.r)*self.weights_ + self.r*gamma # \\overline{\\c}_i^{(t)} in the paper\n",
    "        self.weights_ = (1-self.r[self.t])*self.weights_ + self.r[self.t]*gamma # \\overline{\\c}_i^{(t)} in the paper\n",
    "        \n",
    "        #x = x.flatten()\n",
    "        x = x.ravel()\n",
    "        means, means_bar, covariances, covariances_bar = [], [], [], []\n",
    "        for i, (w, m, cov) in enumerate(zip(self.weights_, self.means_bar, self.covariances_bar)):\n",
    "            # E-step for mean and covariance\n",
    "            #m = (1-self.r)*m + self.r*gamma[i]*x\n",
    "            m = (1-self.r[self.t])*m + self.r[self.t]*gamma[i]*x\n",
    "            #cov = (1-self.r)*cov + self.r*gamma[i]*np.outer(x,x)\n",
    "            cov = (1-self.r[self.t])*cov + self.r[self.t]*gamma[i]*np.outer(x,x)\n",
    "            means_bar.append(m)\n",
    "            covariances_bar.append(cov)\n",
    "\n",
    "            # M-step for mean and covariance\n",
    "            m = m/w\n",
    "            #print('i:', i, cov)\n",
    "            cov = cov/w - np.outer(m, m)\n",
    "            #print('i:', i, cov)\n",
    "            means.append(m)\n",
    "            covariances.append(cov)\n",
    "\n",
    "        self.means_ = np.vstack(means) # \\mu_i^{(t)} in the paper\n",
    "        #self.covariances_ = np.vstack(covariances) # \\Lambda_i^{(t)} in the paper\n",
    "        #print(np.array(covariances))\n",
    "        self.covariances_ = np.stack(covariances)\n",
    "        self.means_bar = np.stack(means_bar)\n",
    "        self.covariances_bar = np.stack(covariances_bar)\n",
    "        #print('self.means_:', self.means_.shape)\n",
    "        #print('self.covariances_:', self.covariances_.shape)\n",
    "        #print('self.means_bar:', self.means_bar.shape)\n",
    "        #print('self.covariances_bar:', self.covariances_bar.shape)\n",
    "        \n",
    "        #print('self.covariances_:', self.covariances_.shape)\n",
    "        #print('np.stack(self.covariances_):', np.stack(self.covariances_).shape)\n",
    "        self.pi_list.append(self.weights_)\n",
    "        self.means_list.append(self.means_)\n",
    "        self.covariances_list.append(self.covariances_)\n",
    "        self.means_bar_list.append(self.means_bar)\n",
    "        self.covariances_bar_list.append(self.covariances_bar)\n",
    "        \n",
    "        self.t += 1"
   ]
  },
  {
   "cell_type": "code",
   "execution_count": 4,
   "metadata": {},
   "outputs": [],
   "source": [
    "# def compute_tau(X, theta):\n",
    "#     N = X.shape[0]\n",
    "#     K = len(theta.pi)\n",
    "\n",
    "#     tau = np.zeros((N, K))\n",
    "#     for k in range(K):\n",
    "#         d_k = multivariate_normal(theta.mu[k], theta.sigma[k], allow_singular=True)\n",
    "#         for i in range(N):\n",
    "#             tau[i, k] = theta.pi[k] * d_k.pdf(X[i, :])\n",
    "#     tau /= np.sum(tau, axis=1, keepdims=True)\n",
    "    \n",
    "#     return tau"
   ]
  },
  {
   "cell_type": "code",
   "execution_count": 5,
   "metadata": {},
   "outputs": [],
   "source": [
    "def compute_tau(X, theta):\n",
    "    #if len(X.shape) == 1:\n",
    "    #    X = X.reshape(1, -1)\n",
    "    N = X.shape[0]\n",
    "    K = len(theta.pi)\n",
    "\n",
    "    tau = np.zeros((N, K))\n",
    "    for k in range(K):\n",
    "        d_k = multivariate_normal(theta.mu[k], theta.sigma[k], allow_singular=True)\n",
    "        for i in range(N):\n",
    "            #tau[i, k] = theta.pi[k] * d_k.pdf(X[i, :])\n",
    "            tau[i, k] = theta.pi[k] * d_k.pdf(X[i])\n",
    "    #print('theta.mu:', theta.mu)\n",
    "    #print('theta.sigma:', theta.sigma)\n",
    "    #print('X:', X)\n",
    "    tau /= np.sum(tau, axis=1, keepdims=True)\n",
    "    \n",
    "    return tau"
   ]
  },
  {
   "cell_type": "code",
   "execution_count": 6,
   "metadata": {},
   "outputs": [],
   "source": [
    "def compute_stat(X, Z):\n",
    "    K = Z.shape[0]\n",
    "    D = X.shape[1]\n",
    "\n",
    "    s1 = np.sum(Z, axis=0).reshape(-1, 1)\n",
    "    s2 = X.T.dot(Z).T\n",
    "    #s3 = np.einsum('ij,nk->kij', X.T.dot(X), Z)\n",
    "    s3 = np.einsum('ijk,il->ljk' , np.array([np.outer(X[i, :], X[i, :]) for i in range(X.shape[0])]), Z)\n",
    "    \n",
    "    return s1, s2, s3"
   ]
  },
  {
   "cell_type": "code",
   "execution_count": 7,
   "metadata": {},
   "outputs": [],
   "source": [
    "def step_M(s, x, eps=1e-8):\n",
    "    pi = (s.s1 + eps) / (1.0 + eps * len(s.s1))\n",
    "    mu = s.s2 / (s.s1 + eps)\n",
    "    sigma = s.s3 / (s.s1 + eps).reshape(len(s.s1), 1, 1) - np.einsum('ij,ik->ijk', mu, mu)\n",
    "    #sigma = s.s3 / (s.s1 + eps).reshape(len(s.s1), 1, 1) - np.array([np.outer(mu[i, :], mu[i, :]) for i in range(mu.shape[0])])\n",
    "    \n",
    "    #sigma = s.s3 / (s.s1 + eps).reshape(len(s.s1), 1, 1) - np.einsum('ij,ik->ijk', mu, mu)\n",
    "    #sigma = s.s3 / (s.s1 + eps).reshape(len(s.s1), 1, 1) - np.einsum('ijk,il->ijk', np.einsum('ij,ik->ijk', mu, mu), s.s1)\n",
    "    #sigma = s.s3 / (s.s1 + eps).reshape(len(s.s1), 1, 1) - np.einsum('ij,ik->ijk', mu, mu)\n",
    "    return pi, mu, sigma\n",
    "    #return pi, mu"
   ]
  },
  {
   "cell_type": "code",
   "execution_count": 8,
   "metadata": {},
   "outputs": [],
   "source": [
    "class SuffStat:\n",
    "    def __init__(self):\n",
    "        pass"
   ]
  },
  {
   "cell_type": "code",
   "execution_count": 9,
   "metadata": {},
   "outputs": [],
   "source": [
    "class SuffStatGMM(SuffStat):\n",
    "    def __init__(self, K, D, seed=0):\n",
    "        super().__init__()\n",
    "        np.random.seed(seed)\n",
    "        self.s1 = np.random.dirichlet([1.0]*K).reshape(-1, 1)\n",
    "        self.s2 = np.random.random((K, D))\n",
    "        self.s3 = np.random.random((K, D, D))\n",
    "        #self.s3 = np.array([make_spd_matrix(D) for _ in range(K)])"
   ]
  },
  {
   "cell_type": "code",
   "execution_count": 10,
   "metadata": {},
   "outputs": [],
   "source": [
    "# def sem(X, theta0, rho):\n",
    "#     K = len(theta0.mu)\n",
    "#     N = X.shape[0]\n",
    "#     D = X.shape[1]\n",
    "    \n",
    "#     #theta_est = np.zeros((N+1, 3*K+1))\n",
    "#     #theta_est[1, :] = np.hstack((0, theta0.pi, theta0.mu, theta0.sigma))\n",
    "#     theta = deepcopy(theta0)\n",
    "#     pi_est = np.zeros((N, K, 1))\n",
    "#     mu_est = np.zeros((N, K, D))\n",
    "#     sigma_est = np.zeros((N, K, D, D))\n",
    "    \n",
    "#     s = SuffStatGMM(len(theta0.pi), 1)\n",
    "    \n",
    "#     # initialization\n",
    "#     tau = compute_tau(X[:10, :], theta)\n",
    "#     s.s1, s.s2, s.s3 = compute_stat(X[:10, :], tau)\n",
    "    \n",
    "#     inds = np.arange(N)\n",
    "    \n",
    "#     for n in tqdm.tqdm(range(11, N)):\n",
    "#         ind_n = inds[n]\n",
    "        \n",
    "#         tau_indiv_new = compute_tau(X[ind_n, :], theta).ravel()\n",
    "#         s2_indiv_new = X[ind_n, :] * tau_indiv_new\n",
    "#         s3_indiv_new = X[ind_n, :]**2 * tau_indiv_new\n",
    "        \n",
    "#         if np.any(np.isnan(tau_indiv_new)):\n",
    "#             pi_est[n, :] = theta.pi.copy()\n",
    "#             mu_est[n, :, :] = theta.mu.copy()\n",
    "#             sigma_est[n, :, :, :] = theta.sigma.copy()\n",
    "#             continue\n",
    "        \n",
    "#         #if ( np.any(np.isnan(tau_indiv_new)) | (np.linalg.norm(s_indiv_new - s.s2) >= gamma) ):\n",
    "#         #    theta_est[k+1, :] = np.hstack((k, theta0.pi, theta.mu, theta0.sigma))\n",
    "#         #    continue\n",
    "            \n",
    "#         # update the statistics\n",
    "#         s.s1 += rho[n] * (tau_indiv_new - s.s1)\n",
    "#         s.s2 += rho[n] * (s2_indiv_new - s.s2)\n",
    "#         s.s3 += rho[n] * (s3_indiv_new - s.s3)\n",
    "        \n",
    "#         # M-step\n",
    "#         theta.pi[:], theta.mu[:], theta.sigma[:] = step_M(s, 1)\n",
    "#         #theta_est[n+1, :] = np.hstack((n, theta.pi, theta.mu, theta.sigma))\n",
    "#         pi_est[n, :] = theta.pi.copy()\n",
    "#         mu_est[n, :, :] = theta.mu.copy()\n",
    "#         sigma_est[n, :, :, :] = theta.sigma.copy()\n",
    "        \n",
    "#     return pi_est, mu_est, sigma_est"
   ]
  },
  {
   "cell_type": "code",
   "execution_count": 11,
   "metadata": {},
   "outputs": [],
   "source": [
    "def sem(X, theta0, rho):\n",
    "    K = len(theta0.mu)\n",
    "    N = X.shape[0]\n",
    "    D = X.shape[1]\n",
    "    \n",
    "    #theta_est = np.zeros((N+1, 3*K+1))\n",
    "    #theta_est[1, :] = np.hstack((0, theta0.pi, theta0.mu, theta0.sigma))\n",
    "    theta = deepcopy(theta0)\n",
    "    pi_est = np.zeros((N, K, 1))\n",
    "    mu_est = np.zeros((N, K, D))\n",
    "    sigma_est = np.zeros((N, K, D, D))\n",
    "    \n",
    "    s = SuffStatGMM(K, D)\n",
    "    \n",
    "    # initialization\n",
    "    tau = compute_tau(X[:10, :], theta)\n",
    "    s.s1[:], s.s2[:], s.s3[:] = compute_stat(X[:10, :], tau)\n",
    "    \n",
    "    inds = np.arange(N)\n",
    "    \n",
    "    for n in tqdm.tqdm(range(N)):\n",
    "        ind_n = inds[n]\n",
    "        \n",
    "        #print('n =', n, ':', theta.pi)\n",
    "        #print(X[ind_n, :])\n",
    "        #tau_indiv_new = compute_tau(X[ind_n, :], theta).ravel()\n",
    "        tau_indiv_new = compute_tau(X[ind_n, :].reshape(1, -1), theta).reshape(-1, 1)\n",
    "        s2_indiv_new = np.outer(tau_indiv_new, X[ind_n, :])\n",
    "        s3_indiv_new = np.einsum('k,ij->kij', tau_indiv_new.ravel(), np.outer(X[ind_n, :], X[ind_n, :]))\n",
    "        \n",
    "        if np.any(np.isnan(tau_indiv_new)):\n",
    "            #theta_est[n, :] = np.hstack((n, theta.pi, theta.mu, theta.sigma))\n",
    "            pi_est[n, :] = theta.pi.copy()\n",
    "            mu_est[n, :, :] = theta.mu.copy()\n",
    "            sigma_est[n, :, :, :] = theta.sigma.copy()\n",
    "            continue\n",
    "        \n",
    "        #if ( np.any(np.isnan(tau_indiv_new)) | (np.linalg.norm(s_indiv_new - s.s2) >= gamma) ):\n",
    "        #    theta_est[k+1, :] = np.hstack((k, theta0.pi, theta.mu, theta0.sigma))\n",
    "        #    continue\n",
    "        #print(tau_indiv_new)   \n",
    "        # update the statistics\n",
    "        s.s1 += rho[n] * (tau_indiv_new - s.s1)\n",
    "        s.s2 += rho[n] * (s2_indiv_new - s.s2)\n",
    "        s.s3 += rho[n] * (s3_indiv_new - s.s3)\n",
    "        \n",
    "        # M-step\n",
    "        theta.pi[:], theta.mu[:], theta.sigma[:] = step_M(s, 1)\n",
    "        #theta_est[n+1, :] = np.hstack((n, theta.pi, theta.mu, theta.sigma))\n",
    "        pi_est[n, :] = theta.pi.copy()\n",
    "        mu_est[n, :, :] = theta.mu.copy()\n",
    "        sigma_est[n, :, :, :] = theta.sigma.copy()\n",
    "        \n",
    "    #return theta_est\n",
    "    return pi_est, mu_est, sigma_est"
   ]
  },
  {
   "cell_type": "code",
   "execution_count": 12,
   "metadata": {},
   "outputs": [],
   "source": [
    "def sra(X, theta0, rho, gamma, t_start=50):\n",
    "    K = len(theta0.mu)\n",
    "    N = X.shape[0]\n",
    "    D = X.shape[1]\n",
    "    \n",
    "    #theta_est = np.zeros((N+1, 3*K+1))\n",
    "    #theta_est[0, :] = np.hstack((0, theta0.pi, theta0.mu, theta0.sigma))\n",
    "    pi_est = np.zeros((N, K, 1))\n",
    "    mu_est = np.zeros((N, K, D))\n",
    "    sigma_est = np.zeros((N, K, D, D))\n",
    "    theta = deepcopy(theta0)\n",
    "    \n",
    "    s = SuffStatGMM(K, D)\n",
    "    \n",
    "    # initialization\n",
    "    tau = compute_tau(X[:10, :], theta)\n",
    "    #s.s1[:], s.s2[:] = compute_stat(X[:10, :], tau)\n",
    "    s.s1[:], s.s2[:], s.s3[:] = compute_stat(X[:10, :], tau)\n",
    "    \n",
    "    #s.s1[:] = theta0.pi\n",
    "    #s.s2[:] = theta0.mu\n",
    "    #s.s3[:] = theta0.sigma\n",
    "    \n",
    "    inds = np.arange(N)\n",
    "    \n",
    "    for n in tqdm.tqdm(range(N)):\n",
    "        ind_n = inds[n]\n",
    "        \n",
    "        tau_indiv_new = compute_tau(X[ind_n, :].reshape(1, -1), theta).reshape(-1, 1)\n",
    "        #print('tau_indiv_new:', tau_indiv_new)\n",
    "        s2_indiv_new = np.outer(tau_indiv_new, X[ind_n, :])\n",
    "        #print('s2_indiv_new:', s2_indiv_new)\n",
    "        #s3_indiv_new = np.outer(X[ind_n, :], X[ind_n, :]) * tau_indiv_new\n",
    "        s3_indiv_new = np.einsum('k,ij->kij', tau_indiv_new.ravel(), np.outer(X[ind_n, :], X[ind_n, :]))\n",
    "        #print('s3_indiv_new - s.s3:', s3_indiv_new - s.s3)\n",
    "        \n",
    "        #print(\"np.linalg.norm(s2_indiv_new - s.s2) >= gamma\", np.linalg.norm(s2_indiv_new - s.s2))\n",
    "        #if ( np.any(np.isnan(tau_indiv_new)) | (np.linalg.norm(s2_indiv_new - s.s2) >= gamma) | (np.linalg.norm(s3_indiv_new - s.s3) >= gamma) ):\n",
    "        if ( np.any(np.isnan(tau_indiv_new)) ) | ( (n >= t_start) &  (np.linalg.norm(s2_indiv_new - s.s2) >= gamma) ):\n",
    "            pi_est[n, :] = theta.pi\n",
    "            mu_est[n, :, :] = theta.mu\n",
    "            sigma_est[n, :, :, :] = theta.sigma\n",
    "            continue\n",
    "            \n",
    "        # update the statistics\n",
    "        #print('s.s1:', s.s1)\n",
    "        s.s1 += rho[n] * (tau_indiv_new - s.s1)\n",
    "        s.s2 += rho[n] * (s2_indiv_new - s.s2)\n",
    "        s.s3 += rho[n] * (s3_indiv_new - s.s3)\n",
    "        \n",
    "        #print('n =', n, ': paramters updated.')\n",
    "        \n",
    "        # M-step\n",
    "        theta.pi[:], theta.mu[:], theta.sigma[:] = step_M(s, X[ind_n, :])\n",
    "        #theta_est[n+1, :] = np.hstack((n, theta.pi, theta.mu, theta.sigma))\n",
    "        #print('theta.pi:', theta.pi)\n",
    "        #print('theta.mu:', theta.mu)\n",
    "        #print('theta.sigma:', theta.sigma)\n",
    "        pi_est[n, :] = theta.pi.copy()\n",
    "        mu_est[n, :, :] = theta.mu.copy()\n",
    "        sigma_est[n, :, :, :] = theta.sigma.copy()\n",
    "\n",
    "    return pi_est, mu_est, sigma_est"
   ]
  },
  {
   "cell_type": "code",
   "execution_count": 13,
   "metadata": {},
   "outputs": [],
   "source": [
    "def generate_data(N, pi, mu, sigma):\n",
    "    D = len(pi)\n",
    "    \n",
    "    z_list = np.random.choice(np.arange(D), N, replace=True)\n",
    "    \n",
    "    X = np.zeros((N, D))\n",
    "    for i, z in enumerate(z_list):\n",
    "        X_i = np.random.multivariate_normal(mu[z, :], sigma[z, :, :])\n",
    "        X[i, :] = X_i\n",
    "    \n",
    "    return X"
   ]
  },
  {
   "cell_type": "code",
   "execution_count": 14,
   "metadata": {},
   "outputs": [],
   "source": [
    "outdir = './output/real/smtp'\n",
    "\n",
    "if not os.path.exists(outdir):\n",
    "    os.makedirs(outdir)"
   ]
  },
  {
   "cell_type": "markdown",
   "metadata": {},
   "source": [
    "## thyroid dataset"
   ]
  },
  {
   "cell_type": "code",
   "execution_count": 15,
   "metadata": {},
   "outputs": [],
   "source": [
    "from scipy.io import loadmat"
   ]
  },
  {
   "cell_type": "code",
   "execution_count": 16,
   "metadata": {},
   "outputs": [],
   "source": [
    "arrays = {}\n",
    "\n",
    "with h5py.File('data/smtp.mat', 'r') as f:\n",
    "    for k, v in f.items():\n",
    "        arrays[k] = np.array(v)"
   ]
  },
  {
   "cell_type": "code",
   "execution_count": 17,
   "metadata": {},
   "outputs": [],
   "source": [
    "X = arrays['X'].T\n",
    "y = arrays['y'].ravel()"
   ]
  },
  {
   "cell_type": "code",
   "execution_count": 18,
   "metadata": {},
   "outputs": [
    {
     "data": {
      "text/plain": [
       "((95156, 3), (95156,))"
      ]
     },
     "execution_count": 18,
     "metadata": {},
     "output_type": "execute_result"
    }
   ],
   "source": [
    "X.shape, y.shape"
   ]
  },
  {
   "cell_type": "code",
   "execution_count": 91,
   "metadata": {},
   "outputs": [
    {
     "data": {
      "image/png": "[encoded data removed]",
      "text/plain": [
       "<Figure size 1296x576 with 3 Axes>"
      ]
     },
     "metadata": {
      "needs_background": "light"
     },
     "output_type": "display_data"
    }
   ],
   "source": [
    "fig, axes = plt.subplots(3, 1, sharex=True, figsize=(18, 8))\n",
    "\n",
    "axes[0].plot(X[:, 0])\n",
    "axes[0].set_ylabel(r'$y_{t}^{1}$', fontsize=18)\n",
    "axes[0].xaxis.set_tick_params(which='both', labelbottom=True)\n",
    "axes[0].tick_params(labelsize=18)\n",
    "\n",
    "axes[1].plot(X[:, 1])\n",
    "axes[1].set_ylabel(r'$y_{t}^{2}$', fontsize=18)\n",
    "axes[1].xaxis.set_tick_params(which='both', labelbottom=True)\n",
    "axes[1].tick_params(labelsize=18)\n",
    "\n",
    "axes[2].plot(X[:, 2])\n",
    "axes[2].set_xlabel('time', fontsize=24)\n",
    "axes[2].set_ylabel(r'$y_{t}^{3}$', fontsize=18)\n",
    "axes[2].tick_params(labelsize=18)\n",
    "\n",
    "for i in range(len(y)):\n",
    "    if y[i] == 1:\n",
    "        axes[0].axvline(i, linestyle='dashed', color='red', zorder=0)\n",
    "        axes[1].axvline(i, linestyle='dashed', color='red', zorder=0)\n",
    "        axes[2].axvline(i, linestyle='dashed', color='red', zorder=0)\n",
    "\n",
    "plt.tight_layout()\n",
    "plt.savefig(os.path.join(outdir, 'plot_smtp.pdf'), bbox_inches='tight', dpi=200)"
   ]
  },
  {
   "cell_type": "code",
   "execution_count": 20,
   "metadata": {},
   "outputs": [
    {
     "data": {
      "text/plain": [
       "array([14692, 14742, 14789, 14833, 14888, 14967, 15016, 15043, 15099,\n",
       "       15165, 15221, 15283, 15366, 24788, 49528, 49529, 55502, 55503,\n",
       "       55504, 55505, 55506, 55507, 55508, 55509, 55510, 61672, 61673,\n",
       "       67813, 67814, 88859])"
      ]
     },
     "execution_count": 20,
     "metadata": {},
     "output_type": "execute_result"
    }
   ],
   "source": [
    "np.where(y==1)[0] + 1"
   ]
  },
  {
   "cell_type": "markdown",
   "metadata": {},
   "source": [
    "## SDEM"
   ]
  },
  {
   "cell_type": "code",
   "execution_count": 21,
   "metadata": {},
   "outputs": [],
   "source": [
    "def calc_scores_sdem(X, r, k, alpha=1.0, seed=0):\n",
    "    np.random.seed(seed)\n",
    "    rho_const = np.repeat([r], X.shape[0])\n",
    "    sdem = SDEM(rho_const, alpha, n_components=k)\n",
    "\n",
    "    sdem.fit(X[:10, :])\n",
    "    #sdem.weights_ = np.repeat([1/k], k)\n",
    "    #sdem.means_ = np.hstack([ \n",
    "    #                    np.random.uniform(np.min(X[:2000, col]), np.max(X[:2000, col]), k).reshape(-1, 1)\n",
    "    #                    for col in range(X.shape[1])\n",
    "    #                ])\n",
    "    #sdem.covariances_ = np.stack([np.diag((X[:2000, :].max(axis=0) - X[:2000, :].min(axis=0))/10) for _ in k_list])\n",
    "\n",
    "    for t in tqdm.tqdm(range(X.shape[0])):\n",
    "        sdem.update(X[t, :])\n",
    "\n",
    "    pi_est = np.array(sdem.pi_list)\n",
    "    mu_est = np.array(sdem.means_list)\n",
    "    sigma_est = np.array(sdem.covariances_list)\n",
    "    \n",
    "    anom_scores = [np.nan] * 1000\n",
    "\n",
    "    n_cluster = pi_est.shape[1]\n",
    "    #anom_scores = []\n",
    "    for t in range(1000, pi_est.shape[0]):\n",
    "        #print('t =', t)\n",
    "        p = np.zeros(n_cluster)\n",
    "        for i in range(n_cluster):\n",
    "            #print(sigma_est[t-1, i, :, :])\n",
    "            p_i = pi_est[t-1, i] * multivariate_normal(mu_est[t-1, i, :], sigma_est[t-1, i, :, :], allow_singular=True).pdf(X[t, :])\n",
    "            #except:\n",
    "            #    print(nearPD(sigma_est[t-1, i, :, :]))\n",
    "            #    p_i = pi_est[t-1, i] * multivariate_normal(mu_est[t-1, i, :], nearPD(sigma_est[t-1, i, :, :])).pdf(X[t, :])\n",
    "            p[i] = p_i\n",
    "        p_tot = np.sum(p)\n",
    "        if p_tot >= 1e-16:\n",
    "            anom_scores.append(-np.log(p_tot))\n",
    "        else:\n",
    "            anom_scores.append(-np.log(-1.0/np.finfo(np.float).min))\n",
    "    anom_scores = np.array(anom_scores)\n",
    "    \n",
    "    return anom_scores"
   ]
  },
  {
   "cell_type": "code",
   "execution_count": 22,
   "metadata": {},
   "outputs": [
    {
     "name": "stderr",
     "output_type": "stream",
     "text": [
      "100%|██████████| 95156/95156 [00:20<00:00, 4613.52it/s]\n",
      "/Users/shi-fukushima/.pyenv/versions/anaconda3-5.3.1/lib/python3.7/site-packages/ipykernel_launcher.py:39: DeprecationWarning: `np.float` is a deprecated alias for the builtin `float`. To silence this warning, use `float` by itself. Doing this will not modify any behavior and is safe. If you specifically wanted the numpy scalar type, use `np.float64` here.\n",
      "Deprecated in NumPy 1.20; for more details and guidance: https://numpy.org/devdocs/release/1.20.0-notes.html#deprecations\n",
      "100%|██████████| 95156/95156 [00:24<00:00, 3904.63it/s]\n",
      "/Users/shi-fukushima/.pyenv/versions/anaconda3-5.3.1/lib/python3.7/site-packages/ipykernel_launcher.py:39: DeprecationWarning: `np.float` is a deprecated alias for the builtin `float`. To silence this warning, use `float` by itself. Doing this will not modify any behavior and is safe. If you specifically wanted the numpy scalar type, use `np.float64` here.\n",
      "Deprecated in NumPy 1.20; for more details and guidance: https://numpy.org/devdocs/release/1.20.0-notes.html#deprecations\n",
      "100%|██████████| 95156/95156 [00:27<00:00, 3450.42it/s]\n",
      "/Users/shi-fukushima/.pyenv/versions/anaconda3-5.3.1/lib/python3.7/site-packages/ipykernel_launcher.py:39: DeprecationWarning: `np.float` is a deprecated alias for the builtin `float`. To silence this warning, use `float` by itself. Doing this will not modify any behavior and is safe. If you specifically wanted the numpy scalar type, use `np.float64` here.\n",
      "Deprecated in NumPy 1.20; for more details and guidance: https://numpy.org/devdocs/release/1.20.0-notes.html#deprecations\n",
      "100%|██████████| 95156/95156 [00:20<00:00, 4548.57it/s]\n",
      "/Users/shi-fukushima/.pyenv/versions/anaconda3-5.3.1/lib/python3.7/site-packages/ipykernel_launcher.py:39: DeprecationWarning: `np.float` is a deprecated alias for the builtin `float`. To silence this warning, use `float` by itself. Doing this will not modify any behavior and is safe. If you specifically wanted the numpy scalar type, use `np.float64` here.\n",
      "Deprecated in NumPy 1.20; for more details and guidance: https://numpy.org/devdocs/release/1.20.0-notes.html#deprecations\n",
      "100%|██████████| 95156/95156 [00:24<00:00, 3908.65it/s]\n",
      "/Users/shi-fukushima/.pyenv/versions/anaconda3-5.3.1/lib/python3.7/site-packages/ipykernel_launcher.py:39: DeprecationWarning: `np.float` is a deprecated alias for the builtin `float`. To silence this warning, use `float` by itself. Doing this will not modify any behavior and is safe. If you specifically wanted the numpy scalar type, use `np.float64` here.\n",
      "Deprecated in NumPy 1.20; for more details and guidance: https://numpy.org/devdocs/release/1.20.0-notes.html#deprecations\n",
      "100%|██████████| 95156/95156 [00:27<00:00, 3496.49it/s]\n",
      "/Users/shi-fukushima/.pyenv/versions/anaconda3-5.3.1/lib/python3.7/site-packages/ipykernel_launcher.py:39: DeprecationWarning: `np.float` is a deprecated alias for the builtin `float`. To silence this warning, use `float` by itself. Doing this will not modify any behavior and is safe. If you specifically wanted the numpy scalar type, use `np.float64` here.\n",
      "Deprecated in NumPy 1.20; for more details and guidance: https://numpy.org/devdocs/release/1.20.0-notes.html#deprecations\n",
      "100%|██████████| 95156/95156 [00:21<00:00, 4497.98it/s]\n",
      "/Users/shi-fukushima/.pyenv/versions/anaconda3-5.3.1/lib/python3.7/site-packages/ipykernel_launcher.py:39: DeprecationWarning: `np.float` is a deprecated alias for the builtin `float`. To silence this warning, use `float` by itself. Doing this will not modify any behavior and is safe. If you specifically wanted the numpy scalar type, use `np.float64` here.\n",
      "Deprecated in NumPy 1.20; for more details and guidance: https://numpy.org/devdocs/release/1.20.0-notes.html#deprecations\n",
      "100%|██████████| 95156/95156 [00:25<00:00, 3755.94it/s]\n",
      "/Users/shi-fukushima/.pyenv/versions/anaconda3-5.3.1/lib/python3.7/site-packages/ipykernel_launcher.py:39: DeprecationWarning: `np.float` is a deprecated alias for the builtin `float`. To silence this warning, use `float` by itself. Doing this will not modify any behavior and is safe. If you specifically wanted the numpy scalar type, use `np.float64` here.\n",
      "Deprecated in NumPy 1.20; for more details and guidance: https://numpy.org/devdocs/release/1.20.0-notes.html#deprecations\n",
      "100%|██████████| 95156/95156 [00:28<00:00, 3315.93it/s]\n",
      "/Users/shi-fukushima/.pyenv/versions/anaconda3-5.3.1/lib/python3.7/site-packages/ipykernel_launcher.py:39: DeprecationWarning: `np.float` is a deprecated alias for the builtin `float`. To silence this warning, use `float` by itself. Doing this will not modify any behavior and is safe. If you specifically wanted the numpy scalar type, use `np.float64` here.\n",
      "Deprecated in NumPy 1.20; for more details and guidance: https://numpy.org/devdocs/release/1.20.0-notes.html#deprecations\n",
      "100%|██████████| 95156/95156 [00:21<00:00, 4379.67it/s]\n",
      "/Users/shi-fukushima/.pyenv/versions/anaconda3-5.3.1/lib/python3.7/site-packages/ipykernel_launcher.py:39: DeprecationWarning: `np.float` is a deprecated alias for the builtin `float`. To silence this warning, use `float` by itself. Doing this will not modify any behavior and is safe. If you specifically wanted the numpy scalar type, use `np.float64` here.\n",
      "Deprecated in NumPy 1.20; for more details and guidance: https://numpy.org/devdocs/release/1.20.0-notes.html#deprecations\n",
      "100%|██████████| 95156/95156 [00:25<00:00, 3744.84it/s]\n",
      "/Users/shi-fukushima/.pyenv/versions/anaconda3-5.3.1/lib/python3.7/site-packages/ipykernel_launcher.py:39: DeprecationWarning: `np.float` is a deprecated alias for the builtin `float`. To silence this warning, use `float` by itself. Doing this will not modify any behavior and is safe. If you specifically wanted the numpy scalar type, use `np.float64` here.\n",
      "Deprecated in NumPy 1.20; for more details and guidance: https://numpy.org/devdocs/release/1.20.0-notes.html#deprecations\n",
      "100%|██████████| 95156/95156 [00:28<00:00, 3294.97it/s]\n",
      "/Users/shi-fukushima/.pyenv/versions/anaconda3-5.3.1/lib/python3.7/site-packages/ipykernel_launcher.py:39: DeprecationWarning: `np.float` is a deprecated alias for the builtin `float`. To silence this warning, use `float` by itself. Doing this will not modify any behavior and is safe. If you specifically wanted the numpy scalar type, use `np.float64` here.\n",
      "Deprecated in NumPy 1.20; for more details and guidance: https://numpy.org/devdocs/release/1.20.0-notes.html#deprecations\n",
      "100%|██████████| 95156/95156 [00:21<00:00, 4509.02it/s]\n",
      "/Users/shi-fukushima/.pyenv/versions/anaconda3-5.3.1/lib/python3.7/site-packages/ipykernel_launcher.py:39: DeprecationWarning: `np.float` is a deprecated alias for the builtin `float`. To silence this warning, use `float` by itself. Doing this will not modify any behavior and is safe. If you specifically wanted the numpy scalar type, use `np.float64` here.\n",
      "Deprecated in NumPy 1.20; for more details and guidance: https://numpy.org/devdocs/release/1.20.0-notes.html#deprecations\n",
      "100%|██████████| 95156/95156 [00:26<00:00, 3532.42it/s]\n",
      "/Users/shi-fukushima/.pyenv/versions/anaconda3-5.3.1/lib/python3.7/site-packages/ipykernel_launcher.py:39: DeprecationWarning: `np.float` is a deprecated alias for the builtin `float`. To silence this warning, use `float` by itself. Doing this will not modify any behavior and is safe. If you specifically wanted the numpy scalar type, use `np.float64` here.\n",
      "Deprecated in NumPy 1.20; for more details and guidance: https://numpy.org/devdocs/release/1.20.0-notes.html#deprecations\n",
      "100%|██████████| 95156/95156 [00:28<00:00, 3317.54it/s]\n",
      "/Users/shi-fukushima/.pyenv/versions/anaconda3-5.3.1/lib/python3.7/site-packages/ipykernel_launcher.py:39: DeprecationWarning: `np.float` is a deprecated alias for the builtin `float`. To silence this warning, use `float` by itself. Doing this will not modify any behavior and is safe. If you specifically wanted the numpy scalar type, use `np.float64` here.\n",
      "Deprecated in NumPy 1.20; for more details and guidance: https://numpy.org/devdocs/release/1.20.0-notes.html#deprecations\n",
      "100%|██████████| 95156/95156 [00:21<00:00, 4399.60it/s]\n",
      "/Users/shi-fukushima/.pyenv/versions/anaconda3-5.3.1/lib/python3.7/site-packages/ipykernel_launcher.py:39: DeprecationWarning: `np.float` is a deprecated alias for the builtin `float`. To silence this warning, use `float` by itself. Doing this will not modify any behavior and is safe. If you specifically wanted the numpy scalar type, use `np.float64` here.\n",
      "Deprecated in NumPy 1.20; for more details and guidance: https://numpy.org/devdocs/release/1.20.0-notes.html#deprecations\n",
      "100%|██████████| 95156/95156 [00:25<00:00, 3726.28it/s]\n",
      "/Users/shi-fukushima/.pyenv/versions/anaconda3-5.3.1/lib/python3.7/site-packages/ipykernel_launcher.py:39: DeprecationWarning: `np.float` is a deprecated alias for the builtin `float`. To silence this warning, use `float` by itself. Doing this will not modify any behavior and is safe. If you specifically wanted the numpy scalar type, use `np.float64` here.\n",
      "Deprecated in NumPy 1.20; for more details and guidance: https://numpy.org/devdocs/release/1.20.0-notes.html#deprecations\n",
      "100%|██████████| 95156/95156 [00:27<00:00, 3474.68it/s]\n",
      "/Users/shi-fukushima/.pyenv/versions/anaconda3-5.3.1/lib/python3.7/site-packages/ipykernel_launcher.py:39: DeprecationWarning: `np.float` is a deprecated alias for the builtin `float`. To silence this warning, use `float` by itself. Doing this will not modify any behavior and is safe. If you specifically wanted the numpy scalar type, use `np.float64` here.\n",
      "Deprecated in NumPy 1.20; for more details and guidance: https://numpy.org/devdocs/release/1.20.0-notes.html#deprecations\n",
      "100%|██████████| 95156/95156 [00:20<00:00, 4572.86it/s]\n",
      "/Users/shi-fukushima/.pyenv/versions/anaconda3-5.3.1/lib/python3.7/site-packages/ipykernel_launcher.py:39: DeprecationWarning: `np.float` is a deprecated alias for the builtin `float`. To silence this warning, use `float` by itself. Doing this will not modify any behavior and is safe. If you specifically wanted the numpy scalar type, use `np.float64` here.\n",
      "Deprecated in NumPy 1.20; for more details and guidance: https://numpy.org/devdocs/release/1.20.0-notes.html#deprecations\n",
      "100%|██████████| 95156/95156 [00:24<00:00, 3893.96it/s]\n",
      "/Users/shi-fukushima/.pyenv/versions/anaconda3-5.3.1/lib/python3.7/site-packages/ipykernel_launcher.py:39: DeprecationWarning: `np.float` is a deprecated alias for the builtin `float`. To silence this warning, use `float` by itself. Doing this will not modify any behavior and is safe. If you specifically wanted the numpy scalar type, use `np.float64` here.\n",
      "Deprecated in NumPy 1.20; for more details and guidance: https://numpy.org/devdocs/release/1.20.0-notes.html#deprecations\n",
      "100%|██████████| 95156/95156 [00:26<00:00, 3551.13it/s]\n",
      "/Users/shi-fukushima/.pyenv/versions/anaconda3-5.3.1/lib/python3.7/site-packages/ipykernel_launcher.py:39: DeprecationWarning: `np.float` is a deprecated alias for the builtin `float`. To silence this warning, use `float` by itself. Doing this will not modify any behavior and is safe. If you specifically wanted the numpy scalar type, use `np.float64` here.\n",
      "Deprecated in NumPy 1.20; for more details and guidance: https://numpy.org/devdocs/release/1.20.0-notes.html#deprecations\n",
      "100%|██████████| 95156/95156 [00:21<00:00, 4473.89it/s]\n",
      "/Users/shi-fukushima/.pyenv/versions/anaconda3-5.3.1/lib/python3.7/site-packages/ipykernel_launcher.py:39: DeprecationWarning: `np.float` is a deprecated alias for the builtin `float`. To silence this warning, use `float` by itself. Doing this will not modify any behavior and is safe. If you specifically wanted the numpy scalar type, use `np.float64` here.\n",
      "Deprecated in NumPy 1.20; for more details and guidance: https://numpy.org/devdocs/release/1.20.0-notes.html#deprecations\n",
      "100%|██████████| 95156/95156 [00:25<00:00, 3780.81it/s]\n",
      "/Users/shi-fukushima/.pyenv/versions/anaconda3-5.3.1/lib/python3.7/site-packages/ipykernel_launcher.py:39: DeprecationWarning: `np.float` is a deprecated alias for the builtin `float`. To silence this warning, use `float` by itself. Doing this will not modify any behavior and is safe. If you specifically wanted the numpy scalar type, use `np.float64` here.\n",
      "Deprecated in NumPy 1.20; for more details and guidance: https://numpy.org/devdocs/release/1.20.0-notes.html#deprecations\n",
      "100%|██████████| 95156/95156 [00:30<00:00, 3104.23it/s]\n",
      "/Users/shi-fukushima/.pyenv/versions/anaconda3-5.3.1/lib/python3.7/site-packages/ipykernel_launcher.py:39: DeprecationWarning: `np.float` is a deprecated alias for the builtin `float`. To silence this warning, use `float` by itself. Doing this will not modify any behavior and is safe. If you specifically wanted the numpy scalar type, use `np.float64` here.\n",
      "Deprecated in NumPy 1.20; for more details and guidance: https://numpy.org/devdocs/release/1.20.0-notes.html#deprecations\n",
      "100%|██████████| 95156/95156 [00:23<00:00, 4074.59it/s]\n",
      "/Users/shi-fukushima/.pyenv/versions/anaconda3-5.3.1/lib/python3.7/site-packages/ipykernel_launcher.py:39: DeprecationWarning: `np.float` is a deprecated alias for the builtin `float`. To silence this warning, use `float` by itself. Doing this will not modify any behavior and is safe. If you specifically wanted the numpy scalar type, use `np.float64` here.\n",
      "Deprecated in NumPy 1.20; for more details and guidance: https://numpy.org/devdocs/release/1.20.0-notes.html#deprecations\n",
      "100%|██████████| 95156/95156 [00:25<00:00, 3725.80it/s]\n",
      "/Users/shi-fukushima/.pyenv/versions/anaconda3-5.3.1/lib/python3.7/site-packages/ipykernel_launcher.py:39: DeprecationWarning: `np.float` is a deprecated alias for the builtin `float`. To silence this warning, use `float` by itself. Doing this will not modify any behavior and is safe. If you specifically wanted the numpy scalar type, use `np.float64` here.\n",
      "Deprecated in NumPy 1.20; for more details and guidance: https://numpy.org/devdocs/release/1.20.0-notes.html#deprecations\n",
      "100%|██████████| 95156/95156 [00:28<00:00, 3366.41it/s]\n",
      "/Users/shi-fukushima/.pyenv/versions/anaconda3-5.3.1/lib/python3.7/site-packages/ipykernel_launcher.py:39: DeprecationWarning: `np.float` is a deprecated alias for the builtin `float`. To silence this warning, use `float` by itself. Doing this will not modify any behavior and is safe. If you specifically wanted the numpy scalar type, use `np.float64` here.\n",
      "Deprecated in NumPy 1.20; for more details and guidance: https://numpy.org/devdocs/release/1.20.0-notes.html#deprecations\n",
      "100%|██████████| 95156/95156 [00:19<00:00, 4876.68it/s]\n",
      "/Users/shi-fukushima/.pyenv/versions/anaconda3-5.3.1/lib/python3.7/site-packages/ipykernel_launcher.py:39: DeprecationWarning: `np.float` is a deprecated alias for the builtin `float`. To silence this warning, use `float` by itself. Doing this will not modify any behavior and is safe. If you specifically wanted the numpy scalar type, use `np.float64` here.\n",
      "Deprecated in NumPy 1.20; for more details and guidance: https://numpy.org/devdocs/release/1.20.0-notes.html#deprecations\n",
      "100%|██████████| 95156/95156 [00:23<00:00, 4100.85it/s]\n",
      "/Users/shi-fukushima/.pyenv/versions/anaconda3-5.3.1/lib/python3.7/site-packages/ipykernel_launcher.py:39: DeprecationWarning: `np.float` is a deprecated alias for the builtin `float`. To silence this warning, use `float` by itself. Doing this will not modify any behavior and is safe. If you specifically wanted the numpy scalar type, use `np.float64` here.\n",
      "Deprecated in NumPy 1.20; for more details and guidance: https://numpy.org/devdocs/release/1.20.0-notes.html#deprecations\n",
      "100%|██████████| 95156/95156 [00:26<00:00, 3569.01it/s]\n",
      "/Users/shi-fukushima/.pyenv/versions/anaconda3-5.3.1/lib/python3.7/site-packages/ipykernel_launcher.py:39: DeprecationWarning: `np.float` is a deprecated alias for the builtin `float`. To silence this warning, use `float` by itself. Doing this will not modify any behavior and is safe. If you specifically wanted the numpy scalar type, use `np.float64` here.\n",
      "Deprecated in NumPy 1.20; for more details and guidance: https://numpy.org/devdocs/release/1.20.0-notes.html#deprecations\n",
      "100%|██████████| 95156/95156 [00:19<00:00, 4870.18it/s]\n",
      "/Users/shi-fukushima/.pyenv/versions/anaconda3-5.3.1/lib/python3.7/site-packages/ipykernel_launcher.py:39: DeprecationWarning: `np.float` is a deprecated alias for the builtin `float`. To silence this warning, use `float` by itself. Doing this will not modify any behavior and is safe. If you specifically wanted the numpy scalar type, use `np.float64` here.\n",
      "Deprecated in NumPy 1.20; for more details and guidance: https://numpy.org/devdocs/release/1.20.0-notes.html#deprecations\n",
      "100%|██████████| 95156/95156 [00:25<00:00, 3759.17it/s]\n",
      "/Users/shi-fukushima/.pyenv/versions/anaconda3-5.3.1/lib/python3.7/site-packages/ipykernel_launcher.py:39: DeprecationWarning: `np.float` is a deprecated alias for the builtin `float`. To silence this warning, use `float` by itself. Doing this will not modify any behavior and is safe. If you specifically wanted the numpy scalar type, use `np.float64` here.\n",
      "Deprecated in NumPy 1.20; for more details and guidance: https://numpy.org/devdocs/release/1.20.0-notes.html#deprecations\n",
      "100%|██████████| 95156/95156 [00:28<00:00, 3388.96it/s]\n",
      "/Users/shi-fukushima/.pyenv/versions/anaconda3-5.3.1/lib/python3.7/site-packages/ipykernel_launcher.py:39: DeprecationWarning: `np.float` is a deprecated alias for the builtin `float`. To silence this warning, use `float` by itself. Doing this will not modify any behavior and is safe. If you specifically wanted the numpy scalar type, use `np.float64` here.\n",
      "Deprecated in NumPy 1.20; for more details and guidance: https://numpy.org/devdocs/release/1.20.0-notes.html#deprecations\n",
      "100%|██████████| 95156/95156 [00:21<00:00, 4423.49it/s]\n",
      "/Users/shi-fukushima/.pyenv/versions/anaconda3-5.3.1/lib/python3.7/site-packages/ipykernel_launcher.py:39: DeprecationWarning: `np.float` is a deprecated alias for the builtin `float`. To silence this warning, use `float` by itself. Doing this will not modify any behavior and is safe. If you specifically wanted the numpy scalar type, use `np.float64` here.\n",
      "Deprecated in NumPy 1.20; for more details and guidance: https://numpy.org/devdocs/release/1.20.0-notes.html#deprecations\n",
      "100%|██████████| 95156/95156 [00:24<00:00, 3817.17it/s]\n",
      "/Users/shi-fukushima/.pyenv/versions/anaconda3-5.3.1/lib/python3.7/site-packages/ipykernel_launcher.py:39: DeprecationWarning: `np.float` is a deprecated alias for the builtin `float`. To silence this warning, use `float` by itself. Doing this will not modify any behavior and is safe. If you specifically wanted the numpy scalar type, use `np.float64` here.\n",
      "Deprecated in NumPy 1.20; for more details and guidance: https://numpy.org/devdocs/release/1.20.0-notes.html#deprecations\n",
      "100%|██████████| 95156/95156 [00:30<00:00, 3110.91it/s]\n",
      "/Users/shi-fukushima/.pyenv/versions/anaconda3-5.3.1/lib/python3.7/site-packages/ipykernel_launcher.py:39: DeprecationWarning: `np.float` is a deprecated alias for the builtin `float`. To silence this warning, use `float` by itself. Doing this will not modify any behavior and is safe. If you specifically wanted the numpy scalar type, use `np.float64` here.\n",
      "Deprecated in NumPy 1.20; for more details and guidance: https://numpy.org/devdocs/release/1.20.0-notes.html#deprecations\n",
      "100%|██████████| 95156/95156 [00:21<00:00, 4325.33it/s]\n",
      "/Users/shi-fukushima/.pyenv/versions/anaconda3-5.3.1/lib/python3.7/site-packages/ipykernel_launcher.py:39: DeprecationWarning: `np.float` is a deprecated alias for the builtin `float`. To silence this warning, use `float` by itself. Doing this will not modify any behavior and is safe. If you specifically wanted the numpy scalar type, use `np.float64` here.\n",
      "Deprecated in NumPy 1.20; for more details and guidance: https://numpy.org/devdocs/release/1.20.0-notes.html#deprecations\n",
      "100%|██████████| 95156/95156 [00:26<00:00, 3538.81it/s]\n",
      "/Users/shi-fukushima/.pyenv/versions/anaconda3-5.3.1/lib/python3.7/site-packages/ipykernel_launcher.py:39: DeprecationWarning: `np.float` is a deprecated alias for the builtin `float`. To silence this warning, use `float` by itself. Doing this will not modify any behavior and is safe. If you specifically wanted the numpy scalar type, use `np.float64` here.\n",
      "Deprecated in NumPy 1.20; for more details and guidance: https://numpy.org/devdocs/release/1.20.0-notes.html#deprecations\n",
      "100%|██████████| 95156/95156 [00:32<00:00, 2954.91it/s]\n",
      "/Users/shi-fukushima/.pyenv/versions/anaconda3-5.3.1/lib/python3.7/site-packages/ipykernel_launcher.py:39: DeprecationWarning: `np.float` is a deprecated alias for the builtin `float`. To silence this warning, use `float` by itself. Doing this will not modify any behavior and is safe. If you specifically wanted the numpy scalar type, use `np.float64` here.\n",
      "Deprecated in NumPy 1.20; for more details and guidance: https://numpy.org/devdocs/release/1.20.0-notes.html#deprecations\n",
      "100%|██████████| 95156/95156 [00:21<00:00, 4425.62it/s]\n",
      "/Users/shi-fukushima/.pyenv/versions/anaconda3-5.3.1/lib/python3.7/site-packages/ipykernel_launcher.py:39: DeprecationWarning: `np.float` is a deprecated alias for the builtin `float`. To silence this warning, use `float` by itself. Doing this will not modify any behavior and is safe. If you specifically wanted the numpy scalar type, use `np.float64` here.\n",
      "Deprecated in NumPy 1.20; for more details and guidance: https://numpy.org/devdocs/release/1.20.0-notes.html#deprecations\n",
      "100%|██████████| 95156/95156 [00:24<00:00, 3882.62it/s]\n",
      "/Users/shi-fukushima/.pyenv/versions/anaconda3-5.3.1/lib/python3.7/site-packages/ipykernel_launcher.py:39: DeprecationWarning: `np.float` is a deprecated alias for the builtin `float`. To silence this warning, use `float` by itself. Doing this will not modify any behavior and is safe. If you specifically wanted the numpy scalar type, use `np.float64` here.\n",
      "Deprecated in NumPy 1.20; for more details and guidance: https://numpy.org/devdocs/release/1.20.0-notes.html#deprecations\n",
      "100%|██████████| 95156/95156 [00:28<00:00, 3362.11it/s]\n",
      "/Users/shi-fukushima/.pyenv/versions/anaconda3-5.3.1/lib/python3.7/site-packages/ipykernel_launcher.py:39: DeprecationWarning: `np.float` is a deprecated alias for the builtin `float`. To silence this warning, use `float` by itself. Doing this will not modify any behavior and is safe. If you specifically wanted the numpy scalar type, use `np.float64` here.\n",
      "Deprecated in NumPy 1.20; for more details and guidance: https://numpy.org/devdocs/release/1.20.0-notes.html#deprecations\n",
      "100%|██████████| 95156/95156 [00:21<00:00, 4483.04it/s]\n",
      "/Users/shi-fukushima/.pyenv/versions/anaconda3-5.3.1/lib/python3.7/site-packages/ipykernel_launcher.py:39: DeprecationWarning: `np.float` is a deprecated alias for the builtin `float`. To silence this warning, use `float` by itself. Doing this will not modify any behavior and is safe. If you specifically wanted the numpy scalar type, use `np.float64` here.\n",
      "Deprecated in NumPy 1.20; for more details and guidance: https://numpy.org/devdocs/release/1.20.0-notes.html#deprecations\n",
      "100%|██████████| 95156/95156 [00:24<00:00, 3923.81it/s]\n",
      "/Users/shi-fukushima/.pyenv/versions/anaconda3-5.3.1/lib/python3.7/site-packages/ipykernel_launcher.py:39: DeprecationWarning: `np.float` is a deprecated alias for the builtin `float`. To silence this warning, use `float` by itself. Doing this will not modify any behavior and is safe. If you specifically wanted the numpy scalar type, use `np.float64` here.\n",
      "Deprecated in NumPy 1.20; for more details and guidance: https://numpy.org/devdocs/release/1.20.0-notes.html#deprecations\n",
      "100%|██████████| 95156/95156 [00:28<00:00, 3340.02it/s]\n",
      "/Users/shi-fukushima/.pyenv/versions/anaconda3-5.3.1/lib/python3.7/site-packages/ipykernel_launcher.py:39: DeprecationWarning: `np.float` is a deprecated alias for the builtin `float`. To silence this warning, use `float` by itself. Doing this will not modify any behavior and is safe. If you specifically wanted the numpy scalar type, use `np.float64` here.\n",
      "Deprecated in NumPy 1.20; for more details and guidance: https://numpy.org/devdocs/release/1.20.0-notes.html#deprecations\n"
     ]
    }
   ],
   "source": [
    "n_trial = 5\n",
    "#r_list = [0.0001, 0.0005, 0.001, 0.01]\n",
    "#r_list = [0.01, 0.03, 0.05, 0.1]\n",
    "r_list = [0.1, 0.3, 0.5]\n",
    "k_list = [1, 2, 3]\n",
    "\n",
    "auc_tr_sdem = np.zeros((n_trial, len(r_list), len(k_list)))\n",
    "auc_te_sdem = np.zeros((n_trial, len(r_list), len(k_list)))\n",
    "\n",
    "for n in range(n_trial):\n",
    "    for i, r in enumerate(r_list):\n",
    "        for j, k in enumerate(k_list):\n",
    "            seed = i*len(r_list) + j\n",
    "            anom_scores = calc_scores_sdem(X, r, k, alpha=1.0, seed=seed)\n",
    "\n",
    "            fpr_tr, tpr_tr, thresholds_tr = roc_curve(y[10000:40000], anom_scores[10000:40000], pos_label=1)\n",
    "            auc_tr_sdem[n, i, j] = auc(fpr_tr, tpr_tr)\n",
    "\n",
    "            fpr_te, tpr_te, thresholds_te = roc_curve(y[40000:], anom_scores[40000:], pos_label=1)\n",
    "            auc_te_sdem[n, i, j] = auc(fpr_te, tpr_te)"
   ]
  },
  {
   "cell_type": "code",
   "execution_count": 23,
   "metadata": {},
   "outputs": [
    {
     "data": {
      "text/plain": [
       "array([[0.9934124 , 0.99398291, 0.99570276],\n",
       "       [0.97652238, 0.98102448, 0.98235843],\n",
       "       [0.94002201, 0.949293  , 0.9517108 ]])"
      ]
     },
     "execution_count": 23,
     "metadata": {},
     "output_type": "execute_result"
    }
   ],
   "source": [
    "np.mean(auc_tr_sdem, axis=0)"
   ]
  },
  {
   "cell_type": "code",
   "execution_count": 24,
   "metadata": {},
   "outputs": [
    {
     "data": {
      "text/plain": [
       "array([[0.00000000e+00, 0.00000000e+00, 0.00000000e+00],\n",
       "       [1.11022302e-16, 0.00000000e+00, 1.11022302e-16],\n",
       "       [0.00000000e+00, 0.00000000e+00, 0.00000000e+00]])"
      ]
     },
     "execution_count": 24,
     "metadata": {},
     "output_type": "execute_result"
    }
   ],
   "source": [
    "np.std(auc_tr_sdem, axis=0)"
   ]
  },
  {
   "cell_type": "code",
   "execution_count": 25,
   "metadata": {},
   "outputs": [
    {
     "data": {
      "text/plain": [
       "array([[0.82464409, 0.76508206, 0.77264917],\n",
       "       [0.74003276, 0.71812205, 0.71068133],\n",
       "       [0.64465678, 0.63496498, 0.62881982]])"
      ]
     },
     "execution_count": 25,
     "metadata": {},
     "output_type": "execute_result"
    }
   ],
   "source": [
    "np.mean(auc_te_sdem ,axis=0)"
   ]
  },
  {
   "cell_type": "code",
   "execution_count": 26,
   "metadata": {},
   "outputs": [
    {
     "data": {
      "text/plain": [
       "array([[0., 0., 0.],\n",
       "       [0., 0., 0.],\n",
       "       [0., 0., 0.]])"
      ]
     },
     "execution_count": 26,
     "metadata": {},
     "output_type": "execute_result"
    }
   ],
   "source": [
    "np.std(auc_te_sdem, axis=0)"
   ]
  },
  {
   "cell_type": "code",
   "execution_count": 39,
   "metadata": {},
   "outputs": [
    {
     "data": {
      "text/plain": [
       "(0, 1)"
      ]
     },
     "execution_count": 39,
     "metadata": {},
     "output_type": "execute_result"
    }
   ],
   "source": [
    "np.unravel_index(np.argmax(auc_tr_sdem), auc_tr_sdem.shape)"
   ]
  },
  {
   "cell_type": "code",
   "execution_count": 42,
   "metadata": {},
   "outputs": [
    {
     "data": {
      "text/plain": [
       "0.9939829063086583"
      ]
     },
     "execution_count": 42,
     "metadata": {},
     "output_type": "execute_result"
    }
   ],
   "source": [
    "auc_tr_sdem[0, 1]"
   ]
  },
  {
   "cell_type": "code",
   "execution_count": 43,
   "metadata": {},
   "outputs": [
    {
     "data": {
      "text/plain": [
       "0.7650820638375045"
      ]
     },
     "execution_count": 43,
     "metadata": {},
     "output_type": "execute_result"
    }
   ],
   "source": [
    "auc_te_sdem[0, 1]"
   ]
  },
  {
   "cell_type": "markdown",
   "metadata": {},
   "source": [
    "## IEM"
   ]
  },
  {
   "cell_type": "code",
   "execution_count": 27,
   "metadata": {},
   "outputs": [],
   "source": [
    "def calc_scores_iem(X, k, alpha=1.0, seed=0):\n",
    "    np.random.seed(seed)\n",
    "    rhos = 1.0 / np.arange(1, X.shape[0]+1)\n",
    "    sdem = SDEM(rhos, alpha, n_components=k)\n",
    "\n",
    "    sdem.fit(X[:10, :])\n",
    "    #sdem.weights_ = np.repeat([1/k], k)\n",
    "    #sdem.means_ = np.hstack([ \n",
    "    #                    np.random.uniform(np.min(X[:2000, col]), np.max(X[:2000, col]), k).reshape(-1, 1)\n",
    "    #                    for col in range(X.shape[1])\n",
    "    #                ])\n",
    "    #sdem.covariances_ = np.stack([np.diag((X[:2000, :].max(axis=0) - X[:2000, :].min(axis=0))/10) for _ in k_list])\n",
    "\n",
    "    for t in tqdm.tqdm(range(X.shape[0])):\n",
    "        sdem.update(X[t, :])\n",
    "\n",
    "    pi_est = np.array(sdem.pi_list)\n",
    "    mu_est = np.array(sdem.means_list)\n",
    "    sigma_est = np.array(sdem.covariances_list)\n",
    "    \n",
    "    anom_scores = [np.nan] * 1000\n",
    "\n",
    "    n_cluster = pi_est.shape[1]\n",
    "    #anom_scores = []\n",
    "    for t in range(1000, pi_est.shape[0]):\n",
    "        #print('t =', t)\n",
    "        p = np.zeros(n_cluster)\n",
    "        for i in range(n_cluster):\n",
    "            #print(sigma_est[t-1, i, :, :])\n",
    "            p_i = pi_est[t-1, i] * multivariate_normal(mu_est[t-1, i, :], sigma_est[t-1, i, :, :]).pdf(X[t, :])\n",
    "            #except:\n",
    "            #    print(nearPD(sigma_est[t-1, i, :, :]))\n",
    "            #    p_i = pi_est[t-1, i] * multivariate_normal(mu_est[t-1, i, :], nearPD(sigma_est[t-1, i, :, :])).pdf(X[t, :])\n",
    "            p[i] = p_i\n",
    "        p_tot = np.sum(p)\n",
    "        if p_tot >= 1e-16:\n",
    "            anom_scores.append(-np.log(p_tot))\n",
    "        else:\n",
    "            anom_scores.append(-np.log(-1.0/np.finfo(np.float).min))\n",
    "    anom_scores = np.array(anom_scores)\n",
    "    \n",
    "    return anom_scores"
   ]
  },
  {
   "cell_type": "code",
   "execution_count": 28,
   "metadata": {},
   "outputs": [
    {
     "name": "stderr",
     "output_type": "stream",
     "text": [
      "100%|██████████| 95156/95156 [00:19<00:00, 4815.41it/s]\n",
      "/Users/shi-fukushima/.pyenv/versions/anaconda3-5.3.1/lib/python3.7/site-packages/ipykernel_launcher.py:39: DeprecationWarning: `np.float` is a deprecated alias for the builtin `float`. To silence this warning, use `float` by itself. Doing this will not modify any behavior and is safe. If you specifically wanted the numpy scalar type, use `np.float64` here.\n",
      "Deprecated in NumPy 1.20; for more details and guidance: https://numpy.org/devdocs/release/1.20.0-notes.html#deprecations\n",
      "100%|██████████| 95156/95156 [00:23<00:00, 4106.21it/s]\n",
      "/Users/shi-fukushima/.pyenv/versions/anaconda3-5.3.1/lib/python3.7/site-packages/ipykernel_launcher.py:39: DeprecationWarning: `np.float` is a deprecated alias for the builtin `float`. To silence this warning, use `float` by itself. Doing this will not modify any behavior and is safe. If you specifically wanted the numpy scalar type, use `np.float64` here.\n",
      "Deprecated in NumPy 1.20; for more details and guidance: https://numpy.org/devdocs/release/1.20.0-notes.html#deprecations\n",
      "100%|██████████| 95156/95156 [00:27<00:00, 3416.30it/s]\n",
      "/Users/shi-fukushima/.pyenv/versions/anaconda3-5.3.1/lib/python3.7/site-packages/ipykernel_launcher.py:39: DeprecationWarning: `np.float` is a deprecated alias for the builtin `float`. To silence this warning, use `float` by itself. Doing this will not modify any behavior and is safe. If you specifically wanted the numpy scalar type, use `np.float64` here.\n",
      "Deprecated in NumPy 1.20; for more details and guidance: https://numpy.org/devdocs/release/1.20.0-notes.html#deprecations\n",
      "100%|██████████| 95156/95156 [00:21<00:00, 4401.16it/s]\n",
      "/Users/shi-fukushima/.pyenv/versions/anaconda3-5.3.1/lib/python3.7/site-packages/ipykernel_launcher.py:39: DeprecationWarning: `np.float` is a deprecated alias for the builtin `float`. To silence this warning, use `float` by itself. Doing this will not modify any behavior and is safe. If you specifically wanted the numpy scalar type, use `np.float64` here.\n",
      "Deprecated in NumPy 1.20; for more details and guidance: https://numpy.org/devdocs/release/1.20.0-notes.html#deprecations\n",
      "100%|██████████| 95156/95156 [00:25<00:00, 3690.70it/s]\n",
      "/Users/shi-fukushima/.pyenv/versions/anaconda3-5.3.1/lib/python3.7/site-packages/ipykernel_launcher.py:39: DeprecationWarning: `np.float` is a deprecated alias for the builtin `float`. To silence this warning, use `float` by itself. Doing this will not modify any behavior and is safe. If you specifically wanted the numpy scalar type, use `np.float64` here.\n",
      "Deprecated in NumPy 1.20; for more details and guidance: https://numpy.org/devdocs/release/1.20.0-notes.html#deprecations\n",
      "100%|██████████| 95156/95156 [00:29<00:00, 3199.57it/s]\n",
      "/Users/shi-fukushima/.pyenv/versions/anaconda3-5.3.1/lib/python3.7/site-packages/ipykernel_launcher.py:39: DeprecationWarning: `np.float` is a deprecated alias for the builtin `float`. To silence this warning, use `float` by itself. Doing this will not modify any behavior and is safe. If you specifically wanted the numpy scalar type, use `np.float64` here.\n",
      "Deprecated in NumPy 1.20; for more details and guidance: https://numpy.org/devdocs/release/1.20.0-notes.html#deprecations\n",
      "100%|██████████| 95156/95156 [00:23<00:00, 4133.18it/s]\n",
      "/Users/shi-fukushima/.pyenv/versions/anaconda3-5.3.1/lib/python3.7/site-packages/ipykernel_launcher.py:39: DeprecationWarning: `np.float` is a deprecated alias for the builtin `float`. To silence this warning, use `float` by itself. Doing this will not modify any behavior and is safe. If you specifically wanted the numpy scalar type, use `np.float64` here.\n",
      "Deprecated in NumPy 1.20; for more details and guidance: https://numpy.org/devdocs/release/1.20.0-notes.html#deprecations\n",
      "100%|██████████| 95156/95156 [00:25<00:00, 3664.01it/s]\n",
      "/Users/shi-fukushima/.pyenv/versions/anaconda3-5.3.1/lib/python3.7/site-packages/ipykernel_launcher.py:39: DeprecationWarning: `np.float` is a deprecated alias for the builtin `float`. To silence this warning, use `float` by itself. Doing this will not modify any behavior and is safe. If you specifically wanted the numpy scalar type, use `np.float64` here.\n",
      "Deprecated in NumPy 1.20; for more details and guidance: https://numpy.org/devdocs/release/1.20.0-notes.html#deprecations\n",
      "100%|██████████| 95156/95156 [00:28<00:00, 3301.92it/s]\n",
      "/Users/shi-fukushima/.pyenv/versions/anaconda3-5.3.1/lib/python3.7/site-packages/ipykernel_launcher.py:39: DeprecationWarning: `np.float` is a deprecated alias for the builtin `float`. To silence this warning, use `float` by itself. Doing this will not modify any behavior and is safe. If you specifically wanted the numpy scalar type, use `np.float64` here.\n",
      "Deprecated in NumPy 1.20; for more details and guidance: https://numpy.org/devdocs/release/1.20.0-notes.html#deprecations\n",
      "100%|██████████| 95156/95156 [00:21<00:00, 4528.38it/s]\n",
      "/Users/shi-fukushima/.pyenv/versions/anaconda3-5.3.1/lib/python3.7/site-packages/ipykernel_launcher.py:39: DeprecationWarning: `np.float` is a deprecated alias for the builtin `float`. To silence this warning, use `float` by itself. Doing this will not modify any behavior and is safe. If you specifically wanted the numpy scalar type, use `np.float64` here.\n",
      "Deprecated in NumPy 1.20; for more details and guidance: https://numpy.org/devdocs/release/1.20.0-notes.html#deprecations\n",
      "100%|██████████| 95156/95156 [00:24<00:00, 3884.80it/s]\n",
      "/Users/shi-fukushima/.pyenv/versions/anaconda3-5.3.1/lib/python3.7/site-packages/ipykernel_launcher.py:39: DeprecationWarning: `np.float` is a deprecated alias for the builtin `float`. To silence this warning, use `float` by itself. Doing this will not modify any behavior and is safe. If you specifically wanted the numpy scalar type, use `np.float64` here.\n",
      "Deprecated in NumPy 1.20; for more details and guidance: https://numpy.org/devdocs/release/1.20.0-notes.html#deprecations\n",
      "100%|██████████| 95156/95156 [00:28<00:00, 3317.88it/s]\n",
      "/Users/shi-fukushima/.pyenv/versions/anaconda3-5.3.1/lib/python3.7/site-packages/ipykernel_launcher.py:39: DeprecationWarning: `np.float` is a deprecated alias for the builtin `float`. To silence this warning, use `float` by itself. Doing this will not modify any behavior and is safe. If you specifically wanted the numpy scalar type, use `np.float64` here.\n",
      "Deprecated in NumPy 1.20; for more details and guidance: https://numpy.org/devdocs/release/1.20.0-notes.html#deprecations\n",
      "100%|██████████| 95156/95156 [00:21<00:00, 4370.83it/s]\n",
      "/Users/shi-fukushima/.pyenv/versions/anaconda3-5.3.1/lib/python3.7/site-packages/ipykernel_launcher.py:39: DeprecationWarning: `np.float` is a deprecated alias for the builtin `float`. To silence this warning, use `float` by itself. Doing this will not modify any behavior and is safe. If you specifically wanted the numpy scalar type, use `np.float64` here.\n",
      "Deprecated in NumPy 1.20; for more details and guidance: https://numpy.org/devdocs/release/1.20.0-notes.html#deprecations\n",
      "100%|██████████| 95156/95156 [00:25<00:00, 3764.51it/s]\n",
      "/Users/shi-fukushima/.pyenv/versions/anaconda3-5.3.1/lib/python3.7/site-packages/ipykernel_launcher.py:39: DeprecationWarning: `np.float` is a deprecated alias for the builtin `float`. To silence this warning, use `float` by itself. Doing this will not modify any behavior and is safe. If you specifically wanted the numpy scalar type, use `np.float64` here.\n",
      "Deprecated in NumPy 1.20; for more details and guidance: https://numpy.org/devdocs/release/1.20.0-notes.html#deprecations\n",
      "100%|██████████| 95156/95156 [00:28<00:00, 3317.85it/s]\n",
      "/Users/shi-fukushima/.pyenv/versions/anaconda3-5.3.1/lib/python3.7/site-packages/ipykernel_launcher.py:39: DeprecationWarning: `np.float` is a deprecated alias for the builtin `float`. To silence this warning, use `float` by itself. Doing this will not modify any behavior and is safe. If you specifically wanted the numpy scalar type, use `np.float64` here.\n",
      "Deprecated in NumPy 1.20; for more details and guidance: https://numpy.org/devdocs/release/1.20.0-notes.html#deprecations\n"
     ]
    }
   ],
   "source": [
    "n_trial = 5\n",
    "k_list = [1, 2, 3]\n",
    "\n",
    "auc_tr_iem = np.zeros((n_trial, len(k_list)))\n",
    "auc_te_iem = np.zeros((n_trial, len(k_list)))\n",
    "\n",
    "for n in range(n_trial):\n",
    "    for i, k in enumerate(k_list):\n",
    "        seed = i\n",
    "        anom_scores = calc_scores_iem(X, k, alpha=1.0, seed=seed)\n",
    "\n",
    "        fpr_tr, tpr_tr, thresholds_tr = roc_curve(y[10000:40000], anom_scores[10000:40000], pos_label=1)\n",
    "        auc_tr_iem[n, i] = auc(fpr_tr, tpr_tr)\n",
    "\n",
    "        fpr_te, tpr_te, thresholds_te = roc_curve(y[40000:], anom_scores[40000:], pos_label=1)\n",
    "        auc_te_iem[n, i] = auc(fpr_te, tpr_te)"
   ]
  },
  {
   "cell_type": "code",
   "execution_count": 30,
   "metadata": {},
   "outputs": [
    {
     "data": {
      "text/plain": [
       "array([0.99962363, 0.99943307, 0.99967604])"
      ]
     },
     "execution_count": 30,
     "metadata": {},
     "output_type": "execute_result"
    }
   ],
   "source": [
    "np.mean(auc_tr_iem, axis=0)"
   ]
  },
  {
   "cell_type": "code",
   "execution_count": 31,
   "metadata": {},
   "outputs": [
    {
     "data": {
      "text/plain": [
       "array([1.11022302e-16, 0.00000000e+00, 0.00000000e+00])"
      ]
     },
     "execution_count": 31,
     "metadata": {},
     "output_type": "execute_result"
    }
   ],
   "source": [
    "np.std(auc_tr_iem, axis=0)"
   ]
  },
  {
   "cell_type": "code",
   "execution_count": 32,
   "metadata": {},
   "outputs": [
    {
     "data": {
      "text/plain": [
       "array([0.66208118, 0.74436435, 0.74444369])"
      ]
     },
     "execution_count": 32,
     "metadata": {},
     "output_type": "execute_result"
    }
   ],
   "source": [
    "np.mean(auc_te_iem, axis=0)"
   ]
  },
  {
   "cell_type": "code",
   "execution_count": 33,
   "metadata": {},
   "outputs": [
    {
     "data": {
      "text/plain": [
       "array([0., 0., 0.])"
      ]
     },
     "execution_count": 33,
     "metadata": {},
     "output_type": "execute_result"
    }
   ],
   "source": [
    "np.std(auc_te_iem, axis=0)"
   ]
  },
  {
   "cell_type": "code",
   "execution_count": 26,
   "metadata": {},
   "outputs": [
    {
     "data": {
      "text/plain": [
       "0.999676039294528"
      ]
     },
     "execution_count": 26,
     "metadata": {},
     "output_type": "execute_result"
    }
   ],
   "source": [
    "auc_tr_iem[np.argmax(auc_tr_iem)]"
   ]
  },
  {
   "cell_type": "code",
   "execution_count": 27,
   "metadata": {},
   "outputs": [
    {
     "data": {
      "text/plain": [
       "0.7444436887921654"
      ]
     },
     "execution_count": 27,
     "metadata": {},
     "output_type": "execute_result"
    }
   ],
   "source": [
    "auc_te_iem[np.argmax(auc_tr_iem)]"
   ]
  },
  {
   "cell_type": "markdown",
   "metadata": {},
   "source": [
    "## sEM"
   ]
  },
  {
   "cell_type": "code",
   "execution_count": 34,
   "metadata": {},
   "outputs": [],
   "source": [
    "def calc_scores_sem(X, theta0, r, k, seed=0):\n",
    "    np.random.seed(seed)\n",
    "    \n",
    "    rho_const = np.repeat([r], X.shape[0])\n",
    "    pi_est, mu_est, sigma_est = sem(X, theta0, rho_const)\n",
    "    \n",
    "    anom_scores = [np.nan]\n",
    "    for t in range(1, pi_est.shape[0]):\n",
    "        p = np.zeros(k)\n",
    "        for i in range(k):\n",
    "            p_i = pi_est[t-1, i] * multivariate_normal(mu_est[t-1, i, :], sigma_est[t-1, i, :, :], allow_singular=True).pdf(X[t, :])\n",
    "            #except:\n",
    "            #    print(nearPD(sigma_est[t-1, i, :, :]))\n",
    "            #    p_i = pi_est[t-1, i] * multivariate_normal(mu_est[t-1, i, :], nearPD(sigma_est[t-1, i, :, :])).pdf(X[t, :])\n",
    "            p[i] = p_i\n",
    "        p_tot = np.sum(p)\n",
    "        if p_tot >= 1e-16:\n",
    "            anom_scores.append(-np.log(p_tot))\n",
    "        else:\n",
    "            anom_scores.append(-np.log(-1.0/np.finfo(np.float).min))\n",
    "                        \n",
    "    return anom_scores"
   ]
  },
  {
   "cell_type": "code",
   "execution_count": 35,
   "metadata": {},
   "outputs": [
    {
     "name": "stderr",
     "output_type": "stream",
     "text": [
      "  0%|          | 0/95156 [00:00<?, ?it/s]/Users/shi-fukushima/.pyenv/versions/anaconda3-5.3.1/lib/python3.7/site-packages/ipykernel_launcher.py:16: RuntimeWarning: invalid value encountered in true_divide\n",
      "  app.launch_new_instance()\n",
      "  0%|          | 282/95156 [00:00<00:33, 2812.10it/s]"
     ]
    },
    {
     "name": "stdout",
     "output_type": "stream",
     "text": [
      "r = 0.0001 , k = 1\n"
     ]
    },
    {
     "name": "stderr",
     "output_type": "stream",
     "text": [
      "100%|██████████| 95156/95156 [00:26<00:00, 3524.61it/s]\n",
      "/Users/shi-fukushima/.pyenv/versions/anaconda3-5.3.1/lib/python3.7/site-packages/ipykernel_launcher.py:20: DeprecationWarning: `np.float` is a deprecated alias for the builtin `float`. To silence this warning, use `float` by itself. Doing this will not modify any behavior and is safe. If you specifically wanted the numpy scalar type, use `np.float64` here.\n",
      "Deprecated in NumPy 1.20; for more details and guidance: https://numpy.org/devdocs/release/1.20.0-notes.html#deprecations\n",
      "  0%|          | 251/95156 [00:00<00:37, 2502.09it/s]"
     ]
    },
    {
     "name": "stdout",
     "output_type": "stream",
     "text": [
      "r = 0.0001 , k = 2\n"
     ]
    },
    {
     "name": "stderr",
     "output_type": "stream",
     "text": [
      "100%|██████████| 95156/95156 [00:41<00:00, 2297.59it/s]\n",
      "  0%|          | 170/95156 [00:00<00:55, 1698.32it/s]"
     ]
    },
    {
     "name": "stdout",
     "output_type": "stream",
     "text": [
      "r = 0.0001 , k = 3\n"
     ]
    },
    {
     "name": "stderr",
     "output_type": "stream",
     "text": [
      "100%|██████████| 95156/95156 [00:58<00:00, 1614.17it/s]\n",
      "  0%|          | 371/95156 [00:00<00:25, 3706.42it/s]"
     ]
    },
    {
     "name": "stdout",
     "output_type": "stream",
     "text": [
      "r = 0.0003 , k = 1\n"
     ]
    },
    {
     "name": "stderr",
     "output_type": "stream",
     "text": [
      "100%|██████████| 95156/95156 [00:25<00:00, 3693.68it/s]\n",
      "  0%|          | 223/95156 [00:00<00:42, 2228.73it/s]"
     ]
    },
    {
     "name": "stdout",
     "output_type": "stream",
     "text": [
      "r = 0.0003 , k = 2\n"
     ]
    },
    {
     "name": "stderr",
     "output_type": "stream",
     "text": [
      "100%|██████████| 95156/95156 [00:43<00:00, 2202.86it/s]\n",
      "  0%|          | 151/95156 [00:00<01:03, 1505.56it/s]"
     ]
    },
    {
     "name": "stdout",
     "output_type": "stream",
     "text": [
      "r = 0.0003 , k = 3\n"
     ]
    },
    {
     "name": "stderr",
     "output_type": "stream",
     "text": [
      "100%|██████████| 95156/95156 [01:02<00:00, 1525.09it/s]\n",
      "  0%|          | 384/95156 [00:00<00:24, 3831.76it/s]"
     ]
    },
    {
     "name": "stdout",
     "output_type": "stream",
     "text": [
      "r = 0.0005 , k = 1\n"
     ]
    },
    {
     "name": "stderr",
     "output_type": "stream",
     "text": [
      "100%|██████████| 95156/95156 [00:24<00:00, 3904.31it/s]\n",
      "  0%|          | 224/95156 [00:00<00:42, 2234.48it/s]"
     ]
    },
    {
     "name": "stdout",
     "output_type": "stream",
     "text": [
      "r = 0.0005 , k = 2\n"
     ]
    },
    {
     "name": "stderr",
     "output_type": "stream",
     "text": [
      "100%|██████████| 95156/95156 [00:40<00:00, 2340.63it/s]\n",
      "  0%|          | 166/95156 [00:00<00:57, 1651.89it/s]"
     ]
    },
    {
     "name": "stdout",
     "output_type": "stream",
     "text": [
      "r = 0.0005 , k = 3\n"
     ]
    },
    {
     "name": "stderr",
     "output_type": "stream",
     "text": [
      "100%|██████████| 95156/95156 [01:02<00:00, 1513.15it/s]\n",
      "  0%|          | 321/95156 [00:00<00:29, 3201.04it/s]"
     ]
    },
    {
     "name": "stdout",
     "output_type": "stream",
     "text": [
      "r = 0.001 , k = 1\n"
     ]
    },
    {
     "name": "stderr",
     "output_type": "stream",
     "text": [
      "100%|██████████| 95156/95156 [00:28<00:00, 3337.17it/s]\n",
      "  0%|          | 203/95156 [00:00<00:46, 2024.84it/s]"
     ]
    },
    {
     "name": "stdout",
     "output_type": "stream",
     "text": [
      "r = 0.001 , k = 2\n"
     ]
    },
    {
     "name": "stderr",
     "output_type": "stream",
     "text": [
      "100%|██████████| 95156/95156 [00:44<00:00, 2158.46it/s]\n",
      "  0%|          | 131/95156 [00:00<01:13, 1299.58it/s]"
     ]
    },
    {
     "name": "stdout",
     "output_type": "stream",
     "text": [
      "r = 0.001 , k = 3\n"
     ]
    },
    {
     "name": "stderr",
     "output_type": "stream",
     "text": [
      "100%|██████████| 95156/95156 [01:07<00:00, 1401.51it/s]\n",
      "  0%|          | 357/95156 [00:00<00:26, 3565.80it/s]"
     ]
    },
    {
     "name": "stdout",
     "output_type": "stream",
     "text": [
      "r = 0.0001 , k = 1\n"
     ]
    },
    {
     "name": "stderr",
     "output_type": "stream",
     "text": [
      "100%|██████████| 95156/95156 [00:26<00:00, 3622.74it/s]\n",
      "  0%|          | 223/95156 [00:00<00:42, 2225.50it/s]"
     ]
    },
    {
     "name": "stdout",
     "output_type": "stream",
     "text": [
      "r = 0.0001 , k = 2\n"
     ]
    },
    {
     "name": "stderr",
     "output_type": "stream",
     "text": [
      "100%|██████████| 95156/95156 [00:41<00:00, 2303.32it/s]\n",
      "  0%|          | 162/95156 [00:00<00:58, 1619.87it/s]"
     ]
    },
    {
     "name": "stdout",
     "output_type": "stream",
     "text": [
      "r = 0.0001 , k = 3\n"
     ]
    },
    {
     "name": "stderr",
     "output_type": "stream",
     "text": [
      "100%|██████████| 95156/95156 [00:56<00:00, 1689.80it/s]\n",
      "  0%|          | 371/95156 [00:00<00:25, 3702.08it/s]"
     ]
    },
    {
     "name": "stdout",
     "output_type": "stream",
     "text": [
      "r = 0.0003 , k = 1\n"
     ]
    },
    {
     "name": "stderr",
     "output_type": "stream",
     "text": [
      "100%|██████████| 95156/95156 [00:26<00:00, 3619.77it/s]\n",
      "  0%|          | 221/95156 [00:00<00:42, 2208.04it/s]"
     ]
    },
    {
     "name": "stdout",
     "output_type": "stream",
     "text": [
      "r = 0.0003 , k = 2\n"
     ]
    },
    {
     "name": "stderr",
     "output_type": "stream",
     "text": [
      "100%|██████████| 95156/95156 [00:43<00:00, 2166.53it/s]\n",
      "  0%|          | 162/95156 [00:00<00:58, 1610.58it/s]"
     ]
    },
    {
     "name": "stdout",
     "output_type": "stream",
     "text": [
      "r = 0.0003 , k = 3\n"
     ]
    },
    {
     "name": "stderr",
     "output_type": "stream",
     "text": [
      "100%|██████████| 95156/95156 [01:03<00:00, 1509.77it/s]\n",
      "  0%|          | 316/95156 [00:00<00:30, 3157.19it/s]"
     ]
    },
    {
     "name": "stdout",
     "output_type": "stream",
     "text": [
      "r = 0.0005 , k = 1\n"
     ]
    },
    {
     "name": "stderr",
     "output_type": "stream",
     "text": [
      "100%|██████████| 95156/95156 [00:28<00:00, 3364.61it/s]\n",
      "  0%|          | 183/95156 [00:00<00:52, 1825.29it/s]"
     ]
    },
    {
     "name": "stdout",
     "output_type": "stream",
     "text": [
      "r = 0.0005 , k = 2\n"
     ]
    },
    {
     "name": "stderr",
     "output_type": "stream",
     "text": [
      "100%|██████████| 95156/95156 [00:44<00:00, 2140.90it/s]\n",
      "  0%|          | 158/95156 [00:00<01:00, 1570.78it/s]"
     ]
    },
    {
     "name": "stdout",
     "output_type": "stream",
     "text": [
      "r = 0.0005 , k = 3\n"
     ]
    },
    {
     "name": "stderr",
     "output_type": "stream",
     "text": [
      "100%|██████████| 95156/95156 [00:59<00:00, 1593.94it/s]\n",
      "  0%|          | 400/95156 [00:00<00:23, 3989.95it/s]"
     ]
    },
    {
     "name": "stdout",
     "output_type": "stream",
     "text": [
      "r = 0.001 , k = 1\n"
     ]
    },
    {
     "name": "stderr",
     "output_type": "stream",
     "text": [
      "100%|██████████| 95156/95156 [00:27<00:00, 3489.06it/s]\n",
      "  0%|          | 443/95156 [00:00<00:42, 2216.19it/s]"
     ]
    },
    {
     "name": "stdout",
     "output_type": "stream",
     "text": [
      "r = 0.001 , k = 2\n"
     ]
    },
    {
     "name": "stderr",
     "output_type": "stream",
     "text": [
      "100%|██████████| 95156/95156 [00:43<00:00, 2164.26it/s]\n",
      "  0%|          | 135/95156 [00:00<01:10, 1344.06it/s]"
     ]
    },
    {
     "name": "stdout",
     "output_type": "stream",
     "text": [
      "r = 0.001 , k = 3\n"
     ]
    },
    {
     "name": "stderr",
     "output_type": "stream",
     "text": [
      "100%|██████████| 95156/95156 [01:02<00:00, 1523.48it/s]\n",
      "  0%|          | 367/95156 [00:00<00:25, 3666.15it/s]"
     ]
    },
    {
     "name": "stdout",
     "output_type": "stream",
     "text": [
      "r = 0.0001 , k = 1\n"
     ]
    },
    {
     "name": "stderr",
     "output_type": "stream",
     "text": [
      "100%|██████████| 95156/95156 [00:25<00:00, 3701.03it/s]\n",
      "  0%|          | 226/95156 [00:00<00:42, 2253.51it/s]"
     ]
    },
    {
     "name": "stdout",
     "output_type": "stream",
     "text": [
      "r = 0.0001 , k = 2\n"
     ]
    },
    {
     "name": "stderr",
     "output_type": "stream",
     "text": [
      "100%|██████████| 95156/95156 [00:45<00:00, 2073.69it/s]\n",
      "  0%|          | 162/95156 [00:00<00:59, 1610.02it/s]"
     ]
    },
    {
     "name": "stdout",
     "output_type": "stream",
     "text": [
      "r = 0.0001 , k = 3\n"
     ]
    },
    {
     "name": "stderr",
     "output_type": "stream",
     "text": [
      "100%|██████████| 95156/95156 [01:01<00:00, 1536.37it/s]\n",
      "  0%|          | 348/95156 [00:00<00:27, 3473.02it/s]"
     ]
    },
    {
     "name": "stdout",
     "output_type": "stream",
     "text": [
      "r = 0.0003 , k = 1\n"
     ]
    },
    {
     "name": "stderr",
     "output_type": "stream",
     "text": [
      "100%|██████████| 95156/95156 [00:27<00:00, 3402.91it/s]\n",
      "  0%|          | 216/95156 [00:00<00:44, 2155.39it/s]"
     ]
    },
    {
     "name": "stdout",
     "output_type": "stream",
     "text": [
      "r = 0.0003 , k = 2\n"
     ]
    },
    {
     "name": "stderr",
     "output_type": "stream",
     "text": [
      "100%|██████████| 95156/95156 [00:44<00:00, 2146.13it/s]\n",
      "  0%|          | 148/95156 [00:00<01:04, 1478.08it/s]"
     ]
    },
    {
     "name": "stdout",
     "output_type": "stream",
     "text": [
      "r = 0.0003 , k = 3\n"
     ]
    },
    {
     "name": "stderr",
     "output_type": "stream",
     "text": [
      "100%|██████████| 95156/95156 [01:00<00:00, 1580.84it/s]\n",
      "  1%|          | 753/95156 [00:00<00:25, 3761.91it/s]"
     ]
    },
    {
     "name": "stdout",
     "output_type": "stream",
     "text": [
      "r = 0.0005 , k = 1\n"
     ]
    },
    {
     "name": "stderr",
     "output_type": "stream",
     "text": [
      "100%|██████████| 95156/95156 [00:26<00:00, 3568.53it/s]\n",
      "  0%|          | 232/95156 [00:00<00:41, 2312.81it/s]"
     ]
    },
    {
     "name": "stdout",
     "output_type": "stream",
     "text": [
      "r = 0.0005 , k = 2\n"
     ]
    },
    {
     "name": "stderr",
     "output_type": "stream",
     "text": [
      "100%|██████████| 95156/95156 [00:43<00:00, 2164.55it/s]\n",
      "  0%|          | 159/95156 [00:00<01:00, 1582.17it/s]"
     ]
    },
    {
     "name": "stdout",
     "output_type": "stream",
     "text": [
      "r = 0.0005 , k = 3\n"
     ]
    },
    {
     "name": "stderr",
     "output_type": "stream",
     "text": [
      "100%|██████████| 95156/95156 [01:02<00:00, 1511.36it/s]\n",
      "  0%|          | 387/95156 [00:00<00:24, 3862.39it/s]"
     ]
    },
    {
     "name": "stdout",
     "output_type": "stream",
     "text": [
      "r = 0.001 , k = 1\n"
     ]
    },
    {
     "name": "stderr",
     "output_type": "stream",
     "text": [
      "100%|██████████| 95156/95156 [00:25<00:00, 3691.14it/s]\n",
      "  0%|          | 221/95156 [00:00<00:43, 2202.07it/s]"
     ]
    },
    {
     "name": "stdout",
     "output_type": "stream",
     "text": [
      "r = 0.001 , k = 2\n"
     ]
    },
    {
     "name": "stderr",
     "output_type": "stream",
     "text": [
      "100%|██████████| 95156/95156 [00:41<00:00, 2304.87it/s]\n",
      "  0%|          | 168/95156 [00:00<00:56, 1671.04it/s]"
     ]
    },
    {
     "name": "stdout",
     "output_type": "stream",
     "text": [
      "r = 0.001 , k = 3\n"
     ]
    },
    {
     "name": "stderr",
     "output_type": "stream",
     "text": [
      "100%|██████████| 95156/95156 [01:00<00:00, 1574.27it/s]\n",
      "  1%|          | 661/95156 [00:00<00:28, 3316.92it/s]"
     ]
    },
    {
     "name": "stdout",
     "output_type": "stream",
     "text": [
      "r = 0.0001 , k = 1\n"
     ]
    },
    {
     "name": "stderr",
     "output_type": "stream",
     "text": [
      "100%|██████████| 95156/95156 [00:26<00:00, 3622.22it/s]\n",
      "  0%|          | 219/95156 [00:00<00:43, 2179.52it/s]"
     ]
    },
    {
     "name": "stdout",
     "output_type": "stream",
     "text": [
      "r = 0.0001 , k = 2\n"
     ]
    },
    {
     "name": "stderr",
     "output_type": "stream",
     "text": [
      "100%|██████████| 95156/95156 [00:44<00:00, 2136.64it/s]\n",
      "  0%|          | 165/95156 [00:00<00:57, 1641.68it/s]"
     ]
    },
    {
     "name": "stdout",
     "output_type": "stream",
     "text": [
      "r = 0.0001 , k = 3\n"
     ]
    },
    {
     "name": "stderr",
     "output_type": "stream",
     "text": [
      "100%|██████████| 95156/95156 [01:02<00:00, 1514.09it/s]\n",
      "  0%|          | 356/95156 [00:00<00:26, 3559.07it/s]"
     ]
    },
    {
     "name": "stdout",
     "output_type": "stream",
     "text": [
      "r = 0.0003 , k = 1\n"
     ]
    },
    {
     "name": "stderr",
     "output_type": "stream",
     "text": [
      "100%|██████████| 95156/95156 [00:26<00:00, 3564.76it/s]\n",
      "  0%|          | 232/95156 [00:00<00:40, 2316.29it/s]"
     ]
    },
    {
     "name": "stdout",
     "output_type": "stream",
     "text": [
      "r = 0.0003 , k = 2\n"
     ]
    },
    {
     "name": "stderr",
     "output_type": "stream",
     "text": [
      "100%|██████████| 95156/95156 [00:42<00:00, 2225.16it/s]\n",
      "  0%|          | 150/95156 [00:00<01:03, 1492.28it/s]"
     ]
    },
    {
     "name": "stdout",
     "output_type": "stream",
     "text": [
      "r = 0.0003 , k = 3\n"
     ]
    },
    {
     "name": "stderr",
     "output_type": "stream",
     "text": [
      "100%|██████████| 95156/95156 [00:59<00:00, 1591.42it/s]\n",
      "  0%|          | 381/95156 [00:00<00:24, 3804.14it/s]"
     ]
    },
    {
     "name": "stdout",
     "output_type": "stream",
     "text": [
      "r = 0.0005 , k = 1\n"
     ]
    },
    {
     "name": "stderr",
     "output_type": "stream",
     "text": [
      "100%|██████████| 95156/95156 [00:28<00:00, 3348.27it/s]\n",
      "  0%|          | 231/95156 [00:00<00:41, 2304.95it/s]"
     ]
    },
    {
     "name": "stdout",
     "output_type": "stream",
     "text": [
      "r = 0.0005 , k = 2\n"
     ]
    },
    {
     "name": "stderr",
     "output_type": "stream",
     "text": [
      "100%|██████████| 95156/95156 [00:42<00:00, 2224.23it/s]\n",
      "  0%|          | 158/95156 [00:00<01:00, 1577.84it/s]"
     ]
    },
    {
     "name": "stdout",
     "output_type": "stream",
     "text": [
      "r = 0.0005 , k = 3\n"
     ]
    },
    {
     "name": "stderr",
     "output_type": "stream",
     "text": [
      "100%|██████████| 95156/95156 [01:01<00:00, 1553.12it/s]\n",
      "  1%|          | 742/95156 [00:00<00:25, 3712.31it/s]"
     ]
    },
    {
     "name": "stdout",
     "output_type": "stream",
     "text": [
      "r = 0.001 , k = 1\n"
     ]
    },
    {
     "name": "stderr",
     "output_type": "stream",
     "text": [
      "100%|██████████| 95156/95156 [00:26<00:00, 3551.30it/s]\n",
      "  0%|          | 219/95156 [00:00<00:43, 2184.56it/s]"
     ]
    },
    {
     "name": "stdout",
     "output_type": "stream",
     "text": [
      "r = 0.001 , k = 2\n"
     ]
    },
    {
     "name": "stderr",
     "output_type": "stream",
     "text": [
      "100%|██████████| 95156/95156 [00:44<00:00, 2154.92it/s]\n",
      "  0%|          | 158/95156 [00:00<01:00, 1574.30it/s]"
     ]
    },
    {
     "name": "stdout",
     "output_type": "stream",
     "text": [
      "r = 0.001 , k = 3\n"
     ]
    },
    {
     "name": "stderr",
     "output_type": "stream",
     "text": [
      "100%|██████████| 95156/95156 [01:03<00:00, 1502.65it/s]\n",
      "  0%|          | 376/95156 [00:00<00:25, 3758.76it/s]"
     ]
    },
    {
     "name": "stdout",
     "output_type": "stream",
     "text": [
      "r = 0.0001 , k = 1\n"
     ]
    },
    {
     "name": "stderr",
     "output_type": "stream",
     "text": [
      "100%|██████████| 95156/95156 [00:25<00:00, 3726.51it/s]\n",
      "  0%|          | 224/95156 [00:00<00:42, 2239.27it/s]"
     ]
    },
    {
     "name": "stdout",
     "output_type": "stream",
     "text": [
      "r = 0.0001 , k = 2\n"
     ]
    },
    {
     "name": "stderr",
     "output_type": "stream",
     "text": [
      "100%|██████████| 95156/95156 [00:43<00:00, 2164.63it/s]\n",
      "  0%|          | 166/95156 [00:00<00:57, 1651.05it/s]"
     ]
    },
    {
     "name": "stdout",
     "output_type": "stream",
     "text": [
      "r = 0.0001 , k = 3\n"
     ]
    },
    {
     "name": "stderr",
     "output_type": "stream",
     "text": [
      "100%|██████████| 95156/95156 [01:02<00:00, 1512.94it/s]\n",
      "  0%|          | 348/95156 [00:00<00:27, 3472.30it/s]"
     ]
    },
    {
     "name": "stdout",
     "output_type": "stream",
     "text": [
      "r = 0.0003 , k = 1\n"
     ]
    },
    {
     "name": "stderr",
     "output_type": "stream",
     "text": [
      "100%|██████████| 95156/95156 [00:25<00:00, 3727.33it/s]\n",
      "  0%|          | 221/95156 [00:00<00:42, 2208.99it/s]"
     ]
    },
    {
     "name": "stdout",
     "output_type": "stream",
     "text": [
      "r = 0.0003 , k = 2\n"
     ]
    },
    {
     "name": "stderr",
     "output_type": "stream",
     "text": [
      "100%|██████████| 95156/95156 [00:43<00:00, 2196.66it/s]\n",
      "  0%|          | 164/95156 [00:00<00:58, 1637.69it/s]"
     ]
    },
    {
     "name": "stdout",
     "output_type": "stream",
     "text": [
      "r = 0.0003 , k = 3\n"
     ]
    },
    {
     "name": "stderr",
     "output_type": "stream",
     "text": [
      "100%|██████████| 95156/95156 [00:59<00:00, 1587.61it/s]\n",
      "  0%|          | 387/95156 [00:00<00:24, 3866.01it/s]"
     ]
    },
    {
     "name": "stdout",
     "output_type": "stream",
     "text": [
      "r = 0.0005 , k = 1\n"
     ]
    },
    {
     "name": "stderr",
     "output_type": "stream",
     "text": [
      "100%|██████████| 95156/95156 [00:24<00:00, 3870.67it/s]\n",
      "  0%|          | 224/95156 [00:00<00:42, 2237.05it/s]"
     ]
    },
    {
     "name": "stdout",
     "output_type": "stream",
     "text": [
      "r = 0.0005 , k = 2\n"
     ]
    },
    {
     "name": "stderr",
     "output_type": "stream",
     "text": [
      "100%|██████████| 95156/95156 [00:41<00:00, 2297.98it/s]\n",
      "  0%|          | 151/95156 [00:00<01:02, 1508.46it/s]"
     ]
    },
    {
     "name": "stdout",
     "output_type": "stream",
     "text": [
      "r = 0.0005 , k = 3\n"
     ]
    },
    {
     "name": "stderr",
     "output_type": "stream",
     "text": [
      "100%|██████████| 95156/95156 [01:01<00:00, 1556.47it/s]\n",
      "  0%|          | 321/95156 [00:00<00:29, 3209.09it/s]"
     ]
    },
    {
     "name": "stdout",
     "output_type": "stream",
     "text": [
      "r = 0.001 , k = 1\n"
     ]
    },
    {
     "name": "stderr",
     "output_type": "stream",
     "text": [
      "100%|██████████| 95156/95156 [00:26<00:00, 3583.16it/s]\n",
      "  0%|          | 222/95156 [00:00<00:42, 2218.49it/s]"
     ]
    },
    {
     "name": "stdout",
     "output_type": "stream",
     "text": [
      "r = 0.001 , k = 2\n"
     ]
    },
    {
     "name": "stderr",
     "output_type": "stream",
     "text": [
      "100%|██████████| 95156/95156 [00:43<00:00, 2189.99it/s]\n",
      "  0%|          | 154/95156 [00:00<01:02, 1531.68it/s]"
     ]
    },
    {
     "name": "stdout",
     "output_type": "stream",
     "text": [
      "r = 0.001 , k = 3\n"
     ]
    },
    {
     "name": "stderr",
     "output_type": "stream",
     "text": [
      "100%|██████████| 95156/95156 [01:03<00:00, 1490.59it/s]\n"
     ]
    }
   ],
   "source": [
    "n_trial = 5\n",
    "\n",
    "k_list = [1, 2, 3]\n",
    "r_list = [0.0001, 0.0003, 0.0005, 0.001]\n",
    "\n",
    "auc_tr_sem = np.zeros((n_trial, len(r_list), len(k_list)))\n",
    "auc_te_sem = np.zeros((n_trial, len(r_list), len(k_list)))\n",
    "\n",
    "for n in range(n_trial):\n",
    "    for i, r in enumerate(r_list):\n",
    "        for j, k in enumerate(k_list):\n",
    "            print('r =', r, ', k =', k)\n",
    "            seed = i*len(k_list) + j\n",
    "            np.random.seed(seed)\n",
    "\n",
    "            pi0 = np.array([1/k] * k).reshape(-1, 1)\n",
    "            mu0 = np.hstack([ \n",
    "                      np.random.uniform(np.min(X[:40000, col]), np.max(X[:40000, col]), k).reshape(-1, 1)\n",
    "                      for col in range(X.shape[1])\n",
    "                  ])\n",
    "            sigma0 = np.stack([np.diag( (X[:40000, :].max(axis=0) - X[:40000, :].min(axis=0)) /10) for _ in range(k)])\n",
    "            theta0 = Theta(pi0, mu0, sigma0)\n",
    "\n",
    "            anom_scores = calc_scores_sem(X, theta0, r, k, seed=seed)\n",
    "\n",
    "            fpr_tr, tpr_tr, thresholds_tr = roc_curve(y[10000:40000], anom_scores[10000:40000], pos_label=1)\n",
    "            auc_tr_sem[n, i, j] = auc(fpr_tr, tpr_tr)\n",
    "\n",
    "            fpr_te, tpr_te, thresholds_te = roc_curve(y[40000:], anom_scores[40000:], pos_label=1)\n",
    "            auc_te_sem[n, i, j] = auc(fpr_te, tpr_te)"
   ]
  },
  {
   "cell_type": "code",
   "execution_count": 36,
   "metadata": {},
   "outputs": [
    {
     "data": {
      "text/plain": [
       "array([[0.99441406, 0.9955646 , 0.99987494],\n",
       "       [0.99974036, 0.99974036, 0.99972725],\n",
       "       [0.99978323, 0.99984517, 0.99978323],\n",
       "       [0.99917581, 0.9993497 , 0.99895666]])"
      ]
     },
     "execution_count": 36,
     "metadata": {},
     "output_type": "execute_result"
    }
   ],
   "source": [
    "np.mean(auc_tr_sem, axis=0)"
   ]
  },
  {
   "cell_type": "code",
   "execution_count": 38,
   "metadata": {},
   "outputs": [
    {
     "data": {
      "text/plain": [
       "array([[0.00000000e+00, 0.00000000e+00, 0.00000000e+00],\n",
       "       [1.11022302e-16, 1.11022302e-16, 0.00000000e+00],\n",
       "       [0.00000000e+00, 1.11022302e-16, 0.00000000e+00],\n",
       "       [1.11022302e-16, 0.00000000e+00, 0.00000000e+00]])"
      ]
     },
     "execution_count": 38,
     "metadata": {},
     "output_type": "execute_result"
    }
   ],
   "source": [
    "np.std(auc_tr_sem, axis=0)"
   ]
  },
  {
   "cell_type": "code",
   "execution_count": 39,
   "metadata": {},
   "outputs": [
    {
     "data": {
      "text/plain": [
       "array([[0.6874626 , 0.85846765, 0.90712164],\n",
       "       [0.67746418, 0.67746418, 0.72133093],\n",
       "       [0.67939563, 0.84466925, 0.68824413],\n",
       "       [0.69762253, 0.69656896, 0.74514588]])"
      ]
     },
     "execution_count": 39,
     "metadata": {},
     "output_type": "execute_result"
    }
   ],
   "source": [
    "np.mean(auc_te_sem, axis=0)"
   ]
  },
  {
   "cell_type": "code",
   "execution_count": 40,
   "metadata": {},
   "outputs": [
    {
     "data": {
      "text/plain": [
       "array([[0.00000000e+00, 1.11022302e-16, 1.11022302e-16],\n",
       "       [0.00000000e+00, 0.00000000e+00, 0.00000000e+00],\n",
       "       [0.00000000e+00, 0.00000000e+00, 0.00000000e+00],\n",
       "       [0.00000000e+00, 0.00000000e+00, 0.00000000e+00]])"
      ]
     },
     "execution_count": 40,
     "metadata": {},
     "output_type": "execute_result"
    }
   ],
   "source": [
    "np.std(auc_te_sem, axis=0)"
   ]
  },
  {
   "cell_type": "code",
   "execution_count": 44,
   "metadata": {},
   "outputs": [
    {
     "data": {
      "text/plain": [
       "(0, 1)"
      ]
     },
     "execution_count": 44,
     "metadata": {},
     "output_type": "execute_result"
    }
   ],
   "source": [
    "np.unravel_index(np.argmax(auc_tr_sem), auc_tr_sem.shape)"
   ]
  },
  {
   "cell_type": "code",
   "execution_count": 46,
   "metadata": {},
   "outputs": [
    {
     "data": {
      "text/plain": [
       "0.9957027565244733"
      ]
     },
     "execution_count": 46,
     "metadata": {},
     "output_type": "execute_result"
    }
   ],
   "source": [
    "auc_tr_sem[0, 1]"
   ]
  },
  {
   "cell_type": "code",
   "execution_count": 47,
   "metadata": {},
   "outputs": [
    {
     "data": {
      "text/plain": [
       "0.772649165759884"
      ]
     },
     "execution_count": 47,
     "metadata": {},
     "output_type": "execute_result"
    }
   ],
   "source": [
    "auc_te_sem[0, 1]"
   ]
  },
  {
   "cell_type": "markdown",
   "metadata": {},
   "source": [
    "## SRA"
   ]
  },
  {
   "cell_type": "code",
   "execution_count": 41,
   "metadata": {},
   "outputs": [],
   "source": [
    "#def calc_scores_sra(X, theta0, k, gamma, d0, M, L_alpha, seed=0):\n",
    "def calc_scores_sra(X, theta0, k, gamma, ratio, M, seed=0):\n",
    "    np.random.seed(seed)\n",
    "    \n",
    "    #rho = (d0+1) * np.exp(-gamma**2/M**2) / (2.0*L_alpha*gamma)\n",
    "    rho = ratio * np.exp(-gamma**2/M**2) / (2.0*gamma)\n",
    "    rho_const = np.repeat(rho, X.shape[0])\n",
    "    pi_est, mu_est, sigma_est = sra(X, theta0, rho_const, gamma)\n",
    "    \n",
    "    anom_scores = []\n",
    "    for t in range(pi_est.shape[0]):\n",
    "        p = np.zeros(k)\n",
    "        for i in range(k):\n",
    "            p_i = pi_est[t-1, i] * multivariate_normal(mu_est[t-1, i, :], sigma_est[t-1, i, :, :], allow_singular=True).pdf(X[t, :])\n",
    "            #except:\n",
    "            #    print(nearPD(sigma_est[t-1, i, :, :]))\n",
    "            #    p_i = pi_est[t-1, i] * multivariate_normal(mu_est[t-1, i, :], nearPD(sigma_est[t-1, i, :, :])).pdf(X[t, :])\n",
    "            p[i] = p_i\n",
    "        p_tot = np.sum(p)\n",
    "        if p_tot >= 1e-16:\n",
    "            anom_scores.append(-np.log(p_tot))\n",
    "        else:\n",
    "            anom_scores.append(-np.log(-1.0/np.finfo(np.float).min))\n",
    "                        \n",
    "    return anom_scores"
   ]
  },
  {
   "cell_type": "code",
   "execution_count": 42,
   "metadata": {},
   "outputs": [],
   "source": [
    "n_trial = 5\n",
    "k_list = [2, 3]\n",
    "gamma_list = [5, 10, 15]\n",
    "ratio_list = [0.1, 0.5, 1.0]\n",
    "#d0_list = [0.1, 0.5, 1.0]\n",
    "#d0_list = [1.0, 5.0, 10.0]\n",
    "#M_list = [0.5, 1.0, 2.0]\n",
    "M_list = [1.0, 5.0, 10.0]\n",
    "#L_alpha_list = [0.5, 1.0, 2.0]\n",
    "#L_alpha_list = [2.0, 10.0, 20.0]"
   ]
  },
  {
   "cell_type": "code",
   "execution_count": 44,
   "metadata": {},
   "outputs": [
    {
     "name": "stderr",
     "output_type": "stream",
     "text": [
      "  0%|          | 0/95156 [00:00<?, ?it/s]/Users/shi-fukushima/.pyenv/versions/anaconda3-5.3.1/lib/python3.7/site-packages/ipykernel_launcher.py:16: RuntimeWarning: invalid value encountered in true_divide\n",
      "  app.launch_new_instance()\n",
      "100%|██████████| 95156/95156 [00:42<00:00, 2217.24it/s]\n",
      "/Users/shi-fukushima/.pyenv/versions/anaconda3-5.3.1/lib/python3.7/site-packages/ipykernel_launcher.py:23: DeprecationWarning: `np.float` is a deprecated alias for the builtin `float`. To silence this warning, use `float` by itself. Doing this will not modify any behavior and is safe. If you specifically wanted the numpy scalar type, use `np.float64` here.\n",
      "Deprecated in NumPy 1.20; for more details and guidance: https://numpy.org/devdocs/release/1.20.0-notes.html#deprecations\n",
      "  1%|          | 505/95156 [00:00<00:37, 2525.51it/s]"
     ]
    },
    {
     "name": "stdout",
     "output_type": "stream",
     "text": [
      "gamma= 5 , ratio= 0.1 , M= 1.0 : 0.8960282916213276\n"
     ]
    },
    {
     "name": "stderr",
     "output_type": "stream",
     "text": [
      "100%|██████████| 95156/95156 [00:44<00:00, 2158.02it/s]\n",
      "  0%|          | 238/95156 [00:00<00:39, 2378.58it/s]"
     ]
    },
    {
     "name": "stdout",
     "output_type": "stream",
     "text": [
      "gamma= 5 , ratio= 0.1 , M= 5.0 : 0.9236035545883207\n"
     ]
    },
    {
     "name": "stderr",
     "output_type": "stream",
     "text": [
      "100%|██████████| 95156/95156 [00:43<00:00, 2212.06it/s]\n",
      "  0%|          | 236/95156 [00:00<00:40, 2357.34it/s]"
     ]
    },
    {
     "name": "stdout",
     "output_type": "stream",
     "text": [
      "gamma= 5 , ratio= 0.1 , M= 10.0 : 0.9167380758070366\n"
     ]
    },
    {
     "name": "stderr",
     "output_type": "stream",
     "text": [
      "100%|██████████| 95156/95156 [00:44<00:00, 2155.07it/s]\n",
      "  0%|          | 221/95156 [00:00<00:43, 2203.70it/s]"
     ]
    },
    {
     "name": "stdout",
     "output_type": "stream",
     "text": [
      "gamma= 5 , ratio= 0.5 , M= 1.0 : 0.8960282916213276\n"
     ]
    },
    {
     "name": "stderr",
     "output_type": "stream",
     "text": [
      "100%|██████████| 95156/95156 [00:42<00:00, 2218.79it/s]\n",
      "  0%|          | 220/95156 [00:00<00:43, 2199.25it/s]"
     ]
    },
    {
     "name": "stdout",
     "output_type": "stream",
     "text": [
      "gamma= 5 , ratio= 0.5 , M= 5.0 : 0.9192753672470075\n"
     ]
    },
    {
     "name": "stderr",
     "output_type": "stream",
     "text": [
      "100%|██████████| 95156/95156 [00:41<00:00, 2292.15it/s]\n",
      "  0%|          | 199/95156 [00:00<00:47, 1989.05it/s]"
     ]
    },
    {
     "name": "stdout",
     "output_type": "stream",
     "text": [
      "gamma= 5 , ratio= 0.5 , M= 10.0 : 0.8768317011244107\n"
     ]
    },
    {
     "name": "stderr",
     "output_type": "stream",
     "text": [
      "100%|██████████| 95156/95156 [00:42<00:00, 2217.35it/s]\n",
      "  0%|          | 229/95156 [00:00<00:41, 2287.78it/s]"
     ]
    },
    {
     "name": "stdout",
     "output_type": "stream",
     "text": [
      "gamma= 5 , ratio= 1.0 , M= 1.0 : 0.8960282916213276\n"
     ]
    },
    {
     "name": "stderr",
     "output_type": "stream",
     "text": [
      "100%|██████████| 95156/95156 [00:41<00:00, 2284.61it/s]\n",
      "  0%|          | 191/95156 [00:00<00:49, 1909.14it/s]"
     ]
    },
    {
     "name": "stdout",
     "output_type": "stream",
     "text": [
      "gamma= 5 , ratio= 1.0 , M= 5.0 : 0.8832585237577076\n"
     ]
    },
    {
     "name": "stderr",
     "output_type": "stream",
     "text": [
      "100%|██████████| 95156/95156 [00:44<00:00, 2160.10it/s]\n",
      "  0%|          | 197/95156 [00:00<00:48, 1967.03it/s]"
     ]
    },
    {
     "name": "stdout",
     "output_type": "stream",
     "text": [
      "gamma= 5 , ratio= 1.0 , M= 10.0 : 0.5\n"
     ]
    },
    {
     "name": "stderr",
     "output_type": "stream",
     "text": [
      "100%|██████████| 95156/95156 [00:42<00:00, 2236.29it/s]\n",
      "  0%|          | 337/95156 [00:00<00:56, 1690.03it/s]"
     ]
    },
    {
     "name": "stdout",
     "output_type": "stream",
     "text": [
      "gamma= 10 , ratio= 0.1 , M= 1.0 : 0.8960282916213276\n"
     ]
    },
    {
     "name": "stderr",
     "output_type": "stream",
     "text": [
      "100%|██████████| 95156/95156 [00:41<00:00, 2291.15it/s]\n",
      "  0%|          | 220/95156 [00:00<00:43, 2191.63it/s]"
     ]
    },
    {
     "name": "stdout",
     "output_type": "stream",
     "text": [
      "gamma= 10 , ratio= 0.1 , M= 5.0 : 0.8960736307580703\n"
     ]
    },
    {
     "name": "stderr",
     "output_type": "stream",
     "text": [
      "100%|██████████| 95156/95156 [00:44<00:00, 2151.18it/s]\n",
      "  0%|          | 251/95156 [00:00<00:37, 2508.06it/s]"
     ]
    },
    {
     "name": "stdout",
     "output_type": "stream",
     "text": [
      "gamma= 10 , ratio= 0.1 , M= 10.0 : 0.8992020311933261\n"
     ]
    },
    {
     "name": "stderr",
     "output_type": "stream",
     "text": [
      "100%|██████████| 95156/95156 [00:41<00:00, 2319.24it/s]\n",
      "  0%|          | 238/95156 [00:00<00:39, 2374.83it/s]"
     ]
    },
    {
     "name": "stdout",
     "output_type": "stream",
     "text": [
      "gamma= 10 , ratio= 0.5 , M= 1.0 : 0.8960282916213276\n"
     ]
    },
    {
     "name": "stderr",
     "output_type": "stream",
     "text": [
      "100%|██████████| 95156/95156 [00:40<00:00, 2355.52it/s]\n",
      "  0%|          | 243/95156 [00:00<00:39, 2428.54it/s]"
     ]
    },
    {
     "name": "stdout",
     "output_type": "stream",
     "text": [
      "gamma= 10 , ratio= 0.5 , M= 5.0 : 0.896146173376859\n"
     ]
    },
    {
     "name": "stderr",
     "output_type": "stream",
     "text": [
      "100%|██████████| 95156/95156 [00:41<00:00, 2303.36it/s]\n",
      "  1%|          | 481/95156 [00:00<00:39, 2415.41it/s]"
     ]
    },
    {
     "name": "stdout",
     "output_type": "stream",
     "text": [
      "gamma= 10 , ratio= 0.5 , M= 10.0 : 0.9191472841857091\n"
     ]
    },
    {
     "name": "stderr",
     "output_type": "stream",
     "text": [
      "100%|██████████| 95156/95156 [00:39<00:00, 2439.27it/s]\n",
      "  0%|          | 197/95156 [00:00<00:48, 1962.58it/s]"
     ]
    },
    {
     "name": "stdout",
     "output_type": "stream",
     "text": [
      "gamma= 10 , ratio= 1.0 , M= 1.0 : 0.8960282916213276\n"
     ]
    },
    {
     "name": "stderr",
     "output_type": "stream",
     "text": [
      "100%|██████████| 95156/95156 [00:45<00:00, 2077.10it/s]\n",
      "  0%|          | 210/95156 [00:00<00:45, 2096.42it/s]"
     ]
    },
    {
     "name": "stdout",
     "output_type": "stream",
     "text": [
      "gamma= 10 , ratio= 1.0 , M= 10.0 : 0.9192753672470075\n"
     ]
    },
    {
     "name": "stderr",
     "output_type": "stream",
     "text": [
      "100%|██████████| 95156/95156 [00:45<00:00, 2089.42it/s]\n",
      "  0%|          | 201/95156 [00:00<00:47, 2005.78it/s]"
     ]
    },
    {
     "name": "stdout",
     "output_type": "stream",
     "text": [
      "gamma= 15 , ratio= 0.1 , M= 1.0 : 0.8960282916213276\n"
     ]
    },
    {
     "name": "stderr",
     "output_type": "stream",
     "text": [
      "100%|██████████| 95156/95156 [00:44<00:00, 2119.76it/s]\n",
      "  1%|          | 492/95156 [00:00<00:38, 2479.86it/s]"
     ]
    },
    {
     "name": "stdout",
     "output_type": "stream",
     "text": [
      "gamma= 15 , ratio= 0.1 , M= 5.0 : 0.8960282916213276\n"
     ]
    },
    {
     "name": "stderr",
     "output_type": "stream",
     "text": [
      "100%|██████████| 95156/95156 [00:42<00:00, 2242.63it/s]\n",
      "  0%|          | 200/95156 [00:00<00:47, 1999.02it/s]"
     ]
    },
    {
     "name": "stdout",
     "output_type": "stream",
     "text": [
      "gamma= 15 , ratio= 0.1 , M= 10.0 : 0.8961280377221618\n"
     ]
    },
    {
     "name": "stderr",
     "output_type": "stream",
     "text": [
      "100%|██████████| 95156/95156 [00:43<00:00, 2188.03it/s]\n",
      "  0%|          | 192/95156 [00:00<00:49, 1919.00it/s]"
     ]
    },
    {
     "name": "stdout",
     "output_type": "stream",
     "text": [
      "gamma= 15 , ratio= 0.5 , M= 1.0 : 0.8960282916213276\n"
     ]
    },
    {
     "name": "stderr",
     "output_type": "stream",
     "text": [
      "100%|██████████| 95156/95156 [00:45<00:00, 2074.10it/s]\n",
      "  0%|          | 429/95156 [00:00<00:44, 2150.87it/s]"
     ]
    },
    {
     "name": "stdout",
     "output_type": "stream",
     "text": [
      "gamma= 15 , ratio= 0.5 , M= 5.0 : 0.8960282916213276\n"
     ]
    },
    {
     "name": "stderr",
     "output_type": "stream",
     "text": [
      "100%|██████████| 95156/95156 [00:45<00:00, 2080.35it/s]\n",
      "  0%|          | 209/95156 [00:00<00:45, 2081.75it/s]"
     ]
    },
    {
     "name": "stdout",
     "output_type": "stream",
     "text": [
      "gamma= 15 , ratio= 0.5 , M= 10.0 : 0.898657961552412\n"
     ]
    },
    {
     "name": "stderr",
     "output_type": "stream",
     "text": [
      "100%|██████████| 95156/95156 [00:44<00:00, 2142.83it/s]\n",
      "  0%|          | 209/95156 [00:00<00:45, 2084.98it/s]"
     ]
    },
    {
     "name": "stdout",
     "output_type": "stream",
     "text": [
      "gamma= 15 , ratio= 1.0 , M= 1.0 : 0.8960282916213276\n"
     ]
    },
    {
     "name": "stderr",
     "output_type": "stream",
     "text": [
      "100%|██████████| 95156/95156 [00:43<00:00, 2182.85it/s]\n",
      "  0%|          | 205/95156 [00:00<00:46, 2047.26it/s]"
     ]
    },
    {
     "name": "stdout",
     "output_type": "stream",
     "text": [
      "gamma= 15 , ratio= 1.0 , M= 5.0 : 0.8960282916213275\n"
     ]
    },
    {
     "name": "stderr",
     "output_type": "stream",
     "text": [
      "100%|██████████| 95156/95156 [00:43<00:00, 2198.01it/s]\n",
      "  0%|          | 175/95156 [00:00<00:54, 1741.81it/s]"
     ]
    },
    {
     "name": "stdout",
     "output_type": "stream",
     "text": [
      "gamma= 15 , ratio= 1.0 , M= 10.0 : 0.9215723612622415\n"
     ]
    },
    {
     "name": "stderr",
     "output_type": "stream",
     "text": [
      "100%|██████████| 95156/95156 [01:00<00:00, 1575.43it/s]\n",
      "  0%|          | 166/95156 [00:00<00:57, 1657.66it/s]"
     ]
    },
    {
     "name": "stdout",
     "output_type": "stream",
     "text": [
      "gamma= 5 , ratio= 0.1 , M= 1.0 : 0.8844124047878128\n"
     ]
    },
    {
     "name": "stderr",
     "output_type": "stream",
     "text": [
      "100%|██████████| 95156/95156 [01:00<00:00, 1575.46it/s]\n",
      "  0%|          | 166/95156 [00:00<00:57, 1652.13it/s]"
     ]
    },
    {
     "name": "stdout",
     "output_type": "stream",
     "text": [
      "gamma= 5 , ratio= 0.1 , M= 5.0 : 0.9027957245194052\n"
     ]
    },
    {
     "name": "stderr",
     "output_type": "stream",
     "text": [
      "100%|██████████| 95156/95156 [00:58<00:00, 1620.27it/s]\n",
      "  0%|          | 169/95156 [00:00<00:56, 1687.33it/s]"
     ]
    },
    {
     "name": "stdout",
     "output_type": "stream",
     "text": [
      "gamma= 5 , ratio= 0.1 , M= 10.0 : 0.9083185981138919\n"
     ]
    },
    {
     "name": "stderr",
     "output_type": "stream",
     "text": [
      "100%|██████████| 95156/95156 [00:54<00:00, 1732.65it/s]\n",
      "  0%|          | 164/95156 [00:00<00:58, 1633.73it/s]"
     ]
    },
    {
     "name": "stdout",
     "output_type": "stream",
     "text": [
      "gamma= 5 , ratio= 0.5 , M= 1.0 : 0.8844124047878128\n"
     ]
    },
    {
     "name": "stderr",
     "output_type": "stream",
     "text": [
      "100%|██████████| 95156/95156 [00:59<00:00, 1603.09it/s]\n",
      "  0%|          | 178/95156 [00:00<00:53, 1777.00it/s]"
     ]
    },
    {
     "name": "stdout",
     "output_type": "stream",
     "text": [
      "gamma= 5 , ratio= 0.5 , M= 5.0 : 0.9007208922742111\n"
     ]
    },
    {
     "name": "stderr",
     "output_type": "stream",
     "text": [
      "100%|██████████| 95156/95156 [00:57<00:00, 1658.95it/s]\n",
      "  0%|          | 129/95156 [00:00<01:13, 1285.15it/s]"
     ]
    },
    {
     "name": "stdout",
     "output_type": "stream",
     "text": [
      "gamma= 5 , ratio= 0.5 , M= 10.0 : 0.8825954388828438\n"
     ]
    },
    {
     "name": "stderr",
     "output_type": "stream",
     "text": [
      "100%|██████████| 95156/95156 [00:59<00:00, 1588.24it/s]\n",
      "  0%|          | 140/95156 [00:00<01:08, 1396.24it/s]"
     ]
    },
    {
     "name": "stdout",
     "output_type": "stream",
     "text": [
      "gamma= 5 , ratio= 1.0 , M= 1.0 : 0.8844124047878128\n"
     ]
    },
    {
     "name": "stderr",
     "output_type": "stream",
     "text": [
      "100%|██████████| 95156/95156 [01:00<00:00, 1583.07it/s]\n",
      "  0%|          | 154/95156 [00:00<01:01, 1532.96it/s]"
     ]
    },
    {
     "name": "stdout",
     "output_type": "stream",
     "text": [
      "gamma= 5 , ratio= 1.0 , M= 5.0 : 0.8832619241929633\n"
     ]
    },
    {
     "name": "stderr",
     "output_type": "stream",
     "text": [
      "100%|██████████| 95156/95156 [00:59<00:00, 1606.81it/s]\n",
      "  0%|          | 155/95156 [00:00<01:01, 1544.73it/s]"
     ]
    },
    {
     "name": "stdout",
     "output_type": "stream",
     "text": [
      "gamma= 5 , ratio= 1.0 , M= 10.0 : 0.5\n"
     ]
    },
    {
     "name": "stderr",
     "output_type": "stream",
     "text": [
      "100%|██████████| 95156/95156 [00:57<00:00, 1650.41it/s]\n",
      "  0%|          | 137/95156 [00:00<01:09, 1369.91it/s]"
     ]
    },
    {
     "name": "stdout",
     "output_type": "stream",
     "text": [
      "gamma= 10 , ratio= 0.1 , M= 1.0 : 0.8844124047878128\n"
     ]
    },
    {
     "name": "stderr",
     "output_type": "stream",
     "text": [
      "100%|██████████| 95156/95156 [00:58<00:00, 1622.09it/s]\n",
      "  0%|          | 172/95156 [00:00<00:55, 1715.29it/s]"
     ]
    },
    {
     "name": "stdout",
     "output_type": "stream",
     "text": [
      "gamma= 10 , ratio= 0.1 , M= 5.0 : 0.8850199492201668\n"
     ]
    },
    {
     "name": "stderr",
     "output_type": "stream",
     "text": [
      "100%|██████████| 95156/95156 [00:59<00:00, 1601.70it/s]\n",
      "  0%|          | 170/95156 [00:00<00:56, 1693.41it/s]"
     ]
    },
    {
     "name": "stdout",
     "output_type": "stream",
     "text": [
      "gamma= 10 , ratio= 0.1 , M= 10.0 : 0.9094124047878128\n"
     ]
    },
    {
     "name": "stderr",
     "output_type": "stream",
     "text": [
      "100%|██████████| 95156/95156 [00:59<00:00, 1605.97it/s]\n",
      "  0%|          | 137/95156 [00:00<01:09, 1369.40it/s]"
     ]
    },
    {
     "name": "stdout",
     "output_type": "stream",
     "text": [
      "gamma= 10 , ratio= 0.5 , M= 1.0 : 0.8844124047878128\n"
     ]
    },
    {
     "name": "stderr",
     "output_type": "stream",
     "text": [
      "100%|██████████| 95156/95156 [01:02<00:00, 1533.78it/s]\n",
      "  0%|          | 146/95156 [00:00<01:05, 1453.41it/s]"
     ]
    },
    {
     "name": "stdout",
     "output_type": "stream",
     "text": [
      "gamma= 10 , ratio= 0.5 , M= 5.0 : 0.8887740297424737\n"
     ]
    },
    {
     "name": "stderr",
     "output_type": "stream",
     "text": [
      "100%|██████████| 95156/95156 [01:04<00:00, 1485.67it/s]\n",
      "  0%|          | 154/95156 [00:00<01:01, 1536.45it/s]"
     ]
    },
    {
     "name": "stdout",
     "output_type": "stream",
     "text": [
      "gamma= 10 , ratio= 0.5 , M= 10.0 : 0.9082794931084512\n"
     ]
    },
    {
     "name": "stderr",
     "output_type": "stream",
     "text": [
      "100%|██████████| 95156/95156 [01:03<00:00, 1505.99it/s]\n",
      "  0%|          | 165/95156 [00:00<00:57, 1643.20it/s]"
     ]
    },
    {
     "name": "stdout",
     "output_type": "stream",
     "text": [
      "gamma= 10 , ratio= 1.0 , M= 1.0 : 0.8844124047878128\n"
     ]
    },
    {
     "name": "stderr",
     "output_type": "stream",
     "text": [
      "100%|██████████| 95156/95156 [00:55<00:00, 1728.26it/s]\n",
      "  0%|          | 165/95156 [00:00<00:57, 1648.87it/s]"
     ]
    },
    {
     "name": "stdout",
     "output_type": "stream",
     "text": [
      "gamma= 10 , ratio= 1.0 , M= 5.0 : 0.8966449038810301\n"
     ]
    },
    {
     "name": "stderr",
     "output_type": "stream",
     "text": [
      "100%|██████████| 95156/95156 [00:54<00:00, 1757.76it/s]\n",
      "  0%|          | 169/95156 [00:00<00:56, 1682.30it/s]"
     ]
    },
    {
     "name": "stdout",
     "output_type": "stream",
     "text": [
      "gamma= 10 , ratio= 1.0 , M= 10.0 : 0.9007208922742111\n"
     ]
    },
    {
     "name": "stderr",
     "output_type": "stream",
     "text": [
      "100%|██████████| 95156/95156 [00:58<00:00, 1638.92it/s]\n",
      "  0%|          | 160/95156 [00:00<00:59, 1591.41it/s]"
     ]
    },
    {
     "name": "stdout",
     "output_type": "stream",
     "text": [
      "gamma= 15 , ratio= 0.1 , M= 1.0 : 0.8844124047878128\n"
     ]
    },
    {
     "name": "stderr",
     "output_type": "stream",
     "text": [
      "100%|██████████| 95156/95156 [01:02<00:00, 1527.96it/s]\n",
      "  0%|          | 166/95156 [00:00<00:57, 1648.39it/s]"
     ]
    },
    {
     "name": "stdout",
     "output_type": "stream",
     "text": [
      "gamma= 15 , ratio= 0.1 , M= 5.0 : 0.8844124047878129\n"
     ]
    },
    {
     "name": "stderr",
     "output_type": "stream",
     "text": [
      "100%|██████████| 95156/95156 [00:58<00:00, 1632.75it/s]\n",
      "  0%|          | 135/95156 [00:00<01:10, 1342.54it/s]"
     ]
    },
    {
     "name": "stdout",
     "output_type": "stream",
     "text": [
      "gamma= 15 , ratio= 0.1 , M= 10.0 : 0.8875589408777657\n"
     ]
    },
    {
     "name": "stderr",
     "output_type": "stream",
     "text": [
      "100%|██████████| 95156/95156 [01:00<00:00, 1578.59it/s]\n",
      "  0%|          | 158/95156 [00:00<01:00, 1575.13it/s]"
     ]
    },
    {
     "name": "stdout",
     "output_type": "stream",
     "text": [
      "gamma= 15 , ratio= 0.5 , M= 1.0 : 0.8844124047878128\n"
     ]
    },
    {
     "name": "stderr",
     "output_type": "stream",
     "text": [
      "100%|██████████| 95156/95156 [00:57<00:00, 1664.54it/s]\n",
      "  0%|          | 156/95156 [00:00<01:01, 1556.05it/s]"
     ]
    },
    {
     "name": "stdout",
     "output_type": "stream",
     "text": [
      "gamma= 15 , ratio= 0.5 , M= 5.0 : 0.8844214726151615\n"
     ]
    },
    {
     "name": "stderr",
     "output_type": "stream",
     "text": [
      "100%|██████████| 95156/95156 [00:59<00:00, 1593.98it/s]\n",
      "  0%|          | 154/95156 [00:00<01:02, 1532.07it/s]"
     ]
    },
    {
     "name": "stdout",
     "output_type": "stream",
     "text": [
      "gamma= 15 , ratio= 0.5 , M= 10.0 : 0.9085963003264418\n"
     ]
    },
    {
     "name": "stderr",
     "output_type": "stream",
     "text": [
      "100%|██████████| 95156/95156 [00:59<00:00, 1594.56it/s]\n",
      "  0%|          | 164/95156 [00:00<00:58, 1637.35it/s]"
     ]
    },
    {
     "name": "stdout",
     "output_type": "stream",
     "text": [
      "gamma= 15 , ratio= 1.0 , M= 1.0 : 0.8844124047878128\n"
     ]
    },
    {
     "name": "stderr",
     "output_type": "stream",
     "text": [
      "100%|██████████| 95156/95156 [00:57<00:00, 1643.57it/s]\n",
      "  0%|          | 163/95156 [00:00<00:58, 1627.36it/s]"
     ]
    },
    {
     "name": "stdout",
     "output_type": "stream",
     "text": [
      "gamma= 15 , ratio= 1.0 , M= 5.0 : 0.8844305404425099\n"
     ]
    },
    {
     "name": "stderr",
     "output_type": "stream",
     "text": [
      "100%|██████████| 95156/95156 [00:59<00:00, 1589.26it/s]\n",
      "  0%|          | 245/95156 [00:00<00:38, 2440.87it/s]"
     ]
    },
    {
     "name": "stdout",
     "output_type": "stream",
     "text": [
      "gamma= 15 , ratio= 1.0 , M= 10.0 : 0.902177978781284\n"
     ]
    },
    {
     "name": "stderr",
     "output_type": "stream",
     "text": [
      "100%|██████████| 95156/95156 [00:40<00:00, 2322.16it/s]\n",
      "  0%|          | 241/95156 [00:00<00:39, 2403.00it/s]"
     ]
    },
    {
     "name": "stdout",
     "output_type": "stream",
     "text": [
      "gamma= 5 , ratio= 0.1 , M= 1.0 : 0.8960373594486761\n"
     ]
    },
    {
     "name": "stderr",
     "output_type": "stream",
     "text": [
      "100%|██████████| 95156/95156 [00:42<00:00, 2245.65it/s]\n",
      "  0%|          | 232/95156 [00:00<00:40, 2319.14it/s]"
     ]
    },
    {
     "name": "stdout",
     "output_type": "stream",
     "text": [
      "gamma= 5 , ratio= 0.1 , M= 5.0 : 0.9238121146173377\n"
     ]
    },
    {
     "name": "stderr",
     "output_type": "stream",
     "text": [
      "100%|██████████| 95156/95156 [00:42<00:00, 2249.69it/s]\n",
      "  0%|          | 245/95156 [00:00<00:38, 2449.56it/s]"
     ]
    },
    {
     "name": "stdout",
     "output_type": "stream",
     "text": [
      "gamma= 5 , ratio= 0.1 , M= 10.0 : 0.9168145856002902\n"
     ]
    },
    {
     "name": "stderr",
     "output_type": "stream",
     "text": [
      "100%|██████████| 95156/95156 [00:44<00:00, 2153.79it/s]\n",
      "  0%|          | 202/95156 [00:00<00:47, 2016.21it/s]"
     ]
    },
    {
     "name": "stdout",
     "output_type": "stream",
     "text": [
      "gamma= 5 , ratio= 0.5 , M= 1.0 : 0.8960373594486761\n"
     ]
    },
    {
     "name": "stderr",
     "output_type": "stream",
     "text": [
      "100%|██████████| 95156/95156 [00:45<00:00, 2113.38it/s]\n",
      "  0%|          | 248/95156 [00:00<00:38, 2471.28it/s]"
     ]
    },
    {
     "name": "stdout",
     "output_type": "stream",
     "text": [
      "gamma= 5 , ratio= 0.5 , M= 5.0 : 0.91881347479144\n"
     ]
    },
    {
     "name": "stderr",
     "output_type": "stream",
     "text": [
      "100%|██████████| 95156/95156 [00:41<00:00, 2318.65it/s]\n",
      "  0%|          | 202/95156 [00:00<00:47, 2014.20it/s]"
     ]
    },
    {
     "name": "stdout",
     "output_type": "stream",
     "text": [
      "gamma= 5 , ratio= 0.5 , M= 10.0 : 0.8736409593761334\n"
     ]
    },
    {
     "name": "stderr",
     "output_type": "stream",
     "text": [
      "100%|██████████| 95156/95156 [00:45<00:00, 2111.56it/s]\n",
      "  0%|          | 214/95156 [00:00<00:44, 2139.10it/s]"
     ]
    },
    {
     "name": "stdout",
     "output_type": "stream",
     "text": [
      "gamma= 5 , ratio= 1.0 , M= 1.0 : 0.8960373594486761\n"
     ]
    },
    {
     "name": "stderr",
     "output_type": "stream",
     "text": [
      "100%|██████████| 95156/95156 [00:42<00:00, 2234.98it/s]\n",
      "  0%|          | 194/95156 [00:00<00:48, 1939.11it/s]"
     ]
    },
    {
     "name": "stdout",
     "output_type": "stream",
     "text": [
      "gamma= 5 , ratio= 1.0 , M= 5.0 : 0.8807399347116431\n"
     ]
    },
    {
     "name": "stderr",
     "output_type": "stream",
     "text": [
      "100%|██████████| 95156/95156 [00:43<00:00, 2174.60it/s]\n",
      "  0%|          | 417/95156 [00:00<00:45, 2083.43it/s]"
     ]
    },
    {
     "name": "stdout",
     "output_type": "stream",
     "text": [
      "gamma= 5 , ratio= 1.0 , M= 10.0 : 0.5\n"
     ]
    },
    {
     "name": "stderr",
     "output_type": "stream",
     "text": [
      "100%|██████████| 95156/95156 [00:44<00:00, 2130.99it/s]\n",
      "  0%|          | 440/95156 [00:00<00:43, 2202.14it/s]"
     ]
    },
    {
     "name": "stdout",
     "output_type": "stream",
     "text": [
      "gamma= 10 , ratio= 0.1 , M= 1.0 : 0.8960373594486761\n"
     ]
    },
    {
     "name": "stderr",
     "output_type": "stream",
     "text": [
      "100%|██████████| 95156/95156 [00:44<00:00, 2147.43it/s]\n",
      "  0%|          | 466/95156 [00:00<00:40, 2333.92it/s]"
     ]
    },
    {
     "name": "stdout",
     "output_type": "stream",
     "text": [
      "gamma= 10 , ratio= 0.1 , M= 5.0 : 0.8960917664127676\n"
     ]
    },
    {
     "name": "stderr",
     "output_type": "stream",
     "text": [
      "100%|██████████| 95156/95156 [00:43<00:00, 2187.52it/s]\n",
      "  0%|          | 235/95156 [00:00<00:40, 2349.16it/s]"
     ]
    },
    {
     "name": "stdout",
     "output_type": "stream",
     "text": [
      "gamma= 10 , ratio= 0.1 , M= 10.0 : 0.8992020311933261\n"
     ]
    },
    {
     "name": "stderr",
     "output_type": "stream",
     "text": [
      "100%|██████████| 95156/95156 [00:42<00:00, 2215.58it/s]\n",
      "  0%|          | 204/95156 [00:00<00:46, 2032.62it/s]"
     ]
    },
    {
     "name": "stdout",
     "output_type": "stream",
     "text": [
      "gamma= 10 , ratio= 0.5 , M= 1.0 : 0.8960373594486761\n"
     ]
    },
    {
     "name": "stderr",
     "output_type": "stream",
     "text": [
      "100%|██████████| 95156/95156 [00:43<00:00, 2190.27it/s]\n",
      "  0%|          | 223/95156 [00:00<00:42, 2221.43it/s]"
     ]
    },
    {
     "name": "stdout",
     "output_type": "stream",
     "text": [
      "gamma= 10 , ratio= 0.5 , M= 5.0 : 0.896146173376859\n"
     ]
    },
    {
     "name": "stderr",
     "output_type": "stream",
     "text": [
      "100%|██████████| 95156/95156 [00:44<00:00, 2156.41it/s]\n",
      "  0%|          | 210/95156 [00:00<00:45, 2093.61it/s]"
     ]
    },
    {
     "name": "stdout",
     "output_type": "stream",
     "text": [
      "gamma= 10 , ratio= 0.5 , M= 10.0 : 0.9190804089590133\n"
     ]
    },
    {
     "name": "stderr",
     "output_type": "stream",
     "text": [
      "100%|██████████| 95156/95156 [00:42<00:00, 2223.73it/s]\n",
      "  0%|          | 257/95156 [00:00<00:37, 2560.19it/s]"
     ]
    },
    {
     "name": "stdout",
     "output_type": "stream",
     "text": [
      "gamma= 10 , ratio= 1.0 , M= 1.0 : 0.8960373594486761\n"
     ]
    },
    {
     "name": "stderr",
     "output_type": "stream",
     "text": [
      "100%|██████████| 95156/95156 [00:42<00:00, 2233.35it/s]\n",
      "  0%|          | 231/95156 [00:00<00:41, 2309.26it/s]"
     ]
    },
    {
     "name": "stdout",
     "output_type": "stream",
     "text": [
      "gamma= 10 , ratio= 1.0 , M= 5.0 : 0.8962368516503446\n"
     ]
    },
    {
     "name": "stderr",
     "output_type": "stream",
     "text": [
      "100%|██████████| 95156/95156 [00:42<00:00, 2220.05it/s]\n",
      "  0%|          | 236/95156 [00:00<00:40, 2355.55it/s]"
     ]
    },
    {
     "name": "stdout",
     "output_type": "stream",
     "text": [
      "gamma= 10 , ratio= 1.0 , M= 10.0 : 0.91881347479144\n"
     ]
    },
    {
     "name": "stderr",
     "output_type": "stream",
     "text": [
      "100%|██████████| 95156/95156 [00:42<00:00, 2262.02it/s]\n",
      "  0%|          | 234/95156 [00:00<00:40, 2332.61it/s]"
     ]
    },
    {
     "name": "stdout",
     "output_type": "stream",
     "text": [
      "gamma= 15 , ratio= 0.1 , M= 1.0 : 0.8960373594486761\n"
     ]
    },
    {
     "name": "stderr",
     "output_type": "stream",
     "text": [
      "100%|██████████| 95156/95156 [00:43<00:00, 2209.86it/s]\n",
      "  0%|          | 210/95156 [00:00<00:45, 2093.47it/s]"
     ]
    },
    {
     "name": "stdout",
     "output_type": "stream",
     "text": [
      "gamma= 15 , ratio= 0.1 , M= 5.0 : 0.896037359448676\n"
     ]
    },
    {
     "name": "stderr",
     "output_type": "stream",
     "text": [
      "100%|██████████| 95156/95156 [00:42<00:00, 2221.59it/s]\n",
      "  0%|          | 239/95156 [00:00<00:39, 2380.88it/s]"
     ]
    },
    {
     "name": "stdout",
     "output_type": "stream",
     "text": [
      "gamma= 15 , ratio= 0.1 , M= 10.0 : 0.8961371055495104\n"
     ]
    },
    {
     "name": "stderr",
     "output_type": "stream",
     "text": [
      "100%|██████████| 95156/95156 [00:42<00:00, 2256.25it/s]\n",
      "  0%|          | 198/95156 [00:00<00:48, 1976.77it/s]"
     ]
    },
    {
     "name": "stdout",
     "output_type": "stream",
     "text": [
      "gamma= 15 , ratio= 0.5 , M= 1.0 : 0.8960373594486761\n"
     ]
    },
    {
     "name": "stderr",
     "output_type": "stream",
     "text": [
      "100%|██████████| 95156/95156 [00:42<00:00, 2244.07it/s]\n",
      "  0%|          | 212/95156 [00:00<00:44, 2118.90it/s]"
     ]
    },
    {
     "name": "stdout",
     "output_type": "stream",
     "text": [
      "gamma= 15 , ratio= 0.5 , M= 5.0 : 0.8960373594486761\n"
     ]
    },
    {
     "name": "stderr",
     "output_type": "stream",
     "text": [
      "100%|██████████| 95156/95156 [00:45<00:00, 2096.34it/s]\n",
      "  0%|          | 461/95156 [00:00<00:40, 2317.87it/s]"
     ]
    },
    {
     "name": "stdout",
     "output_type": "stream",
     "text": [
      "gamma= 15 , ratio= 0.5 , M= 10.0 : 0.8987123685165034\n"
     ]
    },
    {
     "name": "stderr",
     "output_type": "stream",
     "text": [
      "100%|██████████| 95156/95156 [00:43<00:00, 2211.85it/s]\n",
      "  0%|          | 444/95156 [00:00<00:42, 2216.69it/s]"
     ]
    },
    {
     "name": "stdout",
     "output_type": "stream",
     "text": [
      "gamma= 15 , ratio= 1.0 , M= 1.0 : 0.8960373594486761\n"
     ]
    },
    {
     "name": "stderr",
     "output_type": "stream",
     "text": [
      "100%|██████████| 95156/95156 [00:43<00:00, 2199.25it/s]\n",
      "  0%|          | 242/95156 [00:00<00:39, 2411.11it/s]"
     ]
    },
    {
     "name": "stdout",
     "output_type": "stream",
     "text": [
      "gamma= 15 , ratio= 1.0 , M= 5.0 : 0.8960464272760247\n"
     ]
    },
    {
     "name": "stderr",
     "output_type": "stream",
     "text": [
      "100%|██████████| 95156/95156 [00:42<00:00, 2249.65it/s]\n",
      "  0%|          | 149/95156 [00:00<01:03, 1488.16it/s]"
     ]
    },
    {
     "name": "stdout",
     "output_type": "stream",
     "text": [
      "gamma= 15 , ratio= 1.0 , M= 10.0 : 0.9217899891186072\n"
     ]
    },
    {
     "name": "stderr",
     "output_type": "stream",
     "text": [
      "100%|██████████| 95156/95156 [01:03<00:00, 1500.03it/s]\n",
      "  0%|          | 168/95156 [00:00<00:56, 1674.33it/s]"
     ]
    },
    {
     "name": "stdout",
     "output_type": "stream",
     "text": [
      "gamma= 5 , ratio= 0.1 , M= 1.0 : 0.8844124047878128\n"
     ]
    },
    {
     "name": "stderr",
     "output_type": "stream",
     "text": [
      "100%|██████████| 95156/95156 [00:59<00:00, 1612.46it/s]\n",
      "  0%|          | 154/95156 [00:00<01:01, 1539.77it/s]"
     ]
    },
    {
     "name": "stdout",
     "output_type": "stream",
     "text": [
      "gamma= 5 , ratio= 0.1 , M= 5.0 : 0.9027957245194052\n"
     ]
    },
    {
     "name": "stderr",
     "output_type": "stream",
     "text": [
      "100%|██████████| 95156/95156 [01:00<00:00, 1574.87it/s]\n",
      "  0%|          | 173/95156 [00:00<00:54, 1729.32it/s]"
     ]
    },
    {
     "name": "stdout",
     "output_type": "stream",
     "text": [
      "gamma= 5 , ratio= 0.1 , M= 10.0 : 0.9083185981138919\n"
     ]
    },
    {
     "name": "stderr",
     "output_type": "stream",
     "text": [
      "100%|██████████| 95156/95156 [00:58<00:00, 1620.36it/s]\n",
      "  0%|          | 168/95156 [00:00<00:56, 1677.33it/s]"
     ]
    },
    {
     "name": "stdout",
     "output_type": "stream",
     "text": [
      "gamma= 5 , ratio= 0.5 , M= 1.0 : 0.8844124047878128\n"
     ]
    },
    {
     "name": "stderr",
     "output_type": "stream",
     "text": [
      "100%|██████████| 95156/95156 [00:59<00:00, 1597.18it/s]\n",
      "  0%|          | 155/95156 [00:00<01:01, 1542.05it/s]"
     ]
    },
    {
     "name": "stdout",
     "output_type": "stream",
     "text": [
      "gamma= 5 , ratio= 0.5 , M= 5.0 : 0.9007208922742111\n"
     ]
    },
    {
     "name": "stderr",
     "output_type": "stream",
     "text": [
      "100%|██████████| 95156/95156 [00:56<00:00, 1686.39it/s]\n",
      "  0%|          | 165/95156 [00:00<00:57, 1646.23it/s]"
     ]
    },
    {
     "name": "stdout",
     "output_type": "stream",
     "text": [
      "gamma= 5 , ratio= 0.5 , M= 10.0 : 0.8825954388828438\n"
     ]
    },
    {
     "name": "stderr",
     "output_type": "stream",
     "text": [
      "100%|██████████| 95156/95156 [00:56<00:00, 1690.33it/s]\n",
      "  0%|          | 166/95156 [00:00<00:57, 1654.72it/s]"
     ]
    },
    {
     "name": "stdout",
     "output_type": "stream",
     "text": [
      "gamma= 5 , ratio= 1.0 , M= 1.0 : 0.8844124047878128\n"
     ]
    },
    {
     "name": "stderr",
     "output_type": "stream",
     "text": [
      "100%|██████████| 95156/95156 [00:57<00:00, 1651.11it/s]\n",
      "  0%|          | 157/95156 [00:00<01:00, 1569.75it/s]"
     ]
    },
    {
     "name": "stdout",
     "output_type": "stream",
     "text": [
      "gamma= 5 , ratio= 1.0 , M= 5.0 : 0.8832619241929633\n"
     ]
    },
    {
     "name": "stderr",
     "output_type": "stream",
     "text": [
      "100%|██████████| 95156/95156 [00:58<00:00, 1622.54it/s]\n",
      "  0%|          | 150/95156 [00:00<01:03, 1497.84it/s]"
     ]
    },
    {
     "name": "stdout",
     "output_type": "stream",
     "text": [
      "gamma= 5 , ratio= 1.0 , M= 10.0 : 0.5\n"
     ]
    },
    {
     "name": "stderr",
     "output_type": "stream",
     "text": [
      "100%|██████████| 95156/95156 [00:58<00:00, 1617.10it/s]\n",
      "  0%|          | 161/95156 [00:00<00:59, 1605.31it/s]"
     ]
    },
    {
     "name": "stdout",
     "output_type": "stream",
     "text": [
      "gamma= 10 , ratio= 0.1 , M= 1.0 : 0.8844124047878128\n"
     ]
    },
    {
     "name": "stderr",
     "output_type": "stream",
     "text": [
      "100%|██████████| 95156/95156 [00:58<00:00, 1634.80it/s]\n",
      "  0%|          | 103/95156 [00:00<01:32, 1028.31it/s]"
     ]
    },
    {
     "name": "stdout",
     "output_type": "stream",
     "text": [
      "gamma= 10 , ratio= 0.1 , M= 5.0 : 0.8850199492201668\n"
     ]
    },
    {
     "name": "stderr",
     "output_type": "stream",
     "text": [
      "100%|██████████| 95156/95156 [01:00<00:00, 1570.91it/s]\n",
      "  0%|          | 184/95156 [00:00<00:51, 1837.85it/s]"
     ]
    },
    {
     "name": "stdout",
     "output_type": "stream",
     "text": [
      "gamma= 10 , ratio= 0.1 , M= 10.0 : 0.9094124047878128\n"
     ]
    },
    {
     "name": "stderr",
     "output_type": "stream",
     "text": [
      "100%|██████████| 95156/95156 [01:01<00:00, 1554.61it/s]\n",
      "  0%|          | 130/95156 [00:00<01:13, 1292.74it/s]"
     ]
    },
    {
     "name": "stdout",
     "output_type": "stream",
     "text": [
      "gamma= 10 , ratio= 0.5 , M= 1.0 : 0.8844124047878128\n"
     ]
    },
    {
     "name": "stderr",
     "output_type": "stream",
     "text": [
      "100%|██████████| 95156/95156 [00:58<00:00, 1627.02it/s]\n",
      "  0%|          | 171/95156 [00:00<00:55, 1706.08it/s]"
     ]
    },
    {
     "name": "stdout",
     "output_type": "stream",
     "text": [
      "gamma= 10 , ratio= 0.5 , M= 5.0 : 0.8887740297424737\n"
     ]
    },
    {
     "name": "stderr",
     "output_type": "stream",
     "text": [
      "100%|██████████| 95156/95156 [00:57<00:00, 1668.13it/s]\n",
      "  0%|          | 182/95156 [00:00<00:52, 1816.32it/s]"
     ]
    },
    {
     "name": "stdout",
     "output_type": "stream",
     "text": [
      "gamma= 10 , ratio= 0.5 , M= 10.0 : 0.9082794931084512\n"
     ]
    },
    {
     "name": "stderr",
     "output_type": "stream",
     "text": [
      "100%|██████████| 95156/95156 [00:59<00:00, 1603.36it/s]\n",
      "  0%|          | 148/95156 [00:00<01:04, 1477.87it/s]"
     ]
    },
    {
     "name": "stdout",
     "output_type": "stream",
     "text": [
      "gamma= 10 , ratio= 1.0 , M= 1.0 : 0.8844124047878128\n"
     ]
    },
    {
     "name": "stderr",
     "output_type": "stream",
     "text": [
      "100%|██████████| 95156/95156 [00:58<00:00, 1629.45it/s]\n",
      "  0%|          | 164/95156 [00:00<00:58, 1635.58it/s]"
     ]
    },
    {
     "name": "stdout",
     "output_type": "stream",
     "text": [
      "gamma= 10 , ratio= 1.0 , M= 5.0 : 0.8966449038810301\n"
     ]
    },
    {
     "name": "stderr",
     "output_type": "stream",
     "text": [
      "100%|██████████| 95156/95156 [00:59<00:00, 1590.77it/s]\n",
      "  0%|          | 163/95156 [00:00<00:58, 1621.68it/s]"
     ]
    },
    {
     "name": "stdout",
     "output_type": "stream",
     "text": [
      "gamma= 10 , ratio= 1.0 , M= 10.0 : 0.9007208922742111\n"
     ]
    },
    {
     "name": "stderr",
     "output_type": "stream",
     "text": [
      "100%|██████████| 95156/95156 [01:00<00:00, 1579.46it/s]\n",
      "  0%|          | 168/95156 [00:00<00:56, 1674.36it/s]"
     ]
    },
    {
     "name": "stdout",
     "output_type": "stream",
     "text": [
      "gamma= 15 , ratio= 0.1 , M= 1.0 : 0.8844124047878128\n"
     ]
    },
    {
     "name": "stderr",
     "output_type": "stream",
     "text": [
      "100%|██████████| 95156/95156 [00:58<00:00, 1630.59it/s]\n",
      "  0%|          | 179/95156 [00:00<00:53, 1785.88it/s]"
     ]
    },
    {
     "name": "stdout",
     "output_type": "stream",
     "text": [
      "gamma= 15 , ratio= 0.1 , M= 5.0 : 0.8844124047878129\n"
     ]
    },
    {
     "name": "stderr",
     "output_type": "stream",
     "text": [
      "100%|██████████| 95156/95156 [00:59<00:00, 1604.21it/s]\n",
      "  0%|          | 171/95156 [00:00<00:55, 1707.83it/s]"
     ]
    },
    {
     "name": "stdout",
     "output_type": "stream",
     "text": [
      "gamma= 15 , ratio= 0.1 , M= 10.0 : 0.8875589408777657\n"
     ]
    },
    {
     "name": "stderr",
     "output_type": "stream",
     "text": [
      "100%|██████████| 95156/95156 [00:58<00:00, 1637.17it/s]\n",
      "  0%|          | 170/95156 [00:00<00:56, 1687.43it/s]"
     ]
    },
    {
     "name": "stdout",
     "output_type": "stream",
     "text": [
      "gamma= 15 , ratio= 0.5 , M= 1.0 : 0.8844124047878128\n"
     ]
    },
    {
     "name": "stderr",
     "output_type": "stream",
     "text": [
      "100%|██████████| 95156/95156 [00:58<00:00, 1640.01it/s]\n",
      "  0%|          | 166/95156 [00:00<00:57, 1652.86it/s]"
     ]
    },
    {
     "name": "stdout",
     "output_type": "stream",
     "text": [
      "gamma= 15 , ratio= 0.5 , M= 5.0 : 0.8844214726151615\n"
     ]
    },
    {
     "name": "stderr",
     "output_type": "stream",
     "text": [
      "100%|██████████| 95156/95156 [00:59<00:00, 1607.87it/s]\n",
      "  0%|          | 149/95156 [00:00<01:03, 1489.58it/s]"
     ]
    },
    {
     "name": "stdout",
     "output_type": "stream",
     "text": [
      "gamma= 15 , ratio= 0.5 , M= 10.0 : 0.9085963003264418\n"
     ]
    },
    {
     "name": "stderr",
     "output_type": "stream",
     "text": [
      "100%|██████████| 95156/95156 [00:58<00:00, 1614.14it/s]\n",
      "  0%|          | 165/95156 [00:00<00:57, 1649.51it/s]"
     ]
    },
    {
     "name": "stdout",
     "output_type": "stream",
     "text": [
      "gamma= 15 , ratio= 1.0 , M= 1.0 : 0.8844124047878128\n"
     ]
    },
    {
     "name": "stderr",
     "output_type": "stream",
     "text": [
      "100%|██████████| 95156/95156 [00:59<00:00, 1594.58it/s]\n",
      "  0%|          | 130/95156 [00:00<01:13, 1296.59it/s]"
     ]
    },
    {
     "name": "stdout",
     "output_type": "stream",
     "text": [
      "gamma= 15 , ratio= 1.0 , M= 5.0 : 0.8844305404425099\n"
     ]
    },
    {
     "name": "stderr",
     "output_type": "stream",
     "text": [
      "100%|██████████| 95156/95156 [00:58<00:00, 1627.22it/s]\n",
      "  0%|          | 227/95156 [00:00<00:41, 2261.30it/s]"
     ]
    },
    {
     "name": "stdout",
     "output_type": "stream",
     "text": [
      "gamma= 15 , ratio= 1.0 , M= 10.0 : 0.902177978781284\n"
     ]
    },
    {
     "name": "stderr",
     "output_type": "stream",
     "text": [
      "100%|██████████| 95156/95156 [00:41<00:00, 2287.68it/s]\n",
      "  0%|          | 240/95156 [00:00<00:39, 2390.77it/s]"
     ]
    },
    {
     "name": "stdout",
     "output_type": "stream",
     "text": [
      "gamma= 5 , ratio= 0.1 , M= 1.0 : 0.8960373594486761\n"
     ]
    },
    {
     "name": "stderr",
     "output_type": "stream",
     "text": [
      "100%|██████████| 95156/95156 [00:41<00:00, 2287.56it/s]\n",
      "  0%|          | 240/95156 [00:00<00:39, 2394.83it/s]"
     ]
    },
    {
     "name": "stdout",
     "output_type": "stream",
     "text": [
      "gamma= 5 , ratio= 0.1 , M= 5.0 : 0.9238121146173377\n"
     ]
    },
    {
     "name": "stderr",
     "output_type": "stream",
     "text": [
      "100%|██████████| 95156/95156 [00:41<00:00, 2274.12it/s]\n",
      "  0%|          | 237/95156 [00:00<00:40, 2363.71it/s]"
     ]
    },
    {
     "name": "stdout",
     "output_type": "stream",
     "text": [
      "gamma= 5 , ratio= 0.1 , M= 10.0 : 0.9168145856002902\n"
     ]
    },
    {
     "name": "stderr",
     "output_type": "stream",
     "text": [
      "100%|██████████| 95156/95156 [00:40<00:00, 2337.12it/s]\n",
      "  0%|          | 238/95156 [00:00<00:39, 2373.36it/s]"
     ]
    },
    {
     "name": "stdout",
     "output_type": "stream",
     "text": [
      "gamma= 5 , ratio= 0.5 , M= 1.0 : 0.8960373594486761\n"
     ]
    },
    {
     "name": "stderr",
     "output_type": "stream",
     "text": [
      "100%|██████████| 95156/95156 [00:40<00:00, 2374.88it/s]\n",
      "  0%|          | 233/95156 [00:00<00:40, 2326.65it/s]"
     ]
    },
    {
     "name": "stdout",
     "output_type": "stream",
     "text": [
      "gamma= 5 , ratio= 0.5 , M= 5.0 : 0.91881347479144\n"
     ]
    },
    {
     "name": "stderr",
     "output_type": "stream",
     "text": [
      "100%|██████████| 95156/95156 [00:41<00:00, 2316.78it/s]\n",
      "  0%|          | 218/95156 [00:00<00:43, 2175.30it/s]"
     ]
    },
    {
     "name": "stdout",
     "output_type": "stream",
     "text": [
      "gamma= 5 , ratio= 0.5 , M= 10.0 : 0.8736409593761334\n"
     ]
    },
    {
     "name": "stderr",
     "output_type": "stream",
     "text": [
      "100%|██████████| 95156/95156 [00:40<00:00, 2322.67it/s]\n",
      "  0%|          | 194/95156 [00:00<00:49, 1933.19it/s]"
     ]
    },
    {
     "name": "stdout",
     "output_type": "stream",
     "text": [
      "gamma= 5 , ratio= 1.0 , M= 1.0 : 0.8960373594486761\n"
     ]
    },
    {
     "name": "stderr",
     "output_type": "stream",
     "text": [
      "100%|██████████| 95156/95156 [00:41<00:00, 2265.81it/s]\n",
      "  0%|          | 199/95156 [00:00<00:47, 1980.92it/s]"
     ]
    },
    {
     "name": "stdout",
     "output_type": "stream",
     "text": [
      "gamma= 5 , ratio= 1.0 , M= 5.0 : 0.8807399347116431\n"
     ]
    },
    {
     "name": "stderr",
     "output_type": "stream",
     "text": [
      "100%|██████████| 95156/95156 [00:43<00:00, 2199.17it/s]\n",
      "  1%|          | 523/95156 [00:00<00:36, 2619.51it/s]"
     ]
    },
    {
     "name": "stdout",
     "output_type": "stream",
     "text": [
      "gamma= 5 , ratio= 1.0 , M= 10.0 : 0.5\n"
     ]
    },
    {
     "name": "stderr",
     "output_type": "stream",
     "text": [
      "100%|██████████| 95156/95156 [00:39<00:00, 2399.83it/s]\n",
      "  0%|          | 243/95156 [00:00<00:39, 2429.42it/s]"
     ]
    },
    {
     "name": "stdout",
     "output_type": "stream",
     "text": [
      "gamma= 10 , ratio= 0.1 , M= 1.0 : 0.8960373594486761\n"
     ]
    },
    {
     "name": "stderr",
     "output_type": "stream",
     "text": [
      "100%|██████████| 95156/95156 [00:43<00:00, 2200.11it/s]\n",
      "  0%|          | 212/95156 [00:00<00:44, 2110.11it/s]"
     ]
    },
    {
     "name": "stdout",
     "output_type": "stream",
     "text": [
      "gamma= 10 , ratio= 0.1 , M= 5.0 : 0.8960917664127676\n"
     ]
    },
    {
     "name": "stderr",
     "output_type": "stream",
     "text": [
      "100%|██████████| 95156/95156 [00:42<00:00, 2259.11it/s]\n",
      "  0%|          | 220/95156 [00:00<00:43, 2198.06it/s]"
     ]
    },
    {
     "name": "stdout",
     "output_type": "stream",
     "text": [
      "gamma= 10 , ratio= 0.1 , M= 10.0 : 0.8992020311933261\n"
     ]
    },
    {
     "name": "stderr",
     "output_type": "stream",
     "text": [
      "100%|██████████| 95156/95156 [00:42<00:00, 2262.89it/s]\n",
      "  0%|          | 211/95156 [00:00<00:45, 2107.71it/s]"
     ]
    },
    {
     "name": "stdout",
     "output_type": "stream",
     "text": [
      "gamma= 10 , ratio= 0.5 , M= 1.0 : 0.8960373594486761\n"
     ]
    },
    {
     "name": "stderr",
     "output_type": "stream",
     "text": [
      "100%|██████████| 95156/95156 [00:42<00:00, 2224.32it/s]\n",
      "  0%|          | 245/95156 [00:00<00:38, 2443.69it/s]"
     ]
    },
    {
     "name": "stdout",
     "output_type": "stream",
     "text": [
      "gamma= 10 , ratio= 0.5 , M= 5.0 : 0.896146173376859\n"
     ]
    },
    {
     "name": "stderr",
     "output_type": "stream",
     "text": [
      "100%|██████████| 95156/95156 [00:41<00:00, 2306.73it/s]\n",
      "  0%|          | 223/95156 [00:00<00:42, 2222.38it/s]"
     ]
    },
    {
     "name": "stdout",
     "output_type": "stream",
     "text": [
      "gamma= 10 , ratio= 0.5 , M= 10.0 : 0.9190804089590133\n"
     ]
    },
    {
     "name": "stderr",
     "output_type": "stream",
     "text": [
      "100%|██████████| 95156/95156 [00:41<00:00, 2296.42it/s]\n",
      "  0%|          | 201/95156 [00:00<00:47, 2003.77it/s]"
     ]
    },
    {
     "name": "stdout",
     "output_type": "stream",
     "text": [
      "gamma= 10 , ratio= 1.0 , M= 1.0 : 0.8960373594486761\n"
     ]
    },
    {
     "name": "stderr",
     "output_type": "stream",
     "text": [
      "100%|██████████| 95156/95156 [00:44<00:00, 2144.93it/s]\n",
      "  0%|          | 199/95156 [00:00<00:47, 1986.34it/s]"
     ]
    },
    {
     "name": "stdout",
     "output_type": "stream",
     "text": [
      "gamma= 10 , ratio= 1.0 , M= 5.0 : 0.8962368516503446\n"
     ]
    },
    {
     "name": "stderr",
     "output_type": "stream",
     "text": [
      "100%|██████████| 95156/95156 [00:41<00:00, 2267.91it/s]\n",
      "  0%|          | 472/95156 [00:00<00:40, 2359.29it/s]"
     ]
    },
    {
     "name": "stdout",
     "output_type": "stream",
     "text": [
      "gamma= 10 , ratio= 1.0 , M= 10.0 : 0.91881347479144\n"
     ]
    },
    {
     "name": "stderr",
     "output_type": "stream",
     "text": [
      "100%|██████████| 95156/95156 [00:42<00:00, 2244.56it/s]\n",
      "  0%|          | 229/95156 [00:00<00:41, 2282.74it/s]"
     ]
    },
    {
     "name": "stdout",
     "output_type": "stream",
     "text": [
      "gamma= 15 , ratio= 0.1 , M= 1.0 : 0.8960373594486761\n"
     ]
    },
    {
     "name": "stderr",
     "output_type": "stream",
     "text": [
      "100%|██████████| 95156/95156 [00:43<00:00, 2197.76it/s]\n",
      "  0%|          | 268/95156 [00:00<00:35, 2676.25it/s]"
     ]
    },
    {
     "name": "stdout",
     "output_type": "stream",
     "text": [
      "gamma= 15 , ratio= 0.1 , M= 5.0 : 0.896037359448676\n"
     ]
    },
    {
     "name": "stderr",
     "output_type": "stream",
     "text": [
      "100%|██████████| 95156/95156 [00:44<00:00, 2127.13it/s]\n",
      "  0%|          | 223/95156 [00:00<00:42, 2221.44it/s]"
     ]
    },
    {
     "name": "stdout",
     "output_type": "stream",
     "text": [
      "gamma= 15 , ratio= 0.1 , M= 10.0 : 0.8961371055495104\n"
     ]
    },
    {
     "name": "stderr",
     "output_type": "stream",
     "text": [
      "100%|██████████| 95156/95156 [00:41<00:00, 2299.04it/s]\n",
      "  1%|          | 502/95156 [00:00<00:37, 2521.51it/s]"
     ]
    },
    {
     "name": "stdout",
     "output_type": "stream",
     "text": [
      "gamma= 15 , ratio= 0.5 , M= 1.0 : 0.8960373594486761\n"
     ]
    },
    {
     "name": "stderr",
     "output_type": "stream",
     "text": [
      "100%|██████████| 95156/95156 [00:40<00:00, 2358.99it/s]\n",
      "  0%|          | 226/95156 [00:00<00:42, 2253.53it/s]"
     ]
    },
    {
     "name": "stdout",
     "output_type": "stream",
     "text": [
      "gamma= 15 , ratio= 0.5 , M= 5.0 : 0.8960373594486761\n"
     ]
    },
    {
     "name": "stderr",
     "output_type": "stream",
     "text": [
      "100%|██████████| 95156/95156 [00:40<00:00, 2327.64it/s]\n",
      "  0%|          | 240/95156 [00:00<00:39, 2394.35it/s]"
     ]
    },
    {
     "name": "stdout",
     "output_type": "stream",
     "text": [
      "gamma= 15 , ratio= 0.5 , M= 10.0 : 0.8987123685165034\n"
     ]
    },
    {
     "name": "stderr",
     "output_type": "stream",
     "text": [
      "100%|██████████| 95156/95156 [00:42<00:00, 2253.74it/s]\n",
      "  0%|          | 234/95156 [00:00<00:40, 2334.44it/s]"
     ]
    },
    {
     "name": "stdout",
     "output_type": "stream",
     "text": [
      "gamma= 15 , ratio= 1.0 , M= 1.0 : 0.8960373594486761\n"
     ]
    },
    {
     "name": "stderr",
     "output_type": "stream",
     "text": [
      "100%|██████████| 95156/95156 [00:42<00:00, 2264.48it/s]\n",
      "  0%|          | 248/95156 [00:00<00:38, 2479.33it/s]"
     ]
    },
    {
     "name": "stdout",
     "output_type": "stream",
     "text": [
      "gamma= 15 , ratio= 1.0 , M= 5.0 : 0.8960464272760247\n"
     ]
    },
    {
     "name": "stderr",
     "output_type": "stream",
     "text": [
      "100%|██████████| 95156/95156 [00:42<00:00, 2258.86it/s]\n",
      "  0%|          | 171/95156 [00:00<00:55, 1705.96it/s]"
     ]
    },
    {
     "name": "stdout",
     "output_type": "stream",
     "text": [
      "gamma= 15 , ratio= 1.0 , M= 10.0 : 0.9217899891186072\n"
     ]
    },
    {
     "name": "stderr",
     "output_type": "stream",
     "text": [
      "100%|██████████| 95156/95156 [00:58<00:00, 1612.87it/s]\n",
      "  0%|          | 138/95156 [00:00<01:09, 1375.45it/s]"
     ]
    },
    {
     "name": "stdout",
     "output_type": "stream",
     "text": [
      "gamma= 5 , ratio= 0.1 , M= 1.0 : 0.8844124047878128\n"
     ]
    },
    {
     "name": "stderr",
     "output_type": "stream",
     "text": [
      "100%|██████████| 95156/95156 [00:59<00:00, 1607.02it/s]\n",
      "  0%|          | 123/95156 [00:00<01:17, 1229.46it/s]"
     ]
    },
    {
     "name": "stdout",
     "output_type": "stream",
     "text": [
      "gamma= 5 , ratio= 0.1 , M= 5.0 : 0.9027957245194052\n"
     ]
    },
    {
     "name": "stderr",
     "output_type": "stream",
     "text": [
      "100%|██████████| 95156/95156 [01:00<00:00, 1571.45it/s]\n",
      "  0%|          | 135/95156 [00:00<01:10, 1343.41it/s]"
     ]
    },
    {
     "name": "stdout",
     "output_type": "stream",
     "text": [
      "gamma= 5 , ratio= 0.1 , M= 10.0 : 0.9083185981138919\n"
     ]
    },
    {
     "name": "stderr",
     "output_type": "stream",
     "text": [
      "100%|██████████| 95156/95156 [00:59<00:00, 1596.97it/s]\n",
      "  0%|          | 166/95156 [00:00<00:57, 1655.55it/s]"
     ]
    },
    {
     "name": "stdout",
     "output_type": "stream",
     "text": [
      "gamma= 5 , ratio= 0.5 , M= 1.0 : 0.8844124047878128\n"
     ]
    },
    {
     "name": "stderr",
     "output_type": "stream",
     "text": [
      "100%|██████████| 95156/95156 [00:59<00:00, 1604.65it/s]\n",
      "  0%|          | 152/95156 [00:00<01:02, 1519.32it/s]"
     ]
    },
    {
     "name": "stdout",
     "output_type": "stream",
     "text": [
      "gamma= 5 , ratio= 0.5 , M= 5.0 : 0.9007208922742111\n"
     ]
    },
    {
     "name": "stderr",
     "output_type": "stream",
     "text": [
      "100%|██████████| 95156/95156 [00:59<00:00, 1599.51it/s]\n",
      "  0%|          | 153/95156 [00:00<01:02, 1523.15it/s]"
     ]
    },
    {
     "name": "stdout",
     "output_type": "stream",
     "text": [
      "gamma= 5 , ratio= 0.5 , M= 10.0 : 0.8825954388828438\n"
     ]
    },
    {
     "name": "stderr",
     "output_type": "stream",
     "text": [
      "100%|██████████| 95156/95156 [00:59<00:00, 1588.23it/s]\n",
      "  0%|          | 145/95156 [00:00<01:05, 1447.35it/s]"
     ]
    },
    {
     "name": "stdout",
     "output_type": "stream",
     "text": [
      "gamma= 5 , ratio= 1.0 , M= 1.0 : 0.8844124047878128\n"
     ]
    },
    {
     "name": "stderr",
     "output_type": "stream",
     "text": [
      "100%|██████████| 95156/95156 [00:58<00:00, 1613.26it/s]\n",
      "  0%|          | 170/95156 [00:00<00:55, 1697.01it/s]"
     ]
    },
    {
     "name": "stdout",
     "output_type": "stream",
     "text": [
      "gamma= 5 , ratio= 1.0 , M= 5.0 : 0.8832619241929633\n"
     ]
    },
    {
     "name": "stderr",
     "output_type": "stream",
     "text": [
      "100%|██████████| 95156/95156 [00:59<00:00, 1597.53it/s]\n",
      "  0%|          | 168/95156 [00:00<00:56, 1676.82it/s]"
     ]
    },
    {
     "name": "stdout",
     "output_type": "stream",
     "text": [
      "gamma= 5 , ratio= 1.0 , M= 10.0 : 0.5\n"
     ]
    },
    {
     "name": "stderr",
     "output_type": "stream",
     "text": [
      "100%|██████████| 95156/95156 [01:02<00:00, 1524.35it/s]\n",
      "  0%|          | 162/95156 [00:00<00:58, 1614.17it/s]"
     ]
    },
    {
     "name": "stdout",
     "output_type": "stream",
     "text": [
      "gamma= 10 , ratio= 0.1 , M= 1.0 : 0.8844124047878128\n"
     ]
    },
    {
     "name": "stderr",
     "output_type": "stream",
     "text": [
      "100%|██████████| 95156/95156 [00:57<00:00, 1648.01it/s]\n",
      "  0%|          | 169/95156 [00:00<00:56, 1685.92it/s]"
     ]
    },
    {
     "name": "stdout",
     "output_type": "stream",
     "text": [
      "gamma= 10 , ratio= 0.1 , M= 5.0 : 0.8850199492201668\n"
     ]
    },
    {
     "name": "stderr",
     "output_type": "stream",
     "text": [
      "100%|██████████| 95156/95156 [00:58<00:00, 1626.90it/s]\n",
      "  0%|          | 149/95156 [00:00<01:03, 1488.62it/s]"
     ]
    },
    {
     "name": "stdout",
     "output_type": "stream",
     "text": [
      "gamma= 10 , ratio= 0.1 , M= 10.0 : 0.9094124047878128\n"
     ]
    },
    {
     "name": "stderr",
     "output_type": "stream",
     "text": [
      "100%|██████████| 95156/95156 [00:59<00:00, 1588.25it/s]\n",
      "  0%|          | 142/95156 [00:00<01:07, 1414.08it/s]"
     ]
    },
    {
     "name": "stdout",
     "output_type": "stream",
     "text": [
      "gamma= 10 , ratio= 0.5 , M= 1.0 : 0.8844124047878128\n"
     ]
    },
    {
     "name": "stderr",
     "output_type": "stream",
     "text": [
      "100%|██████████| 95156/95156 [00:58<00:00, 1639.54it/s]\n",
      "  0%|          | 132/95156 [00:00<01:12, 1317.77it/s]"
     ]
    },
    {
     "name": "stdout",
     "output_type": "stream",
     "text": [
      "gamma= 10 , ratio= 0.5 , M= 5.0 : 0.8887740297424737\n"
     ]
    },
    {
     "name": "stderr",
     "output_type": "stream",
     "text": [
      "100%|██████████| 95156/95156 [00:59<00:00, 1603.83it/s]\n",
      "  0%|          | 151/95156 [00:00<01:03, 1502.50it/s]"
     ]
    },
    {
     "name": "stdout",
     "output_type": "stream",
     "text": [
      "gamma= 10 , ratio= 0.5 , M= 10.0 : 0.9082794931084512\n"
     ]
    },
    {
     "name": "stderr",
     "output_type": "stream",
     "text": [
      "100%|██████████| 95156/95156 [00:59<00:00, 1603.15it/s]\n",
      "  0%|          | 116/95156 [00:00<01:22, 1153.43it/s]"
     ]
    },
    {
     "name": "stdout",
     "output_type": "stream",
     "text": [
      "gamma= 10 , ratio= 1.0 , M= 1.0 : 0.8844124047878128\n"
     ]
    },
    {
     "name": "stderr",
     "output_type": "stream",
     "text": [
      "100%|██████████| 95156/95156 [01:03<00:00, 1500.52it/s]\n",
      "  0%|          | 145/95156 [00:00<01:05, 1441.67it/s]"
     ]
    },
    {
     "name": "stdout",
     "output_type": "stream",
     "text": [
      "gamma= 10 , ratio= 1.0 , M= 5.0 : 0.8966449038810301\n"
     ]
    },
    {
     "name": "stderr",
     "output_type": "stream",
     "text": [
      "100%|██████████| 95156/95156 [00:55<00:00, 1706.13it/s]\n",
      "  0%|          | 155/95156 [00:00<01:01, 1548.19it/s]"
     ]
    },
    {
     "name": "stdout",
     "output_type": "stream",
     "text": [
      "gamma= 10 , ratio= 1.0 , M= 10.0 : 0.9007208922742111\n"
     ]
    },
    {
     "name": "stderr",
     "output_type": "stream",
     "text": [
      "100%|██████████| 95156/95156 [00:54<00:00, 1733.55it/s]\n",
      "  0%|          | 153/95156 [00:00<01:02, 1525.18it/s]"
     ]
    },
    {
     "name": "stdout",
     "output_type": "stream",
     "text": [
      "gamma= 15 , ratio= 0.1 , M= 1.0 : 0.8844124047878128\n"
     ]
    },
    {
     "name": "stderr",
     "output_type": "stream",
     "text": [
      "100%|██████████| 95156/95156 [00:54<00:00, 1737.45it/s]\n",
      "  0%|          | 334/95156 [00:00<00:55, 1693.27it/s]"
     ]
    },
    {
     "name": "stdout",
     "output_type": "stream",
     "text": [
      "gamma= 15 , ratio= 0.1 , M= 5.0 : 0.8844124047878129\n"
     ]
    },
    {
     "name": "stderr",
     "output_type": "stream",
     "text": [
      "100%|██████████| 95156/95156 [00:54<00:00, 1737.11it/s]\n",
      "  0%|          | 336/95156 [00:00<00:56, 1685.34it/s]"
     ]
    },
    {
     "name": "stdout",
     "output_type": "stream",
     "text": [
      "gamma= 15 , ratio= 0.1 , M= 10.0 : 0.8875589408777657\n"
     ]
    },
    {
     "name": "stderr",
     "output_type": "stream",
     "text": [
      "100%|██████████| 95156/95156 [00:54<00:00, 1736.30it/s]\n",
      "  0%|          | 337/95156 [00:00<00:56, 1685.92it/s]"
     ]
    },
    {
     "name": "stdout",
     "output_type": "stream",
     "text": [
      "gamma= 15 , ratio= 0.5 , M= 1.0 : 0.8844124047878128\n"
     ]
    },
    {
     "name": "stderr",
     "output_type": "stream",
     "text": [
      "100%|██████████| 95156/95156 [00:54<00:00, 1737.42it/s]\n",
      "  0%|          | 161/95156 [00:00<00:59, 1603.54it/s]"
     ]
    },
    {
     "name": "stdout",
     "output_type": "stream",
     "text": [
      "gamma= 15 , ratio= 0.5 , M= 5.0 : 0.8844214726151615\n"
     ]
    },
    {
     "name": "stderr",
     "output_type": "stream",
     "text": [
      "100%|██████████| 95156/95156 [00:55<00:00, 1729.22it/s]\n",
      "  0%|          | 332/95156 [00:00<00:56, 1675.14it/s]"
     ]
    },
    {
     "name": "stdout",
     "output_type": "stream",
     "text": [
      "gamma= 15 , ratio= 0.5 , M= 10.0 : 0.9085963003264418\n"
     ]
    },
    {
     "name": "stderr",
     "output_type": "stream",
     "text": [
      "100%|██████████| 95156/95156 [00:54<00:00, 1735.44it/s]\n",
      "  0%|          | 156/95156 [00:00<01:00, 1558.85it/s]"
     ]
    },
    {
     "name": "stdout",
     "output_type": "stream",
     "text": [
      "gamma= 15 , ratio= 1.0 , M= 1.0 : 0.8844124047878128\n"
     ]
    },
    {
     "name": "stderr",
     "output_type": "stream",
     "text": [
      "100%|██████████| 95156/95156 [00:54<00:00, 1734.83it/s]\n",
      "  0%|          | 332/95156 [00:00<00:56, 1674.39it/s]"
     ]
    },
    {
     "name": "stdout",
     "output_type": "stream",
     "text": [
      "gamma= 15 , ratio= 1.0 , M= 5.0 : 0.8844305404425099\n"
     ]
    },
    {
     "name": "stderr",
     "output_type": "stream",
     "text": [
      "100%|██████████| 95156/95156 [00:54<00:00, 1732.13it/s]\n",
      "  1%|          | 487/95156 [00:00<00:38, 2455.62it/s]"
     ]
    },
    {
     "name": "stdout",
     "output_type": "stream",
     "text": [
      "gamma= 15 , ratio= 1.0 , M= 10.0 : 0.902177978781284\n"
     ]
    },
    {
     "name": "stderr",
     "output_type": "stream",
     "text": [
      "100%|██████████| 95156/95156 [00:38<00:00, 2462.96it/s]\n",
      "  0%|          | 229/95156 [00:00<00:41, 2289.43it/s]"
     ]
    },
    {
     "name": "stdout",
     "output_type": "stream",
     "text": [
      "gamma= 5 , ratio= 0.1 , M= 1.0 : 0.8960373594486761\n"
     ]
    },
    {
     "name": "stderr",
     "output_type": "stream",
     "text": [
      "100%|██████████| 95156/95156 [00:38<00:00, 2477.99it/s]\n",
      "  0%|          | 230/95156 [00:00<00:41, 2295.45it/s]"
     ]
    },
    {
     "name": "stdout",
     "output_type": "stream",
     "text": [
      "gamma= 5 , ratio= 0.1 , M= 5.0 : 0.9238121146173377\n"
     ]
    },
    {
     "name": "stderr",
     "output_type": "stream",
     "text": [
      "100%|██████████| 95156/95156 [00:38<00:00, 2493.49it/s]\n",
      "  0%|          | 473/95156 [00:00<00:39, 2380.41it/s]"
     ]
    },
    {
     "name": "stdout",
     "output_type": "stream",
     "text": [
      "gamma= 5 , ratio= 0.1 , M= 10.0 : 0.9168145856002902\n"
     ]
    },
    {
     "name": "stderr",
     "output_type": "stream",
     "text": [
      "100%|██████████| 95156/95156 [00:38<00:00, 2466.07it/s]\n",
      "  0%|          | 459/95156 [00:00<00:41, 2295.79it/s]"
     ]
    },
    {
     "name": "stdout",
     "output_type": "stream",
     "text": [
      "gamma= 5 , ratio= 0.5 , M= 1.0 : 0.8960373594486761\n"
     ]
    },
    {
     "name": "stderr",
     "output_type": "stream",
     "text": [
      "100%|██████████| 95156/95156 [00:38<00:00, 2467.26it/s]\n",
      "  0%|          | 452/95156 [00:00<00:41, 2275.85it/s]"
     ]
    },
    {
     "name": "stdout",
     "output_type": "stream",
     "text": [
      "gamma= 5 , ratio= 0.5 , M= 5.0 : 0.91881347479144\n"
     ]
    },
    {
     "name": "stderr",
     "output_type": "stream",
     "text": [
      "100%|██████████| 95156/95156 [00:38<00:00, 2476.51it/s]\n",
      "  0%|          | 475/95156 [00:00<00:39, 2375.19it/s]"
     ]
    },
    {
     "name": "stdout",
     "output_type": "stream",
     "text": [
      "gamma= 5 , ratio= 0.5 , M= 10.0 : 0.8736409593761334\n"
     ]
    },
    {
     "name": "stderr",
     "output_type": "stream",
     "text": [
      "100%|██████████| 95156/95156 [00:38<00:00, 2472.32it/s]\n",
      "  0%|          | 217/95156 [00:00<00:43, 2163.06it/s]"
     ]
    },
    {
     "name": "stdout",
     "output_type": "stream",
     "text": [
      "gamma= 5 , ratio= 1.0 , M= 1.0 : 0.8960373594486761\n"
     ]
    },
    {
     "name": "stderr",
     "output_type": "stream",
     "text": [
      "100%|██████████| 95156/95156 [00:38<00:00, 2467.83it/s]\n",
      "  0%|          | 441/95156 [00:00<00:42, 2203.15it/s]"
     ]
    },
    {
     "name": "stdout",
     "output_type": "stream",
     "text": [
      "gamma= 5 , ratio= 1.0 , M= 5.0 : 0.8807399347116431\n"
     ]
    },
    {
     "name": "stderr",
     "output_type": "stream",
     "text": [
      "100%|██████████| 95156/95156 [00:39<00:00, 2391.78it/s]\n",
      "  0%|          | 227/95156 [00:00<00:41, 2266.40it/s]"
     ]
    },
    {
     "name": "stdout",
     "output_type": "stream",
     "text": [
      "gamma= 5 , ratio= 1.0 , M= 10.0 : 0.5\n"
     ]
    },
    {
     "name": "stderr",
     "output_type": "stream",
     "text": [
      "100%|██████████| 95156/95156 [00:38<00:00, 2473.05it/s]\n",
      "  0%|          | 468/95156 [00:00<00:40, 2361.42it/s]"
     ]
    },
    {
     "name": "stdout",
     "output_type": "stream",
     "text": [
      "gamma= 10 , ratio= 0.1 , M= 1.0 : 0.8960373594486761\n"
     ]
    },
    {
     "name": "stderr",
     "output_type": "stream",
     "text": [
      "100%|██████████| 95156/95156 [00:38<00:00, 2465.54it/s]\n",
      "  0%|          | 234/95156 [00:00<00:40, 2336.65it/s]"
     ]
    },
    {
     "name": "stdout",
     "output_type": "stream",
     "text": [
      "gamma= 10 , ratio= 0.1 , M= 5.0 : 0.8960917664127676\n"
     ]
    },
    {
     "name": "stderr",
     "output_type": "stream",
     "text": [
      "100%|██████████| 95156/95156 [00:38<00:00, 2477.68it/s]\n",
      "  0%|          | 217/95156 [00:00<00:43, 2165.35it/s]"
     ]
    },
    {
     "name": "stdout",
     "output_type": "stream",
     "text": [
      "gamma= 10 , ratio= 0.1 , M= 10.0 : 0.8992020311933261\n"
     ]
    },
    {
     "name": "stderr",
     "output_type": "stream",
     "text": [
      "100%|██████████| 95156/95156 [00:38<00:00, 2466.82it/s]\n",
      "  1%|          | 486/95156 [00:00<00:38, 2453.49it/s]"
     ]
    },
    {
     "name": "stdout",
     "output_type": "stream",
     "text": [
      "gamma= 10 , ratio= 0.5 , M= 1.0 : 0.8960373594486761\n"
     ]
    },
    {
     "name": "stderr",
     "output_type": "stream",
     "text": [
      "100%|██████████| 95156/95156 [00:38<00:00, 2463.91it/s]\n",
      "  1%|          | 478/95156 [00:00<00:39, 2407.61it/s]"
     ]
    },
    {
     "name": "stdout",
     "output_type": "stream",
     "text": [
      "gamma= 10 , ratio= 0.5 , M= 5.0 : 0.896146173376859\n"
     ]
    },
    {
     "name": "stderr",
     "output_type": "stream",
     "text": [
      "100%|██████████| 95156/95156 [00:38<00:00, 2459.02it/s]\n",
      "  0%|          | 461/95156 [00:00<00:40, 2315.93it/s]"
     ]
    },
    {
     "name": "stdout",
     "output_type": "stream",
     "text": [
      "gamma= 10 , ratio= 0.5 , M= 10.0 : 0.9190804089590133\n"
     ]
    },
    {
     "name": "stderr",
     "output_type": "stream",
     "text": [
      "100%|██████████| 95156/95156 [00:38<00:00, 2462.11it/s]\n",
      "  0%|          | 473/95156 [00:00<00:39, 2379.70it/s]"
     ]
    },
    {
     "name": "stdout",
     "output_type": "stream",
     "text": [
      "gamma= 10 , ratio= 1.0 , M= 1.0 : 0.8960373594486761\n"
     ]
    },
    {
     "name": "stderr",
     "output_type": "stream",
     "text": [
      "100%|██████████| 95156/95156 [00:38<00:00, 2459.41it/s]\n",
      "  1%|          | 483/95156 [00:00<00:39, 2420.88it/s]"
     ]
    },
    {
     "name": "stdout",
     "output_type": "stream",
     "text": [
      "gamma= 10 , ratio= 1.0 , M= 5.0 : 0.8962368516503446\n"
     ]
    },
    {
     "name": "stderr",
     "output_type": "stream",
     "text": [
      "100%|██████████| 95156/95156 [00:38<00:00, 2453.22it/s]\n",
      "  1%|          | 490/95156 [00:00<00:38, 2452.96it/s]"
     ]
    },
    {
     "name": "stdout",
     "output_type": "stream",
     "text": [
      "gamma= 10 , ratio= 1.0 , M= 10.0 : 0.91881347479144\n"
     ]
    },
    {
     "name": "stderr",
     "output_type": "stream",
     "text": [
      "100%|██████████| 95156/95156 [00:38<00:00, 2453.34it/s]\n",
      "  0%|          | 473/95156 [00:00<00:39, 2371.83it/s]"
     ]
    },
    {
     "name": "stdout",
     "output_type": "stream",
     "text": [
      "gamma= 15 , ratio= 0.1 , M= 1.0 : 0.8960373594486761\n"
     ]
    },
    {
     "name": "stderr",
     "output_type": "stream",
     "text": [
      "100%|██████████| 95156/95156 [00:39<00:00, 2404.30it/s]\n",
      "  0%|          | 216/95156 [00:00<00:44, 2155.69it/s]"
     ]
    },
    {
     "name": "stdout",
     "output_type": "stream",
     "text": [
      "gamma= 15 , ratio= 0.1 , M= 5.0 : 0.896037359448676\n"
     ]
    },
    {
     "name": "stderr",
     "output_type": "stream",
     "text": [
      "100%|██████████| 95156/95156 [00:40<00:00, 2376.44it/s]\n",
      "  0%|          | 233/95156 [00:00<00:40, 2323.43it/s]"
     ]
    },
    {
     "name": "stdout",
     "output_type": "stream",
     "text": [
      "gamma= 15 , ratio= 0.1 , M= 10.0 : 0.8961371055495104\n"
     ]
    },
    {
     "name": "stderr",
     "output_type": "stream",
     "text": [
      "100%|██████████| 95156/95156 [00:38<00:00, 2466.57it/s]\n",
      "  0%|          | 216/95156 [00:00<00:44, 2152.62it/s]"
     ]
    },
    {
     "name": "stdout",
     "output_type": "stream",
     "text": [
      "gamma= 15 , ratio= 0.5 , M= 1.0 : 0.8960373594486761\n"
     ]
    },
    {
     "name": "stderr",
     "output_type": "stream",
     "text": [
      "100%|██████████| 95156/95156 [00:38<00:00, 2486.70it/s]\n",
      "  1%|          | 476/95156 [00:00<00:39, 2391.43it/s]"
     ]
    },
    {
     "name": "stdout",
     "output_type": "stream",
     "text": [
      "gamma= 15 , ratio= 0.5 , M= 5.0 : 0.8960373594486761\n"
     ]
    },
    {
     "name": "stderr",
     "output_type": "stream",
     "text": [
      "100%|██████████| 95156/95156 [00:38<00:00, 2466.41it/s]\n",
      "  0%|          | 459/95156 [00:00<00:40, 2312.84it/s]"
     ]
    },
    {
     "name": "stdout",
     "output_type": "stream",
     "text": [
      "gamma= 15 , ratio= 0.5 , M= 10.0 : 0.8987123685165034\n"
     ]
    },
    {
     "name": "stderr",
     "output_type": "stream",
     "text": [
      "100%|██████████| 95156/95156 [00:38<00:00, 2485.71it/s]\n",
      "  0%|          | 222/95156 [00:00<00:42, 2219.38it/s]"
     ]
    },
    {
     "name": "stdout",
     "output_type": "stream",
     "text": [
      "gamma= 15 , ratio= 1.0 , M= 1.0 : 0.8960373594486761\n"
     ]
    },
    {
     "name": "stderr",
     "output_type": "stream",
     "text": [
      "100%|██████████| 95156/95156 [00:38<00:00, 2465.25it/s]\n",
      "  0%|          | 473/95156 [00:00<00:39, 2374.25it/s]"
     ]
    },
    {
     "name": "stdout",
     "output_type": "stream",
     "text": [
      "gamma= 15 , ratio= 1.0 , M= 5.0 : 0.8960464272760247\n"
     ]
    },
    {
     "name": "stderr",
     "output_type": "stream",
     "text": [
      "100%|██████████| 95156/95156 [00:38<00:00, 2469.88it/s]\n",
      "  0%|          | 165/95156 [00:00<00:57, 1643.92it/s]"
     ]
    },
    {
     "name": "stdout",
     "output_type": "stream",
     "text": [
      "gamma= 15 , ratio= 1.0 , M= 10.0 : 0.9217899891186072\n"
     ]
    },
    {
     "name": "stderr",
     "output_type": "stream",
     "text": [
      "100%|██████████| 95156/95156 [00:54<00:00, 1746.52it/s]\n",
      "  0%|          | 158/95156 [00:00<01:00, 1577.16it/s]"
     ]
    },
    {
     "name": "stdout",
     "output_type": "stream",
     "text": [
      "gamma= 5 , ratio= 0.1 , M= 1.0 : 0.8844124047878128\n"
     ]
    },
    {
     "name": "stderr",
     "output_type": "stream",
     "text": [
      "100%|██████████| 95156/95156 [00:54<00:00, 1754.71it/s]\n",
      "  0%|          | 338/95156 [00:00<00:55, 1700.87it/s]"
     ]
    },
    {
     "name": "stdout",
     "output_type": "stream",
     "text": [
      "gamma= 5 , ratio= 0.1 , M= 5.0 : 0.9027957245194052\n"
     ]
    },
    {
     "name": "stderr",
     "output_type": "stream",
     "text": [
      "100%|██████████| 95156/95156 [00:54<00:00, 1753.15it/s]\n",
      "  0%|          | 346/95156 [00:00<00:54, 1732.14it/s]"
     ]
    },
    {
     "name": "stdout",
     "output_type": "stream",
     "text": [
      "gamma= 5 , ratio= 0.1 , M= 10.0 : 0.9083185981138919\n"
     ]
    },
    {
     "name": "stderr",
     "output_type": "stream",
     "text": [
      "100%|██████████| 95156/95156 [00:54<00:00, 1751.08it/s]\n",
      "  0%|          | 165/95156 [00:00<00:57, 1643.93it/s]"
     ]
    },
    {
     "name": "stdout",
     "output_type": "stream",
     "text": [
      "gamma= 5 , ratio= 0.5 , M= 1.0 : 0.8844124047878128\n"
     ]
    },
    {
     "name": "stderr",
     "output_type": "stream",
     "text": [
      "100%|██████████| 95156/95156 [00:54<00:00, 1746.67it/s]\n",
      "  0%|          | 159/95156 [00:00<00:59, 1588.06it/s]"
     ]
    },
    {
     "name": "stdout",
     "output_type": "stream",
     "text": [
      "gamma= 5 , ratio= 0.5 , M= 5.0 : 0.9007208922742111\n"
     ]
    },
    {
     "name": "stderr",
     "output_type": "stream",
     "text": [
      "100%|██████████| 95156/95156 [00:54<00:00, 1753.95it/s]\n",
      "  0%|          | 162/95156 [00:00<00:58, 1611.47it/s]"
     ]
    },
    {
     "name": "stdout",
     "output_type": "stream",
     "text": [
      "gamma= 5 , ratio= 0.5 , M= 10.0 : 0.8825954388828438\n"
     ]
    },
    {
     "name": "stderr",
     "output_type": "stream",
     "text": [
      "100%|██████████| 95156/95156 [00:54<00:00, 1743.62it/s]\n",
      "  0%|          | 329/95156 [00:00<00:57, 1657.56it/s]"
     ]
    },
    {
     "name": "stdout",
     "output_type": "stream",
     "text": [
      "gamma= 5 , ratio= 1.0 , M= 1.0 : 0.8844124047878128\n"
     ]
    },
    {
     "name": "stderr",
     "output_type": "stream",
     "text": [
      "100%|██████████| 95156/95156 [00:54<00:00, 1743.99it/s]\n",
      "  0%|          | 149/95156 [00:00<01:03, 1489.07it/s]"
     ]
    },
    {
     "name": "stdout",
     "output_type": "stream",
     "text": [
      "gamma= 5 , ratio= 1.0 , M= 5.0 : 0.8832619241929633\n"
     ]
    },
    {
     "name": "stderr",
     "output_type": "stream",
     "text": [
      "100%|██████████| 95156/95156 [00:55<00:00, 1724.44it/s]\n",
      "  0%|          | 156/95156 [00:00<01:00, 1558.02it/s]"
     ]
    },
    {
     "name": "stdout",
     "output_type": "stream",
     "text": [
      "gamma= 5 , ratio= 1.0 , M= 10.0 : 0.5\n"
     ]
    },
    {
     "name": "stderr",
     "output_type": "stream",
     "text": [
      "100%|██████████| 95156/95156 [00:54<00:00, 1751.72it/s]\n",
      "  0%|          | 158/95156 [00:00<01:00, 1574.10it/s]"
     ]
    },
    {
     "name": "stdout",
     "output_type": "stream",
     "text": [
      "gamma= 10 , ratio= 0.1 , M= 1.0 : 0.8844124047878128\n"
     ]
    },
    {
     "name": "stderr",
     "output_type": "stream",
     "text": [
      "100%|██████████| 95156/95156 [00:54<00:00, 1740.98it/s]\n",
      "  0%|          | 351/95156 [00:00<00:53, 1756.12it/s]"
     ]
    },
    {
     "name": "stdout",
     "output_type": "stream",
     "text": [
      "gamma= 10 , ratio= 0.1 , M= 5.0 : 0.8850199492201668\n"
     ]
    },
    {
     "name": "stderr",
     "output_type": "stream",
     "text": [
      "100%|██████████| 95156/95156 [00:54<00:00, 1748.15it/s]\n",
      "  0%|          | 322/95156 [00:00<00:59, 1600.58it/s]"
     ]
    },
    {
     "name": "stdout",
     "output_type": "stream",
     "text": [
      "gamma= 10 , ratio= 0.1 , M= 10.0 : 0.9094124047878128\n"
     ]
    },
    {
     "name": "stderr",
     "output_type": "stream",
     "text": [
      "100%|██████████| 95156/95156 [00:54<00:00, 1739.58it/s]\n",
      "  0%|          | 333/95156 [00:00<00:56, 1672.68it/s]"
     ]
    },
    {
     "name": "stdout",
     "output_type": "stream",
     "text": [
      "gamma= 10 , ratio= 0.5 , M= 1.0 : 0.8844124047878128\n"
     ]
    },
    {
     "name": "stderr",
     "output_type": "stream",
     "text": [
      "100%|██████████| 95156/95156 [00:55<00:00, 1728.94it/s]\n",
      "  0%|          | 339/95156 [00:00<00:55, 1708.84it/s]"
     ]
    },
    {
     "name": "stdout",
     "output_type": "stream",
     "text": [
      "gamma= 10 , ratio= 0.5 , M= 5.0 : 0.8887740297424737\n"
     ]
    },
    {
     "name": "stderr",
     "output_type": "stream",
     "text": [
      "100%|██████████| 95156/95156 [00:54<00:00, 1743.15it/s]\n",
      "  0%|          | 336/95156 [00:00<00:55, 1694.01it/s]"
     ]
    },
    {
     "name": "stdout",
     "output_type": "stream",
     "text": [
      "gamma= 10 , ratio= 0.5 , M= 10.0 : 0.9082794931084512\n"
     ]
    },
    {
     "name": "stderr",
     "output_type": "stream",
     "text": [
      "100%|██████████| 95156/95156 [00:54<00:00, 1741.91it/s]\n",
      "  0%|          | 327/95156 [00:00<00:57, 1643.97it/s]"
     ]
    },
    {
     "name": "stdout",
     "output_type": "stream",
     "text": [
      "gamma= 10 , ratio= 1.0 , M= 1.0 : 0.8844124047878128\n"
     ]
    },
    {
     "name": "stderr",
     "output_type": "stream",
     "text": [
      "100%|██████████| 95156/95156 [00:54<00:00, 1753.59it/s]\n",
      "  0%|          | 339/95156 [00:00<00:55, 1694.01it/s]"
     ]
    },
    {
     "name": "stdout",
     "output_type": "stream",
     "text": [
      "gamma= 10 , ratio= 1.0 , M= 5.0 : 0.8966449038810301\n"
     ]
    },
    {
     "name": "stderr",
     "output_type": "stream",
     "text": [
      "100%|██████████| 95156/95156 [00:54<00:00, 1738.96it/s]\n",
      "  0%|          | 147/95156 [00:00<01:04, 1461.95it/s]"
     ]
    },
    {
     "name": "stdout",
     "output_type": "stream",
     "text": [
      "gamma= 10 , ratio= 1.0 , M= 10.0 : 0.9007208922742111\n"
     ]
    },
    {
     "name": "stderr",
     "output_type": "stream",
     "text": [
      "100%|██████████| 95156/95156 [00:54<00:00, 1737.83it/s]\n",
      "  0%|          | 166/95156 [00:00<00:57, 1652.56it/s]"
     ]
    },
    {
     "name": "stdout",
     "output_type": "stream",
     "text": [
      "gamma= 15 , ratio= 0.1 , M= 1.0 : 0.8844124047878128\n"
     ]
    },
    {
     "name": "stderr",
     "output_type": "stream",
     "text": [
      "100%|██████████| 95156/95156 [00:54<00:00, 1735.25it/s]\n",
      "  0%|          | 155/95156 [00:00<01:01, 1542.77it/s]"
     ]
    },
    {
     "name": "stdout",
     "output_type": "stream",
     "text": [
      "gamma= 15 , ratio= 0.1 , M= 5.0 : 0.8844124047878129\n"
     ]
    },
    {
     "name": "stderr",
     "output_type": "stream",
     "text": [
      "100%|██████████| 95156/95156 [00:55<00:00, 1726.37it/s]\n",
      "  0%|          | 162/95156 [00:00<00:58, 1611.94it/s]"
     ]
    },
    {
     "name": "stdout",
     "output_type": "stream",
     "text": [
      "gamma= 15 , ratio= 0.1 , M= 10.0 : 0.8875589408777657\n"
     ]
    },
    {
     "name": "stderr",
     "output_type": "stream",
     "text": [
      "100%|██████████| 95156/95156 [00:54<00:00, 1735.93it/s]\n",
      "  0%|          | 157/95156 [00:00<01:00, 1563.80it/s]"
     ]
    },
    {
     "name": "stdout",
     "output_type": "stream",
     "text": [
      "gamma= 15 , ratio= 0.5 , M= 1.0 : 0.8844124047878128\n"
     ]
    },
    {
     "name": "stderr",
     "output_type": "stream",
     "text": [
      "100%|██████████| 95156/95156 [00:54<00:00, 1736.81it/s]\n",
      "  0%|          | 155/95156 [00:00<01:01, 1545.92it/s]"
     ]
    },
    {
     "name": "stdout",
     "output_type": "stream",
     "text": [
      "gamma= 15 , ratio= 0.5 , M= 5.0 : 0.8844214726151615\n"
     ]
    },
    {
     "name": "stderr",
     "output_type": "stream",
     "text": [
      "100%|██████████| 95156/95156 [00:54<00:00, 1743.17it/s]\n",
      "  0%|          | 162/95156 [00:00<00:58, 1619.66it/s]"
     ]
    },
    {
     "name": "stdout",
     "output_type": "stream",
     "text": [
      "gamma= 15 , ratio= 0.5 , M= 10.0 : 0.9085963003264418\n"
     ]
    },
    {
     "name": "stderr",
     "output_type": "stream",
     "text": [
      "100%|██████████| 95156/95156 [00:54<00:00, 1737.90it/s]\n",
      "  0%|          | 147/95156 [00:00<01:04, 1468.02it/s]"
     ]
    },
    {
     "name": "stdout",
     "output_type": "stream",
     "text": [
      "gamma= 15 , ratio= 1.0 , M= 1.0 : 0.8844124047878128\n"
     ]
    },
    {
     "name": "stderr",
     "output_type": "stream",
     "text": [
      "100%|██████████| 95156/95156 [00:54<00:00, 1745.11it/s]\n",
      "  0%|          | 353/95156 [00:00<00:53, 1769.63it/s]"
     ]
    },
    {
     "name": "stdout",
     "output_type": "stream",
     "text": [
      "gamma= 15 , ratio= 1.0 , M= 5.0 : 0.8844305404425099\n"
     ]
    },
    {
     "name": "stderr",
     "output_type": "stream",
     "text": [
      "100%|██████████| 95156/95156 [00:54<00:00, 1746.98it/s]\n",
      "  0%|          | 206/95156 [00:00<00:46, 2057.51it/s]"
     ]
    },
    {
     "name": "stdout",
     "output_type": "stream",
     "text": [
      "gamma= 15 , ratio= 1.0 , M= 10.0 : 0.902177978781284\n"
     ]
    },
    {
     "name": "stderr",
     "output_type": "stream",
     "text": [
      "100%|██████████| 95156/95156 [00:38<00:00, 2461.00it/s]\n",
      "  0%|          | 229/95156 [00:00<00:41, 2285.88it/s]"
     ]
    },
    {
     "name": "stdout",
     "output_type": "stream",
     "text": [
      "gamma= 5 , ratio= 0.1 , M= 1.0 : 0.8960373594486761\n"
     ]
    },
    {
     "name": "stderr",
     "output_type": "stream",
     "text": [
      "100%|██████████| 95156/95156 [00:38<00:00, 2475.81it/s]\n",
      "  0%|          | 439/95156 [00:00<00:42, 2206.54it/s]"
     ]
    },
    {
     "name": "stdout",
     "output_type": "stream",
     "text": [
      "gamma= 5 , ratio= 0.1 , M= 5.0 : 0.9238121146173377\n"
     ]
    },
    {
     "name": "stderr",
     "output_type": "stream",
     "text": [
      "100%|██████████| 95156/95156 [00:39<00:00, 2437.96it/s]\n",
      "  1%|          | 478/95156 [00:00<00:39, 2397.36it/s]"
     ]
    },
    {
     "name": "stdout",
     "output_type": "stream",
     "text": [
      "gamma= 5 , ratio= 0.1 , M= 10.0 : 0.9168145856002902\n"
     ]
    },
    {
     "name": "stderr",
     "output_type": "stream",
     "text": [
      "100%|██████████| 95156/95156 [00:38<00:00, 2479.17it/s]\n",
      "  0%|          | 241/95156 [00:00<00:39, 2407.60it/s]"
     ]
    },
    {
     "name": "stdout",
     "output_type": "stream",
     "text": [
      "gamma= 5 , ratio= 0.5 , M= 1.0 : 0.8960373594486761\n"
     ]
    },
    {
     "name": "stderr",
     "output_type": "stream",
     "text": [
      "100%|██████████| 95156/95156 [00:40<00:00, 2349.72it/s]\n",
      "  0%|          | 234/95156 [00:00<00:40, 2337.00it/s]"
     ]
    },
    {
     "name": "stdout",
     "output_type": "stream",
     "text": [
      "gamma= 5 , ratio= 0.5 , M= 5.0 : 0.91881347479144\n"
     ]
    },
    {
     "name": "stderr",
     "output_type": "stream",
     "text": [
      "100%|██████████| 95156/95156 [00:38<00:00, 2448.16it/s]\n",
      "  0%|          | 193/95156 [00:00<00:49, 1924.81it/s]"
     ]
    },
    {
     "name": "stdout",
     "output_type": "stream",
     "text": [
      "gamma= 5 , ratio= 0.5 , M= 10.0 : 0.8736409593761334\n"
     ]
    },
    {
     "name": "stderr",
     "output_type": "stream",
     "text": [
      "100%|██████████| 95156/95156 [00:38<00:00, 2446.42it/s]\n",
      "  0%|          | 228/95156 [00:00<00:41, 2274.73it/s]"
     ]
    },
    {
     "name": "stdout",
     "output_type": "stream",
     "text": [
      "gamma= 5 , ratio= 1.0 , M= 1.0 : 0.8960373594486761\n"
     ]
    },
    {
     "name": "stderr",
     "output_type": "stream",
     "text": [
      "100%|██████████| 95156/95156 [00:39<00:00, 2427.99it/s]\n",
      "  0%|          | 225/95156 [00:00<00:42, 2247.60it/s]"
     ]
    },
    {
     "name": "stdout",
     "output_type": "stream",
     "text": [
      "gamma= 5 , ratio= 1.0 , M= 5.0 : 0.8807399347116431\n"
     ]
    },
    {
     "name": "stderr",
     "output_type": "stream",
     "text": [
      "100%|██████████| 95156/95156 [00:40<00:00, 2374.13it/s]\n",
      "  0%|          | 233/95156 [00:00<00:40, 2325.98it/s]"
     ]
    },
    {
     "name": "stdout",
     "output_type": "stream",
     "text": [
      "gamma= 5 , ratio= 1.0 , M= 10.0 : 0.5\n"
     ]
    },
    {
     "name": "stderr",
     "output_type": "stream",
     "text": [
      "100%|██████████| 95156/95156 [00:39<00:00, 2423.57it/s]\n",
      "  0%|          | 451/95156 [00:00<00:42, 2250.80it/s]"
     ]
    },
    {
     "name": "stdout",
     "output_type": "stream",
     "text": [
      "gamma= 10 , ratio= 0.1 , M= 1.0 : 0.8960373594486761\n"
     ]
    },
    {
     "name": "stderr",
     "output_type": "stream",
     "text": [
      "100%|██████████| 95156/95156 [00:39<00:00, 2439.73it/s]\n",
      "  0%|          | 472/95156 [00:00<00:40, 2360.74it/s]"
     ]
    },
    {
     "name": "stdout",
     "output_type": "stream",
     "text": [
      "gamma= 10 , ratio= 0.1 , M= 5.0 : 0.8960917664127676\n"
     ]
    },
    {
     "name": "stderr",
     "output_type": "stream",
     "text": [
      "100%|██████████| 95156/95156 [00:38<00:00, 2455.75it/s]\n",
      "  1%|          | 477/95156 [00:00<00:39, 2388.90it/s]"
     ]
    },
    {
     "name": "stdout",
     "output_type": "stream",
     "text": [
      "gamma= 10 , ratio= 0.1 , M= 10.0 : 0.8992020311933261\n"
     ]
    },
    {
     "name": "stderr",
     "output_type": "stream",
     "text": [
      "100%|██████████| 95156/95156 [00:39<00:00, 2438.88it/s]\n",
      "  1%|          | 484/95156 [00:00<00:38, 2428.39it/s]"
     ]
    },
    {
     "name": "stdout",
     "output_type": "stream",
     "text": [
      "gamma= 10 , ratio= 0.5 , M= 1.0 : 0.8960373594486761\n"
     ]
    },
    {
     "name": "stderr",
     "output_type": "stream",
     "text": [
      "100%|██████████| 95156/95156 [00:39<00:00, 2432.01it/s]\n",
      "  0%|          | 459/95156 [00:00<00:41, 2300.00it/s]"
     ]
    },
    {
     "name": "stdout",
     "output_type": "stream",
     "text": [
      "gamma= 10 , ratio= 0.5 , M= 5.0 : 0.896146173376859\n"
     ]
    },
    {
     "name": "stderr",
     "output_type": "stream",
     "text": [
      "100%|██████████| 95156/95156 [00:38<00:00, 2451.12it/s]\n",
      "  1%|          | 481/95156 [00:00<00:39, 2413.15it/s]"
     ]
    },
    {
     "name": "stdout",
     "output_type": "stream",
     "text": [
      "gamma= 10 , ratio= 0.5 , M= 10.0 : 0.9190804089590133\n"
     ]
    },
    {
     "name": "stderr",
     "output_type": "stream",
     "text": [
      "100%|██████████| 95156/95156 [00:38<00:00, 2459.46it/s]\n",
      "  0%|          | 470/95156 [00:00<00:39, 2375.27it/s]"
     ]
    },
    {
     "name": "stdout",
     "output_type": "stream",
     "text": [
      "gamma= 10 , ratio= 1.0 , M= 1.0 : 0.8960373594486761\n"
     ]
    },
    {
     "name": "stderr",
     "output_type": "stream",
     "text": [
      "100%|██████████| 95156/95156 [00:38<00:00, 2468.93it/s]\n",
      "  1%|          | 478/95156 [00:00<00:39, 2396.39it/s]"
     ]
    },
    {
     "name": "stdout",
     "output_type": "stream",
     "text": [
      "gamma= 10 , ratio= 1.0 , M= 5.0 : 0.8962368516503446\n"
     ]
    },
    {
     "name": "stderr",
     "output_type": "stream",
     "text": [
      "100%|██████████| 95156/95156 [00:38<00:00, 2467.55it/s]\n",
      "  0%|          | 469/95156 [00:00<00:39, 2370.46it/s]"
     ]
    },
    {
     "name": "stdout",
     "output_type": "stream",
     "text": [
      "gamma= 10 , ratio= 1.0 , M= 10.0 : 0.91881347479144\n"
     ]
    },
    {
     "name": "stderr",
     "output_type": "stream",
     "text": [
      "100%|██████████| 95156/95156 [00:38<00:00, 2464.90it/s]\n",
      "  0%|          | 237/95156 [00:00<00:40, 2365.11it/s]"
     ]
    },
    {
     "name": "stdout",
     "output_type": "stream",
     "text": [
      "gamma= 15 , ratio= 0.1 , M= 1.0 : 0.8960373594486761\n"
     ]
    },
    {
     "name": "stderr",
     "output_type": "stream",
     "text": [
      "100%|██████████| 95156/95156 [00:38<00:00, 2462.22it/s]\n",
      "  1%|          | 481/95156 [00:00<00:39, 2411.41it/s]"
     ]
    },
    {
     "name": "stdout",
     "output_type": "stream",
     "text": [
      "gamma= 15 , ratio= 0.1 , M= 5.0 : 0.896037359448676\n"
     ]
    },
    {
     "name": "stderr",
     "output_type": "stream",
     "text": [
      "100%|██████████| 95156/95156 [00:38<00:00, 2470.97it/s]\n",
      "  0%|          | 471/95156 [00:00<00:40, 2362.44it/s]"
     ]
    },
    {
     "name": "stdout",
     "output_type": "stream",
     "text": [
      "gamma= 15 , ratio= 0.1 , M= 10.0 : 0.8961371055495104\n"
     ]
    },
    {
     "name": "stderr",
     "output_type": "stream",
     "text": [
      "100%|██████████| 95156/95156 [00:38<00:00, 2466.50it/s]\n",
      "  0%|          | 465/95156 [00:00<00:40, 2322.21it/s]"
     ]
    },
    {
     "name": "stdout",
     "output_type": "stream",
     "text": [
      "gamma= 15 , ratio= 0.5 , M= 1.0 : 0.8960373594486761\n"
     ]
    },
    {
     "name": "stderr",
     "output_type": "stream",
     "text": [
      "100%|██████████| 95156/95156 [00:38<00:00, 2465.06it/s]\n",
      "  1%|          | 481/95156 [00:00<00:39, 2416.82it/s]"
     ]
    },
    {
     "name": "stdout",
     "output_type": "stream",
     "text": [
      "gamma= 15 , ratio= 0.5 , M= 5.0 : 0.8960373594486761\n"
     ]
    },
    {
     "name": "stderr",
     "output_type": "stream",
     "text": [
      "100%|██████████| 95156/95156 [00:38<00:00, 2478.67it/s]\n",
      "  1%|          | 490/95156 [00:00<00:38, 2457.53it/s]"
     ]
    },
    {
     "name": "stdout",
     "output_type": "stream",
     "text": [
      "gamma= 15 , ratio= 0.5 , M= 10.0 : 0.8987123685165034\n"
     ]
    },
    {
     "name": "stderr",
     "output_type": "stream",
     "text": [
      "100%|██████████| 95156/95156 [00:38<00:00, 2468.57it/s]\n",
      "  0%|          | 454/95156 [00:00<00:41, 2276.55it/s]"
     ]
    },
    {
     "name": "stdout",
     "output_type": "stream",
     "text": [
      "gamma= 15 , ratio= 1.0 , M= 1.0 : 0.8960373594486761\n"
     ]
    },
    {
     "name": "stderr",
     "output_type": "stream",
     "text": [
      "100%|██████████| 95156/95156 [00:38<00:00, 2478.58it/s]\n",
      "  0%|          | 198/95156 [00:00<00:48, 1973.88it/s]"
     ]
    },
    {
     "name": "stdout",
     "output_type": "stream",
     "text": [
      "gamma= 15 , ratio= 1.0 , M= 5.0 : 0.8960464272760247\n"
     ]
    },
    {
     "name": "stderr",
     "output_type": "stream",
     "text": [
      "100%|██████████| 95156/95156 [00:40<00:00, 2355.30it/s]\n",
      "  0%|          | 164/95156 [00:00<00:58, 1631.89it/s]"
     ]
    },
    {
     "name": "stdout",
     "output_type": "stream",
     "text": [
      "gamma= 15 , ratio= 1.0 , M= 10.0 : 0.9217899891186072\n"
     ]
    },
    {
     "name": "stderr",
     "output_type": "stream",
     "text": [
      "100%|██████████| 95156/95156 [00:54<00:00, 1736.77it/s]\n",
      "  0%|          | 342/95156 [00:00<00:55, 1711.28it/s]"
     ]
    },
    {
     "name": "stdout",
     "output_type": "stream",
     "text": [
      "gamma= 5 , ratio= 0.1 , M= 1.0 : 0.8844124047878128\n"
     ]
    },
    {
     "name": "stderr",
     "output_type": "stream",
     "text": [
      "100%|██████████| 95156/95156 [00:54<00:00, 1745.55it/s]\n",
      "  0%|          | 343/95156 [00:00<00:55, 1713.69it/s]"
     ]
    },
    {
     "name": "stdout",
     "output_type": "stream",
     "text": [
      "gamma= 5 , ratio= 0.1 , M= 5.0 : 0.9027957245194052\n"
     ]
    },
    {
     "name": "stderr",
     "output_type": "stream",
     "text": [
      "100%|██████████| 95156/95156 [00:54<00:00, 1752.11it/s]\n",
      "  0%|          | 334/95156 [00:00<00:56, 1679.75it/s]"
     ]
    },
    {
     "name": "stdout",
     "output_type": "stream",
     "text": [
      "gamma= 5 , ratio= 0.1 , M= 10.0 : 0.9083185981138919\n"
     ]
    },
    {
     "name": "stderr",
     "output_type": "stream",
     "text": [
      "100%|██████████| 95156/95156 [00:54<00:00, 1748.11it/s]\n",
      "  0%|          | 148/95156 [00:00<01:04, 1476.32it/s]"
     ]
    },
    {
     "name": "stdout",
     "output_type": "stream",
     "text": [
      "gamma= 5 , ratio= 0.5 , M= 1.0 : 0.8844124047878128\n"
     ]
    },
    {
     "name": "stderr",
     "output_type": "stream",
     "text": [
      "100%|██████████| 95156/95156 [00:54<00:00, 1739.32it/s]\n",
      "  0%|          | 158/95156 [00:00<01:00, 1574.43it/s]"
     ]
    },
    {
     "name": "stdout",
     "output_type": "stream",
     "text": [
      "gamma= 5 , ratio= 0.5 , M= 5.0 : 0.9007208922742111\n"
     ]
    },
    {
     "name": "stderr",
     "output_type": "stream",
     "text": [
      "100%|██████████| 95156/95156 [00:54<00:00, 1744.74it/s]\n",
      "  0%|          | 159/95156 [00:00<00:59, 1583.87it/s]"
     ]
    },
    {
     "name": "stdout",
     "output_type": "stream",
     "text": [
      "gamma= 5 , ratio= 0.5 , M= 10.0 : 0.8825954388828438\n"
     ]
    },
    {
     "name": "stderr",
     "output_type": "stream",
     "text": [
      "100%|██████████| 95156/95156 [00:54<00:00, 1739.23it/s]\n",
      "  0%|          | 344/95156 [00:00<00:54, 1728.18it/s]"
     ]
    },
    {
     "name": "stdout",
     "output_type": "stream",
     "text": [
      "gamma= 5 , ratio= 1.0 , M= 1.0 : 0.8844124047878128\n"
     ]
    },
    {
     "name": "stderr",
     "output_type": "stream",
     "text": [
      "100%|██████████| 95156/95156 [00:54<00:00, 1754.30it/s]\n",
      "  0%|          | 329/95156 [00:00<00:57, 1647.76it/s]"
     ]
    },
    {
     "name": "stdout",
     "output_type": "stream",
     "text": [
      "gamma= 5 , ratio= 1.0 , M= 5.0 : 0.8832619241929633\n"
     ]
    },
    {
     "name": "stderr",
     "output_type": "stream",
     "text": [
      "100%|██████████| 95156/95156 [00:55<00:00, 1704.35it/s]\n",
      "  0%|          | 158/95156 [00:00<01:00, 1574.29it/s]"
     ]
    },
    {
     "name": "stdout",
     "output_type": "stream",
     "text": [
      "gamma= 5 , ratio= 1.0 , M= 10.0 : 0.5\n"
     ]
    },
    {
     "name": "stderr",
     "output_type": "stream",
     "text": [
      "100%|██████████| 95156/95156 [00:54<00:00, 1745.02it/s]\n",
      "  0%|          | 344/95156 [00:00<00:54, 1728.15it/s]"
     ]
    },
    {
     "name": "stdout",
     "output_type": "stream",
     "text": [
      "gamma= 10 , ratio= 0.1 , M= 1.0 : 0.8844124047878128\n"
     ]
    },
    {
     "name": "stderr",
     "output_type": "stream",
     "text": [
      "100%|██████████| 95156/95156 [00:54<00:00, 1745.49it/s]\n",
      "  0%|          | 335/95156 [00:00<00:56, 1687.52it/s]"
     ]
    },
    {
     "name": "stdout",
     "output_type": "stream",
     "text": [
      "gamma= 10 , ratio= 0.1 , M= 5.0 : 0.8850199492201668\n"
     ]
    },
    {
     "name": "stderr",
     "output_type": "stream",
     "text": [
      "100%|██████████| 95156/95156 [00:55<00:00, 1717.60it/s]\n",
      "  0%|          | 323/95156 [00:00<00:58, 1627.95it/s]"
     ]
    },
    {
     "name": "stdout",
     "output_type": "stream",
     "text": [
      "gamma= 10 , ratio= 0.1 , M= 10.0 : 0.9094124047878128\n"
     ]
    },
    {
     "name": "stderr",
     "output_type": "stream",
     "text": [
      "100%|██████████| 95156/95156 [00:54<00:00, 1731.32it/s]\n",
      "  0%|          | 336/95156 [00:00<00:56, 1685.41it/s]"
     ]
    },
    {
     "name": "stdout",
     "output_type": "stream",
     "text": [
      "gamma= 10 , ratio= 0.5 , M= 1.0 : 0.8844124047878128\n"
     ]
    },
    {
     "name": "stderr",
     "output_type": "stream",
     "text": [
      "100%|██████████| 95156/95156 [00:55<00:00, 1715.56it/s]\n",
      "  0%|          | 161/95156 [00:00<00:59, 1601.15it/s]"
     ]
    },
    {
     "name": "stdout",
     "output_type": "stream",
     "text": [
      "gamma= 10 , ratio= 0.5 , M= 5.0 : 0.8887740297424737\n"
     ]
    },
    {
     "name": "stderr",
     "output_type": "stream",
     "text": [
      "100%|██████████| 95156/95156 [00:54<00:00, 1758.76it/s]\n",
      "  0%|          | 163/95156 [00:00<00:58, 1627.87it/s]"
     ]
    },
    {
     "name": "stdout",
     "output_type": "stream",
     "text": [
      "gamma= 10 , ratio= 0.5 , M= 10.0 : 0.9082794931084512\n"
     ]
    },
    {
     "name": "stderr",
     "output_type": "stream",
     "text": [
      "100%|██████████| 95156/95156 [00:54<00:00, 1744.49it/s]\n",
      "  0%|          | 342/95156 [00:00<00:54, 1725.51it/s]"
     ]
    },
    {
     "name": "stdout",
     "output_type": "stream",
     "text": [
      "gamma= 10 , ratio= 1.0 , M= 1.0 : 0.8844124047878128\n"
     ]
    },
    {
     "name": "stderr",
     "output_type": "stream",
     "text": [
      "100%|██████████| 95156/95156 [00:55<00:00, 1727.43it/s]\n",
      "  0%|          | 158/95156 [00:00<01:00, 1576.72it/s]"
     ]
    },
    {
     "name": "stdout",
     "output_type": "stream",
     "text": [
      "gamma= 10 , ratio= 1.0 , M= 5.0 : 0.8966449038810301\n"
     ]
    },
    {
     "name": "stderr",
     "output_type": "stream",
     "text": [
      "100%|██████████| 95156/95156 [00:54<00:00, 1737.84it/s]\n",
      "  0%|          | 157/95156 [00:00<01:00, 1568.92it/s]"
     ]
    },
    {
     "name": "stdout",
     "output_type": "stream",
     "text": [
      "gamma= 10 , ratio= 1.0 , M= 10.0 : 0.9007208922742111\n"
     ]
    },
    {
     "name": "stderr",
     "output_type": "stream",
     "text": [
      "100%|██████████| 95156/95156 [00:55<00:00, 1721.89it/s]\n",
      "  0%|          | 147/95156 [00:00<01:04, 1467.84it/s]"
     ]
    },
    {
     "name": "stdout",
     "output_type": "stream",
     "text": [
      "gamma= 15 , ratio= 0.1 , M= 1.0 : 0.8844124047878128\n"
     ]
    },
    {
     "name": "stderr",
     "output_type": "stream",
     "text": [
      "100%|██████████| 95156/95156 [00:57<00:00, 1668.17it/s]\n",
      "  0%|          | 342/95156 [00:00<00:55, 1719.45it/s]"
     ]
    },
    {
     "name": "stdout",
     "output_type": "stream",
     "text": [
      "gamma= 15 , ratio= 0.1 , M= 5.0 : 0.8844124047878129\n"
     ]
    },
    {
     "name": "stderr",
     "output_type": "stream",
     "text": [
      "100%|██████████| 95156/95156 [00:54<00:00, 1737.81it/s]\n",
      "  0%|          | 160/95156 [00:00<00:59, 1594.39it/s]"
     ]
    },
    {
     "name": "stdout",
     "output_type": "stream",
     "text": [
      "gamma= 15 , ratio= 0.1 , M= 10.0 : 0.8875589408777657\n"
     ]
    },
    {
     "name": "stderr",
     "output_type": "stream",
     "text": [
      "100%|██████████| 95156/95156 [00:54<00:00, 1754.36it/s]\n",
      "  0%|          | 330/95156 [00:00<00:57, 1660.13it/s]"
     ]
    },
    {
     "name": "stdout",
     "output_type": "stream",
     "text": [
      "gamma= 15 , ratio= 0.5 , M= 1.0 : 0.8844124047878128\n"
     ]
    },
    {
     "name": "stderr",
     "output_type": "stream",
     "text": [
      "100%|██████████| 95156/95156 [00:54<00:00, 1732.66it/s]\n",
      "  0%|          | 339/95156 [00:00<00:55, 1702.33it/s]"
     ]
    },
    {
     "name": "stdout",
     "output_type": "stream",
     "text": [
      "gamma= 15 , ratio= 0.5 , M= 5.0 : 0.8844214726151615\n"
     ]
    },
    {
     "name": "stderr",
     "output_type": "stream",
     "text": [
      "100%|██████████| 95156/95156 [00:54<00:00, 1743.17it/s]\n",
      "  0%|          | 162/95156 [00:00<00:58, 1615.61it/s]"
     ]
    },
    {
     "name": "stdout",
     "output_type": "stream",
     "text": [
      "gamma= 15 , ratio= 0.5 , M= 10.0 : 0.9085963003264418\n"
     ]
    },
    {
     "name": "stderr",
     "output_type": "stream",
     "text": [
      "100%|██████████| 95156/95156 [00:54<00:00, 1749.88it/s]\n",
      "  0%|          | 328/95156 [00:00<00:57, 1655.29it/s]"
     ]
    },
    {
     "name": "stdout",
     "output_type": "stream",
     "text": [
      "gamma= 15 , ratio= 1.0 , M= 1.0 : 0.8844124047878128\n"
     ]
    },
    {
     "name": "stderr",
     "output_type": "stream",
     "text": [
      "100%|██████████| 95156/95156 [00:54<00:00, 1733.72it/s]\n",
      "  0%|          | 158/95156 [00:00<01:00, 1577.00it/s]"
     ]
    },
    {
     "name": "stdout",
     "output_type": "stream",
     "text": [
      "gamma= 15 , ratio= 1.0 , M= 5.0 : 0.8844305404425099\n"
     ]
    },
    {
     "name": "stderr",
     "output_type": "stream",
     "text": [
      "100%|██████████| 95156/95156 [00:54<00:00, 1746.82it/s]\n"
     ]
    },
    {
     "name": "stdout",
     "output_type": "stream",
     "text": [
      "gamma= 15 , ratio= 1.0 , M= 10.0 : 0.902177978781284\n"
     ]
    },
    {
     "data": {
      "text/plain": [
       "\"\\nfor l, d0 in enumerate(d0_list):\\n    for m, M in enumerate(M_list):\\n        for p, L_alpha in enumerate(L_alpha_list):\\n            scores = calc_scores_sra(X, theta0, k, gamma, d0, M, L_alpha)\\n            fpr, tpr, thresholds = roc_curve(y, scores, pos_label=1)\\n            auc_sra_tot[n, i, j, l, m, p] = auc(fpr, tpr)\\n\\n            fpr_tr, tpr_tr, thresholds_tr = roc_curve(y[1000:2000], scores[1000:2000], pos_label=1)\\n            auc_sra_tr[n, i, j, l, m, p] = auc(fpr_tr, tpr_tr)\\n\\n            fpr_te, tpr_te, thresholds_te = roc_curve(y[2000:], scores[2000:], pos_label=1)\\n            auc_sra_te[n, i, j, l, m, p] = auc(fpr_te, tpr_te)\\n            print('gamma=', gamma, ', d0=', d0, ', M=', M, ', L_alpha=', L_alpha, ':', auc_sra_te[n, i, j, l, m, p])\\n\""
      ]
     },
     "execution_count": 44,
     "metadata": {},
     "output_type": "execute_result"
    }
   ],
   "source": [
    "n_trial = 5\n",
    "\n",
    "auc_sra_tot = np.zeros((n_trial, len(k_list), len(gamma_list), len(ratio_list), len(M_list)))\n",
    "auc_sra_tr = np.zeros((n_trial, len(k_list), len(gamma_list), len(ratio_list), len(M_list)))\n",
    "auc_sra_te = np.zeros((n_trial, len(k_list), len(gamma_list), len(ratio_list), len(M_list)))\n",
    "\n",
    "for n in range(n_trial):\n",
    "    for i, k in enumerate(k_list):\n",
    "        pi0 = np.array([1/k] * k).reshape(-1, 1)\n",
    "        mu0 = np.hstack([ \n",
    "                  np.random.uniform(np.min(X[:40000, col]), np.max(X[:40000, col]), k).reshape(-1, 1)\n",
    "                  for col in range(X.shape[1])\n",
    "              ])\n",
    "        sigma0 = np.stack([np.diag((X[:40000, :].max(axis=0) - X[:40000, :].min(axis=0))/10) for _ in range(k)])\n",
    "        theta0 = Theta(pi0, mu0, sigma0)\n",
    "        for j, gamma in enumerate(gamma_list):\n",
    "            for l, ratio in enumerate(ratio_list):\n",
    "                for m, M in enumerate(M_list):\n",
    "                    scores = calc_scores_sra(X, theta0, k, gamma, ratio, M)\n",
    "                    fpr, tpr, thresholds = roc_curve(y, scores, pos_label=1)\n",
    "                    #auc_sra_tot[n, i, j, l, m, p] = auc(fpr, tpr)\n",
    "                    auc_sra_tot[n, i, j, l, m] = auc(fpr, tpr)\n",
    "\n",
    "                    fpr_tr, tpr_tr, thresholds_tr = roc_curve(y[10000:40000], scores[10000:40000], pos_label=1)\n",
    "                    #auc_sra_tr[n, i, j, l, m, p] = auc(fpr_tr, tpr_tr)\n",
    "                    auc_sra_tr[n, i, j, l, m] = auc(fpr_tr, tpr_tr)\n",
    "\n",
    "                    fpr_te, tpr_te, thresholds_te = roc_curve(y[40000:], scores[40000 :], pos_label=1)\n",
    "                    #auc_sra_te[n, i, j, l, m, p] = auc(fpr_te, tpr_te)\n",
    "                    auc_sra_te[n, i, j, l, m] = auc(fpr_te, tpr_te)\n",
    "                    #print('gamma=', gamma, ', ratio=', ratio, ', M=', M, ':', auc_sra_te[n, i, j, l, m, p])\n",
    "                    print('gamma=', gamma, ', ratio=', ratio, ', M=', M, ':', auc_sra_te[n, i, j, l, m])\n",
    "\n",
    "\"\"\"\n",
    "auc_sra_tot = np.zeros((n_trial, len(k_list), len(gamma_list), len(ratio_list), len(M_list)))\n",
    "auc_sra_tr = np.zeros((n_trial, len(k_list), len(gamma_list), len(ratio_list), len(M_list)))\n",
    "auc_sra_te = np.zeros((n_trial, len(k_list), len(gamma_list), len(ratio_list), len(M_list)))\n",
    "\n",
    "for n in range(n_trial):\n",
    "    for i, k in enumerate(k_list):\n",
    "        pi0 = np.array([1/k] * k).reshape(-1, 1)\n",
    "        mu0 = np.hstack([ \n",
    "                  np.random.uniform(np.min(X[:40000, col]), np.max(X[:40000, col]), k).reshape(-1, 1)\n",
    "                  for col in range(X.shape[1])\n",
    "              ])\n",
    "        sigma0 = np.stack([np.diag((X[:40000, :].max(axis=0) - X[:40000, :].min(axis=0))/10) for _ in range(k)])\n",
    "        theta0 = Theta(pi0, mu0, sigma0)\n",
    "        for j, gamma in enumerate(gamma_list):\n",
    "            for l, ratio in enumerate(ratio_list):\n",
    "                for m, M in enumerate(M_list):\n",
    "                    scores = calc_scores_sra(X, theta0, k, gamma, ratio, M)\n",
    "                    fpr, tpr, thresholds = roc_curve(y, scores, pos_label=1)\n",
    "                    #auc_sra_tot[n, i, j, l, m, p] = auc(fpr, tpr)\n",
    "                    auc_sra_tot[n, i, j, l, m] = auc(fpr, tpr)\n",
    "                    \n",
    "                    fpr_tr, tpr_tr, thresholds_tr = roc_curve(y[10000:40000], scores[10000:40000], pos_label=1)\n",
    "                    #auc_sra_tr[n, i, j, l, m, p] = auc(fpr_tr, tpr_tr)\n",
    "                    auc_sra_tr[n, i, j, l, m] = auc(fpr_tr, tpr_tr)\n",
    "                    \n",
    "                    fpr_te, tpr_te, thresholds_te = roc_curve(y[40000:], scores[40000 :], pos_label=1)\n",
    "                    #auc_sra_te[n, i, j, l, m, p] = auc(fpr_te, tpr_te)\n",
    "                    auc_sra_te[n, i, j, l, m] = auc(fpr_te, tpr_te)\n",
    "                    #print('gamma=', gamma, ', ratio=', ratio, ', M=', M, ':', auc_sra_te[n, i, j, l, m, p])\n",
    "                    print('gamma=', gamma, ', ratio=', ratio, ', M=', M, ':', auc_sra_te[n, i, j, l, m])\n",
    "\"\"\"\n",
    "   \n",
    "\"\"\"\n",
    "for l, d0 in enumerate(d0_list):\n",
    "    for m, M in enumerate(M_list):\n",
    "        for p, L_alpha in enumerate(L_alpha_list):\n",
    "            scores = calc_scores_sra(X, theta0, k, gamma, d0, M, L_alpha)\n",
    "            fpr, tpr, thresholds = roc_curve(y, scores, pos_label=1)\n",
    "            auc_sra_tot[n, i, j, l, m, p] = auc(fpr, tpr)\n",
    "\n",
    "            fpr_tr, tpr_tr, thresholds_tr = roc_curve(y[1000:2000], scores[1000:2000], pos_label=1)\n",
    "            auc_sra_tr[n, i, j, l, m, p] = auc(fpr_tr, tpr_tr)\n",
    "\n",
    "            fpr_te, tpr_te, thresholds_te = roc_curve(y[2000:], scores[2000:], pos_label=1)\n",
    "            auc_sra_te[n, i, j, l, m, p] = auc(fpr_te, tpr_te)\n",
    "            print('gamma=', gamma, ', d0=', d0, ', M=', M, ', L_alpha=', L_alpha, ':', auc_sra_te[n, i, j, l, m, p])\n",
    "\"\"\""
   ]
  },
  {
   "cell_type": "code",
   "execution_count": 45,
   "metadata": {},
   "outputs": [
    {
     "data": {
      "text/plain": [
       "array([[[[0.87098646, 0.89941639, 0.93686053],\n",
       "         [0.87098646, 0.96371974, 0.98173481],\n",
       "         [0.87098646, 0.9813513 , 0.52861002]],\n",
       "\n",
       "        [[0.87098646, 0.87118322, 0.87601881],\n",
       "         [0.87098646, 0.87174015, 0.94609818],\n",
       "         [0.87098646, 0.87242046, 0.96371974]],\n",
       "\n",
       "        [[0.87098646, 0.87098646, 0.87166344],\n",
       "         [0.87098646, 0.8709898 , 0.87547189],\n",
       "         [0.87098646, 0.87099647, 0.89691856]]],\n",
       "\n",
       "\n",
       "       [[[0.85459881, 0.89986994, 0.91742813],\n",
       "         [0.85459881, 0.94547455, 0.97325419],\n",
       "         [0.85459881, 0.97061962, 0.5338658 ]],\n",
       "\n",
       "        [[0.85459881, 0.85563263, 0.88017742],\n",
       "         [0.85459881, 0.85951777, 0.92041286],\n",
       "         [0.85459881, 0.86730474, 0.94547455]],\n",
       "\n",
       "        [[0.85459881, 0.85461549, 0.8581338 ],\n",
       "         [0.85459881, 0.85464884, 0.87911025],\n",
       "         [0.85459881, 0.85464884, 0.89863603]]]])"
      ]
     },
     "execution_count": 45,
     "metadata": {},
     "output_type": "execute_result"
    }
   ],
   "source": [
    "np.mean(auc_sra_tr, axis=0)"
   ]
  },
  {
   "cell_type": "code",
   "execution_count": 46,
   "metadata": {},
   "outputs": [
    {
     "data": {
      "text/plain": [
       "array([[[[6.66977923e-06, 7.33675715e-05, 1.20056026e-04],\n",
       "         [6.66977923e-06, 9.33769092e-05, 1.33395585e-05],\n",
       "         [6.66977923e-06, 4.66884546e-05, 3.37490829e-03]],\n",
       "\n",
       "        [[6.66977923e-06, 1.33395585e-05, 1.33395585e-05],\n",
       "         [6.66977923e-06, 4.96506831e-17, 5.33582338e-05],\n",
       "         [6.66977923e-06, 6.66977923e-06, 9.33769092e-05]],\n",
       "\n",
       "        [[6.66977923e-06, 6.66977923e-06, 2.00093377e-05],\n",
       "         [6.66977923e-06, 0.00000000e+00, 6.66977923e-06],\n",
       "         [6.66977923e-06, 1.33395585e-05, 1.00046688e-04]]],\n",
       "\n",
       "\n",
       "       [[[0.00000000e+00, 0.00000000e+00, 0.00000000e+00],\n",
       "         [0.00000000e+00, 0.00000000e+00, 1.11022302e-16],\n",
       "         [0.00000000e+00, 1.11022302e-16, 0.00000000e+00]],\n",
       "\n",
       "        [[0.00000000e+00, 1.11022302e-16, 0.00000000e+00],\n",
       "         [0.00000000e+00, 1.11022302e-16, 0.00000000e+00],\n",
       "         [0.00000000e+00, 1.11022302e-16, 0.00000000e+00]],\n",
       "\n",
       "        [[0.00000000e+00, 0.00000000e+00, 1.11022302e-16],\n",
       "         [0.00000000e+00, 1.11022302e-16, 0.00000000e+00],\n",
       "         [0.00000000e+00, 0.00000000e+00, 1.11022302e-16]]]])"
      ]
     },
     "execution_count": 46,
     "metadata": {},
     "output_type": "execute_result"
    }
   ],
   "source": [
    "np.std(auc_sra_tr, axis=0)"
   ]
  },
  {
   "cell_type": "code",
   "execution_count": 47,
   "metadata": {},
   "outputs": [
    {
     "data": {
      "text/plain": [
       "array([[[[0.89603555, 0.9237704 , 0.91679928],\n",
       "         [0.89603555, 0.91890585, 0.87427911],\n",
       "         [0.89603555, 0.88124365, 0.5       ]],\n",
       "\n",
       "        [[0.89603555, 0.89608814, 0.89920203],\n",
       "         [0.89603555, 0.89614617, 0.91909378],\n",
       "         [0.89603555, 0.89623685, 0.91890585]],\n",
       "\n",
       "        [[0.89603555, 0.89603555, 0.89613529],\n",
       "         [0.89603555, 0.89603555, 0.89870149],\n",
       "         [0.89603555, 0.8960428 , 0.92174646]]],\n",
       "\n",
       "\n",
       "       [[[0.8844124 , 0.90279572, 0.9083186 ],\n",
       "         [0.8844124 , 0.90072089, 0.88259544],\n",
       "         [0.8844124 , 0.88326192, 0.5       ]],\n",
       "\n",
       "        [[0.8844124 , 0.88501995, 0.9094124 ],\n",
       "         [0.8844124 , 0.88877403, 0.90827949],\n",
       "         [0.8844124 , 0.8966449 , 0.90072089]],\n",
       "\n",
       "        [[0.8844124 , 0.8844124 , 0.88755894],\n",
       "         [0.8844124 , 0.88442147, 0.9085963 ],\n",
       "         [0.8844124 , 0.88443054, 0.90217798]]]])"
      ]
     },
     "execution_count": 47,
     "metadata": {},
     "output_type": "execute_result"
    }
   ],
   "source": [
    "np.mean(auc_sra_te, axis=0)"
   ]
  },
  {
   "cell_type": "code",
   "execution_count": 48,
   "metadata": {},
   "outputs": [
    {
     "data": {
      "text/plain": [
       "array([[[[3.62713094e-06, 8.34240116e-05, 3.06039173e-05],\n",
       "         [3.62713094e-06, 1.84756982e-04, 1.27629670e-03],\n",
       "         [3.62713094e-06, 1.00743562e-03, 0.00000000e+00]],\n",
       "\n",
       "        [[3.62713094e-06, 7.25426188e-06, 1.11022302e-16],\n",
       "         [3.62713094e-06, 1.11022302e-16, 2.67500907e-05],\n",
       "         [3.62713094e-06, 4.96506831e-17, 1.84756982e-04]],\n",
       "\n",
       "        [[3.62713094e-06, 3.62713094e-06, 3.62713094e-06],\n",
       "         [3.62713094e-06, 3.62713094e-06, 2.17627856e-05],\n",
       "         [3.62713094e-06, 7.25426188e-06, 8.70511425e-05]]],\n",
       "\n",
       "\n",
       "       [[[1.11022302e-16, 1.11022302e-16, 0.00000000e+00],\n",
       "         [1.11022302e-16, 1.11022302e-16, 0.00000000e+00],\n",
       "         [1.11022302e-16, 0.00000000e+00, 0.00000000e+00]],\n",
       "\n",
       "        [[1.11022302e-16, 0.00000000e+00, 1.11022302e-16],\n",
       "         [1.11022302e-16, 0.00000000e+00, 0.00000000e+00],\n",
       "         [1.11022302e-16, 0.00000000e+00, 1.11022302e-16]],\n",
       "\n",
       "        [[1.11022302e-16, 0.00000000e+00, 0.00000000e+00],\n",
       "         [1.11022302e-16, 0.00000000e+00, 0.00000000e+00],\n",
       "         [1.11022302e-16, 1.11022302e-16, 1.11022302e-16]]]])"
      ]
     },
     "execution_count": 48,
     "metadata": {},
     "output_type": "execute_result"
    }
   ],
   "source": [
    "np.std(auc_sra_te, axis=0)"
   ]
  },
  {
   "cell_type": "code",
   "execution_count": null,
   "metadata": {},
   "outputs": [],
   "source": []
  },
  {
   "cell_type": "markdown",
   "metadata": {},
   "source": [
    "# ADWIN"
   ]
  },
  {
   "cell_type": "code",
   "execution_count": 49,
   "metadata": {},
   "outputs": [],
   "source": [
    "from math import log, sqrt, fabs\n",
    "\n",
    "import os, sys\n",
    "#sys.path.append('./')\n",
    "\n",
    "\"\"\"\n",
    "Within one bucket row, each bucket contains same number of original data.\n",
    "New buckets are added at the end of bucket row.\n",
    "When old buckets need to be removed, they are taken from the head of this bucket row.\n",
    "\"\"\"\n",
    "\n",
    "\n",
    "class AdwinBucketRow:\n",
    "    def __init__(self, max_buckets=5, next_bucket_row=None, previous_bucket_row=None):\n",
    "        \"\"\"\n",
    "        :param max_buckets: Max bucket with one row\n",
    "        :param next_bucket_row: Following bucket row\n",
    "        :param previous_bucket_row: Previous bucket row\n",
    "        \"\"\"\n",
    "        self.max_buckets = max_buckets\n",
    "\n",
    "        # Current count of buckets in this bucket row\n",
    "        self.bucket_count = 0\n",
    "\n",
    "        self.next_bucket_row = next_bucket_row\n",
    "        # Set previous bucket row connect to this bucket row\n",
    "        if next_bucket_row is not None:\n",
    "            next_bucket_row.previous_bucket_row = self\n",
    "\n",
    "        self.previous_bucket_row = previous_bucket_row\n",
    "        # Set next bucket connect to this bucket\n",
    "        if previous_bucket_row is not None:\n",
    "            previous_bucket_row.next_bucket_row = self\n",
    "\n",
    "        # Init statistic number for each bucket\n",
    "        self.bucket_sum = np.zeros(self.max_buckets + 1)\n",
    "        self.bucket_variance = np.zeros(self.max_buckets + 1)\n",
    "\n",
    "    def insert_bucket(self, value, variance):\n",
    "        \"\"\"\n",
    "        Insert a new bucket at the end.\n",
    "        \"\"\"\n",
    "        self.bucket_sum[self.bucket_count] = value\n",
    "        self.bucket_variance[self.bucket_count] = variance\n",
    "        self.bucket_count += 1\n",
    "\n",
    "    def compress_bucket(self, number_deleted):\n",
    "        \"\"\"\n",
    "        Remove the oldest buckets.\n",
    "        \"\"\"\n",
    "        delete_index = self.max_buckets - number_deleted + 1\n",
    "        self.bucket_sum[:delete_index] = self.bucket_sum[number_deleted:]\n",
    "        self.bucket_sum[delete_index:] = np.zeros(number_deleted)\n",
    "\n",
    "        self.bucket_variance[:delete_index] = self.bucket_variance[number_deleted:]\n",
    "        self.bucket_variance[delete_index:] = np.zeros(number_deleted)\n",
    "\n",
    "        self.bucket_count -= number_deleted\n",
    "\n",
    "\"\"\"\n",
    "List of bucket rows.\n",
    "Add new bucket row at head of window, remove old bucket row from tail of window.\n",
    "\"\"\"\n",
    "\n",
    "class AdwinRowBucketList:\n",
    "    def __init__(self, max_buckets=5):\n",
    "        \"\"\"\n",
    "        :param max_buckets: Max number of bucket in each bucket row\n",
    "        \"\"\"\n",
    "        self.max_buckets = max_buckets\n",
    "\n",
    "        self.count = 0\n",
    "        self.head = None\n",
    "        self.tail = None\n",
    "        self.__add_to_head()\n",
    "\n",
    "    def __add_to_head(self):\n",
    "        \"\"\"\n",
    "        Init bucket row list.\n",
    "        \"\"\"\n",
    "        self.head = AdwinBucketRow(self.max_buckets, next_bucket_row=self.head)\n",
    "        if self.tail is None:\n",
    "            self.tail = self.head\n",
    "        self.count += 1\n",
    "\n",
    "    def add_to_tail(self):\n",
    "        \"\"\"\n",
    "        Add the bucket row at the end of the window.\n",
    "        \"\"\"\n",
    "        self.tail = AdwinBucketRow(self.max_buckets, previous_bucket_row=self.tail)\n",
    "        if self.head is None:\n",
    "            self.head = self.tail\n",
    "        self.count += 1\n",
    "\n",
    "    def remove_from_tail(self):\n",
    "        \"\"\"\n",
    "        Remove the last bucket row in the window.\n",
    "        \"\"\"\n",
    "        self.tail = self.tail.previous_bucket_row\n",
    "        if self.tail is None:\n",
    "            self.head = None\n",
    "        else:\n",
    "            self.tail.next_bucket_row = None\n",
    "        self.count -= 1\n",
    "\n",
    "class AdWin:\n",
    "    def __init__(self, delta=0.002, max_buckets=5, min_clock=32, min_win_len=10, min_sub_win_len=5):\n",
    "        \"\"\"\n",
    "        :param delta: Confidence value\n",
    "        :param max_buckets: Max number of buckets within one bucket row\n",
    "        :param min_clock: Min number of new data for starting to reduce window and detect change\n",
    "        :param min_win_len: Min window length for starting to reduce window and detect change\n",
    "        :param min_sub_win_len: Min sub-window length, which is split from whole window\n",
    "        \"\"\"\n",
    "        self.delta = delta\n",
    "        self.max_buckets = max_buckets\n",
    "        self.min_clock = min_clock\n",
    "        self.min_win_len = min_win_len\n",
    "        self.min_sub_win_len = min_sub_win_len\n",
    "\n",
    "        # Time is used for comparison with min_clock parameter\n",
    "        self.time = 0\n",
    "        # Current window length\n",
    "        self.window_len = 0\n",
    "        # Sum of all values in the window\n",
    "        self.window_sum = 0.0\n",
    "        # Variance of all values in the window\n",
    "        self.window_variance = 0.0\n",
    "\n",
    "        # Count of bucket row within window\n",
    "        self.bucket_row_count = 0\n",
    "        # Init bucket list\n",
    "        self.bucket_row_list = AdwinRowBucketList(self.max_buckets)\n",
    "\n",
    "    def set_input(self, value):\n",
    "        \"\"\"\n",
    "        Main method for adding a new data value and automatically detect a possible concept drift.\n",
    "        :param value: new data value\n",
    "        :return: true if there is a concept drift, otherwise false\n",
    "        \"\"\"\n",
    "        self.time += 1\n",
    "\n",
    "        # Insert the new element\n",
    "        self.__insert_element(value)\n",
    "\n",
    "        # Reduce window\n",
    "        return self.__reduce_window()\n",
    "\n",
    "    def __insert_element(self, value):\n",
    "        \"\"\"\n",
    "        Create a new bucket, and insert it into bucket row which is the head of bucket row list.\n",
    "        Meanwhile, this bucket row maybe compressed if reaches the maximum number of buckets.\n",
    "        :param value: New data value from the stream\n",
    "        \"\"\"\n",
    "        # Insert the new bucket\n",
    "        self.bucket_row_list.head.insert_bucket(value, 0)\n",
    "\n",
    "        # Calculate the incremental variance\n",
    "        incremental_variance = 0\n",
    "        if self.window_len > 0:\n",
    "            mean = self.window_sum / self.window_len\n",
    "            incremental_variance = self.window_len * pow(value - mean, 2) / (self.window_len + 1)\n",
    "\n",
    "        # Update statistic value\n",
    "        self.window_len += 1\n",
    "        self.window_variance += incremental_variance\n",
    "        self.window_sum += value\n",
    "\n",
    "        # Compress buckets if necessary\n",
    "        self.__compress_bucket_row()\n",
    "\n",
    "    def __compress_bucket_row(self):\n",
    "        \"\"\"\n",
    "        If reaches maximum number of buckets, then merge two buckets within one row into a next bucket row.\n",
    "        \"\"\"\n",
    "        bucket_row = self.bucket_row_list.head\n",
    "        bucket_row_level = 0\n",
    "        while bucket_row is not None:\n",
    "            # Merge buckets if row is full\n",
    "            if bucket_row.bucket_count == self.max_buckets + 1:\n",
    "                next_bucket_row = bucket_row.next_bucket_row\n",
    "                if next_bucket_row is None:\n",
    "                    # Add new bucket row and move to it\n",
    "                    self.bucket_row_list.add_to_tail()\n",
    "                    next_bucket_row = bucket_row.next_bucket_row\n",
    "                    self.bucket_row_count += 1\n",
    "\n",
    "                # Calculate number of bucket which will be compressed into next bucket row\n",
    "                n_1 = pow(2, bucket_row_level)\n",
    "                n_2 = pow(2, bucket_row_level)\n",
    "                # Mean\n",
    "                mean_1 = bucket_row.bucket_sum[0] / n_1\n",
    "                mean_2 = bucket_row.bucket_sum[1] / n_2\n",
    "                # Total\n",
    "                next_total = bucket_row.bucket_sum[0] + bucket_row.bucket_sum[1]\n",
    "                # Variance\n",
    "                external_variance = n_1 * n_2 * pow(mean_1 - mean_2, 2) / (n_1 + n_2)\n",
    "                next_variance = bucket_row.bucket_variance[0] + bucket_row.bucket_variance[1] + external_variance\n",
    "\n",
    "                # Insert into next bucket row, meanwhile remove two original buckets\n",
    "                next_bucket_row.insert_bucket(next_total, next_variance)\n",
    "\n",
    "                # Compress those tow buckets\n",
    "                bucket_row.compress_bucket(2)\n",
    "\n",
    "                # Stop if the number of bucket within one row, which does not exceed limited\n",
    "                if next_bucket_row.bucket_count <= self.max_buckets:\n",
    "                    break\n",
    "            else:\n",
    "                break\n",
    "\n",
    "            # Move to next bucket row\n",
    "            bucket_row = bucket_row.next_bucket_row\n",
    "            bucket_row_level += 1\n",
    "\n",
    "    def __reduce_window(self):\n",
    "        \"\"\"\n",
    "        Detect a change from last of each bucket row, reduce the window if there is a concept drift.\n",
    "        :return: boolean: Whether has changed\n",
    "        \"\"\"\n",
    "        is_changed = False\n",
    "        if self.time % self.min_clock == 0 and self.window_len > self.min_win_len:\n",
    "            is_reduced_width = True\n",
    "            while is_reduced_width:\n",
    "                is_reduced_width = False\n",
    "                is_exit = False\n",
    "                n_0, n_1 = 0, self.window_len\n",
    "                sum_0, sum_1 = 0, self.window_sum\n",
    "\n",
    "                # Start building sub windows from the tail of window (old bucket row)\n",
    "                bucket_row = self.bucket_row_list.tail\n",
    "                i = self.bucket_row_count\n",
    "                while (not is_exit) and (bucket_row is not None):\n",
    "                    for bucket_num in range(bucket_row.bucket_count):\n",
    "                        # Iteration of last bucket row, or last bucket in one row\n",
    "                        if i == 0 and bucket_num == bucket_row.bucket_count - 1:\n",
    "                            is_exit = True\n",
    "                            break\n",
    "\n",
    "                        # Grow sub window 0, while reduce sub window 1\n",
    "                        n_0 += pow(2, i)\n",
    "                        n_1 -= pow(2, i)\n",
    "                        sum_0 += bucket_row.bucket_sum[bucket_num]\n",
    "                        sum_1 -= bucket_row.bucket_sum[bucket_num]\n",
    "                        diff_value = (sum_0 / n_0) - (sum_1 / n_1)\n",
    "\n",
    "                        # Minimum sub window length is matching\n",
    "                        if n_0 > self.min_sub_win_len + 1 and n_1 > self.min_sub_win_len + 1:\n",
    "                            # Remove oldest bucket if there is a concept drift\n",
    "                            if self.__reduce_expression(n_0, n_1, diff_value):\n",
    "                                is_reduced_width, is_changed = True, True\n",
    "                                if self.window_len > 0:\n",
    "                                    n_0 -= self.__delete_element()\n",
    "                                    is_exit = True\n",
    "                                    break\n",
    "\n",
    "                    # Move to previous bucket row\n",
    "                    bucket_row = bucket_row.previous_bucket_row\n",
    "                    i -= 1\n",
    "        return is_changed\n",
    "\n",
    "    def __reduce_expression(self, n_0, n_1, diff_value):\n",
    "        \"\"\"\n",
    "        Calculate epsilon cut value.\n",
    "        :param n_0: number of elements in sub window 0\n",
    "        :param n_1: number of elements in sub window 1\n",
    "        :param diff_value: difference of mean values of both sub windows\n",
    "        :return: true if difference of mean values is higher than epsilon_cut\n",
    "        \"\"\"\n",
    "        # Harmonic mean of n0 and n1\n",
    "        m = 1 / (n_0 - self.min_sub_win_len + 1) + 1 / (n_1 - self.min_sub_win_len + 1)\n",
    "        d = log(2 * log(self.window_len) / self.delta)\n",
    "        variance_window = self.window_variance / self.window_len\n",
    "        epsilon_cut = sqrt(2 * m * variance_window * d) + 2 / 3 * m * d\n",
    "        return fabs(diff_value) > epsilon_cut\n",
    "\n",
    "    def __delete_element(self):\n",
    "        \"\"\"\n",
    "        Remove a bucket from tail of bucket row.\n",
    "        :return: Number of elements to be deleted\n",
    "        \"\"\"\n",
    "        bucket_row = self.bucket_row_list.tail\n",
    "        deleted_number = pow(2, self.bucket_row_count)\n",
    "        self.window_len -= deleted_number\n",
    "        self.window_sum -= bucket_row.bucket_sum[0]\n",
    "\n",
    "        deleted_bucket_mean = bucket_row.bucket_sum[0] / deleted_number\n",
    "        inc_variance = bucket_row.bucket_variance[0] + deleted_number * self.window_len * pow(\n",
    "            deleted_bucket_mean - self.window_sum / self.window_len, 2\n",
    "        ) / (deleted_number + self.window_len)\n",
    "\n",
    "        self.window_variance -= inc_variance\n",
    "\n",
    "        # Delete bucket from bucket row\n",
    "        bucket_row.compress_bucket(1)\n",
    "        # If bucket row is empty, remove it from the tail of window\n",
    "        if bucket_row.bucket_count == 0:\n",
    "            self.bucket_row_list.remove_from_tail()\n",
    "            self.bucket_row_count -= 1\n",
    "\n",
    "        return deleted_number\n"
   ]
  },
  {
   "cell_type": "code",
   "execution_count": 69,
   "metadata": {},
   "outputs": [],
   "source": [
    "n_trial = 5\n",
    "\n",
    "#delta_list_adwin=[0.001, 0.002, 0.005, 0.01, 0.02, 0.05, 0.1, 0.2, 0.5]\n",
    "delta_list_adwin=[0.01, 0.02, 0.05, 0.1, 0.2, 0.5]\n",
    "\n",
    "score_start = 0\n",
    "score_end = None\n",
    "\n",
    "#auc_adwin_tr = np.nan * np.ones((n_trial, len(delta_list_adwin), X.shape[1]))\n",
    "#auc_adwin_te = np.nan * np.ones((n_trial, len(delta_list_adwin), X.shape[1]))\n",
    "\n",
    "res_adwin_tr = []\n",
    "res_adwin_te = []\n",
    "\n",
    "for n in range(n_trial):\n",
    "    for i, delta in enumerate(delta_list_adwin):\n",
    "        score_list_adwin = []\n",
    "\n",
    "        auc_all = []\n",
    "        for j in range(X.shape[1]):\n",
    "            adwin = AdWin(delta=delta)\n",
    "            score_list_adwin_j = []\n",
    "            for t, x in enumerate(X[:, j]):\n",
    "                prev_lenwin = adwin.window_len\n",
    "                if adwin.set_input(x):\n",
    "                    post_lenwin = adwin.window_len\n",
    "                    score = prev_lenwin - post_lenwin + 1\n",
    "                    score_list_adwin_j.append(score)\n",
    "                else:\n",
    "                    score_list_adwin_j.append(1.0)\n",
    "            score_list_adwin_j = np.hstack((np.nan, np.abs(np.diff(score_list_adwin_j))))\n",
    "\n",
    "            fpr_tr, tpr_tr, thresholds_tr = roc_curve(y[10000:40000], score_list_adwin_j[10000:40000], pos_label=1)\n",
    "            res_adwin_tr.append([n, delta, j, auc(fpr_tr, tpr_tr)])\n",
    "\n",
    "            fpr_te, tpr_te, thresholds_te = roc_curve(y[40000:], score_list_adwin_j[40000 :], pos_label=1)\n",
    "            res_adwin_te.append([n, delta, j, auc(fpr_te, tpr_te)])"
   ]
  },
  {
   "cell_type": "code",
   "execution_count": 70,
   "metadata": {},
   "outputs": [],
   "source": [
    "res_adwin_tr_df = pd.DataFrame(res_adwin_tr, columns=['n', 'delta', 'column', 'auc'])\n",
    "res_adwin_te_df = pd.DataFrame(res_adwin_te, columns=['n', 'delta', 'column', 'auc'])"
   ]
  },
  {
   "cell_type": "code",
   "execution_count": 71,
   "metadata": {},
   "outputs": [
    {
     "data": {
      "text/html": [
       "<div>\n",
       "<style scoped>\n",
       "    .dataframe tbody tr th:only-of-type {\n",
       "        vertical-align: middle;\n",
       "    }\n",
       "\n",
       "    .dataframe tbody tr th {\n",
       "        vertical-align: top;\n",
       "    }\n",
       "\n",
       "    .dataframe thead th {\n",
       "        text-align: right;\n",
       "    }\n",
       "</style>\n",
       "<table border=\"1\" class=\"dataframe\">\n",
       "  <thead>\n",
       "    <tr style=\"text-align: right;\">\n",
       "      <th></th>\n",
       "      <th></th>\n",
       "      <th>mean</th>\n",
       "      <th>std</th>\n",
       "    </tr>\n",
       "    <tr>\n",
       "      <th>delta</th>\n",
       "      <th>column</th>\n",
       "      <th></th>\n",
       "      <th></th>\n",
       "    </tr>\n",
       "  </thead>\n",
       "  <tbody>\n",
       "    <tr>\n",
       "      <th rowspan=\"3\" valign=\"top\">0.01</th>\n",
       "      <th>0</th>\n",
       "      <td>0.494981</td>\n",
       "      <td>0.0</td>\n",
       "    </tr>\n",
       "    <tr>\n",
       "      <th>1</th>\n",
       "      <td>0.497766</td>\n",
       "      <td>0.0</td>\n",
       "    </tr>\n",
       "    <tr>\n",
       "      <th>2</th>\n",
       "      <td>0.496932</td>\n",
       "      <td>0.0</td>\n",
       "    </tr>\n",
       "    <tr>\n",
       "      <th rowspan=\"3\" valign=\"top\">0.02</th>\n",
       "      <th>0</th>\n",
       "      <td>0.494714</td>\n",
       "      <td>0.0</td>\n",
       "    </tr>\n",
       "    <tr>\n",
       "      <th>1</th>\n",
       "      <td>0.497766</td>\n",
       "      <td>0.0</td>\n",
       "    </tr>\n",
       "    <tr>\n",
       "      <th>2</th>\n",
       "      <td>0.497132</td>\n",
       "      <td>0.0</td>\n",
       "    </tr>\n",
       "    <tr>\n",
       "      <th rowspan=\"3\" valign=\"top\">0.05</th>\n",
       "      <th>0</th>\n",
       "      <td>0.493814</td>\n",
       "      <td>0.0</td>\n",
       "    </tr>\n",
       "    <tr>\n",
       "      <th>1</th>\n",
       "      <td>0.497766</td>\n",
       "      <td>0.0</td>\n",
       "    </tr>\n",
       "    <tr>\n",
       "      <th>2</th>\n",
       "      <td>0.496932</td>\n",
       "      <td>0.0</td>\n",
       "    </tr>\n",
       "    <tr>\n",
       "      <th rowspan=\"3\" valign=\"top\">0.10</th>\n",
       "      <th>0</th>\n",
       "      <td>0.493113</td>\n",
       "      <td>0.0</td>\n",
       "    </tr>\n",
       "    <tr>\n",
       "      <th>1</th>\n",
       "      <td>0.497782</td>\n",
       "      <td>0.0</td>\n",
       "    </tr>\n",
       "    <tr>\n",
       "      <th>2</th>\n",
       "      <td>0.496398</td>\n",
       "      <td>0.0</td>\n",
       "    </tr>\n",
       "    <tr>\n",
       "      <th rowspan=\"3\" valign=\"top\">0.20</th>\n",
       "      <th>0</th>\n",
       "      <td>0.491946</td>\n",
       "      <td>0.0</td>\n",
       "    </tr>\n",
       "    <tr>\n",
       "      <th>1</th>\n",
       "      <td>0.497332</td>\n",
       "      <td>0.0</td>\n",
       "    </tr>\n",
       "    <tr>\n",
       "      <th>2</th>\n",
       "      <td>0.496232</td>\n",
       "      <td>0.0</td>\n",
       "    </tr>\n",
       "    <tr>\n",
       "      <th rowspan=\"3\" valign=\"top\">0.50</th>\n",
       "      <th>0</th>\n",
       "      <td>0.490779</td>\n",
       "      <td>0.0</td>\n",
       "    </tr>\n",
       "    <tr>\n",
       "      <th>1</th>\n",
       "      <td>0.497399</td>\n",
       "      <td>0.0</td>\n",
       "    </tr>\n",
       "    <tr>\n",
       "      <th>2</th>\n",
       "      <td>0.496098</td>\n",
       "      <td>0.0</td>\n",
       "    </tr>\n",
       "  </tbody>\n",
       "</table>\n",
       "</div>"
      ],
      "text/plain": [
       "                  mean  std\n",
       "delta column               \n",
       "0.01  0       0.494981  0.0\n",
       "      1       0.497766  0.0\n",
       "      2       0.496932  0.0\n",
       "0.02  0       0.494714  0.0\n",
       "      1       0.497766  0.0\n",
       "      2       0.497132  0.0\n",
       "0.05  0       0.493814  0.0\n",
       "      1       0.497766  0.0\n",
       "      2       0.496932  0.0\n",
       "0.10  0       0.493113  0.0\n",
       "      1       0.497782  0.0\n",
       "      2       0.496398  0.0\n",
       "0.20  0       0.491946  0.0\n",
       "      1       0.497332  0.0\n",
       "      2       0.496232  0.0\n",
       "0.50  0       0.490779  0.0\n",
       "      1       0.497399  0.0\n",
       "      2       0.496098  0.0"
      ]
     },
     "execution_count": 71,
     "metadata": {},
     "output_type": "execute_result"
    }
   ],
   "source": [
    "res_adwin_tr_df.groupby(['delta', 'column'])['auc'].agg([np.mean, np.std])"
   ]
  },
  {
   "cell_type": "code",
   "execution_count": 72,
   "metadata": {},
   "outputs": [
    {
     "data": {
      "text/html": [
       "<div>\n",
       "<style scoped>\n",
       "    .dataframe tbody tr th:only-of-type {\n",
       "        vertical-align: middle;\n",
       "    }\n",
       "\n",
       "    .dataframe tbody tr th {\n",
       "        vertical-align: top;\n",
       "    }\n",
       "\n",
       "    .dataframe thead th {\n",
       "        text-align: right;\n",
       "    }\n",
       "</style>\n",
       "<table border=\"1\" class=\"dataframe\">\n",
       "  <thead>\n",
       "    <tr style=\"text-align: right;\">\n",
       "      <th></th>\n",
       "      <th></th>\n",
       "      <th>mean</th>\n",
       "      <th>std</th>\n",
       "    </tr>\n",
       "    <tr>\n",
       "      <th>delta</th>\n",
       "      <th>column</th>\n",
       "      <th></th>\n",
       "      <th></th>\n",
       "    </tr>\n",
       "  </thead>\n",
       "  <tbody>\n",
       "    <tr>\n",
       "      <th rowspan=\"3\" valign=\"top\">0.01</th>\n",
       "      <th>0</th>\n",
       "      <td>0.494496</td>\n",
       "      <td>0.0</td>\n",
       "    </tr>\n",
       "    <tr>\n",
       "      <th>1</th>\n",
       "      <td>0.498350</td>\n",
       "      <td>0.0</td>\n",
       "    </tr>\n",
       "    <tr>\n",
       "      <th>2</th>\n",
       "      <td>0.497715</td>\n",
       "      <td>0.0</td>\n",
       "    </tr>\n",
       "    <tr>\n",
       "      <th rowspan=\"3\" valign=\"top\">0.02</th>\n",
       "      <th>0</th>\n",
       "      <td>0.493789</td>\n",
       "      <td>0.0</td>\n",
       "    </tr>\n",
       "    <tr>\n",
       "      <th>1</th>\n",
       "      <td>0.498168</td>\n",
       "      <td>0.0</td>\n",
       "    </tr>\n",
       "    <tr>\n",
       "      <th>2</th>\n",
       "      <td>0.497479</td>\n",
       "      <td>0.0</td>\n",
       "    </tr>\n",
       "    <tr>\n",
       "      <th rowspan=\"3\" valign=\"top\">0.05</th>\n",
       "      <th>0</th>\n",
       "      <td>0.492700</td>\n",
       "      <td>0.0</td>\n",
       "    </tr>\n",
       "    <tr>\n",
       "      <th>1</th>\n",
       "      <td>0.498096</td>\n",
       "      <td>0.0</td>\n",
       "    </tr>\n",
       "    <tr>\n",
       "      <th>2</th>\n",
       "      <td>0.497334</td>\n",
       "      <td>0.0</td>\n",
       "    </tr>\n",
       "    <tr>\n",
       "      <th rowspan=\"3\" valign=\"top\">0.10</th>\n",
       "      <th>0</th>\n",
       "      <td>0.491848</td>\n",
       "      <td>0.0</td>\n",
       "    </tr>\n",
       "    <tr>\n",
       "      <th>1</th>\n",
       "      <td>0.498050</td>\n",
       "      <td>0.0</td>\n",
       "    </tr>\n",
       "    <tr>\n",
       "      <th>2</th>\n",
       "      <td>0.497135</td>\n",
       "      <td>0.0</td>\n",
       "    </tr>\n",
       "    <tr>\n",
       "      <th rowspan=\"3\" valign=\"top\">0.20</th>\n",
       "      <th>0</th>\n",
       "      <td>0.490742</td>\n",
       "      <td>0.0</td>\n",
       "    </tr>\n",
       "    <tr>\n",
       "      <th>1</th>\n",
       "      <td>0.498114</td>\n",
       "      <td>0.0</td>\n",
       "    </tr>\n",
       "    <tr>\n",
       "      <th>2</th>\n",
       "      <td>0.496971</td>\n",
       "      <td>0.0</td>\n",
       "    </tr>\n",
       "    <tr>\n",
       "      <th rowspan=\"3\" valign=\"top\">0.50</th>\n",
       "      <th>0</th>\n",
       "      <td>0.489019</td>\n",
       "      <td>0.0</td>\n",
       "    </tr>\n",
       "    <tr>\n",
       "      <th>1</th>\n",
       "      <td>0.497914</td>\n",
       "      <td>0.0</td>\n",
       "    </tr>\n",
       "    <tr>\n",
       "      <th>2</th>\n",
       "      <td>0.496609</td>\n",
       "      <td>0.0</td>\n",
       "    </tr>\n",
       "  </tbody>\n",
       "</table>\n",
       "</div>"
      ],
      "text/plain": [
       "                  mean  std\n",
       "delta column               \n",
       "0.01  0       0.494496  0.0\n",
       "      1       0.498350  0.0\n",
       "      2       0.497715  0.0\n",
       "0.02  0       0.493789  0.0\n",
       "      1       0.498168  0.0\n",
       "      2       0.497479  0.0\n",
       "0.05  0       0.492700  0.0\n",
       "      1       0.498096  0.0\n",
       "      2       0.497334  0.0\n",
       "0.10  0       0.491848  0.0\n",
       "      1       0.498050  0.0\n",
       "      2       0.497135  0.0\n",
       "0.20  0       0.490742  0.0\n",
       "      1       0.498114  0.0\n",
       "      2       0.496971  0.0\n",
       "0.50  0       0.489019  0.0\n",
       "      1       0.497914  0.0\n",
       "      2       0.496609  0.0"
      ]
     },
     "execution_count": 72,
     "metadata": {},
     "output_type": "execute_result"
    }
   ],
   "source": [
    "res_adwin_te_df.groupby(['delta', 'column'])['auc'].agg([np.mean, np.std])"
   ]
  },
  {
   "cell_type": "code",
   "execution_count": null,
   "metadata": {},
   "outputs": [],
   "source": []
  },
  {
   "cell_type": "markdown",
   "metadata": {},
   "source": [
    "# KSWIN"
   ]
  },
  {
   "cell_type": "code",
   "execution_count": 79,
   "metadata": {},
   "outputs": [
    {
     "name": "stderr",
     "output_type": "stream",
     "text": [
      "  0%|          | 0/5 [00:00<?, ?it/s]\n",
      "0it [00:00, ?it/s]\u001b[A\n",
      "1it [05:08, 308.59s/it]\u001b[A\n",
      "2it [09:57, 296.89s/it]\u001b[A\n",
      "3it [14:12, 284.19s/it]\u001b[A\n",
      " 20%|██        | 1/5 [14:12<56:50, 852.58s/it]\n",
      "0it [00:00, ?it/s]\u001b[A\n",
      "1it [04:55, 295.66s/it]\u001b[A\n",
      "2it [09:31, 283.83s/it]\u001b[A\n",
      "3it [13:46, 275.34s/it]\u001b[A\n",
      " 40%|████      | 2/5 [27:58<41:50, 836.95s/it]\n",
      "0it [00:00, ?it/s]\u001b[A\n",
      "1it [04:51, 291.94s/it]\u001b[A\n",
      "2it [09:22, 279.10s/it]\u001b[A\n",
      "3it [13:46, 275.46s/it]\u001b[A\n",
      " 60%|██████    | 3/5 [41:44<27:44, 832.13s/it]\n",
      "0it [00:00, ?it/s]\u001b[A\n",
      "1it [05:03, 303.09s/it]\u001b[A\n",
      "2it [09:39, 287.61s/it]\u001b[A\n",
      "3it [14:04, 281.61s/it]\u001b[A\n",
      " 80%|████████  | 4/5 [55:49<13:57, 837.14s/it]\n",
      "0it [00:00, ?it/s]\u001b[A\n",
      "1it [04:43, 283.93s/it]\u001b[A\n",
      "2it [09:17, 278.12s/it]\u001b[A\n",
      "3it [13:35, 271.94s/it]\u001b[A\n",
      "100%|██████████| 5/5 [1:09:25<00:00, 833.13s/it]\n"
     ]
    }
   ],
   "source": [
    "alpha_list_kswin = [0.001, 0.005, 0.01]\n",
    "window_size_list_kswin = [20, 30]\n",
    "stat_size_list_kswin = [10, 15]\n",
    "\n",
    "res_kswin_tr = []\n",
    "res_kswin_te = []\n",
    "\n",
    "for n in tqdm.tqdm(range(n_trial)):\n",
    "    for i, alpha in tqdm.tqdm(enumerate(alpha_list_kswin)):\n",
    "        for j, window_size in enumerate(window_size_list_kswin):\n",
    "            for k, stat_size in enumerate(stat_size_list_kswin):\n",
    "                for l in range(X.shape[1]):\n",
    "                    kswin = KSWIN(alpha=alpha, window_size=window_size, stat_size=stat_size)\n",
    "                    score_list_kswin_l = []\n",
    "                    for t, x in enumerate(X[:, l]):\n",
    "                        kswin.add_element(x)\n",
    "\n",
    "                        #if kswin.detected_change():\n",
    "                        #    score = 1.0\n",
    "                        #else:\n",
    "                        #    score = 0.0\n",
    "                        currentLength = kswin.window.shape[0]\n",
    "                        if currentLength >= kswin.window_size:\n",
    "                            window = np.delete(kswin.window, 0)\n",
    "                            rnd_window = np.random.choice(kswin.window[:stat_size], stat_size)\n",
    "\n",
    "                            (st, p_value) = ks_2samp(rnd_window, kswin.window[-stat_size:], mode=\"exact\")\n",
    "\n",
    "                            score = 1.0 - p_value\n",
    "                        else:\n",
    "                            score = 0.0\n",
    "\n",
    "                        score_list_kswin_l.append(score)\n",
    "\n",
    "                    fpr_tr, tpr_tr, thresholds_tr = roc_curve(y[10000:40000], score_list_kswin_l[10000:40000], pos_label=1)\n",
    "                    res_kswin_tr.append([n, alpha, window_size, stat_size, l, auc(fpr_tr, tpr_tr)])\n",
    "\n",
    "                    fpr_te, tpr_te, thresholds_te = roc_curve(y[40000:], score_list_kswin_l[40000:], pos_label=1)\n",
    "                    res_kswin_te.append([n, alpha, window_size, stat_size, l, auc(fpr_te, tpr_te)])\n"
   ]
  },
  {
   "cell_type": "code",
   "execution_count": 80,
   "metadata": {},
   "outputs": [],
   "source": [
    "res_kswin_tr_df = pd.DataFrame(res_kswin_tr, columns=['n', 'alpha', 'window_size', 'stat_size', 'column', 'auc'])\n",
    "res_kswin_te_df = pd.DataFrame(res_kswin_te, columns=['n', 'alpha', 'window_size', 'stat_size', 'column', 'auc'])"
   ]
  },
  {
   "cell_type": "code",
   "execution_count": 81,
   "metadata": {},
   "outputs": [
    {
     "data": {
      "text/html": [
       "<div>\n",
       "<style scoped>\n",
       "    .dataframe tbody tr th:only-of-type {\n",
       "        vertical-align: middle;\n",
       "    }\n",
       "\n",
       "    .dataframe tbody tr th {\n",
       "        vertical-align: top;\n",
       "    }\n",
       "\n",
       "    .dataframe thead th {\n",
       "        text-align: right;\n",
       "    }\n",
       "</style>\n",
       "<table border=\"1\" class=\"dataframe\">\n",
       "  <thead>\n",
       "    <tr style=\"text-align: right;\">\n",
       "      <th></th>\n",
       "      <th></th>\n",
       "      <th></th>\n",
       "      <th></th>\n",
       "      <th>mean</th>\n",
       "      <th>std</th>\n",
       "    </tr>\n",
       "    <tr>\n",
       "      <th>alpha</th>\n",
       "      <th>window_size</th>\n",
       "      <th>stat_size</th>\n",
       "      <th>column</th>\n",
       "      <th></th>\n",
       "      <th></th>\n",
       "    </tr>\n",
       "  </thead>\n",
       "  <tbody>\n",
       "    <tr>\n",
       "      <th rowspan=\"12\" valign=\"top\">0.001</th>\n",
       "      <th rowspan=\"6\" valign=\"top\">20</th>\n",
       "      <th rowspan=\"3\" valign=\"top\">10</th>\n",
       "      <th>0</th>\n",
       "      <td>0.357635</td>\n",
       "      <td>0.035847</td>\n",
       "    </tr>\n",
       "    <tr>\n",
       "      <th>1</th>\n",
       "      <td>0.414213</td>\n",
       "      <td>0.055850</td>\n",
       "    </tr>\n",
       "    <tr>\n",
       "      <th>2</th>\n",
       "      <td>0.602284</td>\n",
       "      <td>0.032117</td>\n",
       "    </tr>\n",
       "    <tr>\n",
       "      <th rowspan=\"3\" valign=\"top\">15</th>\n",
       "      <th>0</th>\n",
       "      <td>0.446528</td>\n",
       "      <td>0.023696</td>\n",
       "    </tr>\n",
       "    <tr>\n",
       "      <th>1</th>\n",
       "      <td>0.486013</td>\n",
       "      <td>0.097477</td>\n",
       "    </tr>\n",
       "    <tr>\n",
       "      <th>2</th>\n",
       "      <td>0.475805</td>\n",
       "      <td>0.045065</td>\n",
       "    </tr>\n",
       "    <tr>\n",
       "      <th rowspan=\"6\" valign=\"top\">30</th>\n",
       "      <th rowspan=\"3\" valign=\"top\">10</th>\n",
       "      <th>0</th>\n",
       "      <td>0.307632</td>\n",
       "      <td>0.044885</td>\n",
       "    </tr>\n",
       "    <tr>\n",
       "      <th>1</th>\n",
       "      <td>0.312886</td>\n",
       "      <td>0.053524</td>\n",
       "    </tr>\n",
       "    <tr>\n",
       "      <th>2</th>\n",
       "      <td>0.442960</td>\n",
       "      <td>0.031630</td>\n",
       "    </tr>\n",
       "    <tr>\n",
       "      <th rowspan=\"3\" valign=\"top\">15</th>\n",
       "      <th>0</th>\n",
       "      <td>0.400711</td>\n",
       "      <td>0.058356</td>\n",
       "    </tr>\n",
       "    <tr>\n",
       "      <th>1</th>\n",
       "      <td>0.335284</td>\n",
       "      <td>0.039768</td>\n",
       "    </tr>\n",
       "    <tr>\n",
       "      <th>2</th>\n",
       "      <td>0.368218</td>\n",
       "      <td>0.059099</td>\n",
       "    </tr>\n",
       "    <tr>\n",
       "      <th rowspan=\"12\" valign=\"top\">0.005</th>\n",
       "      <th rowspan=\"6\" valign=\"top\">20</th>\n",
       "      <th rowspan=\"3\" valign=\"top\">10</th>\n",
       "      <th>0</th>\n",
       "      <td>0.402210</td>\n",
       "      <td>0.020626</td>\n",
       "    </tr>\n",
       "    <tr>\n",
       "      <th>1</th>\n",
       "      <td>0.410083</td>\n",
       "      <td>0.075389</td>\n",
       "    </tr>\n",
       "    <tr>\n",
       "      <th>2</th>\n",
       "      <td>0.603281</td>\n",
       "      <td>0.044561</td>\n",
       "    </tr>\n",
       "    <tr>\n",
       "      <th rowspan=\"3\" valign=\"top\">15</th>\n",
       "      <th>0</th>\n",
       "      <td>0.476543</td>\n",
       "      <td>0.012222</td>\n",
       "    </tr>\n",
       "    <tr>\n",
       "      <th>1</th>\n",
       "      <td>0.439357</td>\n",
       "      <td>0.037006</td>\n",
       "    </tr>\n",
       "    <tr>\n",
       "      <th>2</th>\n",
       "      <td>0.409856</td>\n",
       "      <td>0.041805</td>\n",
       "    </tr>\n",
       "    <tr>\n",
       "      <th rowspan=\"6\" valign=\"top\">30</th>\n",
       "      <th rowspan=\"3\" valign=\"top\">10</th>\n",
       "      <th>0</th>\n",
       "      <td>0.246020</td>\n",
       "      <td>0.005861</td>\n",
       "    </tr>\n",
       "    <tr>\n",
       "      <th>1</th>\n",
       "      <td>0.246690</td>\n",
       "      <td>0.036961</td>\n",
       "    </tr>\n",
       "    <tr>\n",
       "      <th>2</th>\n",
       "      <td>0.446120</td>\n",
       "      <td>0.033547</td>\n",
       "    </tr>\n",
       "    <tr>\n",
       "      <th rowspan=\"3\" valign=\"top\">15</th>\n",
       "      <th>0</th>\n",
       "      <td>0.380402</td>\n",
       "      <td>0.054839</td>\n",
       "    </tr>\n",
       "    <tr>\n",
       "      <th>1</th>\n",
       "      <td>0.375151</td>\n",
       "      <td>0.044425</td>\n",
       "    </tr>\n",
       "    <tr>\n",
       "      <th>2</th>\n",
       "      <td>0.379207</td>\n",
       "      <td>0.055339</td>\n",
       "    </tr>\n",
       "    <tr>\n",
       "      <th rowspan=\"12\" valign=\"top\">0.010</th>\n",
       "      <th rowspan=\"6\" valign=\"top\">20</th>\n",
       "      <th rowspan=\"3\" valign=\"top\">10</th>\n",
       "      <th>0</th>\n",
       "      <td>0.392881</td>\n",
       "      <td>0.015969</td>\n",
       "    </tr>\n",
       "    <tr>\n",
       "      <th>1</th>\n",
       "      <td>0.394537</td>\n",
       "      <td>0.071843</td>\n",
       "    </tr>\n",
       "    <tr>\n",
       "      <th>2</th>\n",
       "      <td>0.548950</td>\n",
       "      <td>0.062811</td>\n",
       "    </tr>\n",
       "    <tr>\n",
       "      <th rowspan=\"3\" valign=\"top\">15</th>\n",
       "      <th>0</th>\n",
       "      <td>0.412474</td>\n",
       "      <td>0.042329</td>\n",
       "    </tr>\n",
       "    <tr>\n",
       "      <th>1</th>\n",
       "      <td>0.416007</td>\n",
       "      <td>0.054946</td>\n",
       "    </tr>\n",
       "    <tr>\n",
       "      <th>2</th>\n",
       "      <td>0.549925</td>\n",
       "      <td>0.042291</td>\n",
       "    </tr>\n",
       "    <tr>\n",
       "      <th rowspan=\"6\" valign=\"top\">30</th>\n",
       "      <th rowspan=\"3\" valign=\"top\">10</th>\n",
       "      <th>0</th>\n",
       "      <td>0.249483</td>\n",
       "      <td>0.024822</td>\n",
       "    </tr>\n",
       "    <tr>\n",
       "      <th>1</th>\n",
       "      <td>0.299089</td>\n",
       "      <td>0.058270</td>\n",
       "    </tr>\n",
       "    <tr>\n",
       "      <th>2</th>\n",
       "      <td>0.397453</td>\n",
       "      <td>0.090136</td>\n",
       "    </tr>\n",
       "    <tr>\n",
       "      <th rowspan=\"3\" valign=\"top\">15</th>\n",
       "      <th>0</th>\n",
       "      <td>0.334576</td>\n",
       "      <td>0.065681</td>\n",
       "    </tr>\n",
       "    <tr>\n",
       "      <th>1</th>\n",
       "      <td>0.391503</td>\n",
       "      <td>0.026647</td>\n",
       "    </tr>\n",
       "    <tr>\n",
       "      <th>2</th>\n",
       "      <td>0.402444</td>\n",
       "      <td>0.035187</td>\n",
       "    </tr>\n",
       "  </tbody>\n",
       "</table>\n",
       "</div>"
      ],
      "text/plain": [
       "                                        mean       std\n",
       "alpha window_size stat_size column                    \n",
       "0.001 20          10        0       0.357635  0.035847\n",
       "                            1       0.414213  0.055850\n",
       "                            2       0.602284  0.032117\n",
       "                  15        0       0.446528  0.023696\n",
       "                            1       0.486013  0.097477\n",
       "                            2       0.475805  0.045065\n",
       "      30          10        0       0.307632  0.044885\n",
       "                            1       0.312886  0.053524\n",
       "                            2       0.442960  0.031630\n",
       "                  15        0       0.400711  0.058356\n",
       "                            1       0.335284  0.039768\n",
       "                            2       0.368218  0.059099\n",
       "0.005 20          10        0       0.402210  0.020626\n",
       "                            1       0.410083  0.075389\n",
       "                            2       0.603281  0.044561\n",
       "                  15        0       0.476543  0.012222\n",
       "                            1       0.439357  0.037006\n",
       "                            2       0.409856  0.041805\n",
       "      30          10        0       0.246020  0.005861\n",
       "                            1       0.246690  0.036961\n",
       "                            2       0.446120  0.033547\n",
       "                  15        0       0.380402  0.054839\n",
       "                            1       0.375151  0.044425\n",
       "                            2       0.379207  0.055339\n",
       "0.010 20          10        0       0.392881  0.015969\n",
       "                            1       0.394537  0.071843\n",
       "                            2       0.548950  0.062811\n",
       "                  15        0       0.412474  0.042329\n",
       "                            1       0.416007  0.054946\n",
       "                            2       0.549925  0.042291\n",
       "      30          10        0       0.249483  0.024822\n",
       "                            1       0.299089  0.058270\n",
       "                            2       0.397453  0.090136\n",
       "                  15        0       0.334576  0.065681\n",
       "                            1       0.391503  0.026647\n",
       "                            2       0.402444  0.035187"
      ]
     },
     "execution_count": 81,
     "metadata": {},
     "output_type": "execute_result"
    }
   ],
   "source": [
    "res_kswin_tr_df.groupby(['alpha', 'window_size', 'stat_size', 'column'])['auc'].agg([np.mean, np.std])"
   ]
  },
  {
   "cell_type": "code",
   "execution_count": 82,
   "metadata": {},
   "outputs": [
    {
     "data": {
      "text/html": [
       "<div>\n",
       "<style scoped>\n",
       "    .dataframe tbody tr th:only-of-type {\n",
       "        vertical-align: middle;\n",
       "    }\n",
       "\n",
       "    .dataframe tbody tr th {\n",
       "        vertical-align: top;\n",
       "    }\n",
       "\n",
       "    .dataframe thead th {\n",
       "        text-align: right;\n",
       "    }\n",
       "</style>\n",
       "<table border=\"1\" class=\"dataframe\">\n",
       "  <thead>\n",
       "    <tr style=\"text-align: right;\">\n",
       "      <th></th>\n",
       "      <th></th>\n",
       "      <th></th>\n",
       "      <th></th>\n",
       "      <th>mean</th>\n",
       "      <th>std</th>\n",
       "    </tr>\n",
       "    <tr>\n",
       "      <th>alpha</th>\n",
       "      <th>window_size</th>\n",
       "      <th>stat_size</th>\n",
       "      <th>column</th>\n",
       "      <th></th>\n",
       "      <th></th>\n",
       "    </tr>\n",
       "  </thead>\n",
       "  <tbody>\n",
       "    <tr>\n",
       "      <th rowspan=\"12\" valign=\"top\">0.001</th>\n",
       "      <th rowspan=\"6\" valign=\"top\">20</th>\n",
       "      <th rowspan=\"3\" valign=\"top\">10</th>\n",
       "      <th>0</th>\n",
       "      <td>0.564881</td>\n",
       "      <td>0.029954</td>\n",
       "    </tr>\n",
       "    <tr>\n",
       "      <th>1</th>\n",
       "      <td>0.609661</td>\n",
       "      <td>0.033940</td>\n",
       "    </tr>\n",
       "    <tr>\n",
       "      <th>2</th>\n",
       "      <td>0.533908</td>\n",
       "      <td>0.066164</td>\n",
       "    </tr>\n",
       "    <tr>\n",
       "      <th rowspan=\"3\" valign=\"top\">15</th>\n",
       "      <th>0</th>\n",
       "      <td>0.392426</td>\n",
       "      <td>0.073314</td>\n",
       "    </tr>\n",
       "    <tr>\n",
       "      <th>1</th>\n",
       "      <td>0.412249</td>\n",
       "      <td>0.073334</td>\n",
       "    </tr>\n",
       "    <tr>\n",
       "      <th>2</th>\n",
       "      <td>0.576414</td>\n",
       "      <td>0.036181</td>\n",
       "    </tr>\n",
       "    <tr>\n",
       "      <th rowspan=\"6\" valign=\"top\">30</th>\n",
       "      <th rowspan=\"3\" valign=\"top\">10</th>\n",
       "      <th>0</th>\n",
       "      <td>0.306517</td>\n",
       "      <td>0.076379</td>\n",
       "    </tr>\n",
       "    <tr>\n",
       "      <th>1</th>\n",
       "      <td>0.529191</td>\n",
       "      <td>0.044012</td>\n",
       "    </tr>\n",
       "    <tr>\n",
       "      <th>2</th>\n",
       "      <td>0.518514</td>\n",
       "      <td>0.106165</td>\n",
       "    </tr>\n",
       "    <tr>\n",
       "      <th rowspan=\"3\" valign=\"top\">15</th>\n",
       "      <th>0</th>\n",
       "      <td>0.341274</td>\n",
       "      <td>0.078127</td>\n",
       "    </tr>\n",
       "    <tr>\n",
       "      <th>1</th>\n",
       "      <td>0.571802</td>\n",
       "      <td>0.021998</td>\n",
       "    </tr>\n",
       "    <tr>\n",
       "      <th>2</th>\n",
       "      <td>0.415348</td>\n",
       "      <td>0.058588</td>\n",
       "    </tr>\n",
       "    <tr>\n",
       "      <th rowspan=\"12\" valign=\"top\">0.005</th>\n",
       "      <th rowspan=\"6\" valign=\"top\">20</th>\n",
       "      <th rowspan=\"3\" valign=\"top\">10</th>\n",
       "      <th>0</th>\n",
       "      <td>0.558480</td>\n",
       "      <td>0.059979</td>\n",
       "    </tr>\n",
       "    <tr>\n",
       "      <th>1</th>\n",
       "      <td>0.630132</td>\n",
       "      <td>0.094080</td>\n",
       "    </tr>\n",
       "    <tr>\n",
       "      <th>2</th>\n",
       "      <td>0.492872</td>\n",
       "      <td>0.051426</td>\n",
       "    </tr>\n",
       "    <tr>\n",
       "      <th rowspan=\"3\" valign=\"top\">15</th>\n",
       "      <th>0</th>\n",
       "      <td>0.403939</td>\n",
       "      <td>0.048356</td>\n",
       "    </tr>\n",
       "    <tr>\n",
       "      <th>1</th>\n",
       "      <td>0.421395</td>\n",
       "      <td>0.052140</td>\n",
       "    </tr>\n",
       "    <tr>\n",
       "      <th>2</th>\n",
       "      <td>0.479777</td>\n",
       "      <td>0.040987</td>\n",
       "    </tr>\n",
       "    <tr>\n",
       "      <th rowspan=\"6\" valign=\"top\">30</th>\n",
       "      <th rowspan=\"3\" valign=\"top\">10</th>\n",
       "      <th>0</th>\n",
       "      <td>0.328324</td>\n",
       "      <td>0.026594</td>\n",
       "    </tr>\n",
       "    <tr>\n",
       "      <th>1</th>\n",
       "      <td>0.476988</td>\n",
       "      <td>0.068930</td>\n",
       "    </tr>\n",
       "    <tr>\n",
       "      <th>2</th>\n",
       "      <td>0.581410</td>\n",
       "      <td>0.141078</td>\n",
       "    </tr>\n",
       "    <tr>\n",
       "      <th rowspan=\"3\" valign=\"top\">15</th>\n",
       "      <th>0</th>\n",
       "      <td>0.371216</td>\n",
       "      <td>0.056327</td>\n",
       "    </tr>\n",
       "    <tr>\n",
       "      <th>1</th>\n",
       "      <td>0.605288</td>\n",
       "      <td>0.054822</td>\n",
       "    </tr>\n",
       "    <tr>\n",
       "      <th>2</th>\n",
       "      <td>0.419058</td>\n",
       "      <td>0.107322</td>\n",
       "    </tr>\n",
       "    <tr>\n",
       "      <th rowspan=\"12\" valign=\"top\">0.010</th>\n",
       "      <th rowspan=\"6\" valign=\"top\">20</th>\n",
       "      <th rowspan=\"3\" valign=\"top\">10</th>\n",
       "      <th>0</th>\n",
       "      <td>0.483349</td>\n",
       "      <td>0.115357</td>\n",
       "    </tr>\n",
       "    <tr>\n",
       "      <th>1</th>\n",
       "      <td>0.546635</td>\n",
       "      <td>0.065820</td>\n",
       "    </tr>\n",
       "    <tr>\n",
       "      <th>2</th>\n",
       "      <td>0.540631</td>\n",
       "      <td>0.044092</td>\n",
       "    </tr>\n",
       "    <tr>\n",
       "      <th rowspan=\"3\" valign=\"top\">15</th>\n",
       "      <th>0</th>\n",
       "      <td>0.440224</td>\n",
       "      <td>0.033086</td>\n",
       "    </tr>\n",
       "    <tr>\n",
       "      <th>1</th>\n",
       "      <td>0.443822</td>\n",
       "      <td>0.063762</td>\n",
       "    </tr>\n",
       "    <tr>\n",
       "      <th>2</th>\n",
       "      <td>0.537928</td>\n",
       "      <td>0.089589</td>\n",
       "    </tr>\n",
       "    <tr>\n",
       "      <th rowspan=\"6\" valign=\"top\">30</th>\n",
       "      <th rowspan=\"3\" valign=\"top\">10</th>\n",
       "      <th>0</th>\n",
       "      <td>0.358498</td>\n",
       "      <td>0.050891</td>\n",
       "    </tr>\n",
       "    <tr>\n",
       "      <th>1</th>\n",
       "      <td>0.540899</td>\n",
       "      <td>0.046364</td>\n",
       "    </tr>\n",
       "    <tr>\n",
       "      <th>2</th>\n",
       "      <td>0.524692</td>\n",
       "      <td>0.142938</td>\n",
       "    </tr>\n",
       "    <tr>\n",
       "      <th rowspan=\"3\" valign=\"top\">15</th>\n",
       "      <th>0</th>\n",
       "      <td>0.432571</td>\n",
       "      <td>0.026296</td>\n",
       "    </tr>\n",
       "    <tr>\n",
       "      <th>1</th>\n",
       "      <td>0.572737</td>\n",
       "      <td>0.117756</td>\n",
       "    </tr>\n",
       "    <tr>\n",
       "      <th>2</th>\n",
       "      <td>0.392573</td>\n",
       "      <td>0.042261</td>\n",
       "    </tr>\n",
       "  </tbody>\n",
       "</table>\n",
       "</div>"
      ],
      "text/plain": [
       "                                        mean       std\n",
       "alpha window_size stat_size column                    \n",
       "0.001 20          10        0       0.564881  0.029954\n",
       "                            1       0.609661  0.033940\n",
       "                            2       0.533908  0.066164\n",
       "                  15        0       0.392426  0.073314\n",
       "                            1       0.412249  0.073334\n",
       "                            2       0.576414  0.036181\n",
       "      30          10        0       0.306517  0.076379\n",
       "                            1       0.529191  0.044012\n",
       "                            2       0.518514  0.106165\n",
       "                  15        0       0.341274  0.078127\n",
       "                            1       0.571802  0.021998\n",
       "                            2       0.415348  0.058588\n",
       "0.005 20          10        0       0.558480  0.059979\n",
       "                            1       0.630132  0.094080\n",
       "                            2       0.492872  0.051426\n",
       "                  15        0       0.403939  0.048356\n",
       "                            1       0.421395  0.052140\n",
       "                            2       0.479777  0.040987\n",
       "      30          10        0       0.328324  0.026594\n",
       "                            1       0.476988  0.068930\n",
       "                            2       0.581410  0.141078\n",
       "                  15        0       0.371216  0.056327\n",
       "                            1       0.605288  0.054822\n",
       "                            2       0.419058  0.107322\n",
       "0.010 20          10        0       0.483349  0.115357\n",
       "                            1       0.546635  0.065820\n",
       "                            2       0.540631  0.044092\n",
       "                  15        0       0.440224  0.033086\n",
       "                            1       0.443822  0.063762\n",
       "                            2       0.537928  0.089589\n",
       "      30          10        0       0.358498  0.050891\n",
       "                            1       0.540899  0.046364\n",
       "                            2       0.524692  0.142938\n",
       "                  15        0       0.432571  0.026296\n",
       "                            1       0.572737  0.117756\n",
       "                            2       0.392573  0.042261"
      ]
     },
     "execution_count": 82,
     "metadata": {},
     "output_type": "execute_result"
    }
   ],
   "source": [
    "res_kswin_te_df.groupby(['alpha', 'window_size', 'stat_size', 'column'])['auc'].agg([np.mean, np.std])"
   ]
  },
  {
   "cell_type": "markdown",
   "metadata": {},
   "source": [
    "# PH"
   ]
  },
  {
   "cell_type": "code",
   "execution_count": 86,
   "metadata": {},
   "outputs": [],
   "source": [
    "n_trial = 5\n",
    "\n",
    "#threshold_list_ph = [10, 20, 30, 40, 50, 60, 70, 80, 90, 100]\n",
    "threshold_list_ph = [0.01, 0.05, 0.1, 0.5, 1.0, 5.0, 10.0]\n",
    "alpha_list_ph = [0.1, 0.3, 0.5, 0.7, 0.9, 0.95, 0.99, 0.999]\n",
    "\n",
    "res_ph_tr = []\n",
    "res_ph_te = []\n",
    "\n",
    "for n in range(n_trial):\n",
    "    for i, threshold in enumerate(threshold_list_ph):\n",
    "        #for j, alpha in enumerate(alpha_list_ph):\n",
    "        auc_all = []\n",
    "        for k in range(X.shape[1]):\n",
    "            ph = PageHinkley()\n",
    "            score_list_ph_k = []\n",
    "            for t, x in enumerate(X[:, k]):\n",
    "                ph.add_element(x)\n",
    "                score_t = ph.sum - threshold\n",
    "                score_list_ph_k.append(score_t)\n",
    "\n",
    "            fpr_tr, tpr_tr, thresholds_tr = roc_curve(y[10000:40000], score_list_ph_k[10000:40000], pos_label=1)\n",
    "            res_ph_tr.append([n, threshold, k, auc(fpr_tr, tpr_tr)])\n",
    "\n",
    "            fpr_te, tpr_te, thresholds_te = roc_curve(y[40000:], score_list_ph_k[40000:], pos_label=1)\n",
    "            res_ph_te.append([n, threshold, k, auc(fpr_te, tpr_te)])"
   ]
  },
  {
   "cell_type": "code",
   "execution_count": 87,
   "metadata": {},
   "outputs": [],
   "source": [
    "res_ph_tr_df = pd.DataFrame(res_ph_tr, columns=['n', 'threshold', 'k', 'auc'])\n",
    "res_ph_te_df = pd.DataFrame(res_ph_te, columns=['n', 'threshold', 'k', 'auc'])"
   ]
  },
  {
   "cell_type": "code",
   "execution_count": 88,
   "metadata": {},
   "outputs": [
    {
     "data": {
      "text/html": [
       "<div>\n",
       "<style scoped>\n",
       "    .dataframe tbody tr th:only-of-type {\n",
       "        vertical-align: middle;\n",
       "    }\n",
       "\n",
       "    .dataframe tbody tr th {\n",
       "        vertical-align: top;\n",
       "    }\n",
       "\n",
       "    .dataframe thead th {\n",
       "        text-align: right;\n",
       "    }\n",
       "</style>\n",
       "<table border=\"1\" class=\"dataframe\">\n",
       "  <thead>\n",
       "    <tr style=\"text-align: right;\">\n",
       "      <th></th>\n",
       "      <th></th>\n",
       "      <th>mean</th>\n",
       "      <th>std</th>\n",
       "    </tr>\n",
       "    <tr>\n",
       "      <th>threshold</th>\n",
       "      <th>k</th>\n",
       "      <th></th>\n",
       "      <th></th>\n",
       "    </tr>\n",
       "  </thead>\n",
       "  <tbody>\n",
       "    <tr>\n",
       "      <th rowspan=\"3\" valign=\"top\">0.01</th>\n",
       "      <th>0</th>\n",
       "      <td>0.232661</td>\n",
       "      <td>0.0</td>\n",
       "    </tr>\n",
       "    <tr>\n",
       "      <th>1</th>\n",
       "      <td>0.258140</td>\n",
       "      <td>0.0</td>\n",
       "    </tr>\n",
       "    <tr>\n",
       "      <th>2</th>\n",
       "      <td>0.424465</td>\n",
       "      <td>0.0</td>\n",
       "    </tr>\n",
       "    <tr>\n",
       "      <th rowspan=\"3\" valign=\"top\">0.05</th>\n",
       "      <th>0</th>\n",
       "      <td>0.232661</td>\n",
       "      <td>0.0</td>\n",
       "    </tr>\n",
       "    <tr>\n",
       "      <th>1</th>\n",
       "      <td>0.258140</td>\n",
       "      <td>0.0</td>\n",
       "    </tr>\n",
       "    <tr>\n",
       "      <th>2</th>\n",
       "      <td>0.424465</td>\n",
       "      <td>0.0</td>\n",
       "    </tr>\n",
       "    <tr>\n",
       "      <th rowspan=\"3\" valign=\"top\">0.10</th>\n",
       "      <th>0</th>\n",
       "      <td>0.232661</td>\n",
       "      <td>0.0</td>\n",
       "    </tr>\n",
       "    <tr>\n",
       "      <th>1</th>\n",
       "      <td>0.258140</td>\n",
       "      <td>0.0</td>\n",
       "    </tr>\n",
       "    <tr>\n",
       "      <th>2</th>\n",
       "      <td>0.424465</td>\n",
       "      <td>0.0</td>\n",
       "    </tr>\n",
       "    <tr>\n",
       "      <th rowspan=\"3\" valign=\"top\">0.50</th>\n",
       "      <th>0</th>\n",
       "      <td>0.232661</td>\n",
       "      <td>0.0</td>\n",
       "    </tr>\n",
       "    <tr>\n",
       "      <th>1</th>\n",
       "      <td>0.258140</td>\n",
       "      <td>0.0</td>\n",
       "    </tr>\n",
       "    <tr>\n",
       "      <th>2</th>\n",
       "      <td>0.424465</td>\n",
       "      <td>0.0</td>\n",
       "    </tr>\n",
       "    <tr>\n",
       "      <th rowspan=\"3\" valign=\"top\">1.00</th>\n",
       "      <th>0</th>\n",
       "      <td>0.232661</td>\n",
       "      <td>0.0</td>\n",
       "    </tr>\n",
       "    <tr>\n",
       "      <th>1</th>\n",
       "      <td>0.258140</td>\n",
       "      <td>0.0</td>\n",
       "    </tr>\n",
       "    <tr>\n",
       "      <th>2</th>\n",
       "      <td>0.424465</td>\n",
       "      <td>0.0</td>\n",
       "    </tr>\n",
       "    <tr>\n",
       "      <th rowspan=\"3\" valign=\"top\">5.00</th>\n",
       "      <th>0</th>\n",
       "      <td>0.232661</td>\n",
       "      <td>0.0</td>\n",
       "    </tr>\n",
       "    <tr>\n",
       "      <th>1</th>\n",
       "      <td>0.258140</td>\n",
       "      <td>0.0</td>\n",
       "    </tr>\n",
       "    <tr>\n",
       "      <th>2</th>\n",
       "      <td>0.424465</td>\n",
       "      <td>0.0</td>\n",
       "    </tr>\n",
       "    <tr>\n",
       "      <th rowspan=\"3\" valign=\"top\">10.00</th>\n",
       "      <th>0</th>\n",
       "      <td>0.232661</td>\n",
       "      <td>0.0</td>\n",
       "    </tr>\n",
       "    <tr>\n",
       "      <th>1</th>\n",
       "      <td>0.258140</td>\n",
       "      <td>0.0</td>\n",
       "    </tr>\n",
       "    <tr>\n",
       "      <th>2</th>\n",
       "      <td>0.424465</td>\n",
       "      <td>0.0</td>\n",
       "    </tr>\n",
       "  </tbody>\n",
       "</table>\n",
       "</div>"
      ],
      "text/plain": [
       "                 mean  std\n",
       "threshold k               \n",
       "0.01      0  0.232661  0.0\n",
       "          1  0.258140  0.0\n",
       "          2  0.424465  0.0\n",
       "0.05      0  0.232661  0.0\n",
       "          1  0.258140  0.0\n",
       "          2  0.424465  0.0\n",
       "0.10      0  0.232661  0.0\n",
       "          1  0.258140  0.0\n",
       "          2  0.424465  0.0\n",
       "0.50      0  0.232661  0.0\n",
       "          1  0.258140  0.0\n",
       "          2  0.424465  0.0\n",
       "1.00      0  0.232661  0.0\n",
       "          1  0.258140  0.0\n",
       "          2  0.424465  0.0\n",
       "5.00      0  0.232661  0.0\n",
       "          1  0.258140  0.0\n",
       "          2  0.424465  0.0\n",
       "10.00     0  0.232661  0.0\n",
       "          1  0.258140  0.0\n",
       "          2  0.424465  0.0"
      ]
     },
     "execution_count": 88,
     "metadata": {},
     "output_type": "execute_result"
    }
   ],
   "source": [
    "res_ph_tr_df.groupby(['threshold', 'k'])['auc'].agg([np.mean, np.std])"
   ]
  },
  {
   "cell_type": "code",
   "execution_count": 89,
   "metadata": {},
   "outputs": [
    {
     "data": {
      "text/html": [
       "<div>\n",
       "<style scoped>\n",
       "    .dataframe tbody tr th:only-of-type {\n",
       "        vertical-align: middle;\n",
       "    }\n",
       "\n",
       "    .dataframe tbody tr th {\n",
       "        vertical-align: top;\n",
       "    }\n",
       "\n",
       "    .dataframe thead th {\n",
       "        text-align: right;\n",
       "    }\n",
       "</style>\n",
       "<table border=\"1\" class=\"dataframe\">\n",
       "  <thead>\n",
       "    <tr style=\"text-align: right;\">\n",
       "      <th></th>\n",
       "      <th></th>\n",
       "      <th>mean</th>\n",
       "      <th>std</th>\n",
       "    </tr>\n",
       "    <tr>\n",
       "      <th>threshold</th>\n",
       "      <th>k</th>\n",
       "      <th></th>\n",
       "      <th></th>\n",
       "    </tr>\n",
       "  </thead>\n",
       "  <tbody>\n",
       "    <tr>\n",
       "      <th rowspan=\"3\" valign=\"top\">0.01</th>\n",
       "      <th>0</th>\n",
       "      <td>0.253128</td>\n",
       "      <td>0.0</td>\n",
       "    </tr>\n",
       "    <tr>\n",
       "      <th>1</th>\n",
       "      <td>0.647306</td>\n",
       "      <td>0.0</td>\n",
       "    </tr>\n",
       "    <tr>\n",
       "      <th>2</th>\n",
       "      <td>0.899174</td>\n",
       "      <td>0.0</td>\n",
       "    </tr>\n",
       "    <tr>\n",
       "      <th rowspan=\"3\" valign=\"top\">0.05</th>\n",
       "      <th>0</th>\n",
       "      <td>0.253128</td>\n",
       "      <td>0.0</td>\n",
       "    </tr>\n",
       "    <tr>\n",
       "      <th>1</th>\n",
       "      <td>0.647306</td>\n",
       "      <td>0.0</td>\n",
       "    </tr>\n",
       "    <tr>\n",
       "      <th>2</th>\n",
       "      <td>0.899174</td>\n",
       "      <td>0.0</td>\n",
       "    </tr>\n",
       "    <tr>\n",
       "      <th rowspan=\"3\" valign=\"top\">0.10</th>\n",
       "      <th>0</th>\n",
       "      <td>0.253128</td>\n",
       "      <td>0.0</td>\n",
       "    </tr>\n",
       "    <tr>\n",
       "      <th>1</th>\n",
       "      <td>0.647306</td>\n",
       "      <td>0.0</td>\n",
       "    </tr>\n",
       "    <tr>\n",
       "      <th>2</th>\n",
       "      <td>0.899174</td>\n",
       "      <td>0.0</td>\n",
       "    </tr>\n",
       "    <tr>\n",
       "      <th rowspan=\"3\" valign=\"top\">0.50</th>\n",
       "      <th>0</th>\n",
       "      <td>0.253128</td>\n",
       "      <td>0.0</td>\n",
       "    </tr>\n",
       "    <tr>\n",
       "      <th>1</th>\n",
       "      <td>0.647306</td>\n",
       "      <td>0.0</td>\n",
       "    </tr>\n",
       "    <tr>\n",
       "      <th>2</th>\n",
       "      <td>0.899174</td>\n",
       "      <td>0.0</td>\n",
       "    </tr>\n",
       "    <tr>\n",
       "      <th rowspan=\"3\" valign=\"top\">1.00</th>\n",
       "      <th>0</th>\n",
       "      <td>0.253128</td>\n",
       "      <td>0.0</td>\n",
       "    </tr>\n",
       "    <tr>\n",
       "      <th>1</th>\n",
       "      <td>0.647306</td>\n",
       "      <td>0.0</td>\n",
       "    </tr>\n",
       "    <tr>\n",
       "      <th>2</th>\n",
       "      <td>0.899174</td>\n",
       "      <td>0.0</td>\n",
       "    </tr>\n",
       "    <tr>\n",
       "      <th rowspan=\"3\" valign=\"top\">5.00</th>\n",
       "      <th>0</th>\n",
       "      <td>0.253128</td>\n",
       "      <td>0.0</td>\n",
       "    </tr>\n",
       "    <tr>\n",
       "      <th>1</th>\n",
       "      <td>0.647306</td>\n",
       "      <td>0.0</td>\n",
       "    </tr>\n",
       "    <tr>\n",
       "      <th>2</th>\n",
       "      <td>0.899174</td>\n",
       "      <td>0.0</td>\n",
       "    </tr>\n",
       "    <tr>\n",
       "      <th rowspan=\"3\" valign=\"top\">10.00</th>\n",
       "      <th>0</th>\n",
       "      <td>0.253128</td>\n",
       "      <td>0.0</td>\n",
       "    </tr>\n",
       "    <tr>\n",
       "      <th>1</th>\n",
       "      <td>0.647306</td>\n",
       "      <td>0.0</td>\n",
       "    </tr>\n",
       "    <tr>\n",
       "      <th>2</th>\n",
       "      <td>0.899174</td>\n",
       "      <td>0.0</td>\n",
       "    </tr>\n",
       "  </tbody>\n",
       "</table>\n",
       "</div>"
      ],
      "text/plain": [
       "                 mean  std\n",
       "threshold k               \n",
       "0.01      0  0.253128  0.0\n",
       "          1  0.647306  0.0\n",
       "          2  0.899174  0.0\n",
       "0.05      0  0.253128  0.0\n",
       "          1  0.647306  0.0\n",
       "          2  0.899174  0.0\n",
       "0.10      0  0.253128  0.0\n",
       "          1  0.647306  0.0\n",
       "          2  0.899174  0.0\n",
       "0.50      0  0.253128  0.0\n",
       "          1  0.647306  0.0\n",
       "          2  0.899174  0.0\n",
       "1.00      0  0.253128  0.0\n",
       "          1  0.647306  0.0\n",
       "          2  0.899174  0.0\n",
       "5.00      0  0.253128  0.0\n",
       "          1  0.647306  0.0\n",
       "          2  0.899174  0.0\n",
       "10.00     0  0.253128  0.0\n",
       "          1  0.647306  0.0\n",
       "          2  0.899174  0.0"
      ]
     },
     "execution_count": 89,
     "metadata": {},
     "output_type": "execute_result"
    }
   ],
   "source": [
    "res_ph_te_df.groupby(['threshold', 'k'])['auc'].agg([np.mean, np.std])"
   ]
  },
  {
   "cell_type": "code",
   "execution_count": null,
   "metadata": {},
   "outputs": [],
   "source": []
  }
 ],
 "metadata": {
  "kernelspec": {
   "display_name": "Python 3",
   "language": "python",
   "name": "python3"
  },
  "language_info": {
   "codemirror_mode": {
    "name": "ipython",
    "version": 3
   },
   "file_extension": ".py",
   "mimetype": "text/x-python",
   "name": "python",
   "nbconvert_exporter": "python",
   "pygments_lexer": "ipython3",
   "version": "3.7.2"
  }
 },
 "nbformat": 4,
 "nbformat_minor": 4
}
