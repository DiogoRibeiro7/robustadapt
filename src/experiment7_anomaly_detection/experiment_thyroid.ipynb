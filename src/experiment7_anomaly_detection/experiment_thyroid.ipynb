{
 "cells": [
  {
   "cell_type": "code",
   "execution_count": 76,
   "metadata": {},
   "outputs": [],
   "source": [
    "%matplotlib inline\n",
    "import numpy as np\n",
    "import pandas as pd\n",
    "\n",
    "import matplotlib.pyplot as plt\n",
    "from matplotlib import rc\n",
    "rc('text', usetex=True)\n",
    "\n",
    "import seaborn as sns\n",
    "\n",
    "\n",
    "from scipy.io import arff\n",
    "from scipy.stats import multivariate_normal, norm, ks_2samp\n",
    "\n",
    "from copy import deepcopy\n",
    "\n",
    "import h5py\n",
    "\n",
    "import tqdm\n",
    "\n",
    "import os"
   ]
  },
  {
   "cell_type": "code",
   "execution_count": 15,
   "metadata": {},
   "outputs": [],
   "source": [
    "from sklearn.mixture import GaussianMixture\n",
    "from sklearn.datasets import make_spd_matrix\n",
    "from sklearn.metrics import roc_curve, auc\n",
    "\n",
    "from skmultiflow.drift_detection.adwin import ADWIN\n",
    "from skmultiflow.drift_detection.ddm import DDM\n",
    "from skmultiflow.drift_detection.eddm import EDDM\n",
    "from skmultiflow.drift_detection.hddm_a import HDDM_A\n",
    "from skmultiflow.drift_detection.hddm_w import HDDM_W\n",
    "from skmultiflow.drift_detection.kswin import KSWIN\n",
    "from skmultiflow.drift_detection.page_hinkley import PageHinkley"
   ]
  },
  {
   "cell_type": "code",
   "execution_count": 16,
   "metadata": {},
   "outputs": [],
   "source": [
    "pd.options.display.max_rows = 100000"
   ]
  },
  {
   "cell_type": "code",
   "execution_count": 17,
   "metadata": {},
   "outputs": [],
   "source": [
    "class Theta:\n",
    "    def __init__(self, pi, mu, sigma):\n",
    "        self.pi = pi\n",
    "        self.mu = mu\n",
    "        self.sigma = sigma"
   ]
  },
  {
   "cell_type": "code",
   "execution_count": 18,
   "metadata": {},
   "outputs": [],
   "source": [
    "from sklearn.mixture import GaussianMixture\n",
    "import numpy as np\n",
    "\n",
    "\n",
    "class SDEM(GaussianMixture):\n",
    "    def __init__(self, r, alpha, n_components=2, **kwargs):\n",
    "        super().__init__(n_components=n_components, **kwargs)\n",
    "        \n",
    "        self.r = r\n",
    "        self.alpha = alpha\n",
    "        self.t = 0\n",
    "        \n",
    "        self.pi_list = []\n",
    "        self.pi_bar_list = []\n",
    "        self.means_list = []\n",
    "        self.means_bar_list = []\n",
    "        self.covariances_list = []\n",
    "        self.covariances_bar_list = []\n",
    "        \n",
    "    def fit(self, X, y=None):\n",
    "        super().fit(X, y)\n",
    "        self.means_bar = np.copy(self.means_) # \\overline{\\mu}_i^{(t)} in the paper\n",
    "        self.covariances_bar = np.copy(self.covariances_) # \\overline{\\Lambda}_i^{(t)} in the paper\n",
    "        \n",
    "    def update(self, x):\n",
    "        \"\"\"Employ SDEM algorithm.\"\"\"\n",
    "        \n",
    "        # E-step for weights\n",
    "        gamma = (1-self.alpha*self.r[self.t]) * self.predict_proba(x.reshape(1, -1)) + self.alpha*self.r[self.t]/self.weights_.shape[0] # \\overline{\\gamma}_i^{(t)} in the paper\n",
    "        #gamma = gamma.flatten()\n",
    "        gamma = gamma.ravel()\n",
    "        #self.weights_ = (1-self.r)*self.weights_ + self.r*gamma # \\overline{\\c}_i^{(t)} in the paper\n",
    "        self.weights_ = (1-self.r[self.t])*self.weights_ + self.r[self.t]*gamma # \\overline{\\c}_i^{(t)} in the paper\n",
    "        \n",
    "        #x = x.flatten()\n",
    "        x = x.ravel()\n",
    "        means, means_bar, covariances, covariances_bar = [], [], [], []\n",
    "        for i, (w, m, cov) in enumerate(zip(self.weights_, self.means_bar, self.covariances_bar)):\n",
    "            # E-step for mean and covariance\n",
    "            #m = (1-self.r)*m + self.r*gamma[i]*x\n",
    "            m = (1-self.r[self.t])*m + self.r[self.t]*gamma[i]*x\n",
    "            #cov = (1-self.r)*cov + self.r*gamma[i]*np.outer(x,x)\n",
    "            cov = (1-self.r[self.t])*cov + self.r[self.t]*gamma[i]*np.outer(x,x)\n",
    "            means_bar.append(m)\n",
    "            covariances_bar.append(cov)\n",
    "\n",
    "            # M-step for mean and covariance\n",
    "            m = m/w\n",
    "            #print('i:', i, cov)\n",
    "            cov = cov/w - np.outer(m, m)\n",
    "            #print('i:', i, cov)\n",
    "            means.append(m)\n",
    "            covariances.append(cov)\n",
    "\n",
    "        self.means_ = np.vstack(means) # \\mu_i^{(t)} in the paper\n",
    "        #self.covariances_ = np.vstack(covariances) # \\Lambda_i^{(t)} in the paper\n",
    "        #print(np.array(covariances))\n",
    "        self.covariances_ = np.stack(covariances)\n",
    "        self.means_bar = np.stack(means_bar)\n",
    "        self.covariances_bar = np.stack(covariances_bar)\n",
    "        #print('self.means_:', self.means_.shape)\n",
    "        #print('self.covariances_:', self.covariances_.shape)\n",
    "        #print('self.means_bar:', self.means_bar.shape)\n",
    "        #print('self.covariances_bar:', self.covariances_bar.shape)\n",
    "        \n",
    "        #print('self.covariances_:', self.covariances_.shape)\n",
    "        #print('np.stack(self.covariances_):', np.stack(self.covariances_).shape)\n",
    "        self.pi_list.append(self.weights_)\n",
    "        self.means_list.append(self.means_)\n",
    "        self.covariances_list.append(self.covariances_)\n",
    "        self.means_bar_list.append(self.means_bar)\n",
    "        self.covariances_bar_list.append(self.covariances_bar)\n",
    "        \n",
    "        self.t += 1"
   ]
  },
  {
   "cell_type": "code",
   "execution_count": 19,
   "metadata": {},
   "outputs": [],
   "source": [
    "def compute_tau(X, theta):\n",
    "    #if len(X.shape) == 1:\n",
    "    #    X = X.reshape(1, -1)\n",
    "    N = X.shape[0]\n",
    "    K = len(theta.pi)\n",
    "\n",
    "    tau = np.zeros((N, K))\n",
    "    for k in range(K):\n",
    "        d_k = multivariate_normal(theta.mu[k], theta.sigma[k], allow_singular=True)\n",
    "        for i in range(N):\n",
    "            #tau[i, k] = theta.pi[k] * d_k.pdf(X[i, :])\n",
    "            tau[i, k] = theta.pi[k] * d_k.pdf(X[i])\n",
    "    #print('theta.mu:', theta.mu)\n",
    "    #print('theta.sigma:', theta.sigma)\n",
    "    #print('X:', X)\n",
    "    tau /= np.sum(tau, axis=1, keepdims=True)\n",
    "    \n",
    "    return tau"
   ]
  },
  {
   "cell_type": "code",
   "execution_count": 20,
   "metadata": {},
   "outputs": [],
   "source": [
    "def compute_stat(X, Z):\n",
    "    K = Z.shape[0]\n",
    "    D = X.shape[1]\n",
    "\n",
    "    s1 = np.sum(Z, axis=0).reshape(-1, 1)\n",
    "    s2 = X.T.dot(Z).T\n",
    "    #s3 = np.einsum('ij,nk->kij', X.T.dot(X), Z)\n",
    "    s3 = np.einsum('ijk,il->ljk' , np.array([np.outer(X[i, :], X[i, :]) for i in range(X.shape[0])]), Z)\n",
    "    \n",
    "    return s1, s2, s3"
   ]
  },
  {
   "cell_type": "code",
   "execution_count": 21,
   "metadata": {},
   "outputs": [],
   "source": [
    "def step_M(s, x, eps=1e-8):\n",
    "    pi = (s.s1 + eps) / (1.0 + eps * len(s.s1))\n",
    "    mu = s.s2 / (s.s1 + eps)\n",
    "    sigma = s.s3 / (s.s1 + eps).reshape(len(s.s1), 1, 1) - np.einsum('ij,ik->ijk', mu, mu)\n",
    "    #sigma = s.s3 / (s.s1 + eps).reshape(len(s.s1), 1, 1) - np.array([np.outer(mu[i, :], mu[i, :]) for i in range(mu.shape[0])])\n",
    "    \n",
    "    #sigma = s.s3 / (s.s1 + eps).reshape(len(s.s1), 1, 1) - np.einsum('ij,ik->ijk', mu, mu)\n",
    "    #sigma = s.s3 / (s.s1 + eps).reshape(len(s.s1), 1, 1) - np.einsum('ijk,il->ijk', np.einsum('ij,ik->ijk', mu, mu), s.s1)\n",
    "    #sigma = s.s3 / (s.s1 + eps).reshape(len(s.s1), 1, 1) - np.einsum('ij,ik->ijk', mu, mu)\n",
    "    return pi, mu, sigma\n",
    "    #return pi, mu"
   ]
  },
  {
   "cell_type": "code",
   "execution_count": 22,
   "metadata": {},
   "outputs": [],
   "source": [
    "class SuffStat:\n",
    "    def __init__(self):\n",
    "        pass"
   ]
  },
  {
   "cell_type": "code",
   "execution_count": 23,
   "metadata": {},
   "outputs": [],
   "source": [
    "class SuffStatGMM(SuffStat):\n",
    "    def __init__(self, K, D, seed=0):\n",
    "        super().__init__()\n",
    "        np.random.seed(seed)\n",
    "        self.s1 = np.random.dirichlet([1.0]*K).reshape(-1, 1)\n",
    "        self.s2 = np.random.random((K, D))\n",
    "        self.s3 = np.random.random((K, D, D))\n",
    "        #self.s3 = np.array([make_spd_matrix(D) for _ in range(K)])"
   ]
  },
  {
   "cell_type": "code",
   "execution_count": 24,
   "metadata": {},
   "outputs": [],
   "source": [
    "def sem(X, theta0, rho):\n",
    "    K = len(theta0.mu)\n",
    "    N = X.shape[0]\n",
    "    D = X.shape[1]\n",
    "    \n",
    "    #theta_est = np.zeros((N+1, 3*K+1))\n",
    "    #theta_est[1, :] = np.hstack((0, theta0.pi, theta0.mu, theta0.sigma))\n",
    "    theta = deepcopy(theta0)\n",
    "    pi_est = np.zeros((N, K, 1))\n",
    "    mu_est = np.zeros((N, K, D))\n",
    "    sigma_est = np.zeros((N, K, D, D))\n",
    "    \n",
    "    s = SuffStatGMM(K, D)\n",
    "    \n",
    "    # initialization\n",
    "    tau = compute_tau(X[:10, :], theta)\n",
    "    s.s1[:], s.s2[:], s.s3[:] = compute_stat(X[:10, :], tau)\n",
    "    \n",
    "    inds = np.arange(N)\n",
    "    \n",
    "    for n in tqdm.tqdm(range(N)):\n",
    "        ind_n = inds[n]\n",
    "        \n",
    "        #print('n =', n, ':', theta.pi)\n",
    "        #print(X[ind_n, :])\n",
    "        #tau_indiv_new = compute_tau(X[ind_n, :], theta).ravel()\n",
    "        tau_indiv_new = compute_tau(X[ind_n, :].reshape(1, -1), theta).reshape(-1, 1)\n",
    "        s2_indiv_new = np.outer(tau_indiv_new, X[ind_n, :])\n",
    "        s3_indiv_new = np.einsum('k,ij->kij', tau_indiv_new.ravel(), np.outer(X[ind_n, :], X[ind_n, :]))\n",
    "        \n",
    "        if np.any(np.isnan(tau_indiv_new)):\n",
    "            #theta_est[n, :] = np.hstack((n, theta.pi, theta.mu, theta.sigma))\n",
    "            pi_est[n, :] = theta.pi.copy()\n",
    "            mu_est[n, :, :] = theta.mu.copy()\n",
    "            sigma_est[n, :, :, :] = theta.sigma.copy()\n",
    "            continue\n",
    "        \n",
    "        #if ( np.any(np.isnan(tau_indiv_new)) | (np.linalg.norm(s_indiv_new - s.s2) >= gamma) ):\n",
    "        #    theta_est[k+1, :] = np.hstack((k, theta0.pi, theta.mu, theta0.sigma))\n",
    "        #    continue\n",
    "        #print(tau_indiv_new)   \n",
    "        # update the statistics\n",
    "        s.s1 += rho[n] * (tau_indiv_new - s.s1)\n",
    "        s.s2 += rho[n] * (s2_indiv_new - s.s2)\n",
    "        s.s3 += rho[n] * (s3_indiv_new - s.s3)\n",
    "        \n",
    "        # M-step\n",
    "        theta.pi[:], theta.mu[:], theta.sigma[:] = step_M(s, 1)\n",
    "        #theta_est[n+1, :] = np.hstack((n, theta.pi, theta.mu, theta.sigma))\n",
    "        pi_est[n, :] = theta.pi.copy()\n",
    "        mu_est[n, :, :] = theta.mu.copy()\n",
    "        sigma_est[n, :, :, :] = theta.sigma.copy()\n",
    "        \n",
    "    #return theta_est\n",
    "    return pi_est, mu_est, sigma_est"
   ]
  },
  {
   "cell_type": "code",
   "execution_count": 25,
   "metadata": {},
   "outputs": [],
   "source": [
    "def sra(X, theta0, rho, gamma, t_start=50):\n",
    "    K = len(theta0.mu)\n",
    "    N = X.shape[0]\n",
    "    D = X.shape[1]\n",
    "    \n",
    "    #theta_est = np.zeros((N+1, 3*K+1))\n",
    "    #theta_est[0, :] = np.hstack((0, theta0.pi, theta0.mu, theta0.sigma))\n",
    "    pi_est = np.zeros((N, K, 1))\n",
    "    mu_est = np.zeros((N, K, D))\n",
    "    sigma_est = np.zeros((N, K, D, D))\n",
    "    theta = deepcopy(theta0)\n",
    "    \n",
    "    s = SuffStatGMM(K, D)\n",
    "    \n",
    "    # initialization\n",
    "    tau = compute_tau(X[:10, :], theta)\n",
    "    #s.s1[:], s.s2[:] = compute_stat(X[:10, :], tau)\n",
    "    s.s1[:], s.s2[:], s.s3[:] = compute_stat(X[:10, :], tau)\n",
    "    \n",
    "    #s.s1[:] = theta0.pi\n",
    "    #s.s2[:] = theta0.mu\n",
    "    #s.s3[:] = theta0.sigma\n",
    "    \n",
    "    inds = np.arange(N)\n",
    "    \n",
    "    for n in tqdm.tqdm(range(N)):\n",
    "        ind_n = inds[n]\n",
    "        \n",
    "        tau_indiv_new = compute_tau(X[ind_n, :].reshape(1, -1), theta).reshape(-1, 1)\n",
    "        #print('tau_indiv_new:', tau_indiv_new)\n",
    "        s2_indiv_new = np.outer(tau_indiv_new, X[ind_n, :])\n",
    "        #print('s2_indiv_new:', s2_indiv_new)\n",
    "        #s3_indiv_new = np.outer(X[ind_n, :], X[ind_n, :]) * tau_indiv_new\n",
    "        s3_indiv_new = np.einsum('k,ij->kij', tau_indiv_new.ravel(), np.outer(X[ind_n, :], X[ind_n, :]))\n",
    "        #print('s3_indiv_new - s.s3:', s3_indiv_new - s.s3)\n",
    "        \n",
    "        #print(\"np.linalg.norm(s2_indiv_new - s.s2) >= gamma\", np.linalg.norm(s2_indiv_new - s.s2))\n",
    "        #if ( np.any(np.isnan(tau_indiv_new)) | (np.linalg.norm(s2_indiv_new - s.s2) >= gamma) | (np.linalg.norm(s3_indiv_new - s.s3) >= gamma) ):\n",
    "        if ( np.any(np.isnan(tau_indiv_new)) ) | ( (n >= t_start) &  (np.linalg.norm(s2_indiv_new - s.s2) >= gamma) ):\n",
    "            pi_est[n, :] = theta.pi\n",
    "            mu_est[n, :, :] = theta.mu\n",
    "            sigma_est[n, :, :, :] = theta.sigma\n",
    "            continue\n",
    "            \n",
    "        # update the statistics\n",
    "        #print('s.s1:', s.s1)\n",
    "        s.s1 += rho[n] * (tau_indiv_new - s.s1)\n",
    "        s.s2 += rho[n] * (s2_indiv_new - s.s2)\n",
    "        s.s3 += rho[n] * (s3_indiv_new - s.s3)\n",
    "        \n",
    "        #print('n =', n, ': paramters updated.')\n",
    "        \n",
    "        # M-step\n",
    "        theta.pi[:], theta.mu[:], theta.sigma[:] = step_M(s, X[ind_n, :])\n",
    "        #theta_est[n+1, :] = np.hstack((n, theta.pi, theta.mu, theta.sigma))\n",
    "        #print('theta.pi:', theta.pi)\n",
    "        #print('theta.mu:', theta.mu)\n",
    "        #print('theta.sigma:', theta.sigma)\n",
    "        pi_est[n, :] = theta.pi.copy()\n",
    "        mu_est[n, :, :] = theta.mu.copy()\n",
    "        sigma_est[n, :, :, :] = theta.sigma.copy()\n",
    "\n",
    "    return pi_est, mu_est, sigma_est"
   ]
  },
  {
   "cell_type": "code",
   "execution_count": 26,
   "metadata": {},
   "outputs": [],
   "source": [
    "def generate_data(N, pi, mu, sigma):\n",
    "    D = len(pi)\n",
    "    \n",
    "    z_list = np.random.choice(np.arange(D), N, replace=True)\n",
    "    \n",
    "    X = np.zeros((N, D))\n",
    "    for i, z in enumerate(z_list):\n",
    "        X_i = np.random.multivariate_normal(mu[z, :], sigma[z, :, :])\n",
    "        X[i, :] = X_i\n",
    "    \n",
    "    return X"
   ]
  },
  {
   "cell_type": "code",
   "execution_count": 27,
   "metadata": {},
   "outputs": [],
   "source": [
    "outdir = './output/real/thyroid'\n",
    "\n",
    "if not os.path.exists(outdir):\n",
    "    os.makedirs(outdir)"
   ]
  },
  {
   "cell_type": "markdown",
   "metadata": {},
   "source": [
    "## thyroid dataset"
   ]
  },
  {
   "cell_type": "code",
   "execution_count": 28,
   "metadata": {},
   "outputs": [],
   "source": [
    "from scipy.io import loadmat"
   ]
  },
  {
   "cell_type": "code",
   "execution_count": 29,
   "metadata": {},
   "outputs": [],
   "source": [
    "data = loadmat('data/thyroid.mat')\n",
    "X = data['X']\n",
    "y = data['y']"
   ]
  },
  {
   "cell_type": "code",
   "execution_count": 30,
   "metadata": {},
   "outputs": [
    {
     "data": {
      "text/plain": [
       "((3772, 6), (3772, 1))"
      ]
     },
     "execution_count": 30,
     "metadata": {},
     "output_type": "execute_result"
    }
   ],
   "source": [
    "X.shape, y.shape"
   ]
  },
  {
   "cell_type": "code",
   "execution_count": 31,
   "metadata": {},
   "outputs": [
    {
     "data": {
      "image/png": "[encoded data removed]",
      "text/plain": [
       "<Figure size 2400x1600 with 6 Axes>"
      ]
     },
     "metadata": {
      "needs_background": "light"
     },
     "output_type": "display_data"
    }
   ],
   "source": [
    "fig, axes = plt.subplots(6, 1, sharex=True, figsize=(12, 8), dpi=200)\n",
    "\n",
    "axes[0].plot(X[:, 0])\n",
    "axes[0].set_ylabel(r'$y_{t}^{1}$', fontsize=16)\n",
    "axes[0].xaxis.set_tick_params(which='both', labelbottom=True)\n",
    "axes[0].tick_params(labelsize=16)\n",
    "\n",
    "axes[1].plot(X[:, 1])\n",
    "axes[1].set_ylabel(r'$y_{t}^{2}$', fontsize=16)\n",
    "axes[1].xaxis.set_tick_params(which='both', labelbottom=True)\n",
    "axes[1].tick_params(labelsize=16)\n",
    "\n",
    "axes[2].plot(X[:, 2])\n",
    "axes[2].set_ylabel(r'$y_{t}^{3}$', fontsize=16)\n",
    "axes[2].xaxis.set_tick_params(which='both', labelbottom=True)\n",
    "axes[2].tick_params(labelsize=16)\n",
    "\n",
    "axes[3].plot(X[:, 3])\n",
    "axes[3].set_ylabel(r'$y_{t}^{4}$', fontsize=16)\n",
    "axes[3].xaxis.set_tick_params(which='both', labelbottom=True)\n",
    "axes[3].tick_params(labelsize=16)\n",
    "\n",
    "axes[4].plot(X[:, 4])\n",
    "axes[4].set_ylabel(r'$y_{t}^{5}$', fontsize=16)\n",
    "axes[4].xaxis.set_tick_params(which='both', labelbottom=True)\n",
    "axes[4].tick_params(labelsize=16)\n",
    "\n",
    "axes[5].plot(X[:, 5])\n",
    "axes[5].set_xlabel('time', fontsize=16)\n",
    "axes[5].set_ylabel(r'$y_{t}^{6}$', fontsize=16)\n",
    "axes[5].xaxis.set_tick_params(which='both', labelbottom=True)\n",
    "axes[5].tick_params(labelsize=16)\n",
    "\n",
    "for i in range(len(y)):\n",
    "    if y[i] == 1:\n",
    "        axes[0].axvline(i, linestyle='dashed', color='red', zorder=0)\n",
    "        axes[1].axvline(i, linestyle='dashed', color='red', zorder=0)\n",
    "        axes[2].axvline(i, linestyle='dashed', color='red', zorder=0)\n",
    "        axes[3].axvline(i, linestyle='dashed', color='red', zorder=0)\n",
    "        axes[4].axvline(i, linestyle='dashed', color='red', zorder=0)\n",
    "        axes[5].axvline(i, linestyle='dashed', color='red', zorder=0)\n",
    "        \n",
    "plt.tight_layout()\n",
    "plt.savefig(os.path.join(outdir, 'plot_thyroid.pdf'), bbox_inches='tight', dpi=200)"
   ]
  },
  {
   "cell_type": "code",
   "execution_count": 32,
   "metadata": {},
   "outputs": [
    {
     "data": {
      "text/plain": [
       "array([  20,   28,  106,  116,  117,  148,  209,  290,  388,  407,  430,\n",
       "        518,  520,  545,  569,  601,  640,  687,  795,  839,  861,  965,\n",
       "       1041, 1043, 1058, 1143, 1210, 1213, 1228, 1269, 1270, 1276, 1337,\n",
       "       1466, 1469, 1501, 1525, 1621, 1634, 1660, 1706, 1707, 1778, 1791,\n",
       "       1809, 1837, 1854, 1868, 1883, 1908, 1917, 2076, 2132, 2137, 2210,\n",
       "       2237, 2299, 2340, 2357, 2375, 2383, 2445, 2504, 2516, 2589, 2602,\n",
       "       2629, 2632, 2646, 2703, 2704, 2729, 2775, 2932, 2938, 2946, 3007,\n",
       "       3076, 3148, 3165, 3223, 3275, 3276, 3430, 3477, 3513, 3519, 3551,\n",
       "       3563, 3566, 3590, 3626, 3680])"
      ]
     },
     "execution_count": 32,
     "metadata": {},
     "output_type": "execute_result"
    }
   ],
   "source": [
    "np.where(y==1)[0] + 1"
   ]
  },
  {
   "cell_type": "markdown",
   "metadata": {},
   "source": [
    "## SDEM"
   ]
  },
  {
   "cell_type": "code",
   "execution_count": 33,
   "metadata": {},
   "outputs": [],
   "source": [
    "def calc_scores_sdem(X, r, k, alpha=1.0, seed=0):\n",
    "    np.random.seed(seed)\n",
    "    rho_const = np.repeat([r], X.shape[0])\n",
    "    sdem = SDEM(rho_const, alpha, n_components=k)\n",
    "\n",
    "    sdem.fit(X[:10, :])\n",
    "    #sdem.weights_ = np.repeat([1/k], k)\n",
    "    #sdem.means_ = np.hstack([ \n",
    "    #                    np.random.uniform(np.min(X[:2000, col]), np.max(X[:2000, col]), k).reshape(-1, 1)\n",
    "    #                    for col in range(X.shape[1])\n",
    "    #                ])\n",
    "    #sdem.covariances_ = np.stack([np.diag((X[:2000, :].max(axis=0) - X[:2000, :].min(axis=0))/10) for _ in k_list])\n",
    "\n",
    "    for t in tqdm.tqdm(range(X.shape[0])):\n",
    "        sdem.update(X[t, :])\n",
    "\n",
    "    pi_est = np.array(sdem.pi_list)\n",
    "    mu_est = np.array(sdem.means_list)\n",
    "    sigma_est = np.array(sdem.covariances_list)\n",
    "    \n",
    "    anom_scores = [np.nan] * 1000\n",
    "\n",
    "    n_cluster = pi_est.shape[1]\n",
    "    #anom_scores = []\n",
    "    for t in range(1000, pi_est.shape[0]):\n",
    "        #print('t =', t)\n",
    "        p = np.zeros(n_cluster)\n",
    "        for i in range(n_cluster):\n",
    "            #print(sigma_est[t-1, i, :, :])\n",
    "            p_i = pi_est[t-1, i] * multivariate_normal(mu_est[t-1, i, :], sigma_est[t-1, i, :, :]).pdf(X[t, :])\n",
    "            #except:\n",
    "            #    print(nearPD(sigma_est[t-1, i, :, :]))\n",
    "            #    p_i = pi_est[t-1, i] * multivariate_normal(mu_est[t-1, i, :], nearPD(sigma_est[t-1, i, :, :])).pdf(X[t, :])\n",
    "            p[i] = p_i\n",
    "        p_tot = np.sum(p)\n",
    "        if p_tot >= 1e-16:\n",
    "            anom_scores.append(-np.log(p_tot))\n",
    "        else:\n",
    "            anom_scores.append(-np.log(-1.0/np.finfo(np.float).min))\n",
    "    anom_scores = np.array(anom_scores)\n",
    "    \n",
    "    return anom_scores"
   ]
  },
  {
   "cell_type": "code",
   "execution_count": 34,
   "metadata": {},
   "outputs": [
    {
     "name": "stderr",
     "output_type": "stream",
     "text": [
      "100%|██████████| 3772/3772 [00:00<00:00, 4161.48it/s]\n",
      "/Users/shi-fukushima/.pyenv/versions/anaconda3-5.3.1/lib/python3.7/site-packages/ipykernel_launcher.py:39: DeprecationWarning: `np.float` is a deprecated alias for the builtin `float`. To silence this warning, use `float` by itself. Doing this will not modify any behavior and is safe. If you specifically wanted the numpy scalar type, use `np.float64` here.\n",
      "Deprecated in NumPy 1.20; for more details and guidance: https://numpy.org/devdocs/release/1.20.0-notes.html#deprecations\n",
      "100%|██████████| 3772/3772 [00:01<00:00, 3447.66it/s]\n",
      "/Users/shi-fukushima/.pyenv/versions/anaconda3-5.3.1/lib/python3.7/site-packages/ipykernel_launcher.py:39: DeprecationWarning: `np.float` is a deprecated alias for the builtin `float`. To silence this warning, use `float` by itself. Doing this will not modify any behavior and is safe. If you specifically wanted the numpy scalar type, use `np.float64` here.\n",
      "Deprecated in NumPy 1.20; for more details and guidance: https://numpy.org/devdocs/release/1.20.0-notes.html#deprecations\n",
      "100%|██████████| 3772/3772 [00:01<00:00, 3116.82it/s]\n",
      "100%|██████████| 3772/3772 [00:00<00:00, 3874.35it/s]\n",
      "/Users/shi-fukushima/.pyenv/versions/anaconda3-5.3.1/lib/python3.7/site-packages/ipykernel_launcher.py:39: DeprecationWarning: `np.float` is a deprecated alias for the builtin `float`. To silence this warning, use `float` by itself. Doing this will not modify any behavior and is safe. If you specifically wanted the numpy scalar type, use `np.float64` here.\n",
      "Deprecated in NumPy 1.20; for more details and guidance: https://numpy.org/devdocs/release/1.20.0-notes.html#deprecations\n",
      "100%|██████████| 3772/3772 [00:01<00:00, 3619.13it/s]\n",
      "/Users/shi-fukushima/.pyenv/versions/anaconda3-5.3.1/lib/python3.7/site-packages/ipykernel_launcher.py:39: DeprecationWarning: `np.float` is a deprecated alias for the builtin `float`. To silence this warning, use `float` by itself. Doing this will not modify any behavior and is safe. If you specifically wanted the numpy scalar type, use `np.float64` here.\n",
      "Deprecated in NumPy 1.20; for more details and guidance: https://numpy.org/devdocs/release/1.20.0-notes.html#deprecations\n",
      "100%|██████████| 3772/3772 [00:01<00:00, 3072.03it/s]\n",
      "/Users/shi-fukushima/.pyenv/versions/anaconda3-5.3.1/lib/python3.7/site-packages/ipykernel_launcher.py:39: DeprecationWarning: `np.float` is a deprecated alias for the builtin `float`. To silence this warning, use `float` by itself. Doing this will not modify any behavior and is safe. If you specifically wanted the numpy scalar type, use `np.float64` here.\n",
      "Deprecated in NumPy 1.20; for more details and guidance: https://numpy.org/devdocs/release/1.20.0-notes.html#deprecations\n",
      "100%|██████████| 3772/3772 [00:00<00:00, 4265.90it/s]\n",
      "/Users/shi-fukushima/.pyenv/versions/anaconda3-5.3.1/lib/python3.7/site-packages/ipykernel_launcher.py:39: DeprecationWarning: `np.float` is a deprecated alias for the builtin `float`. To silence this warning, use `float` by itself. Doing this will not modify any behavior and is safe. If you specifically wanted the numpy scalar type, use `np.float64` here.\n",
      "Deprecated in NumPy 1.20; for more details and guidance: https://numpy.org/devdocs/release/1.20.0-notes.html#deprecations\n",
      "100%|██████████| 3772/3772 [00:01<00:00, 3549.13it/s]\n",
      "/Users/shi-fukushima/.pyenv/versions/anaconda3-5.3.1/lib/python3.7/site-packages/ipykernel_launcher.py:39: DeprecationWarning: `np.float` is a deprecated alias for the builtin `float`. To silence this warning, use `float` by itself. Doing this will not modify any behavior and is safe. If you specifically wanted the numpy scalar type, use `np.float64` here.\n",
      "Deprecated in NumPy 1.20; for more details and guidance: https://numpy.org/devdocs/release/1.20.0-notes.html#deprecations\n",
      "100%|██████████| 3772/3772 [00:01<00:00, 3121.52it/s]\n",
      "/Users/shi-fukushima/.pyenv/versions/anaconda3-5.3.1/lib/python3.7/site-packages/ipykernel_launcher.py:39: DeprecationWarning: `np.float` is a deprecated alias for the builtin `float`. To silence this warning, use `float` by itself. Doing this will not modify any behavior and is safe. If you specifically wanted the numpy scalar type, use `np.float64` here.\n",
      "Deprecated in NumPy 1.20; for more details and guidance: https://numpy.org/devdocs/release/1.20.0-notes.html#deprecations\n",
      "100%|██████████| 3772/3772 [00:00<00:00, 4283.68it/s]\n",
      "/Users/shi-fukushima/.pyenv/versions/anaconda3-5.3.1/lib/python3.7/site-packages/ipykernel_launcher.py:39: DeprecationWarning: `np.float` is a deprecated alias for the builtin `float`. To silence this warning, use `float` by itself. Doing this will not modify any behavior and is safe. If you specifically wanted the numpy scalar type, use `np.float64` here.\n",
      "Deprecated in NumPy 1.20; for more details and guidance: https://numpy.org/devdocs/release/1.20.0-notes.html#deprecations\n",
      "100%|██████████| 3772/3772 [00:01<00:00, 3488.36it/s]\n",
      "/Users/shi-fukushima/.pyenv/versions/anaconda3-5.3.1/lib/python3.7/site-packages/ipykernel_launcher.py:39: DeprecationWarning: `np.float` is a deprecated alias for the builtin `float`. To silence this warning, use `float` by itself. Doing this will not modify any behavior and is safe. If you specifically wanted the numpy scalar type, use `np.float64` here.\n",
      "Deprecated in NumPy 1.20; for more details and guidance: https://numpy.org/devdocs/release/1.20.0-notes.html#deprecations\n",
      "100%|██████████| 3772/3772 [00:01<00:00, 3062.85it/s]\n",
      "/Users/shi-fukushima/.pyenv/versions/anaconda3-5.3.1/lib/python3.7/site-packages/ipykernel_launcher.py:39: DeprecationWarning: `np.float` is a deprecated alias for the builtin `float`. To silence this warning, use `float` by itself. Doing this will not modify any behavior and is safe. If you specifically wanted the numpy scalar type, use `np.float64` here.\n",
      "Deprecated in NumPy 1.20; for more details and guidance: https://numpy.org/devdocs/release/1.20.0-notes.html#deprecations\n",
      "100%|██████████| 3772/3772 [00:00<00:00, 3824.18it/s]\n",
      "/Users/shi-fukushima/.pyenv/versions/anaconda3-5.3.1/lib/python3.7/site-packages/ipykernel_launcher.py:39: DeprecationWarning: `np.float` is a deprecated alias for the builtin `float`. To silence this warning, use `float` by itself. Doing this will not modify any behavior and is safe. If you specifically wanted the numpy scalar type, use `np.float64` here.\n",
      "Deprecated in NumPy 1.20; for more details and guidance: https://numpy.org/devdocs/release/1.20.0-notes.html#deprecations\n",
      "100%|██████████| 3772/3772 [00:01<00:00, 3496.56it/s]\n",
      "/Users/shi-fukushima/.pyenv/versions/anaconda3-5.3.1/lib/python3.7/site-packages/ipykernel_launcher.py:39: DeprecationWarning: `np.float` is a deprecated alias for the builtin `float`. To silence this warning, use `float` by itself. Doing this will not modify any behavior and is safe. If you specifically wanted the numpy scalar type, use `np.float64` here.\n",
      "Deprecated in NumPy 1.20; for more details and guidance: https://numpy.org/devdocs/release/1.20.0-notes.html#deprecations\n",
      "100%|██████████| 3772/3772 [00:01<00:00, 3129.81it/s]\n",
      "100%|██████████| 3772/3772 [00:00<00:00, 4051.23it/s]\n",
      "/Users/shi-fukushima/.pyenv/versions/anaconda3-5.3.1/lib/python3.7/site-packages/ipykernel_launcher.py:39: DeprecationWarning: `np.float` is a deprecated alias for the builtin `float`. To silence this warning, use `float` by itself. Doing this will not modify any behavior and is safe. If you specifically wanted the numpy scalar type, use `np.float64` here.\n",
      "Deprecated in NumPy 1.20; for more details and guidance: https://numpy.org/devdocs/release/1.20.0-notes.html#deprecations\n",
      "100%|██████████| 3772/3772 [00:01<00:00, 3531.80it/s]\n",
      "/Users/shi-fukushima/.pyenv/versions/anaconda3-5.3.1/lib/python3.7/site-packages/ipykernel_launcher.py:39: DeprecationWarning: `np.float` is a deprecated alias for the builtin `float`. To silence this warning, use `float` by itself. Doing this will not modify any behavior and is safe. If you specifically wanted the numpy scalar type, use `np.float64` here.\n",
      "Deprecated in NumPy 1.20; for more details and guidance: https://numpy.org/devdocs/release/1.20.0-notes.html#deprecations\n",
      "100%|██████████| 3772/3772 [00:01<00:00, 2992.47it/s]\n",
      "/Users/shi-fukushima/.pyenv/versions/anaconda3-5.3.1/lib/python3.7/site-packages/ipykernel_launcher.py:39: DeprecationWarning: `np.float` is a deprecated alias for the builtin `float`. To silence this warning, use `float` by itself. Doing this will not modify any behavior and is safe. If you specifically wanted the numpy scalar type, use `np.float64` here.\n",
      "Deprecated in NumPy 1.20; for more details and guidance: https://numpy.org/devdocs/release/1.20.0-notes.html#deprecations\n",
      "100%|██████████| 3772/3772 [00:00<00:00, 4054.17it/s]\n",
      "/Users/shi-fukushima/.pyenv/versions/anaconda3-5.3.1/lib/python3.7/site-packages/ipykernel_launcher.py:39: DeprecationWarning: `np.float` is a deprecated alias for the builtin `float`. To silence this warning, use `float` by itself. Doing this will not modify any behavior and is safe. If you specifically wanted the numpy scalar type, use `np.float64` here.\n",
      "Deprecated in NumPy 1.20; for more details and guidance: https://numpy.org/devdocs/release/1.20.0-notes.html#deprecations\n",
      "100%|██████████| 3772/3772 [00:01<00:00, 3482.28it/s]\n",
      "/Users/shi-fukushima/.pyenv/versions/anaconda3-5.3.1/lib/python3.7/site-packages/ipykernel_launcher.py:39: DeprecationWarning: `np.float` is a deprecated alias for the builtin `float`. To silence this warning, use `float` by itself. Doing this will not modify any behavior and is safe. If you specifically wanted the numpy scalar type, use `np.float64` here.\n",
      "Deprecated in NumPy 1.20; for more details and guidance: https://numpy.org/devdocs/release/1.20.0-notes.html#deprecations\n",
      "100%|██████████| 3772/3772 [00:01<00:00, 3157.64it/s]\n",
      "/Users/shi-fukushima/.pyenv/versions/anaconda3-5.3.1/lib/python3.7/site-packages/ipykernel_launcher.py:39: DeprecationWarning: `np.float` is a deprecated alias for the builtin `float`. To silence this warning, use `float` by itself. Doing this will not modify any behavior and is safe. If you specifically wanted the numpy scalar type, use `np.float64` here.\n",
      "Deprecated in NumPy 1.20; for more details and guidance: https://numpy.org/devdocs/release/1.20.0-notes.html#deprecations\n",
      "100%|██████████| 3772/3772 [00:00<00:00, 4060.39it/s]\n",
      "/Users/shi-fukushima/.pyenv/versions/anaconda3-5.3.1/lib/python3.7/site-packages/ipykernel_launcher.py:39: DeprecationWarning: `np.float` is a deprecated alias for the builtin `float`. To silence this warning, use `float` by itself. Doing this will not modify any behavior and is safe. If you specifically wanted the numpy scalar type, use `np.float64` here.\n",
      "Deprecated in NumPy 1.20; for more details and guidance: https://numpy.org/devdocs/release/1.20.0-notes.html#deprecations\n",
      "100%|██████████| 3772/3772 [00:01<00:00, 3461.89it/s]\n",
      "/Users/shi-fukushima/.pyenv/versions/anaconda3-5.3.1/lib/python3.7/site-packages/ipykernel_launcher.py:39: DeprecationWarning: `np.float` is a deprecated alias for the builtin `float`. To silence this warning, use `float` by itself. Doing this will not modify any behavior and is safe. If you specifically wanted the numpy scalar type, use `np.float64` here.\n",
      "Deprecated in NumPy 1.20; for more details and guidance: https://numpy.org/devdocs/release/1.20.0-notes.html#deprecations\n",
      "100%|██████████| 3772/3772 [00:01<00:00, 3082.44it/s]\n",
      "/Users/shi-fukushima/.pyenv/versions/anaconda3-5.3.1/lib/python3.7/site-packages/ipykernel_launcher.py:39: DeprecationWarning: `np.float` is a deprecated alias for the builtin `float`. To silence this warning, use `float` by itself. Doing this will not modify any behavior and is safe. If you specifically wanted the numpy scalar type, use `np.float64` here.\n",
      "Deprecated in NumPy 1.20; for more details and guidance: https://numpy.org/devdocs/release/1.20.0-notes.html#deprecations\n",
      "100%|██████████| 3772/3772 [00:00<00:00, 4196.53it/s]\n",
      "/Users/shi-fukushima/.pyenv/versions/anaconda3-5.3.1/lib/python3.7/site-packages/ipykernel_launcher.py:39: DeprecationWarning: `np.float` is a deprecated alias for the builtin `float`. To silence this warning, use `float` by itself. Doing this will not modify any behavior and is safe. If you specifically wanted the numpy scalar type, use `np.float64` here.\n",
      "Deprecated in NumPy 1.20; for more details and guidance: https://numpy.org/devdocs/release/1.20.0-notes.html#deprecations\n",
      "100%|██████████| 3772/3772 [00:01<00:00, 3452.00it/s]\n",
      "/Users/shi-fukushima/.pyenv/versions/anaconda3-5.3.1/lib/python3.7/site-packages/ipykernel_launcher.py:39: DeprecationWarning: `np.float` is a deprecated alias for the builtin `float`. To silence this warning, use `float` by itself. Doing this will not modify any behavior and is safe. If you specifically wanted the numpy scalar type, use `np.float64` here.\n",
      "Deprecated in NumPy 1.20; for more details and guidance: https://numpy.org/devdocs/release/1.20.0-notes.html#deprecations\n",
      "100%|██████████| 3772/3772 [00:01<00:00, 2984.82it/s]\n",
      "100%|██████████| 3772/3772 [00:00<00:00, 4159.79it/s]\n",
      "/Users/shi-fukushima/.pyenv/versions/anaconda3-5.3.1/lib/python3.7/site-packages/ipykernel_launcher.py:39: DeprecationWarning: `np.float` is a deprecated alias for the builtin `float`. To silence this warning, use `float` by itself. Doing this will not modify any behavior and is safe. If you specifically wanted the numpy scalar type, use `np.float64` here.\n",
      "Deprecated in NumPy 1.20; for more details and guidance: https://numpy.org/devdocs/release/1.20.0-notes.html#deprecations\n",
      "100%|██████████| 3772/3772 [00:01<00:00, 3428.19it/s]\n",
      "/Users/shi-fukushima/.pyenv/versions/anaconda3-5.3.1/lib/python3.7/site-packages/ipykernel_launcher.py:39: DeprecationWarning: `np.float` is a deprecated alias for the builtin `float`. To silence this warning, use `float` by itself. Doing this will not modify any behavior and is safe. If you specifically wanted the numpy scalar type, use `np.float64` here.\n",
      "Deprecated in NumPy 1.20; for more details and guidance: https://numpy.org/devdocs/release/1.20.0-notes.html#deprecations\n",
      "100%|██████████| 3772/3772 [00:01<00:00, 2985.71it/s]\n",
      "/Users/shi-fukushima/.pyenv/versions/anaconda3-5.3.1/lib/python3.7/site-packages/ipykernel_launcher.py:39: DeprecationWarning: `np.float` is a deprecated alias for the builtin `float`. To silence this warning, use `float` by itself. Doing this will not modify any behavior and is safe. If you specifically wanted the numpy scalar type, use `np.float64` here.\n",
      "Deprecated in NumPy 1.20; for more details and guidance: https://numpy.org/devdocs/release/1.20.0-notes.html#deprecations\n",
      "100%|██████████| 3772/3772 [00:00<00:00, 4134.68it/s]\n",
      "/Users/shi-fukushima/.pyenv/versions/anaconda3-5.3.1/lib/python3.7/site-packages/ipykernel_launcher.py:39: DeprecationWarning: `np.float` is a deprecated alias for the builtin `float`. To silence this warning, use `float` by itself. Doing this will not modify any behavior and is safe. If you specifically wanted the numpy scalar type, use `np.float64` here.\n",
      "Deprecated in NumPy 1.20; for more details and guidance: https://numpy.org/devdocs/release/1.20.0-notes.html#deprecations\n",
      "100%|██████████| 3772/3772 [00:01<00:00, 3349.27it/s]\n",
      "/Users/shi-fukushima/.pyenv/versions/anaconda3-5.3.1/lib/python3.7/site-packages/ipykernel_launcher.py:39: DeprecationWarning: `np.float` is a deprecated alias for the builtin `float`. To silence this warning, use `float` by itself. Doing this will not modify any behavior and is safe. If you specifically wanted the numpy scalar type, use `np.float64` here.\n",
      "Deprecated in NumPy 1.20; for more details and guidance: https://numpy.org/devdocs/release/1.20.0-notes.html#deprecations\n",
      "100%|██████████| 3772/3772 [00:01<00:00, 3040.64it/s]\n",
      "/Users/shi-fukushima/.pyenv/versions/anaconda3-5.3.1/lib/python3.7/site-packages/ipykernel_launcher.py:39: DeprecationWarning: `np.float` is a deprecated alias for the builtin `float`. To silence this warning, use `float` by itself. Doing this will not modify any behavior and is safe. If you specifically wanted the numpy scalar type, use `np.float64` here.\n",
      "Deprecated in NumPy 1.20; for more details and guidance: https://numpy.org/devdocs/release/1.20.0-notes.html#deprecations\n",
      "100%|██████████| 3772/3772 [00:00<00:00, 4069.02it/s]\n",
      "/Users/shi-fukushima/.pyenv/versions/anaconda3-5.3.1/lib/python3.7/site-packages/ipykernel_launcher.py:39: DeprecationWarning: `np.float` is a deprecated alias for the builtin `float`. To silence this warning, use `float` by itself. Doing this will not modify any behavior and is safe. If you specifically wanted the numpy scalar type, use `np.float64` here.\n",
      "Deprecated in NumPy 1.20; for more details and guidance: https://numpy.org/devdocs/release/1.20.0-notes.html#deprecations\n",
      "100%|██████████| 3772/3772 [00:01<00:00, 3434.09it/s]\n",
      "/Users/shi-fukushima/.pyenv/versions/anaconda3-5.3.1/lib/python3.7/site-packages/ipykernel_launcher.py:39: DeprecationWarning: `np.float` is a deprecated alias for the builtin `float`. To silence this warning, use `float` by itself. Doing this will not modify any behavior and is safe. If you specifically wanted the numpy scalar type, use `np.float64` here.\n",
      "Deprecated in NumPy 1.20; for more details and guidance: https://numpy.org/devdocs/release/1.20.0-notes.html#deprecations\n",
      "100%|██████████| 3772/3772 [00:01<00:00, 3001.99it/s]\n",
      "/Users/shi-fukushima/.pyenv/versions/anaconda3-5.3.1/lib/python3.7/site-packages/ipykernel_launcher.py:39: DeprecationWarning: `np.float` is a deprecated alias for the builtin `float`. To silence this warning, use `float` by itself. Doing this will not modify any behavior and is safe. If you specifically wanted the numpy scalar type, use `np.float64` here.\n",
      "Deprecated in NumPy 1.20; for more details and guidance: https://numpy.org/devdocs/release/1.20.0-notes.html#deprecations\n",
      "100%|██████████| 3772/3772 [00:00<00:00, 3878.00it/s]\n",
      "/Users/shi-fukushima/.pyenv/versions/anaconda3-5.3.1/lib/python3.7/site-packages/ipykernel_launcher.py:39: DeprecationWarning: `np.float` is a deprecated alias for the builtin `float`. To silence this warning, use `float` by itself. Doing this will not modify any behavior and is safe. If you specifically wanted the numpy scalar type, use `np.float64` here.\n",
      "Deprecated in NumPy 1.20; for more details and guidance: https://numpy.org/devdocs/release/1.20.0-notes.html#deprecations\n",
      "100%|██████████| 3772/3772 [00:01<00:00, 3264.08it/s]\n",
      "100%|██████████| 3772/3772 [00:01<00:00, 2916.31it/s]\n",
      "100%|██████████| 3772/3772 [00:01<00:00, 3690.19it/s]\n",
      "/Users/shi-fukushima/.pyenv/versions/anaconda3-5.3.1/lib/python3.7/site-packages/ipykernel_launcher.py:39: DeprecationWarning: `np.float` is a deprecated alias for the builtin `float`. To silence this warning, use `float` by itself. Doing this will not modify any behavior and is safe. If you specifically wanted the numpy scalar type, use `np.float64` here.\n",
      "Deprecated in NumPy 1.20; for more details and guidance: https://numpy.org/devdocs/release/1.20.0-notes.html#deprecations\n",
      "100%|██████████| 3772/3772 [00:01<00:00, 3408.02it/s]\n",
      "/Users/shi-fukushima/.pyenv/versions/anaconda3-5.3.1/lib/python3.7/site-packages/ipykernel_launcher.py:39: DeprecationWarning: `np.float` is a deprecated alias for the builtin `float`. To silence this warning, use `float` by itself. Doing this will not modify any behavior and is safe. If you specifically wanted the numpy scalar type, use `np.float64` here.\n",
      "Deprecated in NumPy 1.20; for more details and guidance: https://numpy.org/devdocs/release/1.20.0-notes.html#deprecations\n",
      "100%|██████████| 3772/3772 [00:01<00:00, 2852.15it/s]\n",
      "/Users/shi-fukushima/.pyenv/versions/anaconda3-5.3.1/lib/python3.7/site-packages/ipykernel_launcher.py:39: DeprecationWarning: `np.float` is a deprecated alias for the builtin `float`. To silence this warning, use `float` by itself. Doing this will not modify any behavior and is safe. If you specifically wanted the numpy scalar type, use `np.float64` here.\n",
      "Deprecated in NumPy 1.20; for more details and guidance: https://numpy.org/devdocs/release/1.20.0-notes.html#deprecations\n",
      "100%|██████████| 3772/3772 [00:00<00:00, 4085.86it/s]\n",
      "/Users/shi-fukushima/.pyenv/versions/anaconda3-5.3.1/lib/python3.7/site-packages/ipykernel_launcher.py:39: DeprecationWarning: `np.float` is a deprecated alias for the builtin `float`. To silence this warning, use `float` by itself. Doing this will not modify any behavior and is safe. If you specifically wanted the numpy scalar type, use `np.float64` here.\n",
      "Deprecated in NumPy 1.20; for more details and guidance: https://numpy.org/devdocs/release/1.20.0-notes.html#deprecations\n",
      "100%|██████████| 3772/3772 [00:01<00:00, 3309.99it/s]\n",
      "/Users/shi-fukushima/.pyenv/versions/anaconda3-5.3.1/lib/python3.7/site-packages/ipykernel_launcher.py:39: DeprecationWarning: `np.float` is a deprecated alias for the builtin `float`. To silence this warning, use `float` by itself. Doing this will not modify any behavior and is safe. If you specifically wanted the numpy scalar type, use `np.float64` here.\n",
      "Deprecated in NumPy 1.20; for more details and guidance: https://numpy.org/devdocs/release/1.20.0-notes.html#deprecations\n",
      "100%|██████████| 3772/3772 [00:01<00:00, 2989.36it/s]\n",
      "/Users/shi-fukushima/.pyenv/versions/anaconda3-5.3.1/lib/python3.7/site-packages/ipykernel_launcher.py:39: DeprecationWarning: `np.float` is a deprecated alias for the builtin `float`. To silence this warning, use `float` by itself. Doing this will not modify any behavior and is safe. If you specifically wanted the numpy scalar type, use `np.float64` here.\n",
      "Deprecated in NumPy 1.20; for more details and guidance: https://numpy.org/devdocs/release/1.20.0-notes.html#deprecations\n",
      "100%|██████████| 3772/3772 [00:00<00:00, 3998.38it/s]\n",
      "/Users/shi-fukushima/.pyenv/versions/anaconda3-5.3.1/lib/python3.7/site-packages/ipykernel_launcher.py:39: DeprecationWarning: `np.float` is a deprecated alias for the builtin `float`. To silence this warning, use `float` by itself. Doing this will not modify any behavior and is safe. If you specifically wanted the numpy scalar type, use `np.float64` here.\n",
      "Deprecated in NumPy 1.20; for more details and guidance: https://numpy.org/devdocs/release/1.20.0-notes.html#deprecations\n",
      "100%|██████████| 3772/3772 [00:01<00:00, 3050.54it/s]\n",
      "/Users/shi-fukushima/.pyenv/versions/anaconda3-5.3.1/lib/python3.7/site-packages/ipykernel_launcher.py:39: DeprecationWarning: `np.float` is a deprecated alias for the builtin `float`. To silence this warning, use `float` by itself. Doing this will not modify any behavior and is safe. If you specifically wanted the numpy scalar type, use `np.float64` here.\n",
      "Deprecated in NumPy 1.20; for more details and guidance: https://numpy.org/devdocs/release/1.20.0-notes.html#deprecations\n",
      "100%|██████████| 3772/3772 [00:01<00:00, 2916.04it/s]\n",
      "/Users/shi-fukushima/.pyenv/versions/anaconda3-5.3.1/lib/python3.7/site-packages/ipykernel_launcher.py:39: DeprecationWarning: `np.float` is a deprecated alias for the builtin `float`. To silence this warning, use `float` by itself. Doing this will not modify any behavior and is safe. If you specifically wanted the numpy scalar type, use `np.float64` here.\n",
      "Deprecated in NumPy 1.20; for more details and guidance: https://numpy.org/devdocs/release/1.20.0-notes.html#deprecations\n",
      "100%|██████████| 3772/3772 [00:00<00:00, 4008.40it/s]\n",
      "/Users/shi-fukushima/.pyenv/versions/anaconda3-5.3.1/lib/python3.7/site-packages/ipykernel_launcher.py:39: DeprecationWarning: `np.float` is a deprecated alias for the builtin `float`. To silence this warning, use `float` by itself. Doing this will not modify any behavior and is safe. If you specifically wanted the numpy scalar type, use `np.float64` here.\n",
      "Deprecated in NumPy 1.20; for more details and guidance: https://numpy.org/devdocs/release/1.20.0-notes.html#deprecations\n",
      "100%|██████████| 3772/3772 [00:01<00:00, 3161.08it/s]\n",
      "/Users/shi-fukushima/.pyenv/versions/anaconda3-5.3.1/lib/python3.7/site-packages/ipykernel_launcher.py:39: DeprecationWarning: `np.float` is a deprecated alias for the builtin `float`. To silence this warning, use `float` by itself. Doing this will not modify any behavior and is safe. If you specifically wanted the numpy scalar type, use `np.float64` here.\n",
      "Deprecated in NumPy 1.20; for more details and guidance: https://numpy.org/devdocs/release/1.20.0-notes.html#deprecations\n",
      "100%|██████████| 3772/3772 [00:01<00:00, 2840.33it/s]\n",
      "100%|██████████| 3772/3772 [00:01<00:00, 3537.59it/s]\n",
      "/Users/shi-fukushima/.pyenv/versions/anaconda3-5.3.1/lib/python3.7/site-packages/ipykernel_launcher.py:39: DeprecationWarning: `np.float` is a deprecated alias for the builtin `float`. To silence this warning, use `float` by itself. Doing this will not modify any behavior and is safe. If you specifically wanted the numpy scalar type, use `np.float64` here.\n",
      "Deprecated in NumPy 1.20; for more details and guidance: https://numpy.org/devdocs/release/1.20.0-notes.html#deprecations\n",
      "100%|██████████| 3772/3772 [00:01<00:00, 3373.37it/s]\n",
      "/Users/shi-fukushima/.pyenv/versions/anaconda3-5.3.1/lib/python3.7/site-packages/ipykernel_launcher.py:39: DeprecationWarning: `np.float` is a deprecated alias for the builtin `float`. To silence this warning, use `float` by itself. Doing this will not modify any behavior and is safe. If you specifically wanted the numpy scalar type, use `np.float64` here.\n",
      "Deprecated in NumPy 1.20; for more details and guidance: https://numpy.org/devdocs/release/1.20.0-notes.html#deprecations\n",
      "100%|██████████| 3772/3772 [00:01<00:00, 2887.24it/s]\n",
      "/Users/shi-fukushima/.pyenv/versions/anaconda3-5.3.1/lib/python3.7/site-packages/ipykernel_launcher.py:39: DeprecationWarning: `np.float` is a deprecated alias for the builtin `float`. To silence this warning, use `float` by itself. Doing this will not modify any behavior and is safe. If you specifically wanted the numpy scalar type, use `np.float64` here.\n",
      "Deprecated in NumPy 1.20; for more details and guidance: https://numpy.org/devdocs/release/1.20.0-notes.html#deprecations\n",
      "100%|██████████| 3772/3772 [00:00<00:00, 3862.88it/s]\n",
      "/Users/shi-fukushima/.pyenv/versions/anaconda3-5.3.1/lib/python3.7/site-packages/ipykernel_launcher.py:39: DeprecationWarning: `np.float` is a deprecated alias for the builtin `float`. To silence this warning, use `float` by itself. Doing this will not modify any behavior and is safe. If you specifically wanted the numpy scalar type, use `np.float64` here.\n",
      "Deprecated in NumPy 1.20; for more details and guidance: https://numpy.org/devdocs/release/1.20.0-notes.html#deprecations\n",
      "100%|██████████| 3772/3772 [00:01<00:00, 3214.72it/s]\n",
      "/Users/shi-fukushima/.pyenv/versions/anaconda3-5.3.1/lib/python3.7/site-packages/ipykernel_launcher.py:39: DeprecationWarning: `np.float` is a deprecated alias for the builtin `float`. To silence this warning, use `float` by itself. Doing this will not modify any behavior and is safe. If you specifically wanted the numpy scalar type, use `np.float64` here.\n",
      "Deprecated in NumPy 1.20; for more details and guidance: https://numpy.org/devdocs/release/1.20.0-notes.html#deprecations\n",
      "100%|██████████| 3772/3772 [00:01<00:00, 2758.66it/s]\n",
      "/Users/shi-fukushima/.pyenv/versions/anaconda3-5.3.1/lib/python3.7/site-packages/ipykernel_launcher.py:39: DeprecationWarning: `np.float` is a deprecated alias for the builtin `float`. To silence this warning, use `float` by itself. Doing this will not modify any behavior and is safe. If you specifically wanted the numpy scalar type, use `np.float64` here.\n",
      "Deprecated in NumPy 1.20; for more details and guidance: https://numpy.org/devdocs/release/1.20.0-notes.html#deprecations\n",
      "100%|██████████| 3772/3772 [00:00<00:00, 3916.22it/s]\n",
      "/Users/shi-fukushima/.pyenv/versions/anaconda3-5.3.1/lib/python3.7/site-packages/ipykernel_launcher.py:39: DeprecationWarning: `np.float` is a deprecated alias for the builtin `float`. To silence this warning, use `float` by itself. Doing this will not modify any behavior and is safe. If you specifically wanted the numpy scalar type, use `np.float64` here.\n",
      "Deprecated in NumPy 1.20; for more details and guidance: https://numpy.org/devdocs/release/1.20.0-notes.html#deprecations\n",
      "100%|██████████| 3772/3772 [00:01<00:00, 3158.39it/s]\n",
      "/Users/shi-fukushima/.pyenv/versions/anaconda3-5.3.1/lib/python3.7/site-packages/ipykernel_launcher.py:39: DeprecationWarning: `np.float` is a deprecated alias for the builtin `float`. To silence this warning, use `float` by itself. Doing this will not modify any behavior and is safe. If you specifically wanted the numpy scalar type, use `np.float64` here.\n",
      "Deprecated in NumPy 1.20; for more details and guidance: https://numpy.org/devdocs/release/1.20.0-notes.html#deprecations\n",
      "100%|██████████| 3772/3772 [00:01<00:00, 2769.82it/s]\n",
      "/Users/shi-fukushima/.pyenv/versions/anaconda3-5.3.1/lib/python3.7/site-packages/ipykernel_launcher.py:39: DeprecationWarning: `np.float` is a deprecated alias for the builtin `float`. To silence this warning, use `float` by itself. Doing this will not modify any behavior and is safe. If you specifically wanted the numpy scalar type, use `np.float64` here.\n",
      "Deprecated in NumPy 1.20; for more details and guidance: https://numpy.org/devdocs/release/1.20.0-notes.html#deprecations\n"
     ]
    }
   ],
   "source": [
    "n_trial = 5\n",
    "\n",
    "#r_list = [0.00001, 0.0005, 0.001]\n",
    "#r_list = [0.0001, 0.0005, 0.001, 0.01]\n",
    "r_list = [0.01, 0.03, 0.05, 0.1]\n",
    "k_list = [1, 2, 3]\n",
    "\n",
    "auc_tr_sdem = np.zeros((n_trial, len(r_list), len(k_list)))\n",
    "auc_te_sdem = np.zeros((n_trial, len(r_list), len(k_list)))\n",
    "\n",
    "for n in range(n_trial):\n",
    "    for i, r in enumerate(r_list):\n",
    "        for j, k in enumerate(k_list):\n",
    "            try:\n",
    "                seed = n*n_trial + i*len(r_list) + j\n",
    "                anom_scores = calc_scores_sdem(X, r, k, alpha=1.0, seed=seed)\n",
    "\n",
    "                fpr_tr, tpr_tr, thresholds_tr = roc_curve(y[1000:2000], anom_scores[1000:2000], pos_label=1)\n",
    "                auc_tr_sdem[n, i, j] = auc(fpr_tr, tpr_tr)\n",
    "\n",
    "                fpr_te, tpr_te, thresholds_te = roc_curve(y[2000:], anom_scores[2000:], pos_label=1)\n",
    "                auc_te_sdem[n, i, j] = auc(fpr_te, tpr_te)\n",
    "            except:\n",
    "                n = n + 1\n",
    "                continue"
   ]
  },
  {
   "cell_type": "code",
   "execution_count": 35,
   "metadata": {},
   "outputs": [
    {
     "data": {
      "text/plain": [
       "(0, 0, 0)"
      ]
     },
     "execution_count": 35,
     "metadata": {},
     "output_type": "execute_result"
    }
   ],
   "source": [
    "np.unravel_index(np.argmax(auc_tr_sdem), auc_tr_sdem.shape)"
   ]
  },
  {
   "cell_type": "code",
   "execution_count": 40,
   "metadata": {},
   "outputs": [
    {
     "data": {
      "text/plain": [
       "array([[0.95891189, 0.76616357, 0.        ],\n",
       "       [0.5728648 , 0.57274406, 0.5728648 ],\n",
       "       [0.57380234, 0.57418587, 0.57293938],\n",
       "       [0.57353599, 0.57380589, 0.57255584]])"
      ]
     },
     "execution_count": 40,
     "metadata": {},
     "output_type": "execute_result"
    }
   ],
   "source": [
    "np.mean(auc_tr_sdem, axis=0)"
   ]
  },
  {
   "cell_type": "code",
   "execution_count": 41,
   "metadata": {},
   "outputs": [
    {
     "data": {
      "text/plain": [
       "array([[1.11022302e-16, 3.83081786e-01, 0.00000000e+00],\n",
       "       [4.67742153e-01, 4.67643619e-01, 4.67742153e-01],\n",
       "       [4.68507646e-01, 4.68820933e-01, 4.67804201e-01],\n",
       "       [4.68290177e-01, 4.68510805e-01, 4.67493314e-01]])"
      ]
     },
     "execution_count": 41,
     "metadata": {},
     "output_type": "execute_result"
    }
   ],
   "source": [
    "np.std(auc_tr_sdem, axis=0)"
   ]
  },
  {
   "cell_type": "code",
   "execution_count": 42,
   "metadata": {},
   "outputs": [
    {
     "data": {
      "text/plain": [
       "array([[0.93261767, 0.74718965, 0.        ],\n",
       "       [0.56440958, 0.56388797, 0.56440958],\n",
       "       [0.56640793, 0.56461602, 0.56734517],\n",
       "       [0.56506193, 0.56415084, 0.56666254]])"
      ]
     },
     "execution_count": 42,
     "metadata": {},
     "output_type": "execute_result"
    }
   ],
   "source": [
    "np.mean(auc_te_sdem, axis=0)"
   ]
  },
  {
   "cell_type": "code",
   "execution_count": 43,
   "metadata": {},
   "outputs": [
    {
     "data": {
      "text/plain": [
       "array([[0.        , 0.37359483, 0.        ],\n",
       "       [0.46083849, 0.46041363, 0.46083849],\n",
       "       [0.46247014, 0.46100995, 0.46323642],\n",
       "       [0.46137114, 0.46063024, 0.46268035]])"
      ]
     },
     "execution_count": 43,
     "metadata": {},
     "output_type": "execute_result"
    }
   ],
   "source": [
    "np.std(auc_te_sdem, axis=0)"
   ]
  },
  {
   "cell_type": "code",
   "execution_count": 19,
   "metadata": {},
   "outputs": [
    {
     "data": {
      "text/plain": [
       "0.9669377463688341"
      ]
     },
     "execution_count": 19,
     "metadata": {},
     "output_type": "execute_result"
    }
   ],
   "source": [
    "auc_tr_sdem[0, 1]"
   ]
  },
  {
   "cell_type": "code",
   "execution_count": 20,
   "metadata": {},
   "outputs": [
    {
     "data": {
      "text/plain": [
       "0.9468070465180292"
      ]
     },
     "execution_count": 20,
     "metadata": {},
     "output_type": "execute_result"
    }
   ],
   "source": [
    "auc_te_sdem[0, 1]"
   ]
  },
  {
   "cell_type": "markdown",
   "metadata": {},
   "source": [
    "## IEM"
   ]
  },
  {
   "cell_type": "code",
   "execution_count": 44,
   "metadata": {},
   "outputs": [],
   "source": [
    "def calc_scores_iem(X, k, alpha=1.0, seed=0):\n",
    "    np.random.seed(seed)\n",
    "    rhos = 1.0 / np.arange(1, X.shape[0]+1)\n",
    "    sdem = SDEM(rhos, alpha, n_components=k)\n",
    "\n",
    "    sdem.fit(X[:10, :])\n",
    "    #sdem.weights_ = np.repeat([1/k], k)\n",
    "    #sdem.means_ = np.hstack([ \n",
    "    #                    np.random.uniform(np.min(X[:2000, col]), np.max(X[:2000, col]), k).reshape(-1, 1)\n",
    "    #                    for col in range(X.shape[1])\n",
    "    #                ])\n",
    "    #sdem.covariances_ = np.stack([np.diag((X[:2000, :].max(axis=0) - X[:2000, :].min(axis=0))/10) for _ in k_list])\n",
    "\n",
    "    for t in tqdm.tqdm(range(X.shape[0])):\n",
    "        sdem.update(X[t, :])\n",
    "\n",
    "    pi_est = np.array(sdem.pi_list)\n",
    "    mu_est = np.array(sdem.means_list)\n",
    "    sigma_est = np.array(sdem.covariances_list)\n",
    "    \n",
    "    anom_scores = [np.nan] * 1000\n",
    "\n",
    "    n_cluster = pi_est.shape[1]\n",
    "    #anom_scores = []\n",
    "    for t in range(1000, pi_est.shape[0]):\n",
    "        #print('t =', t)\n",
    "        p = np.zeros(n_cluster)\n",
    "        for i in range(n_cluster):\n",
    "            #print(sigma_est[t-1, i, :, :])\n",
    "            p_i = pi_est[t-1, i] * multivariate_normal(mu_est[t-1, i, :], sigma_est[t-1, i, :, :]).pdf(X[t, :])\n",
    "            #except:\n",
    "            #    print(nearPD(sigma_est[t-1, i, :, :]))\n",
    "            #    p_i = pi_est[t-1, i] * multivariate_normal(mu_est[t-1, i, :], nearPD(sigma_est[t-1, i, :, :])).pdf(X[t, :])\n",
    "            p[i] = p_i\n",
    "        p_tot = np.sum(p)\n",
    "        if p_tot >= 1e-16:\n",
    "            anom_scores.append(-np.log(p_tot))\n",
    "        else:\n",
    "            anom_scores.append(-np.log(-1.0/np.finfo(np.float).min))\n",
    "    anom_scores = np.array(anom_scores)\n",
    "    \n",
    "    return anom_scores"
   ]
  },
  {
   "cell_type": "code",
   "execution_count": 45,
   "metadata": {},
   "outputs": [
    {
     "name": "stderr",
     "output_type": "stream",
     "text": [
      "100%|██████████| 3772/3772 [00:01<00:00, 3604.81it/s]\n",
      "/Users/shi-fukushima/.pyenv/versions/anaconda3-5.3.1/lib/python3.7/site-packages/ipykernel_launcher.py:39: DeprecationWarning: `np.float` is a deprecated alias for the builtin `float`. To silence this warning, use `float` by itself. Doing this will not modify any behavior and is safe. If you specifically wanted the numpy scalar type, use `np.float64` here.\n",
      "Deprecated in NumPy 1.20; for more details and guidance: https://numpy.org/devdocs/release/1.20.0-notes.html#deprecations\n",
      "100%|██████████| 3772/3772 [00:01<00:00, 3622.10it/s]\n",
      "/Users/shi-fukushima/.pyenv/versions/anaconda3-5.3.1/lib/python3.7/site-packages/ipykernel_launcher.py:39: DeprecationWarning: `np.float` is a deprecated alias for the builtin `float`. To silence this warning, use `float` by itself. Doing this will not modify any behavior and is safe. If you specifically wanted the numpy scalar type, use `np.float64` here.\n",
      "Deprecated in NumPy 1.20; for more details and guidance: https://numpy.org/devdocs/release/1.20.0-notes.html#deprecations\n",
      "100%|██████████| 3772/3772 [00:01<00:00, 3232.98it/s]\n",
      "/Users/shi-fukushima/.pyenv/versions/anaconda3-5.3.1/lib/python3.7/site-packages/ipykernel_launcher.py:39: DeprecationWarning: `np.float` is a deprecated alias for the builtin `float`. To silence this warning, use `float` by itself. Doing this will not modify any behavior and is safe. If you specifically wanted the numpy scalar type, use `np.float64` here.\n",
      "Deprecated in NumPy 1.20; for more details and guidance: https://numpy.org/devdocs/release/1.20.0-notes.html#deprecations\n",
      "100%|██████████| 3772/3772 [00:00<00:00, 4093.17it/s]\n",
      "/Users/shi-fukushima/.pyenv/versions/anaconda3-5.3.1/lib/python3.7/site-packages/ipykernel_launcher.py:39: DeprecationWarning: `np.float` is a deprecated alias for the builtin `float`. To silence this warning, use `float` by itself. Doing this will not modify any behavior and is safe. If you specifically wanted the numpy scalar type, use `np.float64` here.\n",
      "Deprecated in NumPy 1.20; for more details and guidance: https://numpy.org/devdocs/release/1.20.0-notes.html#deprecations\n",
      "100%|██████████| 3772/3772 [00:01<00:00, 3541.35it/s]\n",
      "/Users/shi-fukushima/.pyenv/versions/anaconda3-5.3.1/lib/python3.7/site-packages/ipykernel_launcher.py:39: DeprecationWarning: `np.float` is a deprecated alias for the builtin `float`. To silence this warning, use `float` by itself. Doing this will not modify any behavior and is safe. If you specifically wanted the numpy scalar type, use `np.float64` here.\n",
      "Deprecated in NumPy 1.20; for more details and guidance: https://numpy.org/devdocs/release/1.20.0-notes.html#deprecations\n",
      "100%|██████████| 3772/3772 [00:01<00:00, 2697.98it/s]\n",
      "/Users/shi-fukushima/.pyenv/versions/anaconda3-5.3.1/lib/python3.7/site-packages/ipykernel_launcher.py:39: DeprecationWarning: `np.float` is a deprecated alias for the builtin `float`. To silence this warning, use `float` by itself. Doing this will not modify any behavior and is safe. If you specifically wanted the numpy scalar type, use `np.float64` here.\n",
      "Deprecated in NumPy 1.20; for more details and guidance: https://numpy.org/devdocs/release/1.20.0-notes.html#deprecations\n",
      "100%|██████████| 3772/3772 [00:00<00:00, 4170.15it/s]\n",
      "/Users/shi-fukushima/.pyenv/versions/anaconda3-5.3.1/lib/python3.7/site-packages/ipykernel_launcher.py:39: DeprecationWarning: `np.float` is a deprecated alias for the builtin `float`. To silence this warning, use `float` by itself. Doing this will not modify any behavior and is safe. If you specifically wanted the numpy scalar type, use `np.float64` here.\n",
      "Deprecated in NumPy 1.20; for more details and guidance: https://numpy.org/devdocs/release/1.20.0-notes.html#deprecations\n",
      "100%|██████████| 3772/3772 [00:01<00:00, 3552.81it/s]\n",
      "/Users/shi-fukushima/.pyenv/versions/anaconda3-5.3.1/lib/python3.7/site-packages/ipykernel_launcher.py:39: DeprecationWarning: `np.float` is a deprecated alias for the builtin `float`. To silence this warning, use `float` by itself. Doing this will not modify any behavior and is safe. If you specifically wanted the numpy scalar type, use `np.float64` here.\n",
      "Deprecated in NumPy 1.20; for more details and guidance: https://numpy.org/devdocs/release/1.20.0-notes.html#deprecations\n",
      "100%|██████████| 3772/3772 [00:01<00:00, 3050.28it/s]\n",
      "/Users/shi-fukushima/.pyenv/versions/anaconda3-5.3.1/lib/python3.7/site-packages/ipykernel_launcher.py:39: DeprecationWarning: `np.float` is a deprecated alias for the builtin `float`. To silence this warning, use `float` by itself. Doing this will not modify any behavior and is safe. If you specifically wanted the numpy scalar type, use `np.float64` here.\n",
      "Deprecated in NumPy 1.20; for more details and guidance: https://numpy.org/devdocs/release/1.20.0-notes.html#deprecations\n",
      "100%|██████████| 3772/3772 [00:00<00:00, 4116.34it/s]\n",
      "/Users/shi-fukushima/.pyenv/versions/anaconda3-5.3.1/lib/python3.7/site-packages/ipykernel_launcher.py:39: DeprecationWarning: `np.float` is a deprecated alias for the builtin `float`. To silence this warning, use `float` by itself. Doing this will not modify any behavior and is safe. If you specifically wanted the numpy scalar type, use `np.float64` here.\n",
      "Deprecated in NumPy 1.20; for more details and guidance: https://numpy.org/devdocs/release/1.20.0-notes.html#deprecations\n",
      "100%|██████████| 3772/3772 [00:01<00:00, 3223.91it/s]\n",
      "/Users/shi-fukushima/.pyenv/versions/anaconda3-5.3.1/lib/python3.7/site-packages/ipykernel_launcher.py:39: DeprecationWarning: `np.float` is a deprecated alias for the builtin `float`. To silence this warning, use `float` by itself. Doing this will not modify any behavior and is safe. If you specifically wanted the numpy scalar type, use `np.float64` here.\n",
      "Deprecated in NumPy 1.20; for more details and guidance: https://numpy.org/devdocs/release/1.20.0-notes.html#deprecations\n",
      "100%|██████████| 3772/3772 [00:01<00:00, 3086.01it/s]\n",
      "/Users/shi-fukushima/.pyenv/versions/anaconda3-5.3.1/lib/python3.7/site-packages/ipykernel_launcher.py:39: DeprecationWarning: `np.float` is a deprecated alias for the builtin `float`. To silence this warning, use `float` by itself. Doing this will not modify any behavior and is safe. If you specifically wanted the numpy scalar type, use `np.float64` here.\n",
      "Deprecated in NumPy 1.20; for more details and guidance: https://numpy.org/devdocs/release/1.20.0-notes.html#deprecations\n",
      "100%|██████████| 3772/3772 [00:00<00:00, 3826.67it/s]\n",
      "/Users/shi-fukushima/.pyenv/versions/anaconda3-5.3.1/lib/python3.7/site-packages/ipykernel_launcher.py:39: DeprecationWarning: `np.float` is a deprecated alias for the builtin `float`. To silence this warning, use `float` by itself. Doing this will not modify any behavior and is safe. If you specifically wanted the numpy scalar type, use `np.float64` here.\n",
      "Deprecated in NumPy 1.20; for more details and guidance: https://numpy.org/devdocs/release/1.20.0-notes.html#deprecations\n",
      "100%|██████████| 3772/3772 [00:01<00:00, 3479.66it/s]\n",
      "/Users/shi-fukushima/.pyenv/versions/anaconda3-5.3.1/lib/python3.7/site-packages/ipykernel_launcher.py:39: DeprecationWarning: `np.float` is a deprecated alias for the builtin `float`. To silence this warning, use `float` by itself. Doing this will not modify any behavior and is safe. If you specifically wanted the numpy scalar type, use `np.float64` here.\n",
      "Deprecated in NumPy 1.20; for more details and guidance: https://numpy.org/devdocs/release/1.20.0-notes.html#deprecations\n",
      "100%|██████████| 3772/3772 [00:01<00:00, 3017.42it/s]\n",
      "/Users/shi-fukushima/.pyenv/versions/anaconda3-5.3.1/lib/python3.7/site-packages/ipykernel_launcher.py:39: DeprecationWarning: `np.float` is a deprecated alias for the builtin `float`. To silence this warning, use `float` by itself. Doing this will not modify any behavior and is safe. If you specifically wanted the numpy scalar type, use `np.float64` here.\n",
      "Deprecated in NumPy 1.20; for more details and guidance: https://numpy.org/devdocs/release/1.20.0-notes.html#deprecations\n"
     ]
    }
   ],
   "source": [
    "n_trial = 5\n",
    "\n",
    "k_list = [1, 2, 3]\n",
    "\n",
    "auc_tr_iem = np.zeros((n_trial, len(k_list)))\n",
    "auc_te_iem = np.zeros((n_trial, len(k_list)))\n",
    "\n",
    "for n in range(n_trial):\n",
    "    for i, k in enumerate(k_list):\n",
    "        seed = i\n",
    "        anom_scores = calc_scores_iem(X, k, alpha=1.0, seed=seed)\n",
    "\n",
    "        fpr_tr, tpr_tr, thresholds_tr = roc_curve(y[1000:2000], anom_scores[1000:2000], pos_label=1)\n",
    "        auc_tr_iem[n, i] = auc(fpr_tr, tpr_tr)\n",
    "\n",
    "        fpr_te, tpr_te, thresholds_te = roc_curve(y[2000:], anom_scores[2000:], pos_label=1)\n",
    "        auc_te_iem[n, i] = auc(fpr_te, tpr_te)"
   ]
  },
  {
   "cell_type": "code",
   "execution_count": 46,
   "metadata": {},
   "outputs": [
    {
     "data": {
      "text/plain": [
       "array([0.96349302, 0.96340424, 0.96331546])"
      ]
     },
     "execution_count": 46,
     "metadata": {},
     "output_type": "execute_result"
    }
   ],
   "source": [
    "np.mean(auc_tr_iem, axis=0)"
   ]
  },
  {
   "cell_type": "code",
   "execution_count": 47,
   "metadata": {},
   "outputs": [
    {
     "data": {
      "text/plain": [
       "array([1.11022302e-16, 1.11022302e-16, 0.00000000e+00])"
      ]
     },
     "execution_count": 47,
     "metadata": {},
     "output_type": "execute_result"
    }
   ],
   "source": [
    "np.std(auc_tr_iem, axis=0)"
   ]
  },
  {
   "cell_type": "code",
   "execution_count": 48,
   "metadata": {},
   "outputs": [
    {
     "data": {
      "text/plain": [
       "array([0.93506056, 0.9371112 , 0.93547344])"
      ]
     },
     "execution_count": 48,
     "metadata": {},
     "output_type": "execute_result"
    }
   ],
   "source": [
    "np.mean(auc_te_iem, axis=0)"
   ]
  },
  {
   "cell_type": "code",
   "execution_count": 49,
   "metadata": {},
   "outputs": [
    {
     "data": {
      "text/plain": [
       "array([1.11022302e-16, 0.00000000e+00, 0.00000000e+00])"
      ]
     },
     "execution_count": 49,
     "metadata": {},
     "output_type": "execute_result"
    }
   ],
   "source": [
    "np.std(auc_te_iem, axis=0)"
   ]
  },
  {
   "cell_type": "code",
   "execution_count": 23,
   "metadata": {},
   "outputs": [
    {
     "data": {
      "text/plain": [
       "0.963493021769239"
      ]
     },
     "execution_count": 23,
     "metadata": {},
     "output_type": "execute_result"
    }
   ],
   "source": [
    "auc_tr_iem[np.argmax(auc_tr_iem)]"
   ]
  },
  {
   "cell_type": "code",
   "execution_count": 24,
   "metadata": {},
   "outputs": [
    {
     "data": {
      "text/plain": [
       "0.9350605560143133"
      ]
     },
     "execution_count": 24,
     "metadata": {},
     "output_type": "execute_result"
    }
   ],
   "source": [
    "auc_te_iem[np.argmax(auc_tr_iem)]"
   ]
  },
  {
   "cell_type": "markdown",
   "metadata": {},
   "source": [
    "## sEM"
   ]
  },
  {
   "cell_type": "code",
   "execution_count": 50,
   "metadata": {},
   "outputs": [],
   "source": [
    "def calc_scores_sem(X, theta0, r, k, seed=0):\n",
    "    np.random.seed(seed)\n",
    "    \n",
    "    rho_const = np.repeat([r], X.shape[0])\n",
    "    pi_est, mu_est, sigma_est = sem(X, theta0, rho_const)\n",
    "    \n",
    "    anom_scores = [np.nan]\n",
    "    for t in range(1, pi_est.shape[0]):\n",
    "        p = np.zeros(k)\n",
    "        for i in range(k):\n",
    "            p_i = pi_est[t-1, i] * multivariate_normal(mu_est[t-1, i, :], sigma_est[t-1, i, :, :], allow_singular=True).pdf(X[t, :])\n",
    "            #except:\n",
    "            #    print(nearPD(sigma_est[t-1, i, :, :]))\n",
    "            #    p_i = pi_est[t-1, i] * multivariate_normal(mu_est[t-1, i, :], nearPD(sigma_est[t-1, i, :, :])).pdf(X[t, :])\n",
    "            p[i] = p_i\n",
    "        p_tot = np.sum(p)\n",
    "        if p_tot >= 1e-16:\n",
    "            anom_scores.append(-np.log(p_tot))\n",
    "        else:\n",
    "            anom_scores.append(-np.log(-1.0/np.finfo(np.float).min))\n",
    "                        \n",
    "    return anom_scores"
   ]
  },
  {
   "cell_type": "code",
   "execution_count": 51,
   "metadata": {},
   "outputs": [
    {
     "name": "stderr",
     "output_type": "stream",
     "text": [
      "  0%|          | 0/3772 [00:00<?, ?it/s]/Users/shi-fukushima/.pyenv/versions/anaconda3-5.3.1/lib/python3.7/site-packages/ipykernel_launcher.py:16: RuntimeWarning: invalid value encountered in true_divide\n",
      "  app.launch_new_instance()\n",
      "100%|██████████| 3772/3772 [00:01<00:00, 2922.84it/s]\n",
      "/Users/shi-fukushima/.pyenv/versions/anaconda3-5.3.1/lib/python3.7/site-packages/ipykernel_launcher.py:20: DeprecationWarning: `np.float` is a deprecated alias for the builtin `float`. To silence this warning, use `float` by itself. Doing this will not modify any behavior and is safe. If you specifically wanted the numpy scalar type, use `np.float64` here.\n",
      "Deprecated in NumPy 1.20; for more details and guidance: https://numpy.org/devdocs/release/1.20.0-notes.html#deprecations\n",
      "100%|██████████| 3772/3772 [00:01<00:00, 1945.25it/s]\n",
      "100%|██████████| 3772/3772 [00:02<00:00, 1330.36it/s]\n",
      "100%|██████████| 3772/3772 [00:01<00:00, 3587.97it/s]\n",
      "100%|██████████| 3772/3772 [00:01<00:00, 2288.34it/s]\n",
      "100%|██████████| 3772/3772 [00:02<00:00, 1674.14it/s]\n",
      "100%|██████████| 3772/3772 [00:00<00:00, 3772.26it/s]\n",
      "100%|██████████| 3772/3772 [00:01<00:00, 2194.06it/s]\n",
      "100%|██████████| 3772/3772 [00:02<00:00, 1597.53it/s]\n",
      "100%|██████████| 3772/3772 [00:00<00:00, 3860.36it/s]\n",
      "100%|██████████| 3772/3772 [00:01<00:00, 2321.42it/s]\n",
      "100%|██████████| 3772/3772 [00:02<00:00, 1687.51it/s]\n",
      "100%|██████████| 3772/3772 [00:00<00:00, 3895.78it/s]\n",
      "100%|██████████| 3772/3772 [00:01<00:00, 2068.44it/s]\n",
      "100%|██████████| 3772/3772 [00:02<00:00, 1658.28it/s]\n",
      "100%|██████████| 3772/3772 [00:00<00:00, 3823.27it/s]\n",
      "100%|██████████| 3772/3772 [00:01<00:00, 2299.82it/s]\n",
      "100%|██████████| 3772/3772 [00:02<00:00, 1639.47it/s]\n",
      "100%|██████████| 3772/3772 [00:00<00:00, 3875.22it/s]\n",
      "100%|██████████| 3772/3772 [00:01<00:00, 2294.29it/s]\n",
      "100%|██████████| 3772/3772 [00:02<00:00, 1629.48it/s]\n",
      "100%|██████████| 3772/3772 [00:00<00:00, 3899.24it/s]\n",
      "100%|██████████| 3772/3772 [00:01<00:00, 2289.49it/s]\n",
      "100%|██████████| 3772/3772 [00:02<00:00, 1626.15it/s]\n",
      "100%|██████████| 3772/3772 [00:00<00:00, 3807.00it/s]\n",
      "100%|██████████| 3772/3772 [00:01<00:00, 2266.68it/s]\n",
      "100%|██████████| 3772/3772 [00:02<00:00, 1631.19it/s]\n",
      "100%|██████████| 3772/3772 [00:01<00:00, 3616.28it/s]\n",
      "100%|██████████| 3772/3772 [00:01<00:00, 2201.33it/s]\n",
      "100%|██████████| 3772/3772 [00:02<00:00, 1590.81it/s]\n",
      "100%|██████████| 3772/3772 [00:01<00:00, 3542.12it/s]\n",
      "100%|██████████| 3772/3772 [00:01<00:00, 2189.80it/s]\n",
      "100%|██████████| 3772/3772 [00:02<00:00, 1534.42it/s]\n",
      "100%|██████████| 3772/3772 [00:01<00:00, 3594.19it/s]\n",
      "100%|██████████| 3772/3772 [00:01<00:00, 2213.46it/s]\n",
      "100%|██████████| 3772/3772 [00:02<00:00, 1599.70it/s]\n",
      "100%|██████████| 3772/3772 [00:01<00:00, 3692.75it/s]\n",
      "100%|██████████| 3772/3772 [00:01<00:00, 2155.20it/s]\n",
      "100%|██████████| 3772/3772 [00:02<00:00, 1495.09it/s]\n",
      "100%|██████████| 3772/3772 [00:01<00:00, 3734.09it/s]\n",
      "100%|██████████| 3772/3772 [00:01<00:00, 2233.96it/s]\n",
      "100%|██████████| 3772/3772 [00:02<00:00, 1599.09it/s]\n",
      "100%|██████████| 3772/3772 [00:00<00:00, 3790.06it/s]\n",
      "100%|██████████| 3772/3772 [00:01<00:00, 2232.74it/s]\n",
      "100%|██████████| 3772/3772 [00:02<00:00, 1608.95it/s]\n"
     ]
    }
   ],
   "source": [
    "n_trial = 5\n",
    "k_list = [1, 2, 3]\n",
    "#r_list = [0.0000001, 0.000001, 0.000005]\n",
    "r_list = [0.0001, 0.001, 0.01]\n",
    "\n",
    "auc_tr_sem = np.zeros((n_trial, len(r_list), len(k_list)))\n",
    "auc_te_sem = np.zeros((n_trial, len(r_list), len(k_list)))\n",
    "\n",
    "for n in range(n_trial):\n",
    "    for i, r in enumerate(r_list):\n",
    "        for j, k in enumerate(k_list):\n",
    "            try:\n",
    "                seed = i*len(k_list) + j\n",
    "                np.random.seed(seed)\n",
    "\n",
    "                pi0 = np.array([1/k] * k).reshape(-1, 1)\n",
    "                mu0 = np.hstack([ \n",
    "                          np.random.uniform(np.min(X[:2000, col]), np.max(X[:2000, col]), k).reshape(-1, 1)\n",
    "                          for col in range(X.shape[1])\n",
    "                      ])\n",
    "                sigma0 = np.stack([np.diag( (X[:2000, :].max(axis=0) - X[:2000, :].min(axis=0)) /10) for _ in range(k)])\n",
    "                theta0 = Theta(pi0, mu0, sigma0)\n",
    "\n",
    "                anom_scores = calc_scores_sem(X, theta0, r, k, seed=seed)\n",
    "\n",
    "                fpr_tr, tpr_tr, thresholds_tr = roc_curve(y[1000:2000], anom_scores[1000:2000], pos_label=1)\n",
    "                auc_tr_sem[n, i, j] = auc(fpr_tr, tpr_tr)\n",
    "\n",
    "                fpr_te, tpr_te, thresholds_te = roc_curve(y[2000:], anom_scores[2000:], pos_label=1)\n",
    "                auc_te_sem[n, i, j] = auc(fpr_te, tpr_te)\n",
    "            except:\n",
    "                n = n+1\n",
    "                continue\n"
   ]
  },
  {
   "cell_type": "code",
   "execution_count": 52,
   "metadata": {},
   "outputs": [
    {
     "data": {
      "text/plain": [
       "array([[0.95599986, 0.95651479, 0.97453745],\n",
       "       [0.97934941, 0.9793139 , 0.97808871],\n",
       "       [0.95891189, 0.95662133, 0.96604993]])"
      ]
     },
     "execution_count": 52,
     "metadata": {},
     "output_type": "execute_result"
    }
   ],
   "source": [
    "np.mean(auc_tr_sem, axis=0)"
   ]
  },
  {
   "cell_type": "code",
   "execution_count": 53,
   "metadata": {},
   "outputs": [
    {
     "data": {
      "text/plain": [
       "array([[0.00000000e+00, 0.00000000e+00, 0.00000000e+00],\n",
       "       [0.00000000e+00, 0.00000000e+00, 0.00000000e+00],\n",
       "       [1.11022302e-16, 0.00000000e+00, 1.11022302e-16]])"
      ]
     },
     "execution_count": 53,
     "metadata": {},
     "output_type": "execute_result"
    }
   ],
   "source": [
    "np.std(auc_tr_sem, axis=0)"
   ]
  },
  {
   "cell_type": "code",
   "execution_count": 54,
   "metadata": {},
   "outputs": [
    {
     "data": {
      "text/plain": [
       "array([[0.96065923, 0.96299202, 0.98221855],\n",
       "       [0.96842141, 0.96827691, 0.96370768],\n",
       "       [0.93261767, 0.94600881, 0.95494082]])"
      ]
     },
     "execution_count": 54,
     "metadata": {},
     "output_type": "execute_result"
    }
   ],
   "source": [
    "np.mean(auc_te_sem, axis=0)"
   ]
  },
  {
   "cell_type": "code",
   "execution_count": 55,
   "metadata": {},
   "outputs": [
    {
     "data": {
      "text/plain": [
       "array([[0.00000000e+00, 1.11022302e-16, 0.00000000e+00],\n",
       "       [0.00000000e+00, 1.11022302e-16, 0.00000000e+00],\n",
       "       [0.00000000e+00, 0.00000000e+00, 0.00000000e+00]])"
      ]
     },
     "execution_count": 55,
     "metadata": {},
     "output_type": "execute_result"
    }
   ],
   "source": [
    "np.std(auc_te_sem, axis=0)"
   ]
  },
  {
   "cell_type": "code",
   "execution_count": 27,
   "metadata": {},
   "outputs": [
    {
     "data": {
      "text/plain": [
       "(1, 0)"
      ]
     },
     "execution_count": 27,
     "metadata": {},
     "output_type": "execute_result"
    }
   ],
   "source": [
    "np.unravel_index(np.argmax(auc_tr_sem), auc_tr_sem.shape)"
   ]
  },
  {
   "cell_type": "code",
   "execution_count": 28,
   "metadata": {},
   "outputs": [
    {
     "data": {
      "text/plain": [
       "0.979349408714798"
      ]
     },
     "execution_count": 28,
     "metadata": {},
     "output_type": "execute_result"
    }
   ],
   "source": [
    "auc_tr_sem[1, 0]"
   ]
  },
  {
   "cell_type": "code",
   "execution_count": 29,
   "metadata": {},
   "outputs": [
    {
     "data": {
      "text/plain": [
       "0.968421414808698"
      ]
     },
     "execution_count": 29,
     "metadata": {},
     "output_type": "execute_result"
    }
   ],
   "source": [
    "auc_te_sem[1, 0]"
   ]
  },
  {
   "cell_type": "markdown",
   "metadata": {},
   "source": [
    "## SRA"
   ]
  },
  {
   "cell_type": "code",
   "execution_count": 56,
   "metadata": {},
   "outputs": [],
   "source": [
    "#def calc_scores_sra(X, theta0, k, gamma, d0, M, L_alpha, seed=0):\n",
    "def calc_scores_sra(X, theta0, k, gamma, ratio, M, seed=0):\n",
    "    np.random.seed(seed)\n",
    "    \n",
    "    #rho = (d0+1) * np.exp(-gamma**2/M**2) / (2.0*L_alpha*gamma)\n",
    "    rho = ratio * np.exp(-gamma**2/M**2) / (2.0*gamma)\n",
    "    rho_const = np.repeat(rho, X.shape[0])\n",
    "    pi_est, mu_est, sigma_est = sra(X, theta0, rho_const, gamma)\n",
    "    \n",
    "    anom_scores = []\n",
    "    for t in range(pi_est.shape[0]):\n",
    "        p = np.zeros(k)\n",
    "        for i in range(k):\n",
    "            p_i = pi_est[t-1, i] * multivariate_normal(mu_est[t-1, i, :], sigma_est[t-1, i, :, :], allow_singular=True).pdf(X[t, :])\n",
    "            #except:\n",
    "            #    print(nearPD(sigma_est[t-1, i, :, :]))\n",
    "            #    p_i = pi_est[t-1, i] * multivariate_normal(mu_est[t-1, i, :], nearPD(sigma_est[t-1, i, :, :])).pdf(X[t, :])\n",
    "            p[i] = p_i\n",
    "        p_tot = np.sum(p)\n",
    "        if p_tot >= 1e-16:\n",
    "            anom_scores.append(-np.log(p_tot))\n",
    "        else:\n",
    "            anom_scores.append(-np.log(-1.0/np.finfo(np.float).min))\n",
    "                        \n",
    "    return anom_scores"
   ]
  },
  {
   "cell_type": "code",
   "execution_count": 57,
   "metadata": {},
   "outputs": [],
   "source": [
    "n_trial = 5\n",
    "k_list = [1, 2, 3]\n",
    "gamma_list = [5, 10, 15]\n",
    "ratio_list = [0.1, 0.5, 1.0]\n",
    "#d0_list = [0.1, 0.5, 1.0]\n",
    "#d0_list = [1.0, 5.0, 10.0]\n",
    "#M_list = [0.5, 1.0, 2.0]\n",
    "M_list = [1.0, 5.0, 10.0]\n",
    "#L_alpha_list = [0.5, 1.0, 2.0]\n",
    "#L_alpha_list = [2.0, 10.0, 20.0]"
   ]
  },
  {
   "cell_type": "code",
   "execution_count": 59,
   "metadata": {},
   "outputs": [
    {
     "name": "stderr",
     "output_type": "stream",
     "text": [
      "  0%|          | 0/3772 [00:00<?, ?it/s]/Users/shi-fukushima/.pyenv/versions/anaconda3-5.3.1/lib/python3.7/site-packages/ipykernel_launcher.py:16: RuntimeWarning: invalid value encountered in true_divide\n",
      "  app.launch_new_instance()\n",
      "100%|██████████| 3772/3772 [00:01<00:00, 3395.25it/s]\n",
      "/Users/shi-fukushima/.pyenv/versions/anaconda3-5.3.1/lib/python3.7/site-packages/ipykernel_launcher.py:23: DeprecationWarning: `np.float` is a deprecated alias for the builtin `float`. To silence this warning, use `float` by itself. Doing this will not modify any behavior and is safe. If you specifically wanted the numpy scalar type, use `np.float64` here.\n",
      "Deprecated in NumPy 1.20; for more details and guidance: https://numpy.org/devdocs/release/1.20.0-notes.html#deprecations\n",
      "  9%|▉         | 342/3772 [00:00<00:01, 3413.74it/s]"
     ]
    },
    {
     "name": "stdout",
     "output_type": "stream",
     "text": [
      "gamma= 5 , ratio= 0.1 , M= 1.0 : 0.9405243600330306\n"
     ]
    },
    {
     "name": "stderr",
     "output_type": "stream",
     "text": [
      "100%|██████████| 3772/3772 [00:01<00:00, 2941.76it/s]\n",
      " 20%|██        | 759/3772 [00:00<00:00, 3798.95it/s]"
     ]
    },
    {
     "name": "stdout",
     "output_type": "stream",
     "text": [
      "gamma= 5 , ratio= 0.1 , M= 5.0 : 0.9499311863473713\n"
     ]
    },
    {
     "name": "stderr",
     "output_type": "stream",
     "text": [
      "100%|██████████| 3772/3772 [00:00<00:00, 3785.21it/s]\n",
      " 12%|█▏        | 450/3772 [00:00<00:00, 4497.03it/s]"
     ]
    },
    {
     "name": "stdout",
     "output_type": "stream",
     "text": [
      "gamma= 5 , ratio= 0.1 , M= 10.0 : 0.9318676025323425\n"
     ]
    },
    {
     "name": "stderr",
     "output_type": "stream",
     "text": [
      "100%|██████████| 3772/3772 [00:00<00:00, 4029.58it/s]\n",
      " 10%|▉         | 365/3772 [00:00<00:00, 3648.36it/s]"
     ]
    },
    {
     "name": "stdout",
     "output_type": "stream",
     "text": [
      "gamma= 5 , ratio= 0.5 , M= 1.0 : 0.9405243600330306\n"
     ]
    },
    {
     "name": "stderr",
     "output_type": "stream",
     "text": [
      "100%|██████████| 3772/3772 [00:01<00:00, 3259.13it/s]\n",
      "  9%|▉         | 346/3772 [00:00<00:00, 3451.86it/s]"
     ]
    },
    {
     "name": "stdout",
     "output_type": "stream",
     "text": [
      "gamma= 5 , ratio= 0.5 , M= 5.0 : 0.9361134048995321\n"
     ]
    },
    {
     "name": "stderr",
     "output_type": "stream",
     "text": [
      "100%|██████████| 3772/3772 [00:01<00:00, 3595.26it/s]\n",
      " 22%|██▏       | 834/3772 [00:00<00:00, 4171.40it/s]"
     ]
    },
    {
     "name": "stdout",
     "output_type": "stream",
     "text": [
      "gamma= 5 , ratio= 0.5 , M= 10.0 : 0.9454720616570327\n"
     ]
    },
    {
     "name": "stderr",
     "output_type": "stream",
     "text": [
      "100%|██████████| 3772/3772 [00:00<00:00, 4052.16it/s]\n",
      " 18%|█▊        | 688/3772 [00:00<00:00, 3460.09it/s]"
     ]
    },
    {
     "name": "stdout",
     "output_type": "stream",
     "text": [
      "gamma= 5 , ratio= 1.0 , M= 1.0 : 0.9405243600330306\n"
     ]
    },
    {
     "name": "stderr",
     "output_type": "stream",
     "text": [
      "100%|██████████| 3772/3772 [00:01<00:00, 3478.81it/s]\n",
      " 10%|▉         | 369/3772 [00:00<00:00, 3687.63it/s]"
     ]
    },
    {
     "name": "stdout",
     "output_type": "stream",
     "text": [
      "gamma= 5 , ratio= 1.0 , M= 5.0 : 0.9453757225433526\n"
     ]
    },
    {
     "name": "stderr",
     "output_type": "stream",
     "text": [
      "100%|██████████| 3772/3772 [00:01<00:00, 3730.48it/s]\n",
      " 20%|██        | 763/3772 [00:00<00:00, 3823.03it/s]"
     ]
    },
    {
     "name": "stdout",
     "output_type": "stream",
     "text": [
      "gamma= 5 , ratio= 1.0 , M= 10.0 : 0.9725708780622075\n"
     ]
    },
    {
     "name": "stderr",
     "output_type": "stream",
     "text": [
      "100%|██████████| 3772/3772 [00:01<00:00, 3693.53it/s]\n",
      " 20%|█▉        | 751/3772 [00:00<00:00, 3760.77it/s]"
     ]
    },
    {
     "name": "stdout",
     "output_type": "stream",
     "text": [
      "gamma= 10 , ratio= 0.1 , M= 1.0 : 0.9405243600330306\n"
     ]
    },
    {
     "name": "stderr",
     "output_type": "stream",
     "text": [
      "100%|██████████| 3772/3772 [00:01<00:00, 3764.77it/s]\n",
      " 21%|██        | 784/3772 [00:00<00:00, 3855.07it/s]"
     ]
    },
    {
     "name": "stdout",
     "output_type": "stream",
     "text": [
      "gamma= 10 , ratio= 0.1 , M= 5.0 : 0.9589388934764657\n"
     ]
    },
    {
     "name": "stderr",
     "output_type": "stream",
     "text": [
      "100%|██████████| 3772/3772 [00:01<00:00, 3710.57it/s]\n",
      " 19%|█▉        | 725/3772 [00:00<00:00, 3622.97it/s]"
     ]
    },
    {
     "name": "stdout",
     "output_type": "stream",
     "text": [
      "gamma= 10 , ratio= 0.1 , M= 10.0 : 0.9287985136251032\n"
     ]
    },
    {
     "name": "stderr",
     "output_type": "stream",
     "text": [
      "100%|██████████| 3772/3772 [00:01<00:00, 3679.25it/s]\n",
      " 20%|██        | 772/3772 [00:00<00:00, 3854.89it/s]"
     ]
    },
    {
     "name": "stdout",
     "output_type": "stream",
     "text": [
      "gamma= 10 , ratio= 0.5 , M= 1.0 : 0.9405243600330306\n"
     ]
    },
    {
     "name": "stderr",
     "output_type": "stream",
     "text": [
      "100%|██████████| 3772/3772 [00:01<00:00, 3687.79it/s]\n",
      " 10%|█         | 387/3772 [00:00<00:00, 3859.28it/s]"
     ]
    },
    {
     "name": "stdout",
     "output_type": "stream",
     "text": [
      "gamma= 10 , ratio= 0.5 , M= 5.0 : 0.9825901458849435\n"
     ]
    },
    {
     "name": "stderr",
     "output_type": "stream",
     "text": [
      "100%|██████████| 3772/3772 [00:01<00:00, 3752.29it/s]\n",
      " 10%|█         | 384/3772 [00:00<00:00, 3833.18it/s]"
     ]
    },
    {
     "name": "stdout",
     "output_type": "stream",
     "text": [
      "gamma= 10 , ratio= 0.5 , M= 10.0 : 0.9322254335260116\n"
     ]
    },
    {
     "name": "stderr",
     "output_type": "stream",
     "text": [
      "100%|██████████| 3772/3772 [00:01<00:00, 3563.22it/s]\n",
      "  9%|▉         | 354/3772 [00:00<00:00, 3534.00it/s]"
     ]
    },
    {
     "name": "stdout",
     "output_type": "stream",
     "text": [
      "gamma= 10 , ratio= 1.0 , M= 1.0 : 0.9405243600330306\n"
     ]
    },
    {
     "name": "stderr",
     "output_type": "stream",
     "text": [
      "100%|██████████| 3772/3772 [00:01<00:00, 3042.33it/s]\n",
      "  9%|▉         | 351/3772 [00:00<00:00, 3504.08it/s]"
     ]
    },
    {
     "name": "stdout",
     "output_type": "stream",
     "text": [
      "gamma= 10 , ratio= 1.0 , M= 5.0 : 0.9701348747591523\n"
     ]
    },
    {
     "name": "stderr",
     "output_type": "stream",
     "text": [
      "100%|██████████| 3772/3772 [00:01<00:00, 3478.93it/s]\n",
      "  9%|▉         | 331/3772 [00:00<00:01, 3301.78it/s]"
     ]
    },
    {
     "name": "stdout",
     "output_type": "stream",
     "text": [
      "gamma= 10 , ratio= 1.0 , M= 10.0 : 0.9361134048995321\n"
     ]
    },
    {
     "name": "stderr",
     "output_type": "stream",
     "text": [
      "100%|██████████| 3772/3772 [00:01<00:00, 3413.95it/s]\n",
      "  9%|▉         | 345/3772 [00:00<00:00, 3447.13it/s]"
     ]
    },
    {
     "name": "stdout",
     "output_type": "stream",
     "text": [
      "gamma= 15 , ratio= 0.1 , M= 1.0 : 0.9405243600330306\n"
     ]
    },
    {
     "name": "stderr",
     "output_type": "stream",
     "text": [
      "100%|██████████| 3772/3772 [00:01<00:00, 3653.32it/s]\n",
      "  9%|▉         | 358/3772 [00:00<00:00, 3570.65it/s]"
     ]
    },
    {
     "name": "stdout",
     "output_type": "stream",
     "text": [
      "gamma= 15 , ratio= 0.1 , M= 5.0 : 0.9408064960088082\n"
     ]
    },
    {
     "name": "stderr",
     "output_type": "stream",
     "text": [
      "100%|██████████| 3772/3772 [00:01<00:00, 3535.41it/s]\n",
      "  9%|▊         | 323/3772 [00:00<00:01, 3226.96it/s]"
     ]
    },
    {
     "name": "stdout",
     "output_type": "stream",
     "text": [
      "gamma= 15 , ratio= 0.1 , M= 10.0 : 0.9826451968070465\n"
     ]
    },
    {
     "name": "stderr",
     "output_type": "stream",
     "text": [
      "100%|██████████| 3772/3772 [00:01<00:00, 3479.99it/s]\n",
      "  9%|▉         | 358/3772 [00:00<00:00, 3566.24it/s]"
     ]
    },
    {
     "name": "stdout",
     "output_type": "stream",
     "text": [
      "gamma= 15 , ratio= 0.5 , M= 1.0 : 0.9405243600330306\n"
     ]
    },
    {
     "name": "stderr",
     "output_type": "stream",
     "text": [
      "100%|██████████| 3772/3772 [00:01<00:00, 3555.27it/s]\n",
      " 19%|█▊        | 703/3772 [00:00<00:00, 3508.56it/s]"
     ]
    },
    {
     "name": "stdout",
     "output_type": "stream",
     "text": [
      "gamma= 15 , ratio= 0.5 , M= 5.0 : 0.9413845306908891\n"
     ]
    },
    {
     "name": "stderr",
     "output_type": "stream",
     "text": [
      "100%|██████████| 3772/3772 [00:01<00:00, 3414.34it/s]\n",
      " 10%|▉         | 376/3772 [00:00<00:00, 3755.13it/s]"
     ]
    },
    {
     "name": "stdout",
     "output_type": "stream",
     "text": [
      "gamma= 15 , ratio= 0.5 , M= 10.0 : 0.9292526837324526\n"
     ]
    },
    {
     "name": "stderr",
     "output_type": "stream",
     "text": [
      "100%|██████████| 3772/3772 [00:01<00:00, 3084.05it/s]\n",
      " 19%|█▉        | 729/3772 [00:00<00:00, 3643.88it/s]"
     ]
    },
    {
     "name": "stdout",
     "output_type": "stream",
     "text": [
      "gamma= 15 , ratio= 1.0 , M= 1.0 : 0.9405243600330306\n"
     ]
    },
    {
     "name": "stderr",
     "output_type": "stream",
     "text": [
      "100%|██████████| 3772/3772 [00:01<00:00, 3602.19it/s]\n",
      " 18%|█▊        | 690/3772 [00:00<00:00, 3439.47it/s]"
     ]
    },
    {
     "name": "stdout",
     "output_type": "stream",
     "text": [
      "gamma= 15 , ratio= 1.0 , M= 5.0 : 0.9419763281034957\n"
     ]
    },
    {
     "name": "stderr",
     "output_type": "stream",
     "text": [
      "100%|██████████| 3772/3772 [00:01<00:00, 3485.86it/s]\n",
      "  6%|▌         | 235/3772 [00:00<00:01, 2340.54it/s]"
     ]
    },
    {
     "name": "stdout",
     "output_type": "stream",
     "text": [
      "gamma= 15 , ratio= 1.0 , M= 10.0 : 0.9292664464629782\n"
     ]
    },
    {
     "name": "stderr",
     "output_type": "stream",
     "text": [
      "100%|██████████| 3772/3772 [00:01<00:00, 2399.27it/s]\n",
      "  6%|▌         | 229/3772 [00:00<00:01, 2283.29it/s]"
     ]
    },
    {
     "name": "stdout",
     "output_type": "stream",
     "text": [
      "gamma= 5 , ratio= 0.1 , M= 1.0 : 0.9404624277456648\n"
     ]
    },
    {
     "name": "stderr",
     "output_type": "stream",
     "text": [
      "100%|██████████| 3772/3772 [00:01<00:00, 2164.88it/s]\n",
      "  6%|▌         | 234/3772 [00:00<00:01, 2339.20it/s]"
     ]
    },
    {
     "name": "stdout",
     "output_type": "stream",
     "text": [
      "gamma= 5 , ratio= 0.1 , M= 5.0 : 0.9399669694467382\n"
     ]
    },
    {
     "name": "stderr",
     "output_type": "stream",
     "text": [
      "100%|██████████| 3772/3772 [00:01<00:00, 2170.39it/s]\n",
      "  6%|▌         | 224/3772 [00:00<00:01, 2235.20it/s]"
     ]
    },
    {
     "name": "stdout",
     "output_type": "stream",
     "text": [
      "gamma= 5 , ratio= 0.1 , M= 10.0 : 0.9452656206991468\n"
     ]
    },
    {
     "name": "stderr",
     "output_type": "stream",
     "text": [
      "100%|██████████| 3772/3772 [00:01<00:00, 2400.11it/s]\n",
      "  6%|▌         | 210/3772 [00:00<00:01, 2090.76it/s]"
     ]
    },
    {
     "name": "stdout",
     "output_type": "stream",
     "text": [
      "gamma= 5 , ratio= 0.5 , M= 1.0 : 0.9404624277456648\n"
     ]
    },
    {
     "name": "stderr",
     "output_type": "stream",
     "text": [
      "100%|██████████| 3772/3772 [00:01<00:00, 2116.87it/s]\n",
      " 11%|█         | 416/3772 [00:00<00:01, 2072.74it/s]"
     ]
    },
    {
     "name": "stdout",
     "output_type": "stream",
     "text": [
      "gamma= 5 , ratio= 0.5 , M= 5.0 : 0.942485549132948\n"
     ]
    },
    {
     "name": "stderr",
     "output_type": "stream",
     "text": [
      "100%|██████████| 3772/3772 [00:01<00:00, 2146.22it/s]\n",
      " 12%|█▏        | 453/3772 [00:00<00:01, 2263.91it/s]"
     ]
    },
    {
     "name": "stdout",
     "output_type": "stream",
     "text": [
      "gamma= 5 , ratio= 0.5 , M= 10.0 : 0.9354734379300852\n"
     ]
    },
    {
     "name": "stderr",
     "output_type": "stream",
     "text": [
      "100%|██████████| 3772/3772 [00:01<00:00, 2375.08it/s]\n",
      " 12%|█▏        | 460/3772 [00:00<00:01, 2302.18it/s]"
     ]
    },
    {
     "name": "stdout",
     "output_type": "stream",
     "text": [
      "gamma= 5 , ratio= 1.0 , M= 1.0 : 0.9404624277456648\n"
     ]
    },
    {
     "name": "stderr",
     "output_type": "stream",
     "text": [
      "100%|██████████| 3772/3772 [00:01<00:00, 2198.25it/s]\n",
      "  6%|▌         | 229/3772 [00:00<00:01, 2279.90it/s]"
     ]
    },
    {
     "name": "stdout",
     "output_type": "stream",
     "text": [
      "gamma= 5 , ratio= 1.0 , M= 5.0 : 0.9341590971648775\n"
     ]
    },
    {
     "name": "stderr",
     "output_type": "stream",
     "text": [
      "100%|██████████| 3772/3772 [00:01<00:00, 2178.47it/s]\n",
      "  6%|▌         | 235/3772 [00:00<00:01, 2339.68it/s]"
     ]
    },
    {
     "name": "stdout",
     "output_type": "stream",
     "text": [
      "gamma= 5 , ratio= 1.0 , M= 10.0 : 0.9725708780622075\n"
     ]
    },
    {
     "name": "stderr",
     "output_type": "stream",
     "text": [
      "100%|██████████| 3772/3772 [00:01<00:00, 2159.97it/s]\n",
      " 11%|█         | 416/3772 [00:00<00:01, 2081.32it/s]"
     ]
    },
    {
     "name": "stdout",
     "output_type": "stream",
     "text": [
      "gamma= 10 , ratio= 0.1 , M= 1.0 : 0.9404624277456648\n"
     ]
    },
    {
     "name": "stderr",
     "output_type": "stream",
     "text": [
      "100%|██████████| 3772/3772 [00:01<00:00, 2172.35it/s]\n",
      "  6%|▌         | 219/3772 [00:00<00:01, 2180.85it/s]"
     ]
    },
    {
     "name": "stdout",
     "output_type": "stream",
     "text": [
      "gamma= 10 , ratio= 0.1 , M= 5.0 : 0.9769474263693917\n"
     ]
    },
    {
     "name": "stderr",
     "output_type": "stream",
     "text": [
      "100%|██████████| 3772/3772 [00:01<00:00, 2095.65it/s]\n",
      "  6%|▌         | 226/3772 [00:00<00:01, 2248.80it/s]"
     ]
    },
    {
     "name": "stdout",
     "output_type": "stream",
     "text": [
      "gamma= 10 , ratio= 0.1 , M= 10.0 : 0.931055601431324\n"
     ]
    },
    {
     "name": "stderr",
     "output_type": "stream",
     "text": [
      "100%|██████████| 3772/3772 [00:01<00:00, 2123.65it/s]\n",
      " 12%|█▏        | 447/3772 [00:00<00:01, 2233.96it/s]"
     ]
    },
    {
     "name": "stdout",
     "output_type": "stream",
     "text": [
      "gamma= 10 , ratio= 0.5 , M= 1.0 : 0.9404624277456648\n"
     ]
    },
    {
     "name": "stderr",
     "output_type": "stream",
     "text": [
      "100%|██████████| 3772/3772 [00:01<00:00, 2166.77it/s]\n",
      "  6%|▌         | 219/3772 [00:00<00:01, 2186.29it/s]"
     ]
    },
    {
     "name": "stdout",
     "output_type": "stream",
     "text": [
      "gamma= 10 , ratio= 0.5 , M= 5.0 : 0.9659922928709056\n"
     ]
    },
    {
     "name": "stderr",
     "output_type": "stream",
     "text": [
      "100%|██████████| 3772/3772 [00:01<00:00, 2129.38it/s]\n",
      "  5%|▌         | 205/3772 [00:00<00:01, 2048.57it/s]"
     ]
    },
    {
     "name": "stdout",
     "output_type": "stream",
     "text": [
      "gamma= 10 , ratio= 0.5 , M= 10.0 : 0.9460088081475364\n"
     ]
    },
    {
     "name": "stderr",
     "output_type": "stream",
     "text": [
      "100%|██████████| 3772/3772 [00:01<00:00, 2110.64it/s]\n",
      "  6%|▌         | 211/3772 [00:00<00:01, 2105.22it/s]"
     ]
    },
    {
     "name": "stdout",
     "output_type": "stream",
     "text": [
      "gamma= 10 , ratio= 1.0 , M= 1.0 : 0.9404624277456648\n"
     ]
    },
    {
     "name": "stderr",
     "output_type": "stream",
     "text": [
      "100%|██████████| 3772/3772 [00:01<00:00, 2064.21it/s]\n",
      "  5%|▍         | 173/3772 [00:00<00:02, 1725.71it/s]"
     ]
    },
    {
     "name": "stdout",
     "output_type": "stream",
     "text": [
      "gamma= 10 , ratio= 1.0 , M= 5.0 : 0.9460432149738508\n"
     ]
    },
    {
     "name": "stderr",
     "output_type": "stream",
     "text": [
      "100%|██████████| 3772/3772 [00:01<00:00, 2084.99it/s]\n",
      "  6%|▌         | 215/3772 [00:00<00:01, 2148.47it/s]"
     ]
    },
    {
     "name": "stdout",
     "output_type": "stream",
     "text": [
      "gamma= 10 , ratio= 1.0 , M= 10.0 : 0.942485549132948\n"
     ]
    },
    {
     "name": "stderr",
     "output_type": "stream",
     "text": [
      "100%|██████████| 3772/3772 [00:01<00:00, 2136.95it/s]\n",
      "  6%|▌         | 228/3772 [00:00<00:01, 2271.88it/s]"
     ]
    },
    {
     "name": "stdout",
     "output_type": "stream",
     "text": [
      "gamma= 15 , ratio= 0.1 , M= 1.0 : 0.9404624277456648\n"
     ]
    },
    {
     "name": "stderr",
     "output_type": "stream",
     "text": [
      "100%|██████████| 3772/3772 [00:01<00:00, 2092.66it/s]\n",
      "  6%|▌         | 208/3772 [00:00<00:01, 2071.99it/s]"
     ]
    },
    {
     "name": "stdout",
     "output_type": "stream",
     "text": [
      "gamma= 15 , ratio= 0.1 , M= 5.0 : 0.9404624277456648\n"
     ]
    },
    {
     "name": "stderr",
     "output_type": "stream",
     "text": [
      "100%|██████████| 3772/3772 [00:01<00:00, 2066.99it/s]\n",
      "  5%|▌         | 191/3772 [00:00<00:01, 1904.59it/s]"
     ]
    },
    {
     "name": "stdout",
     "output_type": "stream",
     "text": [
      "gamma= 15 , ratio= 0.1 , M= 10.0 : 0.9677470410129371\n"
     ]
    },
    {
     "name": "stderr",
     "output_type": "stream",
     "text": [
      "100%|██████████| 3772/3772 [00:01<00:00, 1953.60it/s]\n",
      "  6%|▌         | 221/3772 [00:00<00:01, 2195.29it/s]"
     ]
    },
    {
     "name": "stdout",
     "output_type": "stream",
     "text": [
      "gamma= 15 , ratio= 0.5 , M= 1.0 : 0.9404624277456648\n"
     ]
    },
    {
     "name": "stderr",
     "output_type": "stream",
     "text": [
      "100%|██████████| 3772/3772 [00:01<00:00, 1995.02it/s]\n",
      "  5%|▌         | 195/3772 [00:00<00:01, 1947.41it/s]"
     ]
    },
    {
     "name": "stdout",
     "output_type": "stream",
     "text": [
      "gamma= 15 , ratio= 0.5 , M= 5.0 : 0.9410404624277456\n"
     ]
    },
    {
     "name": "stderr",
     "output_type": "stream",
     "text": [
      "100%|██████████| 3772/3772 [00:02<00:00, 1749.23it/s]\n",
      "  5%|▌         | 189/3772 [00:00<00:01, 1878.80it/s]"
     ]
    },
    {
     "name": "stdout",
     "output_type": "stream",
     "text": [
      "gamma= 15 , ratio= 0.5 , M= 10.0 : 0.9304362785576659\n"
     ]
    },
    {
     "name": "stderr",
     "output_type": "stream",
     "text": [
      "100%|██████████| 3772/3772 [00:01<00:00, 2020.63it/s]\n",
      "  5%|▌         | 196/3772 [00:00<00:01, 1951.22it/s]"
     ]
    },
    {
     "name": "stdout",
     "output_type": "stream",
     "text": [
      "gamma= 15 , ratio= 1.0 , M= 1.0 : 0.9404624277456648\n"
     ]
    },
    {
     "name": "stderr",
     "output_type": "stream",
     "text": [
      "100%|██████████| 3772/3772 [00:01<00:00, 2011.19it/s]\n",
      "  6%|▌         | 225/3772 [00:00<00:01, 2246.85it/s]"
     ]
    },
    {
     "name": "stdout",
     "output_type": "stream",
     "text": [
      "gamma= 15 , ratio= 1.0 , M= 5.0 : 0.9399325626204239\n"
     ]
    },
    {
     "name": "stderr",
     "output_type": "stream",
     "text": [
      "100%|██████████| 3772/3772 [00:01<00:00, 2103.44it/s]\n",
      "  4%|▍         | 159/3772 [00:00<00:02, 1589.38it/s]"
     ]
    },
    {
     "name": "stdout",
     "output_type": "stream",
     "text": [
      "gamma= 15 , ratio= 1.0 , M= 10.0 : 0.9396091384530691\n"
     ]
    },
    {
     "name": "stderr",
     "output_type": "stream",
     "text": [
      "100%|██████████| 3772/3772 [00:02<00:00, 1612.60it/s]\n",
      "  4%|▍         | 158/3772 [00:00<00:02, 1579.02it/s]"
     ]
    },
    {
     "name": "stdout",
     "output_type": "stream",
     "text": [
      "gamma= 5 , ratio= 0.1 , M= 1.0 : 0.9431323974676576\n"
     ]
    },
    {
     "name": "stderr",
     "output_type": "stream",
     "text": [
      "100%|██████████| 3772/3772 [00:02<00:00, 1563.14it/s]\n",
      "  4%|▍         | 148/3772 [00:00<00:02, 1476.18it/s]"
     ]
    },
    {
     "name": "stdout",
     "output_type": "stream",
     "text": [
      "gamma= 5 , ratio= 0.1 , M= 5.0 : 0.9427470410129369\n"
     ]
    },
    {
     "name": "stderr",
     "output_type": "stream",
     "text": [
      "100%|██████████| 3772/3772 [00:02<00:00, 1481.96it/s]\n",
      "  4%|▍         | 158/3772 [00:00<00:02, 1578.56it/s]"
     ]
    },
    {
     "name": "stdout",
     "output_type": "stream",
     "text": [
      "gamma= 5 , ratio= 0.1 , M= 10.0 : 0.9437517203413157\n"
     ]
    },
    {
     "name": "stderr",
     "output_type": "stream",
     "text": [
      "100%|██████████| 3772/3772 [00:02<00:00, 1546.18it/s]\n",
      "  7%|▋         | 267/3772 [00:00<00:02, 1333.85it/s]"
     ]
    },
    {
     "name": "stdout",
     "output_type": "stream",
     "text": [
      "gamma= 5 , ratio= 0.5 , M= 1.0 : 0.9431323974676576\n"
     ]
    },
    {
     "name": "stderr",
     "output_type": "stream",
     "text": [
      "100%|██████████| 3772/3772 [00:02<00:00, 1420.66it/s]\n",
      "  7%|▋         | 282/3772 [00:00<00:02, 1413.45it/s]"
     ]
    },
    {
     "name": "stdout",
     "output_type": "stream",
     "text": [
      "gamma= 5 , ratio= 0.5 , M= 5.0 : 0.9423892100192678\n"
     ]
    },
    {
     "name": "stderr",
     "output_type": "stream",
     "text": [
      "100%|██████████| 3772/3772 [00:02<00:00, 1417.34it/s]\n",
      "  4%|▍         | 146/3772 [00:00<00:02, 1454.55it/s]"
     ]
    },
    {
     "name": "stdout",
     "output_type": "stream",
     "text": [
      "gamma= 5 , ratio= 0.5 , M= 10.0 : 0.9454720616570327\n"
     ]
    },
    {
     "name": "stderr",
     "output_type": "stream",
     "text": [
      "100%|██████████| 3772/3772 [00:02<00:00, 1583.64it/s]\n",
      "  4%|▍         | 152/3772 [00:00<00:02, 1513.64it/s]"
     ]
    },
    {
     "name": "stdout",
     "output_type": "stream",
     "text": [
      "gamma= 5 , ratio= 1.0 , M= 1.0 : 0.9431323974676576\n"
     ]
    },
    {
     "name": "stderr",
     "output_type": "stream",
     "text": [
      "100%|██████████| 3772/3772 [00:02<00:00, 1346.52it/s]\n",
      "  4%|▍         | 150/3772 [00:00<00:02, 1497.51it/s]"
     ]
    },
    {
     "name": "stdout",
     "output_type": "stream",
     "text": [
      "gamma= 5 , ratio= 1.0 , M= 5.0 : 0.9453757225433526\n"
     ]
    },
    {
     "name": "stderr",
     "output_type": "stream",
     "text": [
      "100%|██████████| 3772/3772 [00:02<00:00, 1548.70it/s]\n",
      "  4%|▍         | 160/3772 [00:00<00:02, 1597.57it/s]"
     ]
    },
    {
     "name": "stdout",
     "output_type": "stream",
     "text": [
      "gamma= 5 , ratio= 1.0 , M= 10.0 : 0.9725708780622075\n"
     ]
    },
    {
     "name": "stderr",
     "output_type": "stream",
     "text": [
      "100%|██████████| 3772/3772 [00:02<00:00, 1453.95it/s]\n",
      "  4%|▍         | 155/3772 [00:00<00:02, 1544.13it/s]"
     ]
    },
    {
     "name": "stdout",
     "output_type": "stream",
     "text": [
      "gamma= 10 , ratio= 0.1 , M= 1.0 : 0.9431323974676575\n"
     ]
    },
    {
     "name": "stderr",
     "output_type": "stream",
     "text": [
      "100%|██████████| 3772/3772 [00:02<00:00, 1269.54it/s]\n",
      "  3%|▎         | 115/3772 [00:00<00:03, 1139.64it/s]"
     ]
    },
    {
     "name": "stdout",
     "output_type": "stream",
     "text": [
      "gamma= 10 , ratio= 0.1 , M= 5.0 : 0.9810624827965868\n"
     ]
    },
    {
     "name": "stderr",
     "output_type": "stream",
     "text": [
      "100%|██████████| 3772/3772 [00:02<00:00, 1441.87it/s]\n",
      "  4%|▍         | 145/3772 [00:00<00:02, 1445.57it/s]"
     ]
    },
    {
     "name": "stdout",
     "output_type": "stream",
     "text": [
      "gamma= 10 , ratio= 0.1 , M= 10.0 : 0.9369804569226534\n"
     ]
    },
    {
     "name": "stderr",
     "output_type": "stream",
     "text": [
      "100%|██████████| 3772/3772 [00:02<00:00, 1495.59it/s]\n",
      "  4%|▎         | 138/3772 [00:00<00:02, 1370.75it/s]"
     ]
    },
    {
     "name": "stdout",
     "output_type": "stream",
     "text": [
      "gamma= 10 , ratio= 0.5 , M= 1.0 : 0.9431323974676575\n"
     ]
    },
    {
     "name": "stderr",
     "output_type": "stream",
     "text": [
      "100%|██████████| 3772/3772 [00:02<00:00, 1352.51it/s]\n",
      "  4%|▍         | 151/3772 [00:00<00:02, 1506.27it/s]"
     ]
    },
    {
     "name": "stdout",
     "output_type": "stream",
     "text": [
      "gamma= 10 , ratio= 0.5 , M= 5.0 : 0.9720203688411782\n"
     ]
    },
    {
     "name": "stderr",
     "output_type": "stream",
     "text": [
      "100%|██████████| 3772/3772 [00:02<00:00, 1517.20it/s]\n",
      "  4%|▍         | 160/3772 [00:00<00:02, 1597.36it/s]"
     ]
    },
    {
     "name": "stdout",
     "output_type": "stream",
     "text": [
      "gamma= 10 , ratio= 0.5 , M= 10.0 : 0.943999449490779\n"
     ]
    },
    {
     "name": "stderr",
     "output_type": "stream",
     "text": [
      "100%|██████████| 3772/3772 [00:02<00:00, 1561.22it/s]\n",
      "  4%|▍         | 153/3772 [00:00<00:02, 1524.62it/s]"
     ]
    },
    {
     "name": "stdout",
     "output_type": "stream",
     "text": [
      "gamma= 10 , ratio= 1.0 , M= 1.0 : 0.9431323974676575\n"
     ]
    },
    {
     "name": "stderr",
     "output_type": "stream",
     "text": [
      "100%|██████████| 3772/3772 [00:02<00:00, 1547.93it/s]\n",
      "  4%|▍         | 160/3772 [00:00<00:02, 1590.90it/s]"
     ]
    },
    {
     "name": "stdout",
     "output_type": "stream",
     "text": [
      "gamma= 10 , ratio= 1.0 , M= 5.0 : 0.935390861546931\n"
     ]
    },
    {
     "name": "stderr",
     "output_type": "stream",
     "text": [
      "100%|██████████| 3772/3772 [00:02<00:00, 1522.17it/s]\n",
      "  4%|▍         | 153/3772 [00:00<00:02, 1522.99it/s]"
     ]
    },
    {
     "name": "stdout",
     "output_type": "stream",
     "text": [
      "gamma= 10 , ratio= 1.0 , M= 10.0 : 0.9423892100192678\n"
     ]
    },
    {
     "name": "stderr",
     "output_type": "stream",
     "text": [
      "100%|██████████| 3772/3772 [00:02<00:00, 1519.36it/s]\n",
      "  4%|▍         | 152/3772 [00:00<00:02, 1510.96it/s]"
     ]
    },
    {
     "name": "stdout",
     "output_type": "stream",
     "text": [
      "gamma= 15 , ratio= 0.1 , M= 1.0 : 0.9431323974676575\n"
     ]
    },
    {
     "name": "stderr",
     "output_type": "stream",
     "text": [
      "100%|██████████| 3772/3772 [00:02<00:00, 1518.38it/s]\n",
      "  8%|▊         | 314/3772 [00:00<00:02, 1561.57it/s]"
     ]
    },
    {
     "name": "stdout",
     "output_type": "stream",
     "text": [
      "gamma= 15 , ratio= 0.1 , M= 5.0 : 0.9434282961739608\n"
     ]
    },
    {
     "name": "stderr",
     "output_type": "stream",
     "text": [
      "100%|██████████| 3772/3772 [00:02<00:00, 1493.87it/s]\n",
      "  4%|▍         | 154/3772 [00:00<00:02, 1530.41it/s]"
     ]
    },
    {
     "name": "stdout",
     "output_type": "stream",
     "text": [
      "gamma= 15 , ratio= 0.1 , M= 10.0 : 0.975419763281035\n"
     ]
    },
    {
     "name": "stderr",
     "output_type": "stream",
     "text": [
      "100%|██████████| 3772/3772 [00:02<00:00, 1514.57it/s]\n",
      "  8%|▊         | 310/3772 [00:00<00:02, 1550.56it/s]"
     ]
    },
    {
     "name": "stdout",
     "output_type": "stream",
     "text": [
      "gamma= 15 , ratio= 0.5 , M= 1.0 : 0.9431323974676575\n"
     ]
    },
    {
     "name": "stderr",
     "output_type": "stream",
     "text": [
      "100%|██████████| 3772/3772 [00:02<00:00, 1338.47it/s]\n",
      "  4%|▎         | 133/3772 [00:00<00:02, 1329.16it/s]"
     ]
    },
    {
     "name": "stdout",
     "output_type": "stream",
     "text": [
      "gamma= 15 , ratio= 0.5 , M= 5.0 : 0.9448940269749518\n"
     ]
    },
    {
     "name": "stderr",
     "output_type": "stream",
     "text": [
      "100%|██████████| 3772/3772 [00:02<00:00, 1429.88it/s]\n",
      "  4%|▍         | 151/3772 [00:00<00:02, 1504.10it/s]"
     ]
    },
    {
     "name": "stdout",
     "output_type": "stream",
     "text": [
      "gamma= 15 , ratio= 0.5 , M= 10.0 : 0.9366088631984586\n"
     ]
    },
    {
     "name": "stderr",
     "output_type": "stream",
     "text": [
      "100%|██████████| 3772/3772 [00:02<00:00, 1515.13it/s]\n",
      "  4%|▎         | 140/3772 [00:00<00:02, 1394.41it/s]"
     ]
    },
    {
     "name": "stdout",
     "output_type": "stream",
     "text": [
      "gamma= 15 , ratio= 1.0 , M= 1.0 : 0.9431323974676575\n"
     ]
    },
    {
     "name": "stderr",
     "output_type": "stream",
     "text": [
      "100%|██████████| 3772/3772 [00:02<00:00, 1350.16it/s]\n",
      "  4%|▍         | 148/3772 [00:00<00:02, 1471.06it/s]"
     ]
    },
    {
     "name": "stdout",
     "output_type": "stream",
     "text": [
      "gamma= 15 , ratio= 1.0 , M= 5.0 : 0.9464010459675201\n"
     ]
    },
    {
     "name": "stderr",
     "output_type": "stream",
     "text": [
      "100%|██████████| 3772/3772 [00:02<00:00, 1384.04it/s]\n",
      " 11%|█         | 407/3772 [00:00<00:00, 4068.25it/s]"
     ]
    },
    {
     "name": "stdout",
     "output_type": "stream",
     "text": [
      "gamma= 15 , ratio= 1.0 , M= 10.0 : 0.9424167354803192\n"
     ]
    },
    {
     "name": "stderr",
     "output_type": "stream",
     "text": [
      "100%|██████████| 3772/3772 [00:00<00:00, 3825.20it/s]\n",
      " 10%|█         | 381/3772 [00:00<00:00, 3799.97it/s]"
     ]
    },
    {
     "name": "stdout",
     "output_type": "stream",
     "text": [
      "gamma= 5 , ratio= 0.1 , M= 1.0 : 0.9405243600330306\n"
     ]
    },
    {
     "name": "stderr",
     "output_type": "stream",
     "text": [
      "100%|██████████| 3772/3772 [00:00<00:00, 3966.05it/s]\n",
      "  9%|▉         | 358/3772 [00:00<00:00, 3575.57it/s]"
     ]
    },
    {
     "name": "stdout",
     "output_type": "stream",
     "text": [
      "gamma= 5 , ratio= 0.1 , M= 5.0 : 0.9499311863473713\n"
     ]
    },
    {
     "name": "stderr",
     "output_type": "stream",
     "text": [
      "100%|██████████| 3772/3772 [00:01<00:00, 3330.54it/s]\n",
      " 17%|█▋        | 640/3772 [00:00<00:00, 3205.50it/s]"
     ]
    },
    {
     "name": "stdout",
     "output_type": "stream",
     "text": [
      "gamma= 5 , ratio= 0.1 , M= 10.0 : 0.9318676025323425\n"
     ]
    },
    {
     "name": "stderr",
     "output_type": "stream",
     "text": [
      "100%|██████████| 3772/3772 [00:01<00:00, 3244.52it/s]\n",
      " 17%|█▋        | 631/3772 [00:00<00:00, 3162.57it/s]"
     ]
    },
    {
     "name": "stdout",
     "output_type": "stream",
     "text": [
      "gamma= 5 , ratio= 0.5 , M= 1.0 : 0.9405243600330306\n"
     ]
    },
    {
     "name": "stderr",
     "output_type": "stream",
     "text": [
      "100%|██████████| 3772/3772 [00:01<00:00, 3112.65it/s]\n",
      "  9%|▉         | 349/3772 [00:00<00:00, 3482.94it/s]"
     ]
    },
    {
     "name": "stdout",
     "output_type": "stream",
     "text": [
      "gamma= 5 , ratio= 0.5 , M= 5.0 : 0.9361134048995321\n"
     ]
    },
    {
     "name": "stderr",
     "output_type": "stream",
     "text": [
      "100%|██████████| 3772/3772 [00:01<00:00, 3124.23it/s]\n",
      " 11%|█         | 402/3772 [00:00<00:00, 4012.29it/s]"
     ]
    },
    {
     "name": "stdout",
     "output_type": "stream",
     "text": [
      "gamma= 5 , ratio= 0.5 , M= 10.0 : 0.9454720616570327\n"
     ]
    },
    {
     "name": "stderr",
     "output_type": "stream",
     "text": [
      "100%|██████████| 3772/3772 [00:00<00:00, 3821.98it/s]\n",
      "  8%|▊         | 314/3772 [00:00<00:01, 3132.30it/s]"
     ]
    },
    {
     "name": "stdout",
     "output_type": "stream",
     "text": [
      "gamma= 5 , ratio= 1.0 , M= 1.0 : 0.9405243600330306\n"
     ]
    },
    {
     "name": "stderr",
     "output_type": "stream",
     "text": [
      "100%|██████████| 3772/3772 [00:01<00:00, 3047.03it/s]\n",
      "  9%|▊         | 323/3772 [00:00<00:01, 3223.86it/s]"
     ]
    },
    {
     "name": "stdout",
     "output_type": "stream",
     "text": [
      "gamma= 5 , ratio= 1.0 , M= 5.0 : 0.9453757225433526\n"
     ]
    },
    {
     "name": "stderr",
     "output_type": "stream",
     "text": [
      "100%|██████████| 3772/3772 [00:01<00:00, 3253.17it/s]\n",
      "  9%|▊         | 326/3772 [00:00<00:01, 3257.04it/s]"
     ]
    },
    {
     "name": "stdout",
     "output_type": "stream",
     "text": [
      "gamma= 5 , ratio= 1.0 , M= 10.0 : 0.9725708780622075\n"
     ]
    },
    {
     "name": "stderr",
     "output_type": "stream",
     "text": [
      "100%|██████████| 3772/3772 [00:01<00:00, 3112.83it/s]\n",
      "  9%|▉         | 348/3772 [00:00<00:00, 3470.39it/s]"
     ]
    },
    {
     "name": "stdout",
     "output_type": "stream",
     "text": [
      "gamma= 10 , ratio= 0.1 , M= 1.0 : 0.9405243600330306\n"
     ]
    },
    {
     "name": "stderr",
     "output_type": "stream",
     "text": [
      "100%|██████████| 3772/3772 [00:01<00:00, 2975.18it/s]\n",
      " 10%|▉         | 359/3772 [00:00<00:00, 3580.02it/s]"
     ]
    },
    {
     "name": "stdout",
     "output_type": "stream",
     "text": [
      "gamma= 10 , ratio= 0.1 , M= 5.0 : 0.9589388934764657\n"
     ]
    },
    {
     "name": "stderr",
     "output_type": "stream",
     "text": [
      "100%|██████████| 3772/3772 [00:01<00:00, 3293.76it/s]\n",
      "  5%|▌         | 205/3772 [00:00<00:01, 2046.36it/s]"
     ]
    },
    {
     "name": "stdout",
     "output_type": "stream",
     "text": [
      "gamma= 10 , ratio= 0.1 , M= 10.0 : 0.9287985136251032\n"
     ]
    },
    {
     "name": "stderr",
     "output_type": "stream",
     "text": [
      "100%|██████████| 3772/3772 [00:01<00:00, 2616.18it/s]\n",
      "  8%|▊         | 291/3772 [00:00<00:01, 2908.86it/s]"
     ]
    },
    {
     "name": "stdout",
     "output_type": "stream",
     "text": [
      "gamma= 10 , ratio= 0.5 , M= 1.0 : 0.9405243600330306\n"
     ]
    },
    {
     "name": "stderr",
     "output_type": "stream",
     "text": [
      "100%|██████████| 3772/3772 [00:01<00:00, 3003.69it/s]\n",
      "  9%|▉         | 355/3772 [00:00<00:00, 3540.36it/s]"
     ]
    },
    {
     "name": "stdout",
     "output_type": "stream",
     "text": [
      "gamma= 10 , ratio= 0.5 , M= 5.0 : 0.9825901458849435\n"
     ]
    },
    {
     "name": "stderr",
     "output_type": "stream",
     "text": [
      "100%|██████████| 3772/3772 [00:01<00:00, 3141.75it/s]\n",
      "  7%|▋         | 250/3772 [00:00<00:01, 2493.98it/s]"
     ]
    },
    {
     "name": "stdout",
     "output_type": "stream",
     "text": [
      "gamma= 10 , ratio= 0.5 , M= 10.0 : 0.9322254335260116\n"
     ]
    },
    {
     "name": "stderr",
     "output_type": "stream",
     "text": [
      "100%|██████████| 3772/3772 [00:01<00:00, 2917.07it/s]\n",
      "  8%|▊         | 308/3772 [00:00<00:01, 3072.85it/s]"
     ]
    },
    {
     "name": "stdout",
     "output_type": "stream",
     "text": [
      "gamma= 10 , ratio= 1.0 , M= 1.0 : 0.9405243600330306\n"
     ]
    },
    {
     "name": "stderr",
     "output_type": "stream",
     "text": [
      "100%|██████████| 3772/3772 [00:01<00:00, 3195.33it/s]\n",
      "  7%|▋         | 262/3772 [00:00<00:01, 2615.68it/s]"
     ]
    },
    {
     "name": "stdout",
     "output_type": "stream",
     "text": [
      "gamma= 10 , ratio= 1.0 , M= 5.0 : 0.9701348747591523\n"
     ]
    },
    {
     "name": "stderr",
     "output_type": "stream",
     "text": [
      "100%|██████████| 3772/3772 [00:01<00:00, 2956.95it/s]\n",
      "  7%|▋         | 274/3772 [00:00<00:01, 2737.42it/s]"
     ]
    },
    {
     "name": "stdout",
     "output_type": "stream",
     "text": [
      "gamma= 10 , ratio= 1.0 , M= 10.0 : 0.9361134048995321\n"
     ]
    },
    {
     "name": "stderr",
     "output_type": "stream",
     "text": [
      "100%|██████████| 3772/3772 [00:01<00:00, 2883.17it/s]\n",
      "  6%|▋         | 236/3772 [00:00<00:01, 2359.01it/s]"
     ]
    },
    {
     "name": "stdout",
     "output_type": "stream",
     "text": [
      "gamma= 15 , ratio= 0.1 , M= 1.0 : 0.9405243600330306\n"
     ]
    },
    {
     "name": "stderr",
     "output_type": "stream",
     "text": [
      "100%|██████████| 3772/3772 [00:01<00:00, 3006.53it/s]\n",
      "  7%|▋         | 262/3772 [00:00<00:01, 2610.83it/s]"
     ]
    },
    {
     "name": "stdout",
     "output_type": "stream",
     "text": [
      "gamma= 15 , ratio= 0.1 , M= 5.0 : 0.9408064960088082\n"
     ]
    },
    {
     "name": "stderr",
     "output_type": "stream",
     "text": [
      "100%|██████████| 3772/3772 [00:01<00:00, 2808.70it/s]\n",
      "  7%|▋         | 254/3772 [00:00<00:01, 2532.95it/s]"
     ]
    },
    {
     "name": "stdout",
     "output_type": "stream",
     "text": [
      "gamma= 15 , ratio= 0.1 , M= 10.0 : 0.9826451968070465\n"
     ]
    },
    {
     "name": "stderr",
     "output_type": "stream",
     "text": [
      "100%|██████████| 3772/3772 [00:01<00:00, 2754.03it/s]\n",
      "  9%|▊         | 326/3772 [00:00<00:01, 3259.35it/s]"
     ]
    },
    {
     "name": "stdout",
     "output_type": "stream",
     "text": [
      "gamma= 15 , ratio= 0.5 , M= 1.0 : 0.9405243600330306\n"
     ]
    },
    {
     "name": "stderr",
     "output_type": "stream",
     "text": [
      "100%|██████████| 3772/3772 [00:01<00:00, 2728.01it/s]\n",
      " 10%|▉         | 366/3772 [00:00<00:00, 3659.42it/s]"
     ]
    },
    {
     "name": "stdout",
     "output_type": "stream",
     "text": [
      "gamma= 15 , ratio= 0.5 , M= 5.0 : 0.9413845306908891\n"
     ]
    },
    {
     "name": "stderr",
     "output_type": "stream",
     "text": [
      "100%|██████████| 3772/3772 [00:01<00:00, 2958.53it/s]\n",
      " 11%|█         | 407/3772 [00:00<00:01, 2082.73it/s]"
     ]
    },
    {
     "name": "stdout",
     "output_type": "stream",
     "text": [
      "gamma= 15 , ratio= 0.5 , M= 10.0 : 0.9292526837324526\n"
     ]
    },
    {
     "name": "stderr",
     "output_type": "stream",
     "text": [
      "100%|██████████| 3772/3772 [00:01<00:00, 3148.33it/s]\n",
      " 10%|█         | 379/3772 [00:00<00:00, 3782.65it/s]"
     ]
    },
    {
     "name": "stdout",
     "output_type": "stream",
     "text": [
      "gamma= 15 , ratio= 1.0 , M= 1.0 : 0.9405243600330306\n"
     ]
    },
    {
     "name": "stderr",
     "output_type": "stream",
     "text": [
      "100%|██████████| 3772/3772 [00:01<00:00, 3487.22it/s]\n",
      " 18%|█▊        | 677/3772 [00:00<00:00, 3391.07it/s]"
     ]
    },
    {
     "name": "stdout",
     "output_type": "stream",
     "text": [
      "gamma= 15 , ratio= 1.0 , M= 5.0 : 0.9419763281034957\n"
     ]
    },
    {
     "name": "stderr",
     "output_type": "stream",
     "text": [
      "100%|██████████| 3772/3772 [00:01<00:00, 3514.44it/s]\n",
      "  6%|▌         | 220/3772 [00:00<00:01, 2195.98it/s]"
     ]
    },
    {
     "name": "stdout",
     "output_type": "stream",
     "text": [
      "gamma= 15 , ratio= 1.0 , M= 10.0 : 0.9292664464629782\n"
     ]
    },
    {
     "name": "stderr",
     "output_type": "stream",
     "text": [
      "100%|██████████| 3772/3772 [00:01<00:00, 2338.61it/s]\n",
      "  6%|▌         | 211/3772 [00:00<00:01, 2106.53it/s]"
     ]
    },
    {
     "name": "stdout",
     "output_type": "stream",
     "text": [
      "gamma= 5 , ratio= 0.1 , M= 1.0 : 0.9404624277456648\n"
     ]
    },
    {
     "name": "stderr",
     "output_type": "stream",
     "text": [
      "100%|██████████| 3772/3772 [00:01<00:00, 2063.39it/s]\n",
      " 11%|█         | 414/3772 [00:00<00:01, 2049.67it/s]"
     ]
    },
    {
     "name": "stdout",
     "output_type": "stream",
     "text": [
      "gamma= 5 , ratio= 0.1 , M= 5.0 : 0.9399669694467382\n"
     ]
    },
    {
     "name": "stderr",
     "output_type": "stream",
     "text": [
      "100%|██████████| 3772/3772 [00:01<00:00, 2044.41it/s]\n",
      " 11%|█         | 421/3772 [00:00<00:01, 2103.23it/s]"
     ]
    },
    {
     "name": "stdout",
     "output_type": "stream",
     "text": [
      "gamma= 5 , ratio= 0.1 , M= 10.0 : 0.9452656206991468\n"
     ]
    },
    {
     "name": "stderr",
     "output_type": "stream",
     "text": [
      "100%|██████████| 3772/3772 [00:01<00:00, 1927.25it/s]\n",
      " 11%|█         | 417/3772 [00:00<00:01, 2083.27it/s]"
     ]
    },
    {
     "name": "stdout",
     "output_type": "stream",
     "text": [
      "gamma= 5 , ratio= 0.5 , M= 1.0 : 0.9404624277456648\n"
     ]
    },
    {
     "name": "stderr",
     "output_type": "stream",
     "text": [
      "100%|██████████| 3772/3772 [00:01<00:00, 1969.68it/s]\n",
      "  5%|▌         | 207/3772 [00:00<00:01, 2060.73it/s]"
     ]
    },
    {
     "name": "stdout",
     "output_type": "stream",
     "text": [
      "gamma= 5 , ratio= 0.5 , M= 5.0 : 0.942485549132948\n"
     ]
    },
    {
     "name": "stderr",
     "output_type": "stream",
     "text": [
      "100%|██████████| 3772/3772 [00:01<00:00, 1948.69it/s]\n",
      "  6%|▌         | 217/3772 [00:00<00:01, 2165.19it/s]"
     ]
    },
    {
     "name": "stdout",
     "output_type": "stream",
     "text": [
      "gamma= 5 , ratio= 0.5 , M= 10.0 : 0.9354734379300852\n"
     ]
    },
    {
     "name": "stderr",
     "output_type": "stream",
     "text": [
      "100%|██████████| 3772/3772 [00:01<00:00, 2129.82it/s]\n",
      "  5%|▌         | 196/3772 [00:00<00:01, 1957.16it/s]"
     ]
    },
    {
     "name": "stdout",
     "output_type": "stream",
     "text": [
      "gamma= 5 , ratio= 1.0 , M= 1.0 : 0.9404624277456648\n"
     ]
    },
    {
     "name": "stderr",
     "output_type": "stream",
     "text": [
      "100%|██████████| 3772/3772 [00:01<00:00, 1931.43it/s]\n",
      " 11%|█         | 402/3772 [00:00<00:01, 1982.09it/s]"
     ]
    },
    {
     "name": "stdout",
     "output_type": "stream",
     "text": [
      "gamma= 5 , ratio= 1.0 , M= 5.0 : 0.9341590971648775\n"
     ]
    },
    {
     "name": "stderr",
     "output_type": "stream",
     "text": [
      "100%|██████████| 3772/3772 [00:01<00:00, 2005.38it/s]\n",
      "  5%|▌         | 206/3772 [00:00<00:01, 2054.61it/s]"
     ]
    },
    {
     "name": "stdout",
     "output_type": "stream",
     "text": [
      "gamma= 5 , ratio= 1.0 , M= 10.0 : 0.9725708780622075\n"
     ]
    },
    {
     "name": "stderr",
     "output_type": "stream",
     "text": [
      "100%|██████████| 3772/3772 [00:01<00:00, 1927.43it/s]\n",
      "  6%|▌         | 208/3772 [00:00<00:01, 2078.01it/s]"
     ]
    },
    {
     "name": "stdout",
     "output_type": "stream",
     "text": [
      "gamma= 10 , ratio= 0.1 , M= 1.0 : 0.9404624277456648\n"
     ]
    },
    {
     "name": "stderr",
     "output_type": "stream",
     "text": [
      "100%|██████████| 3772/3772 [00:01<00:00, 1982.83it/s]\n",
      "  6%|▌         | 214/3772 [00:00<00:01, 2133.84it/s]"
     ]
    },
    {
     "name": "stdout",
     "output_type": "stream",
     "text": [
      "gamma= 10 , ratio= 0.1 , M= 5.0 : 0.9769474263693917\n"
     ]
    },
    {
     "name": "stderr",
     "output_type": "stream",
     "text": [
      "100%|██████████| 3772/3772 [00:01<00:00, 1983.94it/s]\n",
      "  5%|▌         | 200/3772 [00:00<00:01, 1992.45it/s]"
     ]
    },
    {
     "name": "stdout",
     "output_type": "stream",
     "text": [
      "gamma= 10 , ratio= 0.1 , M= 10.0 : 0.931055601431324\n"
     ]
    },
    {
     "name": "stderr",
     "output_type": "stream",
     "text": [
      "100%|██████████| 3772/3772 [00:02<00:00, 1682.62it/s]\n",
      " 10%|█         | 395/3772 [00:00<00:01, 1984.46it/s]"
     ]
    },
    {
     "name": "stdout",
     "output_type": "stream",
     "text": [
      "gamma= 10 , ratio= 0.5 , M= 1.0 : 0.9404624277456648\n"
     ]
    },
    {
     "name": "stderr",
     "output_type": "stream",
     "text": [
      "100%|██████████| 3772/3772 [00:01<00:00, 2092.05it/s]\n",
      "  5%|▌         | 201/3772 [00:00<00:01, 2002.15it/s]"
     ]
    },
    {
     "name": "stdout",
     "output_type": "stream",
     "text": [
      "gamma= 10 , ratio= 0.5 , M= 5.0 : 0.9659922928709056\n"
     ]
    },
    {
     "name": "stderr",
     "output_type": "stream",
     "text": [
      "100%|██████████| 3772/3772 [00:01<00:00, 2045.93it/s]\n",
      "  5%|▌         | 204/3772 [00:00<00:01, 2034.40it/s]"
     ]
    },
    {
     "name": "stdout",
     "output_type": "stream",
     "text": [
      "gamma= 10 , ratio= 0.5 , M= 10.0 : 0.9460088081475364\n"
     ]
    },
    {
     "name": "stderr",
     "output_type": "stream",
     "text": [
      "100%|██████████| 3772/3772 [00:01<00:00, 1947.77it/s]\n",
      " 11%|█         | 407/3772 [00:00<00:01, 2037.37it/s]"
     ]
    },
    {
     "name": "stdout",
     "output_type": "stream",
     "text": [
      "gamma= 10 , ratio= 1.0 , M= 1.0 : 0.9404624277456648\n"
     ]
    },
    {
     "name": "stderr",
     "output_type": "stream",
     "text": [
      "100%|██████████| 3772/3772 [00:01<00:00, 2076.89it/s]\n",
      "  6%|▌         | 216/3772 [00:00<00:01, 2154.96it/s]"
     ]
    },
    {
     "name": "stdout",
     "output_type": "stream",
     "text": [
      "gamma= 10 , ratio= 1.0 , M= 5.0 : 0.9460432149738508\n"
     ]
    },
    {
     "name": "stderr",
     "output_type": "stream",
     "text": [
      "100%|██████████| 3772/3772 [00:01<00:00, 2093.72it/s]\n",
      "  6%|▌         | 213/3772 [00:00<00:01, 2124.41it/s]"
     ]
    },
    {
     "name": "stdout",
     "output_type": "stream",
     "text": [
      "gamma= 10 , ratio= 1.0 , M= 10.0 : 0.942485549132948\n"
     ]
    },
    {
     "name": "stderr",
     "output_type": "stream",
     "text": [
      "100%|██████████| 3772/3772 [00:01<00:00, 2107.18it/s]\n",
      " 12%|█▏        | 443/3772 [00:00<00:01, 2209.38it/s]"
     ]
    },
    {
     "name": "stdout",
     "output_type": "stream",
     "text": [
      "gamma= 15 , ratio= 0.1 , M= 1.0 : 0.9404624277456648\n"
     ]
    },
    {
     "name": "stderr",
     "output_type": "stream",
     "text": [
      "100%|██████████| 3772/3772 [00:01<00:00, 2157.15it/s]\n",
      "  6%|▌         | 215/3772 [00:00<00:01, 2140.30it/s]"
     ]
    },
    {
     "name": "stdout",
     "output_type": "stream",
     "text": [
      "gamma= 15 , ratio= 0.1 , M= 5.0 : 0.9404624277456648\n"
     ]
    },
    {
     "name": "stderr",
     "output_type": "stream",
     "text": [
      "100%|██████████| 3772/3772 [00:01<00:00, 2125.62it/s]\n",
      " 11%|█         | 420/3772 [00:00<00:01, 2099.03it/s]"
     ]
    },
    {
     "name": "stdout",
     "output_type": "stream",
     "text": [
      "gamma= 15 , ratio= 0.1 , M= 10.0 : 0.9677470410129371\n"
     ]
    },
    {
     "name": "stderr",
     "output_type": "stream",
     "text": [
      "100%|██████████| 3772/3772 [00:01<00:00, 2103.60it/s]\n",
      " 11%|█         | 421/3772 [00:00<00:01, 2103.44it/s]"
     ]
    },
    {
     "name": "stdout",
     "output_type": "stream",
     "text": [
      "gamma= 15 , ratio= 0.5 , M= 1.0 : 0.9404624277456648\n"
     ]
    },
    {
     "name": "stderr",
     "output_type": "stream",
     "text": [
      "100%|██████████| 3772/3772 [00:01<00:00, 2133.53it/s]\n",
      "  6%|▌         | 218/3772 [00:00<00:01, 2170.86it/s]"
     ]
    },
    {
     "name": "stdout",
     "output_type": "stream",
     "text": [
      "gamma= 15 , ratio= 0.5 , M= 5.0 : 0.9410404624277456\n"
     ]
    },
    {
     "name": "stderr",
     "output_type": "stream",
     "text": [
      "100%|██████████| 3772/3772 [00:01<00:00, 2096.68it/s]\n",
      "  6%|▌         | 212/3772 [00:00<00:01, 2114.69it/s]"
     ]
    },
    {
     "name": "stdout",
     "output_type": "stream",
     "text": [
      "gamma= 15 , ratio= 0.5 , M= 10.0 : 0.9304362785576659\n"
     ]
    },
    {
     "name": "stderr",
     "output_type": "stream",
     "text": [
      "100%|██████████| 3772/3772 [00:01<00:00, 2045.86it/s]\n",
      "  6%|▌         | 208/3772 [00:00<00:01, 2071.94it/s]"
     ]
    },
    {
     "name": "stdout",
     "output_type": "stream",
     "text": [
      "gamma= 15 , ratio= 1.0 , M= 1.0 : 0.9404624277456648\n"
     ]
    },
    {
     "name": "stderr",
     "output_type": "stream",
     "text": [
      "100%|██████████| 3772/3772 [00:01<00:00, 2050.95it/s]\n",
      " 11%|█         | 422/3772 [00:00<00:01, 2100.02it/s]"
     ]
    },
    {
     "name": "stdout",
     "output_type": "stream",
     "text": [
      "gamma= 15 , ratio= 1.0 , M= 5.0 : 0.9399325626204239\n"
     ]
    },
    {
     "name": "stderr",
     "output_type": "stream",
     "text": [
      "100%|██████████| 3772/3772 [00:01<00:00, 1886.73it/s]\n",
      "  3%|▎         | 126/3772 [00:00<00:02, 1252.93it/s]"
     ]
    },
    {
     "name": "stdout",
     "output_type": "stream",
     "text": [
      "gamma= 15 , ratio= 1.0 , M= 10.0 : 0.9396091384530691\n"
     ]
    },
    {
     "name": "stderr",
     "output_type": "stream",
     "text": [
      "100%|██████████| 3772/3772 [00:02<00:00, 1452.43it/s]\n",
      "  4%|▎         | 140/3772 [00:00<00:02, 1394.70it/s]"
     ]
    },
    {
     "name": "stdout",
     "output_type": "stream",
     "text": [
      "gamma= 5 , ratio= 0.1 , M= 1.0 : 0.9431323974676576\n"
     ]
    },
    {
     "name": "stderr",
     "output_type": "stream",
     "text": [
      "100%|██████████| 3772/3772 [00:02<00:00, 1363.08it/s]\n",
      "  3%|▎         | 132/3772 [00:00<00:02, 1317.14it/s]"
     ]
    },
    {
     "name": "stdout",
     "output_type": "stream",
     "text": [
      "gamma= 5 , ratio= 0.1 , M= 5.0 : 0.9427470410129369\n"
     ]
    },
    {
     "name": "stderr",
     "output_type": "stream",
     "text": [
      "100%|██████████| 3772/3772 [00:02<00:00, 1384.83it/s]\n",
      "  3%|▎         | 121/3772 [00:00<00:03, 1208.53it/s]"
     ]
    },
    {
     "name": "stdout",
     "output_type": "stream",
     "text": [
      "gamma= 5 , ratio= 0.1 , M= 10.0 : 0.9437517203413157\n"
     ]
    },
    {
     "name": "stderr",
     "output_type": "stream",
     "text": [
      "100%|██████████| 3772/3772 [00:02<00:00, 1421.08it/s]\n",
      "  4%|▍         | 155/3772 [00:00<00:02, 1542.59it/s]"
     ]
    },
    {
     "name": "stdout",
     "output_type": "stream",
     "text": [
      "gamma= 5 , ratio= 0.5 , M= 1.0 : 0.9431323974676576\n"
     ]
    },
    {
     "name": "stderr",
     "output_type": "stream",
     "text": [
      "100%|██████████| 3772/3772 [00:02<00:00, 1395.62it/s]\n",
      "  4%|▎         | 139/3772 [00:00<00:02, 1388.43it/s]"
     ]
    },
    {
     "name": "stdout",
     "output_type": "stream",
     "text": [
      "gamma= 5 , ratio= 0.5 , M= 5.0 : 0.9423892100192678\n"
     ]
    },
    {
     "name": "stderr",
     "output_type": "stream",
     "text": [
      "100%|██████████| 3772/3772 [00:02<00:00, 1413.95it/s]\n",
      "  4%|▍         | 160/3772 [00:00<00:02, 1594.47it/s]"
     ]
    },
    {
     "name": "stdout",
     "output_type": "stream",
     "text": [
      "gamma= 5 , ratio= 0.5 , M= 10.0 : 0.9454720616570327\n"
     ]
    },
    {
     "name": "stderr",
     "output_type": "stream",
     "text": [
      "100%|██████████| 3772/3772 [00:02<00:00, 1528.47it/s]\n",
      "  8%|▊         | 291/3772 [00:00<00:02, 1456.55it/s]"
     ]
    },
    {
     "name": "stdout",
     "output_type": "stream",
     "text": [
      "gamma= 5 , ratio= 1.0 , M= 1.0 : 0.9431323974676576\n"
     ]
    },
    {
     "name": "stderr",
     "output_type": "stream",
     "text": [
      "100%|██████████| 3772/3772 [00:02<00:00, 1471.54it/s]\n",
      "  4%|▎         | 140/3772 [00:00<00:02, 1396.41it/s]"
     ]
    },
    {
     "name": "stdout",
     "output_type": "stream",
     "text": [
      "gamma= 5 , ratio= 1.0 , M= 5.0 : 0.9453757225433526\n"
     ]
    },
    {
     "name": "stderr",
     "output_type": "stream",
     "text": [
      "100%|██████████| 3772/3772 [00:02<00:00, 1462.46it/s]\n",
      "  4%|▍         | 149/3772 [00:00<00:02, 1484.39it/s]"
     ]
    },
    {
     "name": "stdout",
     "output_type": "stream",
     "text": [
      "gamma= 5 , ratio= 1.0 , M= 10.0 : 0.9725708780622075\n"
     ]
    },
    {
     "name": "stderr",
     "output_type": "stream",
     "text": [
      "100%|██████████| 3772/3772 [00:02<00:00, 1475.88it/s]\n",
      "  4%|▍         | 152/3772 [00:00<00:02, 1510.82it/s]"
     ]
    },
    {
     "name": "stdout",
     "output_type": "stream",
     "text": [
      "gamma= 10 , ratio= 0.1 , M= 1.0 : 0.9431323974676575\n"
     ]
    },
    {
     "name": "stderr",
     "output_type": "stream",
     "text": [
      "100%|██████████| 3772/3772 [00:02<00:00, 1445.02it/s]\n",
      "  4%|▍         | 156/3772 [00:00<00:02, 1555.33it/s]"
     ]
    },
    {
     "name": "stdout",
     "output_type": "stream",
     "text": [
      "gamma= 10 , ratio= 0.1 , M= 5.0 : 0.9810624827965868\n"
     ]
    },
    {
     "name": "stderr",
     "output_type": "stream",
     "text": [
      "100%|██████████| 3772/3772 [00:02<00:00, 1460.48it/s]\n",
      "  8%|▊         | 297/3772 [00:00<00:02, 1482.38it/s]"
     ]
    },
    {
     "name": "stdout",
     "output_type": "stream",
     "text": [
      "gamma= 10 , ratio= 0.1 , M= 10.0 : 0.9369804569226534\n"
     ]
    },
    {
     "name": "stderr",
     "output_type": "stream",
     "text": [
      "100%|██████████| 3772/3772 [00:02<00:00, 1409.35it/s]\n",
      "  4%|▍         | 159/3772 [00:00<00:02, 1581.56it/s]"
     ]
    },
    {
     "name": "stdout",
     "output_type": "stream",
     "text": [
      "gamma= 10 , ratio= 0.5 , M= 1.0 : 0.9431323974676575\n"
     ]
    },
    {
     "name": "stderr",
     "output_type": "stream",
     "text": [
      "100%|██████████| 3772/3772 [00:02<00:00, 1527.74it/s]\n",
      "  4%|▍         | 150/3772 [00:00<00:02, 1492.55it/s]"
     ]
    },
    {
     "name": "stdout",
     "output_type": "stream",
     "text": [
      "gamma= 10 , ratio= 0.5 , M= 5.0 : 0.9720203688411782\n"
     ]
    },
    {
     "name": "stderr",
     "output_type": "stream",
     "text": [
      "100%|██████████| 3772/3772 [00:02<00:00, 1542.39it/s]\n",
      "  4%|▍         | 164/3772 [00:00<00:02, 1636.65it/s]"
     ]
    },
    {
     "name": "stdout",
     "output_type": "stream",
     "text": [
      "gamma= 10 , ratio= 0.5 , M= 10.0 : 0.943999449490779\n"
     ]
    },
    {
     "name": "stderr",
     "output_type": "stream",
     "text": [
      "100%|██████████| 3772/3772 [00:02<00:00, 1558.02it/s]\n",
      "  4%|▍         | 155/3772 [00:00<00:02, 1545.84it/s]"
     ]
    },
    {
     "name": "stdout",
     "output_type": "stream",
     "text": [
      "gamma= 10 , ratio= 1.0 , M= 1.0 : 0.9431323974676575\n"
     ]
    },
    {
     "name": "stderr",
     "output_type": "stream",
     "text": [
      "100%|██████████| 3772/3772 [00:02<00:00, 1554.65it/s]\n",
      "  8%|▊         | 305/3772 [00:00<00:02, 1520.74it/s]"
     ]
    },
    {
     "name": "stdout",
     "output_type": "stream",
     "text": [
      "gamma= 10 , ratio= 1.0 , M= 5.0 : 0.935390861546931\n"
     ]
    },
    {
     "name": "stderr",
     "output_type": "stream",
     "text": [
      "100%|██████████| 3772/3772 [00:02<00:00, 1560.23it/s]\n",
      "  4%|▍         | 155/3772 [00:00<00:02, 1548.93it/s]"
     ]
    },
    {
     "name": "stdout",
     "output_type": "stream",
     "text": [
      "gamma= 10 , ratio= 1.0 , M= 10.0 : 0.9423892100192678\n"
     ]
    },
    {
     "name": "stderr",
     "output_type": "stream",
     "text": [
      "100%|██████████| 3772/3772 [00:02<00:00, 1518.57it/s]\n",
      "  4%|▍         | 150/3772 [00:00<00:02, 1492.83it/s]"
     ]
    },
    {
     "name": "stdout",
     "output_type": "stream",
     "text": [
      "gamma= 15 , ratio= 0.1 , M= 1.0 : 0.9431323974676575\n"
     ]
    },
    {
     "name": "stderr",
     "output_type": "stream",
     "text": [
      "100%|██████████| 3772/3772 [00:02<00:00, 1484.38it/s]\n",
      "  4%|▍         | 150/3772 [00:00<00:02, 1499.29it/s]"
     ]
    },
    {
     "name": "stdout",
     "output_type": "stream",
     "text": [
      "gamma= 15 , ratio= 0.1 , M= 5.0 : 0.9434282961739608\n"
     ]
    },
    {
     "name": "stderr",
     "output_type": "stream",
     "text": [
      "100%|██████████| 3772/3772 [00:02<00:00, 1492.30it/s]\n",
      "  4%|▍         | 154/3772 [00:00<00:02, 1539.94it/s]"
     ]
    },
    {
     "name": "stdout",
     "output_type": "stream",
     "text": [
      "gamma= 15 , ratio= 0.1 , M= 10.0 : 0.975419763281035\n"
     ]
    },
    {
     "name": "stderr",
     "output_type": "stream",
     "text": [
      "100%|██████████| 3772/3772 [00:02<00:00, 1521.25it/s]\n",
      "  4%|▍         | 153/3772 [00:00<00:02, 1524.98it/s]"
     ]
    },
    {
     "name": "stdout",
     "output_type": "stream",
     "text": [
      "gamma= 15 , ratio= 0.5 , M= 1.0 : 0.9431323974676575\n"
     ]
    },
    {
     "name": "stderr",
     "output_type": "stream",
     "text": [
      "100%|██████████| 3772/3772 [00:02<00:00, 1522.07it/s]\n",
      "  8%|▊         | 313/3772 [00:00<00:02, 1563.94it/s]"
     ]
    },
    {
     "name": "stdout",
     "output_type": "stream",
     "text": [
      "gamma= 15 , ratio= 0.5 , M= 5.0 : 0.9448940269749518\n"
     ]
    },
    {
     "name": "stderr",
     "output_type": "stream",
     "text": [
      "100%|██████████| 3772/3772 [00:02<00:00, 1498.95it/s]\n",
      "  8%|▊         | 306/3772 [00:00<00:02, 1526.17it/s]"
     ]
    },
    {
     "name": "stdout",
     "output_type": "stream",
     "text": [
      "gamma= 15 , ratio= 0.5 , M= 10.0 : 0.9366088631984586\n"
     ]
    },
    {
     "name": "stderr",
     "output_type": "stream",
     "text": [
      "100%|██████████| 3772/3772 [00:02<00:00, 1394.19it/s]\n",
      "  3%|▎         | 126/3772 [00:00<00:02, 1254.73it/s]"
     ]
    },
    {
     "name": "stdout",
     "output_type": "stream",
     "text": [
      "gamma= 15 , ratio= 1.0 , M= 1.0 : 0.9431323974676575\n"
     ]
    },
    {
     "name": "stderr",
     "output_type": "stream",
     "text": [
      "100%|██████████| 3772/3772 [00:02<00:00, 1285.07it/s]\n",
      "  3%|▎         | 120/3772 [00:00<00:03, 1192.39it/s]"
     ]
    },
    {
     "name": "stdout",
     "output_type": "stream",
     "text": [
      "gamma= 15 , ratio= 1.0 , M= 5.0 : 0.9464010459675201\n"
     ]
    },
    {
     "name": "stderr",
     "output_type": "stream",
     "text": [
      "100%|██████████| 3772/3772 [00:03<00:00, 1214.26it/s]\n",
      "  9%|▉         | 331/3772 [00:00<00:01, 3308.70it/s]"
     ]
    },
    {
     "name": "stdout",
     "output_type": "stream",
     "text": [
      "gamma= 15 , ratio= 1.0 , M= 10.0 : 0.9424167354803192\n"
     ]
    },
    {
     "name": "stderr",
     "output_type": "stream",
     "text": [
      "100%|██████████| 3772/3772 [00:01<00:00, 3221.41it/s]\n",
      " 10%|▉         | 362/3772 [00:00<00:00, 3618.95it/s]"
     ]
    },
    {
     "name": "stdout",
     "output_type": "stream",
     "text": [
      "gamma= 5 , ratio= 0.1 , M= 1.0 : 0.9405243600330306\n"
     ]
    },
    {
     "name": "stderr",
     "output_type": "stream",
     "text": [
      "100%|██████████| 3772/3772 [00:01<00:00, 3536.07it/s]\n",
      "  7%|▋         | 277/3772 [00:00<00:01, 2768.43it/s]"
     ]
    },
    {
     "name": "stdout",
     "output_type": "stream",
     "text": [
      "gamma= 5 , ratio= 0.1 , M= 5.0 : 0.9499311863473713\n"
     ]
    },
    {
     "name": "stderr",
     "output_type": "stream",
     "text": [
      "100%|██████████| 3772/3772 [00:01<00:00, 2940.19it/s]\n",
      " 17%|█▋        | 633/3772 [00:00<00:00, 3160.51it/s]"
     ]
    },
    {
     "name": "stdout",
     "output_type": "stream",
     "text": [
      "gamma= 5 , ratio= 0.1 , M= 10.0 : 0.9318676025323425\n"
     ]
    },
    {
     "name": "stderr",
     "output_type": "stream",
     "text": [
      "100%|██████████| 3772/3772 [00:01<00:00, 3103.50it/s]\n",
      "  9%|▉         | 342/3772 [00:00<00:01, 3414.50it/s]"
     ]
    },
    {
     "name": "stdout",
     "output_type": "stream",
     "text": [
      "gamma= 5 , ratio= 0.5 , M= 1.0 : 0.9405243600330306\n"
     ]
    },
    {
     "name": "stderr",
     "output_type": "stream",
     "text": [
      "100%|██████████| 3772/3772 [00:01<00:00, 3004.02it/s]\n",
      "  8%|▊         | 288/3772 [00:00<00:01, 2872.93it/s]"
     ]
    },
    {
     "name": "stdout",
     "output_type": "stream",
     "text": [
      "gamma= 5 , ratio= 0.5 , M= 5.0 : 0.9361134048995321\n"
     ]
    },
    {
     "name": "stderr",
     "output_type": "stream",
     "text": [
      "100%|██████████| 3772/3772 [00:01<00:00, 2710.98it/s]\n",
      " 10%|█         | 382/3772 [00:00<00:00, 3815.68it/s]"
     ]
    },
    {
     "name": "stdout",
     "output_type": "stream",
     "text": [
      "gamma= 5 , ratio= 0.5 , M= 10.0 : 0.9454720616570327\n"
     ]
    },
    {
     "name": "stderr",
     "output_type": "stream",
     "text": [
      "100%|██████████| 3772/3772 [00:00<00:00, 3895.81it/s]\n",
      " 10%|▉         | 371/3772 [00:00<00:00, 3702.08it/s]"
     ]
    },
    {
     "name": "stdout",
     "output_type": "stream",
     "text": [
      "gamma= 5 , ratio= 1.0 , M= 1.0 : 0.9405243600330306\n"
     ]
    },
    {
     "name": "stderr",
     "output_type": "stream",
     "text": [
      "100%|██████████| 3772/3772 [00:01<00:00, 3279.25it/s]\n",
      " 17%|█▋        | 624/3772 [00:00<00:00, 3161.36it/s]"
     ]
    },
    {
     "name": "stdout",
     "output_type": "stream",
     "text": [
      "gamma= 5 , ratio= 1.0 , M= 5.0 : 0.9453757225433526\n"
     ]
    },
    {
     "name": "stderr",
     "output_type": "stream",
     "text": [
      "100%|██████████| 3772/3772 [00:01<00:00, 3322.67it/s]\n",
      "  9%|▉         | 338/3772 [00:00<00:01, 3378.51it/s]"
     ]
    },
    {
     "name": "stdout",
     "output_type": "stream",
     "text": [
      "gamma= 5 , ratio= 1.0 , M= 10.0 : 0.9725708780622075\n"
     ]
    },
    {
     "name": "stderr",
     "output_type": "stream",
     "text": [
      "100%|██████████| 3772/3772 [00:01<00:00, 2904.70it/s]\n",
      "  8%|▊         | 300/3772 [00:00<00:01, 2994.91it/s]"
     ]
    },
    {
     "name": "stdout",
     "output_type": "stream",
     "text": [
      "gamma= 10 , ratio= 0.1 , M= 1.0 : 0.9405243600330306\n"
     ]
    },
    {
     "name": "stderr",
     "output_type": "stream",
     "text": [
      "100%|██████████| 3772/3772 [00:01<00:00, 2855.88it/s]\n",
      "  8%|▊         | 287/3772 [00:00<00:01, 2863.93it/s]"
     ]
    },
    {
     "name": "stdout",
     "output_type": "stream",
     "text": [
      "gamma= 10 , ratio= 0.1 , M= 5.0 : 0.9589388934764657\n"
     ]
    },
    {
     "name": "stderr",
     "output_type": "stream",
     "text": [
      "100%|██████████| 3772/3772 [00:01<00:00, 2814.74it/s]\n",
      "  7%|▋         | 281/3772 [00:00<00:01, 2804.53it/s]"
     ]
    },
    {
     "name": "stdout",
     "output_type": "stream",
     "text": [
      "gamma= 10 , ratio= 0.1 , M= 10.0 : 0.9287985136251032\n"
     ]
    },
    {
     "name": "stderr",
     "output_type": "stream",
     "text": [
      "100%|██████████| 3772/3772 [00:01<00:00, 2786.40it/s]\n",
      "  8%|▊         | 285/3772 [00:00<00:01, 2844.37it/s]"
     ]
    },
    {
     "name": "stdout",
     "output_type": "stream",
     "text": [
      "gamma= 10 , ratio= 0.5 , M= 1.0 : 0.9405243600330306\n"
     ]
    },
    {
     "name": "stderr",
     "output_type": "stream",
     "text": [
      "100%|██████████| 3772/3772 [00:01<00:00, 2619.86it/s]\n",
      " 13%|█▎        | 503/3772 [00:00<00:01, 2519.91it/s]"
     ]
    },
    {
     "name": "stdout",
     "output_type": "stream",
     "text": [
      "gamma= 10 , ratio= 0.5 , M= 5.0 : 0.9825901458849435\n"
     ]
    },
    {
     "name": "stderr",
     "output_type": "stream",
     "text": [
      "100%|██████████| 3772/3772 [00:01<00:00, 2609.82it/s]\n",
      " 13%|█▎        | 499/3772 [00:00<00:01, 2498.94it/s]"
     ]
    },
    {
     "name": "stdout",
     "output_type": "stream",
     "text": [
      "gamma= 10 , ratio= 0.5 , M= 10.0 : 0.9322254335260116\n"
     ]
    },
    {
     "name": "stderr",
     "output_type": "stream",
     "text": [
      "100%|██████████| 3772/3772 [00:01<00:00, 2749.29it/s]\n",
      "  8%|▊         | 311/3772 [00:00<00:01, 3104.32it/s]"
     ]
    },
    {
     "name": "stdout",
     "output_type": "stream",
     "text": [
      "gamma= 10 , ratio= 1.0 , M= 1.0 : 0.9405243600330306\n"
     ]
    },
    {
     "name": "stderr",
     "output_type": "stream",
     "text": [
      "100%|██████████| 3772/3772 [00:01<00:00, 2807.04it/s]\n",
      "  9%|▊         | 324/3772 [00:00<00:01, 3236.15it/s]"
     ]
    },
    {
     "name": "stdout",
     "output_type": "stream",
     "text": [
      "gamma= 10 , ratio= 1.0 , M= 5.0 : 0.9701348747591523\n"
     ]
    },
    {
     "name": "stderr",
     "output_type": "stream",
     "text": [
      "100%|██████████| 3772/3772 [00:01<00:00, 2894.84it/s]\n",
      "  7%|▋         | 253/3772 [00:00<00:01, 2529.07it/s]"
     ]
    },
    {
     "name": "stdout",
     "output_type": "stream",
     "text": [
      "gamma= 10 , ratio= 1.0 , M= 10.0 : 0.9361134048995321\n"
     ]
    },
    {
     "name": "stderr",
     "output_type": "stream",
     "text": [
      "100%|██████████| 3772/3772 [00:01<00:00, 2875.07it/s]\n",
      "  6%|▌         | 232/3772 [00:00<00:01, 2316.96it/s]"
     ]
    },
    {
     "name": "stdout",
     "output_type": "stream",
     "text": [
      "gamma= 15 , ratio= 0.1 , M= 1.0 : 0.9405243600330306\n"
     ]
    },
    {
     "name": "stderr",
     "output_type": "stream",
     "text": [
      "100%|██████████| 3772/3772 [00:01<00:00, 2691.88it/s]\n",
      " 16%|█▌        | 586/3772 [00:00<00:01, 2925.37it/s]"
     ]
    },
    {
     "name": "stdout",
     "output_type": "stream",
     "text": [
      "gamma= 15 , ratio= 0.1 , M= 5.0 : 0.9408064960088082\n"
     ]
    },
    {
     "name": "stderr",
     "output_type": "stream",
     "text": [
      "100%|██████████| 3772/3772 [00:01<00:00, 2933.19it/s]\n",
      " 20%|█▉        | 736/3772 [00:00<00:00, 3687.58it/s]"
     ]
    },
    {
     "name": "stdout",
     "output_type": "stream",
     "text": [
      "gamma= 15 , ratio= 0.1 , M= 10.0 : 0.9826451968070465\n"
     ]
    },
    {
     "name": "stderr",
     "output_type": "stream",
     "text": [
      "100%|██████████| 3772/3772 [00:01<00:00, 3068.85it/s]\n",
      " 15%|█▌        | 569/3772 [00:00<00:01, 2842.97it/s]"
     ]
    },
    {
     "name": "stdout",
     "output_type": "stream",
     "text": [
      "gamma= 15 , ratio= 0.5 , M= 1.0 : 0.9405243600330306\n"
     ]
    },
    {
     "name": "stderr",
     "output_type": "stream",
     "text": [
      "100%|██████████| 3772/3772 [00:01<00:00, 2898.16it/s]\n",
      "  7%|▋         | 269/3772 [00:00<00:01, 2687.54it/s]"
     ]
    },
    {
     "name": "stdout",
     "output_type": "stream",
     "text": [
      "gamma= 15 , ratio= 0.5 , M= 5.0 : 0.9413845306908891\n"
     ]
    },
    {
     "name": "stderr",
     "output_type": "stream",
     "text": [
      "100%|██████████| 3772/3772 [00:01<00:00, 2780.78it/s]\n",
      "  7%|▋         | 281/3772 [00:00<00:01, 2804.97it/s]"
     ]
    },
    {
     "name": "stdout",
     "output_type": "stream",
     "text": [
      "gamma= 15 , ratio= 0.5 , M= 10.0 : 0.9292526837324526\n"
     ]
    },
    {
     "name": "stderr",
     "output_type": "stream",
     "text": [
      "100%|██████████| 3772/3772 [00:01<00:00, 2804.59it/s]\n",
      "  9%|▊         | 325/3772 [00:00<00:01, 3244.19it/s]"
     ]
    },
    {
     "name": "stdout",
     "output_type": "stream",
     "text": [
      "gamma= 15 , ratio= 1.0 , M= 1.0 : 0.9405243600330306\n"
     ]
    },
    {
     "name": "stderr",
     "output_type": "stream",
     "text": [
      "100%|██████████| 3772/3772 [00:01<00:00, 3403.20it/s]\n",
      "  8%|▊         | 306/3772 [00:00<00:01, 3059.36it/s]"
     ]
    },
    {
     "name": "stdout",
     "output_type": "stream",
     "text": [
      "gamma= 15 , ratio= 1.0 , M= 5.0 : 0.9419763281034957\n"
     ]
    },
    {
     "name": "stderr",
     "output_type": "stream",
     "text": [
      "100%|██████████| 3772/3772 [00:01<00:00, 2900.37it/s]\n",
      "  4%|▍         | 161/3772 [00:00<00:02, 1601.23it/s]"
     ]
    },
    {
     "name": "stdout",
     "output_type": "stream",
     "text": [
      "gamma= 15 , ratio= 1.0 , M= 10.0 : 0.9292664464629782\n"
     ]
    },
    {
     "name": "stderr",
     "output_type": "stream",
     "text": [
      "100%|██████████| 3772/3772 [00:02<00:00, 1796.36it/s]\n",
      "  5%|▍         | 172/3772 [00:00<00:02, 1715.14it/s]"
     ]
    },
    {
     "name": "stdout",
     "output_type": "stream",
     "text": [
      "gamma= 5 , ratio= 0.1 , M= 1.0 : 0.9404624277456648\n"
     ]
    },
    {
     "name": "stderr",
     "output_type": "stream",
     "text": [
      "100%|██████████| 3772/3772 [00:02<00:00, 1492.32it/s]\n",
      "  5%|▍         | 179/3772 [00:00<00:02, 1782.33it/s]"
     ]
    },
    {
     "name": "stdout",
     "output_type": "stream",
     "text": [
      "gamma= 5 , ratio= 0.1 , M= 5.0 : 0.9399669694467382\n"
     ]
    },
    {
     "name": "stderr",
     "output_type": "stream",
     "text": [
      "100%|██████████| 3772/3772 [00:02<00:00, 1839.02it/s]\n",
      "  6%|▌         | 223/3772 [00:00<00:01, 2220.01it/s]"
     ]
    },
    {
     "name": "stdout",
     "output_type": "stream",
     "text": [
      "gamma= 5 , ratio= 0.1 , M= 10.0 : 0.9452656206991468\n"
     ]
    },
    {
     "name": "stderr",
     "output_type": "stream",
     "text": [
      "100%|██████████| 3772/3772 [00:01<00:00, 2057.59it/s]\n",
      "  6%|▌         | 220/3772 [00:00<00:01, 2195.41it/s]"
     ]
    },
    {
     "name": "stdout",
     "output_type": "stream",
     "text": [
      "gamma= 5 , ratio= 0.5 , M= 1.0 : 0.9404624277456648\n"
     ]
    },
    {
     "name": "stderr",
     "output_type": "stream",
     "text": [
      "100%|██████████| 3772/3772 [00:01<00:00, 1910.07it/s]\n",
      "  5%|▌         | 193/3772 [00:00<00:01, 1924.71it/s]"
     ]
    },
    {
     "name": "stdout",
     "output_type": "stream",
     "text": [
      "gamma= 5 , ratio= 0.5 , M= 5.0 : 0.942485549132948\n"
     ]
    },
    {
     "name": "stderr",
     "output_type": "stream",
     "text": [
      "100%|██████████| 3772/3772 [00:01<00:00, 1963.61it/s]\n",
      " 10%|▉         | 374/3772 [00:00<00:01, 1869.63it/s]"
     ]
    },
    {
     "name": "stdout",
     "output_type": "stream",
     "text": [
      "gamma= 5 , ratio= 0.5 , M= 10.0 : 0.9354734379300852\n"
     ]
    },
    {
     "name": "stderr",
     "output_type": "stream",
     "text": [
      "100%|██████████| 3772/3772 [00:01<00:00, 1967.78it/s]\n",
      "  5%|▍         | 172/3772 [00:00<00:02, 1711.46it/s]"
     ]
    },
    {
     "name": "stdout",
     "output_type": "stream",
     "text": [
      "gamma= 5 , ratio= 1.0 , M= 1.0 : 0.9404624277456648\n"
     ]
    },
    {
     "name": "stderr",
     "output_type": "stream",
     "text": [
      "100%|██████████| 3772/3772 [00:02<00:00, 1666.73it/s]\n",
      "  9%|▊         | 326/3772 [00:00<00:02, 1628.89it/s]"
     ]
    },
    {
     "name": "stdout",
     "output_type": "stream",
     "text": [
      "gamma= 5 , ratio= 1.0 , M= 5.0 : 0.9341590971648775\n"
     ]
    },
    {
     "name": "stderr",
     "output_type": "stream",
     "text": [
      "100%|██████████| 3772/3772 [00:02<00:00, 1646.23it/s]\n",
      "  5%|▍         | 181/3772 [00:00<00:01, 1809.50it/s]"
     ]
    },
    {
     "name": "stdout",
     "output_type": "stream",
     "text": [
      "gamma= 5 , ratio= 1.0 , M= 10.0 : 0.9725708780622075\n"
     ]
    },
    {
     "name": "stderr",
     "output_type": "stream",
     "text": [
      "100%|██████████| 3772/3772 [00:02<00:00, 1617.46it/s]\n",
      "  5%|▍         | 180/3772 [00:00<00:02, 1795.70it/s]"
     ]
    },
    {
     "name": "stdout",
     "output_type": "stream",
     "text": [
      "gamma= 10 , ratio= 0.1 , M= 1.0 : 0.9404624277456648\n"
     ]
    },
    {
     "name": "stderr",
     "output_type": "stream",
     "text": [
      "100%|██████████| 3772/3772 [00:02<00:00, 1674.85it/s]\n",
      "  5%|▍         | 181/3772 [00:00<00:01, 1799.78it/s]"
     ]
    },
    {
     "name": "stdout",
     "output_type": "stream",
     "text": [
      "gamma= 10 , ratio= 0.1 , M= 5.0 : 0.9769474263693917\n"
     ]
    },
    {
     "name": "stderr",
     "output_type": "stream",
     "text": [
      "100%|██████████| 3772/3772 [00:02<00:00, 1646.99it/s]\n",
      "  9%|▉         | 356/3772 [00:00<00:01, 1781.18it/s]"
     ]
    },
    {
     "name": "stdout",
     "output_type": "stream",
     "text": [
      "gamma= 10 , ratio= 0.1 , M= 10.0 : 0.931055601431324\n"
     ]
    },
    {
     "name": "stderr",
     "output_type": "stream",
     "text": [
      "100%|██████████| 3772/3772 [00:02<00:00, 1667.17it/s]\n",
      "  5%|▍         | 173/3772 [00:00<00:02, 1723.96it/s]"
     ]
    },
    {
     "name": "stdout",
     "output_type": "stream",
     "text": [
      "gamma= 10 , ratio= 0.5 , M= 1.0 : 0.9404624277456648\n"
     ]
    },
    {
     "name": "stderr",
     "output_type": "stream",
     "text": [
      "100%|██████████| 3772/3772 [00:02<00:00, 1652.97it/s]\n",
      " 10%|▉         | 364/3772 [00:00<00:01, 1817.64it/s]"
     ]
    },
    {
     "name": "stdout",
     "output_type": "stream",
     "text": [
      "gamma= 10 , ratio= 0.5 , M= 5.0 : 0.9659922928709056\n"
     ]
    },
    {
     "name": "stderr",
     "output_type": "stream",
     "text": [
      "100%|██████████| 3772/3772 [00:02<00:00, 1646.16it/s]\n",
      "  4%|▍         | 157/3772 [00:00<00:02, 1563.57it/s]"
     ]
    },
    {
     "name": "stdout",
     "output_type": "stream",
     "text": [
      "gamma= 10 , ratio= 0.5 , M= 10.0 : 0.9460088081475364\n"
     ]
    },
    {
     "name": "stderr",
     "output_type": "stream",
     "text": [
      "100%|██████████| 3772/3772 [00:02<00:00, 1594.06it/s]\n",
      "  5%|▍         | 183/3772 [00:00<00:01, 1828.24it/s]"
     ]
    },
    {
     "name": "stdout",
     "output_type": "stream",
     "text": [
      "gamma= 10 , ratio= 1.0 , M= 1.0 : 0.9404624277456648\n"
     ]
    },
    {
     "name": "stderr",
     "output_type": "stream",
     "text": [
      "100%|██████████| 3772/3772 [00:02<00:00, 1667.21it/s]\n",
      "  4%|▍         | 157/3772 [00:00<00:02, 1566.58it/s]"
     ]
    },
    {
     "name": "stdout",
     "output_type": "stream",
     "text": [
      "gamma= 10 , ratio= 1.0 , M= 5.0 : 0.9460432149738508\n"
     ]
    },
    {
     "name": "stderr",
     "output_type": "stream",
     "text": [
      "100%|██████████| 3772/3772 [00:02<00:00, 1558.72it/s]\n",
      "  8%|▊         | 295/3772 [00:00<00:02, 1475.33it/s]"
     ]
    },
    {
     "name": "stdout",
     "output_type": "stream",
     "text": [
      "gamma= 10 , ratio= 1.0 , M= 10.0 : 0.942485549132948\n"
     ]
    },
    {
     "name": "stderr",
     "output_type": "stream",
     "text": [
      "100%|██████████| 3772/3772 [00:02<00:00, 1540.36it/s]\n",
      "  4%|▍         | 164/3772 [00:00<00:02, 1631.78it/s]"
     ]
    },
    {
     "name": "stdout",
     "output_type": "stream",
     "text": [
      "gamma= 15 , ratio= 0.1 , M= 1.0 : 0.9404624277456648\n"
     ]
    },
    {
     "name": "stderr",
     "output_type": "stream",
     "text": [
      "100%|██████████| 3772/3772 [00:02<00:00, 1565.96it/s]\n",
      "  8%|▊         | 287/3772 [00:00<00:02, 1431.15it/s]"
     ]
    },
    {
     "name": "stdout",
     "output_type": "stream",
     "text": [
      "gamma= 15 , ratio= 0.1 , M= 5.0 : 0.9404624277456648\n"
     ]
    },
    {
     "name": "stderr",
     "output_type": "stream",
     "text": [
      "100%|██████████| 3772/3772 [00:02<00:00, 1575.65it/s]\n",
      "  3%|▎         | 121/3772 [00:00<00:03, 1204.24it/s]"
     ]
    },
    {
     "name": "stdout",
     "output_type": "stream",
     "text": [
      "gamma= 15 , ratio= 0.1 , M= 10.0 : 0.9677470410129371\n"
     ]
    },
    {
     "name": "stderr",
     "output_type": "stream",
     "text": [
      "100%|██████████| 3772/3772 [00:01<00:00, 2077.32it/s]\n",
      " 11%|█         | 410/3772 [00:00<00:01, 2052.91it/s]"
     ]
    },
    {
     "name": "stdout",
     "output_type": "stream",
     "text": [
      "gamma= 15 , ratio= 0.5 , M= 1.0 : 0.9404624277456648\n"
     ]
    },
    {
     "name": "stderr",
     "output_type": "stream",
     "text": [
      "100%|██████████| 3772/3772 [00:01<00:00, 2161.83it/s]\n",
      "  6%|▌         | 220/3772 [00:00<00:01, 2197.30it/s]"
     ]
    },
    {
     "name": "stdout",
     "output_type": "stream",
     "text": [
      "gamma= 15 , ratio= 0.5 , M= 5.0 : 0.9410404624277456\n"
     ]
    },
    {
     "name": "stderr",
     "output_type": "stream",
     "text": [
      "100%|██████████| 3772/3772 [00:02<00:00, 1765.05it/s]\n",
      "  6%|▌         | 213/3772 [00:00<00:01, 2126.15it/s]"
     ]
    },
    {
     "name": "stdout",
     "output_type": "stream",
     "text": [
      "gamma= 15 , ratio= 0.5 , M= 10.0 : 0.9304362785576659\n"
     ]
    },
    {
     "name": "stderr",
     "output_type": "stream",
     "text": [
      "100%|██████████| 3772/3772 [00:01<00:00, 1936.21it/s]\n",
      "  6%|▌         | 229/3772 [00:00<00:01, 2285.95it/s]"
     ]
    },
    {
     "name": "stdout",
     "output_type": "stream",
     "text": [
      "gamma= 15 , ratio= 1.0 , M= 1.0 : 0.9404624277456648\n"
     ]
    },
    {
     "name": "stderr",
     "output_type": "stream",
     "text": [
      "100%|██████████| 3772/3772 [00:01<00:00, 2000.42it/s]\n",
      "  6%|▌         | 216/3772 [00:00<00:01, 2151.03it/s]"
     ]
    },
    {
     "name": "stdout",
     "output_type": "stream",
     "text": [
      "gamma= 15 , ratio= 1.0 , M= 5.0 : 0.9399325626204239\n"
     ]
    },
    {
     "name": "stderr",
     "output_type": "stream",
     "text": [
      "100%|██████████| 3772/3772 [00:01<00:00, 1908.32it/s]\n",
      "  4%|▍         | 161/3772 [00:00<00:02, 1604.43it/s]"
     ]
    },
    {
     "name": "stdout",
     "output_type": "stream",
     "text": [
      "gamma= 15 , ratio= 1.0 , M= 10.0 : 0.9396091384530691\n"
     ]
    },
    {
     "name": "stderr",
     "output_type": "stream",
     "text": [
      "100%|██████████| 3772/3772 [00:02<00:00, 1466.49it/s]\n",
      "  4%|▍         | 156/3772 [00:00<00:02, 1556.70it/s]"
     ]
    },
    {
     "name": "stdout",
     "output_type": "stream",
     "text": [
      "gamma= 5 , ratio= 0.1 , M= 1.0 : 0.9431323974676576\n"
     ]
    },
    {
     "name": "stderr",
     "output_type": "stream",
     "text": [
      "100%|██████████| 3772/3772 [00:02<00:00, 1374.15it/s]\n",
      "  4%|▍         | 157/3772 [00:00<00:02, 1562.61it/s]"
     ]
    },
    {
     "name": "stdout",
     "output_type": "stream",
     "text": [
      "gamma= 5 , ratio= 0.1 , M= 5.0 : 0.9427470410129369\n"
     ]
    },
    {
     "name": "stderr",
     "output_type": "stream",
     "text": [
      "100%|██████████| 3772/3772 [00:02<00:00, 1462.75it/s]\n",
      "  8%|▊         | 294/3772 [00:00<00:02, 1471.24it/s]"
     ]
    },
    {
     "name": "stdout",
     "output_type": "stream",
     "text": [
      "gamma= 5 , ratio= 0.1 , M= 10.0 : 0.9437517203413157\n"
     ]
    },
    {
     "name": "stderr",
     "output_type": "stream",
     "text": [
      "100%|██████████| 3772/3772 [00:02<00:00, 1514.65it/s]\n",
      "  4%|▍         | 146/3772 [00:00<00:02, 1454.56it/s]"
     ]
    },
    {
     "name": "stdout",
     "output_type": "stream",
     "text": [
      "gamma= 5 , ratio= 0.5 , M= 1.0 : 0.9431323974676576\n"
     ]
    },
    {
     "name": "stderr",
     "output_type": "stream",
     "text": [
      "100%|██████████| 3772/3772 [00:02<00:00, 1393.01it/s]\n",
      "  4%|▍         | 150/3772 [00:00<00:02, 1498.41it/s]"
     ]
    },
    {
     "name": "stdout",
     "output_type": "stream",
     "text": [
      "gamma= 5 , ratio= 0.5 , M= 5.0 : 0.9423892100192678\n"
     ]
    },
    {
     "name": "stderr",
     "output_type": "stream",
     "text": [
      "100%|██████████| 3772/3772 [00:02<00:00, 1390.25it/s]\n",
      "  8%|▊         | 299/3772 [00:00<00:02, 1500.37it/s]"
     ]
    },
    {
     "name": "stdout",
     "output_type": "stream",
     "text": [
      "gamma= 5 , ratio= 0.5 , M= 10.0 : 0.9454720616570327\n"
     ]
    },
    {
     "name": "stderr",
     "output_type": "stream",
     "text": [
      "100%|██████████| 3772/3772 [00:02<00:00, 1400.97it/s]\n",
      "  4%|▍         | 144/3772 [00:00<00:02, 1439.28it/s]"
     ]
    },
    {
     "name": "stdout",
     "output_type": "stream",
     "text": [
      "gamma= 5 , ratio= 1.0 , M= 1.0 : 0.9431323974676576\n"
     ]
    },
    {
     "name": "stderr",
     "output_type": "stream",
     "text": [
      "100%|██████████| 3772/3772 [00:02<00:00, 1354.64it/s]\n",
      "  4%|▍         | 148/3772 [00:00<00:02, 1474.50it/s]"
     ]
    },
    {
     "name": "stdout",
     "output_type": "stream",
     "text": [
      "gamma= 5 , ratio= 1.0 , M= 5.0 : 0.9453757225433526\n"
     ]
    },
    {
     "name": "stderr",
     "output_type": "stream",
     "text": [
      "100%|██████████| 3772/3772 [00:02<00:00, 1299.72it/s]\n",
      "  4%|▎         | 139/3772 [00:00<00:02, 1388.89it/s]"
     ]
    },
    {
     "name": "stdout",
     "output_type": "stream",
     "text": [
      "gamma= 5 , ratio= 1.0 , M= 10.0 : 0.9725708780622075\n"
     ]
    },
    {
     "name": "stderr",
     "output_type": "stream",
     "text": [
      "100%|██████████| 3772/3772 [00:02<00:00, 1342.08it/s]\n",
      "  4%|▍         | 149/3772 [00:00<00:02, 1489.45it/s]"
     ]
    },
    {
     "name": "stdout",
     "output_type": "stream",
     "text": [
      "gamma= 10 , ratio= 0.1 , M= 1.0 : 0.9431323974676575\n"
     ]
    },
    {
     "name": "stderr",
     "output_type": "stream",
     "text": [
      "100%|██████████| 3772/3772 [00:02<00:00, 1402.10it/s]\n",
      "  8%|▊         | 285/3772 [00:00<00:02, 1417.85it/s]"
     ]
    },
    {
     "name": "stdout",
     "output_type": "stream",
     "text": [
      "gamma= 10 , ratio= 0.1 , M= 5.0 : 0.9810624827965868\n"
     ]
    },
    {
     "name": "stderr",
     "output_type": "stream",
     "text": [
      "100%|██████████| 3772/3772 [00:02<00:00, 1287.82it/s]\n",
      "  3%|▎         | 104/3772 [00:00<00:03, 1036.64it/s]"
     ]
    },
    {
     "name": "stdout",
     "output_type": "stream",
     "text": [
      "gamma= 10 , ratio= 0.1 , M= 10.0 : 0.9369804569226534\n"
     ]
    },
    {
     "name": "stderr",
     "output_type": "stream",
     "text": [
      "100%|██████████| 3772/3772 [00:03<00:00, 1156.36it/s]\n",
      "  3%|▎         | 130/3772 [00:00<00:02, 1295.88it/s]"
     ]
    },
    {
     "name": "stdout",
     "output_type": "stream",
     "text": [
      "gamma= 10 , ratio= 0.5 , M= 1.0 : 0.9431323974676575\n"
     ]
    },
    {
     "name": "stderr",
     "output_type": "stream",
     "text": [
      "100%|██████████| 3772/3772 [00:02<00:00, 1316.59it/s]\n",
      "  4%|▍         | 142/3772 [00:00<00:02, 1419.35it/s]"
     ]
    },
    {
     "name": "stdout",
     "output_type": "stream",
     "text": [
      "gamma= 10 , ratio= 0.5 , M= 5.0 : 0.9720203688411782\n"
     ]
    },
    {
     "name": "stderr",
     "output_type": "stream",
     "text": [
      "100%|██████████| 3772/3772 [00:02<00:00, 1353.61it/s]\n",
      "  4%|▍         | 145/3772 [00:00<00:02, 1442.31it/s]"
     ]
    },
    {
     "name": "stdout",
     "output_type": "stream",
     "text": [
      "gamma= 10 , ratio= 0.5 , M= 10.0 : 0.943999449490779\n"
     ]
    },
    {
     "name": "stderr",
     "output_type": "stream",
     "text": [
      "100%|██████████| 3772/3772 [00:02<00:00, 1373.86it/s]\n",
      "  4%|▎         | 138/3772 [00:00<00:02, 1375.28it/s]"
     ]
    },
    {
     "name": "stdout",
     "output_type": "stream",
     "text": [
      "gamma= 10 , ratio= 1.0 , M= 1.0 : 0.9431323974676575\n"
     ]
    },
    {
     "name": "stderr",
     "output_type": "stream",
     "text": [
      "100%|██████████| 3772/3772 [00:02<00:00, 1360.35it/s]\n",
      "  4%|▍         | 146/3772 [00:00<00:02, 1450.08it/s]"
     ]
    },
    {
     "name": "stdout",
     "output_type": "stream",
     "text": [
      "gamma= 10 , ratio= 1.0 , M= 5.0 : 0.935390861546931\n"
     ]
    },
    {
     "name": "stderr",
     "output_type": "stream",
     "text": [
      "100%|██████████| 3772/3772 [00:02<00:00, 1345.62it/s]\n",
      "  4%|▎         | 135/3772 [00:00<00:02, 1341.06it/s]"
     ]
    },
    {
     "name": "stdout",
     "output_type": "stream",
     "text": [
      "gamma= 10 , ratio= 1.0 , M= 10.0 : 0.9423892100192678\n"
     ]
    },
    {
     "name": "stderr",
     "output_type": "stream",
     "text": [
      "100%|██████████| 3772/3772 [00:02<00:00, 1273.64it/s]\n",
      "  4%|▎         | 133/3772 [00:00<00:02, 1321.10it/s]"
     ]
    },
    {
     "name": "stdout",
     "output_type": "stream",
     "text": [
      "gamma= 15 , ratio= 0.1 , M= 1.0 : 0.9431323974676575\n"
     ]
    },
    {
     "name": "stderr",
     "output_type": "stream",
     "text": [
      "100%|██████████| 3772/3772 [00:02<00:00, 1337.82it/s]\n",
      "  4%|▍         | 151/3772 [00:00<00:02, 1507.00it/s]"
     ]
    },
    {
     "name": "stdout",
     "output_type": "stream",
     "text": [
      "gamma= 15 , ratio= 0.1 , M= 5.0 : 0.9434282961739608\n"
     ]
    },
    {
     "name": "stderr",
     "output_type": "stream",
     "text": [
      "100%|██████████| 3772/3772 [00:02<00:00, 1374.98it/s]\n",
      "  4%|▎         | 133/3772 [00:00<00:02, 1323.25it/s]"
     ]
    },
    {
     "name": "stdout",
     "output_type": "stream",
     "text": [
      "gamma= 15 , ratio= 0.1 , M= 10.0 : 0.975419763281035\n"
     ]
    },
    {
     "name": "stderr",
     "output_type": "stream",
     "text": [
      "100%|██████████| 3772/3772 [00:02<00:00, 1386.08it/s]\n",
      "  4%|▍         | 144/3772 [00:00<00:02, 1432.32it/s]"
     ]
    },
    {
     "name": "stdout",
     "output_type": "stream",
     "text": [
      "gamma= 15 , ratio= 0.5 , M= 1.0 : 0.9431323974676575\n"
     ]
    },
    {
     "name": "stderr",
     "output_type": "stream",
     "text": [
      "100%|██████████| 3772/3772 [00:02<00:00, 1401.25it/s]\n",
      "  4%|▍         | 143/3772 [00:00<00:02, 1428.13it/s]"
     ]
    },
    {
     "name": "stdout",
     "output_type": "stream",
     "text": [
      "gamma= 15 , ratio= 0.5 , M= 5.0 : 0.9448940269749518\n"
     ]
    },
    {
     "name": "stderr",
     "output_type": "stream",
     "text": [
      "100%|██████████| 3772/3772 [00:02<00:00, 1433.43it/s]\n",
      "  4%|▎         | 140/3772 [00:00<00:02, 1392.94it/s]"
     ]
    },
    {
     "name": "stdout",
     "output_type": "stream",
     "text": [
      "gamma= 15 , ratio= 0.5 , M= 10.0 : 0.9366088631984586\n"
     ]
    },
    {
     "name": "stderr",
     "output_type": "stream",
     "text": [
      "100%|██████████| 3772/3772 [00:02<00:00, 1421.54it/s]\n",
      "  4%|▍         | 145/3772 [00:00<00:02, 1443.05it/s]"
     ]
    },
    {
     "name": "stdout",
     "output_type": "stream",
     "text": [
      "gamma= 15 , ratio= 1.0 , M= 1.0 : 0.9431323974676575\n"
     ]
    },
    {
     "name": "stderr",
     "output_type": "stream",
     "text": [
      "100%|██████████| 3772/3772 [00:02<00:00, 1369.30it/s]\n",
      "  4%|▍         | 143/3772 [00:00<00:02, 1419.39it/s]"
     ]
    },
    {
     "name": "stdout",
     "output_type": "stream",
     "text": [
      "gamma= 15 , ratio= 1.0 , M= 5.0 : 0.9464010459675201\n"
     ]
    },
    {
     "name": "stderr",
     "output_type": "stream",
     "text": [
      "100%|██████████| 3772/3772 [00:02<00:00, 1404.68it/s]\n",
      " 21%|██        | 795/3772 [00:00<00:00, 4017.79it/s]"
     ]
    },
    {
     "name": "stdout",
     "output_type": "stream",
     "text": [
      "gamma= 15 , ratio= 1.0 , M= 10.0 : 0.9424167354803192\n"
     ]
    },
    {
     "name": "stderr",
     "output_type": "stream",
     "text": [
      "100%|██████████| 3772/3772 [00:00<00:00, 3877.72it/s]\n",
      " 20%|██        | 764/3772 [00:00<00:00, 3820.89it/s]"
     ]
    },
    {
     "name": "stdout",
     "output_type": "stream",
     "text": [
      "gamma= 5 , ratio= 0.1 , M= 1.0 : 0.9405243600330306\n"
     ]
    },
    {
     "name": "stderr",
     "output_type": "stream",
     "text": [
      "100%|██████████| 3772/3772 [00:00<00:00, 3808.76it/s]\n",
      " 10%|▉         | 360/3772 [00:00<00:00, 3597.12it/s]"
     ]
    },
    {
     "name": "stdout",
     "output_type": "stream",
     "text": [
      "gamma= 5 , ratio= 0.1 , M= 5.0 : 0.9499311863473713\n"
     ]
    },
    {
     "name": "stderr",
     "output_type": "stream",
     "text": [
      "100%|██████████| 3772/3772 [00:01<00:00, 3390.48it/s]\n",
      " 20%|██        | 757/3772 [00:00<00:00, 3797.93it/s]"
     ]
    },
    {
     "name": "stdout",
     "output_type": "stream",
     "text": [
      "gamma= 5 , ratio= 0.1 , M= 10.0 : 0.9318676025323425\n"
     ]
    },
    {
     "name": "stderr",
     "output_type": "stream",
     "text": [
      "100%|██████████| 3772/3772 [00:00<00:00, 3865.11it/s]\n",
      "  9%|▊         | 329/3772 [00:00<00:01, 3285.23it/s]"
     ]
    },
    {
     "name": "stdout",
     "output_type": "stream",
     "text": [
      "gamma= 5 , ratio= 0.5 , M= 1.0 : 0.9405243600330306\n"
     ]
    },
    {
     "name": "stderr",
     "output_type": "stream",
     "text": [
      "100%|██████████| 3772/3772 [00:01<00:00, 3295.58it/s]\n",
      "  9%|▉         | 345/3772 [00:00<00:00, 3443.83it/s]"
     ]
    },
    {
     "name": "stdout",
     "output_type": "stream",
     "text": [
      "gamma= 5 , ratio= 0.5 , M= 5.0 : 0.9361134048995321\n"
     ]
    },
    {
     "name": "stderr",
     "output_type": "stream",
     "text": [
      "100%|██████████| 3772/3772 [00:01<00:00, 3402.85it/s]\n",
      " 10%|█         | 378/3772 [00:00<00:00, 3771.93it/s]"
     ]
    },
    {
     "name": "stdout",
     "output_type": "stream",
     "text": [
      "gamma= 5 , ratio= 0.5 , M= 10.0 : 0.9454720616570327\n"
     ]
    },
    {
     "name": "stderr",
     "output_type": "stream",
     "text": [
      "100%|██████████| 3772/3772 [00:00<00:00, 3961.19it/s]\n",
      "  9%|▉         | 352/3772 [00:00<00:00, 3510.77it/s]"
     ]
    },
    {
     "name": "stdout",
     "output_type": "stream",
     "text": [
      "gamma= 5 , ratio= 1.0 , M= 1.0 : 0.9405243600330306\n"
     ]
    },
    {
     "name": "stderr",
     "output_type": "stream",
     "text": [
      "100%|██████████| 3772/3772 [00:01<00:00, 3363.94it/s]\n",
      "  9%|▊         | 322/3772 [00:00<00:01, 3212.70it/s]"
     ]
    },
    {
     "name": "stdout",
     "output_type": "stream",
     "text": [
      "gamma= 5 , ratio= 1.0 , M= 5.0 : 0.9453757225433526\n"
     ]
    },
    {
     "name": "stderr",
     "output_type": "stream",
     "text": [
      "100%|██████████| 3772/3772 [00:01<00:00, 3293.98it/s]\n",
      " 18%|█▊        | 683/3772 [00:00<00:00, 3425.57it/s]"
     ]
    },
    {
     "name": "stdout",
     "output_type": "stream",
     "text": [
      "gamma= 5 , ratio= 1.0 , M= 10.0 : 0.9725708780622075\n"
     ]
    },
    {
     "name": "stderr",
     "output_type": "stream",
     "text": [
      "100%|██████████| 3772/3772 [00:01<00:00, 3436.54it/s]\n",
      " 18%|█▊        | 689/3772 [00:00<00:00, 3459.35it/s]"
     ]
    },
    {
     "name": "stdout",
     "output_type": "stream",
     "text": [
      "gamma= 10 , ratio= 0.1 , M= 1.0 : 0.9405243600330306\n"
     ]
    },
    {
     "name": "stderr",
     "output_type": "stream",
     "text": [
      "100%|██████████| 3772/3772 [00:01<00:00, 3458.13it/s]\n",
      "  9%|▉         | 337/3772 [00:00<00:01, 3362.57it/s]"
     ]
    },
    {
     "name": "stdout",
     "output_type": "stream",
     "text": [
      "gamma= 10 , ratio= 0.1 , M= 5.0 : 0.9589388934764657\n"
     ]
    },
    {
     "name": "stderr",
     "output_type": "stream",
     "text": [
      "100%|██████████| 3772/3772 [00:01<00:00, 3397.99it/s]\n",
      "  9%|▉         | 332/3772 [00:00<00:01, 3310.53it/s]"
     ]
    },
    {
     "name": "stdout",
     "output_type": "stream",
     "text": [
      "gamma= 10 , ratio= 0.1 , M= 10.0 : 0.9287985136251032\n"
     ]
    },
    {
     "name": "stderr",
     "output_type": "stream",
     "text": [
      "100%|██████████| 3772/3772 [00:01<00:00, 3349.78it/s]\n",
      "  9%|▉         | 344/3772 [00:00<00:00, 3436.12it/s]"
     ]
    },
    {
     "name": "stdout",
     "output_type": "stream",
     "text": [
      "gamma= 10 , ratio= 0.5 , M= 1.0 : 0.9405243600330306\n"
     ]
    },
    {
     "name": "stderr",
     "output_type": "stream",
     "text": [
      "100%|██████████| 3772/3772 [00:01<00:00, 3354.14it/s]\n",
      "  9%|▉         | 348/3772 [00:00<00:00, 3476.66it/s]"
     ]
    },
    {
     "name": "stdout",
     "output_type": "stream",
     "text": [
      "gamma= 10 , ratio= 0.5 , M= 5.0 : 0.9825901458849435\n"
     ]
    },
    {
     "name": "stderr",
     "output_type": "stream",
     "text": [
      "100%|██████████| 3772/3772 [00:01<00:00, 3354.63it/s]\n",
      "  9%|▉         | 333/3772 [00:00<00:01, 3323.71it/s]"
     ]
    },
    {
     "name": "stdout",
     "output_type": "stream",
     "text": [
      "gamma= 10 , ratio= 0.5 , M= 10.0 : 0.9322254335260116\n"
     ]
    },
    {
     "name": "stderr",
     "output_type": "stream",
     "text": [
      "100%|██████████| 3772/3772 [00:01<00:00, 3319.32it/s]\n",
      " 18%|█▊        | 670/3772 [00:00<00:00, 3329.04it/s]"
     ]
    },
    {
     "name": "stdout",
     "output_type": "stream",
     "text": [
      "gamma= 10 , ratio= 1.0 , M= 1.0 : 0.9405243600330306\n"
     ]
    },
    {
     "name": "stderr",
     "output_type": "stream",
     "text": [
      "100%|██████████| 3772/3772 [00:01<00:00, 3323.78it/s]\n",
      "  9%|▉         | 335/3772 [00:00<00:01, 3340.87it/s]"
     ]
    },
    {
     "name": "stdout",
     "output_type": "stream",
     "text": [
      "gamma= 10 , ratio= 1.0 , M= 5.0 : 0.9701348747591523\n"
     ]
    },
    {
     "name": "stderr",
     "output_type": "stream",
     "text": [
      "100%|██████████| 3772/3772 [00:01<00:00, 3280.23it/s]\n",
      " 17%|█▋        | 659/3772 [00:00<00:00, 3297.65it/s]"
     ]
    },
    {
     "name": "stdout",
     "output_type": "stream",
     "text": [
      "gamma= 10 , ratio= 1.0 , M= 10.0 : 0.9361134048995321\n"
     ]
    },
    {
     "name": "stderr",
     "output_type": "stream",
     "text": [
      "100%|██████████| 3772/3772 [00:01<00:00, 3298.12it/s]\n",
      "  9%|▊         | 327/3772 [00:00<00:01, 3265.14it/s]"
     ]
    },
    {
     "name": "stdout",
     "output_type": "stream",
     "text": [
      "gamma= 15 , ratio= 0.1 , M= 1.0 : 0.9405243600330306\n"
     ]
    },
    {
     "name": "stderr",
     "output_type": "stream",
     "text": [
      "100%|██████████| 3772/3772 [00:01<00:00, 3230.64it/s]\n",
      " 18%|█▊        | 664/3772 [00:00<00:00, 3318.32it/s]"
     ]
    },
    {
     "name": "stdout",
     "output_type": "stream",
     "text": [
      "gamma= 15 , ratio= 0.1 , M= 5.0 : 0.9408064960088082\n"
     ]
    },
    {
     "name": "stderr",
     "output_type": "stream",
     "text": [
      "100%|██████████| 3772/3772 [00:01<00:00, 3303.54it/s]\n",
      "  9%|▉         | 341/3772 [00:00<00:01, 3401.09it/s]"
     ]
    },
    {
     "name": "stdout",
     "output_type": "stream",
     "text": [
      "gamma= 15 , ratio= 0.1 , M= 10.0 : 0.9826451968070465\n"
     ]
    },
    {
     "name": "stderr",
     "output_type": "stream",
     "text": [
      "100%|██████████| 3772/3772 [00:01<00:00, 3262.84it/s]\n",
      "  8%|▊         | 316/3772 [00:00<00:01, 3152.94it/s]"
     ]
    },
    {
     "name": "stdout",
     "output_type": "stream",
     "text": [
      "gamma= 15 , ratio= 0.5 , M= 1.0 : 0.9405243600330306\n"
     ]
    },
    {
     "name": "stderr",
     "output_type": "stream",
     "text": [
      "100%|██████████| 3772/3772 [00:01<00:00, 3205.41it/s]\n",
      " 17%|█▋        | 660/3772 [00:00<00:00, 3296.66it/s]"
     ]
    },
    {
     "name": "stdout",
     "output_type": "stream",
     "text": [
      "gamma= 15 , ratio= 0.5 , M= 5.0 : 0.9413845306908891\n"
     ]
    },
    {
     "name": "stderr",
     "output_type": "stream",
     "text": [
      "100%|██████████| 3772/3772 [00:01<00:00, 3270.80it/s]\n",
      "  9%|▉         | 342/3772 [00:00<00:01, 3413.82it/s]"
     ]
    },
    {
     "name": "stdout",
     "output_type": "stream",
     "text": [
      "gamma= 15 , ratio= 0.5 , M= 10.0 : 0.9292526837324526\n"
     ]
    },
    {
     "name": "stderr",
     "output_type": "stream",
     "text": [
      "100%|██████████| 3772/3772 [00:01<00:00, 3264.37it/s]\n",
      "  9%|▉         | 340/3772 [00:00<00:01, 3393.25it/s]"
     ]
    },
    {
     "name": "stdout",
     "output_type": "stream",
     "text": [
      "gamma= 15 , ratio= 1.0 , M= 1.0 : 0.9405243600330306\n"
     ]
    },
    {
     "name": "stderr",
     "output_type": "stream",
     "text": [
      "100%|██████████| 3772/3772 [00:01<00:00, 3391.61it/s]\n",
      "  9%|▉         | 342/3772 [00:00<00:01, 3418.37it/s]"
     ]
    },
    {
     "name": "stdout",
     "output_type": "stream",
     "text": [
      "gamma= 15 , ratio= 1.0 , M= 5.0 : 0.9419763281034957\n"
     ]
    },
    {
     "name": "stderr",
     "output_type": "stream",
     "text": [
      "100%|██████████| 3772/3772 [00:01<00:00, 3371.98it/s]\n",
      "  6%|▌         | 222/3772 [00:00<00:01, 2218.71it/s]"
     ]
    },
    {
     "name": "stdout",
     "output_type": "stream",
     "text": [
      "gamma= 15 , ratio= 1.0 , M= 10.0 : 0.9292664464629782\n"
     ]
    },
    {
     "name": "stderr",
     "output_type": "stream",
     "text": [
      "100%|██████████| 3772/3772 [00:01<00:00, 2244.55it/s]\n",
      "  5%|▌         | 206/3772 [00:00<00:01, 2050.28it/s]"
     ]
    },
    {
     "name": "stdout",
     "output_type": "stream",
     "text": [
      "gamma= 5 , ratio= 0.1 , M= 1.0 : 0.9404624277456648\n"
     ]
    },
    {
     "name": "stderr",
     "output_type": "stream",
     "text": [
      "100%|██████████| 3772/3772 [00:01<00:00, 2063.45it/s]\n",
      "  6%|▌         | 218/3772 [00:00<00:01, 2175.08it/s]"
     ]
    },
    {
     "name": "stdout",
     "output_type": "stream",
     "text": [
      "gamma= 5 , ratio= 0.1 , M= 5.0 : 0.9399669694467382\n"
     ]
    },
    {
     "name": "stderr",
     "output_type": "stream",
     "text": [
      "100%|██████████| 3772/3772 [00:01<00:00, 2070.36it/s]\n",
      "  6%|▌         | 226/3772 [00:00<00:01, 2258.21it/s]"
     ]
    },
    {
     "name": "stdout",
     "output_type": "stream",
     "text": [
      "gamma= 5 , ratio= 0.1 , M= 10.0 : 0.9452656206991468\n"
     ]
    },
    {
     "name": "stderr",
     "output_type": "stream",
     "text": [
      "100%|██████████| 3772/3772 [00:01<00:00, 2235.88it/s]\n",
      "  6%|▌         | 213/3772 [00:00<00:01, 2129.32it/s]"
     ]
    },
    {
     "name": "stdout",
     "output_type": "stream",
     "text": [
      "gamma= 5 , ratio= 0.5 , M= 1.0 : 0.9404624277456648\n"
     ]
    },
    {
     "name": "stderr",
     "output_type": "stream",
     "text": [
      "100%|██████████| 3772/3772 [00:01<00:00, 2109.16it/s]\n",
      "  6%|▌         | 212/3772 [00:00<00:01, 2111.38it/s]"
     ]
    },
    {
     "name": "stdout",
     "output_type": "stream",
     "text": [
      "gamma= 5 , ratio= 0.5 , M= 5.0 : 0.942485549132948\n"
     ]
    },
    {
     "name": "stderr",
     "output_type": "stream",
     "text": [
      "100%|██████████| 3772/3772 [00:01<00:00, 2119.93it/s]\n",
      " 12%|█▏        | 454/3772 [00:00<00:01, 2271.95it/s]"
     ]
    },
    {
     "name": "stdout",
     "output_type": "stream",
     "text": [
      "gamma= 5 , ratio= 0.5 , M= 10.0 : 0.9354734379300852\n"
     ]
    },
    {
     "name": "stderr",
     "output_type": "stream",
     "text": [
      "100%|██████████| 3772/3772 [00:01<00:00, 2347.12it/s]\n",
      "  6%|▌         | 221/3772 [00:00<00:01, 2203.13it/s]"
     ]
    },
    {
     "name": "stdout",
     "output_type": "stream",
     "text": [
      "gamma= 5 , ratio= 1.0 , M= 1.0 : 0.9404624277456648\n"
     ]
    },
    {
     "name": "stderr",
     "output_type": "stream",
     "text": [
      "100%|██████████| 3772/3772 [00:01<00:00, 2191.34it/s]\n",
      " 11%|█▏        | 425/3772 [00:00<00:01, 2126.16it/s]"
     ]
    },
    {
     "name": "stdout",
     "output_type": "stream",
     "text": [
      "gamma= 5 , ratio= 1.0 , M= 5.0 : 0.9341590971648775\n"
     ]
    },
    {
     "name": "stderr",
     "output_type": "stream",
     "text": [
      "100%|██████████| 3772/3772 [00:01<00:00, 2144.08it/s]\n",
      "  6%|▌         | 216/3772 [00:00<00:01, 2152.70it/s]"
     ]
    },
    {
     "name": "stdout",
     "output_type": "stream",
     "text": [
      "gamma= 5 , ratio= 1.0 , M= 10.0 : 0.9725708780622075\n"
     ]
    },
    {
     "name": "stderr",
     "output_type": "stream",
     "text": [
      "100%|██████████| 3772/3772 [00:01<00:00, 2144.72it/s]\n",
      "  6%|▌         | 212/3772 [00:00<00:01, 2118.39it/s]"
     ]
    },
    {
     "name": "stdout",
     "output_type": "stream",
     "text": [
      "gamma= 10 , ratio= 0.1 , M= 1.0 : 0.9404624277456648\n"
     ]
    },
    {
     "name": "stderr",
     "output_type": "stream",
     "text": [
      "100%|██████████| 3772/3772 [00:01<00:00, 2140.38it/s]\n",
      " 11%|█▏        | 428/3772 [00:00<00:01, 2143.97it/s]"
     ]
    },
    {
     "name": "stdout",
     "output_type": "stream",
     "text": [
      "gamma= 10 , ratio= 0.1 , M= 5.0 : 0.9769474263693917\n"
     ]
    },
    {
     "name": "stderr",
     "output_type": "stream",
     "text": [
      "100%|██████████| 3772/3772 [00:01<00:00, 2140.77it/s]\n",
      "  6%|▌         | 216/3772 [00:00<00:01, 2157.84it/s]"
     ]
    },
    {
     "name": "stdout",
     "output_type": "stream",
     "text": [
      "gamma= 10 , ratio= 0.1 , M= 10.0 : 0.931055601431324\n"
     ]
    },
    {
     "name": "stderr",
     "output_type": "stream",
     "text": [
      "100%|██████████| 3772/3772 [00:01<00:00, 2114.05it/s]\n",
      "  6%|▌         | 223/3772 [00:00<00:01, 2220.05it/s]"
     ]
    },
    {
     "name": "stdout",
     "output_type": "stream",
     "text": [
      "gamma= 10 , ratio= 0.5 , M= 1.0 : 0.9404624277456648\n"
     ]
    },
    {
     "name": "stderr",
     "output_type": "stream",
     "text": [
      "100%|██████████| 3772/3772 [00:01<00:00, 2137.58it/s]\n",
      " 12%|█▏        | 444/3772 [00:00<00:01, 2196.01it/s]"
     ]
    },
    {
     "name": "stdout",
     "output_type": "stream",
     "text": [
      "gamma= 10 , ratio= 0.5 , M= 5.0 : 0.9659922928709056\n"
     ]
    },
    {
     "name": "stderr",
     "output_type": "stream",
     "text": [
      "100%|██████████| 3772/3772 [00:01<00:00, 2162.50it/s]\n",
      "  6%|▌         | 219/3772 [00:00<00:01, 2186.30it/s]"
     ]
    },
    {
     "name": "stdout",
     "output_type": "stream",
     "text": [
      "gamma= 10 , ratio= 0.5 , M= 10.0 : 0.9460088081475364\n"
     ]
    },
    {
     "name": "stderr",
     "output_type": "stream",
     "text": [
      "100%|██████████| 3772/3772 [00:01<00:00, 2116.85it/s]\n",
      "  6%|▌         | 219/3772 [00:00<00:01, 2180.56it/s]"
     ]
    },
    {
     "name": "stdout",
     "output_type": "stream",
     "text": [
      "gamma= 10 , ratio= 1.0 , M= 1.0 : 0.9404624277456648\n"
     ]
    },
    {
     "name": "stderr",
     "output_type": "stream",
     "text": [
      "100%|██████████| 3772/3772 [00:01<00:00, 2120.07it/s]\n",
      " 12%|█▏        | 437/3772 [00:00<00:01, 2179.91it/s]"
     ]
    },
    {
     "name": "stdout",
     "output_type": "stream",
     "text": [
      "gamma= 10 , ratio= 1.0 , M= 5.0 : 0.9460432149738508\n"
     ]
    },
    {
     "name": "stderr",
     "output_type": "stream",
     "text": [
      "100%|██████████| 3772/3772 [00:01<00:00, 2126.45it/s]\n",
      "  6%|▌         | 217/3772 [00:00<00:01, 2163.32it/s]"
     ]
    },
    {
     "name": "stdout",
     "output_type": "stream",
     "text": [
      "gamma= 10 , ratio= 1.0 , M= 10.0 : 0.942485549132948\n"
     ]
    },
    {
     "name": "stderr",
     "output_type": "stream",
     "text": [
      "100%|██████████| 3772/3772 [00:01<00:00, 2150.07it/s]\n",
      "  6%|▌         | 213/3772 [00:00<00:01, 2125.70it/s]"
     ]
    },
    {
     "name": "stdout",
     "output_type": "stream",
     "text": [
      "gamma= 15 , ratio= 0.1 , M= 1.0 : 0.9404624277456648\n"
     ]
    },
    {
     "name": "stderr",
     "output_type": "stream",
     "text": [
      "100%|██████████| 3772/3772 [00:01<00:00, 2134.14it/s]\n",
      " 12%|█▏        | 438/3772 [00:00<00:01, 2189.44it/s]"
     ]
    },
    {
     "name": "stdout",
     "output_type": "stream",
     "text": [
      "gamma= 15 , ratio= 0.1 , M= 5.0 : 0.9404624277456648\n"
     ]
    },
    {
     "name": "stderr",
     "output_type": "stream",
     "text": [
      "100%|██████████| 3772/3772 [00:01<00:00, 2174.78it/s]\n",
      " 12%|█▏        | 442/3772 [00:00<00:01, 2190.32it/s]"
     ]
    },
    {
     "name": "stdout",
     "output_type": "stream",
     "text": [
      "gamma= 15 , ratio= 0.1 , M= 10.0 : 0.9677470410129371\n"
     ]
    },
    {
     "name": "stderr",
     "output_type": "stream",
     "text": [
      "100%|██████████| 3772/3772 [00:01<00:00, 2159.65it/s]\n",
      "  6%|▌         | 223/3772 [00:00<00:01, 2223.38it/s]"
     ]
    },
    {
     "name": "stdout",
     "output_type": "stream",
     "text": [
      "gamma= 15 , ratio= 0.5 , M= 1.0 : 0.9404624277456648\n"
     ]
    },
    {
     "name": "stderr",
     "output_type": "stream",
     "text": [
      "100%|██████████| 3772/3772 [00:01<00:00, 2143.83it/s]\n",
      "  6%|▌         | 213/3772 [00:00<00:01, 2122.02it/s]"
     ]
    },
    {
     "name": "stdout",
     "output_type": "stream",
     "text": [
      "gamma= 15 , ratio= 0.5 , M= 5.0 : 0.9410404624277456\n"
     ]
    },
    {
     "name": "stderr",
     "output_type": "stream",
     "text": [
      "100%|██████████| 3772/3772 [00:01<00:00, 2155.37it/s]\n",
      "  6%|▌         | 223/3772 [00:00<00:01, 2222.84it/s]"
     ]
    },
    {
     "name": "stdout",
     "output_type": "stream",
     "text": [
      "gamma= 15 , ratio= 0.5 , M= 10.0 : 0.9304362785576659\n"
     ]
    },
    {
     "name": "stderr",
     "output_type": "stream",
     "text": [
      "100%|██████████| 3772/3772 [00:01<00:00, 2150.40it/s]\n",
      " 12%|█▏        | 438/3772 [00:00<00:01, 2186.68it/s]"
     ]
    },
    {
     "name": "stdout",
     "output_type": "stream",
     "text": [
      "gamma= 15 , ratio= 1.0 , M= 1.0 : 0.9404624277456648\n"
     ]
    },
    {
     "name": "stderr",
     "output_type": "stream",
     "text": [
      "100%|██████████| 3772/3772 [00:01<00:00, 2182.27it/s]\n",
      " 12%|█▏        | 448/3772 [00:00<00:01, 2209.70it/s]"
     ]
    },
    {
     "name": "stdout",
     "output_type": "stream",
     "text": [
      "gamma= 15 , ratio= 1.0 , M= 5.0 : 0.9399325626204239\n"
     ]
    },
    {
     "name": "stderr",
     "output_type": "stream",
     "text": [
      "100%|██████████| 3772/3772 [00:01<00:00, 2152.97it/s]\n",
      "  4%|▍         | 161/3772 [00:00<00:02, 1605.01it/s]"
     ]
    },
    {
     "name": "stdout",
     "output_type": "stream",
     "text": [
      "gamma= 15 , ratio= 1.0 , M= 10.0 : 0.9396091384530691\n"
     ]
    },
    {
     "name": "stderr",
     "output_type": "stream",
     "text": [
      "100%|██████████| 3772/3772 [00:02<00:00, 1586.92it/s]\n",
      "  4%|▍         | 155/3772 [00:00<00:02, 1541.11it/s]"
     ]
    },
    {
     "name": "stdout",
     "output_type": "stream",
     "text": [
      "gamma= 5 , ratio= 0.1 , M= 1.0 : 0.9431323974676576\n"
     ]
    },
    {
     "name": "stderr",
     "output_type": "stream",
     "text": [
      "100%|██████████| 3772/3772 [00:02<00:00, 1565.11it/s]\n",
      "  4%|▍         | 156/3772 [00:00<00:02, 1550.96it/s]"
     ]
    },
    {
     "name": "stdout",
     "output_type": "stream",
     "text": [
      "gamma= 5 , ratio= 0.1 , M= 5.0 : 0.9427470410129369\n"
     ]
    },
    {
     "name": "stderr",
     "output_type": "stream",
     "text": [
      "100%|██████████| 3772/3772 [00:02<00:00, 1536.33it/s]\n",
      "  4%|▍         | 163/3772 [00:00<00:02, 1620.55it/s]"
     ]
    },
    {
     "name": "stdout",
     "output_type": "stream",
     "text": [
      "gamma= 5 , ratio= 0.1 , M= 10.0 : 0.9437517203413157\n"
     ]
    },
    {
     "name": "stderr",
     "output_type": "stream",
     "text": [
      "100%|██████████| 3772/3772 [00:02<00:00, 1630.08it/s]\n",
      "  4%|▍         | 159/3772 [00:00<00:02, 1580.60it/s]"
     ]
    },
    {
     "name": "stdout",
     "output_type": "stream",
     "text": [
      "gamma= 5 , ratio= 0.5 , M= 1.0 : 0.9431323974676576\n"
     ]
    },
    {
     "name": "stderr",
     "output_type": "stream",
     "text": [
      "100%|██████████| 3772/3772 [00:02<00:00, 1559.13it/s]\n",
      "  8%|▊         | 318/3772 [00:00<00:02, 1587.52it/s]"
     ]
    },
    {
     "name": "stdout",
     "output_type": "stream",
     "text": [
      "gamma= 5 , ratio= 0.5 , M= 5.0 : 0.9423892100192678\n"
     ]
    },
    {
     "name": "stderr",
     "output_type": "stream",
     "text": [
      "100%|██████████| 3772/3772 [00:02<00:00, 1556.35it/s]\n",
      "  4%|▍         | 157/3772 [00:00<00:02, 1562.41it/s]"
     ]
    },
    {
     "name": "stdout",
     "output_type": "stream",
     "text": [
      "gamma= 5 , ratio= 0.5 , M= 10.0 : 0.9454720616570327\n"
     ]
    },
    {
     "name": "stderr",
     "output_type": "stream",
     "text": [
      "100%|██████████| 3772/3772 [00:02<00:00, 1575.79it/s]\n",
      "  4%|▍         | 161/3772 [00:00<00:02, 1608.02it/s]"
     ]
    },
    {
     "name": "stdout",
     "output_type": "stream",
     "text": [
      "gamma= 5 , ratio= 1.0 , M= 1.0 : 0.9431323974676576\n"
     ]
    },
    {
     "name": "stderr",
     "output_type": "stream",
     "text": [
      "100%|██████████| 3772/3772 [00:02<00:00, 1543.75it/s]\n",
      "  4%|▍         | 156/3772 [00:00<00:02, 1559.22it/s]"
     ]
    },
    {
     "name": "stdout",
     "output_type": "stream",
     "text": [
      "gamma= 5 , ratio= 1.0 , M= 5.0 : 0.9453757225433526\n"
     ]
    },
    {
     "name": "stderr",
     "output_type": "stream",
     "text": [
      "100%|██████████| 3772/3772 [00:02<00:00, 1543.33it/s]\n",
      "  8%|▊         | 310/3772 [00:00<00:02, 1549.30it/s]"
     ]
    },
    {
     "name": "stdout",
     "output_type": "stream",
     "text": [
      "gamma= 5 , ratio= 1.0 , M= 10.0 : 0.9725708780622075\n"
     ]
    },
    {
     "name": "stderr",
     "output_type": "stream",
     "text": [
      "100%|██████████| 3772/3772 [00:02<00:00, 1559.95it/s]\n",
      "  4%|▍         | 160/3772 [00:00<00:02, 1598.60it/s]"
     ]
    },
    {
     "name": "stdout",
     "output_type": "stream",
     "text": [
      "gamma= 10 , ratio= 0.1 , M= 1.0 : 0.9431323974676575\n"
     ]
    },
    {
     "name": "stderr",
     "output_type": "stream",
     "text": [
      "100%|██████████| 3772/3772 [00:02<00:00, 1549.47it/s]\n",
      "  4%|▍         | 156/3772 [00:00<00:02, 1554.82it/s]"
     ]
    },
    {
     "name": "stdout",
     "output_type": "stream",
     "text": [
      "gamma= 10 , ratio= 0.1 , M= 5.0 : 0.9810624827965868\n"
     ]
    },
    {
     "name": "stderr",
     "output_type": "stream",
     "text": [
      "100%|██████████| 3772/3772 [00:02<00:00, 1519.80it/s]\n",
      "  4%|▍         | 156/3772 [00:00<00:02, 1554.14it/s]"
     ]
    },
    {
     "name": "stdout",
     "output_type": "stream",
     "text": [
      "gamma= 10 , ratio= 0.1 , M= 10.0 : 0.9369804569226534\n"
     ]
    },
    {
     "name": "stderr",
     "output_type": "stream",
     "text": [
      "100%|██████████| 3772/3772 [00:02<00:00, 1521.82it/s]\n",
      "  4%|▍         | 152/3772 [00:00<00:02, 1510.84it/s]"
     ]
    },
    {
     "name": "stdout",
     "output_type": "stream",
     "text": [
      "gamma= 10 , ratio= 0.5 , M= 1.0 : 0.9431323974676575\n"
     ]
    },
    {
     "name": "stderr",
     "output_type": "stream",
     "text": [
      "100%|██████████| 3772/3772 [00:02<00:00, 1548.37it/s]\n",
      "  4%|▍         | 160/3772 [00:00<00:02, 1594.91it/s]"
     ]
    },
    {
     "name": "stdout",
     "output_type": "stream",
     "text": [
      "gamma= 10 , ratio= 0.5 , M= 5.0 : 0.9720203688411782\n"
     ]
    },
    {
     "name": "stderr",
     "output_type": "stream",
     "text": [
      "100%|██████████| 3772/3772 [00:02<00:00, 1556.97it/s]\n",
      "  4%|▍         | 159/3772 [00:00<00:02, 1584.23it/s]"
     ]
    },
    {
     "name": "stdout",
     "output_type": "stream",
     "text": [
      "gamma= 10 , ratio= 0.5 , M= 10.0 : 0.943999449490779\n"
     ]
    },
    {
     "name": "stderr",
     "output_type": "stream",
     "text": [
      "100%|██████████| 3772/3772 [00:02<00:00, 1562.96it/s]\n",
      "  8%|▊         | 312/3772 [00:00<00:02, 1555.66it/s]"
     ]
    },
    {
     "name": "stdout",
     "output_type": "stream",
     "text": [
      "gamma= 10 , ratio= 1.0 , M= 1.0 : 0.9431323974676575\n"
     ]
    },
    {
     "name": "stderr",
     "output_type": "stream",
     "text": [
      "100%|██████████| 3772/3772 [00:02<00:00, 1540.52it/s]\n",
      "  4%|▍         | 144/3772 [00:00<00:02, 1437.23it/s]"
     ]
    },
    {
     "name": "stdout",
     "output_type": "stream",
     "text": [
      "gamma= 10 , ratio= 1.0 , M= 5.0 : 0.935390861546931\n"
     ]
    },
    {
     "name": "stderr",
     "output_type": "stream",
     "text": [
      "100%|██████████| 3772/3772 [00:02<00:00, 1470.42it/s]\n",
      "  4%|▍         | 153/3772 [00:00<00:02, 1521.21it/s]"
     ]
    },
    {
     "name": "stdout",
     "output_type": "stream",
     "text": [
      "gamma= 10 , ratio= 1.0 , M= 10.0 : 0.9423892100192678\n"
     ]
    },
    {
     "name": "stderr",
     "output_type": "stream",
     "text": [
      "100%|██████████| 3772/3772 [00:02<00:00, 1498.00it/s]\n",
      "  4%|▍         | 156/3772 [00:00<00:02, 1551.19it/s]"
     ]
    },
    {
     "name": "stdout",
     "output_type": "stream",
     "text": [
      "gamma= 15 , ratio= 0.1 , M= 1.0 : 0.9431323974676575\n"
     ]
    },
    {
     "name": "stderr",
     "output_type": "stream",
     "text": [
      "100%|██████████| 3772/3772 [00:02<00:00, 1514.32it/s]\n",
      "  4%|▍         | 162/3772 [00:00<00:02, 1614.90it/s]"
     ]
    },
    {
     "name": "stdout",
     "output_type": "stream",
     "text": [
      "gamma= 15 , ratio= 0.1 , M= 5.0 : 0.9434282961739608\n"
     ]
    },
    {
     "name": "stderr",
     "output_type": "stream",
     "text": [
      "100%|██████████| 3772/3772 [00:02<00:00, 1590.84it/s]\n",
      "  4%|▍         | 145/3772 [00:00<00:02, 1440.16it/s]"
     ]
    },
    {
     "name": "stdout",
     "output_type": "stream",
     "text": [
      "gamma= 15 , ratio= 0.1 , M= 10.0 : 0.975419763281035\n"
     ]
    },
    {
     "name": "stderr",
     "output_type": "stream",
     "text": [
      "100%|██████████| 3772/3772 [00:02<00:00, 1454.44it/s]\n",
      "  8%|▊         | 302/3772 [00:00<00:02, 1509.59it/s]"
     ]
    },
    {
     "name": "stdout",
     "output_type": "stream",
     "text": [
      "gamma= 15 , ratio= 0.5 , M= 1.0 : 0.9431323974676575\n"
     ]
    },
    {
     "name": "stderr",
     "output_type": "stream",
     "text": [
      "100%|██████████| 3772/3772 [00:02<00:00, 1515.88it/s]\n",
      "  8%|▊         | 318/3772 [00:00<00:02, 1594.37it/s]"
     ]
    },
    {
     "name": "stdout",
     "output_type": "stream",
     "text": [
      "gamma= 15 , ratio= 0.5 , M= 5.0 : 0.9448940269749518\n"
     ]
    },
    {
     "name": "stderr",
     "output_type": "stream",
     "text": [
      "100%|██████████| 3772/3772 [00:02<00:00, 1568.77it/s]\n",
      "  4%|▍         | 159/3772 [00:00<00:02, 1582.53it/s]"
     ]
    },
    {
     "name": "stdout",
     "output_type": "stream",
     "text": [
      "gamma= 15 , ratio= 0.5 , M= 10.0 : 0.9366088631984586\n"
     ]
    },
    {
     "name": "stderr",
     "output_type": "stream",
     "text": [
      "100%|██████████| 3772/3772 [00:02<00:00, 1588.29it/s]\n",
      "  8%|▊         | 297/3772 [00:00<00:02, 1487.95it/s]"
     ]
    },
    {
     "name": "stdout",
     "output_type": "stream",
     "text": [
      "gamma= 15 , ratio= 1.0 , M= 1.0 : 0.9431323974676575\n"
     ]
    },
    {
     "name": "stderr",
     "output_type": "stream",
     "text": [
      "100%|██████████| 3772/3772 [00:02<00:00, 1472.47it/s]\n",
      "  4%|▎         | 140/3772 [00:00<00:02, 1397.36it/s]"
     ]
    },
    {
     "name": "stdout",
     "output_type": "stream",
     "text": [
      "gamma= 15 , ratio= 1.0 , M= 5.0 : 0.9464010459675201\n"
     ]
    },
    {
     "name": "stderr",
     "output_type": "stream",
     "text": [
      "100%|██████████| 3772/3772 [00:02<00:00, 1492.98it/s]\n",
      "  9%|▉         | 353/3772 [00:00<00:00, 3522.95it/s]"
     ]
    },
    {
     "name": "stdout",
     "output_type": "stream",
     "text": [
      "gamma= 15 , ratio= 1.0 , M= 10.0 : 0.9424167354803192\n"
     ]
    },
    {
     "name": "stderr",
     "output_type": "stream",
     "text": [
      "100%|██████████| 3772/3772 [00:01<00:00, 3714.86it/s]\n",
      " 10%|▉         | 363/3772 [00:00<00:00, 3627.32it/s]"
     ]
    },
    {
     "name": "stdout",
     "output_type": "stream",
     "text": [
      "gamma= 5 , ratio= 0.1 , M= 1.0 : 0.9405243600330306\n"
     ]
    },
    {
     "name": "stderr",
     "output_type": "stream",
     "text": [
      "100%|██████████| 3772/3772 [00:00<00:00, 3829.19it/s]\n",
      " 10%|▉         | 374/3772 [00:00<00:00, 3734.65it/s]"
     ]
    },
    {
     "name": "stdout",
     "output_type": "stream",
     "text": [
      "gamma= 5 , ratio= 0.1 , M= 5.0 : 0.9499311863473713\n"
     ]
    },
    {
     "name": "stderr",
     "output_type": "stream",
     "text": [
      "100%|██████████| 3772/3772 [00:01<00:00, 3425.36it/s]\n",
      " 20%|█▉        | 752/3772 [00:00<00:00, 3765.87it/s]"
     ]
    },
    {
     "name": "stdout",
     "output_type": "stream",
     "text": [
      "gamma= 5 , ratio= 0.1 , M= 10.0 : 0.9318676025323425\n"
     ]
    },
    {
     "name": "stderr",
     "output_type": "stream",
     "text": [
      "100%|██████████| 3772/3772 [00:00<00:00, 3897.95it/s]\n",
      "  9%|▉         | 334/3772 [00:00<00:01, 3336.56it/s]"
     ]
    },
    {
     "name": "stdout",
     "output_type": "stream",
     "text": [
      "gamma= 5 , ratio= 0.5 , M= 1.0 : 0.9405243600330306\n"
     ]
    },
    {
     "name": "stderr",
     "output_type": "stream",
     "text": [
      "100%|██████████| 3772/3772 [00:01<00:00, 3396.99it/s]\n",
      " 19%|█▊        | 700/3772 [00:00<00:00, 3462.18it/s]"
     ]
    },
    {
     "name": "stdout",
     "output_type": "stream",
     "text": [
      "gamma= 5 , ratio= 0.5 , M= 5.0 : 0.9361134048995321\n"
     ]
    },
    {
     "name": "stderr",
     "output_type": "stream",
     "text": [
      "100%|██████████| 3772/3772 [00:01<00:00, 3232.45it/s]\n",
      " 10%|▉         | 374/3772 [00:00<00:00, 3738.96it/s]"
     ]
    },
    {
     "name": "stdout",
     "output_type": "stream",
     "text": [
      "gamma= 5 , ratio= 0.5 , M= 10.0 : 0.9454720616570327\n"
     ]
    },
    {
     "name": "stderr",
     "output_type": "stream",
     "text": [
      "100%|██████████| 3772/3772 [00:00<00:00, 3870.99it/s]\n",
      " 10%|█         | 385/3772 [00:00<00:00, 3840.27it/s]"
     ]
    },
    {
     "name": "stdout",
     "output_type": "stream",
     "text": [
      "gamma= 5 , ratio= 1.0 , M= 1.0 : 0.9405243600330306\n"
     ]
    },
    {
     "name": "stderr",
     "output_type": "stream",
     "text": [
      "100%|██████████| 3772/3772 [00:01<00:00, 3354.59it/s]\n",
      " 19%|█▉        | 708/3772 [00:00<00:00, 3533.93it/s]"
     ]
    },
    {
     "name": "stdout",
     "output_type": "stream",
     "text": [
      "gamma= 5 , ratio= 1.0 , M= 5.0 : 0.9453757225433526\n"
     ]
    },
    {
     "name": "stderr",
     "output_type": "stream",
     "text": [
      "100%|██████████| 3772/3772 [00:01<00:00, 3479.59it/s]\n",
      "  9%|▉         | 356/3772 [00:00<00:00, 3551.02it/s]"
     ]
    },
    {
     "name": "stdout",
     "output_type": "stream",
     "text": [
      "gamma= 5 , ratio= 1.0 , M= 10.0 : 0.9725708780622075\n"
     ]
    },
    {
     "name": "stderr",
     "output_type": "stream",
     "text": [
      "100%|██████████| 3772/3772 [00:01<00:00, 3492.34it/s]\n",
      " 17%|█▋        | 635/3772 [00:00<00:00, 3182.94it/s]"
     ]
    },
    {
     "name": "stdout",
     "output_type": "stream",
     "text": [
      "gamma= 10 , ratio= 0.1 , M= 1.0 : 0.9405243600330306\n"
     ]
    },
    {
     "name": "stderr",
     "output_type": "stream",
     "text": [
      "100%|██████████| 3772/3772 [00:01<00:00, 3394.46it/s]\n",
      "  9%|▉         | 349/3772 [00:00<00:00, 3479.49it/s]"
     ]
    },
    {
     "name": "stdout",
     "output_type": "stream",
     "text": [
      "gamma= 10 , ratio= 0.1 , M= 5.0 : 0.9589388934764657\n"
     ]
    },
    {
     "name": "stderr",
     "output_type": "stream",
     "text": [
      "100%|██████████| 3772/3772 [00:01<00:00, 3380.54it/s]\n",
      " 10%|▉         | 360/3772 [00:00<00:00, 3599.71it/s]"
     ]
    },
    {
     "name": "stdout",
     "output_type": "stream",
     "text": [
      "gamma= 10 , ratio= 0.1 , M= 10.0 : 0.9287985136251032\n"
     ]
    },
    {
     "name": "stderr",
     "output_type": "stream",
     "text": [
      "100%|██████████| 3772/3772 [00:01<00:00, 3430.54it/s]\n",
      "  9%|▉         | 343/3772 [00:00<00:01, 3426.47it/s]"
     ]
    },
    {
     "name": "stdout",
     "output_type": "stream",
     "text": [
      "gamma= 10 , ratio= 0.5 , M= 1.0 : 0.9405243600330306\n"
     ]
    },
    {
     "name": "stderr",
     "output_type": "stream",
     "text": [
      "100%|██████████| 3772/3772 [00:01<00:00, 3394.36it/s]\n",
      " 10%|▉         | 368/3772 [00:00<00:00, 3671.16it/s]"
     ]
    },
    {
     "name": "stdout",
     "output_type": "stream",
     "text": [
      "gamma= 10 , ratio= 0.5 , M= 5.0 : 0.9825901458849435\n"
     ]
    },
    {
     "name": "stderr",
     "output_type": "stream",
     "text": [
      "100%|██████████| 3772/3772 [00:01<00:00, 3311.57it/s]\n",
      " 18%|█▊        | 696/3772 [00:00<00:00, 3508.47it/s]"
     ]
    },
    {
     "name": "stdout",
     "output_type": "stream",
     "text": [
      "gamma= 10 , ratio= 0.5 , M= 10.0 : 0.9322254335260116\n"
     ]
    },
    {
     "name": "stderr",
     "output_type": "stream",
     "text": [
      "100%|██████████| 3772/3772 [00:01<00:00, 3408.09it/s]\n",
      " 20%|██        | 770/3772 [00:00<00:00, 3838.17it/s]"
     ]
    },
    {
     "name": "stdout",
     "output_type": "stream",
     "text": [
      "gamma= 10 , ratio= 1.0 , M= 1.0 : 0.9405243600330306\n"
     ]
    },
    {
     "name": "stderr",
     "output_type": "stream",
     "text": [
      "100%|██████████| 3772/3772 [00:01<00:00, 3502.28it/s]\n",
      "  9%|▉         | 332/3772 [00:00<00:01, 3318.41it/s]"
     ]
    },
    {
     "name": "stdout",
     "output_type": "stream",
     "text": [
      "gamma= 10 , ratio= 1.0 , M= 5.0 : 0.9701348747591523\n"
     ]
    },
    {
     "name": "stderr",
     "output_type": "stream",
     "text": [
      "100%|██████████| 3772/3772 [00:01<00:00, 3342.61it/s]\n",
      " 18%|█▊        | 684/3772 [00:00<00:00, 3400.94it/s]"
     ]
    },
    {
     "name": "stdout",
     "output_type": "stream",
     "text": [
      "gamma= 10 , ratio= 1.0 , M= 10.0 : 0.9361134048995321\n"
     ]
    },
    {
     "name": "stderr",
     "output_type": "stream",
     "text": [
      "100%|██████████| 3772/3772 [00:01<00:00, 3304.95it/s]\n",
      "  9%|▉         | 347/3772 [00:00<00:00, 3462.62it/s]"
     ]
    },
    {
     "name": "stdout",
     "output_type": "stream",
     "text": [
      "gamma= 15 , ratio= 0.1 , M= 1.0 : 0.9405243600330306\n"
     ]
    },
    {
     "name": "stderr",
     "output_type": "stream",
     "text": [
      "100%|██████████| 3772/3772 [00:01<00:00, 3354.60it/s]\n",
      "  9%|▉         | 340/3772 [00:00<00:01, 3396.12it/s]"
     ]
    },
    {
     "name": "stdout",
     "output_type": "stream",
     "text": [
      "gamma= 15 , ratio= 0.1 , M= 5.0 : 0.9408064960088082\n"
     ]
    },
    {
     "name": "stderr",
     "output_type": "stream",
     "text": [
      "100%|██████████| 3772/3772 [00:01<00:00, 3422.58it/s]\n",
      " 10%|█         | 381/3772 [00:00<00:00, 3807.44it/s]"
     ]
    },
    {
     "name": "stdout",
     "output_type": "stream",
     "text": [
      "gamma= 15 , ratio= 0.1 , M= 10.0 : 0.9826451968070465\n"
     ]
    },
    {
     "name": "stderr",
     "output_type": "stream",
     "text": [
      "100%|██████████| 3772/3772 [00:01<00:00, 3439.11it/s]\n",
      " 10%|▉         | 361/3772 [00:00<00:00, 3607.40it/s]"
     ]
    },
    {
     "name": "stdout",
     "output_type": "stream",
     "text": [
      "gamma= 15 , ratio= 0.5 , M= 1.0 : 0.9405243600330306\n"
     ]
    },
    {
     "name": "stderr",
     "output_type": "stream",
     "text": [
      "100%|██████████| 3772/3772 [00:01<00:00, 3560.77it/s]\n",
      "  9%|▉         | 354/3772 [00:00<00:00, 3538.27it/s]"
     ]
    },
    {
     "name": "stdout",
     "output_type": "stream",
     "text": [
      "gamma= 15 , ratio= 0.5 , M= 5.0 : 0.9413845306908891\n"
     ]
    },
    {
     "name": "stderr",
     "output_type": "stream",
     "text": [
      "100%|██████████| 3772/3772 [00:01<00:00, 3473.26it/s]\n",
      " 10%|▉         | 370/3772 [00:00<00:00, 3694.28it/s]"
     ]
    },
    {
     "name": "stdout",
     "output_type": "stream",
     "text": [
      "gamma= 15 , ratio= 0.5 , M= 10.0 : 0.9292526837324526\n"
     ]
    },
    {
     "name": "stderr",
     "output_type": "stream",
     "text": [
      "100%|██████████| 3772/3772 [00:01<00:00, 3540.38it/s]\n",
      " 19%|█▉        | 719/3772 [00:00<00:00, 3591.26it/s]"
     ]
    },
    {
     "name": "stdout",
     "output_type": "stream",
     "text": [
      "gamma= 15 , ratio= 1.0 , M= 1.0 : 0.9405243600330306\n"
     ]
    },
    {
     "name": "stderr",
     "output_type": "stream",
     "text": [
      "100%|██████████| 3772/3772 [00:01<00:00, 3235.62it/s]\n",
      "  9%|▉         | 337/3772 [00:00<00:01, 3360.80it/s]"
     ]
    },
    {
     "name": "stdout",
     "output_type": "stream",
     "text": [
      "gamma= 15 , ratio= 1.0 , M= 5.0 : 0.9419763281034957\n"
     ]
    },
    {
     "name": "stderr",
     "output_type": "stream",
     "text": [
      "100%|██████████| 3772/3772 [00:01<00:00, 3186.44it/s]\n",
      "  6%|▌         | 211/3772 [00:00<00:01, 2101.01it/s]"
     ]
    },
    {
     "name": "stdout",
     "output_type": "stream",
     "text": [
      "gamma= 15 , ratio= 1.0 , M= 10.0 : 0.9292664464629782\n"
     ]
    },
    {
     "name": "stderr",
     "output_type": "stream",
     "text": [
      "100%|██████████| 3772/3772 [00:01<00:00, 2098.25it/s]\n",
      "  5%|▌         | 206/3772 [00:00<00:01, 2057.86it/s]"
     ]
    },
    {
     "name": "stdout",
     "output_type": "stream",
     "text": [
      "gamma= 5 , ratio= 0.1 , M= 1.0 : 0.9404624277456648\n"
     ]
    },
    {
     "name": "stderr",
     "output_type": "stream",
     "text": [
      "100%|██████████| 3772/3772 [00:01<00:00, 1959.09it/s]\n",
      "  6%|▌         | 210/3772 [00:00<00:01, 2093.45it/s]"
     ]
    },
    {
     "name": "stdout",
     "output_type": "stream",
     "text": [
      "gamma= 5 , ratio= 0.1 , M= 5.0 : 0.9399669694467382\n"
     ]
    },
    {
     "name": "stderr",
     "output_type": "stream",
     "text": [
      "100%|██████████| 3772/3772 [00:01<00:00, 2070.50it/s]\n",
      "  6%|▌         | 223/3772 [00:00<00:01, 2229.29it/s]"
     ]
    },
    {
     "name": "stdout",
     "output_type": "stream",
     "text": [
      "gamma= 5 , ratio= 0.1 , M= 10.0 : 0.9452656206991468\n"
     ]
    },
    {
     "name": "stderr",
     "output_type": "stream",
     "text": [
      "100%|██████████| 3772/3772 [00:01<00:00, 2238.08it/s]\n",
      "  6%|▌         | 209/3772 [00:00<00:01, 2089.75it/s]"
     ]
    },
    {
     "name": "stdout",
     "output_type": "stream",
     "text": [
      "gamma= 5 , ratio= 0.5 , M= 1.0 : 0.9404624277456648\n"
     ]
    },
    {
     "name": "stderr",
     "output_type": "stream",
     "text": [
      "100%|██████████| 3772/3772 [00:01<00:00, 2015.47it/s]\n",
      "  5%|▌         | 201/3772 [00:00<00:01, 2008.54it/s]"
     ]
    },
    {
     "name": "stdout",
     "output_type": "stream",
     "text": [
      "gamma= 5 , ratio= 0.5 , M= 5.0 : 0.942485549132948\n"
     ]
    },
    {
     "name": "stderr",
     "output_type": "stream",
     "text": [
      "100%|██████████| 3772/3772 [00:01<00:00, 1886.33it/s]\n",
      " 11%|█         | 417/3772 [00:00<00:01, 2085.85it/s]"
     ]
    },
    {
     "name": "stdout",
     "output_type": "stream",
     "text": [
      "gamma= 5 , ratio= 0.5 , M= 10.0 : 0.9354734379300852\n"
     ]
    },
    {
     "name": "stderr",
     "output_type": "stream",
     "text": [
      "100%|██████████| 3772/3772 [00:01<00:00, 2180.01it/s]\n",
      "  5%|▌         | 194/3772 [00:00<00:01, 1932.81it/s]"
     ]
    },
    {
     "name": "stdout",
     "output_type": "stream",
     "text": [
      "gamma= 5 , ratio= 1.0 , M= 1.0 : 0.9404624277456648\n"
     ]
    },
    {
     "name": "stderr",
     "output_type": "stream",
     "text": [
      "100%|██████████| 3772/3772 [00:01<00:00, 2038.45it/s]\n",
      "  6%|▌         | 228/3772 [00:00<00:01, 2275.47it/s]"
     ]
    },
    {
     "name": "stdout",
     "output_type": "stream",
     "text": [
      "gamma= 5 , ratio= 1.0 , M= 5.0 : 0.9341590971648775\n"
     ]
    },
    {
     "name": "stderr",
     "output_type": "stream",
     "text": [
      "100%|██████████| 3772/3772 [00:01<00:00, 2035.42it/s]\n",
      "  6%|▌         | 225/3772 [00:00<00:01, 2247.82it/s]"
     ]
    },
    {
     "name": "stdout",
     "output_type": "stream",
     "text": [
      "gamma= 5 , ratio= 1.0 , M= 10.0 : 0.9725708780622075\n"
     ]
    },
    {
     "name": "stderr",
     "output_type": "stream",
     "text": [
      "100%|██████████| 3772/3772 [00:01<00:00, 2003.37it/s]\n",
      "  5%|▌         | 206/3772 [00:00<00:01, 2053.24it/s]"
     ]
    },
    {
     "name": "stdout",
     "output_type": "stream",
     "text": [
      "gamma= 10 , ratio= 0.1 , M= 1.0 : 0.9404624277456648\n"
     ]
    },
    {
     "name": "stderr",
     "output_type": "stream",
     "text": [
      "100%|██████████| 3772/3772 [00:01<00:00, 2043.32it/s]\n",
      "  5%|▍         | 182/3772 [00:00<00:01, 1812.08it/s]"
     ]
    },
    {
     "name": "stdout",
     "output_type": "stream",
     "text": [
      "gamma= 10 , ratio= 0.1 , M= 5.0 : 0.9769474263693917\n"
     ]
    },
    {
     "name": "stderr",
     "output_type": "stream",
     "text": [
      "100%|██████████| 3772/3772 [00:02<00:00, 1783.03it/s]\n",
      "  6%|▌         | 230/3772 [00:00<00:01, 2290.02it/s]"
     ]
    },
    {
     "name": "stdout",
     "output_type": "stream",
     "text": [
      "gamma= 10 , ratio= 0.1 , M= 10.0 : 0.931055601431324\n"
     ]
    },
    {
     "name": "stderr",
     "output_type": "stream",
     "text": [
      "100%|██████████| 3772/3772 [00:01<00:00, 2106.10it/s]\n",
      "  6%|▌         | 212/3772 [00:00<00:01, 2113.60it/s]"
     ]
    },
    {
     "name": "stdout",
     "output_type": "stream",
     "text": [
      "gamma= 10 , ratio= 0.5 , M= 1.0 : 0.9404624277456648\n"
     ]
    },
    {
     "name": "stderr",
     "output_type": "stream",
     "text": [
      "100%|██████████| 3772/3772 [00:01<00:00, 2113.01it/s]\n",
      " 12%|█▏        | 462/3772 [00:00<00:01, 2294.67it/s]"
     ]
    },
    {
     "name": "stdout",
     "output_type": "stream",
     "text": [
      "gamma= 10 , ratio= 0.5 , M= 5.0 : 0.9659922928709056\n"
     ]
    },
    {
     "name": "stderr",
     "output_type": "stream",
     "text": [
      "100%|██████████| 3772/3772 [00:01<00:00, 2171.12it/s]\n",
      " 12%|█▏        | 434/3772 [00:00<00:01, 2167.38it/s]"
     ]
    },
    {
     "name": "stdout",
     "output_type": "stream",
     "text": [
      "gamma= 10 , ratio= 0.5 , M= 10.0 : 0.9460088081475364\n"
     ]
    },
    {
     "name": "stderr",
     "output_type": "stream",
     "text": [
      "100%|██████████| 3772/3772 [00:01<00:00, 1945.27it/s]\n",
      "  6%|▌         | 230/3772 [00:00<00:01, 2295.47it/s]"
     ]
    },
    {
     "name": "stdout",
     "output_type": "stream",
     "text": [
      "gamma= 10 , ratio= 1.0 , M= 1.0 : 0.9404624277456648\n"
     ]
    },
    {
     "name": "stderr",
     "output_type": "stream",
     "text": [
      "100%|██████████| 3772/3772 [00:01<00:00, 2144.64it/s]\n",
      "  5%|▌         | 193/3772 [00:00<00:01, 1921.03it/s]"
     ]
    },
    {
     "name": "stdout",
     "output_type": "stream",
     "text": [
      "gamma= 10 , ratio= 1.0 , M= 5.0 : 0.9460432149738508\n"
     ]
    },
    {
     "name": "stderr",
     "output_type": "stream",
     "text": [
      "100%|██████████| 3772/3772 [00:02<00:00, 1857.13it/s]\n",
      "  5%|▍         | 182/3772 [00:00<00:01, 1816.31it/s]"
     ]
    },
    {
     "name": "stdout",
     "output_type": "stream",
     "text": [
      "gamma= 10 , ratio= 1.0 , M= 10.0 : 0.942485549132948\n"
     ]
    },
    {
     "name": "stderr",
     "output_type": "stream",
     "text": [
      "100%|██████████| 3772/3772 [00:01<00:00, 2016.09it/s]\n",
      " 11%|█         | 418/3772 [00:00<00:01, 2072.83it/s]"
     ]
    },
    {
     "name": "stdout",
     "output_type": "stream",
     "text": [
      "gamma= 15 , ratio= 0.1 , M= 1.0 : 0.9404624277456648\n"
     ]
    },
    {
     "name": "stderr",
     "output_type": "stream",
     "text": [
      "100%|██████████| 3772/3772 [00:01<00:00, 2022.59it/s]\n",
      "  6%|▌         | 217/3772 [00:00<00:01, 2164.70it/s]"
     ]
    },
    {
     "name": "stdout",
     "output_type": "stream",
     "text": [
      "gamma= 15 , ratio= 0.1 , M= 5.0 : 0.9404624277456648\n"
     ]
    },
    {
     "name": "stderr",
     "output_type": "stream",
     "text": [
      "100%|██████████| 3772/3772 [00:02<00:00, 1866.31it/s]\n",
      "  6%|▌         | 213/3772 [00:00<00:01, 2122.89it/s]"
     ]
    },
    {
     "name": "stdout",
     "output_type": "stream",
     "text": [
      "gamma= 15 , ratio= 0.1 , M= 10.0 : 0.9677470410129371\n"
     ]
    },
    {
     "name": "stderr",
     "output_type": "stream",
     "text": [
      "100%|██████████| 3772/3772 [00:01<00:00, 2101.21it/s]\n",
      " 12%|█▏        | 449/3772 [00:00<00:01, 2250.40it/s]"
     ]
    },
    {
     "name": "stdout",
     "output_type": "stream",
     "text": [
      "gamma= 15 , ratio= 0.5 , M= 1.0 : 0.9404624277456648\n"
     ]
    },
    {
     "name": "stderr",
     "output_type": "stream",
     "text": [
      "100%|██████████| 3772/3772 [00:01<00:00, 2068.87it/s]\n",
      "  5%|▍         | 188/3772 [00:00<00:01, 1878.01it/s]"
     ]
    },
    {
     "name": "stdout",
     "output_type": "stream",
     "text": [
      "gamma= 15 , ratio= 0.5 , M= 5.0 : 0.9410404624277456\n"
     ]
    },
    {
     "name": "stderr",
     "output_type": "stream",
     "text": [
      "100%|██████████| 3772/3772 [00:01<00:00, 1953.60it/s]\n",
      "  5%|▌         | 190/3772 [00:00<00:01, 1889.77it/s]"
     ]
    },
    {
     "name": "stdout",
     "output_type": "stream",
     "text": [
      "gamma= 15 , ratio= 0.5 , M= 10.0 : 0.9304362785576659\n"
     ]
    },
    {
     "name": "stderr",
     "output_type": "stream",
     "text": [
      "100%|██████████| 3772/3772 [00:01<00:00, 2024.88it/s]\n",
      "  5%|▌         | 196/3772 [00:00<00:01, 1955.74it/s]"
     ]
    },
    {
     "name": "stdout",
     "output_type": "stream",
     "text": [
      "gamma= 15 , ratio= 1.0 , M= 1.0 : 0.9404624277456648\n"
     ]
    },
    {
     "name": "stderr",
     "output_type": "stream",
     "text": [
      "100%|██████████| 3772/3772 [00:02<00:00, 1596.80it/s]\n",
      "  6%|▌         | 213/3772 [00:00<00:01, 2120.31it/s]"
     ]
    },
    {
     "name": "stdout",
     "output_type": "stream",
     "text": [
      "gamma= 15 , ratio= 1.0 , M= 5.0 : 0.9399325626204239\n"
     ]
    },
    {
     "name": "stderr",
     "output_type": "stream",
     "text": [
      "100%|██████████| 3772/3772 [00:01<00:00, 1921.09it/s]\n",
      "  4%|▍         | 153/3772 [00:00<00:02, 1523.15it/s]"
     ]
    },
    {
     "name": "stdout",
     "output_type": "stream",
     "text": [
      "gamma= 15 , ratio= 1.0 , M= 10.0 : 0.9396091384530691\n"
     ]
    },
    {
     "name": "stderr",
     "output_type": "stream",
     "text": [
      "100%|██████████| 3772/3772 [00:02<00:00, 1475.13it/s]\n",
      "  4%|▍         | 155/3772 [00:00<00:02, 1542.28it/s]"
     ]
    },
    {
     "name": "stdout",
     "output_type": "stream",
     "text": [
      "gamma= 5 , ratio= 0.1 , M= 1.0 : 0.9431323974676576\n"
     ]
    },
    {
     "name": "stderr",
     "output_type": "stream",
     "text": [
      "100%|██████████| 3772/3772 [00:02<00:00, 1279.35it/s]\n",
      "  3%|▎         | 126/3772 [00:00<00:02, 1250.71it/s]"
     ]
    },
    {
     "name": "stdout",
     "output_type": "stream",
     "text": [
      "gamma= 5 , ratio= 0.1 , M= 5.0 : 0.9427470410129369\n"
     ]
    },
    {
     "name": "stderr",
     "output_type": "stream",
     "text": [
      "100%|██████████| 3772/3772 [00:02<00:00, 1373.34it/s]\n",
      "  7%|▋         | 282/3772 [00:00<00:02, 1407.19it/s]"
     ]
    },
    {
     "name": "stdout",
     "output_type": "stream",
     "text": [
      "gamma= 5 , ratio= 0.1 , M= 10.0 : 0.9437517203413157\n"
     ]
    },
    {
     "name": "stderr",
     "output_type": "stream",
     "text": [
      "100%|██████████| 3772/3772 [00:02<00:00, 1477.40it/s]\n",
      "  4%|▍         | 142/3772 [00:00<00:02, 1411.91it/s]"
     ]
    },
    {
     "name": "stdout",
     "output_type": "stream",
     "text": [
      "gamma= 5 , ratio= 0.5 , M= 1.0 : 0.9431323974676576\n"
     ]
    },
    {
     "name": "stderr",
     "output_type": "stream",
     "text": [
      "100%|██████████| 3772/3772 [00:02<00:00, 1444.35it/s]\n",
      "  4%|▍         | 145/3772 [00:00<00:02, 1440.16it/s]"
     ]
    },
    {
     "name": "stdout",
     "output_type": "stream",
     "text": [
      "gamma= 5 , ratio= 0.5 , M= 5.0 : 0.9423892100192678\n"
     ]
    },
    {
     "name": "stderr",
     "output_type": "stream",
     "text": [
      "100%|██████████| 3772/3772 [00:02<00:00, 1471.47it/s]\n",
      "  4%|▍         | 152/3772 [00:00<00:02, 1516.67it/s]"
     ]
    },
    {
     "name": "stdout",
     "output_type": "stream",
     "text": [
      "gamma= 5 , ratio= 0.5 , M= 10.0 : 0.9454720616570327\n"
     ]
    },
    {
     "name": "stderr",
     "output_type": "stream",
     "text": [
      "100%|██████████| 3772/3772 [00:02<00:00, 1487.39it/s]\n",
      "  9%|▊         | 324/3772 [00:00<00:02, 1624.37it/s]"
     ]
    },
    {
     "name": "stdout",
     "output_type": "stream",
     "text": [
      "gamma= 5 , ratio= 1.0 , M= 1.0 : 0.9431323974676576\n"
     ]
    },
    {
     "name": "stderr",
     "output_type": "stream",
     "text": [
      "100%|██████████| 3772/3772 [00:02<00:00, 1447.98it/s]\n",
      "  7%|▋         | 276/3772 [00:00<00:02, 1374.74it/s]"
     ]
    },
    {
     "name": "stdout",
     "output_type": "stream",
     "text": [
      "gamma= 5 , ratio= 1.0 , M= 5.0 : 0.9453757225433526\n"
     ]
    },
    {
     "name": "stderr",
     "output_type": "stream",
     "text": [
      "100%|██████████| 3772/3772 [00:02<00:00, 1390.80it/s]\n",
      "  4%|▍         | 163/3772 [00:00<00:02, 1620.79it/s]"
     ]
    },
    {
     "name": "stdout",
     "output_type": "stream",
     "text": [
      "gamma= 5 , ratio= 1.0 , M= 10.0 : 0.9725708780622075\n"
     ]
    },
    {
     "name": "stderr",
     "output_type": "stream",
     "text": [
      "100%|██████████| 3772/3772 [00:02<00:00, 1405.47it/s]\n",
      "  7%|▋         | 271/3772 [00:00<00:02, 1368.04it/s]"
     ]
    },
    {
     "name": "stdout",
     "output_type": "stream",
     "text": [
      "gamma= 10 , ratio= 0.1 , M= 1.0 : 0.9431323974676575\n"
     ]
    },
    {
     "name": "stderr",
     "output_type": "stream",
     "text": [
      "100%|██████████| 3772/3772 [00:02<00:00, 1467.84it/s]\n",
      "  4%|▍         | 148/3772 [00:00<00:02, 1470.19it/s]"
     ]
    },
    {
     "name": "stdout",
     "output_type": "stream",
     "text": [
      "gamma= 10 , ratio= 0.1 , M= 5.0 : 0.9810624827965868\n"
     ]
    },
    {
     "name": "stderr",
     "output_type": "stream",
     "text": [
      "100%|██████████| 3772/3772 [00:02<00:00, 1287.87it/s]\n",
      "  4%|▎         | 141/3772 [00:00<00:02, 1407.34it/s]"
     ]
    },
    {
     "name": "stdout",
     "output_type": "stream",
     "text": [
      "gamma= 10 , ratio= 0.1 , M= 10.0 : 0.9369804569226534\n"
     ]
    },
    {
     "name": "stderr",
     "output_type": "stream",
     "text": [
      "100%|██████████| 3772/3772 [00:02<00:00, 1437.80it/s]\n",
      "  4%|▍         | 156/3772 [00:00<00:02, 1556.70it/s]"
     ]
    },
    {
     "name": "stdout",
     "output_type": "stream",
     "text": [
      "gamma= 10 , ratio= 0.5 , M= 1.0 : 0.9431323974676575\n"
     ]
    },
    {
     "name": "stderr",
     "output_type": "stream",
     "text": [
      "100%|██████████| 3772/3772 [00:02<00:00, 1542.51it/s]\n",
      "  8%|▊         | 292/3772 [00:00<00:02, 1466.18it/s]"
     ]
    },
    {
     "name": "stdout",
     "output_type": "stream",
     "text": [
      "gamma= 10 , ratio= 0.5 , M= 5.0 : 0.9720203688411782\n"
     ]
    },
    {
     "name": "stderr",
     "output_type": "stream",
     "text": [
      "100%|██████████| 3772/3772 [00:02<00:00, 1518.63it/s]\n",
      "  7%|▋         | 270/3772 [00:00<00:02, 1371.02it/s]"
     ]
    },
    {
     "name": "stdout",
     "output_type": "stream",
     "text": [
      "gamma= 10 , ratio= 0.5 , M= 10.0 : 0.943999449490779\n"
     ]
    },
    {
     "name": "stderr",
     "output_type": "stream",
     "text": [
      "100%|██████████| 3772/3772 [00:02<00:00, 1474.69it/s]\n",
      "  4%|▎         | 136/3772 [00:00<00:02, 1351.93it/s]"
     ]
    },
    {
     "name": "stdout",
     "output_type": "stream",
     "text": [
      "gamma= 10 , ratio= 1.0 , M= 1.0 : 0.9431323974676575\n"
     ]
    },
    {
     "name": "stderr",
     "output_type": "stream",
     "text": [
      "100%|██████████| 3772/3772 [00:02<00:00, 1389.96it/s]\n",
      "  9%|▉         | 332/3772 [00:00<00:02, 1667.84it/s]"
     ]
    },
    {
     "name": "stdout",
     "output_type": "stream",
     "text": [
      "gamma= 10 , ratio= 1.0 , M= 5.0 : 0.935390861546931\n"
     ]
    },
    {
     "name": "stderr",
     "output_type": "stream",
     "text": [
      "100%|██████████| 3772/3772 [00:02<00:00, 1474.39it/s]\n",
      "  4%|▍         | 167/3772 [00:00<00:02, 1664.16it/s]"
     ]
    },
    {
     "name": "stdout",
     "output_type": "stream",
     "text": [
      "gamma= 10 , ratio= 1.0 , M= 10.0 : 0.9423892100192678\n"
     ]
    },
    {
     "name": "stderr",
     "output_type": "stream",
     "text": [
      "100%|██████████| 3772/3772 [00:02<00:00, 1408.25it/s]\n",
      "  4%|▍         | 147/3772 [00:00<00:02, 1469.00it/s]"
     ]
    },
    {
     "name": "stdout",
     "output_type": "stream",
     "text": [
      "gamma= 15 , ratio= 0.1 , M= 1.0 : 0.9431323974676575\n"
     ]
    },
    {
     "name": "stderr",
     "output_type": "stream",
     "text": [
      "100%|██████████| 3772/3772 [00:02<00:00, 1392.50it/s]\n",
      "  4%|▍         | 159/3772 [00:00<00:02, 1586.65it/s]"
     ]
    },
    {
     "name": "stdout",
     "output_type": "stream",
     "text": [
      "gamma= 15 , ratio= 0.1 , M= 5.0 : 0.9434282961739608\n"
     ]
    },
    {
     "name": "stderr",
     "output_type": "stream",
     "text": [
      "100%|██████████| 3772/3772 [00:02<00:00, 1501.25it/s]\n",
      "  8%|▊         | 293/3772 [00:00<00:02, 1477.01it/s]"
     ]
    },
    {
     "name": "stdout",
     "output_type": "stream",
     "text": [
      "gamma= 15 , ratio= 0.1 , M= 10.0 : 0.975419763281035\n"
     ]
    },
    {
     "name": "stderr",
     "output_type": "stream",
     "text": [
      "100%|██████████| 3772/3772 [00:02<00:00, 1542.49it/s]\n",
      "  3%|▎         | 132/3772 [00:00<00:02, 1317.71it/s]"
     ]
    },
    {
     "name": "stdout",
     "output_type": "stream",
     "text": [
      "gamma= 15 , ratio= 0.5 , M= 1.0 : 0.9431323974676575\n"
     ]
    },
    {
     "name": "stderr",
     "output_type": "stream",
     "text": [
      "100%|██████████| 3772/3772 [00:02<00:00, 1332.00it/s]\n",
      "  4%|▍         | 151/3772 [00:00<00:02, 1501.17it/s]"
     ]
    },
    {
     "name": "stdout",
     "output_type": "stream",
     "text": [
      "gamma= 15 , ratio= 0.5 , M= 5.0 : 0.9448940269749518\n"
     ]
    },
    {
     "name": "stderr",
     "output_type": "stream",
     "text": [
      "100%|██████████| 3772/3772 [00:02<00:00, 1445.12it/s]\n",
      "  2%|▏         | 91/3772 [00:00<00:04, 909.70it/s]"
     ]
    },
    {
     "name": "stdout",
     "output_type": "stream",
     "text": [
      "gamma= 15 , ratio= 0.5 , M= 10.0 : 0.9366088631984586\n"
     ]
    },
    {
     "name": "stderr",
     "output_type": "stream",
     "text": [
      "100%|██████████| 3772/3772 [00:02<00:00, 1331.74it/s]\n",
      "  4%|▎         | 140/3772 [00:00<00:02, 1393.00it/s]"
     ]
    },
    {
     "name": "stdout",
     "output_type": "stream",
     "text": [
      "gamma= 15 , ratio= 1.0 , M= 1.0 : 0.9431323974676575\n"
     ]
    },
    {
     "name": "stderr",
     "output_type": "stream",
     "text": [
      "100%|██████████| 3772/3772 [00:02<00:00, 1407.35it/s]\n",
      "  4%|▎         | 138/3772 [00:00<00:02, 1369.47it/s]"
     ]
    },
    {
     "name": "stdout",
     "output_type": "stream",
     "text": [
      "gamma= 15 , ratio= 1.0 , M= 5.0 : 0.9464010459675201\n"
     ]
    },
    {
     "name": "stderr",
     "output_type": "stream",
     "text": [
      "100%|██████████| 3772/3772 [00:02<00:00, 1436.83it/s]\n"
     ]
    },
    {
     "name": "stdout",
     "output_type": "stream",
     "text": [
      "gamma= 15 , ratio= 1.0 , M= 10.0 : 0.9424167354803192\n"
     ]
    }
   ],
   "source": [
    "#auc_sra_tot = np.zeros((n_trial, len(k_list), len(gamma_list), len(d0_list), len(M_list), len(L_alpha_list)))\n",
    "#auc_sra_tr = np.zeros((n_trial, len(k_list), len(gamma_list), len(d0_list), len(M_list), len(L_alpha_list)))\n",
    "#auc_sra_te = np.zeros((n_trial, len(k_list), len(gamma_list), len(d0_list), len(M_list), len(L_alpha_list)))\n",
    "\n",
    "auc_sra_tot = np.zeros((n_trial, len(k_list), len(gamma_list), len(ratio_list), len(M_list)))\n",
    "auc_sra_tr = np.zeros((n_trial, len(k_list), len(gamma_list), len(ratio_list), len(M_list)))\n",
    "auc_sra_te = np.zeros((n_trial, len(k_list), len(gamma_list), len(ratio_list), len(M_list)))\n",
    "\n",
    "for n in range(n_trial):\n",
    "    for i, k in enumerate(k_list):\n",
    "        pi0 = np.array([1/k] * k).reshape(-1, 1)\n",
    "        mu0 = np.hstack([ \n",
    "                  np.random.uniform(np.min(X[:2000, col]), np.max(X[:2000, col]), k).reshape(-1, 1)\n",
    "                  for col in range(X.shape[1])\n",
    "              ])\n",
    "        sigma0 = np.stack([np.diag((X[:2000, :].max(axis=0) - X[:2000, :].min(axis=0))/10) for _ in range(k)])\n",
    "        theta0 = Theta(pi0, mu0, sigma0)\n",
    "        for j, gamma in enumerate(gamma_list):\n",
    "            for l, ratio in enumerate(ratio_list):\n",
    "            #for l, ratio in enumerate([0.01*gamma, 0.1*gamma, gamma]):\n",
    "                for m, M in enumerate(M_list):\n",
    "                #for m, M in enumerate([0.1*gamma, gamma, 10*gamma]):\n",
    "                    scores = calc_scores_sra(X, theta0, k, gamma, ratio, M)\n",
    "                    fpr, tpr, thresholds = roc_curve(y, scores, pos_label=1)\n",
    "                    #auc_sra_tot[n, i, j, l, m, p] = auc(fpr, tpr)\n",
    "                    auc_sra_tot[n, i, j, l, m] = auc(fpr, tpr)\n",
    "                    \n",
    "                    fpr_tr, tpr_tr, thresholds_tr = roc_curve(y[1000:2000], scores[1000:2000], pos_label=1)\n",
    "                    #auc_sra_tr[n, i, j, l, m, p] = auc(fpr_tr, tpr_tr)\n",
    "                    auc_sra_tr[n, i, j, l, m] = auc(fpr_tr, tpr_tr)\n",
    "                    \n",
    "                    fpr_te, tpr_te, thresholds_te = roc_curve(y[2000:], scores[2000:], pos_label=1)\n",
    "                    #auc_sra_te[n, i, j, l, m, p] = auc(fpr_te, tpr_te)\n",
    "                    auc_sra_te[n, i, j, l, m] = auc(fpr_te, tpr_te)\n",
    "                    #print('gamma=', gamma, ', ratio=', ratio, ', M=', M, ':', auc_sra_te[n, i, j, l, m, p])\n",
    "                    print('gamma=', gamma, ', ratio=', ratio, ', M=', M, ':', auc_sra_te[n, i, j, l, m])\n",
    "            \n",
    "            \"\"\"\n",
    "            for l, d0 in enumerate(d0_list):\n",
    "                for m, M in enumerate(M_list):\n",
    "                    for p, L_alpha in enumerate(L_alpha_list):\n",
    "                        scores = calc_scores_sra(X, theta0, k, gamma, d0, M, L_alpha)\n",
    "                        fpr, tpr, thresholds = roc_curve(y, scores, pos_label=1)\n",
    "                        auc_sra_tot[n, i, j, l, m, p] = auc(fpr, tpr)\n",
    "                        \n",
    "                        fpr_tr, tpr_tr, thresholds_tr = roc_curve(y[1000:2000], scores[1000:2000], pos_label=1)\n",
    "                        auc_sra_tr[n, i, j, l, m, p] = auc(fpr_tr, tpr_tr)\n",
    "\n",
    "                        fpr_te, tpr_te, thresholds_te = roc_curve(y[2000:], scores[2000:], pos_label=1)\n",
    "                        auc_sra_te[n, i, j, l, m, p] = auc(fpr_te, tpr_te)\n",
    "                        print('gamma=', gamma, ', d0=', d0, ', M=', M, ', L_alpha=', L_alpha, ':', auc_sra_te[n, i, j, l, m, p])\n",
    "            \"\"\""
   ]
  },
  {
   "cell_type": "code",
   "execution_count": 60,
   "metadata": {},
   "outputs": [
    {
     "data": {
      "text/plain": [
       "array([[[[0.95056643, 0.95544941, 0.95983522],\n",
       "         [0.95056643, 0.95601761, 0.96038567],\n",
       "         [0.95056643, 0.9604922 , 0.95990625]],\n",
       "\n",
       "        [[0.95056643, 0.9550055 , 0.97478604],\n",
       "         [0.95056643, 0.97592244, 0.95926702],\n",
       "         [0.95056643, 0.97915409, 0.95601761]],\n",
       "\n",
       "        [[0.95056643, 0.95056643, 0.97361412],\n",
       "         [0.95056643, 0.95056643, 0.97505238],\n",
       "         [0.95056643, 0.95056643, 0.96466494]]],\n",
       "\n",
       "\n",
       "       [[[0.95005149, 0.96347527, 0.95846799],\n",
       "         [0.95005149, 0.94948329, 0.9465535 ],\n",
       "         [0.95005149, 0.94680209, 0.95990625]],\n",
       "\n",
       "        [[0.95005149, 0.96604993, 0.97084414],\n",
       "         [0.95005149, 0.97901204, 0.95697646],\n",
       "         [0.95005149, 0.97038247, 0.94948329]],\n",
       "\n",
       "        [[0.95005149, 0.95005149, 0.97936717],\n",
       "         [0.95005149, 0.95005149, 0.97151887],\n",
       "         [0.95005149, 0.95056643, 0.96363507]]],\n",
       "\n",
       "\n",
       "       [[[0.95211123, 0.96317341, 0.95880536],\n",
       "         [0.95211123, 0.94941227, 0.96026137],\n",
       "         [0.95211123, 0.96388366, 0.95990625]],\n",
       "\n",
       "        [[0.95211123, 0.97308143, 0.96691999],\n",
       "         [0.95211123, 0.98100075, 0.95710075],\n",
       "         [0.95211123, 0.9749636 , 0.94941227]],\n",
       "\n",
       "        [[0.95211123, 0.95211123, 0.98021947],\n",
       "         [0.95211123, 0.95211123, 0.96734614],\n",
       "         [0.95211123, 0.95262616, 0.96327995]]]])"
      ]
     },
     "execution_count": 60,
     "metadata": {},
     "output_type": "execute_result"
    }
   ],
   "source": [
    "np.mean(auc_sra_tr, axis=0)"
   ]
  },
  {
   "cell_type": "code",
   "execution_count": 61,
   "metadata": {},
   "outputs": [
    {
     "data": {
      "text/plain": [
       "array([[[[0.00000000e+00, 1.11022302e-16, 0.00000000e+00],\n",
       "         [0.00000000e+00, 1.11022302e-16, 1.11022302e-16],\n",
       "         [0.00000000e+00, 0.00000000e+00, 0.00000000e+00]],\n",
       "\n",
       "        [[0.00000000e+00, 0.00000000e+00, 1.11022302e-16],\n",
       "         [0.00000000e+00, 1.11022302e-16, 0.00000000e+00],\n",
       "         [0.00000000e+00, 1.11022302e-16, 1.11022302e-16]],\n",
       "\n",
       "        [[0.00000000e+00, 0.00000000e+00, 0.00000000e+00],\n",
       "         [0.00000000e+00, 0.00000000e+00, 0.00000000e+00],\n",
       "         [0.00000000e+00, 0.00000000e+00, 0.00000000e+00]]],\n",
       "\n",
       "\n",
       "       [[[1.11022302e-16, 0.00000000e+00, 1.11022302e-16],\n",
       "         [1.11022302e-16, 0.00000000e+00, 1.11022302e-16],\n",
       "         [1.11022302e-16, 0.00000000e+00, 0.00000000e+00]],\n",
       "\n",
       "        [[1.11022302e-16, 0.00000000e+00, 1.11022302e-16],\n",
       "         [1.11022302e-16, 0.00000000e+00, 1.11022302e-16],\n",
       "         [1.11022302e-16, 0.00000000e+00, 0.00000000e+00]],\n",
       "\n",
       "        [[1.11022302e-16, 1.11022302e-16, 0.00000000e+00],\n",
       "         [1.11022302e-16, 1.11022302e-16, 0.00000000e+00],\n",
       "         [1.11022302e-16, 0.00000000e+00, 1.11022302e-16]]],\n",
       "\n",
       "\n",
       "       [[[1.11022302e-16, 0.00000000e+00, 0.00000000e+00],\n",
       "         [1.11022302e-16, 0.00000000e+00, 1.11022302e-16],\n",
       "         [1.11022302e-16, 1.11022302e-16, 0.00000000e+00]],\n",
       "\n",
       "        [[1.11022302e-16, 0.00000000e+00, 0.00000000e+00],\n",
       "         [1.11022302e-16, 0.00000000e+00, 0.00000000e+00],\n",
       "         [1.11022302e-16, 0.00000000e+00, 0.00000000e+00]],\n",
       "\n",
       "        [[1.11022302e-16, 1.11022302e-16, 1.11022302e-16],\n",
       "         [1.11022302e-16, 1.11022302e-16, 0.00000000e+00],\n",
       "         [1.11022302e-16, 1.11022302e-16, 0.00000000e+00]]]])"
      ]
     },
     "execution_count": 61,
     "metadata": {},
     "output_type": "execute_result"
    }
   ],
   "source": [
    "np.std(auc_sra_tr, axis=0)"
   ]
  },
  {
   "cell_type": "code",
   "execution_count": 62,
   "metadata": {},
   "outputs": [
    {
     "data": {
      "text/plain": [
       "array([[[[0.94052436, 0.94993119, 0.9318676 ],\n",
       "         [0.94052436, 0.9361134 , 0.94547206],\n",
       "         [0.94052436, 0.94537572, 0.97257088]],\n",
       "\n",
       "        [[0.94052436, 0.95893889, 0.92879851],\n",
       "         [0.94052436, 0.98259015, 0.93222543],\n",
       "         [0.94052436, 0.97013487, 0.9361134 ]],\n",
       "\n",
       "        [[0.94052436, 0.9408065 , 0.9826452 ],\n",
       "         [0.94052436, 0.94138453, 0.92925268],\n",
       "         [0.94052436, 0.94197633, 0.92926645]]],\n",
       "\n",
       "\n",
       "       [[[0.94046243, 0.93996697, 0.94526562],\n",
       "         [0.94046243, 0.94248555, 0.93547344],\n",
       "         [0.94046243, 0.9341591 , 0.97257088]],\n",
       "\n",
       "        [[0.94046243, 0.97694743, 0.9310556 ],\n",
       "         [0.94046243, 0.96599229, 0.94600881],\n",
       "         [0.94046243, 0.94604321, 0.94248555]],\n",
       "\n",
       "        [[0.94046243, 0.94046243, 0.96774704],\n",
       "         [0.94046243, 0.94104046, 0.93043628],\n",
       "         [0.94046243, 0.93993256, 0.93960914]]],\n",
       "\n",
       "\n",
       "       [[[0.9431324 , 0.94274704, 0.94375172],\n",
       "         [0.9431324 , 0.94238921, 0.94547206],\n",
       "         [0.9431324 , 0.94537572, 0.97257088]],\n",
       "\n",
       "        [[0.9431324 , 0.98106248, 0.93698046],\n",
       "         [0.9431324 , 0.97202037, 0.94399945],\n",
       "         [0.9431324 , 0.93539086, 0.94238921]],\n",
       "\n",
       "        [[0.9431324 , 0.9434283 , 0.97541976],\n",
       "         [0.9431324 , 0.94489403, 0.93660886],\n",
       "         [0.9431324 , 0.94640105, 0.94241674]]]])"
      ]
     },
     "execution_count": 62,
     "metadata": {},
     "output_type": "execute_result"
    }
   ],
   "source": [
    "np.mean(auc_sra_te, axis=0)"
   ]
  },
  {
   "cell_type": "code",
   "execution_count": 63,
   "metadata": {},
   "outputs": [
    {
     "data": {
      "text/plain": [
       "array([[[[0.00000000e+00, 0.00000000e+00, 0.00000000e+00],\n",
       "         [0.00000000e+00, 0.00000000e+00, 0.00000000e+00],\n",
       "         [0.00000000e+00, 0.00000000e+00, 1.11022302e-16]],\n",
       "\n",
       "        [[0.00000000e+00, 0.00000000e+00, 0.00000000e+00],\n",
       "         [0.00000000e+00, 0.00000000e+00, 0.00000000e+00],\n",
       "         [0.00000000e+00, 0.00000000e+00, 0.00000000e+00]],\n",
       "\n",
       "        [[0.00000000e+00, 0.00000000e+00, 0.00000000e+00],\n",
       "         [0.00000000e+00, 0.00000000e+00, 0.00000000e+00],\n",
       "         [0.00000000e+00, 1.11022302e-16, 0.00000000e+00]]],\n",
       "\n",
       "\n",
       "       [[[0.00000000e+00, 1.11022302e-16, 1.11022302e-16],\n",
       "         [0.00000000e+00, 1.11022302e-16, 1.11022302e-16],\n",
       "         [0.00000000e+00, 0.00000000e+00, 1.11022302e-16]],\n",
       "\n",
       "        [[0.00000000e+00, 0.00000000e+00, 0.00000000e+00],\n",
       "         [0.00000000e+00, 0.00000000e+00, 0.00000000e+00],\n",
       "         [0.00000000e+00, 1.11022302e-16, 1.11022302e-16]],\n",
       "\n",
       "        [[0.00000000e+00, 0.00000000e+00, 1.11022302e-16],\n",
       "         [0.00000000e+00, 0.00000000e+00, 0.00000000e+00],\n",
       "         [0.00000000e+00, 1.11022302e-16, 0.00000000e+00]]],\n",
       "\n",
       "\n",
       "       [[[0.00000000e+00, 1.11022302e-16, 1.11022302e-16],\n",
       "         [0.00000000e+00, 0.00000000e+00, 0.00000000e+00],\n",
       "         [0.00000000e+00, 0.00000000e+00, 1.11022302e-16]],\n",
       "\n",
       "        [[0.00000000e+00, 1.11022302e-16, 0.00000000e+00],\n",
       "         [0.00000000e+00, 1.11022302e-16, 0.00000000e+00],\n",
       "         [0.00000000e+00, 0.00000000e+00, 0.00000000e+00]],\n",
       "\n",
       "        [[0.00000000e+00, 0.00000000e+00, 0.00000000e+00],\n",
       "         [0.00000000e+00, 1.11022302e-16, 1.11022302e-16],\n",
       "         [0.00000000e+00, 0.00000000e+00, 0.00000000e+00]]]])"
      ]
     },
     "execution_count": 63,
     "metadata": {},
     "output_type": "execute_result"
    }
   ],
   "source": [
    "np.std(auc_sra_te, axis=0)"
   ]
  },
  {
   "cell_type": "code",
   "execution_count": 33,
   "metadata": {},
   "outputs": [
    {
     "data": {
      "text/plain": [
       "(2, 1, 1, 1)"
      ]
     },
     "execution_count": 33,
     "metadata": {},
     "output_type": "execute_result"
    }
   ],
   "source": [
    "np.unravel_index(np.argmax(np.mean(auc_sra_tr, axis=0)), np.mean(auc_sra_tr, axis=0).shape)"
   ]
  },
  {
   "cell_type": "code",
   "execution_count": 36,
   "metadata": {},
   "outputs": [
    {
     "data": {
      "text/plain": [
       "0.9810007457651195"
      ]
     },
     "execution_count": 36,
     "metadata": {},
     "output_type": "execute_result"
    }
   ],
   "source": [
    "np.mean(auc_sra_tr, axis=0)[2, 1, 1, 1]"
   ]
  },
  {
   "cell_type": "code",
   "execution_count": 37,
   "metadata": {},
   "outputs": [
    {
     "data": {
      "text/plain": [
       "0.9720203688411783"
      ]
     },
     "execution_count": 37,
     "metadata": {},
     "output_type": "execute_result"
    }
   ],
   "source": [
    "np.mean(auc_sra_te, axis=0)[2, 1, 1, 1]"
   ]
  },
  {
   "cell_type": "code",
   "execution_count": 38,
   "metadata": {},
   "outputs": [
    {
     "data": {
      "text/plain": [
       "0.0"
      ]
     },
     "execution_count": 38,
     "metadata": {},
     "output_type": "execute_result"
    }
   ],
   "source": [
    "np.std(auc_sra_te, axis=0)[0, 1, 0, 1]"
   ]
  },
  {
   "cell_type": "code",
   "execution_count": null,
   "metadata": {},
   "outputs": [],
   "source": []
  },
  {
   "cell_type": "markdown",
   "metadata": {},
   "source": [
    "# ADWIN"
   ]
  },
  {
   "cell_type": "code",
   "execution_count": 39,
   "metadata": {},
   "outputs": [],
   "source": [
    "from math import log, sqrt, fabs\n",
    "\n",
    "import os, sys\n",
    "#sys.path.append('./')\n",
    "\n",
    "\"\"\"\n",
    "Within one bucket row, each bucket contains same number of original data.\n",
    "New buckets are added at the end of bucket row.\n",
    "When old buckets need to be removed, they are taken from the head of this bucket row.\n",
    "\"\"\"\n",
    "\n",
    "\n",
    "class AdwinBucketRow:\n",
    "    def __init__(self, max_buckets=5, next_bucket_row=None, previous_bucket_row=None):\n",
    "        \"\"\"\n",
    "        :param max_buckets: Max bucket with one row\n",
    "        :param next_bucket_row: Following bucket row\n",
    "        :param previous_bucket_row: Previous bucket row\n",
    "        \"\"\"\n",
    "        self.max_buckets = max_buckets\n",
    "\n",
    "        # Current count of buckets in this bucket row\n",
    "        self.bucket_count = 0\n",
    "\n",
    "        self.next_bucket_row = next_bucket_row\n",
    "        # Set previous bucket row connect to this bucket row\n",
    "        if next_bucket_row is not None:\n",
    "            next_bucket_row.previous_bucket_row = self\n",
    "\n",
    "        self.previous_bucket_row = previous_bucket_row\n",
    "        # Set next bucket connect to this bucket\n",
    "        if previous_bucket_row is not None:\n",
    "            previous_bucket_row.next_bucket_row = self\n",
    "\n",
    "        # Init statistic number for each bucket\n",
    "        self.bucket_sum = np.zeros(self.max_buckets + 1)\n",
    "        self.bucket_variance = np.zeros(self.max_buckets + 1)\n",
    "\n",
    "    def insert_bucket(self, value, variance):\n",
    "        \"\"\"\n",
    "        Insert a new bucket at the end.\n",
    "        \"\"\"\n",
    "        self.bucket_sum[self.bucket_count] = value\n",
    "        self.bucket_variance[self.bucket_count] = variance\n",
    "        self.bucket_count += 1\n",
    "\n",
    "    def compress_bucket(self, number_deleted):\n",
    "        \"\"\"\n",
    "        Remove the oldest buckets.\n",
    "        \"\"\"\n",
    "        delete_index = self.max_buckets - number_deleted + 1\n",
    "        self.bucket_sum[:delete_index] = self.bucket_sum[number_deleted:]\n",
    "        self.bucket_sum[delete_index:] = np.zeros(number_deleted)\n",
    "\n",
    "        self.bucket_variance[:delete_index] = self.bucket_variance[number_deleted:]\n",
    "        self.bucket_variance[delete_index:] = np.zeros(number_deleted)\n",
    "\n",
    "        self.bucket_count -= number_deleted\n",
    "\n",
    "\"\"\"\n",
    "List of bucket rows.\n",
    "Add new bucket row at head of window, remove old bucket row from tail of window.\n",
    "\"\"\"\n",
    "\n",
    "class AdwinRowBucketList:\n",
    "    def __init__(self, max_buckets=5):\n",
    "        \"\"\"\n",
    "        :param max_buckets: Max number of bucket in each bucket row\n",
    "        \"\"\"\n",
    "        self.max_buckets = max_buckets\n",
    "\n",
    "        self.count = 0\n",
    "        self.head = None\n",
    "        self.tail = None\n",
    "        self.__add_to_head()\n",
    "\n",
    "    def __add_to_head(self):\n",
    "        \"\"\"\n",
    "        Init bucket row list.\n",
    "        \"\"\"\n",
    "        self.head = AdwinBucketRow(self.max_buckets, next_bucket_row=self.head)\n",
    "        if self.tail is None:\n",
    "            self.tail = self.head\n",
    "        self.count += 1\n",
    "\n",
    "    def add_to_tail(self):\n",
    "        \"\"\"\n",
    "        Add the bucket row at the end of the window.\n",
    "        \"\"\"\n",
    "        self.tail = AdwinBucketRow(self.max_buckets, previous_bucket_row=self.tail)\n",
    "        if self.head is None:\n",
    "            self.head = self.tail\n",
    "        self.count += 1\n",
    "\n",
    "    def remove_from_tail(self):\n",
    "        \"\"\"\n",
    "        Remove the last bucket row in the window.\n",
    "        \"\"\"\n",
    "        self.tail = self.tail.previous_bucket_row\n",
    "        if self.tail is None:\n",
    "            self.head = None\n",
    "        else:\n",
    "            self.tail.next_bucket_row = None\n",
    "        self.count -= 1\n",
    "\n",
    "class AdWin:\n",
    "    def __init__(self, delta=0.002, max_buckets=5, min_clock=32, min_win_len=10, min_sub_win_len=5):\n",
    "        \"\"\"\n",
    "        :param delta: Confidence value\n",
    "        :param max_buckets: Max number of buckets within one bucket row\n",
    "        :param min_clock: Min number of new data for starting to reduce window and detect change\n",
    "        :param min_win_len: Min window length for starting to reduce window and detect change\n",
    "        :param min_sub_win_len: Min sub-window length, which is split from whole window\n",
    "        \"\"\"\n",
    "        self.delta = delta\n",
    "        self.max_buckets = max_buckets\n",
    "        self.min_clock = min_clock\n",
    "        self.min_win_len = min_win_len\n",
    "        self.min_sub_win_len = min_sub_win_len\n",
    "\n",
    "        # Time is used for comparison with min_clock parameter\n",
    "        self.time = 0\n",
    "        # Current window length\n",
    "        self.window_len = 0\n",
    "        # Sum of all values in the window\n",
    "        self.window_sum = 0.0\n",
    "        # Variance of all values in the window\n",
    "        self.window_variance = 0.0\n",
    "\n",
    "        # Count of bucket row within window\n",
    "        self.bucket_row_count = 0\n",
    "        # Init bucket list\n",
    "        self.bucket_row_list = AdwinRowBucketList(self.max_buckets)\n",
    "\n",
    "    def set_input(self, value):\n",
    "        \"\"\"\n",
    "        Main method for adding a new data value and automatically detect a possible concept drift.\n",
    "        :param value: new data value\n",
    "        :return: true if there is a concept drift, otherwise false\n",
    "        \"\"\"\n",
    "        self.time += 1\n",
    "\n",
    "        # Insert the new element\n",
    "        self.__insert_element(value)\n",
    "\n",
    "        # Reduce window\n",
    "        return self.__reduce_window()\n",
    "\n",
    "    def __insert_element(self, value):\n",
    "        \"\"\"\n",
    "        Create a new bucket, and insert it into bucket row which is the head of bucket row list.\n",
    "        Meanwhile, this bucket row maybe compressed if reaches the maximum number of buckets.\n",
    "        :param value: New data value from the stream\n",
    "        \"\"\"\n",
    "        # Insert the new bucket\n",
    "        self.bucket_row_list.head.insert_bucket(value, 0)\n",
    "\n",
    "        # Calculate the incremental variance\n",
    "        incremental_variance = 0\n",
    "        if self.window_len > 0:\n",
    "            mean = self.window_sum / self.window_len\n",
    "            incremental_variance = self.window_len * pow(value - mean, 2) / (self.window_len + 1)\n",
    "\n",
    "        # Update statistic value\n",
    "        self.window_len += 1\n",
    "        self.window_variance += incremental_variance\n",
    "        self.window_sum += value\n",
    "\n",
    "        # Compress buckets if necessary\n",
    "        self.__compress_bucket_row()\n",
    "\n",
    "    def __compress_bucket_row(self):\n",
    "        \"\"\"\n",
    "        If reaches maximum number of buckets, then merge two buckets within one row into a next bucket row.\n",
    "        \"\"\"\n",
    "        bucket_row = self.bucket_row_list.head\n",
    "        bucket_row_level = 0\n",
    "        while bucket_row is not None:\n",
    "            # Merge buckets if row is full\n",
    "            if bucket_row.bucket_count == self.max_buckets + 1:\n",
    "                next_bucket_row = bucket_row.next_bucket_row\n",
    "                if next_bucket_row is None:\n",
    "                    # Add new bucket row and move to it\n",
    "                    self.bucket_row_list.add_to_tail()\n",
    "                    next_bucket_row = bucket_row.next_bucket_row\n",
    "                    self.bucket_row_count += 1\n",
    "\n",
    "                # Calculate number of bucket which will be compressed into next bucket row\n",
    "                n_1 = pow(2, bucket_row_level)\n",
    "                n_2 = pow(2, bucket_row_level)\n",
    "                # Mean\n",
    "                mean_1 = bucket_row.bucket_sum[0] / n_1\n",
    "                mean_2 = bucket_row.bucket_sum[1] / n_2\n",
    "                # Total\n",
    "                next_total = bucket_row.bucket_sum[0] + bucket_row.bucket_sum[1]\n",
    "                # Variance\n",
    "                external_variance = n_1 * n_2 * pow(mean_1 - mean_2, 2) / (n_1 + n_2)\n",
    "                next_variance = bucket_row.bucket_variance[0] + bucket_row.bucket_variance[1] + external_variance\n",
    "\n",
    "                # Insert into next bucket row, meanwhile remove two original buckets\n",
    "                next_bucket_row.insert_bucket(next_total, next_variance)\n",
    "\n",
    "                # Compress those tow buckets\n",
    "                bucket_row.compress_bucket(2)\n",
    "\n",
    "                # Stop if the number of bucket within one row, which does not exceed limited\n",
    "                if next_bucket_row.bucket_count <= self.max_buckets:\n",
    "                    break\n",
    "            else:\n",
    "                break\n",
    "\n",
    "            # Move to next bucket row\n",
    "            bucket_row = bucket_row.next_bucket_row\n",
    "            bucket_row_level += 1\n",
    "\n",
    "    def __reduce_window(self):\n",
    "        \"\"\"\n",
    "        Detect a change from last of each bucket row, reduce the window if there is a concept drift.\n",
    "        :return: boolean: Whether has changed\n",
    "        \"\"\"\n",
    "        is_changed = False\n",
    "        if self.time % self.min_clock == 0 and self.window_len > self.min_win_len:\n",
    "            is_reduced_width = True\n",
    "            while is_reduced_width:\n",
    "                is_reduced_width = False\n",
    "                is_exit = False\n",
    "                n_0, n_1 = 0, self.window_len\n",
    "                sum_0, sum_1 = 0, self.window_sum\n",
    "\n",
    "                # Start building sub windows from the tail of window (old bucket row)\n",
    "                bucket_row = self.bucket_row_list.tail\n",
    "                i = self.bucket_row_count\n",
    "                while (not is_exit) and (bucket_row is not None):\n",
    "                    for bucket_num in range(bucket_row.bucket_count):\n",
    "                        # Iteration of last bucket row, or last bucket in one row\n",
    "                        if i == 0 and bucket_num == bucket_row.bucket_count - 1:\n",
    "                            is_exit = True\n",
    "                            break\n",
    "\n",
    "                        # Grow sub window 0, while reduce sub window 1\n",
    "                        n_0 += pow(2, i)\n",
    "                        n_1 -= pow(2, i)\n",
    "                        sum_0 += bucket_row.bucket_sum[bucket_num]\n",
    "                        sum_1 -= bucket_row.bucket_sum[bucket_num]\n",
    "                        diff_value = (sum_0 / n_0) - (sum_1 / n_1)\n",
    "\n",
    "                        # Minimum sub window length is matching\n",
    "                        if n_0 > self.min_sub_win_len + 1 and n_1 > self.min_sub_win_len + 1:\n",
    "                            # Remove oldest bucket if there is a concept drift\n",
    "                            if self.__reduce_expression(n_0, n_1, diff_value):\n",
    "                                is_reduced_width, is_changed = True, True\n",
    "                                if self.window_len > 0:\n",
    "                                    n_0 -= self.__delete_element()\n",
    "                                    is_exit = True\n",
    "                                    break\n",
    "\n",
    "                    # Move to previous bucket row\n",
    "                    bucket_row = bucket_row.previous_bucket_row\n",
    "                    i -= 1\n",
    "        return is_changed\n",
    "\n",
    "    def __reduce_expression(self, n_0, n_1, diff_value):\n",
    "        \"\"\"\n",
    "        Calculate epsilon cut value.\n",
    "        :param n_0: number of elements in sub window 0\n",
    "        :param n_1: number of elements in sub window 1\n",
    "        :param diff_value: difference of mean values of both sub windows\n",
    "        :return: true if difference of mean values is higher than epsilon_cut\n",
    "        \"\"\"\n",
    "        # Harmonic mean of n0 and n1\n",
    "        m = 1 / (n_0 - self.min_sub_win_len + 1) + 1 / (n_1 - self.min_sub_win_len + 1)\n",
    "        d = log(2 * log(self.window_len) / self.delta)\n",
    "        variance_window = self.window_variance / self.window_len\n",
    "        epsilon_cut = sqrt(2 * m * variance_window * d) + 2 / 3 * m * d\n",
    "        return fabs(diff_value) > epsilon_cut\n",
    "\n",
    "    def __delete_element(self):\n",
    "        \"\"\"\n",
    "        Remove a bucket from tail of bucket row.\n",
    "        :return: Number of elements to be deleted\n",
    "        \"\"\"\n",
    "        bucket_row = self.bucket_row_list.tail\n",
    "        deleted_number = pow(2, self.bucket_row_count)\n",
    "        self.window_len -= deleted_number\n",
    "        self.window_sum -= bucket_row.bucket_sum[0]\n",
    "\n",
    "        deleted_bucket_mean = bucket_row.bucket_sum[0] / deleted_number\n",
    "        inc_variance = bucket_row.bucket_variance[0] + deleted_number * self.window_len * pow(\n",
    "            deleted_bucket_mean - self.window_sum / self.window_len, 2\n",
    "        ) / (deleted_number + self.window_len)\n",
    "\n",
    "        self.window_variance -= inc_variance\n",
    "\n",
    "        # Delete bucket from bucket row\n",
    "        bucket_row.compress_bucket(1)\n",
    "        # If bucket row is empty, remove it from the tail of window\n",
    "        if bucket_row.bucket_count == 0:\n",
    "            self.bucket_row_list.remove_from_tail()\n",
    "            self.bucket_row_count -= 1\n",
    "\n",
    "        return deleted_number\n"
   ]
  },
  {
   "cell_type": "code",
   "execution_count": 57,
   "metadata": {},
   "outputs": [],
   "source": [
    "n_trial = 5\n",
    "\n",
    "delta_list_adwin=[0.001, 0.002, 0.005, 0.01, 0.02, 0.05, 0.1, 0.2, 0.5]\n",
    "\n",
    "score_start = 0\n",
    "score_end = None\n",
    "\n",
    "#auc_adwin_tr = np.nan * np.ones((n_trial, len(delta_list_adwin), X.shape[1]))\n",
    "#auc_adwin_te = np.nan * np.ones((n_trial, len(delta_list_adwin), X.shape[1]))\n",
    "\n",
    "res_adwin_tr = []\n",
    "res_adwin_te = []\n",
    "\n",
    "for n in range(n_trial):\n",
    "    for i, delta in enumerate(delta_list_adwin):\n",
    "        score_list_adwin = []\n",
    "\n",
    "        auc_all = []\n",
    "        for j in range(X.shape[1]):\n",
    "            adwin = AdWin(delta=delta)\n",
    "            score_list_adwin_j = []\n",
    "            for t, x in enumerate(X[:, j]):\n",
    "                prev_lenwin = adwin.window_len\n",
    "                if adwin.set_input(x):\n",
    "                    post_lenwin = adwin.window_len\n",
    "                    score = prev_lenwin - post_lenwin + 1\n",
    "                    score_list_adwin_j.append(score)\n",
    "                else:\n",
    "                    score_list_adwin_j.append(1.0)\n",
    "            score_list_adwin_j = np.hstack((np.nan, np.abs(np.diff(score_list_adwin_j))))\n",
    "\n",
    "            fpr_tr, tpr_tr, thresholds_tr = roc_curve(y[1000:2000], score_list_adwin_j[1000:2000], pos_label=1)\n",
    "            #auc_adwin_tr[n, i, j] = auc(fpr_tr, tpr_tr)\n",
    "            res_adwin_tr.append([n, delta, j, auc(fpr_tr, tpr_tr)])\n",
    "            \n",
    "            fpr_te, tpr_te, thresholds_te = roc_curve(y[2000:], score_list_adwin_j[2000:], pos_label=1)\n",
    "            #auc_adwin_te[n, i, j] = auc(fpr_te, tpr_te)\n",
    "            res_adwin_te.append([n, delta, j, auc(fpr_te, tpr_te)])"
   ]
  },
  {
   "cell_type": "code",
   "execution_count": 58,
   "metadata": {},
   "outputs": [
    {
     "data": {
      "text/plain": [
       "array([nan,  0.,  0., ...,  0.,  0.,  0.])"
      ]
     },
     "execution_count": 58,
     "metadata": {},
     "output_type": "execute_result"
    }
   ],
   "source": [
    "score_list_adwin_j"
   ]
  },
  {
   "cell_type": "code",
   "execution_count": 59,
   "metadata": {},
   "outputs": [],
   "source": [
    "res_adwin_tr_df = pd.DataFrame(res_adwin_tr, columns=['n', 'delta', 'column', 'auc'])\n",
    "res_adwin_te_df = pd.DataFrame(res_adwin_te, columns=['n', 'delta', 'column', 'auc'])"
   ]
  },
  {
   "cell_type": "code",
   "execution_count": 60,
   "metadata": {},
   "outputs": [
    {
     "data": {
      "text/html": [
       "<div>\n",
       "<style scoped>\n",
       "    .dataframe tbody tr th:only-of-type {\n",
       "        vertical-align: middle;\n",
       "    }\n",
       "\n",
       "    .dataframe tbody tr th {\n",
       "        vertical-align: top;\n",
       "    }\n",
       "\n",
       "    .dataframe thead th {\n",
       "        text-align: right;\n",
       "    }\n",
       "</style>\n",
       "<table border=\"1\" class=\"dataframe\">\n",
       "  <thead>\n",
       "    <tr style=\"text-align: right;\">\n",
       "      <th></th>\n",
       "      <th></th>\n",
       "      <th>mean</th>\n",
       "      <th>std</th>\n",
       "    </tr>\n",
       "    <tr>\n",
       "      <th>delta</th>\n",
       "      <th>column</th>\n",
       "      <th></th>\n",
       "      <th></th>\n",
       "    </tr>\n",
       "  </thead>\n",
       "  <tbody>\n",
       "    <tr>\n",
       "      <th rowspan=\"6\" valign=\"top\">0.001</th>\n",
       "      <th>0</th>\n",
       "      <td>0.5</td>\n",
       "      <td>0.0</td>\n",
       "    </tr>\n",
       "    <tr>\n",
       "      <th>1</th>\n",
       "      <td>0.5</td>\n",
       "      <td>0.0</td>\n",
       "    </tr>\n",
       "    <tr>\n",
       "      <th>2</th>\n",
       "      <td>0.5</td>\n",
       "      <td>0.0</td>\n",
       "    </tr>\n",
       "    <tr>\n",
       "      <th>3</th>\n",
       "      <td>0.5</td>\n",
       "      <td>0.0</td>\n",
       "    </tr>\n",
       "    <tr>\n",
       "      <th>4</th>\n",
       "      <td>0.5</td>\n",
       "      <td>0.0</td>\n",
       "    </tr>\n",
       "    <tr>\n",
       "      <th>5</th>\n",
       "      <td>0.5</td>\n",
       "      <td>0.0</td>\n",
       "    </tr>\n",
       "    <tr>\n",
       "      <th rowspan=\"6\" valign=\"top\">0.002</th>\n",
       "      <th>0</th>\n",
       "      <td>0.5</td>\n",
       "      <td>0.0</td>\n",
       "    </tr>\n",
       "    <tr>\n",
       "      <th>1</th>\n",
       "      <td>0.5</td>\n",
       "      <td>0.0</td>\n",
       "    </tr>\n",
       "    <tr>\n",
       "      <th>2</th>\n",
       "      <td>0.5</td>\n",
       "      <td>0.0</td>\n",
       "    </tr>\n",
       "    <tr>\n",
       "      <th>3</th>\n",
       "      <td>0.5</td>\n",
       "      <td>0.0</td>\n",
       "    </tr>\n",
       "    <tr>\n",
       "      <th>4</th>\n",
       "      <td>0.5</td>\n",
       "      <td>0.0</td>\n",
       "    </tr>\n",
       "    <tr>\n",
       "      <th>5</th>\n",
       "      <td>0.5</td>\n",
       "      <td>0.0</td>\n",
       "    </tr>\n",
       "    <tr>\n",
       "      <th rowspan=\"6\" valign=\"top\">0.005</th>\n",
       "      <th>0</th>\n",
       "      <td>0.5</td>\n",
       "      <td>0.0</td>\n",
       "    </tr>\n",
       "    <tr>\n",
       "      <th>1</th>\n",
       "      <td>0.5</td>\n",
       "      <td>0.0</td>\n",
       "    </tr>\n",
       "    <tr>\n",
       "      <th>2</th>\n",
       "      <td>0.5</td>\n",
       "      <td>0.0</td>\n",
       "    </tr>\n",
       "    <tr>\n",
       "      <th>3</th>\n",
       "      <td>0.5</td>\n",
       "      <td>0.0</td>\n",
       "    </tr>\n",
       "    <tr>\n",
       "      <th>4</th>\n",
       "      <td>0.5</td>\n",
       "      <td>0.0</td>\n",
       "    </tr>\n",
       "    <tr>\n",
       "      <th>5</th>\n",
       "      <td>0.5</td>\n",
       "      <td>0.0</td>\n",
       "    </tr>\n",
       "    <tr>\n",
       "      <th rowspan=\"6\" valign=\"top\">0.010</th>\n",
       "      <th>0</th>\n",
       "      <td>0.5</td>\n",
       "      <td>0.0</td>\n",
       "    </tr>\n",
       "    <tr>\n",
       "      <th>1</th>\n",
       "      <td>0.5</td>\n",
       "      <td>0.0</td>\n",
       "    </tr>\n",
       "    <tr>\n",
       "      <th>2</th>\n",
       "      <td>0.5</td>\n",
       "      <td>0.0</td>\n",
       "    </tr>\n",
       "    <tr>\n",
       "      <th>3</th>\n",
       "      <td>0.5</td>\n",
       "      <td>0.0</td>\n",
       "    </tr>\n",
       "    <tr>\n",
       "      <th>4</th>\n",
       "      <td>0.5</td>\n",
       "      <td>0.0</td>\n",
       "    </tr>\n",
       "    <tr>\n",
       "      <th>5</th>\n",
       "      <td>0.5</td>\n",
       "      <td>0.0</td>\n",
       "    </tr>\n",
       "    <tr>\n",
       "      <th rowspan=\"6\" valign=\"top\">0.020</th>\n",
       "      <th>0</th>\n",
       "      <td>0.5</td>\n",
       "      <td>0.0</td>\n",
       "    </tr>\n",
       "    <tr>\n",
       "      <th>1</th>\n",
       "      <td>0.5</td>\n",
       "      <td>0.0</td>\n",
       "    </tr>\n",
       "    <tr>\n",
       "      <th>2</th>\n",
       "      <td>0.5</td>\n",
       "      <td>0.0</td>\n",
       "    </tr>\n",
       "    <tr>\n",
       "      <th>3</th>\n",
       "      <td>0.5</td>\n",
       "      <td>0.0</td>\n",
       "    </tr>\n",
       "    <tr>\n",
       "      <th>4</th>\n",
       "      <td>0.5</td>\n",
       "      <td>0.0</td>\n",
       "    </tr>\n",
       "    <tr>\n",
       "      <th>5</th>\n",
       "      <td>0.5</td>\n",
       "      <td>0.0</td>\n",
       "    </tr>\n",
       "    <tr>\n",
       "      <th rowspan=\"6\" valign=\"top\">0.050</th>\n",
       "      <th>0</th>\n",
       "      <td>0.5</td>\n",
       "      <td>0.0</td>\n",
       "    </tr>\n",
       "    <tr>\n",
       "      <th>1</th>\n",
       "      <td>0.5</td>\n",
       "      <td>0.0</td>\n",
       "    </tr>\n",
       "    <tr>\n",
       "      <th>2</th>\n",
       "      <td>0.5</td>\n",
       "      <td>0.0</td>\n",
       "    </tr>\n",
       "    <tr>\n",
       "      <th>3</th>\n",
       "      <td>0.5</td>\n",
       "      <td>0.0</td>\n",
       "    </tr>\n",
       "    <tr>\n",
       "      <th>4</th>\n",
       "      <td>0.5</td>\n",
       "      <td>0.0</td>\n",
       "    </tr>\n",
       "    <tr>\n",
       "      <th>5</th>\n",
       "      <td>0.5</td>\n",
       "      <td>0.0</td>\n",
       "    </tr>\n",
       "    <tr>\n",
       "      <th rowspan=\"6\" valign=\"top\">0.100</th>\n",
       "      <th>0</th>\n",
       "      <td>0.5</td>\n",
       "      <td>0.0</td>\n",
       "    </tr>\n",
       "    <tr>\n",
       "      <th>1</th>\n",
       "      <td>0.5</td>\n",
       "      <td>0.0</td>\n",
       "    </tr>\n",
       "    <tr>\n",
       "      <th>2</th>\n",
       "      <td>0.5</td>\n",
       "      <td>0.0</td>\n",
       "    </tr>\n",
       "    <tr>\n",
       "      <th>3</th>\n",
       "      <td>0.5</td>\n",
       "      <td>0.0</td>\n",
       "    </tr>\n",
       "    <tr>\n",
       "      <th>4</th>\n",
       "      <td>0.5</td>\n",
       "      <td>0.0</td>\n",
       "    </tr>\n",
       "    <tr>\n",
       "      <th>5</th>\n",
       "      <td>0.5</td>\n",
       "      <td>0.0</td>\n",
       "    </tr>\n",
       "    <tr>\n",
       "      <th rowspan=\"6\" valign=\"top\">0.200</th>\n",
       "      <th>0</th>\n",
       "      <td>0.5</td>\n",
       "      <td>0.0</td>\n",
       "    </tr>\n",
       "    <tr>\n",
       "      <th>1</th>\n",
       "      <td>0.5</td>\n",
       "      <td>0.0</td>\n",
       "    </tr>\n",
       "    <tr>\n",
       "      <th>2</th>\n",
       "      <td>0.5</td>\n",
       "      <td>0.0</td>\n",
       "    </tr>\n",
       "    <tr>\n",
       "      <th>3</th>\n",
       "      <td>0.5</td>\n",
       "      <td>0.0</td>\n",
       "    </tr>\n",
       "    <tr>\n",
       "      <th>4</th>\n",
       "      <td>0.5</td>\n",
       "      <td>0.0</td>\n",
       "    </tr>\n",
       "    <tr>\n",
       "      <th>5</th>\n",
       "      <td>0.5</td>\n",
       "      <td>0.0</td>\n",
       "    </tr>\n",
       "    <tr>\n",
       "      <th rowspan=\"6\" valign=\"top\">0.500</th>\n",
       "      <th>0</th>\n",
       "      <td>0.5</td>\n",
       "      <td>0.0</td>\n",
       "    </tr>\n",
       "    <tr>\n",
       "      <th>1</th>\n",
       "      <td>0.5</td>\n",
       "      <td>0.0</td>\n",
       "    </tr>\n",
       "    <tr>\n",
       "      <th>2</th>\n",
       "      <td>0.5</td>\n",
       "      <td>0.0</td>\n",
       "    </tr>\n",
       "    <tr>\n",
       "      <th>3</th>\n",
       "      <td>0.5</td>\n",
       "      <td>0.0</td>\n",
       "    </tr>\n",
       "    <tr>\n",
       "      <th>4</th>\n",
       "      <td>0.5</td>\n",
       "      <td>0.0</td>\n",
       "    </tr>\n",
       "    <tr>\n",
       "      <th>5</th>\n",
       "      <td>0.5</td>\n",
       "      <td>0.0</td>\n",
       "    </tr>\n",
       "  </tbody>\n",
       "</table>\n",
       "</div>"
      ],
      "text/plain": [
       "              mean  std\n",
       "delta column           \n",
       "0.001 0        0.5  0.0\n",
       "      1        0.5  0.0\n",
       "      2        0.5  0.0\n",
       "      3        0.5  0.0\n",
       "      4        0.5  0.0\n",
       "      5        0.5  0.0\n",
       "0.002 0        0.5  0.0\n",
       "      1        0.5  0.0\n",
       "      2        0.5  0.0\n",
       "      3        0.5  0.0\n",
       "      4        0.5  0.0\n",
       "      5        0.5  0.0\n",
       "0.005 0        0.5  0.0\n",
       "      1        0.5  0.0\n",
       "      2        0.5  0.0\n",
       "      3        0.5  0.0\n",
       "      4        0.5  0.0\n",
       "      5        0.5  0.0\n",
       "0.010 0        0.5  0.0\n",
       "      1        0.5  0.0\n",
       "      2        0.5  0.0\n",
       "      3        0.5  0.0\n",
       "      4        0.5  0.0\n",
       "      5        0.5  0.0\n",
       "0.020 0        0.5  0.0\n",
       "      1        0.5  0.0\n",
       "      2        0.5  0.0\n",
       "      3        0.5  0.0\n",
       "      4        0.5  0.0\n",
       "      5        0.5  0.0\n",
       "0.050 0        0.5  0.0\n",
       "      1        0.5  0.0\n",
       "      2        0.5  0.0\n",
       "      3        0.5  0.0\n",
       "      4        0.5  0.0\n",
       "      5        0.5  0.0\n",
       "0.100 0        0.5  0.0\n",
       "      1        0.5  0.0\n",
       "      2        0.5  0.0\n",
       "      3        0.5  0.0\n",
       "      4        0.5  0.0\n",
       "      5        0.5  0.0\n",
       "0.200 0        0.5  0.0\n",
       "      1        0.5  0.0\n",
       "      2        0.5  0.0\n",
       "      3        0.5  0.0\n",
       "      4        0.5  0.0\n",
       "      5        0.5  0.0\n",
       "0.500 0        0.5  0.0\n",
       "      1        0.5  0.0\n",
       "      2        0.5  0.0\n",
       "      3        0.5  0.0\n",
       "      4        0.5  0.0\n",
       "      5        0.5  0.0"
      ]
     },
     "execution_count": 60,
     "metadata": {},
     "output_type": "execute_result"
    }
   ],
   "source": [
    "res_adwin_tr_df.groupby(['delta', 'column'])['auc'].agg([np.mean, np.std])"
   ]
  },
  {
   "cell_type": "code",
   "execution_count": 61,
   "metadata": {},
   "outputs": [
    {
     "data": {
      "text/html": [
       "<div>\n",
       "<style scoped>\n",
       "    .dataframe tbody tr th:only-of-type {\n",
       "        vertical-align: middle;\n",
       "    }\n",
       "\n",
       "    .dataframe tbody tr th {\n",
       "        vertical-align: top;\n",
       "    }\n",
       "\n",
       "    .dataframe thead th {\n",
       "        text-align: right;\n",
       "    }\n",
       "</style>\n",
       "<table border=\"1\" class=\"dataframe\">\n",
       "  <thead>\n",
       "    <tr style=\"text-align: right;\">\n",
       "      <th></th>\n",
       "      <th></th>\n",
       "      <th>mean</th>\n",
       "      <th>std</th>\n",
       "    </tr>\n",
       "    <tr>\n",
       "      <th>delta</th>\n",
       "      <th>column</th>\n",
       "      <th></th>\n",
       "      <th></th>\n",
       "    </tr>\n",
       "  </thead>\n",
       "  <tbody>\n",
       "    <tr>\n",
       "      <th rowspan=\"6\" valign=\"top\">0.001</th>\n",
       "      <th>0</th>\n",
       "      <td>0.500000</td>\n",
       "      <td>0.0</td>\n",
       "    </tr>\n",
       "    <tr>\n",
       "      <th>1</th>\n",
       "      <td>0.500000</td>\n",
       "      <td>0.0</td>\n",
       "    </tr>\n",
       "    <tr>\n",
       "      <th>2</th>\n",
       "      <td>0.500000</td>\n",
       "      <td>0.0</td>\n",
       "    </tr>\n",
       "    <tr>\n",
       "      <th>3</th>\n",
       "      <td>0.500000</td>\n",
       "      <td>0.0</td>\n",
       "    </tr>\n",
       "    <tr>\n",
       "      <th>4</th>\n",
       "      <td>0.500000</td>\n",
       "      <td>0.0</td>\n",
       "    </tr>\n",
       "    <tr>\n",
       "      <th>5</th>\n",
       "      <td>0.500000</td>\n",
       "      <td>0.0</td>\n",
       "    </tr>\n",
       "    <tr>\n",
       "      <th rowspan=\"6\" valign=\"top\">0.002</th>\n",
       "      <th>0</th>\n",
       "      <td>0.500000</td>\n",
       "      <td>0.0</td>\n",
       "    </tr>\n",
       "    <tr>\n",
       "      <th>1</th>\n",
       "      <td>0.500000</td>\n",
       "      <td>0.0</td>\n",
       "    </tr>\n",
       "    <tr>\n",
       "      <th>2</th>\n",
       "      <td>0.500000</td>\n",
       "      <td>0.0</td>\n",
       "    </tr>\n",
       "    <tr>\n",
       "      <th>3</th>\n",
       "      <td>0.500000</td>\n",
       "      <td>0.0</td>\n",
       "    </tr>\n",
       "    <tr>\n",
       "      <th>4</th>\n",
       "      <td>0.500000</td>\n",
       "      <td>0.0</td>\n",
       "    </tr>\n",
       "    <tr>\n",
       "      <th>5</th>\n",
       "      <td>0.500000</td>\n",
       "      <td>0.0</td>\n",
       "    </tr>\n",
       "    <tr>\n",
       "      <th rowspan=\"6\" valign=\"top\">0.005</th>\n",
       "      <th>0</th>\n",
       "      <td>0.500000</td>\n",
       "      <td>0.0</td>\n",
       "    </tr>\n",
       "    <tr>\n",
       "      <th>1</th>\n",
       "      <td>0.500000</td>\n",
       "      <td>0.0</td>\n",
       "    </tr>\n",
       "    <tr>\n",
       "      <th>2</th>\n",
       "      <td>0.500000</td>\n",
       "      <td>0.0</td>\n",
       "    </tr>\n",
       "    <tr>\n",
       "      <th>3</th>\n",
       "      <td>0.500000</td>\n",
       "      <td>0.0</td>\n",
       "    </tr>\n",
       "    <tr>\n",
       "      <th>4</th>\n",
       "      <td>0.500000</td>\n",
       "      <td>0.0</td>\n",
       "    </tr>\n",
       "    <tr>\n",
       "      <th>5</th>\n",
       "      <td>0.500000</td>\n",
       "      <td>0.0</td>\n",
       "    </tr>\n",
       "    <tr>\n",
       "      <th rowspan=\"6\" valign=\"top\">0.010</th>\n",
       "      <th>0</th>\n",
       "      <td>0.500000</td>\n",
       "      <td>0.0</td>\n",
       "    </tr>\n",
       "    <tr>\n",
       "      <th>1</th>\n",
       "      <td>0.500000</td>\n",
       "      <td>0.0</td>\n",
       "    </tr>\n",
       "    <tr>\n",
       "      <th>2</th>\n",
       "      <td>0.500000</td>\n",
       "      <td>0.0</td>\n",
       "    </tr>\n",
       "    <tr>\n",
       "      <th>3</th>\n",
       "      <td>0.500000</td>\n",
       "      <td>0.0</td>\n",
       "    </tr>\n",
       "    <tr>\n",
       "      <th>4</th>\n",
       "      <td>0.500000</td>\n",
       "      <td>0.0</td>\n",
       "    </tr>\n",
       "    <tr>\n",
       "      <th>5</th>\n",
       "      <td>0.500000</td>\n",
       "      <td>0.0</td>\n",
       "    </tr>\n",
       "    <tr>\n",
       "      <th rowspan=\"6\" valign=\"top\">0.020</th>\n",
       "      <th>0</th>\n",
       "      <td>0.500000</td>\n",
       "      <td>0.0</td>\n",
       "    </tr>\n",
       "    <tr>\n",
       "      <th>1</th>\n",
       "      <td>0.500000</td>\n",
       "      <td>0.0</td>\n",
       "    </tr>\n",
       "    <tr>\n",
       "      <th>2</th>\n",
       "      <td>0.499422</td>\n",
       "      <td>0.0</td>\n",
       "    </tr>\n",
       "    <tr>\n",
       "      <th>3</th>\n",
       "      <td>0.500000</td>\n",
       "      <td>0.0</td>\n",
       "    </tr>\n",
       "    <tr>\n",
       "      <th>4</th>\n",
       "      <td>0.500000</td>\n",
       "      <td>0.0</td>\n",
       "    </tr>\n",
       "    <tr>\n",
       "      <th>5</th>\n",
       "      <td>0.500000</td>\n",
       "      <td>0.0</td>\n",
       "    </tr>\n",
       "    <tr>\n",
       "      <th rowspan=\"6\" valign=\"top\">0.050</th>\n",
       "      <th>0</th>\n",
       "      <td>0.500000</td>\n",
       "      <td>0.0</td>\n",
       "    </tr>\n",
       "    <tr>\n",
       "      <th>1</th>\n",
       "      <td>0.500000</td>\n",
       "      <td>0.0</td>\n",
       "    </tr>\n",
       "    <tr>\n",
       "      <th>2</th>\n",
       "      <td>0.498844</td>\n",
       "      <td>0.0</td>\n",
       "    </tr>\n",
       "    <tr>\n",
       "      <th>3</th>\n",
       "      <td>0.500000</td>\n",
       "      <td>0.0</td>\n",
       "    </tr>\n",
       "    <tr>\n",
       "      <th>4</th>\n",
       "      <td>0.500000</td>\n",
       "      <td>0.0</td>\n",
       "    </tr>\n",
       "    <tr>\n",
       "      <th>5</th>\n",
       "      <td>0.500000</td>\n",
       "      <td>0.0</td>\n",
       "    </tr>\n",
       "    <tr>\n",
       "      <th rowspan=\"6\" valign=\"top\">0.100</th>\n",
       "      <th>0</th>\n",
       "      <td>0.500000</td>\n",
       "      <td>0.0</td>\n",
       "    </tr>\n",
       "    <tr>\n",
       "      <th>1</th>\n",
       "      <td>0.500000</td>\n",
       "      <td>0.0</td>\n",
       "    </tr>\n",
       "    <tr>\n",
       "      <th>2</th>\n",
       "      <td>0.498266</td>\n",
       "      <td>0.0</td>\n",
       "    </tr>\n",
       "    <tr>\n",
       "      <th>3</th>\n",
       "      <td>0.500000</td>\n",
       "      <td>0.0</td>\n",
       "    </tr>\n",
       "    <tr>\n",
       "      <th>4</th>\n",
       "      <td>0.500000</td>\n",
       "      <td>0.0</td>\n",
       "    </tr>\n",
       "    <tr>\n",
       "      <th>5</th>\n",
       "      <td>0.500000</td>\n",
       "      <td>0.0</td>\n",
       "    </tr>\n",
       "    <tr>\n",
       "      <th rowspan=\"6\" valign=\"top\">0.200</th>\n",
       "      <th>0</th>\n",
       "      <td>0.500000</td>\n",
       "      <td>0.0</td>\n",
       "    </tr>\n",
       "    <tr>\n",
       "      <th>1</th>\n",
       "      <td>0.500000</td>\n",
       "      <td>0.0</td>\n",
       "    </tr>\n",
       "    <tr>\n",
       "      <th>2</th>\n",
       "      <td>0.498266</td>\n",
       "      <td>0.0</td>\n",
       "    </tr>\n",
       "    <tr>\n",
       "      <th>3</th>\n",
       "      <td>0.500000</td>\n",
       "      <td>0.0</td>\n",
       "    </tr>\n",
       "    <tr>\n",
       "      <th>4</th>\n",
       "      <td>0.500000</td>\n",
       "      <td>0.0</td>\n",
       "    </tr>\n",
       "    <tr>\n",
       "      <th>5</th>\n",
       "      <td>0.500000</td>\n",
       "      <td>0.0</td>\n",
       "    </tr>\n",
       "    <tr>\n",
       "      <th rowspan=\"6\" valign=\"top\">0.500</th>\n",
       "      <th>0</th>\n",
       "      <td>0.500000</td>\n",
       "      <td>0.0</td>\n",
       "    </tr>\n",
       "    <tr>\n",
       "      <th>1</th>\n",
       "      <td>0.500000</td>\n",
       "      <td>0.0</td>\n",
       "    </tr>\n",
       "    <tr>\n",
       "      <th>2</th>\n",
       "      <td>0.498266</td>\n",
       "      <td>0.0</td>\n",
       "    </tr>\n",
       "    <tr>\n",
       "      <th>3</th>\n",
       "      <td>0.500000</td>\n",
       "      <td>0.0</td>\n",
       "    </tr>\n",
       "    <tr>\n",
       "      <th>4</th>\n",
       "      <td>0.499422</td>\n",
       "      <td>0.0</td>\n",
       "    </tr>\n",
       "    <tr>\n",
       "      <th>5</th>\n",
       "      <td>0.500000</td>\n",
       "      <td>0.0</td>\n",
       "    </tr>\n",
       "  </tbody>\n",
       "</table>\n",
       "</div>"
      ],
      "text/plain": [
       "                  mean  std\n",
       "delta column               \n",
       "0.001 0       0.500000  0.0\n",
       "      1       0.500000  0.0\n",
       "      2       0.500000  0.0\n",
       "      3       0.500000  0.0\n",
       "      4       0.500000  0.0\n",
       "      5       0.500000  0.0\n",
       "0.002 0       0.500000  0.0\n",
       "      1       0.500000  0.0\n",
       "      2       0.500000  0.0\n",
       "      3       0.500000  0.0\n",
       "      4       0.500000  0.0\n",
       "      5       0.500000  0.0\n",
       "0.005 0       0.500000  0.0\n",
       "      1       0.500000  0.0\n",
       "      2       0.500000  0.0\n",
       "      3       0.500000  0.0\n",
       "      4       0.500000  0.0\n",
       "      5       0.500000  0.0\n",
       "0.010 0       0.500000  0.0\n",
       "      1       0.500000  0.0\n",
       "      2       0.500000  0.0\n",
       "      3       0.500000  0.0\n",
       "      4       0.500000  0.0\n",
       "      5       0.500000  0.0\n",
       "0.020 0       0.500000  0.0\n",
       "      1       0.500000  0.0\n",
       "      2       0.499422  0.0\n",
       "      3       0.500000  0.0\n",
       "      4       0.500000  0.0\n",
       "      5       0.500000  0.0\n",
       "0.050 0       0.500000  0.0\n",
       "      1       0.500000  0.0\n",
       "      2       0.498844  0.0\n",
       "      3       0.500000  0.0\n",
       "      4       0.500000  0.0\n",
       "      5       0.500000  0.0\n",
       "0.100 0       0.500000  0.0\n",
       "      1       0.500000  0.0\n",
       "      2       0.498266  0.0\n",
       "      3       0.500000  0.0\n",
       "      4       0.500000  0.0\n",
       "      5       0.500000  0.0\n",
       "0.200 0       0.500000  0.0\n",
       "      1       0.500000  0.0\n",
       "      2       0.498266  0.0\n",
       "      3       0.500000  0.0\n",
       "      4       0.500000  0.0\n",
       "      5       0.500000  0.0\n",
       "0.500 0       0.500000  0.0\n",
       "      1       0.500000  0.0\n",
       "      2       0.498266  0.0\n",
       "      3       0.500000  0.0\n",
       "      4       0.499422  0.0\n",
       "      5       0.500000  0.0"
      ]
     },
     "execution_count": 61,
     "metadata": {},
     "output_type": "execute_result"
    }
   ],
   "source": [
    " res_adwin_te_df.groupby(['delta', 'column'])['auc'].agg([np.mean, np.std])"
   ]
  },
  {
   "cell_type": "code",
   "execution_count": null,
   "metadata": {},
   "outputs": [],
   "source": []
  },
  {
   "cell_type": "markdown",
   "metadata": {},
   "source": [
    "# KSWIN"
   ]
  },
  {
   "cell_type": "code",
   "execution_count": 77,
   "metadata": {},
   "outputs": [
    {
     "name": "stderr",
     "output_type": "stream",
     "text": [
      "/Users/shi-fukushima/.pyenv/versions/anaconda3-5.3.1/lib/python3.7/site-packages/scipy/stats/stats.py:6716: RuntimeWarning: ks_2samp: Exact calculation unsuccessful. Switching to mode=asymp.\n",
      "  f\"Switching to mode={mode}.\", RuntimeWarning)\n"
     ]
    }
   ],
   "source": [
    "alpha_list_kswin = [0.001, 0.005, 0.01]\n",
    "window_size_list_kswin = [20, 30]\n",
    "stat_size_list_kswin = [10, 15]\n",
    "\n",
    "res_kswin_tr = []\n",
    "res_kswin_te = []\n",
    "\n",
    "for n in range(n_trial):\n",
    "    for i, alpha in enumerate(alpha_list_kswin):\n",
    "        for j, window_size in enumerate(window_size_list_kswin):\n",
    "            for k, stat_size in enumerate(stat_size_list_kswin):\n",
    "                for l in range(X.shape[1]):\n",
    "                    kswin = KSWIN(alpha=alpha, window_size=window_size, stat_size=stat_size)\n",
    "                    score_list_kswin_l = []\n",
    "                    for t, x in enumerate(X[:, l]):\n",
    "                        kswin.add_element(x)\n",
    "\n",
    "                        #if kswin.detected_change():\n",
    "                        #    score = 1.0\n",
    "                        #else:\n",
    "                        #    score = 0.0\n",
    "                        currentLength = kswin.window.shape[0]\n",
    "                        if currentLength >= kswin.window_size:\n",
    "                            window = np.delete(kswin.window, 0)\n",
    "                            rnd_window = np.random.choice(kswin.window[:stat_size], stat_size)\n",
    "\n",
    "                            (st, p_value) = ks_2samp(rnd_window, kswin.window[-stat_size:], mode=\"exact\")\n",
    "\n",
    "                            score = 1.0 - p_value\n",
    "                        else:\n",
    "                            score = 0.0\n",
    "\n",
    "                        score_list_kswin_l.append(score)\n",
    "\n",
    "                    fpr_tr, tpr_tr, thresholds_tr = roc_curve(y[1000:2000], score_list_kswin_l[1000:2000], pos_label=1)\n",
    "                    res_kswin_tr.append([n, alpha, window_size, stat_size, l, auc(fpr_tr, tpr_tr)])\n",
    "\n",
    "                    fpr_te, tpr_te, thresholds_te = roc_curve(y[2000:], score_list_kswin_l[2000:], pos_label=1)\n",
    "                    res_kswin_te.append([n, alpha, window_size, stat_size, l, auc(fpr_te, tpr_te)])\n"
   ]
  },
  {
   "cell_type": "code",
   "execution_count": 78,
   "metadata": {},
   "outputs": [],
   "source": [
    "res_kswin_tr_df = pd.DataFrame(res_kswin_tr, columns=['n', 'alpha', 'window_size', 'stat_size', 'column', 'auc'])\n",
    "res_kswin_te_df = pd.DataFrame(res_kswin_te, columns=['n', 'alpha', 'window_size', 'stat_size', 'column', 'auc'])"
   ]
  },
  {
   "cell_type": "code",
   "execution_count": 79,
   "metadata": {},
   "outputs": [
    {
     "data": {
      "text/html": [
       "<div>\n",
       "<style scoped>\n",
       "    .dataframe tbody tr th:only-of-type {\n",
       "        vertical-align: middle;\n",
       "    }\n",
       "\n",
       "    .dataframe tbody tr th {\n",
       "        vertical-align: top;\n",
       "    }\n",
       "\n",
       "    .dataframe thead th {\n",
       "        text-align: right;\n",
       "    }\n",
       "</style>\n",
       "<table border=\"1\" class=\"dataframe\">\n",
       "  <thead>\n",
       "    <tr style=\"text-align: right;\">\n",
       "      <th></th>\n",
       "      <th></th>\n",
       "      <th></th>\n",
       "      <th></th>\n",
       "      <th>mean</th>\n",
       "      <th>std</th>\n",
       "    </tr>\n",
       "    <tr>\n",
       "      <th>alpha</th>\n",
       "      <th>window_size</th>\n",
       "      <th>stat_size</th>\n",
       "      <th>column</th>\n",
       "      <th></th>\n",
       "      <th></th>\n",
       "    </tr>\n",
       "  </thead>\n",
       "  <tbody>\n",
       "    <tr>\n",
       "      <th rowspan=\"24\" valign=\"top\">0.001</th>\n",
       "      <th rowspan=\"12\" valign=\"top\">20</th>\n",
       "      <th rowspan=\"6\" valign=\"top\">10</th>\n",
       "      <th>0</th>\n",
       "      <td>0.534113</td>\n",
       "      <td>0.040815</td>\n",
       "    </tr>\n",
       "    <tr>\n",
       "      <th>1</th>\n",
       "      <td>0.510292</td>\n",
       "      <td>0.052772</td>\n",
       "    </tr>\n",
       "    <tr>\n",
       "      <th>2</th>\n",
       "      <td>0.568628</td>\n",
       "      <td>0.048726</td>\n",
       "    </tr>\n",
       "    <tr>\n",
       "      <th>3</th>\n",
       "      <td>0.488611</td>\n",
       "      <td>0.031393</td>\n",
       "    </tr>\n",
       "    <tr>\n",
       "      <th>4</th>\n",
       "      <td>0.559121</td>\n",
       "      <td>0.045193</td>\n",
       "    </tr>\n",
       "    <tr>\n",
       "      <th>5</th>\n",
       "      <td>0.471902</td>\n",
       "      <td>0.023649</td>\n",
       "    </tr>\n",
       "    <tr>\n",
       "      <th rowspan=\"6\" valign=\"top\">15</th>\n",
       "      <th>0</th>\n",
       "      <td>0.503239</td>\n",
       "      <td>0.059311</td>\n",
       "    </tr>\n",
       "    <tr>\n",
       "      <th>1</th>\n",
       "      <td>0.469978</td>\n",
       "      <td>0.039367</td>\n",
       "    </tr>\n",
       "    <tr>\n",
       "      <th>2</th>\n",
       "      <td>0.495334</td>\n",
       "      <td>0.048592</td>\n",
       "    </tr>\n",
       "    <tr>\n",
       "      <th>3</th>\n",
       "      <td>0.559739</td>\n",
       "      <td>0.041085</td>\n",
       "    </tr>\n",
       "    <tr>\n",
       "      <th>4</th>\n",
       "      <td>0.526808</td>\n",
       "      <td>0.037046</td>\n",
       "    </tr>\n",
       "    <tr>\n",
       "      <th>5</th>\n",
       "      <td>0.523733</td>\n",
       "      <td>0.049732</td>\n",
       "    </tr>\n",
       "    <tr>\n",
       "      <th rowspan=\"12\" valign=\"top\">30</th>\n",
       "      <th rowspan=\"6\" valign=\"top\">10</th>\n",
       "      <th>0</th>\n",
       "      <td>0.503661</td>\n",
       "      <td>0.048855</td>\n",
       "    </tr>\n",
       "    <tr>\n",
       "      <th>1</th>\n",
       "      <td>0.465681</td>\n",
       "      <td>0.037944</td>\n",
       "    </tr>\n",
       "    <tr>\n",
       "      <th>2</th>\n",
       "      <td>0.537143</td>\n",
       "      <td>0.050454</td>\n",
       "    </tr>\n",
       "    <tr>\n",
       "      <th>3</th>\n",
       "      <td>0.493547</td>\n",
       "      <td>0.033391</td>\n",
       "    </tr>\n",
       "    <tr>\n",
       "      <th>4</th>\n",
       "      <td>0.552115</td>\n",
       "      <td>0.051359</td>\n",
       "    </tr>\n",
       "    <tr>\n",
       "      <th>5</th>\n",
       "      <td>0.470002</td>\n",
       "      <td>0.049144</td>\n",
       "    </tr>\n",
       "    <tr>\n",
       "      <th rowspan=\"6\" valign=\"top\">15</th>\n",
       "      <th>0</th>\n",
       "      <td>0.481874</td>\n",
       "      <td>0.060754</td>\n",
       "    </tr>\n",
       "    <tr>\n",
       "      <th>1</th>\n",
       "      <td>0.518587</td>\n",
       "      <td>0.058008</td>\n",
       "    </tr>\n",
       "    <tr>\n",
       "      <th>2</th>\n",
       "      <td>0.507010</td>\n",
       "      <td>0.029319</td>\n",
       "    </tr>\n",
       "    <tr>\n",
       "      <th>3</th>\n",
       "      <td>0.474339</td>\n",
       "      <td>0.017063</td>\n",
       "    </tr>\n",
       "    <tr>\n",
       "      <th>4</th>\n",
       "      <td>0.575589</td>\n",
       "      <td>0.057637</td>\n",
       "    </tr>\n",
       "    <tr>\n",
       "      <th>5</th>\n",
       "      <td>0.504780</td>\n",
       "      <td>0.047125</td>\n",
       "    </tr>\n",
       "    <tr>\n",
       "      <th rowspan=\"24\" valign=\"top\">0.005</th>\n",
       "      <th rowspan=\"12\" valign=\"top\">20</th>\n",
       "      <th rowspan=\"6\" valign=\"top\">10</th>\n",
       "      <th>0</th>\n",
       "      <td>0.497141</td>\n",
       "      <td>0.018213</td>\n",
       "    </tr>\n",
       "    <tr>\n",
       "      <th>1</th>\n",
       "      <td>0.484506</td>\n",
       "      <td>0.033330</td>\n",
       "    </tr>\n",
       "    <tr>\n",
       "      <th>2</th>\n",
       "      <td>0.579104</td>\n",
       "      <td>0.039545</td>\n",
       "    </tr>\n",
       "    <tr>\n",
       "      <th>3</th>\n",
       "      <td>0.461973</td>\n",
       "      <td>0.036033</td>\n",
       "    </tr>\n",
       "    <tr>\n",
       "      <th>4</th>\n",
       "      <td>0.511570</td>\n",
       "      <td>0.025917</td>\n",
       "    </tr>\n",
       "    <tr>\n",
       "      <th>5</th>\n",
       "      <td>0.499592</td>\n",
       "      <td>0.020548</td>\n",
       "    </tr>\n",
       "    <tr>\n",
       "      <th rowspan=\"6\" valign=\"top\">15</th>\n",
       "      <th>0</th>\n",
       "      <td>0.472556</td>\n",
       "      <td>0.024968</td>\n",
       "    </tr>\n",
       "    <tr>\n",
       "      <th>1</th>\n",
       "      <td>0.456636</td>\n",
       "      <td>0.036576</td>\n",
       "    </tr>\n",
       "    <tr>\n",
       "      <th>2</th>\n",
       "      <td>0.469037</td>\n",
       "      <td>0.053224</td>\n",
       "    </tr>\n",
       "    <tr>\n",
       "      <th>3</th>\n",
       "      <td>0.509738</td>\n",
       "      <td>0.045540</td>\n",
       "    </tr>\n",
       "    <tr>\n",
       "      <th>4</th>\n",
       "      <td>0.461902</td>\n",
       "      <td>0.024732</td>\n",
       "    </tr>\n",
       "    <tr>\n",
       "      <th>5</th>\n",
       "      <td>0.510167</td>\n",
       "      <td>0.032224</td>\n",
       "    </tr>\n",
       "    <tr>\n",
       "      <th rowspan=\"12\" valign=\"top\">30</th>\n",
       "      <th rowspan=\"6\" valign=\"top\">10</th>\n",
       "      <th>0</th>\n",
       "      <td>0.555158</td>\n",
       "      <td>0.083038</td>\n",
       "    </tr>\n",
       "    <tr>\n",
       "      <th>1</th>\n",
       "      <td>0.491026</td>\n",
       "      <td>0.036092</td>\n",
       "    </tr>\n",
       "    <tr>\n",
       "      <th>2</th>\n",
       "      <td>0.508207</td>\n",
       "      <td>0.019807</td>\n",
       "    </tr>\n",
       "    <tr>\n",
       "      <th>3</th>\n",
       "      <td>0.474800</td>\n",
       "      <td>0.028152</td>\n",
       "    </tr>\n",
       "    <tr>\n",
       "      <th>4</th>\n",
       "      <td>0.535339</td>\n",
       "      <td>0.050766</td>\n",
       "    </tr>\n",
       "    <tr>\n",
       "      <th>5</th>\n",
       "      <td>0.475450</td>\n",
       "      <td>0.057139</td>\n",
       "    </tr>\n",
       "    <tr>\n",
       "      <th rowspan=\"6\" valign=\"top\">15</th>\n",
       "      <th>0</th>\n",
       "      <td>0.515757</td>\n",
       "      <td>0.035614</td>\n",
       "    </tr>\n",
       "    <tr>\n",
       "      <th>1</th>\n",
       "      <td>0.546862</td>\n",
       "      <td>0.038337</td>\n",
       "    </tr>\n",
       "    <tr>\n",
       "      <th>2</th>\n",
       "      <td>0.448610</td>\n",
       "      <td>0.061129</td>\n",
       "    </tr>\n",
       "    <tr>\n",
       "      <th>3</th>\n",
       "      <td>0.525988</td>\n",
       "      <td>0.040867</td>\n",
       "    </tr>\n",
       "    <tr>\n",
       "      <th>4</th>\n",
       "      <td>0.534792</td>\n",
       "      <td>0.046407</td>\n",
       "    </tr>\n",
       "    <tr>\n",
       "      <th>5</th>\n",
       "      <td>0.470571</td>\n",
       "      <td>0.048415</td>\n",
       "    </tr>\n",
       "    <tr>\n",
       "      <th rowspan=\"24\" valign=\"top\">0.010</th>\n",
       "      <th rowspan=\"12\" valign=\"top\">20</th>\n",
       "      <th rowspan=\"6\" valign=\"top\">10</th>\n",
       "      <th>0</th>\n",
       "      <td>0.467293</td>\n",
       "      <td>0.051539</td>\n",
       "    </tr>\n",
       "    <tr>\n",
       "      <th>1</th>\n",
       "      <td>0.494385</td>\n",
       "      <td>0.039827</td>\n",
       "    </tr>\n",
       "    <tr>\n",
       "      <th>2</th>\n",
       "      <td>0.592383</td>\n",
       "      <td>0.033532</td>\n",
       "    </tr>\n",
       "    <tr>\n",
       "      <th>3</th>\n",
       "      <td>0.432583</td>\n",
       "      <td>0.028087</td>\n",
       "    </tr>\n",
       "    <tr>\n",
       "      <th>4</th>\n",
       "      <td>0.543716</td>\n",
       "      <td>0.031564</td>\n",
       "    </tr>\n",
       "    <tr>\n",
       "      <th>5</th>\n",
       "      <td>0.532114</td>\n",
       "      <td>0.030439</td>\n",
       "    </tr>\n",
       "    <tr>\n",
       "      <th rowspan=\"6\" valign=\"top\">15</th>\n",
       "      <th>0</th>\n",
       "      <td>0.503217</td>\n",
       "      <td>0.039884</td>\n",
       "    </tr>\n",
       "    <tr>\n",
       "      <th>1</th>\n",
       "      <td>0.432753</td>\n",
       "      <td>0.038739</td>\n",
       "    </tr>\n",
       "    <tr>\n",
       "      <th>2</th>\n",
       "      <td>0.518985</td>\n",
       "      <td>0.029682</td>\n",
       "    </tr>\n",
       "    <tr>\n",
       "      <th>3</th>\n",
       "      <td>0.451419</td>\n",
       "      <td>0.014137</td>\n",
       "    </tr>\n",
       "    <tr>\n",
       "      <th>4</th>\n",
       "      <td>0.449149</td>\n",
       "      <td>0.035467</td>\n",
       "    </tr>\n",
       "    <tr>\n",
       "      <th>5</th>\n",
       "      <td>0.484406</td>\n",
       "      <td>0.059146</td>\n",
       "    </tr>\n",
       "    <tr>\n",
       "      <th rowspan=\"12\" valign=\"top\">30</th>\n",
       "      <th rowspan=\"6\" valign=\"top\">10</th>\n",
       "      <th>0</th>\n",
       "      <td>0.550875</td>\n",
       "      <td>0.050043</td>\n",
       "    </tr>\n",
       "    <tr>\n",
       "      <th>1</th>\n",
       "      <td>0.476036</td>\n",
       "      <td>0.057008</td>\n",
       "    </tr>\n",
       "    <tr>\n",
       "      <th>2</th>\n",
       "      <td>0.515459</td>\n",
       "      <td>0.057334</td>\n",
       "    </tr>\n",
       "    <tr>\n",
       "      <th>3</th>\n",
       "      <td>0.483796</td>\n",
       "      <td>0.079748</td>\n",
       "    </tr>\n",
       "    <tr>\n",
       "      <th>4</th>\n",
       "      <td>0.556604</td>\n",
       "      <td>0.043793</td>\n",
       "    </tr>\n",
       "    <tr>\n",
       "      <th>5</th>\n",
       "      <td>0.526031</td>\n",
       "      <td>0.018985</td>\n",
       "    </tr>\n",
       "    <tr>\n",
       "      <th rowspan=\"6\" valign=\"top\">15</th>\n",
       "      <th>0</th>\n",
       "      <td>0.494680</td>\n",
       "      <td>0.038269</td>\n",
       "    </tr>\n",
       "    <tr>\n",
       "      <th>1</th>\n",
       "      <td>0.500174</td>\n",
       "      <td>0.040041</td>\n",
       "    </tr>\n",
       "    <tr>\n",
       "      <th>2</th>\n",
       "      <td>0.470926</td>\n",
       "      <td>0.022660</td>\n",
       "    </tr>\n",
       "    <tr>\n",
       "      <th>3</th>\n",
       "      <td>0.477975</td>\n",
       "      <td>0.028123</td>\n",
       "    </tr>\n",
       "    <tr>\n",
       "      <th>4</th>\n",
       "      <td>0.513782</td>\n",
       "      <td>0.059392</td>\n",
       "    </tr>\n",
       "    <tr>\n",
       "      <th>5</th>\n",
       "      <td>0.471906</td>\n",
       "      <td>0.039275</td>\n",
       "    </tr>\n",
       "  </tbody>\n",
       "</table>\n",
       "</div>"
      ],
      "text/plain": [
       "                                        mean       std\n",
       "alpha window_size stat_size column                    \n",
       "0.001 20          10        0       0.534113  0.040815\n",
       "                            1       0.510292  0.052772\n",
       "                            2       0.568628  0.048726\n",
       "                            3       0.488611  0.031393\n",
       "                            4       0.559121  0.045193\n",
       "                            5       0.471902  0.023649\n",
       "                  15        0       0.503239  0.059311\n",
       "                            1       0.469978  0.039367\n",
       "                            2       0.495334  0.048592\n",
       "                            3       0.559739  0.041085\n",
       "                            4       0.526808  0.037046\n",
       "                            5       0.523733  0.049732\n",
       "      30          10        0       0.503661  0.048855\n",
       "                            1       0.465681  0.037944\n",
       "                            2       0.537143  0.050454\n",
       "                            3       0.493547  0.033391\n",
       "                            4       0.552115  0.051359\n",
       "                            5       0.470002  0.049144\n",
       "                  15        0       0.481874  0.060754\n",
       "                            1       0.518587  0.058008\n",
       "                            2       0.507010  0.029319\n",
       "                            3       0.474339  0.017063\n",
       "                            4       0.575589  0.057637\n",
       "                            5       0.504780  0.047125\n",
       "0.005 20          10        0       0.497141  0.018213\n",
       "                            1       0.484506  0.033330\n",
       "                            2       0.579104  0.039545\n",
       "                            3       0.461973  0.036033\n",
       "                            4       0.511570  0.025917\n",
       "                            5       0.499592  0.020548\n",
       "                  15        0       0.472556  0.024968\n",
       "                            1       0.456636  0.036576\n",
       "                            2       0.469037  0.053224\n",
       "                            3       0.509738  0.045540\n",
       "                            4       0.461902  0.024732\n",
       "                            5       0.510167  0.032224\n",
       "      30          10        0       0.555158  0.083038\n",
       "                            1       0.491026  0.036092\n",
       "                            2       0.508207  0.019807\n",
       "                            3       0.474800  0.028152\n",
       "                            4       0.535339  0.050766\n",
       "                            5       0.475450  0.057139\n",
       "                  15        0       0.515757  0.035614\n",
       "                            1       0.546862  0.038337\n",
       "                            2       0.448610  0.061129\n",
       "                            3       0.525988  0.040867\n",
       "                            4       0.534792  0.046407\n",
       "                            5       0.470571  0.048415\n",
       "0.010 20          10        0       0.467293  0.051539\n",
       "                            1       0.494385  0.039827\n",
       "                            2       0.592383  0.033532\n",
       "                            3       0.432583  0.028087\n",
       "                            4       0.543716  0.031564\n",
       "                            5       0.532114  0.030439\n",
       "                  15        0       0.503217  0.039884\n",
       "                            1       0.432753  0.038739\n",
       "                            2       0.518985  0.029682\n",
       "                            3       0.451419  0.014137\n",
       "                            4       0.449149  0.035467\n",
       "                            5       0.484406  0.059146\n",
       "      30          10        0       0.550875  0.050043\n",
       "                            1       0.476036  0.057008\n",
       "                            2       0.515459  0.057334\n",
       "                            3       0.483796  0.079748\n",
       "                            4       0.556604  0.043793\n",
       "                            5       0.526031  0.018985\n",
       "                  15        0       0.494680  0.038269\n",
       "                            1       0.500174  0.040041\n",
       "                            2       0.470926  0.022660\n",
       "                            3       0.477975  0.028123\n",
       "                            4       0.513782  0.059392\n",
       "                            5       0.471906  0.039275"
      ]
     },
     "execution_count": 79,
     "metadata": {},
     "output_type": "execute_result"
    }
   ],
   "source": [
    "res_kswin_tr_df.groupby(['alpha', 'window_size', 'stat_size', 'column'])['auc'].agg([np.mean, np.std])"
   ]
  },
  {
   "cell_type": "code",
   "execution_count": 80,
   "metadata": {},
   "outputs": [
    {
     "data": {
      "text/html": [
       "<div>\n",
       "<style scoped>\n",
       "    .dataframe tbody tr th:only-of-type {\n",
       "        vertical-align: middle;\n",
       "    }\n",
       "\n",
       "    .dataframe tbody tr th {\n",
       "        vertical-align: top;\n",
       "    }\n",
       "\n",
       "    .dataframe thead th {\n",
       "        text-align: right;\n",
       "    }\n",
       "</style>\n",
       "<table border=\"1\" class=\"dataframe\">\n",
       "  <thead>\n",
       "    <tr style=\"text-align: right;\">\n",
       "      <th></th>\n",
       "      <th></th>\n",
       "      <th></th>\n",
       "      <th></th>\n",
       "      <th>mean</th>\n",
       "      <th>std</th>\n",
       "    </tr>\n",
       "    <tr>\n",
       "      <th>alpha</th>\n",
       "      <th>window_size</th>\n",
       "      <th>stat_size</th>\n",
       "      <th>column</th>\n",
       "      <th></th>\n",
       "      <th></th>\n",
       "    </tr>\n",
       "  </thead>\n",
       "  <tbody>\n",
       "    <tr>\n",
       "      <th rowspan=\"24\" valign=\"top\">0.001</th>\n",
       "      <th rowspan=\"12\" valign=\"top\">20</th>\n",
       "      <th rowspan=\"6\" valign=\"top\">10</th>\n",
       "      <th>0</th>\n",
       "      <td>0.520969</td>\n",
       "      <td>0.033720</td>\n",
       "    </tr>\n",
       "    <tr>\n",
       "      <th>1</th>\n",
       "      <td>0.500143</td>\n",
       "      <td>0.037388</td>\n",
       "    </tr>\n",
       "    <tr>\n",
       "      <th>2</th>\n",
       "      <td>0.555856</td>\n",
       "      <td>0.047606</td>\n",
       "    </tr>\n",
       "    <tr>\n",
       "      <th>3</th>\n",
       "      <td>0.523409</td>\n",
       "      <td>0.029056</td>\n",
       "    </tr>\n",
       "    <tr>\n",
       "      <th>4</th>\n",
       "      <td>0.437704</td>\n",
       "      <td>0.008493</td>\n",
       "    </tr>\n",
       "    <tr>\n",
       "      <th>5</th>\n",
       "      <td>0.472476</td>\n",
       "      <td>0.024862</td>\n",
       "    </tr>\n",
       "    <tr>\n",
       "      <th rowspan=\"6\" valign=\"top\">15</th>\n",
       "      <th>0</th>\n",
       "      <td>0.587091</td>\n",
       "      <td>0.040594</td>\n",
       "    </tr>\n",
       "    <tr>\n",
       "      <th>1</th>\n",
       "      <td>0.489449</td>\n",
       "      <td>0.043997</td>\n",
       "    </tr>\n",
       "    <tr>\n",
       "      <th>2</th>\n",
       "      <td>0.515343</td>\n",
       "      <td>0.034511</td>\n",
       "    </tr>\n",
       "    <tr>\n",
       "      <th>3</th>\n",
       "      <td>0.460795</td>\n",
       "      <td>0.041547</td>\n",
       "    </tr>\n",
       "    <tr>\n",
       "      <th>4</th>\n",
       "      <td>0.533915</td>\n",
       "      <td>0.043799</td>\n",
       "    </tr>\n",
       "    <tr>\n",
       "      <th>5</th>\n",
       "      <td>0.435021</td>\n",
       "      <td>0.033643</td>\n",
       "    </tr>\n",
       "    <tr>\n",
       "      <th rowspan=\"12\" valign=\"top\">30</th>\n",
       "      <th rowspan=\"6\" valign=\"top\">10</th>\n",
       "      <th>0</th>\n",
       "      <td>0.498797</td>\n",
       "      <td>0.018793</td>\n",
       "    </tr>\n",
       "    <tr>\n",
       "      <th>1</th>\n",
       "      <td>0.491314</td>\n",
       "      <td>0.025475</td>\n",
       "    </tr>\n",
       "    <tr>\n",
       "      <th>2</th>\n",
       "      <td>0.520211</td>\n",
       "      <td>0.018186</td>\n",
       "    </tr>\n",
       "    <tr>\n",
       "      <th>3</th>\n",
       "      <td>0.518665</td>\n",
       "      <td>0.021470</td>\n",
       "    </tr>\n",
       "    <tr>\n",
       "      <th>4</th>\n",
       "      <td>0.527348</td>\n",
       "      <td>0.051081</td>\n",
       "    </tr>\n",
       "    <tr>\n",
       "      <th>5</th>\n",
       "      <td>0.487122</td>\n",
       "      <td>0.053573</td>\n",
       "    </tr>\n",
       "    <tr>\n",
       "      <th rowspan=\"6\" valign=\"top\">15</th>\n",
       "      <th>0</th>\n",
       "      <td>0.493292</td>\n",
       "      <td>0.035221</td>\n",
       "    </tr>\n",
       "    <tr>\n",
       "      <th>1</th>\n",
       "      <td>0.492399</td>\n",
       "      <td>0.019877</td>\n",
       "    </tr>\n",
       "    <tr>\n",
       "      <th>2</th>\n",
       "      <td>0.487040</td>\n",
       "      <td>0.047119</td>\n",
       "    </tr>\n",
       "    <tr>\n",
       "      <th>3</th>\n",
       "      <td>0.539682</td>\n",
       "      <td>0.042421</td>\n",
       "    </tr>\n",
       "    <tr>\n",
       "      <th>4</th>\n",
       "      <td>0.570729</td>\n",
       "      <td>0.042988</td>\n",
       "    </tr>\n",
       "    <tr>\n",
       "      <th>5</th>\n",
       "      <td>0.494511</td>\n",
       "      <td>0.038813</td>\n",
       "    </tr>\n",
       "    <tr>\n",
       "      <th rowspan=\"24\" valign=\"top\">0.005</th>\n",
       "      <th rowspan=\"12\" valign=\"top\">20</th>\n",
       "      <th rowspan=\"6\" valign=\"top\">10</th>\n",
       "      <th>0</th>\n",
       "      <td>0.511635</td>\n",
       "      <td>0.040369</td>\n",
       "    </tr>\n",
       "    <tr>\n",
       "      <th>1</th>\n",
       "      <td>0.478591</td>\n",
       "      <td>0.053934</td>\n",
       "    </tr>\n",
       "    <tr>\n",
       "      <th>2</th>\n",
       "      <td>0.477691</td>\n",
       "      <td>0.026958</td>\n",
       "    </tr>\n",
       "    <tr>\n",
       "      <th>3</th>\n",
       "      <td>0.493472</td>\n",
       "      <td>0.051708</td>\n",
       "    </tr>\n",
       "    <tr>\n",
       "      <th>4</th>\n",
       "      <td>0.469375</td>\n",
       "      <td>0.048335</td>\n",
       "    </tr>\n",
       "    <tr>\n",
       "      <th>5</th>\n",
       "      <td>0.448739</td>\n",
       "      <td>0.036615</td>\n",
       "    </tr>\n",
       "    <tr>\n",
       "      <th rowspan=\"6\" valign=\"top\">15</th>\n",
       "      <th>0</th>\n",
       "      <td>0.544605</td>\n",
       "      <td>0.044966</td>\n",
       "    </tr>\n",
       "    <tr>\n",
       "      <th>1</th>\n",
       "      <td>0.506109</td>\n",
       "      <td>0.062590</td>\n",
       "    </tr>\n",
       "    <tr>\n",
       "      <th>2</th>\n",
       "      <td>0.501541</td>\n",
       "      <td>0.020093</td>\n",
       "    </tr>\n",
       "    <tr>\n",
       "      <th>3</th>\n",
       "      <td>0.432128</td>\n",
       "      <td>0.023474</td>\n",
       "    </tr>\n",
       "    <tr>\n",
       "      <th>4</th>\n",
       "      <td>0.503585</td>\n",
       "      <td>0.036830</td>\n",
       "    </tr>\n",
       "    <tr>\n",
       "      <th>5</th>\n",
       "      <td>0.450628</td>\n",
       "      <td>0.021123</td>\n",
       "    </tr>\n",
       "    <tr>\n",
       "      <th rowspan=\"12\" valign=\"top\">30</th>\n",
       "      <th rowspan=\"6\" valign=\"top\">10</th>\n",
       "      <th>0</th>\n",
       "      <td>0.511514</td>\n",
       "      <td>0.037019</td>\n",
       "    </tr>\n",
       "    <tr>\n",
       "      <th>1</th>\n",
       "      <td>0.495014</td>\n",
       "      <td>0.021458</td>\n",
       "    </tr>\n",
       "    <tr>\n",
       "      <th>2</th>\n",
       "      <td>0.507865</td>\n",
       "      <td>0.028080</td>\n",
       "    </tr>\n",
       "    <tr>\n",
       "      <th>3</th>\n",
       "      <td>0.495714</td>\n",
       "      <td>0.042622</td>\n",
       "    </tr>\n",
       "    <tr>\n",
       "      <th>4</th>\n",
       "      <td>0.531546</td>\n",
       "      <td>0.049167</td>\n",
       "    </tr>\n",
       "    <tr>\n",
       "      <th>5</th>\n",
       "      <td>0.499361</td>\n",
       "      <td>0.020646</td>\n",
       "    </tr>\n",
       "    <tr>\n",
       "      <th rowspan=\"6\" valign=\"top\">15</th>\n",
       "      <th>0</th>\n",
       "      <td>0.541091</td>\n",
       "      <td>0.019455</td>\n",
       "    </tr>\n",
       "    <tr>\n",
       "      <th>1</th>\n",
       "      <td>0.523708</td>\n",
       "      <td>0.027709</td>\n",
       "    </tr>\n",
       "    <tr>\n",
       "      <th>2</th>\n",
       "      <td>0.478732</td>\n",
       "      <td>0.049755</td>\n",
       "    </tr>\n",
       "    <tr>\n",
       "      <th>3</th>\n",
       "      <td>0.553465</td>\n",
       "      <td>0.036441</td>\n",
       "    </tr>\n",
       "    <tr>\n",
       "      <th>4</th>\n",
       "      <td>0.530143</td>\n",
       "      <td>0.043978</td>\n",
       "    </tr>\n",
       "    <tr>\n",
       "      <th>5</th>\n",
       "      <td>0.510798</td>\n",
       "      <td>0.032737</td>\n",
       "    </tr>\n",
       "    <tr>\n",
       "      <th rowspan=\"24\" valign=\"top\">0.010</th>\n",
       "      <th rowspan=\"12\" valign=\"top\">20</th>\n",
       "      <th rowspan=\"6\" valign=\"top\">10</th>\n",
       "      <th>0</th>\n",
       "      <td>0.531400</td>\n",
       "      <td>0.046314</td>\n",
       "    </tr>\n",
       "    <tr>\n",
       "      <th>1</th>\n",
       "      <td>0.472987</td>\n",
       "      <td>0.018647</td>\n",
       "    </tr>\n",
       "    <tr>\n",
       "      <th>2</th>\n",
       "      <td>0.514601</td>\n",
       "      <td>0.054717</td>\n",
       "    </tr>\n",
       "    <tr>\n",
       "      <th>3</th>\n",
       "      <td>0.539399</td>\n",
       "      <td>0.029239</td>\n",
       "    </tr>\n",
       "    <tr>\n",
       "      <th>4</th>\n",
       "      <td>0.486971</td>\n",
       "      <td>0.032342</td>\n",
       "    </tr>\n",
       "    <tr>\n",
       "      <th>5</th>\n",
       "      <td>0.478211</td>\n",
       "      <td>0.041717</td>\n",
       "    </tr>\n",
       "    <tr>\n",
       "      <th rowspan=\"6\" valign=\"top\">15</th>\n",
       "      <th>0</th>\n",
       "      <td>0.518756</td>\n",
       "      <td>0.013294</td>\n",
       "    </tr>\n",
       "    <tr>\n",
       "      <th>1</th>\n",
       "      <td>0.492074</td>\n",
       "      <td>0.035372</td>\n",
       "    </tr>\n",
       "    <tr>\n",
       "      <th>2</th>\n",
       "      <td>0.508998</td>\n",
       "      <td>0.056419</td>\n",
       "    </tr>\n",
       "    <tr>\n",
       "      <th>3</th>\n",
       "      <td>0.425934</td>\n",
       "      <td>0.027806</td>\n",
       "    </tr>\n",
       "    <tr>\n",
       "      <th>4</th>\n",
       "      <td>0.545984</td>\n",
       "      <td>0.018132</td>\n",
       "    </tr>\n",
       "    <tr>\n",
       "      <th>5</th>\n",
       "      <td>0.442086</td>\n",
       "      <td>0.050869</td>\n",
       "    </tr>\n",
       "    <tr>\n",
       "      <th rowspan=\"12\" valign=\"top\">30</th>\n",
       "      <th rowspan=\"6\" valign=\"top\">10</th>\n",
       "      <th>0</th>\n",
       "      <td>0.540131</td>\n",
       "      <td>0.052947</td>\n",
       "    </tr>\n",
       "    <tr>\n",
       "      <th>1</th>\n",
       "      <td>0.513904</td>\n",
       "      <td>0.047920</td>\n",
       "    </tr>\n",
       "    <tr>\n",
       "      <th>2</th>\n",
       "      <td>0.489390</td>\n",
       "      <td>0.069478</td>\n",
       "    </tr>\n",
       "    <tr>\n",
       "      <th>3</th>\n",
       "      <td>0.510194</td>\n",
       "      <td>0.043236</td>\n",
       "    </tr>\n",
       "    <tr>\n",
       "      <th>4</th>\n",
       "      <td>0.538274</td>\n",
       "      <td>0.041935</td>\n",
       "    </tr>\n",
       "    <tr>\n",
       "      <th>5</th>\n",
       "      <td>0.455629</td>\n",
       "      <td>0.041344</td>\n",
       "    </tr>\n",
       "    <tr>\n",
       "      <th rowspan=\"6\" valign=\"top\">15</th>\n",
       "      <th>0</th>\n",
       "      <td>0.562885</td>\n",
       "      <td>0.037128</td>\n",
       "    </tr>\n",
       "    <tr>\n",
       "      <th>1</th>\n",
       "      <td>0.491402</td>\n",
       "      <td>0.051567</td>\n",
       "    </tr>\n",
       "    <tr>\n",
       "      <th>2</th>\n",
       "      <td>0.464088</td>\n",
       "      <td>0.040533</td>\n",
       "    </tr>\n",
       "    <tr>\n",
       "      <th>3</th>\n",
       "      <td>0.576943</td>\n",
       "      <td>0.025685</td>\n",
       "    </tr>\n",
       "    <tr>\n",
       "      <th>4</th>\n",
       "      <td>0.555517</td>\n",
       "      <td>0.046731</td>\n",
       "    </tr>\n",
       "    <tr>\n",
       "      <th>5</th>\n",
       "      <td>0.477915</td>\n",
       "      <td>0.039658</td>\n",
       "    </tr>\n",
       "  </tbody>\n",
       "</table>\n",
       "</div>"
      ],
      "text/plain": [
       "                                        mean       std\n",
       "alpha window_size stat_size column                    \n",
       "0.001 20          10        0       0.520969  0.033720\n",
       "                            1       0.500143  0.037388\n",
       "                            2       0.555856  0.047606\n",
       "                            3       0.523409  0.029056\n",
       "                            4       0.437704  0.008493\n",
       "                            5       0.472476  0.024862\n",
       "                  15        0       0.587091  0.040594\n",
       "                            1       0.489449  0.043997\n",
       "                            2       0.515343  0.034511\n",
       "                            3       0.460795  0.041547\n",
       "                            4       0.533915  0.043799\n",
       "                            5       0.435021  0.033643\n",
       "      30          10        0       0.498797  0.018793\n",
       "                            1       0.491314  0.025475\n",
       "                            2       0.520211  0.018186\n",
       "                            3       0.518665  0.021470\n",
       "                            4       0.527348  0.051081\n",
       "                            5       0.487122  0.053573\n",
       "                  15        0       0.493292  0.035221\n",
       "                            1       0.492399  0.019877\n",
       "                            2       0.487040  0.047119\n",
       "                            3       0.539682  0.042421\n",
       "                            4       0.570729  0.042988\n",
       "                            5       0.494511  0.038813\n",
       "0.005 20          10        0       0.511635  0.040369\n",
       "                            1       0.478591  0.053934\n",
       "                            2       0.477691  0.026958\n",
       "                            3       0.493472  0.051708\n",
       "                            4       0.469375  0.048335\n",
       "                            5       0.448739  0.036615\n",
       "                  15        0       0.544605  0.044966\n",
       "                            1       0.506109  0.062590\n",
       "                            2       0.501541  0.020093\n",
       "                            3       0.432128  0.023474\n",
       "                            4       0.503585  0.036830\n",
       "                            5       0.450628  0.021123\n",
       "      30          10        0       0.511514  0.037019\n",
       "                            1       0.495014  0.021458\n",
       "                            2       0.507865  0.028080\n",
       "                            3       0.495714  0.042622\n",
       "                            4       0.531546  0.049167\n",
       "                            5       0.499361  0.020646\n",
       "                  15        0       0.541091  0.019455\n",
       "                            1       0.523708  0.027709\n",
       "                            2       0.478732  0.049755\n",
       "                            3       0.553465  0.036441\n",
       "                            4       0.530143  0.043978\n",
       "                            5       0.510798  0.032737\n",
       "0.010 20          10        0       0.531400  0.046314\n",
       "                            1       0.472987  0.018647\n",
       "                            2       0.514601  0.054717\n",
       "                            3       0.539399  0.029239\n",
       "                            4       0.486971  0.032342\n",
       "                            5       0.478211  0.041717\n",
       "                  15        0       0.518756  0.013294\n",
       "                            1       0.492074  0.035372\n",
       "                            2       0.508998  0.056419\n",
       "                            3       0.425934  0.027806\n",
       "                            4       0.545984  0.018132\n",
       "                            5       0.442086  0.050869\n",
       "      30          10        0       0.540131  0.052947\n",
       "                            1       0.513904  0.047920\n",
       "                            2       0.489390  0.069478\n",
       "                            3       0.510194  0.043236\n",
       "                            4       0.538274  0.041935\n",
       "                            5       0.455629  0.041344\n",
       "                  15        0       0.562885  0.037128\n",
       "                            1       0.491402  0.051567\n",
       "                            2       0.464088  0.040533\n",
       "                            3       0.576943  0.025685\n",
       "                            4       0.555517  0.046731\n",
       "                            5       0.477915  0.039658"
      ]
     },
     "execution_count": 80,
     "metadata": {},
     "output_type": "execute_result"
    }
   ],
   "source": [
    "res_kswin_te_df.groupby(['alpha', 'window_size', 'stat_size', 'column'])['auc'].agg([np.mean, np.std])"
   ]
  },
  {
   "cell_type": "markdown",
   "metadata": {},
   "source": [
    "# PH"
   ]
  },
  {
   "cell_type": "code",
   "execution_count": 81,
   "metadata": {},
   "outputs": [],
   "source": [
    "n_trial = 5\n",
    "\n",
    "#threshold_list_ph = [10, 20, 30, 40, 50, 60, 70, 80, 90, 100]\n",
    "threshold_list_ph = [0.01, 0.05, 0.1, 0.5, 1.0, 5.0, 10.0]\n",
    "alpha_list_ph = [0.1, 0.3, 0.5, 0.7, 0.9, 0.95, 0.99, 0.999]\n",
    "\n",
    "res_ph_tr = []\n",
    "res_ph_te = []\n",
    "\n",
    "for n in range(n_trial):\n",
    "    for i, threshold in enumerate(threshold_list_ph):\n",
    "        #for j, alpha in enumerate(alpha_list_ph):\n",
    "        auc_all = []\n",
    "        for k in range(X.shape[1]):\n",
    "            ph = PageHinkley()\n",
    "            score_list_ph_k = []\n",
    "            for t, x in enumerate(X[:, k]):\n",
    "                ph.add_element(x)\n",
    "                score_t = ph.sum - threshold\n",
    "                score_list_ph_k.append(score_t)\n",
    "\n",
    "            fpr_tr, tpr_tr, thresholds_tr = roc_curve(y[1000:2000], score_list_ph_k[1000:2000], pos_label=1)\n",
    "            res_ph_tr.append([n, threshold, k, auc(fpr_tr, tpr_tr)])\n",
    "\n",
    "            fpr_te, tpr_te, thresholds_te = roc_curve(y[2000:], score_list_ph_k[2000:], pos_label=1)\n",
    "            res_ph_te.append([n, threshold, k, auc(fpr_te, tpr_te)])"
   ]
  },
  {
   "cell_type": "code",
   "execution_count": 82,
   "metadata": {},
   "outputs": [],
   "source": [
    "res_ph_tr_df = pd.DataFrame(res_ph_tr, columns=['n', 'threshold', 'k', 'auc'])\n",
    "res_ph_te_df = pd.DataFrame(res_ph_te, columns=['n', 'threshold', 'k', 'auc'])"
   ]
  },
  {
   "cell_type": "code",
   "execution_count": 83,
   "metadata": {},
   "outputs": [
    {
     "data": {
      "text/html": [
       "<div>\n",
       "<style scoped>\n",
       "    .dataframe tbody tr th:only-of-type {\n",
       "        vertical-align: middle;\n",
       "    }\n",
       "\n",
       "    .dataframe tbody tr th {\n",
       "        vertical-align: top;\n",
       "    }\n",
       "\n",
       "    .dataframe thead th {\n",
       "        text-align: right;\n",
       "    }\n",
       "</style>\n",
       "<table border=\"1\" class=\"dataframe\">\n",
       "  <thead>\n",
       "    <tr style=\"text-align: right;\">\n",
       "      <th></th>\n",
       "      <th></th>\n",
       "      <th>mean</th>\n",
       "      <th>std</th>\n",
       "    </tr>\n",
       "    <tr>\n",
       "      <th>threshold</th>\n",
       "      <th>k</th>\n",
       "      <th></th>\n",
       "      <th></th>\n",
       "    </tr>\n",
       "  </thead>\n",
       "  <tbody>\n",
       "    <tr>\n",
       "      <th rowspan=\"6\" valign=\"top\">0.01</th>\n",
       "      <th>0</th>\n",
       "      <td>0.430768</td>\n",
       "      <td>0.0</td>\n",
       "    </tr>\n",
       "    <tr>\n",
       "      <th>1</th>\n",
       "      <td>0.617209</td>\n",
       "      <td>0.0</td>\n",
       "    </tr>\n",
       "    <tr>\n",
       "      <th>2</th>\n",
       "      <td>0.422991</td>\n",
       "      <td>0.0</td>\n",
       "    </tr>\n",
       "    <tr>\n",
       "      <th>3</th>\n",
       "      <td>0.407756</td>\n",
       "      <td>0.0</td>\n",
       "    </tr>\n",
       "    <tr>\n",
       "      <th>4</th>\n",
       "      <td>0.538442</td>\n",
       "      <td>0.0</td>\n",
       "    </tr>\n",
       "    <tr>\n",
       "      <th>5</th>\n",
       "      <td>0.359530</td>\n",
       "      <td>0.0</td>\n",
       "    </tr>\n",
       "    <tr>\n",
       "      <th rowspan=\"6\" valign=\"top\">0.05</th>\n",
       "      <th>0</th>\n",
       "      <td>0.430768</td>\n",
       "      <td>0.0</td>\n",
       "    </tr>\n",
       "    <tr>\n",
       "      <th>1</th>\n",
       "      <td>0.617209</td>\n",
       "      <td>0.0</td>\n",
       "    </tr>\n",
       "    <tr>\n",
       "      <th>2</th>\n",
       "      <td>0.422991</td>\n",
       "      <td>0.0</td>\n",
       "    </tr>\n",
       "    <tr>\n",
       "      <th>3</th>\n",
       "      <td>0.407756</td>\n",
       "      <td>0.0</td>\n",
       "    </tr>\n",
       "    <tr>\n",
       "      <th>4</th>\n",
       "      <td>0.538442</td>\n",
       "      <td>0.0</td>\n",
       "    </tr>\n",
       "    <tr>\n",
       "      <th>5</th>\n",
       "      <td>0.359530</td>\n",
       "      <td>0.0</td>\n",
       "    </tr>\n",
       "    <tr>\n",
       "      <th rowspan=\"6\" valign=\"top\">0.10</th>\n",
       "      <th>0</th>\n",
       "      <td>0.430768</td>\n",
       "      <td>0.0</td>\n",
       "    </tr>\n",
       "    <tr>\n",
       "      <th>1</th>\n",
       "      <td>0.617209</td>\n",
       "      <td>0.0</td>\n",
       "    </tr>\n",
       "    <tr>\n",
       "      <th>2</th>\n",
       "      <td>0.422991</td>\n",
       "      <td>0.0</td>\n",
       "    </tr>\n",
       "    <tr>\n",
       "      <th>3</th>\n",
       "      <td>0.407756</td>\n",
       "      <td>0.0</td>\n",
       "    </tr>\n",
       "    <tr>\n",
       "      <th>4</th>\n",
       "      <td>0.538442</td>\n",
       "      <td>0.0</td>\n",
       "    </tr>\n",
       "    <tr>\n",
       "      <th>5</th>\n",
       "      <td>0.359530</td>\n",
       "      <td>0.0</td>\n",
       "    </tr>\n",
       "    <tr>\n",
       "      <th rowspan=\"6\" valign=\"top\">0.50</th>\n",
       "      <th>0</th>\n",
       "      <td>0.430768</td>\n",
       "      <td>0.0</td>\n",
       "    </tr>\n",
       "    <tr>\n",
       "      <th>1</th>\n",
       "      <td>0.617209</td>\n",
       "      <td>0.0</td>\n",
       "    </tr>\n",
       "    <tr>\n",
       "      <th>2</th>\n",
       "      <td>0.422991</td>\n",
       "      <td>0.0</td>\n",
       "    </tr>\n",
       "    <tr>\n",
       "      <th>3</th>\n",
       "      <td>0.407756</td>\n",
       "      <td>0.0</td>\n",
       "    </tr>\n",
       "    <tr>\n",
       "      <th>4</th>\n",
       "      <td>0.538442</td>\n",
       "      <td>0.0</td>\n",
       "    </tr>\n",
       "    <tr>\n",
       "      <th>5</th>\n",
       "      <td>0.359530</td>\n",
       "      <td>0.0</td>\n",
       "    </tr>\n",
       "    <tr>\n",
       "      <th rowspan=\"6\" valign=\"top\">1.00</th>\n",
       "      <th>0</th>\n",
       "      <td>0.430768</td>\n",
       "      <td>0.0</td>\n",
       "    </tr>\n",
       "    <tr>\n",
       "      <th>1</th>\n",
       "      <td>0.617209</td>\n",
       "      <td>0.0</td>\n",
       "    </tr>\n",
       "    <tr>\n",
       "      <th>2</th>\n",
       "      <td>0.422991</td>\n",
       "      <td>0.0</td>\n",
       "    </tr>\n",
       "    <tr>\n",
       "      <th>3</th>\n",
       "      <td>0.407756</td>\n",
       "      <td>0.0</td>\n",
       "    </tr>\n",
       "    <tr>\n",
       "      <th>4</th>\n",
       "      <td>0.538442</td>\n",
       "      <td>0.0</td>\n",
       "    </tr>\n",
       "    <tr>\n",
       "      <th>5</th>\n",
       "      <td>0.359530</td>\n",
       "      <td>0.0</td>\n",
       "    </tr>\n",
       "    <tr>\n",
       "      <th rowspan=\"6\" valign=\"top\">5.00</th>\n",
       "      <th>0</th>\n",
       "      <td>0.430768</td>\n",
       "      <td>0.0</td>\n",
       "    </tr>\n",
       "    <tr>\n",
       "      <th>1</th>\n",
       "      <td>0.617209</td>\n",
       "      <td>0.0</td>\n",
       "    </tr>\n",
       "    <tr>\n",
       "      <th>2</th>\n",
       "      <td>0.422991</td>\n",
       "      <td>0.0</td>\n",
       "    </tr>\n",
       "    <tr>\n",
       "      <th>3</th>\n",
       "      <td>0.407756</td>\n",
       "      <td>0.0</td>\n",
       "    </tr>\n",
       "    <tr>\n",
       "      <th>4</th>\n",
       "      <td>0.538442</td>\n",
       "      <td>0.0</td>\n",
       "    </tr>\n",
       "    <tr>\n",
       "      <th>5</th>\n",
       "      <td>0.359530</td>\n",
       "      <td>0.0</td>\n",
       "    </tr>\n",
       "    <tr>\n",
       "      <th rowspan=\"6\" valign=\"top\">10.00</th>\n",
       "      <th>0</th>\n",
       "      <td>0.430768</td>\n",
       "      <td>0.0</td>\n",
       "    </tr>\n",
       "    <tr>\n",
       "      <th>1</th>\n",
       "      <td>0.617209</td>\n",
       "      <td>0.0</td>\n",
       "    </tr>\n",
       "    <tr>\n",
       "      <th>2</th>\n",
       "      <td>0.422991</td>\n",
       "      <td>0.0</td>\n",
       "    </tr>\n",
       "    <tr>\n",
       "      <th>3</th>\n",
       "      <td>0.407756</td>\n",
       "      <td>0.0</td>\n",
       "    </tr>\n",
       "    <tr>\n",
       "      <th>4</th>\n",
       "      <td>0.538442</td>\n",
       "      <td>0.0</td>\n",
       "    </tr>\n",
       "    <tr>\n",
       "      <th>5</th>\n",
       "      <td>0.359530</td>\n",
       "      <td>0.0</td>\n",
       "    </tr>\n",
       "  </tbody>\n",
       "</table>\n",
       "</div>"
      ],
      "text/plain": [
       "                 mean  std\n",
       "threshold k               \n",
       "0.01      0  0.430768  0.0\n",
       "          1  0.617209  0.0\n",
       "          2  0.422991  0.0\n",
       "          3  0.407756  0.0\n",
       "          4  0.538442  0.0\n",
       "          5  0.359530  0.0\n",
       "0.05      0  0.430768  0.0\n",
       "          1  0.617209  0.0\n",
       "          2  0.422991  0.0\n",
       "          3  0.407756  0.0\n",
       "          4  0.538442  0.0\n",
       "          5  0.359530  0.0\n",
       "0.10      0  0.430768  0.0\n",
       "          1  0.617209  0.0\n",
       "          2  0.422991  0.0\n",
       "          3  0.407756  0.0\n",
       "          4  0.538442  0.0\n",
       "          5  0.359530  0.0\n",
       "0.50      0  0.430768  0.0\n",
       "          1  0.617209  0.0\n",
       "          2  0.422991  0.0\n",
       "          3  0.407756  0.0\n",
       "          4  0.538442  0.0\n",
       "          5  0.359530  0.0\n",
       "1.00      0  0.430768  0.0\n",
       "          1  0.617209  0.0\n",
       "          2  0.422991  0.0\n",
       "          3  0.407756  0.0\n",
       "          4  0.538442  0.0\n",
       "          5  0.359530  0.0\n",
       "5.00      0  0.430768  0.0\n",
       "          1  0.617209  0.0\n",
       "          2  0.422991  0.0\n",
       "          3  0.407756  0.0\n",
       "          4  0.538442  0.0\n",
       "          5  0.359530  0.0\n",
       "10.00     0  0.430768  0.0\n",
       "          1  0.617209  0.0\n",
       "          2  0.422991  0.0\n",
       "          3  0.407756  0.0\n",
       "          4  0.538442  0.0\n",
       "          5  0.359530  0.0"
      ]
     },
     "execution_count": 83,
     "metadata": {},
     "output_type": "execute_result"
    }
   ],
   "source": [
    "res_ph_tr_df.groupby(['threshold', 'k'])['auc'].agg([np.mean, np.std])"
   ]
  },
  {
   "cell_type": "code",
   "execution_count": 84,
   "metadata": {},
   "outputs": [
    {
     "data": {
      "text/html": [
       "<div>\n",
       "<style scoped>\n",
       "    .dataframe tbody tr th:only-of-type {\n",
       "        vertical-align: middle;\n",
       "    }\n",
       "\n",
       "    .dataframe tbody tr th {\n",
       "        vertical-align: top;\n",
       "    }\n",
       "\n",
       "    .dataframe thead th {\n",
       "        text-align: right;\n",
       "    }\n",
       "</style>\n",
       "<table border=\"1\" class=\"dataframe\">\n",
       "  <thead>\n",
       "    <tr style=\"text-align: right;\">\n",
       "      <th></th>\n",
       "      <th></th>\n",
       "      <th>mean</th>\n",
       "      <th>std</th>\n",
       "    </tr>\n",
       "    <tr>\n",
       "      <th>threshold</th>\n",
       "      <th>k</th>\n",
       "      <th></th>\n",
       "      <th></th>\n",
       "    </tr>\n",
       "  </thead>\n",
       "  <tbody>\n",
       "    <tr>\n",
       "      <th rowspan=\"6\" valign=\"top\">0.01</th>\n",
       "      <th>0</th>\n",
       "      <td>0.492995</td>\n",
       "      <td>0.0</td>\n",
       "    </tr>\n",
       "    <tr>\n",
       "      <th>1</th>\n",
       "      <td>0.708946</td>\n",
       "      <td>0.0</td>\n",
       "    </tr>\n",
       "    <tr>\n",
       "      <th>2</th>\n",
       "      <td>0.466488</td>\n",
       "      <td>0.0</td>\n",
       "    </tr>\n",
       "    <tr>\n",
       "      <th>3</th>\n",
       "      <td>0.471463</td>\n",
       "      <td>0.0</td>\n",
       "    </tr>\n",
       "    <tr>\n",
       "      <th>4</th>\n",
       "      <td>0.493353</td>\n",
       "      <td>0.0</td>\n",
       "    </tr>\n",
       "    <tr>\n",
       "      <th>5</th>\n",
       "      <td>0.398004</td>\n",
       "      <td>0.0</td>\n",
       "    </tr>\n",
       "    <tr>\n",
       "      <th rowspan=\"6\" valign=\"top\">0.05</th>\n",
       "      <th>0</th>\n",
       "      <td>0.492995</td>\n",
       "      <td>0.0</td>\n",
       "    </tr>\n",
       "    <tr>\n",
       "      <th>1</th>\n",
       "      <td>0.708946</td>\n",
       "      <td>0.0</td>\n",
       "    </tr>\n",
       "    <tr>\n",
       "      <th>2</th>\n",
       "      <td>0.466488</td>\n",
       "      <td>0.0</td>\n",
       "    </tr>\n",
       "    <tr>\n",
       "      <th>3</th>\n",
       "      <td>0.471463</td>\n",
       "      <td>0.0</td>\n",
       "    </tr>\n",
       "    <tr>\n",
       "      <th>4</th>\n",
       "      <td>0.493353</td>\n",
       "      <td>0.0</td>\n",
       "    </tr>\n",
       "    <tr>\n",
       "      <th>5</th>\n",
       "      <td>0.398004</td>\n",
       "      <td>0.0</td>\n",
       "    </tr>\n",
       "    <tr>\n",
       "      <th rowspan=\"6\" valign=\"top\">0.10</th>\n",
       "      <th>0</th>\n",
       "      <td>0.492995</td>\n",
       "      <td>0.0</td>\n",
       "    </tr>\n",
       "    <tr>\n",
       "      <th>1</th>\n",
       "      <td>0.708946</td>\n",
       "      <td>0.0</td>\n",
       "    </tr>\n",
       "    <tr>\n",
       "      <th>2</th>\n",
       "      <td>0.466488</td>\n",
       "      <td>0.0</td>\n",
       "    </tr>\n",
       "    <tr>\n",
       "      <th>3</th>\n",
       "      <td>0.471463</td>\n",
       "      <td>0.0</td>\n",
       "    </tr>\n",
       "    <tr>\n",
       "      <th>4</th>\n",
       "      <td>0.493353</td>\n",
       "      <td>0.0</td>\n",
       "    </tr>\n",
       "    <tr>\n",
       "      <th>5</th>\n",
       "      <td>0.398004</td>\n",
       "      <td>0.0</td>\n",
       "    </tr>\n",
       "    <tr>\n",
       "      <th rowspan=\"6\" valign=\"top\">0.50</th>\n",
       "      <th>0</th>\n",
       "      <td>0.492995</td>\n",
       "      <td>0.0</td>\n",
       "    </tr>\n",
       "    <tr>\n",
       "      <th>1</th>\n",
       "      <td>0.708946</td>\n",
       "      <td>0.0</td>\n",
       "    </tr>\n",
       "    <tr>\n",
       "      <th>2</th>\n",
       "      <td>0.466488</td>\n",
       "      <td>0.0</td>\n",
       "    </tr>\n",
       "    <tr>\n",
       "      <th>3</th>\n",
       "      <td>0.471463</td>\n",
       "      <td>0.0</td>\n",
       "    </tr>\n",
       "    <tr>\n",
       "      <th>4</th>\n",
       "      <td>0.493353</td>\n",
       "      <td>0.0</td>\n",
       "    </tr>\n",
       "    <tr>\n",
       "      <th>5</th>\n",
       "      <td>0.398004</td>\n",
       "      <td>0.0</td>\n",
       "    </tr>\n",
       "    <tr>\n",
       "      <th rowspan=\"6\" valign=\"top\">1.00</th>\n",
       "      <th>0</th>\n",
       "      <td>0.492995</td>\n",
       "      <td>0.0</td>\n",
       "    </tr>\n",
       "    <tr>\n",
       "      <th>1</th>\n",
       "      <td>0.708946</td>\n",
       "      <td>0.0</td>\n",
       "    </tr>\n",
       "    <tr>\n",
       "      <th>2</th>\n",
       "      <td>0.466488</td>\n",
       "      <td>0.0</td>\n",
       "    </tr>\n",
       "    <tr>\n",
       "      <th>3</th>\n",
       "      <td>0.471463</td>\n",
       "      <td>0.0</td>\n",
       "    </tr>\n",
       "    <tr>\n",
       "      <th>4</th>\n",
       "      <td>0.493353</td>\n",
       "      <td>0.0</td>\n",
       "    </tr>\n",
       "    <tr>\n",
       "      <th>5</th>\n",
       "      <td>0.398004</td>\n",
       "      <td>0.0</td>\n",
       "    </tr>\n",
       "    <tr>\n",
       "      <th rowspan=\"6\" valign=\"top\">5.00</th>\n",
       "      <th>0</th>\n",
       "      <td>0.492995</td>\n",
       "      <td>0.0</td>\n",
       "    </tr>\n",
       "    <tr>\n",
       "      <th>1</th>\n",
       "      <td>0.708946</td>\n",
       "      <td>0.0</td>\n",
       "    </tr>\n",
       "    <tr>\n",
       "      <th>2</th>\n",
       "      <td>0.466488</td>\n",
       "      <td>0.0</td>\n",
       "    </tr>\n",
       "    <tr>\n",
       "      <th>3</th>\n",
       "      <td>0.471463</td>\n",
       "      <td>0.0</td>\n",
       "    </tr>\n",
       "    <tr>\n",
       "      <th>4</th>\n",
       "      <td>0.493353</td>\n",
       "      <td>0.0</td>\n",
       "    </tr>\n",
       "    <tr>\n",
       "      <th>5</th>\n",
       "      <td>0.398004</td>\n",
       "      <td>0.0</td>\n",
       "    </tr>\n",
       "    <tr>\n",
       "      <th rowspan=\"6\" valign=\"top\">10.00</th>\n",
       "      <th>0</th>\n",
       "      <td>0.492995</td>\n",
       "      <td>0.0</td>\n",
       "    </tr>\n",
       "    <tr>\n",
       "      <th>1</th>\n",
       "      <td>0.708946</td>\n",
       "      <td>0.0</td>\n",
       "    </tr>\n",
       "    <tr>\n",
       "      <th>2</th>\n",
       "      <td>0.466488</td>\n",
       "      <td>0.0</td>\n",
       "    </tr>\n",
       "    <tr>\n",
       "      <th>3</th>\n",
       "      <td>0.471463</td>\n",
       "      <td>0.0</td>\n",
       "    </tr>\n",
       "    <tr>\n",
       "      <th>4</th>\n",
       "      <td>0.493353</td>\n",
       "      <td>0.0</td>\n",
       "    </tr>\n",
       "    <tr>\n",
       "      <th>5</th>\n",
       "      <td>0.398004</td>\n",
       "      <td>0.0</td>\n",
       "    </tr>\n",
       "  </tbody>\n",
       "</table>\n",
       "</div>"
      ],
      "text/plain": [
       "                 mean  std\n",
       "threshold k               \n",
       "0.01      0  0.492995  0.0\n",
       "          1  0.708946  0.0\n",
       "          2  0.466488  0.0\n",
       "          3  0.471463  0.0\n",
       "          4  0.493353  0.0\n",
       "          5  0.398004  0.0\n",
       "0.05      0  0.492995  0.0\n",
       "          1  0.708946  0.0\n",
       "          2  0.466488  0.0\n",
       "          3  0.471463  0.0\n",
       "          4  0.493353  0.0\n",
       "          5  0.398004  0.0\n",
       "0.10      0  0.492995  0.0\n",
       "          1  0.708946  0.0\n",
       "          2  0.466488  0.0\n",
       "          3  0.471463  0.0\n",
       "          4  0.493353  0.0\n",
       "          5  0.398004  0.0\n",
       "0.50      0  0.492995  0.0\n",
       "          1  0.708946  0.0\n",
       "          2  0.466488  0.0\n",
       "          3  0.471463  0.0\n",
       "          4  0.493353  0.0\n",
       "          5  0.398004  0.0\n",
       "1.00      0  0.492995  0.0\n",
       "          1  0.708946  0.0\n",
       "          2  0.466488  0.0\n",
       "          3  0.471463  0.0\n",
       "          4  0.493353  0.0\n",
       "          5  0.398004  0.0\n",
       "5.00      0  0.492995  0.0\n",
       "          1  0.708946  0.0\n",
       "          2  0.466488  0.0\n",
       "          3  0.471463  0.0\n",
       "          4  0.493353  0.0\n",
       "          5  0.398004  0.0\n",
       "10.00     0  0.492995  0.0\n",
       "          1  0.708946  0.0\n",
       "          2  0.466488  0.0\n",
       "          3  0.471463  0.0\n",
       "          4  0.493353  0.0\n",
       "          5  0.398004  0.0"
      ]
     },
     "execution_count": 84,
     "metadata": {},
     "output_type": "execute_result"
    }
   ],
   "source": [
    "res_ph_te_df.groupby(['threshold', 'k'])['auc'].agg([np.mean, np.std])"
   ]
  },
  {
   "cell_type": "code",
   "execution_count": null,
   "metadata": {},
   "outputs": [],
   "source": []
  }
 ],
 "metadata": {
  "kernelspec": {
   "display_name": "Python 3",
   "language": "python",
   "name": "python3"
  },
  "language_info": {
   "codemirror_mode": {
    "name": "ipython",
    "version": 3
   },
   "file_extension": ".py",
   "mimetype": "text/x-python",
   "name": "python",
   "nbconvert_exporter": "python",
   "pygments_lexer": "ipython3",
   "version": "3.7.2"
  }
 },
 "nbformat": 4,
 "nbformat_minor": 4
}
